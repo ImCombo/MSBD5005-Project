{
 "cells": [
  {
   "cell_type": "code",
   "execution_count": 1,
   "metadata": {},
   "outputs": [
    {
     "name": "stdout",
     "output_type": "stream",
     "text": [
      "C:\\Users\\user\\Documents\\UST\\BDT\\MSBD5005\\project\\data\n"
     ]
    }
   ],
   "source": [
    "%cd \"C:\\Users\\user\\Documents\\UST\\BDT\\MSBD5005\\project\\data\\\""
   ]
  },
  {
   "cell_type": "code",
   "execution_count": 2,
   "metadata": {},
   "outputs": [
    {
     "name": "stdout",
     "output_type": "stream",
     "text": [
      "Collecting git+https://github.com/JustAnotherArchivist/snscrape.git"
     ]
    },
    {
     "name": "stderr",
     "output_type": "stream",
     "text": [
      "  ERROR: Error [WinError 2] The system cannot find the file specified while executing command git version\n",
      "ERROR: Cannot find command 'git' - do you have 'git' installed and in your PATH?\n",
      "\n",
      "[notice] A new release of pip available: 22.2.2 -> 23.0.1\n",
      "[notice] To update, run: python.exe -m pip install --upgrade pip\n"
     ]
    },
    {
     "name": "stdout",
     "output_type": "stream",
     "text": [
      "\n",
      "  Cloning https://github.com/JustAnotherArchivist/snscrape.git to c:\\users\\user\\appdata\\local\\temp\\pip-req-build-fkakihti\n",
      "Requirement already satisfied: snscrape in c:\\users\\user\\appdata\\local\\programs\\python\\python310\\lib\\site-packages (0.6.2.20230320)\n",
      "Requirement already satisfied: beautifulsoup4 in c:\\users\\user\\appdata\\local\\programs\\python\\python310\\lib\\site-packages (from snscrape) (4.12.0)\n",
      "Requirement already satisfied: filelock in c:\\users\\user\\appdata\\local\\programs\\python\\python310\\lib\\site-packages (from snscrape) (3.10.0)\n",
      "Requirement already satisfied: lxml in c:\\users\\user\\appdata\\local\\programs\\python\\python310\\lib\\site-packages (from snscrape) (4.9.2)\n",
      "Requirement already satisfied: requests[socks] in c:\\users\\user\\appdata\\local\\programs\\python\\python310\\lib\\site-packages (from snscrape) (2.28.2)\n",
      "Requirement already satisfied: soupsieve>1.2 in c:\\users\\user\\appdata\\local\\programs\\python\\python310\\lib\\site-packages (from beautifulsoup4->snscrape) (2.4)\n",
      "Requirement already satisfied: idna<4,>=2.5 in c:\\users\\user\\appdata\\local\\programs\\python\\python310\\lib\\site-packages (from requests[socks]->snscrape) (3.4)\n",
      "Requirement already satisfied: charset-normalizer<4,>=2 in c:\\users\\user\\appdata\\local\\programs\\python\\python310\\lib\\site-packages (from requests[socks]->snscrape) (3.1.0)\n",
      "Requirement already satisfied: urllib3<1.27,>=1.21.1 in c:\\users\\user\\appdata\\local\\programs\\python\\python310\\lib\\site-packages (from requests[socks]->snscrape) (1.26.15)\n",
      "Requirement already satisfied: certifi>=2017.4.17 in c:\\users\\user\\appdata\\local\\programs\\python\\python310\\lib\\site-packages (from requests[socks]->snscrape) (2022.12.7)\n",
      "Requirement already satisfied: PySocks!=1.5.7,>=1.5.6 in c:\\users\\user\\appdata\\local\\programs\\python\\python310\\lib\\site-packages (from requests[socks]->snscrape) (1.7.1)\n"
     ]
    },
    {
     "name": "stderr",
     "output_type": "stream",
     "text": [
      "\n",
      "[notice] A new release of pip available: 22.2.2 -> 23.0.1\n",
      "[notice] To update, run: python.exe -m pip install --upgrade pip\n"
     ]
    },
    {
     "name": "stdout",
     "output_type": "stream",
     "text": [
      "Requirement already satisfied: wheel in c:\\users\\user\\appdata\\local\\programs\\python\\python310\\lib\\site-packages (0.40.0)\n"
     ]
    },
    {
     "name": "stderr",
     "output_type": "stream",
     "text": [
      "\n",
      "[notice] A new release of pip available: 22.2.2 -> 23.0.1\n",
      "[notice] To update, run: python.exe -m pip install --upgrade pip\n"
     ]
    },
    {
     "name": "stdout",
     "output_type": "stream",
     "text": [
      "Requirement already satisfied: pandas in c:\\users\\user\\appdata\\local\\programs\\python\\python310\\lib\\site-packages (1.5.3)\n",
      "Requirement already satisfied: python-dateutil>=2.8.1 in c:\\users\\user\\appdata\\roaming\\python\\python310\\site-packages (from pandas) (2.8.2)\n",
      "Requirement already satisfied: pytz>=2020.1 in c:\\users\\user\\appdata\\local\\programs\\python\\python310\\lib\\site-packages (from pandas) (2022.7.1)\n",
      "Requirement already satisfied: numpy>=1.21.0 in c:\\users\\user\\appdata\\local\\programs\\python\\python310\\lib\\site-packages (from pandas) (1.23.3)\n",
      "Requirement already satisfied: six>=1.5 in c:\\users\\user\\appdata\\local\\programs\\python\\python310\\lib\\site-packages (from python-dateutil>=2.8.1->pandas) (1.16.0)\n"
     ]
    },
    {
     "name": "stderr",
     "output_type": "stream",
     "text": [
      "\n",
      "[notice] A new release of pip available: 22.2.2 -> 23.0.1\n",
      "[notice] To update, run: python.exe -m pip install --upgrade pip\n"
     ]
    }
   ],
   "source": [
    "!pip3 install git+https://github.com/JustAnotherArchivist/snscrape.git\n",
    "!pip install snscrape\n",
    "!pip install wheel\n",
    "!pip install pandas"
   ]
  },
  {
   "cell_type": "code",
   "execution_count": 3,
   "metadata": {},
   "outputs": [],
   "source": [
    "import pickle\n",
    "import re\n",
    "import snscrape\n",
    "import pandas as pd\n",
    "import math\n",
    "from collections import Counter\n",
    "pd.set_option('display.width', 1000)\n",
    "pd.set_option('display.max_colwidth', 500)"
   ]
  },
  {
   "cell_type": "code",
   "execution_count": 4,
   "metadata": {},
   "outputs": [],
   "source": [
    "# file = './tweet_230201-230228.pkl'\n",
    "file = './tweet_combine_221130-230315.pkl'\n",
    "\n",
    "with open(file, 'rb') as f:\n",
    "    tweets_dict = pickle.load(f)"
   ]
  },
  {
   "cell_type": "code",
   "execution_count": 5,
   "metadata": {},
   "outputs": [
    {
     "name": "stdout",
     "output_type": "stream",
     "text": [
      "Counter({'United States': 8679, 'India': 2105, 'United Kingdom': 1745, 'Canada': 909, 'Australia': 658, 'Pakistan': 547, 'Germany': 368, 'Nigeria': 318, 'Kenya': 304, 'Spain': 265, 'United Arab Emirates': 233, 'The Netherlands': 225, 'France': 215, 'South Africa': 211, 'Ireland': 185, 'Malaysia': 170, 'Singapore': 170, 'Italy': 142, 'New Zealand': 129, 'Brazil': 128, 'Portugal': 111, 'Republic of the Philippines': 109, 'Switzerland': 105, 'Indonesia': 95, 'Thailand': 91, 'Israel': 77, 'Japan': 76, \"People's Republic of China\": 75, 'Belgium': 74, 'Bangladesh': 68, 'Sweden': 65, 'Ghana': 65, 'Finland': 64, 'Mexico': 62, 'Uganda': 61, 'Poland': 60, 'Turkey': 59, 'Norway': 58, 'Argentina': 57, 'Kingdom of Saudi Arabia': 54, 'Tanzania': 47, 'Hong Kong': 44, 'Denmark': 42, 'Sri Lanka': 40, 'Nepal': 37, 'Republic of Korea': 36, 'Republic of Croatia': 32, 'Taiwan': 31, 'Colombia': 30, 'Greece': 30, 'Lebanon': 30, 'Zambia': 27, 'Costa Rica': 27, 'Romania': 24, 'Hungary': 24, 'Malawi': 23, 'Ukraine': 22, 'Austria': 22, 'Republic of Serbia': 21, 'Egypt': 21, 'Zimbabwe': 20, 'Morocco': 20, 'Czech Republic': 18, 'Uruguay': 17, 'Qatar': 17, 'Montenegro': 17, 'Jamaica': 17, 'Russia': 16, 'Vietnam': 16, 'Chile': 13, 'Rwanda': 13, 'Bahrain': 13, 'Andorra': 12, 'Ecuador': 12, 'Malta': 12, 'Venezuela': 11, 'Botswana': 11, 'Cameroon': 11, 'Dominican Republic': 10, 'Trinidad and Tobago': 10, 'Iceland': 10, 'Senegal': 10, 'Namibia': 10, 'Armenia': 10, 'Benin': 9, 'Maldives': 9, 'Bermuda': 9, 'Tunisia': 9, 'Estonia': 8, 'Cyprus': 7, 'Panama': 7, 'Kuwait': 7, 'Georgia': 7, 'Albania': 6, 'Bhutan': 6, 'Cambodia': 6, 'Bahamas': 6, 'Hashemite Kingdom of Jordan': 6, 'Guatemala': 6, 'Peru': 6, 'Ivory Coast': 5, 'Barbados': 5, 'Ethiopia': 5, 'Former Yugoslav Republic of Macedonia': 5, 'Lithuania': 5, 'Uzbekistan': 5, 'Slovak Republic': 5, 'Fiji': 5, 'Bulgaria': 4, 'Oman': 4, 'Belize': 4, 'El Salvador': 4, 'Angola': 4, 'Bolivia': 4, 'Curaçao': 3, 'Somalia': 3, 'Mongolia': 3, 'Luxembourg': 3, 'Papua New Guinea': 3, 'Republic of Mauritius': 2, 'Afghanistan': 2, 'Brunei': 2, \"Lao People's Democratic Republic\": 2, 'Yemen': 2, 'Madagascar': 2, 'Libya': 2, 'Kosovo': 2, 'Latvia': 2, 'Republic of Slovenia': 2, 'Burundi': 2, 'Azerbaijan': 2, 'Suriname': 2, 'Lesotho': 2, 'French Polynesia': 2, 'Nicaragua': 2, 'South Sudan': 2, 'Algeria': 2, 'Honduras': 2, 'Chad': 1, 'Sierra Leone': 1, 'Bonaire, Sint Eustatius and Saba': 1, 'Guinea': 1, 'Cape Verde': 1, 'Monaco': 1, 'Bosnia and Herzegovina': 1, 'Cayman Islands': 1, 'Faroe Islands': 1, 'Aruba': 1, 'Sudan': 1, 'Myanmar': 1, 'Equatorial Guinea': 1, 'La Réunion': 1, 'Liberia': 1, '': 1, 'New Caledonia': 1, 'Gibraltar': 1, 'Gambia': 1, 'Swaziland': 1, 'Guernsey': 1, 'Seychelles': 1, 'Democratic Republic of Congo': 1, 'Iraq': 1, 'Djibouti': 1, 'Kazakhstan': 1, 'East Timor': 1})\n",
      "Counter({'US': 8679, 'IN': 2105, 'GB': 1745, 'CA': 909, 'AU': 658, 'PK': 546, 'DE': 368, 'NG': 318, 'KE': 304, 'ES': 265, 'AE': 233, 'NL': 225, 'FR': 215, 'ZA': 211, 'IE': 185, 'MY': 170, 'SG': 170, 'IT': 142, 'NZ': 129, 'BR': 128, 'PT': 111, 'PH': 109, 'CH': 105, 'ID': 95, 'TH': 91, 'IL': 77, 'JP': 76, 'CN': 75, 'BE': 74, 'BD': 68, 'SE': 65, 'GH': 65, 'FI': 64, 'MX': 62, 'UG': 61, 'PL': 60, 'TR': 59, 'NO': 58, 'AR': 57, 'SA': 54, 'TZ': 47, 'HK': 44, 'DK': 42, 'LK': 40, 'NP': 37, 'KR': 36, 'HR': 32, 'TW': 31, 'CO': 30, 'GR': 30, 'LB': 30, 'ZM': 27, 'CR': 27, 'RO': 24, 'HU': 24, 'MW': 23, 'UA': 22, 'AT': 22, 'RS': 21, 'EG': 21, 'ZW': 20, 'MA': 20, 'CZ': 18, 'UY': 17, 'QA': 17, 'ME': 17, 'JM': 17, 'RU': 16, 'VN': 16, 'CL': 13, 'RW': 13, 'BH': 13, 'AD': 12, 'EC': 12, 'MT': 12, 'VE': 11, 'BW': 11, 'CM': 11, 'DO': 10, 'TT': 10, 'IS': 10, 'SN': 10, 'NA': 10, 'AM': 10, 'BJ': 9, 'MV': 9, 'BM': 9, 'TN': 9, 'EE': 8, 'CY': 7, 'PA': 7, 'KW': 7, 'GE': 7, 'AL': 6, 'BT': 6, 'KH': 6, 'BS': 6, 'JO': 6, 'GT': 6, 'PE': 6, 'CI': 5, 'BB': 5, 'ET': 5, 'MK': 5, 'LT': 5, 'UZ': 5, 'SK': 5, 'FJ': 5, 'BG': 4, 'OM': 4, 'BZ': 4, 'SV': 4, 'AO': 4, 'BO': 4, '': 4, 'CW': 3, 'SO': 3, 'MN': 3, 'LU': 3, 'PG': 3, 'MU': 2, 'AF': 2, 'BN': 2, 'LA': 2, 'YE': 2, 'MG': 2, 'LY': 2, 'XK': 2, 'LV': 2, 'SI': 2, 'BI': 2, 'AZ': 2, 'SR': 2, 'LS': 2, 'PF': 2, 'NI': 2, 'DZ': 2, 'HN': 2, 'TD': 1, 'SL': 1, 'BQ': 1, 'GN': 1, 'CV': 1, 'MC': 1, 'BA': 1, 'KY': 1, 'FO': 1, 'AW': 1, 'SD': 1, 'MM': 1, 'GQ': 1, 'RE': 1, 'LR': 1, 'NC': 1, 'GI': 1, 'GM': 1, 'SZ': 1, 'GG': 1, 'SC': 1, 'CD': 1, 'IQ': 1, 'DJ': 1, 'KZ': 1, 'TL': 1})\n"
     ]
    }
   ],
   "source": [
    "country_list = []\n",
    "countryCode_list = []\n",
    "for tid, tweet in tweets_dict.items():\n",
    "  if tweet.place:\n",
    "    country_list.append(tweet.place.country)\n",
    "    countryCode_list.append(tweet.place.countryCode)\n",
    "\n",
    "country_counter = Counter(country_list)\n",
    "countryCode_counter = Counter(countryCode_list)\n",
    "print(country_counter)\n",
    "print(countryCode_counter)"
   ]
  },
  {
   "cell_type": "code",
   "execution_count": 6,
   "metadata": {},
   "outputs": [],
   "source": [
    "# remove occurance of r in s, mainly for removing '\\n'\n",
    "def removeAll(s: str, r: str) -> str:\n",
    "    while r in s:\n",
    "        s = s.replace(r, ' ')\n",
    "    return s"
   ]
  },
  {
   "cell_type": "code",
   "execution_count": 7,
   "metadata": {},
   "outputs": [],
   "source": [
    "#Example of tweets_dict's item'\n",
    "# {1630357108662075402: Tweet(url='https://twitter.com/MeEmpratoor/status/1630357108662075402', date=datetime.datetime(2023, 2, 27, 23, 59, 59, tzinfo=datetime.timezone.utc), rawContent='@themarcusramsey Learn chatGPT guys for everything.', renderedContent='@themarcusramsey Learn chatGPT guys for everything.', id=1630357108662075402, user=User(username='MeEmpratoor', id=1438758246995611648, displayname='THE YOUNG ENTREPRENEUR', rawDescription='ENTREPRENEUR AND WOLRD WIDE BUSINESSMAN, IS AN UNKNOWN  FUTURE BILLIONAIRE.', renderedDescription='ENTREPRENEUR AND WOLRD WIDE BUSINESSMAN, IS AN UNKNOWN  FUTURE BILLIONAIRE.', descriptionLinks=None, verified=False, created=datetime.datetime(2021, 9, 17, 6, 54, 53, tzinfo=datetime.timezone.utc), followersCount=38, friendsCount=474, statusesCount=23, favouritesCount=55, listedCount=4, mediaCount=2, location='', protected=False, link=None, profileImageUrl='https://pbs.twimg.com/profile_images/1538779124789133313/w8HEw9OJ_normal.jpg', profileBannerUrl='https://pbs.twimg.com/profile_banners/1438758246995611648/1655708645', label=None), replyCount=0, retweetCount=0, likeCount=0, quoteCount=0, conversationId=1630222704191176704, lang='en', source='<a href=\"http://twitter.com/download/android\" rel=\"nofollow\">Twitter for Android</a>', sourceUrl='http://twitter.com/download/android', sourceLabel='Twitter for Android', links=None, media=None, retweetedTweet=None, quotedTweet=None, inReplyToTweetId=1630222704191176704, inReplyToUser=User(username='themarcusramsey', id=89173194, displayname='Marcus Ramsey', rawDescription=None, renderedDescription=None, descriptionLinks=None, verified=None, created=None, followersCount=None, friendsCount=None, statusesCount=None, favouritesCount=None, listedCount=None, mediaCount=None, location=None, protected=None, link=None, profileImageUrl=None, profileBannerUrl=None, label=None), mentionedUsers=[User(username='themarcusramsey', id=89173194, displayname='Marcus Ramsey', rawDescription=None, renderedDescription=None, descriptionLinks=None, verified=None, created=None, followersCount=None, friendsCount=None, statusesCount=None, favouritesCount=None, listedCount=None, mediaCount=None, location=None, protected=None, link=None, profileImageUrl=None, profileBannerUrl=None, label=None)], coordinates=None, place=None, hashtags=None, cashtags=None, card=None, viewCount=23, vibe=None),"
   ]
  },
  {
   "cell_type": "code",
   "execution_count": 16,
   "metadata": {},
   "outputs": [],
   "source": [
    "arr = []\n",
    "df_column = ['tid', 'rawContent', 'renderedContent', 'datetime', 'date', 'longitude', 'latitude', 'country', 'countryCode', 'viewCount', 'viewCount_log', 'likeCount', 'likeCount_log']\n",
    "\n",
    "for tid, tweet in tweets_dict.items():\n",
    "  if tweet.coordinates:\n",
    "    rawContent = removeAll(tweet.rawContent, '\\n')\n",
    "    renderedContent = removeAll(tweet.renderedContent, '\\n')\n",
    "    _datetime = tweet.date\n",
    "    _date = _datetime.date()\n",
    "    longitude = tweet.coordinates.longitude\n",
    "    latitude = tweet.coordinates.latitude\n",
    "    country = tweet.place.country\n",
    "    countryCode = tweet.place.countryCode\n",
    "    viewCount = tweet.viewCount if tweet.viewCount else 0\n",
    "    viewCount_log = math.log(viewCount+1)\n",
    "    likeCount = tweet.likeCount if tweet.likeCount else 0\n",
    "    likeCount_log = math.log(likeCount+1)\n",
    "    arr.append((tid, rawContent, renderedContent, _datetime, _date, longitude, latitude, country, countryCode, viewCount, viewCount_log, likeCount, likeCount_log))\n",
    "\n",
    "df = pd.DataFrame(arr, columns=[df_column])\n"
   ]
  },
  {
   "cell_type": "code",
   "execution_count": 18,
   "metadata": {},
   "outputs": [
    {
     "data": {
      "text/html": [
       "<div>\n",
       "<style scoped>\n",
       "    .dataframe tbody tr th:only-of-type {\n",
       "        vertical-align: middle;\n",
       "    }\n",
       "\n",
       "    .dataframe tbody tr th {\n",
       "        vertical-align: top;\n",
       "    }\n",
       "\n",
       "    .dataframe thead tr th {\n",
       "        text-align: left;\n",
       "    }\n",
       "</style>\n",
       "<table border=\"1\" class=\"dataframe\">\n",
       "  <thead>\n",
       "    <tr>\n",
       "      <th></th>\n",
       "      <th>tid</th>\n",
       "      <th>rawContent</th>\n",
       "      <th>renderedContent</th>\n",
       "      <th>datetime</th>\n",
       "      <th>date</th>\n",
       "      <th>longitude</th>\n",
       "      <th>latitude</th>\n",
       "      <th>country</th>\n",
       "      <th>countryCode</th>\n",
       "      <th>viewCount</th>\n",
       "      <th>viewCount_log</th>\n",
       "      <th>likeCount</th>\n",
       "      <th>likeCount_log</th>\n",
       "    </tr>\n",
       "  </thead>\n",
       "  <tbody>\n",
       "    <tr>\n",
       "      <th>0</th>\n",
       "      <td>1631079802902835200</td>\n",
       "      <td>So much potential with the new @OpenAI ChatGPT API, and significantly cheaper than their existing options</td>\n",
       "      <td>So much potential with the new @OpenAI ChatGPT API, and significantly cheaper than their existing options</td>\n",
       "      <td>2023-03-01 23:51:43+00:00</td>\n",
       "      <td>2023-03-01</td>\n",
       "      <td>-74.041878</td>\n",
       "      <td>40.570842</td>\n",
       "      <td>United States</td>\n",
       "      <td>US</td>\n",
       "      <td>299</td>\n",
       "      <td>5.703782</td>\n",
       "      <td>1</td>\n",
       "      <td>0.693147</td>\n",
       "    </tr>\n",
       "    <tr>\n",
       "      <th>1</th>\n",
       "      <td>1631078755950292992</td>\n",
       "      <td>@MerlinCrossley Absolutely - and everyone will have ChatGPT, so what will grads need to give them an edge? Creativity, and that human ability to not think like a machine, will remain the huge difference.</td>\n",
       "      <td>@MerlinCrossley Absolutely - and everyone will have ChatGPT, so what will grads need to give them an edge? Creativity, and that human ability to not think like a machine, will remain the huge difference.</td>\n",
       "      <td>2023-03-01 23:47:34+00:00</td>\n",
       "      <td>2023-03-01</td>\n",
       "      <td>144.593742</td>\n",
       "      <td>-38.433859</td>\n",
       "      <td>Australia</td>\n",
       "      <td>AU</td>\n",
       "      <td>48</td>\n",
       "      <td>3.891820</td>\n",
       "      <td>3</td>\n",
       "      <td>1.386294</td>\n",
       "    </tr>\n",
       "    <tr>\n",
       "      <th>2</th>\n",
       "      <td>1631077423482798081</td>\n",
       "      <td>ChatGPT API is officially published, cheers!</td>\n",
       "      <td>ChatGPT API is officially published, cheers!</td>\n",
       "      <td>2023-03-01 23:42:16+00:00</td>\n",
       "      <td>2023-03-01</td>\n",
       "      <td>-121.997026</td>\n",
       "      <td>37.205924</td>\n",
       "      <td>United States</td>\n",
       "      <td>US</td>\n",
       "      <td>326</td>\n",
       "      <td>5.789960</td>\n",
       "      <td>1</td>\n",
       "      <td>0.693147</td>\n",
       "    </tr>\n",
       "    <tr>\n",
       "      <th>3</th>\n",
       "      <td>1631072894112628737</td>\n",
       "      <td>Good point but graduates will see times when they can and moments where they can’t access ChatGPT so they need to be skilled in its use and in being independent of it (thinking on their feet)</td>\n",
       "      <td>Good point but graduates will see times when they can and moments where they can’t access ChatGPT so they need to be skilled in its use and in being independent of it (thinking on their feet)</td>\n",
       "      <td>2023-03-01 23:24:16+00:00</td>\n",
       "      <td>2023-03-01</td>\n",
       "      <td>150.520929</td>\n",
       "      <td>-34.118347</td>\n",
       "      <td>Australia</td>\n",
       "      <td>AU</td>\n",
       "      <td>650</td>\n",
       "      <td>6.478510</td>\n",
       "      <td>4</td>\n",
       "      <td>1.609438</td>\n",
       "    </tr>\n",
       "    <tr>\n",
       "      <th>4</th>\n",
       "      <td>1631072767071199232</td>\n",
       "      <td>@iborganization addressing the ways in which assessment will undoubtedly evolve as technology does. #ChatGPT #schools #education #essaywriting  https://t.co/LlFrQO7lpx</td>\n",
       "      <td>@iborganization addressing the ways in which assessment will undoubtedly evolve as technology does. #ChatGPT #schools #education #essaywriting  amp-theguardian-com.cdn.ampproject.org/c/s/amp.thegua…</td>\n",
       "      <td>2023-03-01 23:23:46+00:00</td>\n",
       "      <td>2023-03-01</td>\n",
       "      <td>-2.543152</td>\n",
       "      <td>54.318511</td>\n",
       "      <td>United Kingdom</td>\n",
       "      <td>GB</td>\n",
       "      <td>9</td>\n",
       "      <td>2.302585</td>\n",
       "      <td>0</td>\n",
       "      <td>0.000000</td>\n",
       "    </tr>\n",
       "  </tbody>\n",
       "</table>\n",
       "</div>"
      ],
      "text/plain": [
       "                   tid                                                                                                                                                                                                   rawContent                                                                                                                                                                                              renderedContent                  datetime        date   longitude   latitude         country countryCode viewCount viewCount_log likeCount likeCount_log\n",
       "0  1631079802902835200                                                                                                    So much potential with the new @OpenAI ChatGPT API, and significantly cheaper than their existing options                                                                                                    So much potential with the new @OpenAI ChatGPT API, and significantly cheaper than their existing options 2023-03-01 23:51:43+00:00  2023-03-01  -74.041878  40.570842   United States          US       299      5.703782         1      0.693147\n",
       "1  1631078755950292992  @MerlinCrossley Absolutely - and everyone will have ChatGPT, so what will grads need to give them an edge? Creativity, and that human ability to not think like a machine, will remain the huge difference.  @MerlinCrossley Absolutely - and everyone will have ChatGPT, so what will grads need to give them an edge? Creativity, and that human ability to not think like a machine, will remain the huge difference. 2023-03-01 23:47:34+00:00  2023-03-01  144.593742 -38.433859       Australia          AU        48      3.891820         3      1.386294\n",
       "2  1631077423482798081                                                                                                                                                                 ChatGPT API is officially published, cheers!                                                                                                                                                                 ChatGPT API is officially published, cheers! 2023-03-01 23:42:16+00:00  2023-03-01 -121.997026  37.205924   United States          US       326      5.789960         1      0.693147\n",
       "3  1631072894112628737              Good point but graduates will see times when they can and moments where they can’t access ChatGPT so they need to be skilled in its use and in being independent of it (thinking on their feet)              Good point but graduates will see times when they can and moments where they can’t access ChatGPT so they need to be skilled in its use and in being independent of it (thinking on their feet) 2023-03-01 23:24:16+00:00  2023-03-01  150.520929 -34.118347       Australia          AU       650      6.478510         4      1.609438\n",
       "4  1631072767071199232                                      @iborganization addressing the ways in which assessment will undoubtedly evolve as technology does. #ChatGPT #schools #education #essaywriting  https://t.co/LlFrQO7lpx       @iborganization addressing the ways in which assessment will undoubtedly evolve as technology does. #ChatGPT #schools #education #essaywriting  amp-theguardian-com.cdn.ampproject.org/c/s/amp.thegua… 2023-03-01 23:23:46+00:00  2023-03-01   -2.543152  54.318511  United Kingdom          GB         9      2.302585         0      0.000000"
      ]
     },
     "execution_count": 18,
     "metadata": {},
     "output_type": "execute_result"
    }
   ],
   "source": [
    "df.head()"
   ]
  },
  {
   "cell_type": "code",
   "execution_count": 20,
   "metadata": {},
   "outputs": [],
   "source": [
    "df.to_csv(re.sub('.pkl$', '.csv', file))"
   ]
  }
 ],
 "metadata": {
  "kernelspec": {
   "display_name": "Python 3.10.7 64-bit",
   "language": "python",
   "name": "python3"
  },
  "language_info": {
   "codemirror_mode": {
    "name": "ipython",
    "version": 3
   },
   "file_extension": ".py",
   "mimetype": "text/x-python",
   "name": "python",
   "nbconvert_exporter": "python",
   "pygments_lexer": "ipython3",
   "version": "3.10.7"
  },
  "orig_nbformat": 4,
  "vscode": {
   "interpreter": {
    "hash": "fb4569285eef3a3450cb62085a5b1e0da4bce0af555edc33dcf29baf3acc1368"
   }
  }
 },
 "nbformat": 4,
 "nbformat_minor": 2
}
