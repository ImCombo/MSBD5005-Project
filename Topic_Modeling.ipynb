{
  "nbformat": 4,
  "nbformat_minor": 0,
  "metadata": {
    "colab": {
      "provenance": []
    },
    "kernelspec": {
      "name": "python3",
      "display_name": "Python 3"
    },
    "language_info": {
      "name": "python"
    }
  },
  "cells": [
    {
      "cell_type": "markdown",
      "source": [
        "# **Version: 2023-4-1(draft)**"
      ],
      "metadata": {
        "id": "BNE1P7lVhSRH"
      }
    },
    {
      "cell_type": "code",
      "execution_count": null,
      "metadata": {
        "colab": {
          "base_uri": "https://localhost:8080/"
        },
        "id": "mgME3KKRuylv",
        "outputId": "ef512b53-0981-4574-a58d-64cb8936d220"
      },
      "outputs": [
        {
          "output_type": "stream",
          "name": "stdout",
          "text": [
            "Looking in indexes: https://pypi.org/simple, https://us-python.pkg.dev/colab-wheels/public/simple/\n",
            "Collecting snscrape\n",
            "  Downloading snscrape-0.6.2.20230320-py3-none-any.whl (71 kB)\n",
            "\u001b[2K     \u001b[90m━━━━━━━━━━━━━━━━━━━━━━━━━━━━━━━━━━━━━━━━\u001b[0m \u001b[32m71.8/71.8 KB\u001b[0m \u001b[31m4.7 MB/s\u001b[0m eta \u001b[36m0:00:00\u001b[0m\n",
            "\u001b[?25hRequirement already satisfied: requests[socks] in /usr/local/lib/python3.9/dist-packages (from snscrape) (2.27.1)\n",
            "Requirement already satisfied: filelock in /usr/local/lib/python3.9/dist-packages (from snscrape) (3.10.2)\n",
            "Requirement already satisfied: beautifulsoup4 in /usr/local/lib/python3.9/dist-packages (from snscrape) (4.11.2)\n",
            "Requirement already satisfied: lxml in /usr/local/lib/python3.9/dist-packages (from snscrape) (4.9.2)\n",
            "Requirement already satisfied: soupsieve>1.2 in /usr/local/lib/python3.9/dist-packages (from beautifulsoup4->snscrape) (2.4)\n",
            "Requirement already satisfied: charset-normalizer~=2.0.0 in /usr/local/lib/python3.9/dist-packages (from requests[socks]->snscrape) (2.0.12)\n",
            "Requirement already satisfied: idna<4,>=2.5 in /usr/local/lib/python3.9/dist-packages (from requests[socks]->snscrape) (3.4)\n",
            "Requirement already satisfied: certifi>=2017.4.17 in /usr/local/lib/python3.9/dist-packages (from requests[socks]->snscrape) (2022.12.7)\n",
            "Requirement already satisfied: urllib3<1.27,>=1.21.1 in /usr/local/lib/python3.9/dist-packages (from requests[socks]->snscrape) (1.26.15)\n",
            "Requirement already satisfied: PySocks!=1.5.7,>=1.5.6 in /usr/local/lib/python3.9/dist-packages (from requests[socks]->snscrape) (1.7.1)\n",
            "Installing collected packages: snscrape\n",
            "Successfully installed snscrape-0.6.2.20230320\n"
          ]
        }
      ],
      "source": [
        "!pip install snscrape"
      ]
    },
    {
      "cell_type": "code",
      "source": [
        "from google.colab import drive\n",
        "drive.mount('/content/drive')"
      ],
      "metadata": {
        "colab": {
          "base_uri": "https://localhost:8080/"
        },
        "id": "FfxdG-r1yGmO",
        "outputId": "5574dc13-bc01-40c6-bf0f-a0b076b4e703"
      },
      "execution_count": null,
      "outputs": [
        {
          "output_type": "stream",
          "name": "stdout",
          "text": [
            "Mounted at /content/drive\n"
          ]
        }
      ]
    },
    {
      "cell_type": "code",
      "source": [
        "# storage\n",
        "import pickle\n",
        "\n",
        "# data processing\n",
        "import pandas as pd\n",
        "import snscrape.modules.twitter as sntwitter\n",
        "import numpy as np\n",
        "\n",
        "# visualization\n",
        "import matplotlib.pyplot as plt\n",
        "import matplotlib.dates as mdates\n",
        "\n",
        "# utils\n",
        "from random import sample\n",
        "import datetime as dt\n",
        "from collections import Counter"
      ],
      "metadata": {
        "id": "GVqh4DEfxec4"
      },
      "execution_count": null,
      "outputs": []
    },
    {
      "cell_type": "markdown",
      "source": [
        "global var & load the data"
      ],
      "metadata": {
        "id": "br0kWdUyLB_Y"
      }
    },
    {
      "cell_type": "code",
      "execution_count": null,
      "metadata": {
        "id": "1iZaYJ271bYm"
      },
      "outputs": [],
      "source": [
        "root = '/content/drive/MyDrive/BDT SEM2/5005/'\n",
        "path = root + 'tweet_221130_221231.pkl'"
      ]
    },
    {
      "cell_type": "code",
      "source": [
        "with open(path, 'rb') as f:\n",
        "  tweets_dict = pickle.load(f)"
      ],
      "metadata": {
        "id": "7C2rRxnQ19NT"
      },
      "execution_count": null,
      "outputs": []
    },
    {
      "cell_type": "markdown",
      "source": [
        "## Check the date range of scraped tweets"
      ],
      "metadata": {
        "id": "OvzmiDrxLWBF"
      }
    },
    {
      "cell_type": "markdown",
      "source": [
        "You can use the cells below to check date range."
      ],
      "metadata": {
        "id": "bGFCNwrqLyN_"
      }
    },
    {
      "cell_type": "code",
      "source": [
        "l = []\n",
        "for tid,tweet in tweets_dict.items():\n",
        "  # convert Y-M-D H:M:S to Y-M-D\n",
        "  l.append(tweet.date.strftime('%Y-%m-%d'))\n",
        "\n",
        "counter = Counter(l)\n",
        "ordered_data = sorted(counter.items(), reverse=False)\n",
        "\n",
        "total=0\n",
        "for d,c in ordered_data:\n",
        "  total += c\n",
        "  print(d,'\\t',c)\n",
        "print(f'total:{total}')"
      ],
      "metadata": {
        "id": "UHLOFKwI3HwV",
        "colab": {
          "base_uri": "https://localhost:8080/"
        },
        "outputId": "6aec4d66-26d9-46d3-db47-d3ea80215d61"
      },
      "execution_count": null,
      "outputs": [
        {
          "output_type": "stream",
          "name": "stdout",
          "text": [
            "2023-02-01 \t 22736\n",
            "2023-02-02 \t 23011\n",
            "2023-02-03 \t 20806\n",
            "2023-02-04 \t 14845\n",
            "2023-02-05 \t 14155\n",
            "2023-02-06 \t 23666\n",
            "2023-02-07 \t 32351\n",
            "2023-02-08 \t 27841\n",
            "2023-02-09 \t 22988\n",
            "2023-02-10 \t 20574\n",
            "2023-02-11 \t 16508\n",
            "2023-02-12 \t 17198\n",
            "2023-02-13 \t 19908\n",
            "2023-02-14 \t 18967\n",
            "2023-02-15 \t 17494\n",
            "2023-02-16 \t 18171\n",
            "2023-02-17 \t 20823\n",
            "2023-02-18 \t 13681\n",
            "2023-02-19 \t 12945\n",
            "2023-02-20 \t 16632\n",
            "2023-02-21 \t 17982\n",
            "2023-02-22 \t 18172\n",
            "2023-02-23 \t 17192\n",
            "2023-02-24 \t 15108\n",
            "2023-02-25 \t 11293\n",
            "2023-02-26 \t 10344\n",
            "2023-02-27 \t 14380\n",
            "2023-02-28 \t 15977\n",
            "total:515748\n"
          ]
        }
      ]
    },
    {
      "cell_type": "code",
      "source": [
        "plt.figure(figsize=(15,7))\n",
        "x,y = list(zip(*ordered_data))\n",
        "\n",
        "plt.plot(x,y,'ro-')\n",
        "plt.gcf().autofmt_xdate()\n",
        "plt.show()"
      ],
      "metadata": {
        "colab": {
          "base_uri": "https://localhost:8080/",
          "height": 418
        },
        "id": "nOzgZSPk9YQp",
        "outputId": "5fb87a5e-6feb-4668-bc1c-d79a15993821"
      },
      "execution_count": null,
      "outputs": [
        {
          "output_type": "display_data",
          "data": {
            "text/plain": [
              "<Figure size 1080x504 with 1 Axes>"
            ],
            "image/png": "[encoded data removed]"
          },
          "metadata": {
            "needs_background": "light"
          }
        }
      ]
    },
    {
      "cell_type": "markdown",
      "source": [
        "## Convert .pkl to pandas DataFrame"
      ],
      "metadata": {
        "id": "MiNF21ge396n"
      }
    },
    {
      "cell_type": "code",
      "source": [
        "cols=[\\\n",
        "      'id',\\\n",
        "      'date',\\\n",
        "      'username',\\\n",
        "      'content',\\\n",
        "      'usr_label',\\\n",
        "      'usr_description',\\\n",
        "      'followersCount',\\\n",
        "      'friendsCount',\\\n",
        "      'statusesCount',\\\n",
        "      'favouritesCount',\\\n",
        "      'location',\\\n",
        "      'replyCount',\\\n",
        "      'retweetCount',\\\n",
        "      'quoteCount',\\\n",
        "      'likeCount',\\\n",
        "      'countryCode',\\\n",
        "      'country'\\\n",
        "      ]"
      ],
      "metadata": {
        "id": "Hr6HLQoKE5q0"
      },
      "execution_count": null,
      "outputs": []
    },
    {
      "cell_type": "code",
      "source": [
        "data = []\n",
        "for tid, tweet in tweets_dict.items():\n",
        "  twi = list()\n",
        "  # tweet id\n",
        "  twi.append(tweet.id)\n",
        "  # date\n",
        "  twi.append(tweet.date.strftime('%Y-%m-%d'))\n",
        "  # usr name\n",
        "  twi.append(tweet.username)\n",
        "  # content\n",
        "  twi.append(tweet.content)\n",
        "  # usr label\n",
        "  twi.append(tweet.user.label if tweet.user.label else np.nan)\n",
        "  # usr description\n",
        "  twi.append(tweet.user.description)\n",
        "  # followersCount\n",
        "  twi.append(tweet.user.followersCount)\n",
        "  # friendsCount\n",
        "  twi.append(tweet.user.friendsCount)\n",
        "  # statusesCount\n",
        "  twi.append(tweet.user.statusesCount)\n",
        "  # favouritesCount\n",
        "  twi.append(tweet.user.favouritesCount)\n",
        "  # location\n",
        "  twi.append(tweet.user.location)\n",
        "  # replyCount\n",
        "  twi.append(tweet.replyCount)\n",
        "  # retweetCount\n",
        "  twi.append(tweet.retweetCount)\n",
        "  # quoteCount\n",
        "  twi.append(tweet.quoteCount)\n",
        "  # likeCount\n",
        "  twi.append(tweet.likeCount)\n",
        "  # countryCode\n",
        "  twi.append(tweet.place.countryCode if tweet.place else np.nan)\n",
        "  # country\n",
        "  twi.append(tweet.place.country if tweet.place else np.nan)\n",
        "\n",
        "  data.append(twi)\n",
        "  "
      ],
      "metadata": {
        "colab": {
          "base_uri": "https://localhost:8080/"
        },
        "id": "2TNTSYuR7-MB",
        "outputId": "c2df8d76-8ffd-4c5b-fd01-3f9a2015458e"
      },
      "execution_count": null,
      "outputs": [
        {
          "output_type": "stream",
          "name": "stderr",
          "text": [
            "<ipython-input-12-69ed8cee8bde>:9: DeprecatedFeatureWarning: username is deprecated, use user.username instead\n",
            "  twi.append(tweet.username)\n",
            "<ipython-input-12-69ed8cee8bde>:11: DeprecatedFeatureWarning: content is deprecated, use rawContent instead\n",
            "  twi.append(tweet.content)\n",
            "<ipython-input-12-69ed8cee8bde>:15: DeprecatedFeatureWarning: description is deprecated, use renderedDescription instead\n",
            "  twi.append(tweet.user.description)\n"
          ]
        }
      ]
    },
    {
      "cell_type": "code",
      "source": [
        "df = pd.DataFrame(data, columns=cols)\n",
        "df = df.drop_duplicates(subset=['id'])\n",
        "df.info()"
      ],
      "metadata": {
        "id": "M_rii1U44EwO",
        "colab": {
          "base_uri": "https://localhost:8080/"
        },
        "outputId": "3f83f880-fa14-4988-bb9e-90702882b207"
      },
      "execution_count": null,
      "outputs": [
        {
          "output_type": "stream",
          "name": "stdout",
          "text": [
            "<class 'pandas.core.frame.DataFrame'>\n",
            "Int64Index: 300844 entries, 0 to 300843\n",
            "Data columns (total 17 columns):\n",
            " #   Column           Non-Null Count   Dtype \n",
            "---  ------           --------------   ----- \n",
            " 0   id               300844 non-null  int64 \n",
            " 1   date             300844 non-null  object\n",
            " 2   username         300844 non-null  object\n",
            " 3   content          300844 non-null  object\n",
            " 4   usr_label        1140 non-null    object\n",
            " 5   usr_description  300844 non-null  object\n",
            " 6   followersCount   300844 non-null  int64 \n",
            " 7   friendsCount     300844 non-null  int64 \n",
            " 8   statusesCount    300844 non-null  int64 \n",
            " 9   favouritesCount  300844 non-null  int64 \n",
            " 10  location         300844 non-null  object\n",
            " 11  replyCount       300844 non-null  int64 \n",
            " 12  retweetCount     300844 non-null  int64 \n",
            " 13  quoteCount       300844 non-null  int64 \n",
            " 14  likeCount        300844 non-null  int64 \n",
            " 15  countryCode      4815 non-null    object\n",
            " 16  country          4815 non-null    object\n",
            "dtypes: int64(9), object(8)\n",
            "memory usage: 41.3+ MB\n"
          ]
        }
      ]
    },
    {
      "cell_type": "code",
      "source": [
        "df.head(10)"
      ],
      "metadata": {
        "id": "YNhasDOJYV00"
      },
      "execution_count": null,
      "outputs": []
    },
    {
      "cell_type": "markdown",
      "source": [
        "## Statistic features"
      ],
      "metadata": {
        "id": "Zvj-IFM5Xj1o"
      }
    },
    {
      "cell_type": "code",
      "source": [
        "df.describe()"
      ],
      "metadata": {
        "colab": {
          "base_uri": "https://localhost:8080/",
          "height": 300
        },
        "id": "GyoT8rKCTr7N",
        "outputId": "d9cb6fd3-72af-4dc4-c7f6-251b9389d77d"
      },
      "execution_count": null,
      "outputs": [
        {
          "output_type": "execute_result",
          "data": {
            "text/plain": [
              "                 id  followersCount  friendsCount  statusesCount  \\\n",
              "count  5.157480e+05    5.157480e+05  5.157480e+05   5.157480e+05   \n",
              "mean   1.625207e+18    4.874073e+04  1.913544e+03   3.524080e+04   \n",
              "std    2.857121e+15    8.583326e+05  1.325502e+04   1.244073e+05   \n",
              "min    1.620573e+18    0.000000e+00  0.000000e+00   0.000000e+00   \n",
              "25%    1.622883e+18    7.300000e+01  1.200000e+02   9.690000e+02   \n",
              "50%    1.624952e+18    4.130000e+02  4.230000e+02   4.871000e+03   \n",
              "75%    1.627657e+18    2.163000e+03  1.221000e+03   2.139000e+04   \n",
              "max    1.630719e+18    1.318164e+08  1.523332e+06   4.202096e+06   \n",
              "\n",
              "       favouritesCount     replyCount   retweetCount     quoteCount  \\\n",
              "count     5.157480e+05  515748.000000  515748.000000  515748.000000   \n",
              "mean      1.631176e+04       1.117891       1.875897       0.249762   \n",
              "std       4.389758e+04      31.067615      65.832967      11.444482   \n",
              "min       0.000000e+00       0.000000       0.000000       0.000000   \n",
              "25%       2.900000e+02       0.000000       0.000000       0.000000   \n",
              "50%       2.545000e+03       0.000000       0.000000       0.000000   \n",
              "75%       1.291300e+04       1.000000       0.000000       0.000000   \n",
              "max       1.580854e+06    9834.000000   25098.000000    4186.000000   \n",
              "\n",
              "           likeCount  \n",
              "count  515748.000000  \n",
              "mean       11.249381  \n",
              "std       559.313697  \n",
              "min         0.000000  \n",
              "25%         0.000000  \n",
              "50%         0.000000  \n",
              "75%         2.000000  \n",
              "max    327779.000000  "
            ],
            "text/html": [
              "\n",
              "  <div id=\"df-c70baaaf-5491-41a2-b31d-8ae118779aad\">\n",
              "    <div class=\"colab-df-container\">\n",
              "      <div>\n",
              "<style scoped>\n",
              "    .dataframe tbody tr th:only-of-type {\n",
              "        vertical-align: middle;\n",
              "    }\n",
              "\n",
              "    .dataframe tbody tr th {\n",
              "        vertical-align: top;\n",
              "    }\n",
              "\n",
              "    .dataframe thead th {\n",
              "        text-align: right;\n",
              "    }\n",
              "</style>\n",
              "<table border=\"1\" class=\"dataframe\">\n",
              "  <thead>\n",
              "    <tr style=\"text-align: right;\">\n",
              "      <th></th>\n",
              "      <th>id</th>\n",
              "      <th>followersCount</th>\n",
              "      <th>friendsCount</th>\n",
              "      <th>statusesCount</th>\n",
              "      <th>favouritesCount</th>\n",
              "      <th>replyCount</th>\n",
              "      <th>retweetCount</th>\n",
              "      <th>quoteCount</th>\n",
              "      <th>likeCount</th>\n",
              "    </tr>\n",
              "  </thead>\n",
              "  <tbody>\n",
              "    <tr>\n",
              "      <th>count</th>\n",
              "      <td>5.157480e+05</td>\n",
              "      <td>5.157480e+05</td>\n",
              "      <td>5.157480e+05</td>\n",
              "      <td>5.157480e+05</td>\n",
              "      <td>5.157480e+05</td>\n",
              "      <td>515748.000000</td>\n",
              "      <td>515748.000000</td>\n",
              "      <td>515748.000000</td>\n",
              "      <td>515748.000000</td>\n",
              "    </tr>\n",
              "    <tr>\n",
              "      <th>mean</th>\n",
              "      <td>1.625207e+18</td>\n",
              "      <td>4.874073e+04</td>\n",
              "      <td>1.913544e+03</td>\n",
              "      <td>3.524080e+04</td>\n",
              "      <td>1.631176e+04</td>\n",
              "      <td>1.117891</td>\n",
              "      <td>1.875897</td>\n",
              "      <td>0.249762</td>\n",
              "      <td>11.249381</td>\n",
              "    </tr>\n",
              "    <tr>\n",
              "      <th>std</th>\n",
              "      <td>2.857121e+15</td>\n",
              "      <td>8.583326e+05</td>\n",
              "      <td>1.325502e+04</td>\n",
              "      <td>1.244073e+05</td>\n",
              "      <td>4.389758e+04</td>\n",
              "      <td>31.067615</td>\n",
              "      <td>65.832967</td>\n",
              "      <td>11.444482</td>\n",
              "      <td>559.313697</td>\n",
              "    </tr>\n",
              "    <tr>\n",
              "      <th>min</th>\n",
              "      <td>1.620573e+18</td>\n",
              "      <td>0.000000e+00</td>\n",
              "      <td>0.000000e+00</td>\n",
              "      <td>0.000000e+00</td>\n",
              "      <td>0.000000e+00</td>\n",
              "      <td>0.000000</td>\n",
              "      <td>0.000000</td>\n",
              "      <td>0.000000</td>\n",
              "      <td>0.000000</td>\n",
              "    </tr>\n",
              "    <tr>\n",
              "      <th>25%</th>\n",
              "      <td>1.622883e+18</td>\n",
              "      <td>7.300000e+01</td>\n",
              "      <td>1.200000e+02</td>\n",
              "      <td>9.690000e+02</td>\n",
              "      <td>2.900000e+02</td>\n",
              "      <td>0.000000</td>\n",
              "      <td>0.000000</td>\n",
              "      <td>0.000000</td>\n",
              "      <td>0.000000</td>\n",
              "    </tr>\n",
              "    <tr>\n",
              "      <th>50%</th>\n",
              "      <td>1.624952e+18</td>\n",
              "      <td>4.130000e+02</td>\n",
              "      <td>4.230000e+02</td>\n",
              "      <td>4.871000e+03</td>\n",
              "      <td>2.545000e+03</td>\n",
              "      <td>0.000000</td>\n",
              "      <td>0.000000</td>\n",
              "      <td>0.000000</td>\n",
              "      <td>0.000000</td>\n",
              "    </tr>\n",
              "    <tr>\n",
              "      <th>75%</th>\n",
              "      <td>1.627657e+18</td>\n",
              "      <td>2.163000e+03</td>\n",
              "      <td>1.221000e+03</td>\n",
              "      <td>2.139000e+04</td>\n",
              "      <td>1.291300e+04</td>\n",
              "      <td>1.000000</td>\n",
              "      <td>0.000000</td>\n",
              "      <td>0.000000</td>\n",
              "      <td>2.000000</td>\n",
              "    </tr>\n",
              "    <tr>\n",
              "      <th>max</th>\n",
              "      <td>1.630719e+18</td>\n",
              "      <td>1.318164e+08</td>\n",
              "      <td>1.523332e+06</td>\n",
              "      <td>4.202096e+06</td>\n",
              "      <td>1.580854e+06</td>\n",
              "      <td>9834.000000</td>\n",
              "      <td>25098.000000</td>\n",
              "      <td>4186.000000</td>\n",
              "      <td>327779.000000</td>\n",
              "    </tr>\n",
              "  </tbody>\n",
              "</table>\n",
              "</div>\n",
              "      <button class=\"colab-df-convert\" onclick=\"convertToInteractive('df-c70baaaf-5491-41a2-b31d-8ae118779aad')\"\n",
              "              title=\"Convert this dataframe to an interactive table.\"\n",
              "              style=\"display:none;\">\n",
              "        \n",
              "  <svg xmlns=\"http://www.w3.org/2000/svg\" height=\"24px\"viewBox=\"0 0 24 24\"\n",
              "       width=\"24px\">\n",
              "    <path d=\"M0 0h24v24H0V0z\" fill=\"none\"/>\n",
              "    <path d=\"M18.56 5.44l.94 2.06.94-2.06 2.06-.94-2.06-.94-.94-2.06-.94 2.06-2.06.94zm-11 1L8.5 8.5l.94-2.06 2.06-.94-2.06-.94L8.5 2.5l-.94 2.06-2.06.94zm10 10l.94 2.06.94-2.06 2.06-.94-2.06-.94-.94-2.06-.94 2.06-2.06.94z\"/><path d=\"M17.41 7.96l-1.37-1.37c-.4-.4-.92-.59-1.43-.59-.52 0-1.04.2-1.43.59L10.3 9.45l-7.72 7.72c-.78.78-.78 2.05 0 2.83L4 21.41c.39.39.9.59 1.41.59.51 0 1.02-.2 1.41-.59l7.78-7.78 2.81-2.81c.8-.78.8-2.07 0-2.86zM5.41 20L4 18.59l7.72-7.72 1.47 1.35L5.41 20z\"/>\n",
              "  </svg>\n",
              "      </button>\n",
              "      \n",
              "  <style>\n",
              "    .colab-df-container {\n",
              "      display:flex;\n",
              "      flex-wrap:wrap;\n",
              "      gap: 12px;\n",
              "    }\n",
              "\n",
              "    .colab-df-convert {\n",
              "      background-color: #E8F0FE;\n",
              "      border: none;\n",
              "      border-radius: 50%;\n",
              "      cursor: pointer;\n",
              "      display: none;\n",
              "      fill: #1967D2;\n",
              "      height: 32px;\n",
              "      padding: 0 0 0 0;\n",
              "      width: 32px;\n",
              "    }\n",
              "\n",
              "    .colab-df-convert:hover {\n",
              "      background-color: #E2EBFA;\n",
              "      box-shadow: 0px 1px 2px rgba(60, 64, 67, 0.3), 0px 1px 3px 1px rgba(60, 64, 67, 0.15);\n",
              "      fill: #174EA6;\n",
              "    }\n",
              "\n",
              "    [theme=dark] .colab-df-convert {\n",
              "      background-color: #3B4455;\n",
              "      fill: #D2E3FC;\n",
              "    }\n",
              "\n",
              "    [theme=dark] .colab-df-convert:hover {\n",
              "      background-color: #434B5C;\n",
              "      box-shadow: 0px 1px 3px 1px rgba(0, 0, 0, 0.15);\n",
              "      filter: drop-shadow(0px 1px 2px rgba(0, 0, 0, 0.3));\n",
              "      fill: #FFFFFF;\n",
              "    }\n",
              "  </style>\n",
              "\n",
              "      <script>\n",
              "        const buttonEl =\n",
              "          document.querySelector('#df-c70baaaf-5491-41a2-b31d-8ae118779aad button.colab-df-convert');\n",
              "        buttonEl.style.display =\n",
              "          google.colab.kernel.accessAllowed ? 'block' : 'none';\n",
              "\n",
              "        async function convertToInteractive(key) {\n",
              "          const element = document.querySelector('#df-c70baaaf-5491-41a2-b31d-8ae118779aad');\n",
              "          const dataTable =\n",
              "            await google.colab.kernel.invokeFunction('convertToInteractive',\n",
              "                                                     [key], {});\n",
              "          if (!dataTable) return;\n",
              "\n",
              "          const docLinkHtml = 'Like what you see? Visit the ' +\n",
              "            '<a target=\"_blank\" href=https://colab.research.google.com/notebooks/data_table.ipynb>data table notebook</a>'\n",
              "            + ' to learn more about interactive tables.';\n",
              "          element.innerHTML = '';\n",
              "          dataTable['output_type'] = 'display_data';\n",
              "          await google.colab.output.renderOutput(dataTable, element);\n",
              "          const docLink = document.createElement('div');\n",
              "          docLink.innerHTML = docLinkHtml;\n",
              "          element.appendChild(docLink);\n",
              "        }\n",
              "      </script>\n",
              "    </div>\n",
              "  </div>\n",
              "  "
            ]
          },
          "metadata": {},
          "execution_count": 12
        }
      ]
    },
    {
      "cell_type": "code",
      "source": [
        "df['country'].value_counts().plot(figsize=(20,4), kind='bar', xlabel='country', ylabel='Count', rot=0)\n",
        "plt.xticks(rotation=90)"
      ],
      "metadata": {
        "colab": {
          "base_uri": "https://localhost:8080/",
          "height": 1000
        },
        "id": "fJZu7CCuT8Uk",
        "outputId": "bb9ea41e-e88c-4665-d107-e23d385df411"
      },
      "execution_count": null,
      "outputs": [
        {
          "output_type": "execute_result",
          "data": {
            "text/plain": [
              "(array([  0,   1,   2,   3,   4,   5,   6,   7,   8,   9,  10,  11,  12,\n",
              "         13,  14,  15,  16,  17,  18,  19,  20,  21,  22,  23,  24,  25,\n",
              "         26,  27,  28,  29,  30,  31,  32,  33,  34,  35,  36,  37,  38,\n",
              "         39,  40,  41,  42,  43,  44,  45,  46,  47,  48,  49,  50,  51,\n",
              "         52,  53,  54,  55,  56,  57,  58,  59,  60,  61,  62,  63,  64,\n",
              "         65,  66,  67,  68,  69,  70,  71,  72,  73,  74,  75,  76,  77,\n",
              "         78,  79,  80,  81,  82,  83,  84,  85,  86,  87,  88,  89,  90,\n",
              "         91,  92,  93,  94,  95,  96,  97,  98,  99, 100, 101, 102, 103,\n",
              "        104, 105, 106, 107, 108, 109, 110, 111, 112, 113, 114, 115]),\n",
              " [Text(0, 0, 'United States'),\n",
              "  Text(1, 0, 'United Kingdom'),\n",
              "  Text(2, 0, 'India'),\n",
              "  Text(3, 0, 'Canada'),\n",
              "  Text(4, 0, 'Australia'),\n",
              "  Text(5, 0, 'Germany'),\n",
              "  Text(6, 0, 'France'),\n",
              "  Text(7, 0, 'Nigeria'),\n",
              "  Text(8, 0, 'Kenya'),\n",
              "  Text(9, 0, 'The Netherlands'),\n",
              "  Text(10, 0, 'Spain'),\n",
              "  Text(11, 0, 'United Arab Emirates'),\n",
              "  Text(12, 0, 'Ireland'),\n",
              "  Text(13, 0, 'Italy'),\n",
              "  Text(14, 0, 'Singapore'),\n",
              "  Text(15, 0, 'Israel'),\n",
              "  Text(16, 0, 'New Zealand'),\n",
              "  Text(17, 0, 'Portugal'),\n",
              "  Text(18, 0, 'Thailand'),\n",
              "  Text(19, 0, 'Finland'),\n",
              "  Text(20, 0, 'South Africa'),\n",
              "  Text(21, 0, 'Malaysia'),\n",
              "  Text(22, 0, 'Pakistan'),\n",
              "  Text(23, 0, 'Belgium'),\n",
              "  Text(24, 0, 'Indonesia'),\n",
              "  Text(25, 0, 'Switzerland'),\n",
              "  Text(26, 0, 'Republic of the Philippines'),\n",
              "  Text(27, 0, 'Japan'),\n",
              "  Text(28, 0, 'Brazil'),\n",
              "  Text(29, 0, 'Turkey'),\n",
              "  Text(30, 0, 'Poland'),\n",
              "  Text(31, 0, 'Ghana'),\n",
              "  Text(32, 0, 'Mexico'),\n",
              "  Text(33, 0, \"People's Republic of China\"),\n",
              "  Text(34, 0, 'Argentina'),\n",
              "  Text(35, 0, 'Uganda'),\n",
              "  Text(36, 0, 'Republic of Korea'),\n",
              "  Text(37, 0, 'Kingdom of Saudi Arabia'),\n",
              "  Text(38, 0, 'Hungary'),\n",
              "  Text(39, 0, 'Montenegro'),\n",
              "  Text(40, 0, 'Sweden'),\n",
              "  Text(41, 0, 'Greece'),\n",
              "  Text(42, 0, 'Tanzania'),\n",
              "  Text(43, 0, 'Denmark'),\n",
              "  Text(44, 0, 'Iceland'),\n",
              "  Text(45, 0, 'Egypt'),\n",
              "  Text(46, 0, 'Senegal'),\n",
              "  Text(47, 0, 'Malawi'),\n",
              "  Text(48, 0, 'Austria'),\n",
              "  Text(49, 0, 'Nepal'),\n",
              "  Text(50, 0, 'Norway'),\n",
              "  Text(51, 0, 'Malta'),\n",
              "  Text(52, 0, 'Morocco'),\n",
              "  Text(53, 0, 'Cameroon'),\n",
              "  Text(54, 0, 'Qatar'),\n",
              "  Text(55, 0, 'Zambia'),\n",
              "  Text(56, 0, 'Republic of Serbia'),\n",
              "  Text(57, 0, 'Taiwan'),\n",
              "  Text(58, 0, 'Colombia'),\n",
              "  Text(59, 0, 'Chile'),\n",
              "  Text(60, 0, 'Lebanon'),\n",
              "  Text(61, 0, 'Ukraine'),\n",
              "  Text(62, 0, 'Sri Lanka'),\n",
              "  Text(63, 0, 'Georgia'),\n",
              "  Text(64, 0, 'Bangladesh'),\n",
              "  Text(65, 0, 'Hong Kong'),\n",
              "  Text(66, 0, 'Maldives'),\n",
              "  Text(67, 0, 'Dominican Republic'),\n",
              "  Text(68, 0, 'Ecuador'),\n",
              "  Text(69, 0, 'Uruguay'),\n",
              "  Text(70, 0, 'Angola'),\n",
              "  Text(71, 0, 'Zimbabwe'),\n",
              "  Text(72, 0, 'Czech Republic'),\n",
              "  Text(73, 0, 'Romania'),\n",
              "  Text(74, 0, 'Costa Rica'),\n",
              "  Text(75, 0, 'Benin'),\n",
              "  Text(76, 0, 'Rwanda'),\n",
              "  Text(77, 0, 'Namibia'),\n",
              "  Text(78, 0, 'Bahamas'),\n",
              "  Text(79, 0, 'Curaçao'),\n",
              "  Text(80, 0, 'Armenia'),\n",
              "  Text(81, 0, 'Kuwait'),\n",
              "  Text(82, 0, 'Belize'),\n",
              "  Text(83, 0, 'Former Yugoslav Republic of Macedonia'),\n",
              "  Text(84, 0, 'Lithuania'),\n",
              "  Text(85, 0, 'El Salvador'),\n",
              "  Text(86, 0, 'Estonia'),\n",
              "  Text(87, 0, 'Albania'),\n",
              "  Text(88, 0, 'Jamaica'),\n",
              "  Text(89, 0, 'Botswana'),\n",
              "  Text(90, 0, 'Bosnia and Herzegovina'),\n",
              "  Text(91, 0, 'Bermuda'),\n",
              "  Text(92, 0, 'Republic of Croatia'),\n",
              "  Text(93, 0, 'Tunisia'),\n",
              "  Text(94, 0, 'Faroe Islands'),\n",
              "  Text(95, 0, 'Libya'),\n",
              "  Text(96, 0, 'Uzbekistan'),\n",
              "  Text(97, 0, 'Kosovo'),\n",
              "  Text(98, 0, 'Aruba'),\n",
              "  Text(99, 0, 'Bahrain'),\n",
              "  Text(100, 0, 'Russia'),\n",
              "  Text(101, 0, 'Cayman Islands'),\n",
              "  Text(102, 0, 'Madagascar'),\n",
              "  Text(103, 0, 'Vietnam'),\n",
              "  Text(104, 0, 'Bhutan'),\n",
              "  Text(105, 0, 'Panama'),\n",
              "  Text(106, 0, 'Hashemite Kingdom of Jordan'),\n",
              "  Text(107, 0, 'Ivory Coast'),\n",
              "  Text(108, 0, 'Yemen'),\n",
              "  Text(109, 0, 'Cambodia'),\n",
              "  Text(110, 0, 'Cyprus'),\n",
              "  Text(111, 0, 'Ethiopia'),\n",
              "  Text(112, 0, \"Lao People's Democratic Republic\"),\n",
              "  Text(113, 0, 'Brunei'),\n",
              "  Text(114, 0, 'Monaco'),\n",
              "  Text(115, 0, 'Trinidad and Tobago')])"
            ]
          },
          "metadata": {},
          "execution_count": 26
        },
        {
          "output_type": "display_data",
          "data": {
            "text/plain": [
              "<Figure size 1440x288 with 1 Axes>"
            ],
            "image/png": "[encoded data removed]"
          },
          "metadata": {
            "needs_background": "light"
          }
        }
      ]
    },
    {
      "cell_type": "code",
      "source": [],
      "metadata": {
        "id": "zeZwP5cmXI3F"
      },
      "execution_count": null,
      "outputs": []
    },
    {
      "cell_type": "markdown",
      "source": [
        "## Topic Modeling"
      ],
      "metadata": {
        "id": "M1s1xfwGXq3w"
      }
    },
    {
      "cell_type": "code",
      "source": [
        "!pip install contractions\n",
        "!pip install pyLDAvis"
      ],
      "metadata": {
        "colab": {
          "base_uri": "https://localhost:8080/"
        },
        "id": "DS7EwI9GZnAP",
        "outputId": "23ee070b-e197-4216-8a44-598a592fbabb"
      },
      "execution_count": null,
      "outputs": [
        {
          "output_type": "stream",
          "name": "stdout",
          "text": [
            "Looking in indexes: https://pypi.org/simple, https://us-python.pkg.dev/colab-wheels/public/simple/\n",
            "Collecting contractions\n",
            "  Downloading contractions-0.1.73-py2.py3-none-any.whl (8.7 kB)\n",
            "Collecting textsearch>=0.0.21\n",
            "  Downloading textsearch-0.0.24-py2.py3-none-any.whl (7.6 kB)\n",
            "Collecting pyahocorasick\n",
            "  Downloading pyahocorasick-2.0.0-cp39-cp39-manylinux_2_5_x86_64.manylinux1_x86_64.whl (103 kB)\n",
            "\u001b[2K     \u001b[90m━━━━━━━━━━━━━━━━━━━━━━━━━━━━━━━━━━━━━━\u001b[0m \u001b[32m103.2/103.2 KB\u001b[0m \u001b[31m11.2 MB/s\u001b[0m eta \u001b[36m0:00:00\u001b[0m\n",
            "\u001b[?25hCollecting anyascii\n",
            "  Downloading anyascii-0.3.2-py3-none-any.whl (289 kB)\n",
            "\u001b[2K     \u001b[90m━━━━━━━━━━━━━━━━━━━━━━━━━━━━━━━━━━━━━━\u001b[0m \u001b[32m289.9/289.9 KB\u001b[0m \u001b[31m29.1 MB/s\u001b[0m eta \u001b[36m0:00:00\u001b[0m\n",
            "\u001b[?25hInstalling collected packages: pyahocorasick, anyascii, textsearch, contractions\n",
            "Successfully installed anyascii-0.3.2 contractions-0.1.73 pyahocorasick-2.0.0 textsearch-0.0.24\n",
            "Looking in indexes: https://pypi.org/simple, https://us-python.pkg.dev/colab-wheels/public/simple/\n",
            "Collecting pyLDAvis\n",
            "  Downloading pyLDAvis-3.4.0-py3-none-any.whl (2.6 MB)\n",
            "\u001b[2K     \u001b[90m━━━━━━━━━━━━━━━━━━━━━━━━━━━━━━━━━━━━━━━━\u001b[0m \u001b[32m2.6/2.6 MB\u001b[0m \u001b[31m49.7 MB/s\u001b[0m eta \u001b[36m0:00:00\u001b[0m\n",
            "\u001b[?25hRequirement already satisfied: jinja2 in /usr/local/lib/python3.9/dist-packages (from pyLDAvis) (3.1.2)\n",
            "Requirement already satisfied: gensim in /usr/local/lib/python3.9/dist-packages (from pyLDAvis) (4.3.1)\n",
            "Collecting joblib>=1.2.0\n",
            "  Downloading joblib-1.2.0-py3-none-any.whl (297 kB)\n",
            "\u001b[2K     \u001b[90m━━━━━━━━━━━━━━━━━━━━━━━━━━━━━━━━━━━━━━\u001b[0m \u001b[32m298.0/298.0 KB\u001b[0m \u001b[31m26.0 MB/s\u001b[0m eta \u001b[36m0:00:00\u001b[0m\n",
            "\u001b[?25hRequirement already satisfied: setuptools in /usr/local/lib/python3.9/dist-packages (from pyLDAvis) (67.6.0)\n",
            "Requirement already satisfied: pandas>=1.3.4 in /usr/local/lib/python3.9/dist-packages (from pyLDAvis) (1.4.4)\n",
            "Requirement already satisfied: numexpr in /usr/local/lib/python3.9/dist-packages (from pyLDAvis) (2.8.4)\n",
            "Requirement already satisfied: numpy>=1.22.0 in /usr/local/lib/python3.9/dist-packages (from pyLDAvis) (1.22.4)\n",
            "Collecting funcy\n",
            "  Downloading funcy-2.0-py2.py3-none-any.whl (30 kB)\n",
            "Requirement already satisfied: scipy in /usr/local/lib/python3.9/dist-packages (from pyLDAvis) (1.10.1)\n",
            "Requirement already satisfied: scikit-learn>=1.0.0 in /usr/local/lib/python3.9/dist-packages (from pyLDAvis) (1.2.2)\n",
            "Requirement already satisfied: python-dateutil>=2.8.1 in /usr/local/lib/python3.9/dist-packages (from pandas>=1.3.4->pyLDAvis) (2.8.2)\n",
            "Requirement already satisfied: pytz>=2020.1 in /usr/local/lib/python3.9/dist-packages (from pandas>=1.3.4->pyLDAvis) (2022.7.1)\n",
            "Requirement already satisfied: threadpoolctl>=2.0.0 in /usr/local/lib/python3.9/dist-packages (from scikit-learn>=1.0.0->pyLDAvis) (3.1.0)\n",
            "Requirement already satisfied: smart-open>=1.8.1 in /usr/local/lib/python3.9/dist-packages (from gensim->pyLDAvis) (6.3.0)\n",
            "Requirement already satisfied: MarkupSafe>=2.0 in /usr/local/lib/python3.9/dist-packages (from jinja2->pyLDAvis) (2.1.2)\n",
            "Requirement already satisfied: six>=1.5 in /usr/local/lib/python3.9/dist-packages (from python-dateutil>=2.8.1->pandas>=1.3.4->pyLDAvis) (1.16.0)\n",
            "Installing collected packages: funcy, joblib, pyLDAvis\n",
            "  Attempting uninstall: joblib\n",
            "    Found existing installation: joblib 1.1.1\n",
            "    Uninstalling joblib-1.1.1:\n",
            "      Successfully uninstalled joblib-1.1.1\n",
            "\u001b[31mERROR: pip's dependency resolver does not currently take into account all the packages that are installed. This behaviour is the source of the following dependency conflicts.\n",
            "pandas-profiling 3.2.0 requires joblib~=1.1.0, but you have joblib 1.2.0 which is incompatible.\u001b[0m\u001b[31m\n",
            "\u001b[0mSuccessfully installed funcy-2.0 joblib-1.2.0 pyLDAvis-3.4.0\n"
          ]
        }
      ]
    },
    {
      "cell_type": "code",
      "source": [
        "import pandas as pd\n",
        "import unicodedata\n",
        "import re\n",
        "import contractions\n",
        "import string\n",
        "#Gensim\n",
        "import gensim\n",
        "import gensim.corpora as corpora\n",
        "from gensim.utils import simple_preprocess\n",
        "from gensim.models import CoherenceModel\n",
        "#spacy\n",
        "import spacy\n",
        "import nltk\n",
        "from nltk.tokenize import word_tokenize\n",
        "from nltk.corpus import stopwords\n",
        "nltk.download('punkt')\n",
        "#vis\n",
        "import pyLDAvis\n",
        "import pyLDAvis.gensim_models"
      ],
      "metadata": {
        "id": "QjxnuQeRZcj2",
        "colab": {
          "base_uri": "https://localhost:8080/"
        },
        "outputId": "6e6c24a3-8870-44e5-bad4-5d207326b3dc"
      },
      "execution_count": null,
      "outputs": [
        {
          "output_type": "stream",
          "name": "stderr",
          "text": [
            "/usr/local/lib/python3.9/dist-packages/torch/cuda/__init__.py:497: UserWarning: Can't initialize NVML\n",
            "  warnings.warn(\"Can't initialize NVML\")\n",
            "[nltk_data] Downloading package punkt to /root/nltk_data...\n",
            "[nltk_data]   Unzipping tokenizers/punkt.zip.\n"
          ]
        }
      ]
    },
    {
      "cell_type": "markdown",
      "source": [
        "### Data Cleaning and Processing:"
      ],
      "metadata": {
        "id": "UpBbv50EYkqv"
      }
    },
    {
      "cell_type": "markdown",
      "source": [
        "**Lower-Case Conversion:**\n",
        "\n",
        "convert our entire text data into lowercase."
      ],
      "metadata": {
        "id": "ErVo-K-5ZHfw"
      }
    },
    {
      "cell_type": "code",
      "source": [
        "# Lower-Case Conversion\n",
        "def to_lowercase(text):\n",
        "  return text.lower()"
      ],
      "metadata": {
        "id": "faEP4ol3Ykb-"
      },
      "execution_count": null,
      "outputs": []
    },
    {
      "cell_type": "markdown",
      "source": [
        "**Standardizing Accent Characters:**\n",
        "\n",
        "Sometimes, people use accented characters like é, ö, etc. to signify emphasis on a particular letter during pronunciation. In some instances, accent marks also clarify the meanings of words, which might be different without accent marks. Though the use of accent marks is very limited, it’s a good practice to convert these characters into standard ASCII characters."
      ],
      "metadata": {
        "id": "pEF12_aSZCSk"
      }
    },
    {
      "cell_type": "code",
      "source": [
        "def standardize_accented_chars(text):\n",
        "  return unicodedata.normalize('NFKD', text).encode('ascii', 'ignore').decode('utf-8', 'ignore')\n",
        "  \n",
        "#testing the function on a single sample for explaination\n",
        "print(standardize_accented_chars('Sómě words such as résumé, café, prótest, divorcé, coördinate, exposé, latté.'))"
      ],
      "metadata": {
        "colab": {
          "base_uri": "https://localhost:8080/"
        },
        "id": "qXF-m2eOY91r",
        "outputId": "58371dee-51d2-4ccd-976b-a382985e6db7"
      },
      "execution_count": null,
      "outputs": [
        {
          "output_type": "stream",
          "name": "stdout",
          "text": [
            "Some words such as resume, cafe, protest, divorce, coordinate, expose, latte.\n"
          ]
        }
      ]
    },
    {
      "cell_type": "markdown",
      "source": [
        "**Removing URLs**"
      ],
      "metadata": {
        "id": "eEWsuw94aWt2"
      }
    },
    {
      "cell_type": "code",
      "source": [
        "def get_number_of_urls(documents):\n",
        "  print(\"{:.2f}% of documents contain urls\".format(sum(documents.apply(lambda x:x.find('http'))>0)/len(documents)*100))\n",
        "  \n",
        "# Passing the 'Tweets' column of the dataframe as the argument\n",
        "get_number_of_urls(df.content)"
      ],
      "metadata": {
        "colab": {
          "base_uri": "https://localhost:8080/"
        },
        "id": "kjrkMghCaSaK",
        "outputId": "4fbe7e1c-5a31-47f8-ce11-3ae58fb7cb62"
      },
      "execution_count": null,
      "outputs": [
        {
          "output_type": "stream",
          "name": "stdout",
          "text": [
            "43.62% of documents contain urls\n"
          ]
        }
      ]
    },
    {
      "cell_type": "code",
      "source": [
        "def remove_url(text):\n",
        "  return re.sub(r'https?:\\S*', '', text)\n",
        "\n",
        "#testing the function on a single sample for explaination\n",
        "print(remove_url('using https://www.google.com/ as an example'))\n",
        "print(remove_url('using http://www.google.com/ as an example'))"
      ],
      "metadata": {
        "colab": {
          "base_uri": "https://localhost:8080/"
        },
        "id": "VOt-eSRta5Gs",
        "outputId": "1ff6950c-089d-4053-efaf-6dbc373f2b1d"
      },
      "execution_count": null,
      "outputs": [
        {
          "output_type": "stream",
          "name": "stdout",
          "text": [
            "using  as an example\n",
            "using  as an example\n"
          ]
        }
      ]
    },
    {
      "cell_type": "markdown",
      "source": [
        "**Expanding Contractions**\n",
        "\n",
        "Contractions are shortened versions of words or syllables. They are created by removing, one or more letters from words. More often than not, multiple words are combined to create a contraction. For example, I will is contracted into I’ll, do not into don’t. We wouldn’t want our model to consider I will and I’ll differently. Hence, we will convert each contraction into its expanded form using the below-mentioned code."
      ],
      "metadata": {
        "id": "sVgV3C5ncGxw"
      }
    },
    {
      "cell_type": "code",
      "source": [
        "def expand_contractions(text):\n",
        "  expanded_words = [] \n",
        "  for word in text.split():\n",
        "    expanded_words.append(contractions.fix(word)) \n",
        "  return ' '.join(expanded_words)\n",
        "\n",
        "#testing the function on a single sample for explaination\n",
        "print(expand_contractions(\"Don't is same as do not\"))\n",
        "print(expand_contractions(\"I am gonna go\"))\n",
        "print(expand_contractions(\"I'll be there within 5 min. Shouldn't you be there too?\\\n",
        "I'd love to see u there my dear. It's awesome to meet new friends.\\\n",
        "We've been waiting for this day for so long.\"))"
      ],
      "metadata": {
        "colab": {
          "base_uri": "https://localhost:8080/"
        },
        "id": "Xwy5gT5Cb_TY",
        "outputId": "1ca53add-dbff-49d1-e3fc-dc2e1c8bbe39"
      },
      "execution_count": null,
      "outputs": [
        {
          "output_type": "stream",
          "name": "stdout",
          "text": [
            "Do not is same as do not\n",
            "I am going to go\n",
            "I will be there within 5 min. Should not you be there too?I would love to see you there my dear. It is awesome to meet new friends.We have been waiting for this day for so long.\n"
          ]
        }
      ]
    },
    {
      "cell_type": "markdown",
      "source": [
        "**Removing Mentions and Hashtags**\n",
        "\n",
        "After a quick analysis, I found that in this example, mentions and hashtags don’t contribute much to the information relevant for topic modeling as they don’t follow any pattern i.e. they are randomly used in tweets. Remove mentions and tags using the function mentioned below."
      ],
      "metadata": {
        "id": "igQ4sNVwc9P6"
      }
    },
    {
      "cell_type": "code",
      "source": [
        "def remove_mentions_and_tags(text, rm_mention=True, rm_tag=False):\n",
        "  if rm_mention:\n",
        "    text = re.sub(r'@\\S*', '', text)\n",
        "  if rm_tag:\n",
        "    text = re.sub(r'#\\S*', '', text)\n",
        "  return text\n",
        "\n",
        "#testing the function on a single sample for explaination\n",
        "print(remove_mentions_and_tags('Some random @abc and #def'))"
      ],
      "metadata": {
        "colab": {
          "base_uri": "https://localhost:8080/"
        },
        "id": "VKR-vMwlc81u",
        "outputId": "af405f63-772d-4f43-e24b-350c44e996fc"
      },
      "execution_count": null,
      "outputs": [
        {
          "output_type": "stream",
          "name": "stdout",
          "text": [
            "Some random  and #def\n"
          ]
        }
      ]
    },
    {
      "cell_type": "markdown",
      "source": [
        "**Keeping only Alphabet:** \n",
        "\n",
        "Punctuations, numbers, and special characters like ‘$, %, etc.’ don’t provide any information."
      ],
      "metadata": {
        "id": "Lcr2Sqryeh9m"
      }
    },
    {
      "cell_type": "code",
      "source": [
        "def keep_only_alphabet(text):\n",
        "  # if 'to_lowercase' already done:\n",
        "  #text = re.sub(r'[^a-z]', ' ', text)\n",
        "  # otherwise\n",
        "  text = re.sub(r'[^A-z]', ' ', text)\n",
        "  return text\n",
        "\n",
        "#testing the function on a single sample for explaination\n",
        "print(keep_only_alphabet('Just a bit more $$processing required.Just a #bit!!!'))"
      ],
      "metadata": {
        "colab": {
          "base_uri": "https://localhost:8080/"
        },
        "id": "LgsdX4RYelMQ",
        "outputId": "e631a3c0-dda3-4955-a9cd-f8ee7590a412"
      },
      "execution_count": null,
      "outputs": [
        {
          "output_type": "stream",
          "name": "stdout",
          "text": [
            "Just a bit more   processing required Just a  bit   \n"
          ]
        }
      ]
    },
    {
      "cell_type": "markdown",
      "source": [
        "**Removing Stopwords(Default+Custom) and Removing Short Words:**"
      ],
      "metadata": {
        "id": "NWRGVo_jfACx"
      }
    },
    {
      "cell_type": "code",
      "source": [
        "#creating a spaCy object. \n",
        "nlp = spacy.load(\"en_core_web_sm\", disable=['parser','ner'])\n",
        "my_stop_words = {'chatgpt', 'chatgpts', 'hey', 'hi', 'hmm', 'yo',\\\n",
        "'really','sometimes', 'go', 'since', 'whither', 'they', 'its', 'them',\\\n",
        "'well', 'meanwhile', 'seems', 'and', 'latterly', 'regarding', 'somehow',\\\n",
        "'sixty', 'whole', 'anyway', 'else', 'few', \"'m\", 'beside', 'to', 'namely',\\\n",
        "'someone', 'see', 'moreover', 'wherein', 'for', 'former', 'bottom', 'it',\\\n",
        "'next', 'six', 'along', 'once', 'might', 'whenever', 'below', 'another',\\\n",
        "'yourself', 'each', 'just', 'ourselves', 'everyone', 'any', 'across', \\\n",
        "'get', 'that', 'eight', 'we', 'which', 'therefore', 'may', \"'s\", 'keep',\\\n",
        "'among', 'give', 'such', 'are', 'indeed', 'everywhere', 'same', 'herself',\\\n",
        "'yourselves', 'alone', 'were', 'was', 'take', 'seem', 'say', 'why', 'show',\\\n",
        "'between', 'during', 'elsewhere', 'or', 'though', 'forty', 'made', 'used',\\\n",
        "'others', 'whereafter', 'formerly', 'several', 'via', 'does', 'please', 'three',\\\n",
        "'also', 'fifty', 'afterwards', \"'s\", 'noone', 'do', 'perhaps', 'further',\\\n",
        "'i', 'beforehand', 'myself', 'empty', \"'ll\", 'yet', 'thereby', 'been', 'both',\\\n",
        "'never', 'put', 'without', 'him', 'a', 'nothing', 'thereafter', 'make', 'then',\\\n",
        "'whom', 'must', 'sometime', 'against', 'through', 'being', 'four', 'back', 'become',\\\n",
        "'our', 'himself', 'because', 'anything', \"'re\", 'nor', 'therein', 'due', 'until',\\\n",
        "'own', 'ca', 'most', 'now', 'while', 'of', 'only', 'am', 'itself', 'too', \"'m\",\\\n",
        "'nobody', 'if', 'one', 'whereas', 'twelve', 'together', 'can', 'who', 'even',\\\n",
        "'be', 'she', 'besides', 'herein', 'off', \"'d\", 'last', 'no', 'whereupon', 'the', \"'m\",\\\n",
        "'thru', 'out', 'hereupon', 'by', 'us', 'already', 'became', 'here', 'hers', 'onto',\\\n",
        "'beyond', 'down', 'enough', 'did', 'some', 'over', 'serious', 'quite', 'move', 'around',\\\n",
        "'nowhere', 'amongst', 'but', 'so', 'wherever', 'twenty', 'often', 'part',\\\n",
        "'again', 'where', 're', 'within', 'at', \"n't\", 'yours', 'front', 'unless',\\\n",
        "'could', 'anyone', 'third', 'whatever', 'doing', \"'d\", 'nevertheless',\\\n",
        "'before', 'rather', 'fifteen', 'her', 'me', 'thereupon', 'mostly',\\\n",
        "'throughout', 'hence', \"'re\", 'mine', 'ten', 'hundred', 'nine', 'call',\\\n",
        "'when', 'about', 'will', 'whereby', 'this', 'upon', 'you', 'should',\\\n",
        "'always', 'themselves', 'not', 'has', 'behind', 'on', 'anywhere', 'side',\\\n",
        "'their', 'hereby', 'latter', 'after', \"'ve\", 'none', 'these', 'name',\\\n",
        "\"n't\", 'every', 'although', \"'s\", 'however', 'he', 'becoming', 'how', \\\n",
        "'whose', 'still', 'hereafter', 'whether', 'towards', 'more', 'everything',\\\n",
        "'whoever', 'seemed', 'cannot', 'up', 'otherwise', 'in', 'would', 'under',\\\n",
        "'done', 'thence', 'whence', 'seeming', 'either', 'other', 'with', 'into',\\\n",
        "'amount', 'five', 'much', \"'re\", 'except', 'his', 'thus', \"'ll\", 'what',\\\n",
        "'almost', 'becomes', 'least', 'ever', 'above', 'is', 'first', 'there',\\\n",
        "'somewhere', 'top', \"'ve\", 'than', \"n't\", 'have', 'toward', 'per', 'all',\\\n",
        "'ours', 'full', \"'d\", 'anyhow', 'as', \"'ll\", 'many', 'various', 'your',\\\n",
        "'had', 'eleven', 'from', 'something', 'less', 'those', 'using', 'an',\\\n",
        "'two', 'my', 'very', 'neither'}"
      ],
      "metadata": {
        "id": "ggAn3ifRwCrx"
      },
      "execution_count": null,
      "outputs": []
    },
    {
      "cell_type": "code",
      "source": [
        "def remove_stopwords(text,nlp,custom_stop_words=None,remove_small_tokens=True,min_len=1):\n",
        "  # if custom stop words are provided, then add them to default stop words list\n",
        "  if custom_stop_words:\n",
        "    nlp.Defaults.stop_words = custom_stop_words\n",
        "  \n",
        "  filtered_sentence = [] \n",
        "  doc = nlp(text)\n",
        "  for token in doc:\n",
        "    if token.is_stop == False: \n",
        "      # if small tokens have to be removed, then select only those which are longer than the min_len \n",
        "      if remove_small_tokens:\n",
        "        if len(token.text) > min_len:\n",
        "          filtered_sentence.append(token.text)\n",
        "      else:\n",
        "        filtered_sentence.append(token.text)\n",
        "\n",
        "    # if after the stop word removal, words are still left in the sentence, then return the sentence as a string else return null \n",
        "  return ' '.join(filtered_sentence) if len(filtered_sentence) > 0 else np.nan\n",
        "\n",
        "#removing stop-words and short words from every row\n",
        "# tweets_df.Tweets=tweets_df.Tweets.apply(lambda x:remove_stopwords(x,nlp,{\"elon\",\"musk\",}))\n",
        "remove_stopwords(\" chatgpt really say   socially liberal   fiscally conservative\",nlp, my_stop_words)"
      ],
      "metadata": {
        "id": "sSNk0kWNfSWu",
        "colab": {
          "base_uri": "https://localhost:8080/",
          "height": 35
        },
        "outputId": "eb2c875e-9dc6-484c-83d0-11a60a99ca73"
      },
      "execution_count": null,
      "outputs": [
        {
          "output_type": "execute_result",
          "data": {
            "text/plain": [
              "'chatgpt    socially liberal    fiscally conservative'"
            ],
            "application/vnd.google.colaboratory.intrinsic+json": {
              "type": "string"
            }
          },
          "metadata": {},
          "execution_count": 21
        }
      ]
    },
    {
      "cell_type": "markdown",
      "source": [
        "**Lemmatization:**\n",
        "Lemmatization generates the root of the word. It makes use of vocabulary and morphological analysis of words, to generate the root form of a word. We will use the spaCy library for performing lemmatization."
      ],
      "metadata": {
        "id": "ElQJlcOOgiQf"
      }
    },
    {
      "cell_type": "code",
      "source": [
        "def lemmatize(text, nlp):\n",
        "  doc = nlp(text)\n",
        "  lemmatized_text = []\n",
        "  for token in doc:\n",
        "    lemmatized_text.append(token.lemma_)\n",
        "  return ' '.join(lemmatized_text)\n",
        "\n",
        "#testing the function on a single sample for explaination\n",
        "print(lemmatize('Reading NLP blog is fun.' ,nlp ))\n",
        "\n",
        "#Performing lemmatization on every row\n",
        "#tweets_df.Tweets=tweets_df.Tweets.apply(lambda x:lemmatize(x,nlp)"
      ],
      "metadata": {
        "colab": {
          "base_uri": "https://localhost:8080/"
        },
        "id": "-o4ybsQHgk7k",
        "outputId": "201d5ff0-543e-459b-8dbd-5165ab28fe48"
      },
      "execution_count": null,
      "outputs": [
        {
          "output_type": "stream",
          "name": "stdout",
          "text": [
            "read NLP blog be fun .\n"
          ]
        }
      ]
    },
    {
      "cell_type": "markdown",
      "source": [
        "**start to process our data:**\n",
        "\n",
        "first, define the text you want to perform topic modeling:"
      ],
      "metadata": {
        "id": "eHH7vRVIkw_M"
      }
    },
    {
      "cell_type": "code",
      "source": [
        "# user description\n",
        "# tweets_df = df.usr_description.copy()\n",
        "# tweet content\n",
        "tweets_df = df.content.copy()"
      ],
      "metadata": {
        "id": "sEclvZBEXuJi"
      },
      "execution_count": null,
      "outputs": []
    },
    {
      "cell_type": "code",
      "source": [
        "tweets_df.head(20)"
      ],
      "metadata": {
        "colab": {
          "base_uri": "https://localhost:8080/"
        },
        "id": "3ZzWv-QbY1tn",
        "outputId": "4123218b-b4de-41ea-ef23-687aab2d6f28"
      },
      "execution_count": null,
      "outputs": [
        {
          "output_type": "execute_result",
          "data": {
            "text/plain": [
              "0     @ID_AA_Carmack, @lexfridman recently asked you...\n",
              "1     ChatGPT's user experience and implementation '...\n",
              "2     @chatgpt @openai is blowing my mind\\n\\nHere ar...\n",
              "3      The chatGpt from openAi has some insane use case\n",
              "4     I guess my other annoyance is losing the conve...\n",
              "5     With some AI help, here goes my controversial ...\n",
              "6     has anyone succeeded in chatGPT actually being...\n",
              "7     It’s a Friday night and I’m at a bar/lounge te...\n",
              "8     Todays fun is playing with #chatgpt. Here’s my...\n",
              "9                       Already happening? #ChatGPT #AI\n",
              "10    Liked this?! Well dont endorse it as I spent f...\n",
              "11    #ChatGPT &gt; StackOverflow, proved.\\nMaybe #C...\n",
              "12    So far #ChatGPT handles everything I throw at ...\n",
              "13    @shreyas The generic answer is correct, the sp...\n",
              "14    @mtaibbi It’s taken so long because their is a...\n",
              "15    Check out what I just published on Replit: Cha...\n",
              "16    Does ChatGPT respond to prompts about Flesch s...\n",
              "17    @RollinReisinger @xlr8harder As I mentioned, I...\n",
              "18    I also love that you can ask ChatGPT to extend...\n",
              "19    You think it's fun now to ask a child all sort...\n",
              "Name: content, dtype: object"
            ]
          },
          "metadata": {},
          "execution_count": 24
        }
      ]
    },
    {
      "cell_type": "code",
      "source": [
        "tweets_df.info()"
      ],
      "metadata": {
        "colab": {
          "base_uri": "https://localhost:8080/"
        },
        "id": "VLeuanJAlIo_",
        "outputId": "b84d6547-86d4-4461-a6e3-b4f4edf31a00"
      },
      "execution_count": null,
      "outputs": [
        {
          "output_type": "stream",
          "name": "stdout",
          "text": [
            "<class 'pandas.core.series.Series'>\n",
            "Int64Index: 515748 entries, 0 to 515747\n",
            "Series name: content\n",
            "Non-Null Count   Dtype \n",
            "--------------   ----- \n",
            "515748 non-null  object\n",
            "dtypes: object(1)\n",
            "memory usage: 7.9+ MB\n"
          ]
        }
      ]
    },
    {
      "cell_type": "markdown",
      "source": [
        "filter"
      ],
      "metadata": {
        "id": "I7AxBjl3m0pF"
      }
    },
    {
      "cell_type": "code",
      "source": [
        "tweets_df = tweets_df.loc[df['likeCount'] > 2]\n",
        "tweets_df"
      ],
      "metadata": {
        "colab": {
          "base_uri": "https://localhost:8080/"
        },
        "id": "cPcZrvbWm2rR",
        "outputId": "8b2c1a1d-adfd-430c-b68e-b81b4b0c6238"
      },
      "execution_count": null,
      "outputs": [
        {
          "output_type": "execute_result",
          "data": {
            "text/plain": [
              "6         has anyone succeeded in chatGPT actually being...\n",
              "22        @Duderichy ChatGPT really said \"socially liber...\n",
              "26        #ChatGPT Python code import multiple OBJs into...\n",
              "27        @amasad Need to write a thread about this.\\n\\n...\n",
              "35        I set #ChatGPT working on one of my old progra...\n",
              "                                ...                        \n",
              "300826                          🦾 ChatGPT winning around me\n",
              "300830    gm #nftfam Let's Make Today a Good One!  Namas...\n",
              "300833    .@DataChaz: 📢 New #ChatGPT extension!\\n\\n`Chat...\n",
              "300834    I used CHATGPT to write upwork cover letters f...\n",
              "300841    .@DataChaz: #ChatGPT maestro @fkadev has just ...\n",
              "Name: content, Length: 72593, dtype: object"
            ]
          },
          "metadata": {},
          "execution_count": 25
        }
      ]
    },
    {
      "cell_type": "code",
      "source": [
        "# apply all the funcs\n",
        "tweets_df = tweets_df\\\n",
        ".apply(to_lowercase)\\\n",
        ".apply(standardize_accented_chars)\\\n",
        ".apply(remove_url)\\\n",
        ".apply(expand_contractions)\\\n",
        ".apply(remove_mentions_and_tags)\\\n",
        ".apply(keep_only_alphabet)"
      ],
      "metadata": {
        "id": "5JjrapncmOXQ"
      },
      "execution_count": null,
      "outputs": []
    },
    {
      "cell_type": "code",
      "source": [
        "tweets_df_rms = tweets_df.apply(lambda x:remove_stopwords(x,nlp,my_stop_words))"
      ],
      "metadata": {
        "id": "q2JPTseOprb7"
      },
      "execution_count": null,
      "outputs": []
    },
    {
      "cell_type": "code",
      "source": [
        "tweets_df_rms = tweets_df_rms.dropna()\n",
        "tweets_df_rms"
      ],
      "metadata": {
        "id": "jMm6WYE8BOHW",
        "colab": {
          "base_uri": "https://localhost:8080/"
        },
        "outputId": "49c569af-54bc-42b5-e7e9-dba72aaf50fb"
      },
      "execution_count": null,
      "outputs": [
        {
          "output_type": "execute_result",
          "data": {
            "text/plain": [
              "6         succeeded actually truly silly absurd good abs...\n",
              "22              said socially liberal fiscally conservative\n",
              "26            python code import multiple objs blender maya\n",
              "27        need write thread today brainstorm product ide...\n",
              "35        set working old programming assignments      a...\n",
              "                                ...                        \n",
              "300826                                              winning\n",
              "300830    gm nftfam let today good namaste    nft nftcom...\n",
              "300833       new extension writer chrome extension gmail...\n",
              "300834    write upwork cover letters ended getting      ...\n",
              "300841        maestro released book art prompting guide ...\n",
              "Name: content, Length: 72111, dtype: object"
            ]
          },
          "metadata": {},
          "execution_count": 32
        }
      ]
    },
    {
      "cell_type": "code",
      "source": [
        "tweets_df = tweets_df_rms.apply(lambda x:lemmatize(x,nlp) if x else np.nan)"
      ],
      "metadata": {
        "id": "A4WzCdPPwOKa"
      },
      "execution_count": null,
      "outputs": []
    },
    {
      "cell_type": "code",
      "source": [
        "tweets_df = tweets_df.dropna()\n",
        "tweets_df"
      ],
      "metadata": {
        "colab": {
          "base_uri": "https://localhost:8080/"
        },
        "id": "zY6oHRX2pMss",
        "outputId": "713f643f-2c2b-42df-b437-3b9a9bf9364f"
      },
      "execution_count": null,
      "outputs": [
        {
          "output_type": "execute_result",
          "data": {
            "text/plain": [
              "6         succeed actually truly silly absurd good absur...\n",
              "22               say socially liberal fiscally conservative\n",
              "26            python code import multiple objs blender maya\n",
              "27        need write thread today brainstorm product ide...\n",
              "35        set work old programming assignment       arti...\n",
              "                                ...                        \n",
              "300826                                                  win\n",
              "300830    gm nftfam let today good namaste     nft nftco...\n",
              "300833        new extension writer chrome extension gmai...\n",
              "300834    write upwork cover letter end get       dollar...\n",
              "300841         maestro release book art prompt guide cra...\n",
              "Name: content, Length: 72111, dtype: object"
            ]
          },
          "metadata": {},
          "execution_count": 34
        }
      ]
    },
    {
      "cell_type": "code",
      "source": [
        "# drop rows with empty string\n",
        "tweets_df = tweets_df[tweets_df.astype(bool)]\n",
        "tweets_df"
      ],
      "metadata": {
        "colab": {
          "base_uri": "https://localhost:8080/"
        },
        "id": "biJSsVVYtT-K",
        "outputId": "8e1ce7f7-a6e3-4713-a418-88310605e55b"
      },
      "execution_count": null,
      "outputs": [
        {
          "output_type": "execute_result",
          "data": {
            "text/plain": [
              "6         succeed actually truly silly absurd good absur...\n",
              "22               say socially liberal fiscally conservative\n",
              "26            python code import multiple objs blender maya\n",
              "27        need write thread today brainstorm product ide...\n",
              "35        set work old programming assignment       arti...\n",
              "                                ...                        \n",
              "300826                                                  win\n",
              "300830    gm nftfam let today good namaste     nft nftco...\n",
              "300833        new extension writer chrome extension gmai...\n",
              "300834    write upwork cover letter end get       dollar...\n",
              "300841         maestro release book art prompt guide cra...\n",
              "Name: content, Length: 72111, dtype: object"
            ]
          },
          "metadata": {},
          "execution_count": 35
        }
      ]
    },
    {
      "cell_type": "markdown",
      "source": [
        "### Generating Document Matrix and Dictionary:"
      ],
      "metadata": {
        "id": "4q5ZE5wySXhm"
      }
    },
    {
      "cell_type": "markdown",
      "source": [
        "A **document-term matrix** is a mathematical matrix that describes the frequency of terms that occur in a collection of documents. In a document-term matrix, rows correspond to documents in the collection and columns correspond to terms.\n",
        "\n",
        "A **Dictionary** is collection of all unique tokens present in documents."
      ],
      "metadata": {
        "id": "_tKy4v7fkDn6"
      }
    },
    {
      "cell_type": "code",
      "source": [
        "def generate_tokens(tweet):\n",
        "  words=[]\n",
        "  for word in word_tokenize(tweet):\n",
        "    # using the if condition because we introduced extra spaces during text cleaning\n",
        "    if word != '':\n",
        "       words.append(word)\n",
        "  return words\n",
        "\n",
        "#storing the generated tokens in a new column named 'words'\n",
        "tweets_df['tokens']=tweets_df.apply(generate_tokens)"
      ],
      "metadata": {
        "id": "2ltQpY1FSVwR"
      },
      "execution_count": null,
      "outputs": []
    },
    {
      "cell_type": "code",
      "source": [
        "tweets_df.tokens"
      ],
      "metadata": {
        "colab": {
          "base_uri": "https://localhost:8080/"
        },
        "id": "hWcHP-A0EJyO",
        "outputId": "726a0774-f6aa-408b-b102-b36bd5da19eb"
      },
      "execution_count": null,
      "outputs": [
        {
          "output_type": "execute_result",
          "data": {
            "text/plain": [
              "6         [succeed, actually, truly, silly, absurd, good...\n",
              "22         [say, socially, liberal, fiscally, conservative]\n",
              "26        [python, code, import, multiple, objs, blender...\n",
              "27        [need, write, thread, today, brainstorm, produ...\n",
              "35        [set, work, old, programming, assignment, arti...\n",
              "                                ...                        \n",
              "300826                                                [win]\n",
              "300830    [gm, nftfam, let, today, good, namaste, nft, n...\n",
              "300833    [new, extension, writer, chrome, extension, gm...\n",
              "300834    [write, upwork, cover, letter, end, get, dolla...\n",
              "300841    [maestro, release, book, art, prompt, guide, c...\n",
              "Name: content, Length: 72111, dtype: object"
            ]
          },
          "metadata": {},
          "execution_count": 37
        }
      ]
    },
    {
      "cell_type": "code",
      "source": [
        "def create_dictionary(words):\n",
        "  return corpora.Dictionary(words)\n",
        "\n",
        "#passing the dataframe column having tokens as the argument\n",
        "id2word = create_dictionary(tweets_df.tokens)\n",
        "print(id2word)"
      ],
      "metadata": {
        "colab": {
          "base_uri": "https://localhost:8080/"
        },
        "id": "vXeMaf91kgKY",
        "outputId": "e34a1994-f32a-4e0a-e921-6d67262af861"
      },
      "execution_count": null,
      "outputs": [
        {
          "output_type": "stream",
          "name": "stdout",
          "text": [
            "Dictionary<37633 unique tokens: ['able', 'absurd', 'absurdist', 'actually', 'boring']...>\n"
          ]
        }
      ]
    },
    {
      "cell_type": "code",
      "source": [
        "def create_document_matrix(tokens,id2word):\n",
        "  corpus = []\n",
        "  for text in tokens:\n",
        "    corpus.append(id2word.doc2bow(text))\n",
        "  return corpus\n",
        "  \n",
        "#passing the dataframe column having tokens and dictionary\n",
        "corpus=create_document_matrix(tweets_df.tokens,id2word)\n",
        "#print(tweets_df.tokens[0])\n",
        "#print(corpus[0])"
      ],
      "metadata": {
        "id": "63fUDOX3kok6"
      },
      "execution_count": null,
      "outputs": []
    },
    {
      "cell_type": "code",
      "source": [
        "len(corpus[0])"
      ],
      "metadata": {
        "colab": {
          "base_uri": "https://localhost:8080/"
        },
        "id": "ln43kaaqfBvR",
        "outputId": "77d7b39c-2c1d-4654-ac23-5e522f97a8d8"
      },
      "execution_count": null,
      "outputs": [
        {
          "output_type": "execute_result",
          "data": {
            "text/plain": [
              "3"
            ]
          },
          "metadata": {},
          "execution_count": 70
        }
      ]
    },
    {
      "cell_type": "markdown",
      "source": [
        "### LDA Model\n",
        "\n",
        "reference:[genism.LDA document](https://radimrehurek.com/gensim/models/ldamodel.html)"
      ],
      "metadata": {
        "id": "lLgSio8bx7Hm"
      }
    },
    {
      "cell_type": "code",
      "source": [
        "lda_model = gensim.models.ldamodel.LdaModel(\\\n",
        "corpus=corpus,\\\n",
        "id2word=id2word,\\\n",
        "num_topics=10,\\\n",
        "random_state=100,\n",
        ")"
      ],
      "metadata": {
        "id": "6PsSsUZ3k49a"
      },
      "execution_count": null,
      "outputs": []
    },
    {
      "cell_type": "markdown",
      "source": [
        "save the model"
      ],
      "metadata": {
        "id": "H-4rknI1U0Ko"
      }
    },
    {
      "cell_type": "code",
      "source": [
        "from gensim.test.utils import datapath\n",
        "\n",
        "# Save model to disk.\n",
        "file = datapath(root+\"lda_model_22Dec\")\n",
        "lda_model.save(file)"
      ],
      "metadata": {
        "id": "C_4kQMzOU3jV"
      },
      "execution_count": null,
      "outputs": []
    },
    {
      "cell_type": "markdown",
      "source": [
        "Load the model"
      ],
      "metadata": {
        "id": "Mz4FTSORVLM2"
      }
    },
    {
      "cell_type": "code",
      "source": [
        "from gensim.test.utils import datapath\n",
        "\n",
        "file = datapath(root+\"lda_model_22Dec\")\n",
        "# Load a potentially pretrained model from disk.\n",
        "lda_model = gensim.models.ldamodel.LdaModel.load(file)"
      ],
      "metadata": {
        "id": "WT0vBq9eU3aP"
      },
      "execution_count": null,
      "outputs": []
    },
    {
      "cell_type": "markdown",
      "source": [
        "### LDA model result vis & explore"
      ],
      "metadata": {
        "id": "sanDSwq_b-6T"
      }
    },
    {
      "cell_type": "code",
      "source": [
        "# show_topic()\n",
        "\n",
        "def get_lda_topics(model, num_topics, top_n_words):\n",
        "  word_dict = {}\n",
        "  for i in range(num_topics):\n",
        "    word_dict['Topic #'+ '{:02d}'.format(i+1)] = [i[0] for i in model.show_topic(i, topn = top_n_words)];\n",
        "  return pd.DataFrame(word_dict)\n",
        "  \n",
        "get_lda_topics(lda_model,10,10)"
      ],
      "metadata": {
        "colab": {
          "base_uri": "https://localhost:8080/",
          "height": 362
        },
        "id": "_gV3UmoolLgP",
        "outputId": "03ac7edf-e29d-4660-e97f-4bf1883a148f"
      },
      "execution_count": null,
      "outputs": [
        {
          "output_type": "execute_result",
          "data": {
            "text/plain": [
              "  Topic #01        Topic #02 Topic #03 Topic #04 Topic #05        Topic #06  \\\n",
              "0     write               ai      like     model    google           openai   \n",
              "1       ask              web       use      code    search              gpt   \n",
              "2  generate          bitcoin       try  language      like               ai   \n",
              "3        ai           python     thing        gt      time             year   \n",
              "4    prompt             join       ask      game       use          twitter   \n",
              "5     story  machinelearning       way     train       day            dalle   \n",
              "6      book           nocode      know        ai      good  stablediffusion   \n",
              "7     tweet        metaverse      help      text      find              use   \n",
              "8      post          fintech    people     learn     start             free   \n",
              "9    create       daysofcode   explain     datum     thing       midjourney   \n",
              "\n",
              "  Topic #07     Topic #08   Topic #09 Topic #10  \n",
              "0       ask            ai          ai      code  \n",
              "1    answer         human         art      work  \n",
              "2  question          tool       thank      like  \n",
              "3      good  intelligence        know  generate  \n",
              "4   student           new        love       use  \n",
              "5      test        future       aiart      text  \n",
              "6   problem          like       world      need  \n",
              "7      give         think  midjourney      copy  \n",
              "8       get           amp      artist      tool  \n",
              "9     wrong     education       bring    create  "
            ],
            "text/html": [
              "\n",
              "  <div id=\"df-ec6629b2-0fe9-4264-9e9c-c02999e4d39f\">\n",
              "    <div class=\"colab-df-container\">\n",
              "      <div>\n",
              "<style scoped>\n",
              "    .dataframe tbody tr th:only-of-type {\n",
              "        vertical-align: middle;\n",
              "    }\n",
              "\n",
              "    .dataframe tbody tr th {\n",
              "        vertical-align: top;\n",
              "    }\n",
              "\n",
              "    .dataframe thead th {\n",
              "        text-align: right;\n",
              "    }\n",
              "</style>\n",
              "<table border=\"1\" class=\"dataframe\">\n",
              "  <thead>\n",
              "    <tr style=\"text-align: right;\">\n",
              "      <th></th>\n",
              "      <th>Topic #01</th>\n",
              "      <th>Topic #02</th>\n",
              "      <th>Topic #03</th>\n",
              "      <th>Topic #04</th>\n",
              "      <th>Topic #05</th>\n",
              "      <th>Topic #06</th>\n",
              "      <th>Topic #07</th>\n",
              "      <th>Topic #08</th>\n",
              "      <th>Topic #09</th>\n",
              "      <th>Topic #10</th>\n",
              "    </tr>\n",
              "  </thead>\n",
              "  <tbody>\n",
              "    <tr>\n",
              "      <th>0</th>\n",
              "      <td>write</td>\n",
              "      <td>ai</td>\n",
              "      <td>like</td>\n",
              "      <td>model</td>\n",
              "      <td>google</td>\n",
              "      <td>openai</td>\n",
              "      <td>ask</td>\n",
              "      <td>ai</td>\n",
              "      <td>ai</td>\n",
              "      <td>code</td>\n",
              "    </tr>\n",
              "    <tr>\n",
              "      <th>1</th>\n",
              "      <td>ask</td>\n",
              "      <td>web</td>\n",
              "      <td>use</td>\n",
              "      <td>code</td>\n",
              "      <td>search</td>\n",
              "      <td>gpt</td>\n",
              "      <td>answer</td>\n",
              "      <td>human</td>\n",
              "      <td>art</td>\n",
              "      <td>work</td>\n",
              "    </tr>\n",
              "    <tr>\n",
              "      <th>2</th>\n",
              "      <td>generate</td>\n",
              "      <td>bitcoin</td>\n",
              "      <td>try</td>\n",
              "      <td>language</td>\n",
              "      <td>like</td>\n",
              "      <td>ai</td>\n",
              "      <td>question</td>\n",
              "      <td>tool</td>\n",
              "      <td>thank</td>\n",
              "      <td>like</td>\n",
              "    </tr>\n",
              "    <tr>\n",
              "      <th>3</th>\n",
              "      <td>ai</td>\n",
              "      <td>python</td>\n",
              "      <td>thing</td>\n",
              "      <td>gt</td>\n",
              "      <td>time</td>\n",
              "      <td>year</td>\n",
              "      <td>good</td>\n",
              "      <td>intelligence</td>\n",
              "      <td>know</td>\n",
              "      <td>generate</td>\n",
              "    </tr>\n",
              "    <tr>\n",
              "      <th>4</th>\n",
              "      <td>prompt</td>\n",
              "      <td>join</td>\n",
              "      <td>ask</td>\n",
              "      <td>game</td>\n",
              "      <td>use</td>\n",
              "      <td>twitter</td>\n",
              "      <td>student</td>\n",
              "      <td>new</td>\n",
              "      <td>love</td>\n",
              "      <td>use</td>\n",
              "    </tr>\n",
              "    <tr>\n",
              "      <th>5</th>\n",
              "      <td>story</td>\n",
              "      <td>machinelearning</td>\n",
              "      <td>way</td>\n",
              "      <td>train</td>\n",
              "      <td>day</td>\n",
              "      <td>dalle</td>\n",
              "      <td>test</td>\n",
              "      <td>future</td>\n",
              "      <td>aiart</td>\n",
              "      <td>text</td>\n",
              "    </tr>\n",
              "    <tr>\n",
              "      <th>6</th>\n",
              "      <td>book</td>\n",
              "      <td>nocode</td>\n",
              "      <td>know</td>\n",
              "      <td>ai</td>\n",
              "      <td>good</td>\n",
              "      <td>stablediffusion</td>\n",
              "      <td>problem</td>\n",
              "      <td>like</td>\n",
              "      <td>world</td>\n",
              "      <td>need</td>\n",
              "    </tr>\n",
              "    <tr>\n",
              "      <th>7</th>\n",
              "      <td>tweet</td>\n",
              "      <td>metaverse</td>\n",
              "      <td>help</td>\n",
              "      <td>text</td>\n",
              "      <td>find</td>\n",
              "      <td>use</td>\n",
              "      <td>give</td>\n",
              "      <td>think</td>\n",
              "      <td>midjourney</td>\n",
              "      <td>copy</td>\n",
              "    </tr>\n",
              "    <tr>\n",
              "      <th>8</th>\n",
              "      <td>post</td>\n",
              "      <td>fintech</td>\n",
              "      <td>people</td>\n",
              "      <td>learn</td>\n",
              "      <td>start</td>\n",
              "      <td>free</td>\n",
              "      <td>get</td>\n",
              "      <td>amp</td>\n",
              "      <td>artist</td>\n",
              "      <td>tool</td>\n",
              "    </tr>\n",
              "    <tr>\n",
              "      <th>9</th>\n",
              "      <td>create</td>\n",
              "      <td>daysofcode</td>\n",
              "      <td>explain</td>\n",
              "      <td>datum</td>\n",
              "      <td>thing</td>\n",
              "      <td>midjourney</td>\n",
              "      <td>wrong</td>\n",
              "      <td>education</td>\n",
              "      <td>bring</td>\n",
              "      <td>create</td>\n",
              "    </tr>\n",
              "  </tbody>\n",
              "</table>\n",
              "</div>\n",
              "      <button class=\"colab-df-convert\" onclick=\"convertToInteractive('df-ec6629b2-0fe9-4264-9e9c-c02999e4d39f')\"\n",
              "              title=\"Convert this dataframe to an interactive table.\"\n",
              "              style=\"display:none;\">\n",
              "        \n",
              "  <svg xmlns=\"http://www.w3.org/2000/svg\" height=\"24px\"viewBox=\"0 0 24 24\"\n",
              "       width=\"24px\">\n",
              "    <path d=\"M0 0h24v24H0V0z\" fill=\"none\"/>\n",
              "    <path d=\"M18.56 5.44l.94 2.06.94-2.06 2.06-.94-2.06-.94-.94-2.06-.94 2.06-2.06.94zm-11 1L8.5 8.5l.94-2.06 2.06-.94-2.06-.94L8.5 2.5l-.94 2.06-2.06.94zm10 10l.94 2.06.94-2.06 2.06-.94-2.06-.94-.94-2.06-.94 2.06-2.06.94z\"/><path d=\"M17.41 7.96l-1.37-1.37c-.4-.4-.92-.59-1.43-.59-.52 0-1.04.2-1.43.59L10.3 9.45l-7.72 7.72c-.78.78-.78 2.05 0 2.83L4 21.41c.39.39.9.59 1.41.59.51 0 1.02-.2 1.41-.59l7.78-7.78 2.81-2.81c.8-.78.8-2.07 0-2.86zM5.41 20L4 18.59l7.72-7.72 1.47 1.35L5.41 20z\"/>\n",
              "  </svg>\n",
              "      </button>\n",
              "      \n",
              "  <style>\n",
              "    .colab-df-container {\n",
              "      display:flex;\n",
              "      flex-wrap:wrap;\n",
              "      gap: 12px;\n",
              "    }\n",
              "\n",
              "    .colab-df-convert {\n",
              "      background-color: #E8F0FE;\n",
              "      border: none;\n",
              "      border-radius: 50%;\n",
              "      cursor: pointer;\n",
              "      display: none;\n",
              "      fill: #1967D2;\n",
              "      height: 32px;\n",
              "      padding: 0 0 0 0;\n",
              "      width: 32px;\n",
              "    }\n",
              "\n",
              "    .colab-df-convert:hover {\n",
              "      background-color: #E2EBFA;\n",
              "      box-shadow: 0px 1px 2px rgba(60, 64, 67, 0.3), 0px 1px 3px 1px rgba(60, 64, 67, 0.15);\n",
              "      fill: #174EA6;\n",
              "    }\n",
              "\n",
              "    [theme=dark] .colab-df-convert {\n",
              "      background-color: #3B4455;\n",
              "      fill: #D2E3FC;\n",
              "    }\n",
              "\n",
              "    [theme=dark] .colab-df-convert:hover {\n",
              "      background-color: #434B5C;\n",
              "      box-shadow: 0px 1px 3px 1px rgba(0, 0, 0, 0.15);\n",
              "      filter: drop-shadow(0px 1px 2px rgba(0, 0, 0, 0.3));\n",
              "      fill: #FFFFFF;\n",
              "    }\n",
              "  </style>\n",
              "\n",
              "      <script>\n",
              "        const buttonEl =\n",
              "          document.querySelector('#df-ec6629b2-0fe9-4264-9e9c-c02999e4d39f button.colab-df-convert');\n",
              "        buttonEl.style.display =\n",
              "          google.colab.kernel.accessAllowed ? 'block' : 'none';\n",
              "\n",
              "        async function convertToInteractive(key) {\n",
              "          const element = document.querySelector('#df-ec6629b2-0fe9-4264-9e9c-c02999e4d39f');\n",
              "          const dataTable =\n",
              "            await google.colab.kernel.invokeFunction('convertToInteractive',\n",
              "                                                     [key], {});\n",
              "          if (!dataTable) return;\n",
              "\n",
              "          const docLinkHtml = 'Like what you see? Visit the ' +\n",
              "            '<a target=\"_blank\" href=https://colab.research.google.com/notebooks/data_table.ipynb>data table notebook</a>'\n",
              "            + ' to learn more about interactive tables.';\n",
              "          element.innerHTML = '';\n",
              "          dataTable['output_type'] = 'display_data';\n",
              "          await google.colab.output.renderOutput(dataTable, element);\n",
              "          const docLink = document.createElement('div');\n",
              "          docLink.innerHTML = docLinkHtml;\n",
              "          element.appendChild(docLink);\n",
              "        }\n",
              "      </script>\n",
              "    </div>\n",
              "  </div>\n",
              "  "
            ]
          },
          "metadata": {},
          "execution_count": 42
        }
      ]
    },
    {
      "cell_type": "markdown",
      "source": [
        "**Get the representation for a single topic:**\n",
        "\n",
        "Words here are the actual strings, in constrast to get_topic_terms() that represents words by their vocabulary ID."
      ],
      "metadata": {
        "id": "Q6mLgO3McFQ1"
      }
    },
    {
      "cell_type": "code",
      "source": [
        "# show_topics() returns (word, probability)\n",
        "lda_model.show_topic(1)"
      ],
      "metadata": {
        "colab": {
          "base_uri": "https://localhost:8080/"
        },
        "id": "K8JvEwpLcE0H",
        "outputId": "2fd68a8c-4110-4967-8ca4-629c2f54efc6"
      },
      "execution_count": null,
      "outputs": [
        {
          "output_type": "execute_result",
          "data": {
            "text/plain": [
              "[('like', 0.029191507),\n",
              " ('write', 0.022481373),\n",
              " ('know', 0.018452957),\n",
              " ('code', 0.014667037),\n",
              " ('ask', 0.014526835),\n",
              " ('good', 0.013296267),\n",
              " ('generate', 0.013064524),\n",
              " ('people', 0.01178944),\n",
              " ('work', 0.011723153),\n",
              " ('word', 0.0114967525)]"
            ]
          },
          "metadata": {},
          "execution_count": 65
        }
      ]
    },
    {
      "cell_type": "markdown",
      "source": [
        "**Get the topic distribution for the given document:**\n",
        "\n",
        "The following example means: the given tweet is most probably in topic 6, 7"
      ],
      "metadata": {
        "id": "aSxRxzBvgC7k"
      }
    },
    {
      "cell_type": "code",
      "source": [
        "lda_model.get_document_topics(corpus[1], minimum_probability=None, minimum_phi_value=None, per_word_topics=False)"
      ],
      "metadata": {
        "colab": {
          "base_uri": "https://localhost:8080/"
        },
        "id": "NFiy8xmufZeW",
        "outputId": "4e2db510-134d-4096-9f1d-7f75e9ef7779"
      },
      "execution_count": null,
      "outputs": [
        {
          "output_type": "execute_result",
          "data": {
            "text/plain": [
              "[(0, 0.011117182),\n",
              " (1, 0.011114335),\n",
              " (2, 0.011113715),\n",
              " (3, 0.011114799),\n",
              " (4, 0.011118634),\n",
              " (5, 0.011113304),\n",
              " (6, 0.68109703),\n",
              " (7, 0.22998236),\n",
              " (8, 0.011113584),\n",
              " (9, 0.011115062)]"
            ]
          },
          "metadata": {},
          "execution_count": 71
        }
      ]
    },
    {
      "cell_type": "markdown",
      "source": [
        "### PyLDAvis visualization\n",
        "\n",
        "[How to understand the visualization](https://community.alteryx.com/t5/Data-Science/Getting-to-the-Point-with-Topic-Modeling-Part-3-Interpreting-the/ba-p/614992)"
      ],
      "metadata": {
        "id": "azvQ8zeIg6gK"
      }
    },
    {
      "cell_type": "code",
      "source": [
        "# for content ver_3.0 on 22 DEC subset\n",
        "pyLDAvis.enable_notebook()\n",
        "vis = pyLDAvis.gensim_models.prepare(lda_model, corpus, id2word, mds=\"mmds\", R=30)\n",
        "vis"
      ],
      "metadata": {
        "colab": {
          "base_uri": "https://localhost:8080/",
          "height": 953
        },
        "id": "sl30jVYTswjs",
        "outputId": "d40adea3-1d7a-42d1-f3fe-c27ddbcd3c03"
      },
      "execution_count": null,
      "outputs": [
        {
          "output_type": "stream",
          "name": "stderr",
          "text": [
            "/usr/local/lib/python3.9/dist-packages/pyLDAvis/_prepare.py:243: FutureWarning: In a future version of pandas all arguments of DataFrame.drop except for the argument 'labels' will be keyword-only.\n",
            "  default_term_info = default_term_info.sort_values(\n",
            "/usr/local/lib/python3.9/dist-packages/sklearn/manifold/_mds.py:299: FutureWarning: The default value of `normalized_stress` will change to `'auto'` in version 1.4. To suppress this warning, manually set the value of `normalized_stress`.\n",
            "  warnings.warn(\n"
          ]
        },
        {
          "output_type": "execute_result",
          "data": {
            "text/plain": [
              "PreparedData(topic_coordinates=              x         y  topics  cluster       Freq\n",
              "topic                                                \n",
              "7      0.011183  0.051741       1        1  14.248105\n",
              "6      0.044346 -0.306110       2        1  12.069566\n",
              "2     -0.128649 -0.077505       3        1  11.761054\n",
              "0     -0.188416  0.274068       4        1  11.069187\n",
              "4      0.232296 -0.229551       5        1  11.000773\n",
              "9      0.229253 -0.032125       6        1  10.826510\n",
              "3      0.063211  0.314414       7        1   8.501927\n",
              "5     -0.243015 -0.280225       8        1   8.066020\n",
              "8     -0.361681  0.055183       9        1   6.867062\n",
              "1      0.341473  0.230110      10        1   5.589796, topic_info=        Term          Freq         Total Category  logprob  loglift\n",
              "50     write  11243.000000  11243.000000  Default  30.0000  30.0000\n",
              "70        ai  19357.000000  19357.000000  Default  29.0000  29.0000\n",
              "188   google   4518.000000   4518.000000  Default  28.0000  28.0000\n",
              "29       ask   9436.000000   9436.000000  Default  27.0000  27.0000\n",
              "237   answer   4109.000000   4109.000000  Default  26.0000  26.0000\n",
              "...      ...           ...           ...      ...      ...      ...\n",
              "1963   space    312.358661    382.599237  Topic10  -4.9621   2.6814\n",
              "70        ai   1615.001982  19357.713675  Topic10  -3.3191   0.4005\n",
              "1281     nft    344.112552    710.629754  Topic10  -4.8653   2.1590\n",
              "54       gpt    453.262733   3833.196323  Topic10  -4.5898   0.7492\n",
              "1961   happy    297.610257    459.472727  Topic10  -5.0105   2.4499\n",
              "\n",
              "[691 rows x 6 columns], token_table=      Topic      Freq     Term\n",
              "term                          \n",
              "3199      7  0.996446      act\n",
              "348       3  0.169364   action\n",
              "348       5  0.825266   action\n",
              "749       1  0.133867      add\n",
              "749       2  0.025326      add\n",
              "...     ...       ...      ...\n",
              "808       9  0.027466     year\n",
              "808      10  0.003975     year\n",
              "2624      1  0.002050  youtube\n",
              "2624      4  0.867202  youtube\n",
              "2624     10  0.129158  youtube\n",
              "\n",
              "[1862 rows x 3 columns], R=30, lambda_step=0.01, plot_opts={'xlab': 'PC1', 'ylab': 'PC2'}, topic_order=[8, 7, 3, 1, 5, 10, 4, 6, 9, 2])"
            ],
            "text/html": [
              "\n",
              "<link rel=\"stylesheet\" type=\"text/css\" href=\"https://cdn.jsdelivr.net/gh/bmabey/pyLDAvis@3.4.0/pyLDAvis/js/ldavis.v1.0.0.css\">\n",
              "\n",
              "\n",
              "<div id=\"ldavis_el1451397229818262249419261513\" style=\"background-color:white;\"></div>\n",
              "<script type=\"text/javascript\">\n",
              "\n",
              "var ldavis_el1451397229818262249419261513_data = {\"mdsDat\": {\"x\": [0.011182631517392051, 0.04434573805867502, -0.12864922589042221, -0.18841563089695684, 0.232295504533525, 0.22925281720959823, 0.0632114347484402, -0.24301460605469366, -0.361681236685381, 0.341472573459823], \"y\": [0.05174115300009474, -0.30610956681721785, -0.07750515558321061, 0.2740679698636322, -0.229550935445232, -0.03212508296636576, 0.31441376744629923, -0.2802250633138585, 0.05518253440409565, 0.230110379411763], \"topics\": [1, 2, 3, 4, 5, 6, 7, 8, 9, 10], \"cluster\": [1, 1, 1, 1, 1, 1, 1, 1, 1, 1], \"Freq\": [14.24810541495847, 12.069566480631384, 11.761053716505032, 11.069187217224135, 11.000772919743303, 10.826510050362975, 8.501926797697775, 8.0660195549505, 6.867061810988993, 5.589796036937427]}, \"tinfo\": {\"Term\": [\"write\", \"ai\", \"google\", \"ask\", \"answer\", \"question\", \"openai\", \"search\", \"model\", \"gpt\", \"code\", \"language\", \"gt\", \"art\", \"thank\", \"intelligence\", \"game\", \"human\", \"dalle\", \"web\", \"story\", \"twitter\", \"book\", \"love\", \"know\", \"student\", \"generate\", \"time\", \"midjourney\", \"bitcoin\", \"intelligence\", \"artificial\", \"eth\", \"education\", \"programmer\", \"trading\", \"automatically\", \"promote\", \"gm\", \"lawyer\", \"copywriter\", \"vertical\", \"ethic\", \"debate\", \"plagiarism\", \"rt\", \"university\", \"evolve\", \"reverse\", \"vision\", \"inappropriate\", \"routine\", \"crypto\", \"terrify\", \"edtech\", \"health\", \"professional\", \"assessment\", \"expose\", \"admit\", \"blow\", \"mind\", \"technology\", \"kill\", \"innovation\", \"automate\", \"thought\", \"future\", \"engineer\", \"human\", \"ai\", \"society\", \"chatbot\", \"tool\", \"job\", \"article\", \"tech\", \"software\", \"new\", \"podcast\", \"late\", \"artificialintelligence\", \"content\", \"replace\", \"think\", \"amp\", \"like\", \"openai\", \"people\", \"talk\", \"change\", \"generate\", \"year\", \"use\", \"write\", \"work\", \"deeplearne\", \"teacher\", \"invent\", \"currency\", \"evaluate\", \"ahead\", \"educator\", \"family\", \"defend\", \"unit\", \"microsoft\", \"beauty\", \"george\", \"click\", \"educational\", \"speed\", \"vr\", \"desire\", \"king\", \"bird\", \"paraphrase\", \"monster\", \"fire\", \"glimpse\", \"carefully\", \"smile\", \"contradict\", \"direction\", \"phrase\", \"constrain\", \"question\", \"solve\", \"advice\", \"exam\", \"summarize\", \"calculator\", \"io\", \"problem\", \"pass\", \"pick\", \"answer\", \"wrong\", \"analytic\", \"cheat\", \"correct\", \"test\", \"error\", \"student\", \"math\", \"mistake\", \"solution\", \"interview\", \"ask\", \"datascience\", \"learning\", \"school\", \"give\", \"creation\", \"good\", \"pretty\", \"get\", \"right\", \"say\", \"essay\", \"try\", \"response\", \"word\", \"think\", \"topic\", \"like\", \"time\", \"learn\", \"code\", \"find\", \"write\", \"look\", \"know\", \"travel\", \"table\", \"blockchain\", \"entity\", \"notice\", \"daily\", \"wake\", \"quote\", \"fascinating\", \"coder\", \"practice\", \"bro\", \"owner\", \"auto\", \"detect\", \"difference\", \"automation\", \"income\", \"rise\", \"guest\", \"barely\", \"climate\", \"domain\", \"hypothetical\", \"backend\", \"democracy\", \"command\", \"deepfake\", \"rail\", \"supposedly\", \"law\", \"pattern\", \"emerge\", \"file\", \"ride\", \"architecture\", \"guy\", \"engineering\", \"break\", \"social\", \"medium\", \"building\", \"explain\", \"important\", \"class\", \"scenario\", \"issue\", \"interesting\", \"try\", \"stuff\", \"thing\", \"way\", \"old\", \"help\", \"case\", \"fact\", \"bad\", \"want\", \"use\", \"people\", \"like\", \"thread\", \"know\", \"ask\", \"lot\", \"list\", \"think\", \"tell\", \"code\", \"go\", \"find\", \"good\", \"need\", \"write\", \"change\", \"ai\", \"start\", \"christmas\", \"cybersecurity\", \"linkedin\", \"fuel\", \"poem\", \"kid\", \"introduce\", \"ill\", \"worthy\", \"charge\", \"tag\", \"stock\", \"diffusion\", \"stable\", \"paragraph\", \"hack\", \"song\", \"friday\", \"capacity\", \"mad\", \"therapist\", \"meal\", \"insist\", \"tiktok\", \"eve\", \"manipulate\", \"generator\", \"workflow\", \"bug\", \"photoshop\", \"description\", \"story\", \"letter\", \"book\", \"style\", \"title\", \"opinion\", \"write\", \"short\", \"character\", \"script\", \"youtube\", \"tweet\", \"post\", \"blog\", \"video\", \"tip\", \"craft\", \"ask\", \"prompt\", \"generate\", \"image\", \"friend\", \"essay\", \"tell\", \"create\", \"fun\", \"ai\", \"text\", \"get\", \"use\", \"thread\", \"search\", \"partner\", \"promise\", \"engine\", \"entertain\", \"imaginary\", \"win\", \"spit\", \"raise\", \"tomorrow\", \"surprisingly\", \"align\", \"waste\", \"client\", \"extract\", \"advance\", \"habit\", \"study\", \"doubt\", \"greeting\", \"store\", \"confident\", \"theme\", \"entirety\", \"teaching\", \"official\", \"sneak\", \"shit\", \"chance\", \"deploy\", \"google\", \"assist\", \"morning\", \"spend\", \"goal\", \"sentence\", \"fucking\", \"recently\", \"cost\", \"meeting\", \"time\", \"save\", \"query\", \"hour\", \"lol\", \"sorry\", \"like\", \"put\", \"day\", \"replace\", \"source\", \"action\", \"start\", \"cool\", \"find\", \"well\", \"look\", \"use\", \"lot\", \"thing\", \"people\", \"good\", \"go\", \"know\", \"feel\", \"today\", \"get\", \"think\", \"work\", \"co\", \"listen\", \"view\", \"newsletter\", \"log\", \"cut\", \"assume\", \"doc\", \"score\", \"walk\", \"slack\", \"edge\", \"detector\", \"wordpress\", \"recipe\", \"practical\", \"enter\", \"working\", \"secure\", \"replacement\", \"cross\", \"favorite\", \"revenue\", \"pm\", \"generic\", \"decade\", \"bore\", \"vacation\", \"dear\", \"fulfill\", \"extension\", \"creative\", \"brainstorm\", \"copy\", \"review\", \"concise\", \"draft\", \"wall\", \"multiple\", \"min\", \"update\", \"paste\", \"speech\", \"document\", \"seo\", \"lie\", \"website\", \"page\", \"add\", \"anymore\", \"code\", \"work\", \"run\", \"note\", \"output\", \"text\", \"need\", \"generate\", \"paper\", \"idea\", \"build\", \"tool\", \"like\", \"use\", \"create\", \"useful\", \"help\", \"content\", \"amp\", \"great\", \"write\", \"know\", \"come\", \"gt\", \"quiz\", \"doom\", \"red\", \"category\", \"unique\", \"illustration\", \"animation\", \"github\", \"act\", \"changer\", \"tune\", \"collection\", \"moat\", \"copilot\", \"finish\", \"increase\", \"endless\", \"spread\", \"rock\", \"decentralize\", \"element\", \"vulnerability\", \"fear\", \"prime\", \"heavily\", \"cicero\", \"game\", \"integration\", \"lt\", \"language\", \"large\", \"low\", \"tonight\", \"spot\", \"welcome\", \"box\", \"model\", \"trend\", \"natural\", \"customer\", \"train\", \"option\", \"code\", \"program\", \"datum\", \"base\", \"assistant\", \"learn\", \"text\", \"ai\", \"mean\", \"gpt\", \"human\", \"skill\", \"create\", \"prompt\", \"new\", \"understand\", \"world\", \"generate\", \"machinelearne\", \"demand\", \"college\", \"mlart\", \"transaction\", \"threat\", \"rlhf\", \"marketer\", \"recommendation\", \"sam\", \"war\", \"switch\", \"ban\", \"retweet\", \"censorship\", \"canva\", \"visualize\", \"mlsogood\", \"enthusiast\", \"journalist\", \"engage\", \"spreadsheet\", \"pro\", \"bottle\", \"boomer\", \"explicitly\", \"genie\", \"black\", \"reveal\", \"aiartgenerator\", \"startup\", \"month\", \"reach\", \"god\", \"credit\", \"buy\", \"public\", \"stablediffusion\", \"dalle\", \"twitch\", \"company\", \"hear\", \"user\", \"openai\", \"gpt\", \"free\", \"release\", \"twitter\", \"pay\", \"hype\", \"year\", \"midjourney\", \"business\", \"imagine\", \"application\", \"product\", \"day\", \"take\", \"digital\", \"ai\", \"launch\", \"week\", \"world\", \"artificialintelligence\", \"use\", \"go\", \"amp\", \"digitalart\", \"chrome\", \"musk\", \"artist\", \"elon\", \"facebook\", \"classroom\", \"devops\", \"headline\", \"choice\", \"competitor\", \"scientific\", \"prevent\", \"daughter\", \"sentient\", \"destroy\", \"faculty\", \"compelling\", \"art\", \"ais\", \"prove\", \"attention\", \"internal\", \"gmail\", \"bright\", \"excel\", \"humanity\", \"praise\", \"ironic\", \"coverage\", \"bring\", \"love\", \"thank\", \"aiart\", \"fossil\", \"peer\", \"inspire\", \"possibility\", \"enjoy\", \"finally\", \"storytelle\", \"agree\", \"know\", \"robot\", \"ai\", \"music\", \"world\", \"creativity\", \"midjourney\", \"history\", \"let\", \"talk\", \"amp\", \"writing\", \"create\", \"work\", \"future\", \"little\", \"metaverse\", \"nocode\", \"fintech\", \"nftcommunity\", \"aiartwork\", \"holiday\", \"insurtech\", \"cybersecurite\", \"gptchat\", \"dollar\", \"socialmedia\", \"cause\", \"stream\", \"shame\", \"cryptocurrencie\", \"ens\", \"watermark\", \"excellent\", \"iot\", \"cloud\", \"item\", \"essential\", \"essentially\", \"success\", \"landscape\", \"twice\", \"feeling\", \"dec\", \"associate\", \"revolution\", \"join\", \"daysofcode\", \"machinelearning\", \"demo\", \"instance\", \"token\", \"draw\", \"film\", \"bitcoin\", \"prediction\", \"control\", \"generativeai\", \"sell\", \"funny\", \"web\", \"python\", \"space\", \"ai\", \"nft\", \"gpt\", \"happy\"], \"Freq\": [11243.0, 19357.0, 4518.0, 9436.0, 4109.0, 3627.0, 4078.0, 2176.0, 2460.0, 3833.0, 5009.0, 1541.0, 1399.0, 1236.0, 1252.0, 1621.0, 1294.0, 3378.0, 1305.0, 1296.0, 1248.0, 2126.0, 1240.0, 949.0, 4592.0, 1678.0, 4250.0, 3813.0, 1711.0, 894.0, 1620.313879804467, 870.6634506469601, 635.7920603641267, 1120.2809450978027, 359.9807578422313, 309.39339368338824, 282.17015499824345, 259.7720726631587, 233.55201428362318, 213.9168365159385, 204.25600779920103, 202.95901475727425, 247.56107018368823, 225.43253692945166, 200.2324262069578, 181.16749732021833, 179.97269770929702, 212.58201760063795, 176.4611957977688, 155.47116040805585, 150.69004153312446, 149.5303791918322, 421.7226224080579, 147.51885328277902, 145.45031043224338, 139.41697767430557, 138.45073587039076, 143.66720988666248, 133.37742007025932, 134.42167111583075, 645.8864297457857, 662.5362242972845, 1115.4914690358619, 238.97205401199375, 486.1835792201639, 293.5911847734949, 689.4213611282681, 1504.329050603036, 255.36999393881658, 2232.086563553687, 9786.314197445347, 405.18180239651656, 1035.5644450037173, 1633.4512188509914, 951.0477757140657, 892.5262756828411, 831.0937727242496, 377.08531051283404, 1596.8046227059688, 448.60797114869615, 438.0593734220703, 756.7495085466204, 990.8037222233056, 729.9437848587562, 1284.3056930321486, 1120.766747981328, 1496.7478767493553, 1069.2165458173997, 907.6002570641695, 685.4092226573816, 651.7047801589747, 872.6539710114857, 678.6980438912968, 802.2535044410845, 719.1150955459582, 659.2770538071557, 892.5406174632213, 661.2748672163433, 315.8704715552635, 273.46454564964444, 251.01026180122912, 235.4344563688028, 211.36955391305725, 199.85483918800892, 195.1487964663859, 194.89912242183578, 193.59786447346235, 188.23482022182876, 184.6410353158169, 179.69319449011624, 182.9384858591542, 172.29038262971054, 219.43851102353776, 170.9439221682836, 164.6233228690941, 159.87586975390434, 157.45565607473162, 156.57948574539117, 177.4305108396812, 155.55660078135213, 150.77933801682428, 143.8314122055012, 141.01754735345483, 139.89513608182145, 139.43796129790067, 134.99377676805443, 3542.781661826772, 767.1665054128026, 384.3907273327319, 375.8621159755893, 544.5435564406295, 252.4494721200433, 185.40440691935945, 1111.0069098292352, 354.6184831022489, 327.89750386682834, 3747.2800298613147, 995.8774441773054, 342.66067380024975, 324.68827129077965, 481.4989641319778, 1192.3655095412396, 311.5428105549714, 1358.8078717386852, 328.8137607137017, 280.3285063064149, 567.2569609744464, 437.86463833699975, 4294.780227818453, 376.4477179540803, 372.4965313960873, 432.305077029361, 1086.8295227877677, 323.2345880899007, 1392.0525979287581, 668.687720339887, 999.0506179603648, 709.1943777856467, 683.1408564570463, 642.8400056381056, 811.5991957719124, 585.8755944970417, 552.1296353774136, 767.3129844424443, 490.91773627112354, 838.7664783007725, 673.7213662834415, 563.51380246238, 653.5822050395471, 560.9225058540554, 656.9555309280606, 526.540592589497, 528.583041608202, 433.66961791873484, 404.3309159771475, 418.5617639799811, 341.0762232970809, 347.71343745495466, 273.38625512238605, 387.306330690734, 311.47382921918853, 239.58271617967927, 226.0764311961557, 330.48380201478744, 233.7302157100189, 220.94248086541694, 215.01612035956762, 204.54386922496346, 275.82407361701297, 188.62740313157994, 187.36347380892218, 187.12862163346173, 182.97196115101158, 180.12728930428707, 177.96504658411467, 171.14259198023953, 169.64175517027948, 156.20564596714323, 154.03690933615135, 154.29164774693265, 144.91769841156076, 142.09162276400104, 140.67806017975093, 204.36494776962476, 187.06274232942465, 203.22086061936238, 212.04527641727526, 175.5222756625497, 163.67615788676852, 576.5791236056735, 396.42981622665525, 655.6515618156562, 468.55307017919523, 513.1630452159827, 254.22263683409923, 828.5216543314783, 507.8315225681915, 297.85036959566, 211.08925030054192, 453.79238902155697, 605.9695144535814, 1127.4855656450277, 495.201281459726, 1067.1601515050052, 956.4361295807689, 411.27017351569447, 858.9092212629956, 506.8135309859284, 425.89446068110465, 517.7852666281407, 707.99650618406, 1145.8842799528534, 839.0138900939916, 1219.8177826076299, 553.504531127606, 886.1651926281645, 1057.1927636728292, 532.099901386059, 450.7651333287117, 698.3448929648623, 544.4565236393237, 681.3047835145369, 608.3748415290914, 587.1591255568376, 636.2345498152932, 591.6471394787268, 679.8093036343774, 512.1157982375028, 586.5682452673261, 508.65845760924117, 907.601866348792, 528.0549311861944, 386.9303913189217, 307.9703171774511, 873.7637866170082, 355.67663442507506, 331.25179762733774, 242.74206389901465, 229.04292211950073, 214.31029403427385, 211.54642144588675, 208.92256679469864, 235.88953995605544, 226.8273913821725, 218.0126613354711, 199.29334969091332, 569.4359525259912, 186.4069251944388, 169.4904473851579, 168.89573128050145, 166.00455843351455, 165.79185628788127, 152.57318758269454, 251.8117648807389, 155.98289393535043, 144.80623579605424, 222.19161232385116, 139.5076146217453, 140.93662484764707, 133.1499688906852, 341.5571713099807, 1212.0914083984378, 467.80219184632887, 1186.7776305611376, 650.0606020502003, 327.783019921253, 288.728016723961, 8326.257099802386, 567.544516805263, 484.4428009817237, 616.1067461698742, 423.37571863614994, 1111.2458145316386, 1016.4224736356897, 633.2711672649197, 899.7038175208634, 346.7731893096987, 288.1685006018999, 3300.0635824314522, 1318.2866587840863, 1642.9049522958617, 525.347588473393, 531.8380907304021, 694.5216475905519, 745.872423486334, 930.2401574060927, 551.5070713587722, 1638.611892039144, 745.9346536806447, 628.3460918866184, 617.217793852028, 476.204173544059, 2172.9440763394914, 419.31573174180863, 361.50320912970085, 497.94264403951377, 270.44005996521497, 245.53840182887745, 551.4451600574795, 271.4056403494252, 211.88166827865427, 211.53568892212778, 208.24171675679904, 192.06284099161175, 186.97369060450467, 181.2576993308612, 177.21808305844496, 160.63861199586674, 156.54411391206324, 275.49419724962223, 172.02663387478145, 141.5316325821433, 135.89531043324703, 135.76550426336624, 133.3231665116331, 128.99548975351166, 128.10769694881014, 123.46128233696375, 123.1965571025322, 432.03612284276676, 147.2078353094652, 107.20641873119159, 4434.676472746913, 425.35708718066934, 321.4261932908373, 492.1274421576945, 197.57036932377184, 395.0971358817983, 204.3368150331468, 243.6198392329238, 382.05385525664326, 305.276379218954, 1908.542958526853, 673.8564072160747, 395.40059640624946, 560.8907216707531, 384.404273388, 255.72682613453813, 2076.691584503946, 244.1934651117353, 973.7799947471601, 679.3683121860723, 499.38051273017703, 268.43267616305485, 802.0790113596975, 533.544547689553, 812.2574348433836, 696.3455766797623, 711.6331317429258, 1106.4089733236642, 552.4385341371155, 788.962105051295, 785.0488999866988, 825.8668969727107, 729.4261688069963, 732.032599800267, 526.2007130108896, 547.110652472079, 561.948559126388, 522.3734863830632, 462.81902100848066, 455.3718674263884, 329.2044856796707, 295.56318502059304, 285.87683505533687, 230.3503658018113, 232.38202621557593, 230.5524872204406, 225.0353292898428, 235.6468446611233, 214.96764170286278, 209.07866650814034, 204.16652428383398, 203.35413385376862, 196.13315395459978, 193.59294944970904, 186.64638932962723, 182.52747605455224, 179.64701437161642, 179.86694872148323, 173.60977923170145, 166.61425871022394, 245.48002551155184, 160.43814308947427, 150.4112440958872, 148.2706128236821, 143.93866896757018, 151.2764191724727, 137.45371536161355, 135.79467731621023, 135.3223025329189, 613.6073761536269, 604.2901060980905, 224.72093608540246, 808.4023462287635, 590.4298743659971, 154.97529950344637, 355.3808598558524, 160.9500182993798, 175.30192718883998, 180.55074387733802, 504.9208805295757, 312.4141978436593, 262.43711081780634, 271.5274219890105, 520.6097052593263, 366.84337040534916, 415.6848579053043, 351.2885150205893, 516.4102413053672, 239.4853401305477, 1472.7746039038768, 1112.1470810133596, 482.94773416965984, 370.3337388028145, 457.1540461647985, 883.5983573448812, 867.2584448188926, 966.5880995141724, 446.7276242575406, 665.7940717571662, 544.8478513684151, 690.9229851937654, 1089.5258257428816, 911.0130422199607, 686.1310047767898, 434.39113280386914, 568.2829462565845, 529.9332551279092, 554.7710428725093, 462.1382049630797, 602.4561994124709, 500.0552330749401, 462.25651503066615, 1397.8753162789667, 417.7628289729067, 371.4921959750865, 414.7011188382774, 308.0777501689665, 304.55248271123725, 293.0673315958037, 295.05294006406314, 390.5863699510963, 279.09925314911226, 287.92505075896844, 276.6751556172467, 270.25610059037564, 271.33839819477924, 366.65092392375027, 232.19680833745284, 222.51530742842903, 207.7587642550082, 200.07267151215441, 185.56409230780045, 182.16106817852375, 170.86511445662217, 169.84969188747624, 165.68148521698998, 165.12092669053945, 160.24363284639963, 144.60236662322436, 1286.9405863198529, 144.22275477690368, 143.3882788878876, 1529.917331060357, 469.02877895083185, 217.17289147071642, 319.8572083410054, 202.9190728001092, 194.63289081391073, 439.31805482548356, 2081.619459554003, 358.140961093974, 255.01761775729025, 314.49778516562856, 924.8559106673672, 306.559524067185, 1804.9210059452719, 418.275953800277, 609.7527570662937, 572.9886529519, 343.18320799409844, 706.1727434949485, 722.0167054052293, 901.0400525664593, 389.7048397061449, 547.6629459103277, 500.05364256599125, 344.8731817047453, 479.55011397079386, 421.6767334826129, 432.64177353442375, 353.0839692408897, 378.30074157601064, 358.093195469642, 531.1163109640642, 411.643805024546, 300.73838679819517, 236.0639884610336, 228.18413261370176, 242.05513757826338, 222.759396074454, 194.58470403887375, 198.7104045512914, 191.85674037898454, 247.3802135754888, 169.71259081662157, 163.78041926661626, 162.2993220540062, 146.47740874509205, 144.7794456343888, 138.56048385474497, 136.1243789263305, 135.4017725166144, 134.6890631814897, 134.06800675530883, 133.52878114131815, 130.73563174923348, 127.77217769633809, 119.5890964773189, 117.85962018138243, 117.56835377482642, 117.37485846877985, 116.03324252785517, 115.54321737103803, 639.9081939158439, 644.4877802672523, 237.09296931162527, 181.2784771354298, 128.34296898004845, 339.6512548098199, 269.6005406210708, 916.4576505543804, 1106.9785557837358, 229.58314408947305, 727.8897080621338, 515.6727958070296, 726.5053772470064, 2287.1760292886183, 1975.055046993935, 798.3356454295679, 499.1537685532561, 1149.3956180145703, 567.1501799593071, 287.64308754808957, 1157.5071403851798, 751.7048886958571, 559.3780372737789, 446.22298400165704, 422.7117635224315, 467.87142508709655, 748.4120420058773, 563.806168392803, 366.6538632935567, 1684.5126864221188, 329.0709521690766, 498.81477875293143, 656.0040762441304, 508.32088890688124, 879.4452308022594, 410.1244241279481, 385.15137574043075, 419.45726807987893, 409.80294997778594, 340.39174026325674, 459.98240383693184, 376.8753340440333, 236.2865560464545, 224.07299811666905, 222.0504398072369, 219.75633632692606, 204.6949372467926, 202.28384082120994, 185.2618268810615, 184.8983240296074, 179.56735740552924, 179.08402742789428, 176.7176523344032, 157.40018165639276, 151.65532248695087, 1228.9691688950381, 161.33832709581225, 150.5692056363396, 219.2415622610977, 145.4498450868883, 143.75628156135565, 166.19115974058872, 141.14467321974948, 210.59589339810253, 135.66567809278752, 135.93598490534103, 128.66683430348735, 435.73570529540785, 925.8830880751447, 1218.133303751816, 887.2229199557172, 225.70252447355443, 271.13286138929755, 187.0699194017964, 254.86285011701165, 232.34492533051176, 398.2440367716637, 225.4908034997015, 235.39465718759578, 1184.519816038078, 357.304038209116, 2102.0021876335677, 247.40532861735284, 688.3025880113307, 286.3860655774367, 460.19274602007226, 245.24461037189582, 367.5365036834897, 348.94134060670035, 356.8093076749416, 283.26777718214777, 289.8153989442013, 274.325119352996, 262.4132101913122, 236.61504016712718, 573.3952119414829, 603.1940125762503, 526.8027136518485, 368.2531316373896, 352.6854003070358, 327.3110815017884, 318.26876408563754, 314.3137309621119, 339.91721439445865, 286.4520635342684, 301.57289682254964, 271.94803766830057, 278.74090037821486, 228.7396977686041, 321.27292820047495, 215.09941429089997, 213.6060823067634, 203.1088833472644, 195.41318350361445, 173.69434810412832, 140.32347034407758, 139.55827539635365, 135.60789789376673, 129.1374888939135, 129.1088485115316, 125.72612421911501, 171.7954367137504, 120.30414442744251, 119.6755316806059, 116.80719114985105, 721.7567573244044, 487.8088953909448, 702.9473836432948, 262.1213520440866, 169.78941486574897, 166.9495692292217, 363.18577922190815, 323.7907877674372, 812.9021762520755, 371.19606602327406, 332.01548254024857, 294.9903268477153, 290.4545050120851, 482.7675230030232, 859.680691539038, 757.6602409150603, 312.35866114416075, 1615.0019817489238, 344.1125523809013, 453.2627331441444, 297.6102567469545], \"Total\": [11243.0, 19357.0, 4518.0, 9436.0, 4109.0, 3627.0, 4078.0, 2176.0, 2460.0, 3833.0, 5009.0, 1541.0, 1399.0, 1236.0, 1252.0, 1621.0, 1294.0, 3378.0, 1305.0, 1296.0, 1248.0, 2126.0, 1240.0, 949.0, 4592.0, 1678.0, 4250.0, 3813.0, 1711.0, 894.0, 1621.4404016532342, 871.584180983521, 636.7247940803977, 1123.221806257048, 360.9324953443562, 310.3060269315178, 283.10643438690835, 260.6942734684275, 234.4646591673107, 214.82933756503942, 205.17036708427833, 203.8727153151603, 248.6799466032768, 226.45365261662315, 201.1448630523451, 182.08098230186158, 180.88518286159226, 213.6850128422286, 177.41493481442967, 156.3847246884278, 151.60278103662503, 150.4432595644876, 424.3056634214045, 148.4313571822499, 146.36278591467834, 140.3295078739394, 139.365376058995, 144.61784928315046, 134.2902329068274, 135.35067667628508, 652.7359678596536, 678.7433709768403, 1206.964128192672, 245.00549111123505, 538.3138172786627, 312.72773428611765, 793.1179017138475, 1891.3429910625214, 271.2284458575819, 3378.9413407834845, 19357.713674660303, 470.36977213558004, 1440.689740283784, 2721.7024862073035, 1504.4219797918397, 1473.9802840880616, 1373.074490981912, 467.43197158225234, 4191.800204351726, 636.0557371284458, 616.940547263702, 1452.325874471287, 2359.90404914781, 1436.2859077221844, 4359.1684719214545, 3428.5205486514365, 7876.596803113072, 4078.6083352203577, 3362.1963428954937, 1903.0639951700996, 1746.7742738290956, 4250.652831415388, 2767.0583267229113, 6190.727078004889, 11243.124701976143, 3532.02327930005, 893.4309824985362, 662.2328425460097, 316.76305670252293, 274.35492758956553, 251.9018393760346, 236.33605761417573, 212.25927227021705, 200.7556374683649, 196.03841987886292, 195.79000479486155, 194.4873374219329, 189.12437491720135, 185.53122306797792, 180.58261130398517, 183.85900739323841, 173.17976916692018, 220.58937025372379, 171.85578994809805, 165.5133506275945, 160.7658524861641, 158.3478762137164, 157.46932394773435, 178.44226127954894, 156.45911579163982, 151.66891176155477, 144.72964415889496, 141.90949039158357, 140.78451588342404, 140.32732976413826, 135.88409011405122, 3627.562665812095, 777.5487451940402, 388.2788719079125, 379.7619415198732, 553.3375494905855, 254.72633567472053, 186.79962800404306, 1140.2998549914923, 362.0385853181973, 334.29125437880907, 4109.0662035110445, 1055.3552527531708, 353.7039396552955, 337.0440963966596, 517.8654025649907, 1388.176340503287, 328.9663280858109, 1678.7243061116485, 350.21917600196093, 294.6622628626402, 657.5176036539596, 513.4501362402567, 9436.034142843353, 443.0326069457164, 438.21717376975613, 540.8729188644362, 1945.8378929890036, 375.7946255879532, 4242.049542356344, 1443.2492595087035, 3284.225481047297, 1747.8589100721636, 1650.0509699728661, 1505.8081483962535, 3361.0773880242114, 1512.8026088644328, 1312.5504886332806, 4359.1684719214545, 1128.804355298838, 7876.596803113072, 3813.931026740168, 2209.6933544882195, 5009.129678141928, 2682.895662383333, 11243.124701976143, 2263.180916678398, 4592.034821268388, 434.5653932093089, 405.22684326421563, 419.59706783530055, 341.97540574856606, 348.66175544654914, 274.2815652940194, 388.619311281523, 312.61363244194115, 240.50317693062905, 226.97184785692315, 331.79409230153794, 234.67090084671253, 221.83787553228333, 215.91171374755518, 205.43917536909692, 277.0821986981027, 189.52376946811447, 188.25881429380482, 188.02392272051233, 183.86724316279611, 181.02279182637673, 178.860902064692, 172.04135477968137, 170.53760944296573, 157.10116741429255, 154.93351997409712, 155.21309825017642, 145.81354766250672, 142.9896540174202, 141.57456164051516, 205.7520656846632, 188.28750194513896, 204.97368786612418, 214.12847664914008, 176.81342216912066, 164.76716109977212, 602.7995604161081, 431.1256741041708, 761.4351185996289, 554.3760438098898, 641.9502970036477, 275.279675258283, 1199.9054276354714, 701.3097883678379, 362.36728926986893, 223.44020602953884, 683.9831424504588, 1222.9981381356047, 3361.0773880242114, 884.7398691630899, 3296.6956331103693, 2961.620528260297, 692.6725509022756, 2659.3903889382777, 1019.7411044154231, 755.5233917931655, 1132.2882860551304, 2204.4593195539082, 6190.727078004889, 3362.1963428954937, 7876.596803113072, 1356.7325419110298, 4592.034821268388, 9436.034142843353, 1400.5092527349418, 884.9362273110614, 4359.1684719214545, 1794.3779133815233, 5009.129678141928, 3175.811613119066, 2682.895662383333, 4242.049542356344, 2965.5468094493854, 11243.124701976143, 1746.7742738290956, 19357.713674660303, 2327.498338709839, 908.5188782504144, 528.958949869217, 387.83456289441807, 308.87424278262375, 876.6970715519064, 356.9209156527316, 332.4486501682927, 243.67710349914842, 229.9473603245855, 215.21418548087314, 212.4502230165023, 209.82730624625427, 236.91636854831572, 227.82306059131813, 218.99507985712148, 200.19993924792675, 572.0278054260538, 187.31097122614597, 170.39421022650384, 169.79964192891708, 166.90813297552614, 166.69562756424588, 153.47752098711752, 253.30531389128222, 156.91581634440888, 145.72019108842983, 223.6152268462484, 140.41149734086054, 141.877930885353, 134.05416922055826, 346.09741018061317, 1248.4767991902133, 477.35495205569555, 1240.6057340412115, 683.0346740689205, 340.6360696696651, 301.45484871960423, 11243.124701976143, 649.3611717828393, 552.1215373561138, 747.1437646364727, 487.77564508527803, 1574.2672585996024, 1496.0660071315338, 834.2241690159051, 1397.8952228061419, 401.0094306646049, 315.64271367265866, 9436.034142843353, 2774.418810649104, 4250.652831415388, 806.1342418497791, 825.4378745073278, 1505.8081483962535, 1794.3779133815233, 3213.648874094152, 1111.6664221144852, 19357.713674660303, 2743.3503437798076, 3284.225481047297, 6190.727078004889, 1356.7325419110298, 2176.6471074167366, 420.2149254152347, 362.4064840831289, 499.3513302700477, 271.3415778093899, 246.4387662232452, 553.5094794276304, 272.4766731827239, 212.77974231190558, 212.4337035322876, 209.1428282376778, 192.96158938542862, 187.8802125933544, 182.15568929948193, 178.12245841600316, 161.55174096636932, 157.4422806610824, 277.1389939547334, 173.09812071067364, 142.4304224740873, 136.79335578595342, 136.6635088278687, 134.23906921772712, 129.89434679380273, 129.0206345626511, 124.35923895285266, 124.15494387523907, 435.53281105862226, 148.40305969041705, 108.10446681388726, 4518.385976202231, 428.9835676565617, 324.20894145274457, 515.2019866223312, 201.10428715335365, 411.9164120636882, 208.5940419011587, 251.2324383703901, 414.35498921217606, 329.4553935420005, 3813.931026740168, 1029.4220458715836, 522.958879954664, 877.7010725645732, 533.5872771648707, 298.57396267339027, 7876.596803113072, 279.74744135556955, 2503.997703147877, 1436.2859077221844, 919.1284416403516, 324.7437770195847, 2327.498338709839, 1142.1869247692075, 2682.895662383333, 2003.847473576257, 2263.180916678398, 6190.727078004889, 1400.5092527349418, 3296.6956331103693, 3362.1963428954937, 4242.049542356344, 3175.811613119066, 4592.034821268388, 1426.72694835919, 1792.8429040731448, 3284.225481047297, 4359.1684719214545, 3532.02327930005, 456.27016711700253, 330.1026543234275, 296.4858828898666, 286.8356486340725, 231.24867313033872, 233.28833244670406, 231.46417776936153, 225.93678601274758, 236.6265047136617, 215.86619898725857, 209.98120100848274, 205.0647161182862, 204.25229521863315, 197.03567120960224, 194.51952094670335, 187.5505967341475, 183.42867758748005, 180.5456281489516, 180.76670107674204, 174.53537575405355, 167.52715790524059, 246.8524026868492, 161.34957062026993, 151.30931963712325, 149.16875051734723, 144.83715793024916, 152.23776490420107, 138.35218333150755, 136.6959892428648, 136.22086255960488, 618.5886295454864, 611.8704917966969, 226.2191476335436, 826.0878549476109, 603.2185499381266, 156.02681937430987, 365.3169334765248, 162.19968545429634, 177.19522294226812, 182.79539593539516, 562.4677686918283, 332.8523664085262, 275.8492861063661, 289.01296886253743, 647.0781966638322, 429.52969046414034, 518.8561769195256, 458.6629693833154, 829.1831824496327, 269.2489706941915, 5009.129678141928, 3532.02327930005, 870.9834755612295, 558.1384256368793, 822.3457364365854, 2743.3503437798076, 2965.5468094493854, 4250.652831415388, 882.0280328362109, 2035.4893878396988, 1503.9746214123777, 2721.7024862073035, 7876.596803113072, 6190.727078004889, 3213.648874094152, 1030.1556001211459, 2659.3903889382777, 2359.90404914781, 3428.5205486514365, 1992.2091773839468, 11243.124701976143, 4592.034821268388, 2559.115114765228, 1399.149180818739, 418.6587938193429, 372.3933086290358, 415.7374694283596, 308.9780910286966, 305.4530714767183, 293.9642865699194, 295.95881908538007, 391.8135884127197, 279.9949684687529, 288.85543665562466, 277.57081535956445, 271.1520822435946, 272.25167404308564, 368.0473279965875, 233.1221274038007, 223.4109884625376, 208.6547573010206, 200.96901592124985, 186.46008417239455, 183.05696004233226, 171.76087792343338, 170.74585311076225, 166.57723187396275, 166.01717133270594, 161.13944104994619, 145.5002218747548, 1294.9336619943713, 145.11920936800027, 144.2904997589747, 1541.162015219377, 472.54548603669446, 218.58212463826743, 323.9066515525638, 204.85293346527646, 196.32248305653115, 452.64020495477837, 2460.051952411979, 377.50787122536883, 266.9846349670466, 339.98671335098106, 1275.685650716086, 368.2134513842604, 5009.129678141928, 652.7013526452154, 1359.6728442531457, 1226.2851926580818, 489.1846927775937, 2209.6933544882195, 2743.3503437798076, 19357.713674660303, 986.26382978468, 3833.1963234642353, 3378.9413407834845, 629.0794799567411, 3213.648874094152, 2774.418810649104, 4191.800204351726, 1082.6011158106705, 2698.959222179883, 4250.652831415388, 532.0250460694164, 412.5705302026649, 301.84699567084306, 236.97728380704618, 229.10522815854577, 243.03585951492215, 223.66801565779355, 195.49582943198442, 199.68470040506227, 192.81717701761977, 248.65107848269588, 170.62127413880205, 164.68900818099016, 163.20846347091586, 147.39024430635396, 145.6890603889141, 139.46979475191978, 137.0375827069738, 136.31132979425746, 135.59767244377693, 134.97660258828304, 134.43748742887664, 131.64421895184364, 128.68183024014093, 120.50688445950186, 118.76907020428675, 118.47868678834747, 118.28871340986632, 116.94189101898513, 116.45372002063765, 646.5149443086676, 655.3451676440116, 239.0487398064541, 182.7923962209325, 129.37402940817216, 346.2880392738801, 277.3883182571636, 1017.206962017399, 1305.8580366516169, 244.82087649888712, 890.8741421227594, 639.0554201727439, 980.928490490875, 4078.6083352203577, 3833.1963234642353, 1239.1825511304487, 701.4486212412986, 2126.801402520518, 851.5073227279736, 353.7947751125335, 2767.0583267229113, 1711.4518057233229, 1118.3862960270806, 777.5556789160962, 717.9914130955327, 874.6340044599111, 2503.997703147877, 1409.2246659787224, 622.1433996669899, 19357.713674660303, 489.8130348694337, 1340.3639322964223, 2698.959222179883, 1452.325874471287, 6190.727078004889, 3175.811613119066, 3428.5205486514365, 420.37680334532666, 410.7157039925905, 341.30770379411564, 461.46595170497676, 378.21517447691286, 237.19282427388606, 224.97763027928073, 222.9567195693176, 220.66633905951275, 205.60429893710332, 203.1881498204172, 186.16598859431, 185.8025363458166, 180.4716487615218, 179.9897115873631, 177.65052078413615, 158.30496177534516, 152.56090050190858, 1236.311165189232, 162.30508532362663, 151.48184270857286, 220.57608740752758, 146.35438900735528, 144.6608043477554, 167.25142722820678, 142.0488141140666, 211.97101033647616, 136.56988186005825, 136.87161871372987, 129.57232465996753, 442.71752645330895, 949.2427517148275, 1252.4670928423282, 919.489314181009, 230.51396647003193, 279.47143547110886, 191.25446539662101, 285.3687461272847, 255.2218718436239, 529.2602896897696, 251.31732460806623, 283.68317882813835, 4592.034821268388, 643.4209410844297, 19357.713674660303, 331.5900672887693, 2698.959222179883, 463.33398767210986, 1711.4518057233229, 346.4696176983651, 1747.413898377981, 1903.0639951700996, 3428.5205486514365, 1222.3252778892795, 3213.648874094152, 3532.02327930005, 1891.3429910625214, 587.0309047198673, 574.3097980399833, 604.1973113281771, 527.7174201065963, 369.1678626786534, 353.60841770781286, 328.22606488290165, 319.18334302593, 315.2283662644523, 340.91725216187183, 287.3834098588948, 302.57947344031567, 272.8628848096468, 279.6923539157536, 229.65561328569262, 322.5762247644039, 216.01448314741037, 214.52229667078524, 204.03207189913596, 196.32784014862145, 174.60911102076972, 141.23836525575265, 140.474184186683, 136.5226586864897, 130.0522132210148, 130.0241525612664, 126.64252005357586, 173.10061096939006, 121.21883455504725, 120.59051481953195, 117.72439102165141, 729.3801595898784, 492.59736156871196, 713.0257776394742, 264.50975284607114, 171.37419475289943, 168.50026108591334, 370.8739928372069, 330.71898568748094, 894.0707512710649, 394.16224955258633, 350.5417123546125, 312.3139633439969, 311.38614009052935, 565.3740218050845, 1296.9834265378406, 1107.0966289705673, 382.5992373448673, 19357.713674660303, 710.6297535798915, 3833.1963234642353, 459.4727270521011], \"Category\": [\"Default\", \"Default\", \"Default\", \"Default\", \"Default\", \"Default\", \"Default\", \"Default\", \"Default\", \"Default\", \"Default\", \"Default\", \"Default\", \"Default\", \"Default\", \"Default\", \"Default\", \"Default\", \"Default\", \"Default\", \"Default\", \"Default\", \"Default\", \"Default\", \"Default\", \"Default\", \"Default\", \"Default\", \"Default\", \"Default\", \"Topic1\", \"Topic1\", \"Topic1\", \"Topic1\", \"Topic1\", \"Topic1\", \"Topic1\", \"Topic1\", \"Topic1\", \"Topic1\", \"Topic1\", \"Topic1\", \"Topic1\", \"Topic1\", \"Topic1\", \"Topic1\", \"Topic1\", \"Topic1\", \"Topic1\", \"Topic1\", \"Topic1\", \"Topic1\", \"Topic1\", \"Topic1\", \"Topic1\", \"Topic1\", \"Topic1\", \"Topic1\", \"Topic1\", \"Topic1\", \"Topic1\", \"Topic1\", \"Topic1\", \"Topic1\", \"Topic1\", \"Topic1\", \"Topic1\", \"Topic1\", \"Topic1\", \"Topic1\", \"Topic1\", \"Topic1\", \"Topic1\", \"Topic1\", \"Topic1\", \"Topic1\", \"Topic1\", \"Topic1\", \"Topic1\", \"Topic1\", \"Topic1\", \"Topic1\", \"Topic1\", \"Topic1\", \"Topic1\", \"Topic1\", \"Topic1\", \"Topic1\", \"Topic1\", \"Topic1\", \"Topic1\", \"Topic1\", \"Topic1\", \"Topic1\", \"Topic1\", \"Topic1\", \"Topic2\", \"Topic2\", \"Topic2\", \"Topic2\", \"Topic2\", \"Topic2\", \"Topic2\", \"Topic2\", \"Topic2\", \"Topic2\", \"Topic2\", \"Topic2\", \"Topic2\", \"Topic2\", \"Topic2\", \"Topic2\", \"Topic2\", \"Topic2\", \"Topic2\", \"Topic2\", \"Topic2\", \"Topic2\", \"Topic2\", \"Topic2\", \"Topic2\", \"Topic2\", \"Topic2\", \"Topic2\", \"Topic2\", \"Topic2\", \"Topic2\", \"Topic2\", \"Topic2\", \"Topic2\", \"Topic2\", \"Topic2\", \"Topic2\", \"Topic2\", \"Topic2\", \"Topic2\", \"Topic2\", \"Topic2\", \"Topic2\", \"Topic2\", \"Topic2\", \"Topic2\", \"Topic2\", \"Topic2\", \"Topic2\", \"Topic2\", \"Topic2\", \"Topic2\", \"Topic2\", \"Topic2\", \"Topic2\", \"Topic2\", \"Topic2\", \"Topic2\", \"Topic2\", \"Topic2\", \"Topic2\", \"Topic2\", \"Topic2\", \"Topic2\", \"Topic2\", \"Topic2\", \"Topic2\", \"Topic2\", \"Topic2\", \"Topic2\", \"Topic2\", \"Topic2\", \"Topic2\", \"Topic2\", \"Topic2\", \"Topic2\", \"Topic2\", \"Topic3\", \"Topic3\", \"Topic3\", \"Topic3\", \"Topic3\", \"Topic3\", \"Topic3\", \"Topic3\", \"Topic3\", \"Topic3\", \"Topic3\", \"Topic3\", \"Topic3\", \"Topic3\", \"Topic3\", \"Topic3\", \"Topic3\", \"Topic3\", \"Topic3\", \"Topic3\", \"Topic3\", \"Topic3\", \"Topic3\", \"Topic3\", \"Topic3\", \"Topic3\", \"Topic3\", \"Topic3\", \"Topic3\", \"Topic3\", \"Topic3\", \"Topic3\", \"Topic3\", \"Topic3\", \"Topic3\", \"Topic3\", \"Topic3\", \"Topic3\", \"Topic3\", \"Topic3\", \"Topic3\", \"Topic3\", \"Topic3\", \"Topic3\", \"Topic3\", \"Topic3\", \"Topic3\", \"Topic3\", \"Topic3\", \"Topic3\", \"Topic3\", \"Topic3\", \"Topic3\", \"Topic3\", \"Topic3\", \"Topic3\", \"Topic3\", \"Topic3\", \"Topic3\", \"Topic3\", \"Topic3\", \"Topic3\", \"Topic3\", \"Topic3\", \"Topic3\", \"Topic3\", \"Topic3\", \"Topic3\", \"Topic3\", \"Topic3\", \"Topic3\", \"Topic3\", \"Topic3\", \"Topic3\", \"Topic3\", \"Topic3\", \"Topic3\", \"Topic4\", \"Topic4\", \"Topic4\", \"Topic4\", \"Topic4\", \"Topic4\", \"Topic4\", \"Topic4\", \"Topic4\", \"Topic4\", \"Topic4\", \"Topic4\", \"Topic4\", \"Topic4\", \"Topic4\", \"Topic4\", \"Topic4\", \"Topic4\", \"Topic4\", \"Topic4\", \"Topic4\", \"Topic4\", \"Topic4\", \"Topic4\", \"Topic4\", \"Topic4\", \"Topic4\", \"Topic4\", \"Topic4\", \"Topic4\", \"Topic4\", \"Topic4\", \"Topic4\", \"Topic4\", \"Topic4\", \"Topic4\", \"Topic4\", \"Topic4\", \"Topic4\", \"Topic4\", \"Topic4\", \"Topic4\", \"Topic4\", \"Topic4\", \"Topic4\", \"Topic4\", \"Topic4\", \"Topic4\", \"Topic4\", \"Topic4\", \"Topic4\", \"Topic4\", \"Topic4\", \"Topic4\", \"Topic4\", \"Topic4\", \"Topic4\", \"Topic4\", \"Topic4\", \"Topic4\", \"Topic4\", \"Topic4\", \"Topic5\", \"Topic5\", \"Topic5\", \"Topic5\", \"Topic5\", \"Topic5\", \"Topic5\", \"Topic5\", \"Topic5\", \"Topic5\", \"Topic5\", \"Topic5\", \"Topic5\", \"Topic5\", \"Topic5\", \"Topic5\", \"Topic5\", \"Topic5\", \"Topic5\", \"Topic5\", \"Topic5\", \"Topic5\", \"Topic5\", \"Topic5\", \"Topic5\", \"Topic5\", \"Topic5\", \"Topic5\", \"Topic5\", \"Topic5\", \"Topic5\", \"Topic5\", \"Topic5\", \"Topic5\", \"Topic5\", \"Topic5\", \"Topic5\", \"Topic5\", \"Topic5\", \"Topic5\", \"Topic5\", \"Topic5\", \"Topic5\", \"Topic5\", \"Topic5\", \"Topic5\", \"Topic5\", \"Topic5\", \"Topic5\", \"Topic5\", \"Topic5\", \"Topic5\", \"Topic5\", \"Topic5\", \"Topic5\", \"Topic5\", \"Topic5\", \"Topic5\", \"Topic5\", \"Topic5\", \"Topic5\", \"Topic5\", \"Topic5\", \"Topic5\", \"Topic5\", \"Topic5\", \"Topic5\", \"Topic5\", \"Topic5\", \"Topic6\", \"Topic6\", \"Topic6\", \"Topic6\", \"Topic6\", \"Topic6\", \"Topic6\", \"Topic6\", \"Topic6\", \"Topic6\", \"Topic6\", \"Topic6\", \"Topic6\", \"Topic6\", \"Topic6\", \"Topic6\", \"Topic6\", \"Topic6\", \"Topic6\", \"Topic6\", \"Topic6\", \"Topic6\", \"Topic6\", \"Topic6\", \"Topic6\", \"Topic6\", \"Topic6\", \"Topic6\", \"Topic6\", \"Topic6\", \"Topic6\", \"Topic6\", \"Topic6\", \"Topic6\", \"Topic6\", \"Topic6\", \"Topic6\", \"Topic6\", \"Topic6\", \"Topic6\", \"Topic6\", \"Topic6\", \"Topic6\", \"Topic6\", \"Topic6\", \"Topic6\", \"Topic6\", \"Topic6\", \"Topic6\", \"Topic6\", \"Topic6\", \"Topic6\", \"Topic6\", \"Topic6\", \"Topic6\", \"Topic6\", \"Topic6\", \"Topic6\", \"Topic6\", \"Topic6\", \"Topic6\", \"Topic6\", \"Topic6\", \"Topic6\", \"Topic6\", \"Topic6\", \"Topic6\", \"Topic6\", \"Topic6\", \"Topic6\", \"Topic6\", \"Topic6\", \"Topic6\", \"Topic7\", \"Topic7\", \"Topic7\", \"Topic7\", \"Topic7\", \"Topic7\", \"Topic7\", \"Topic7\", \"Topic7\", \"Topic7\", \"Topic7\", \"Topic7\", \"Topic7\", \"Topic7\", \"Topic7\", \"Topic7\", \"Topic7\", \"Topic7\", \"Topic7\", \"Topic7\", \"Topic7\", \"Topic7\", \"Topic7\", \"Topic7\", \"Topic7\", \"Topic7\", \"Topic7\", \"Topic7\", \"Topic7\", \"Topic7\", \"Topic7\", \"Topic7\", \"Topic7\", \"Topic7\", \"Topic7\", \"Topic7\", \"Topic7\", \"Topic7\", \"Topic7\", \"Topic7\", \"Topic7\", \"Topic7\", \"Topic7\", \"Topic7\", \"Topic7\", \"Topic7\", \"Topic7\", \"Topic7\", \"Topic7\", \"Topic7\", \"Topic7\", \"Topic7\", \"Topic7\", \"Topic7\", \"Topic7\", \"Topic7\", \"Topic7\", \"Topic7\", \"Topic7\", \"Topic7\", \"Topic7\", \"Topic8\", \"Topic8\", \"Topic8\", \"Topic8\", \"Topic8\", \"Topic8\", \"Topic8\", \"Topic8\", \"Topic8\", \"Topic8\", \"Topic8\", \"Topic8\", \"Topic8\", \"Topic8\", \"Topic8\", \"Topic8\", \"Topic8\", \"Topic8\", \"Topic8\", \"Topic8\", \"Topic8\", \"Topic8\", \"Topic8\", \"Topic8\", \"Topic8\", \"Topic8\", \"Topic8\", \"Topic8\", \"Topic8\", \"Topic8\", \"Topic8\", \"Topic8\", \"Topic8\", \"Topic8\", \"Topic8\", \"Topic8\", \"Topic8\", \"Topic8\", \"Topic8\", \"Topic8\", \"Topic8\", \"Topic8\", \"Topic8\", \"Topic8\", \"Topic8\", \"Topic8\", \"Topic8\", \"Topic8\", \"Topic8\", \"Topic8\", \"Topic8\", \"Topic8\", \"Topic8\", \"Topic8\", \"Topic8\", \"Topic8\", \"Topic8\", \"Topic8\", \"Topic8\", \"Topic8\", \"Topic8\", \"Topic8\", \"Topic8\", \"Topic8\", \"Topic8\", \"Topic8\", \"Topic8\", \"Topic9\", \"Topic9\", \"Topic9\", \"Topic9\", \"Topic9\", \"Topic9\", \"Topic9\", \"Topic9\", \"Topic9\", \"Topic9\", \"Topic9\", \"Topic9\", \"Topic9\", \"Topic9\", \"Topic9\", \"Topic9\", \"Topic9\", \"Topic9\", \"Topic9\", \"Topic9\", \"Topic9\", \"Topic9\", \"Topic9\", \"Topic9\", \"Topic9\", \"Topic9\", \"Topic9\", \"Topic9\", \"Topic9\", \"Topic9\", \"Topic9\", \"Topic9\", \"Topic9\", \"Topic9\", \"Topic9\", \"Topic9\", \"Topic9\", \"Topic9\", \"Topic9\", \"Topic9\", \"Topic9\", \"Topic9\", \"Topic9\", \"Topic9\", \"Topic9\", \"Topic9\", \"Topic9\", \"Topic9\", \"Topic9\", \"Topic9\", \"Topic9\", \"Topic9\", \"Topic9\", \"Topic9\", \"Topic9\", \"Topic9\", \"Topic9\", \"Topic9\", \"Topic10\", \"Topic10\", \"Topic10\", \"Topic10\", \"Topic10\", \"Topic10\", \"Topic10\", \"Topic10\", \"Topic10\", \"Topic10\", \"Topic10\", \"Topic10\", \"Topic10\", \"Topic10\", \"Topic10\", \"Topic10\", \"Topic10\", \"Topic10\", \"Topic10\", \"Topic10\", \"Topic10\", \"Topic10\", \"Topic10\", \"Topic10\", \"Topic10\", \"Topic10\", \"Topic10\", \"Topic10\", \"Topic10\", \"Topic10\", \"Topic10\", \"Topic10\", \"Topic10\", \"Topic10\", \"Topic10\", \"Topic10\", \"Topic10\", \"Topic10\", \"Topic10\", \"Topic10\", \"Topic10\", \"Topic10\", \"Topic10\", \"Topic10\", \"Topic10\", \"Topic10\", \"Topic10\", \"Topic10\", \"Topic10\", \"Topic10\", \"Topic10\"], \"logprob\": [30.0, 29.0, 28.0, 27.0, 26.0, 25.0, 24.0, 23.0, 22.0, 21.0, 20.0, 19.0, 18.0, 17.0, 16.0, 15.0, 14.0, 13.0, 12.0, 11.0, 10.0, 9.0, 8.0, 7.0, 6.0, 5.0, 4.0, 3.0, 2.0, 1.0, -4.2515, -4.8727, -5.187, -4.6206, -5.7559, -5.9073, -5.9994, -6.0821, -6.1885, -6.2763, -6.3225, -6.3289, -6.1303, -6.2239, -6.3424, -6.4425, -6.4491, -6.2826, -6.4688, -6.5955, -6.6267, -6.6344, -5.5976, -6.648, -6.6621, -6.7044, -6.7114, -6.6744, -6.7487, -6.7409, -5.1713, -5.1458, -4.6249, -6.1656, -5.4553, -5.9597, -5.1061, -4.3258, -6.0992, -3.9312, -2.4532, -5.6376, -4.6992, -4.2435, -4.7844, -4.8479, -4.9192, -5.7094, -4.2662, -5.5358, -5.5596, -5.0129, -4.7434, -5.049, -4.4839, -4.6201, -4.3309, -4.6672, -4.8311, -5.1119, -5.1623, -4.8704, -5.1217, -4.9545, -5.0639, -5.1508, -4.6819, -4.9818, -5.7206, -5.8648, -5.9505, -6.0145, -6.1224, -6.1784, -6.2022, -6.2035, -6.2102, -6.2383, -6.2576, -6.2847, -6.2668, -6.3268, -6.0849, -6.3346, -6.3723, -6.4016, -6.4168, -6.4224, -6.2974, -6.429, -6.4602, -6.5073, -6.5271, -6.5351, -6.5384, -6.5708, -3.3033, -4.8333, -5.5243, -5.5468, -5.176, -5.9448, -6.2534, -4.463, -5.6049, -5.6833, -3.2472, -4.5724, -5.6392, -5.6931, -5.2991, -4.3923, -5.7344, -4.2616, -5.6805, -5.84, -5.1352, -5.3941, -3.1108, -5.5452, -5.5558, -5.4068, -4.485, -5.6976, -4.2374, -4.9707, -4.5692, -4.9119, -4.9493, -5.0101, -4.777, -5.1029, -5.1622, -4.8331, -5.2797, -4.744, -4.9632, -5.1418, -4.9935, -5.1464, -4.9884, -5.2097, -5.2058, -5.3778, -5.4479, -5.4133, -5.618, -5.5987, -5.8392, -5.4909, -5.7088, -5.9712, -6.0292, -5.6495, -5.9959, -6.0522, -6.0794, -6.1293, -5.8303, -6.2103, -6.217, -6.2183, -6.2408, -6.2564, -6.2685, -6.3076, -6.3164, -6.3989, -6.4129, -6.4112, -6.4739, -6.4936, -6.5036, -6.1302, -6.2186, -6.1358, -6.0933, -6.2823, -6.3522, -5.093, -5.4676, -4.9645, -5.3004, -5.2095, -5.9119, -4.7304, -5.2199, -5.7535, -6.0978, -5.3324, -5.0433, -4.4223, -5.2451, -4.4773, -4.5869, -5.4308, -4.6944, -5.2219, -5.3959, -5.2005, -4.8876, -4.4062, -4.7179, -4.3436, -5.1338, -4.6632, -4.4867, -5.1733, -5.3391, -4.9014, -5.1503, -4.9261, -5.0393, -5.0748, -4.9945, -5.0672, -4.9283, -5.2115, -5.0758, -5.2183, -4.5787, -5.1203, -5.4312, -5.6595, -4.6166, -5.5154, -5.5866, -5.8975, -5.9555, -6.022, -6.035, -6.0475, -5.9261, -5.9653, -6.0049, -6.0947, -5.0448, -6.1615, -6.2567, -6.2602, -6.2774, -6.2787, -6.3618, -5.8608, -6.3397, -6.4141, -5.9859, -6.4513, -6.4411, -6.498, -5.5559, -4.2894, -5.2414, -4.3105, -4.9124, -5.5971, -5.724, -2.3623, -5.0481, -5.2065, -4.966, -5.3412, -4.3762, -4.4654, -4.9386, -4.5874, -5.5408, -5.7259, -3.2878, -4.2054, -3.9852, -5.1254, -5.1131, -4.8462, -4.7749, -4.554, -5.0768, -3.9879, -4.7748, -4.9464, -4.9642, -5.2236, -3.6994, -5.3446, -5.493, -5.1728, -5.7832, -5.8798, -5.0707, -5.7796, -6.0272, -6.0289, -6.0446, -6.1254, -6.1523, -6.1833, -6.2059, -6.3041, -6.3299, -5.7647, -6.2356, -6.4307, -6.4714, -6.4723, -6.4905, -6.5235, -6.5304, -6.5673, -6.5695, -5.3148, -6.3914, -6.7085, -2.986, -5.3303, -5.6105, -5.1845, -6.0972, -5.4041, -6.0635, -5.8877, -5.4377, -5.662, -3.8292, -4.8702, -5.4034, -5.0537, -5.4316, -5.8391, -3.7447, -5.8853, -4.5021, -4.8621, -5.1699, -5.7907, -4.6961, -5.1037, -4.6834, -4.8374, -4.8157, -4.3744, -5.0689, -4.7125, -4.7175, -4.6668, -4.791, -4.7874, -5.1176, -5.0786, -5.0518, -5.1249, -5.2459, -5.2462, -5.5706, -5.6784, -5.7117, -5.9277, -5.9189, -5.9268, -5.951, -5.905, -5.9968, -6.0246, -6.0484, -6.0523, -6.0885, -6.1015, -6.1381, -6.1604, -6.1763, -6.1751, -6.2105, -6.2516, -5.8641, -6.2894, -6.3539, -6.3683, -6.3979, -6.3482, -6.444, -6.4561, -6.4596, -4.9479, -4.9632, -5.9524, -4.6722, -4.9864, -6.324, -5.4941, -6.2862, -6.2008, -6.1713, -5.1429, -5.623, -5.7973, -5.7632, -5.1123, -5.4624, -5.3374, -5.5057, -5.1204, -5.8888, -4.0724, -4.3532, -5.1874, -5.4529, -5.2423, -4.5833, -4.602, -4.4935, -5.2653, -4.8663, -5.0668, -4.8293, -4.3738, -4.5527, -4.8362, -5.2933, -5.0247, -5.0945, -5.0487, -5.2314, -4.9663, -5.1526, -5.2312, -3.8829, -5.0907, -5.2081, -5.098, -5.3952, -5.4067, -5.4452, -5.4384, -5.1579, -5.494, -5.4629, -5.5027, -5.5262, -5.5222, -5.2212, -5.678, -5.7206, -5.7892, -5.8269, -5.9022, -5.9207, -5.9847, -5.9907, -6.0155, -6.0189, -6.0489, -6.1516, -3.9656, -6.1542, -6.16, -3.7926, -4.9749, -5.7449, -5.3577, -5.8128, -5.8545, -5.0404, -3.4847, -5.2447, -5.5843, -5.3746, -4.2959, -5.4002, -3.6273, -5.0894, -4.7125, -4.7747, -5.2873, -4.5657, -4.5435, -4.322, -5.1602, -4.8199, -4.9109, -5.2824, -4.9527, -5.0813, -5.0557, -5.2589, -5.1899, -5.2448, -4.798, -5.0528, -5.3667, -5.6089, -5.6428, -5.5838, -5.6669, -5.8021, -5.7811, -5.8162, -5.562, -5.9388, -5.9744, -5.9835, -6.0861, -6.0977, -6.1416, -6.1594, -6.1647, -6.17, -6.1746, -6.1786, -6.1998, -6.2227, -6.2889, -6.3035, -6.3059, -6.3076, -6.3191, -6.3233, -4.6116, -4.6045, -5.6045, -5.8729, -6.2182, -5.245, -5.476, -4.2524, -4.0636, -5.6367, -4.4828, -4.8275, -4.4847, -3.3379, -3.4846, -4.3904, -4.86, -4.026, -4.7323, -5.4112, -4.0189, -4.4506, -4.7461, -4.9721, -5.0263, -4.9248, -4.455, -4.7382, -5.1685, -3.6437, -5.2767, -4.8607, -4.5868, -4.8418, -4.2937, -5.0565, -5.1193, -4.8731, -4.8964, -5.0819, -4.7808, -4.9801, -5.447, -5.5001, -5.5091, -5.5195, -5.5905, -5.6024, -5.6903, -5.6922, -5.7215, -5.7242, -5.7375, -5.8532, -5.8904, -3.7981, -5.8285, -5.8976, -5.5219, -5.9322, -5.9439, -5.7989, -5.9622, -5.5621, -6.0018, -5.9998, -6.0548, -4.835, -4.0813, -3.807, -4.1239, -5.4928, -5.3094, -5.6805, -5.3713, -5.4638, -4.925, -5.4938, -5.4508, -3.8349, -5.0334, -3.2614, -5.401, -4.3778, -5.2547, -4.7804, -5.4098, -5.0052, -5.0571, -5.0348, -5.2656, -5.2428, -5.2977, -5.3421, -5.4456, -4.3547, -4.304, -4.4394, -4.7975, -4.8407, -4.9153, -4.9433, -4.9558, -4.8775, -5.0487, -4.9972, -5.1006, -5.076, -5.2737, -4.9339, -5.3351, -5.3421, -5.3925, -5.4311, -5.5489, -5.7623, -5.7678, -5.7965, -5.8454, -5.8456, -5.8721, -5.5599, -5.9162, -5.9215, -5.9457, -4.1245, -4.5163, -4.151, -5.1374, -5.5717, -5.5885, -4.8113, -4.9261, -4.0056, -4.7895, -4.9011, -5.0193, -5.0348, -4.5267, -3.9497, -4.076, -4.9621, -3.3191, -4.8653, -4.5898, -5.0105], \"loglift\": [30.0, 29.0, 28.0, 27.0, 26.0, 25.0, 24.0, 23.0, 22.0, 21.0, 20.0, 19.0, 18.0, 17.0, 16.0, 15.0, 14.0, 13.0, 12.0, 11.0, 10.0, 9.0, 8.0, 7.0, 6.0, 5.0, 4.0, 3.0, 2.0, 1.0, 1.9479, 1.9475, 1.9471, 1.9459, 1.9459, 1.9456, 1.9452, 1.945, 1.9446, 1.9443, 1.9441, 1.9441, 1.944, 1.944, 1.944, 1.9435, 1.9435, 1.9434, 1.9432, 1.9427, 1.9425, 1.9425, 1.9424, 1.9424, 1.9423, 1.942, 1.942, 1.942, 1.9417, 1.9417, 1.938, 1.9244, 1.8697, 1.9236, 1.8467, 1.8854, 1.8084, 1.7196, 1.8883, 1.5339, 1.2664, 1.7994, 1.6184, 1.438, 1.4899, 1.4469, 1.4465, 1.7338, 0.9834, 1.5994, 1.6061, 1.2967, 1.0807, 1.2717, 0.7265, 0.8304, 0.2879, 0.6097, 0.639, 0.9273, 0.9626, 0.3653, 0.5432, -0.0948, -0.8009, 0.2701, 2.1135, 2.113, 2.1117, 2.1112, 2.1109, 2.1107, 2.1103, 2.11, 2.1099, 2.1099, 2.1099, 2.1098, 2.1097, 2.1095, 2.1095, 2.1093, 2.1093, 2.1092, 2.1091, 2.1089, 2.1088, 2.1088, 2.1088, 2.1087, 2.1086, 2.1083, 2.1082, 2.1081, 2.1081, 2.1079, 2.0908, 2.101, 2.1044, 2.1042, 2.0985, 2.1055, 2.107, 2.0885, 2.0938, 2.0952, 2.0223, 2.0565, 2.0828, 2.0771, 2.0417, 1.9624, 2.0601, 1.9031, 2.0514, 2.0646, 1.9668, 1.9552, 1.3273, 1.9516, 1.952, 1.8904, 1.5321, 1.9638, 1.0002, 1.3451, 0.9244, 1.2125, 1.2326, 1.2633, 0.6935, 1.1659, 1.2485, 0.3773, 1.2818, -0.1252, 0.3809, 0.7481, 0.0779, 0.5494, -0.7254, 0.6563, -0.0474, 2.1383, 2.1382, 2.1379, 2.1377, 2.1377, 2.1371, 2.137, 2.1367, 2.1365, 2.1364, 2.1364, 2.1364, 2.1363, 2.1362, 2.136, 2.1358, 2.1356, 2.1356, 2.1356, 2.1355, 2.1354, 2.1354, 2.1351, 2.1351, 2.1347, 2.1346, 2.1344, 2.1342, 2.1341, 2.134, 2.1336, 2.1339, 2.1318, 2.1306, 2.133, 2.1337, 2.0959, 2.0565, 1.9908, 1.9722, 1.9165, 2.0608, 1.77, 1.8176, 1.9443, 2.0835, 1.7301, 1.4381, 1.0481, 1.56, 1.0125, 1.0101, 1.6191, 1.0102, 1.4412, 1.5672, 1.3579, 1.0046, 0.4535, 0.7523, 0.2752, 1.2438, 0.4952, -0.0485, 1.1726, 1.4658, 0.3091, 0.9478, 0.1454, 0.4878, 0.621, 0.2431, 0.5285, -0.6653, 0.9134, -1.3562, 0.6196, 2.2, 2.1993, 2.1987, 2.1981, 2.1977, 2.1975, 2.1974, 2.1972, 2.1971, 2.1968, 2.1967, 2.1967, 2.1967, 2.1966, 2.1965, 2.1965, 2.1965, 2.1962, 2.1957, 2.1957, 2.1956, 2.1956, 2.1951, 2.1951, 2.195, 2.1947, 2.1946, 2.1945, 2.1943, 2.1942, 2.1878, 2.1714, 2.1808, 2.1566, 2.1515, 2.1625, 2.1579, 1.9007, 2.0663, 2.0702, 2.0082, 2.0594, 1.8527, 1.8145, 1.9254, 1.7603, 2.0557, 2.1099, 1.1504, 1.4569, 1.2504, 1.7728, 1.7614, 1.4271, 1.3231, 0.9613, 1.5, -0.2682, 0.8987, 0.5472, -0.1046, 1.154, 2.2055, 2.2051, 2.2047, 2.2044, 2.2039, 2.2035, 2.2035, 2.2033, 2.203, 2.203, 2.2029, 2.2025, 2.2024, 2.2023, 2.2021, 2.2015, 2.2015, 2.2013, 2.201, 2.2009, 2.2006, 2.2006, 2.2004, 2.2003, 2.2001, 2.2, 2.1995, 2.1991, 2.1991, 2.1989, 2.1885, 2.1987, 2.1986, 2.1614, 2.1895, 2.1655, 2.1866, 2.1764, 2.126, 2.131, 1.5149, 1.7835, 1.9276, 1.7594, 1.8793, 2.0523, 0.8741, 2.0713, 1.2627, 1.4586, 1.5971, 2.0168, 1.1419, 1.446, 1.0124, 1.1502, 1.0502, 0.4853, 1.277, 0.7772, 0.7526, 0.5708, 0.7361, 0.371, 1.2097, 1.0203, 0.4417, 0.0856, 0.1749, 2.2212, 2.2204, 2.2201, 2.2198, 2.2193, 2.2193, 2.2192, 2.2192, 2.219, 2.219, 2.2189, 2.2188, 2.2188, 2.2186, 2.2184, 2.2183, 2.2182, 2.2182, 2.2182, 2.2179, 2.2177, 2.2176, 2.2175, 2.2172, 2.2171, 2.2169, 2.2168, 2.2167, 2.2166, 2.2166, 2.2151, 2.2107, 2.2165, 2.2015, 2.2017, 2.2164, 2.1956, 2.2154, 2.2124, 2.2108, 2.1152, 2.1598, 2.1733, 2.1608, 2.0057, 2.0654, 2.0015, 1.9565, 1.7496, 2.106, 0.9991, 1.0676, 1.6335, 1.813, 1.636, 1.0902, 0.9937, 0.7421, 1.5429, 1.1057, 1.2078, 0.8522, 0.245, 0.3069, 0.6791, 1.3597, 0.6799, 0.7295, 0.4018, 0.762, -0.7033, 0.0058, 0.5119, 2.464, 2.4627, 2.4625, 2.4624, 2.462, 2.4619, 2.4618, 2.4618, 2.4617, 2.4617, 2.4617, 2.4616, 2.4616, 2.4615, 2.4611, 2.4609, 2.4609, 2.4606, 2.4604, 2.4601, 2.46, 2.4596, 2.4596, 2.4595, 2.4595, 2.4593, 2.4587, 2.4587, 2.4587, 2.4586, 2.4576, 2.4574, 2.4584, 2.4523, 2.4554, 2.4562, 2.435, 2.2978, 2.4122, 2.419, 2.3869, 2.1433, 2.2816, 1.4441, 2.0199, 1.6629, 1.704, 2.1104, 1.3241, 1.13, -0.6024, 1.5363, 0.5191, 0.5543, 1.8638, 0.5626, 0.5809, 0.1939, 1.3445, 0.4999, -0.0092, 2.5158, 2.5153, 2.5138, 2.5136, 2.5135, 2.5135, 2.5134, 2.5128, 2.5126, 2.5125, 2.5124, 2.5122, 2.512, 2.5119, 2.5113, 2.5112, 2.511, 2.5108, 2.5108, 2.5108, 2.5108, 2.5107, 2.5106, 2.5104, 2.5099, 2.5098, 2.5098, 2.5098, 2.5097, 2.5097, 2.5072, 2.5008, 2.5093, 2.5092, 2.5095, 2.4982, 2.489, 2.4132, 2.3523, 2.4532, 2.3155, 2.303, 2.2173, 1.9391, 1.8544, 2.0778, 2.1773, 1.9021, 2.1111, 2.3105, 1.646, 1.6948, 1.8247, 1.9622, 1.9877, 1.8919, 1.3098, 1.6014, 1.9888, 0.0759, 2.1198, 1.529, 1.1031, 1.4677, 0.566, 0.4707, 0.3313, 2.6762, 2.6762, 2.6757, 2.6752, 2.6749, 2.6746, 2.6744, 2.6744, 2.6743, 2.674, 2.674, 2.6736, 2.6736, 2.6734, 2.6734, 2.6732, 2.6727, 2.6725, 2.6725, 2.6725, 2.6724, 2.6724, 2.6722, 2.6722, 2.6721, 2.672, 2.6719, 2.6718, 2.6716, 2.6714, 2.6625, 2.6535, 2.6506, 2.6427, 2.6573, 2.6481, 2.6563, 2.5654, 2.5845, 2.394, 2.57, 2.4918, 1.3234, 2.0902, 0.4582, 2.3856, 1.312, 2.1973, 1.365, 2.3329, 1.1194, 0.9821, 0.4158, 1.2163, 0.2725, 0.1231, 0.7033, 1.7698, 2.8826, 2.8826, 2.8825, 2.8817, 2.8816, 2.8814, 2.8814, 2.8813, 2.8813, 2.881, 2.8809, 2.8809, 2.8808, 2.8802, 2.8802, 2.88, 2.8799, 2.8797, 2.8796, 2.879, 2.8777, 2.8777, 2.8775, 2.8772, 2.8772, 2.877, 2.8767, 2.8767, 2.8766, 2.8764, 2.8737, 2.8745, 2.87, 2.8752, 2.8749, 2.875, 2.8633, 2.8631, 2.7891, 2.8242, 2.8299, 2.8272, 2.8146, 2.7263, 2.473, 2.505, 2.6814, 0.4005, 2.159, 0.7492, 2.4499]}, \"token.table\": {\"Topic\": [7, 3, 5, 1, 2, 3, 4, 5, 6, 8, 10, 1, 5, 2, 3, 5, 6, 9, 5, 7, 9, 2, 1, 2, 3, 4, 5, 6, 7, 8, 9, 10, 1, 9, 10, 8, 10, 9, 5, 1, 2, 3, 4, 5, 6, 7, 8, 9, 10, 2, 5, 7, 1, 2, 3, 5, 6, 7, 8, 10, 2, 6, 1, 3, 6, 8, 3, 6, 9, 1, 2, 3, 5, 6, 9, 1, 1, 2, 3, 4, 7, 8, 10, 1, 9, 1, 2, 3, 4, 5, 6, 7, 8, 9, 10, 1, 2, 5, 1, 5, 6, 7, 8, 10, 6, 2, 9, 3, 1, 2, 4, 1, 3, 3, 3, 4, 5, 6, 7, 8, 9, 10, 8, 3, 2, 4, 5, 7, 9, 10, 2, 2, 3, 8, 10, 8, 3, 1, 2, 3, 4, 6, 1, 3, 7, 8, 3, 4, 5, 6, 8, 6, 8, 4, 7, 3, 6, 1, 2, 3, 5, 7, 8, 9, 9, 10, 3, 4, 1, 2, 3, 4, 5, 6, 7, 8, 9, 10, 3, 5, 1, 3, 4, 5, 6, 8, 4, 8, 2, 10, 8, 4, 2, 1, 3, 4, 5, 6, 8, 9, 7, 10, 8, 5, 1, 2, 3, 4, 5, 6, 7, 9, 10, 7, 3, 4, 6, 7, 9, 10, 4, 1, 2, 3, 4, 6, 7, 8, 9, 10, 2, 9, 9, 4, 9, 7, 1, 3, 6, 10, 9, 2, 5, 3, 10, 6, 1, 2, 3, 4, 5, 6, 7, 8, 9, 10, 3, 7, 8, 1, 2, 3, 4, 5, 6, 7, 8, 9, 10, 3, 6, 7, 8, 9, 9, 9, 6, 5, 2, 1, 2, 4, 5, 6, 7, 9, 10, 2, 7, 8, 10, 1, 4, 5, 6, 10, 3, 7, 2, 4, 6, 1, 2, 3, 4, 5, 6, 7, 9, 5, 8, 9, 1, 4, 7, 1, 2, 3, 4, 5, 6, 7, 8, 9, 10, 2, 9, 3, 6, 1, 2, 6, 9, 8, 6, 1, 3, 10, 2, 7, 10, 6, 10, 4, 3, 1, 2, 4, 6, 7, 8, 2, 4, 1, 2, 3, 5, 6, 7, 8, 9, 10, 9, 1, 2, 3, 4, 5, 6, 7, 8, 9, 10, 6, 10, 6, 1, 10, 6, 7, 3, 2, 2, 8, 8, 10, 3, 5, 4, 7, 2, 9, 3, 6, 9, 3, 4, 1, 8, 9, 2, 6, 5, 6, 10, 3, 7, 5, 5, 6, 6, 10, 6, 1, 1, 3, 9, 2, 2, 7, 9, 3, 5, 7, 8, 5, 1, 2, 8, 9, 10, 2, 3, 9, 10, 4, 6, 9, 10, 6, 5, 8, 5, 3, 2, 9, 10, 1, 2, 3, 4, 5, 6, 9, 10, 10, 1, 1, 2, 4, 1, 1, 2, 3, 9, 10, 1, 2, 3, 4, 5, 6, 7, 8, 9, 10, 8, 1, 6, 7, 5, 9, 1, 3, 4, 6, 7, 8, 9, 10, 9, 2, 3, 3, 6, 7, 1, 2, 3, 5, 6, 7, 8, 9, 10, 10, 3, 7, 4, 7, 10, 1, 4, 6, 7, 8, 9, 1, 2, 3, 4, 5, 6, 7, 8, 10, 7, 10, 2, 3, 4, 9, 1, 2, 3, 4, 5, 6, 7, 8, 9, 4, 1, 2, 3, 4, 6, 7, 8, 1, 3, 5, 4, 6, 1, 2, 3, 4, 5, 6, 7, 8, 9, 10, 1, 4, 10, 1, 2, 3, 4, 6, 7, 8, 9, 2, 4, 6, 7, 1, 2, 3, 4, 5, 6, 7, 8, 9, 10, 3, 10, 4, 10, 6, 8, 2, 1, 2, 3, 4, 5, 6, 7, 8, 9, 10, 7, 1, 2, 3, 4, 5, 6, 7, 8, 10, 2, 1, 9, 1, 2, 3, 4, 5, 6, 7, 8, 9, 10, 1, 5, 2, 8, 1, 2, 3, 4, 5, 6, 7, 8, 9, 10, 1, 2, 4, 5, 6, 8, 10, 1, 2, 3, 4, 5, 6, 7, 8, 9, 10, 10, 1, 2, 3, 4, 5, 6, 7, 8, 9, 10, 5, 7, 3, 3, 9, 5, 4, 3, 4, 10, 9, 1, 4, 5, 6, 8, 10, 7, 1, 2, 3, 4, 5, 6, 7, 8, 9, 10, 3, 6, 8, 9, 10, 10, 1, 4, 5, 6, 7, 8, 9, 1, 2, 3, 4, 5, 6, 7, 9, 10, 9, 1, 2, 5, 7, 8, 9, 3, 1, 2, 3, 4, 5, 6, 7, 8, 9, 10, 4, 7, 1, 2, 4, 6, 8, 9, 10, 5, 1, 2, 3, 4, 5, 6, 7, 8, 9, 10, 2, 3, 4, 5, 1, 3, 7, 1, 2, 7, 4, 3, 9, 10, 1, 10, 10, 7, 1, 1, 2, 3, 4, 5, 6, 7, 8, 9, 10, 9, 1, 2, 3, 4, 5, 6, 7, 8, 9, 4, 2, 2, 3, 10, 9, 1, 3, 4, 6, 7, 8, 10, 1, 2, 3, 4, 5, 6, 7, 8, 9, 10, 1, 10, 8, 4, 1, 5, 10, 2, 1, 2, 3, 4, 5, 6, 7, 8, 9, 10, 10, 1, 2, 5, 6, 7, 1, 7, 8, 1, 6, 7, 1, 4, 6, 7, 8, 1, 3, 1, 1, 2, 3, 4, 5, 6, 7, 8, 9, 10, 2, 4, 5, 6, 9, 1, 2, 3, 4, 5, 6, 7, 8, 9, 10, 4, 8, 3, 6, 8, 1, 2, 3, 4, 5, 6, 7, 8, 9, 10, 4, 1, 2, 3, 4, 7, 6, 1, 2, 3, 5, 7, 9, 10, 6, 2, 3, 5, 1, 2, 3, 4, 5, 6, 7, 8, 9, 10, 1, 3, 4, 5, 6, 7, 8, 9, 1, 4, 5, 6, 9, 10, 7, 7, 8, 4, 10, 4, 4, 8, 2, 3, 4, 1, 5, 6, 7, 9, 1, 2, 3, 4, 8, 9, 1, 5, 10, 2, 1, 2, 4, 8, 9, 6, 7, 1, 2, 4, 6, 7, 8, 1, 2, 4, 7, 9, 8, 8, 7, 1, 2, 3, 4, 5, 6, 7, 8, 9, 2, 1, 4, 5, 6, 7, 8, 4, 5, 2, 6, 9, 10, 9, 1, 7, 1, 2, 3, 4, 5, 6, 7, 8, 9, 10, 1, 2, 3, 4, 5, 6, 7, 8, 9, 10, 6, 1, 4, 6, 7, 10, 10, 10, 3, 4, 6, 8, 9, 3, 5, 1, 2, 3, 5, 7, 8, 10, 1, 2, 3, 4, 5, 6, 7, 8, 9, 10, 4, 8, 1, 7, 1, 2, 3, 4, 5, 6, 7, 8, 9, 3, 1, 3, 4, 5, 6, 10, 1, 2, 3, 4, 6, 4, 2, 5, 1, 2, 2, 3, 4, 6, 3, 1, 5, 6, 8, 9, 4, 9, 1, 2, 3, 4, 5, 6, 7, 8, 9, 10, 4, 2, 1, 2, 1, 6, 1, 3, 4, 4, 9, 3, 5, 6, 9, 1, 2, 3, 4, 5, 6, 8, 6, 3, 9, 6, 7, 10, 1, 2, 3, 5, 6, 7, 8, 9, 10, 9, 7, 8, 2, 3, 5, 6, 7, 9, 1, 3, 4, 6, 7, 8, 10, 1, 1, 2, 3, 5, 7, 9, 1, 5, 1, 1, 2, 3, 4, 5, 6, 7, 8, 9, 10, 9, 6, 8, 10, 2, 3, 5, 1, 2, 3, 4, 6, 7, 10, 1, 2, 3, 5, 6, 8, 1, 2, 3, 5, 6, 7, 9, 7, 3, 3, 5, 5, 8, 4, 5, 7, 6, 8, 7, 1, 3, 4, 5, 6, 7, 8, 1, 2, 3, 4, 5, 8, 10, 6, 1, 2, 3, 4, 5, 6, 7, 8, 9, 10, 8, 8, 6, 1, 1, 3, 4, 6, 10, 10, 2, 3, 1, 2, 3, 4, 5, 6, 7, 8, 9, 10, 3, 8, 1, 2, 3, 4, 9, 7, 1, 1, 1, 2, 3, 6, 7, 10, 8, 1, 5, 6, 9, 1, 2, 3, 4, 5, 6, 7, 8, 10, 1, 3, 8, 1, 2, 9, 6, 3, 4, 5, 6, 7, 10, 5, 8, 6, 1, 10, 2, 5, 9, 3, 5, 6, 10, 1, 5, 8, 2, 4, 5, 6, 7, 9, 10, 2, 4, 7, 6, 2, 5, 1, 2, 3, 4, 6, 10, 1, 4, 5, 9, 10, 1, 3, 4, 5, 6, 7, 8, 10, 2, 3, 5, 6, 7, 10, 2, 5, 6, 7, 2, 4, 7, 4, 5, 6, 8, 1, 2, 3, 4, 5, 7, 9, 10, 9, 10, 1, 3, 6, 9, 2, 1, 4, 5, 6, 8, 9, 5, 2, 7, 7, 8, 4, 2, 8, 10, 1, 2, 3, 4, 5, 6, 7, 8, 9, 10, 1, 2, 8, 9, 4, 5, 1, 2, 3, 4, 6, 8, 9, 7, 9, 10, 1, 2, 3, 4, 6, 8, 9, 10, 1, 5, 1, 2, 3, 5, 6, 7, 9, 10, 1, 2, 3, 4, 5, 6, 7, 8, 9, 10, 10, 2, 9, 3, 5, 8, 3, 4, 1, 2, 3, 4, 5, 6, 7, 8, 9, 10, 1, 2, 3, 4, 5, 6, 7, 8, 9, 10, 2, 5, 1, 2, 3, 4, 5, 6, 7, 8, 9, 10, 1, 2, 4, 6, 7, 8, 9, 1, 2, 3, 4, 5, 6, 7, 8, 9, 10, 1, 1, 2, 3, 4, 5, 6, 7, 8, 9, 1, 2, 3, 4, 5, 6, 7, 8, 9, 10, 1, 4, 5, 6, 9, 5, 4, 1, 2, 3, 5, 6, 7, 8, 9, 10, 1, 2, 3, 4, 5, 6, 7, 8, 9, 10, 1, 2, 3, 4, 6, 7, 1, 2, 3, 4, 5, 6, 7, 8, 9, 8, 4, 8, 1, 2, 3, 4, 5, 6, 7, 8, 9, 10, 1, 2, 4, 3, 4, 6, 1, 2, 3, 4, 5, 6, 7, 8, 9, 10, 5, 1, 7, 1, 2, 3, 4, 5, 6, 7, 8, 1, 2, 3, 4, 5, 6, 10, 1, 1, 2, 3, 4, 5, 6, 7, 9, 8, 3, 5, 7, 1, 2, 3, 4, 5, 6, 7, 8, 9, 10, 7, 1, 2, 3, 4, 5, 6, 8, 9, 10, 8, 10, 1, 2, 3, 4, 5, 6, 7, 8, 9, 10, 1, 2, 3, 5, 6, 7, 8, 9, 10, 7, 2, 1, 2, 6, 1, 2, 3, 4, 5, 6, 7, 8, 9, 10, 1, 2, 3, 4, 5, 6, 7, 9, 1, 2, 3, 4, 5, 6, 7, 8, 9, 6, 1, 1, 3, 4, 7, 10, 6, 1, 8, 2, 7, 3, 6, 6, 6, 1, 2, 3, 4, 5, 6, 7, 8, 9, 10, 8, 5, 10, 1, 2, 3, 4, 5, 6, 7, 8, 9, 10, 1, 2, 3, 5, 6, 7, 8, 10, 1, 3, 5, 6, 8, 1, 2, 3, 4, 6, 7, 8, 10, 7, 8, 1, 2, 3, 4, 5, 6, 7, 8, 9, 10, 5, 9, 1, 2, 3, 4, 5, 6, 7, 8, 10, 6, 1, 2, 3, 4, 5, 6, 7, 8, 9, 10, 4, 6, 1, 2, 3, 4, 5, 6, 7, 8, 9, 10, 4, 1, 2, 3, 4, 5, 6, 7, 8, 9, 10, 2, 3, 5, 6, 7, 8, 9, 10, 1, 2, 3, 5, 6, 7, 9, 1, 2, 3, 4, 5, 7, 8, 9, 10, 1, 4, 10], \"Freq\": [0.9964464773270955, 0.16936429238082998, 0.8252660065102262, 0.13386668030588345, 0.02532612870651849, 0.05427027579968248, 0.042210214510864145, 0.02653213483540032, 0.6222991625030257, 0.041004208381982314, 0.05306426967080064, 0.9900209093190169, 0.9965847414390652, 0.9889799002276711, 0.002575468490176227, 0.002575468490176227, 0.002575468490176227, 0.002575468490176227, 0.11985201287030826, 0.045825769626882576, 0.8283889124859543, 0.9943467889425621, 0.5055349079168425, 0.017615716697286257, 0.030323829036091005, 0.08466908993211782, 0.02092189226510538, 0.01534272099441061, 0.04654475291570357, 0.08704540362148781, 0.10858720380555928, 0.08342927409418564, 0.00543780109554999, 0.9646659143505683, 0.028276565696859948, 0.9961038597946271, 0.9982794026461338, 0.9919590607957578, 0.9950166798040416, 0.32696318545937564, 0.05162576612516458, 0.03383383542666153, 0.10295986125527173, 0.014291878757813922, 0.16187740225687197, 0.049000727169647734, 0.11229333309710939, 0.10412654523550144, 0.0431673072684992, 0.969737572994728, 0.028272232448825887, 0.9967602956102367, 0.0021902786556005924, 0.9118860136150465, 0.00997793609773603, 0.07276592422495301, 0.0009734571802669299, 0.0009734571802669299, 0.00024336429506673248, 0.0007300928852001974, 0.10770700413535737, 0.8876542754603591, 0.12952801148281398, 0.13788465738493103, 0.14206298033598952, 0.5891435360992507, 0.9953439684543234, 0.004853147143649414, 0.994086306590855, 0.605842567665341, 0.004749045883154969, 0.23813072928391343, 0.0006784351261649956, 0.10515744455557431, 0.0454551534530547, 0.9993297480653426, 0.5212328812055232, 0.013082463332767425, 0.0006885507017246013, 0.0509527519276205, 0.0013771014034492026, 0.3497837564760975, 0.06265811385693872, 0.00216700711353742, 0.996823272227213, 0.010173765646323996, 0.45517003594751626, 0.1120173988350465, 0.3497231940923874, 0.002543441411580999, 0.037939667722749905, 0.0027553948625460823, 0.005404812999609623, 0.013247090685317703, 0.01102157945018433, 0.995727710747926, 0.006993274862224463, 0.9907139388151321, 0.07359183664474818, 0.0265748298994924, 0.17375850318898875, 0.7011666658096841, 0.022486394530339723, 0.9951031404052327, 0.9979946021287837, 0.0045335829996496395, 0.9928546769232711, 0.9957773770967278, 0.9401148915401809, 0.05755805458409271, 0.0031976696991162616, 0.9960918077001519, 0.9972363916695811, 0.9929907114478109, 0.4574806666990273, 0.08743356371274846, 0.2022453140426202, 0.04680786744217847, 0.04062569627056999, 0.05299003861378695, 0.07948505792068042, 0.03179402316827217, 0.9958163074233045, 0.994349927895501, 0.033434310587351114, 0.25361147786990723, 0.23322470312152238, 0.46726487723298016, 0.0114165938590955, 0.000815470989935393, 0.9940548386864803, 0.9952362241463558, 0.0011184797160385123, 0.08835989756704248, 0.9093240091393106, 0.9891053561010427, 0.9985770447863689, 0.004794874265892597, 0.0011987185664731493, 0.12466673091320753, 0.7587888525775035, 0.11028210811552974, 0.9896804095509842, 0.0015320130178807804, 0.004596039053642342, 0.0015320130178807804, 0.018539330722806387, 0.9567906768683122, 0.023375677867886312, 0.0008060578575133211, 0.9957937302771095, 0.9918695278731926, 0.9947014256879272, 0.02872038289506073, 0.9698652377639739, 0.004420492298998127, 0.9946107672745788, 0.011819785796788683, 0.014446404862741723, 0.8615310536325973, 0.10769138170407466, 0.0013133095329765203, 0.0013133095329765203, 0.9925176887937748, 0.9848266082729449, 0.013552659746875388, 0.9971410991124513, 0.9938120687278529, 0.057846720789941644, 0.0026596193466639838, 0.13697039635319516, 0.0026596193466639838, 0.03856448052662776, 0.3623731359829678, 0.20745030903979073, 0.161571875309837, 0.003989429019995975, 0.027261098303305833, 0.9226979789251887, 0.07265338416733769, 0.1698876324530709, 0.002682436301890593, 0.02682436301890593, 0.13054523335867552, 0.16899348701910735, 0.49982729758561384, 0.017326616341070286, 0.9818415926606496, 0.989297001162055, 0.003925781750643075, 0.9952703354179465, 0.991817737089479, 0.9955896580664705, 0.06276102799316759, 0.49718501863337444, 0.001961282124786487, 0.08923833667778516, 0.11081244005043651, 0.23731513709916494, 0.0009806410623932435, 0.9968344324173918, 0.9968376614861022, 0.9905675961601346, 0.9905456148050857, 0.37325944729581684, 0.025189287854318926, 0.29311171321389295, 0.0011449676297417694, 0.04408125374505812, 0.08186518552653652, 0.1562880814597515, 0.02461680403944804, 0.0005724838148708847, 0.9970385301882183, 0.001811195420465926, 0.8766185835055083, 0.005433586261397778, 0.005433586261397778, 0.003622390840931852, 0.10504933438702371, 0.9943582460507416, 0.7191000053876492, 0.040258494510119355, 0.0006941119743124028, 0.004858783820186819, 0.002776447897249611, 0.0777405411229891, 0.13257538709366892, 0.005552895794499222, 0.01735279935781007, 0.9642655174043304, 0.03263667905060811, 0.9970608642901567, 0.9994288745530377, 0.9982574223833346, 0.9965620542133236, 0.008278892959805165, 0.8223700340073131, 0.011038523946406888, 0.15729896623629816, 0.9956545445070822, 0.9967737131511271, 0.9936554861178019, 0.9951867509625965, 0.9965115736675547, 0.9972161951217888, 0.00858432557408861, 0.13056160291753374, 0.13595176083614752, 0.022758444545258175, 0.02395625741606124, 0.2940630597821517, 0.3603420386332545, 0.000399270956934354, 0.000798541913868708, 0.022758444545258175, 0.9957182008865885, 0.9957511584124233, 0.9971939569285404, 0.20749359688288727, 0.08909329583671995, 0.1774050715345213, 0.1621654288256087, 0.08870253576726066, 0.18053115209019568, 0.0031260805556743844, 0.005861401041889471, 0.04102980729322629, 0.044937407987819276, 0.9921843049082036, 0.02918481833814107, 0.1526590497687379, 0.8171749134679499, 0.0011224930130054257, 0.9963234321502871, 0.994152464986431, 0.993418955930605, 0.9951449451754938, 0.993493792295263, 0.41993232748503573, 0.04873079481410607, 0.18602451237732662, 0.11695390755385456, 0.2245854021867497, 0.002118730209308959, 0.0004237460418617919, 0.0012712381255853757, 0.9935910530784521, 0.04849636833747928, 0.002852727549263487, 0.9471055463554777, 0.2871684072782363, 0.0026265403104716732, 0.46752417526395784, 0.24076619512657005, 0.001751026873647782, 0.002717041869162196, 0.9971543659825259, 0.006052624996305134, 0.014526299991132323, 0.9781041994029097, 0.9942956329371017, 0.9288127718469005, 0.009655018418366948, 0.0019310036836733897, 0.009655018418366948, 0.03862007367346779, 0.007724014734693559, 0.0019310036836733897, 0.9219148072195451, 0.07481507597854947, 0.9955829714295127, 0.0570265024988574, 0.9124240399817184, 0.0285132512494287, 0.10144232079240185, 0.01586981092151072, 0.08246078223922237, 0.2893906697451955, 0.03391783118518958, 0.21346451553247753, 0.1493629263201009, 0.015558638158343843, 0.09024010131839429, 0.0080904918423388, 0.8595120260026262, 0.13837345310258997, 0.011440329438743149, 0.9871369972858374, 0.3647476863268601, 0.006474810999885091, 0.008633081333180121, 0.6172653153223787, 0.9893794031579775, 0.9968532988213245, 0.9945660319430745, 0.004713583089777604, 0.9951136362713802, 0.995061406035351, 0.9235655032079033, 0.07353228528725345, 0.9944775101558138, 0.9961032495932749, 0.998187099642696, 0.995327555854344, 0.030631201001423553, 0.0007657800250355888, 0.1163985638054095, 0.0015315600500711776, 0.0022973400751067664, 0.8477184877143968, 0.8486959968751697, 0.14897323349404573, 0.0036773551969749374, 0.03897996508793434, 0.2294669642912361, 0.08163728537284361, 0.16180362866689724, 0.44863733403094236, 0.02279960222124461, 0.0036773551969749374, 0.009561123512134838, 0.9973865769789412, 0.055111871638905505, 0.010383396105880746, 0.03314699526108084, 0.13418542659907426, 0.3889779925818403, 0.051118257752028294, 0.015175732770133399, 0.2987223187384153, 0.01198084166063163, 0.001198084166063163, 0.008120222136922761, 0.9906671007045768, 0.9949084881954491, 0.9935807941279529, 0.9899451718083153, 0.9942200058174828, 0.9942260592435936, 0.9944206304863406, 0.9995176096341197, 0.9947029777147531, 0.9986171329241945, 0.007561157872178272, 0.9905116812553537, 0.9939747062207507, 0.9897833378542192, 0.9881611070753898, 0.008668079886626226, 0.9950203019150154, 0.9963381993969689, 0.9978622608452946, 0.9938688805563106, 0.9957089448967239, 0.9960943044945237, 0.9961321011548054, 0.4098733509613571, 0.5898961560894825, 0.9967248351137119, 0.9944275414202962, 0.9958537694136504, 0.05882088982687026, 0.9411342372299242, 0.9951861874713851, 0.9939470670815459, 0.9962585025113226, 0.9936560795335895, 0.024636142415715143, 0.9717589508420973, 0.018874335044227843, 0.9787690887221009, 0.9948079019226689, 0.9906889862326563, 0.997131638435881, 0.0008902961057463223, 0.0008902961057463223, 0.9953279014968184, 0.9940672920586765, 0.9955701325433807, 0.9967870816431585, 0.9903710184137718, 0.0048786749675555265, 0.996862006361657, 0.9927646527653243, 0.9972938286370101, 0.9401668736984055, 0.01474771566585734, 0.01474771566585734, 0.018434644582321674, 0.011060786749393006, 0.04870969478594743, 0.9185256731064373, 0.01855607420417045, 0.011597546377606531, 0.019590797465287507, 0.06660871138197752, 0.9090130023893404, 0.9953036336609056, 0.997662974006474, 0.9950557602700596, 0.9903798914130122, 0.9931148135705826, 0.9971477312924567, 0.9484253352477301, 0.00911947437738202, 0.03951772230198876, 0.10492704543289687, 0.4270132291984347, 0.004648666569811886, 0.46154618085989446, 0.000664095224258841, 0.000664095224258841, 0.000664095224258841, 0.996624403341949, 0.9961716341337159, 0.9988616839062401, 0.9972657763017718, 0.9964198777656071, 0.9941636454135458, 0.9967942869126982, 0.005266457170499111, 0.9900939480538328, 0.0026332285852495555, 0.9926165232662598, 0.994941619278139, 0.0016667980275255456, 0.02666876844040873, 0.6908877824093387, 0.12500985206441592, 0.003333596055051091, 0.04166995068813864, 0.04166995068813864, 0.037502955619324777, 0.010000788165153273, 0.020001576330306546, 0.9935246592150303, 0.9903922059043371, 0.9925820984636302, 0.006466332889013877, 0.993698389153255, 0.9949710777400723, 0.03308964390985274, 0.5638475322238906, 0.005294343025576438, 0.084709488409223, 0.10853403202431697, 0.07412080235807013, 0.1270642326138345, 0.0013235857563941094, 0.9917566590414452, 0.9962360336282762, 0.997907815867338, 0.004051003713618194, 0.9924959098364576, 0.9965347492723405, 0.16401176151408098, 0.037848868041711, 0.08060407082956972, 0.36867601092481456, 0.16401176151408098, 0.012616289347236999, 0.01191538438350161, 0.07359502119221582, 0.08551040557571744, 0.993641784605921, 0.990059815105173, 0.0046700934674772316, 0.0060474302551530475, 0.015118575637882619, 0.9796837013347938, 0.06990889118412391, 0.12659177592800816, 0.020783724406090893, 0.0037788589829256167, 0.02456258338901651, 0.7519929376021978, 0.05553700879580119, 0.2091024290902313, 0.2187934507592973, 0.04062774468954583, 0.30265806135698364, 0.03354584423907454, 0.1032466539358183, 0.01863658013281919, 0.01789111692750642, 0.9951865255508028, 0.9986405222202986, 0.9919174904576585, 0.004338131937571797, 0.013014395812715393, 0.9804178178912263, 0.14687101576274605, 0.0008069836030920113, 0.01291173764947218, 0.004841901618552068, 0.1710805238555064, 0.002420950809276034, 0.010490786840196147, 0.6439729152674251, 0.005648885221644079, 0.9930010974927721, 0.16112660214359875, 0.11872486473738855, 0.029075477078544135, 0.644506408574395, 0.035132868136574166, 0.004845912846424023, 0.006057391058030028, 0.009588001564050859, 0.009588001564050859, 0.9779761595331876, 0.9971695834047288, 0.9910376242180181, 0.002698651268330784, 0.06476763043993881, 0.22758625696256277, 0.49655183337286424, 0.060269878326054176, 0.020689659723869342, 0.0611694287488311, 0.002698651268330784, 0.05217392452106182, 0.010794605073323136, 0.1432679905266768, 0.0017687406237861332, 0.8543017212887024, 0.7952021431898403, 0.029608590437919587, 0.004229798633988513, 0.0010574496584971282, 0.0037010738047399483, 0.014804295218959793, 0.012160671072716973, 0.13852590526312378, 0.002316720993552363, 0.0030889613247364845, 0.0007722403311841211, 0.9938733062339639, 0.20538021678644294, 0.05058046576069328, 0.006351965467621947, 0.38652886160380956, 0.010116093152138655, 0.22749446693297862, 0.08422235694106137, 0.0030583537436698264, 0.012703930935243893, 0.013644962856373071, 0.054432404552067444, 0.9445623142858762, 0.9927767582331996, 0.004471967379428826, 0.9921649104568231, 0.9959597223659087, 0.9971367457229381, 0.004871772688060933, 0.3041813072108045, 0.10565657017232148, 0.19121707800639162, 0.17112101566814028, 0.11631357292745477, 0.01948709075224373, 0.03775623833247223, 0.03958315309049508, 0.009743545376121866, 0.9979235319121635, 0.016445357609335465, 0.5586282412921141, 0.0832546228972608, 0.06372576073617493, 0.13207677829997547, 0.09301905397780373, 0.04882215540271466, 0.002055669701166933, 0.002055669701166933, 0.9970655861800265, 0.99801821234398, 0.9954320429038479, 0.1917620042335829, 0.03873025701269408, 0.1914471240952683, 0.10013188398403836, 0.2295476208313332, 0.06203138724797345, 0.015429126777414716, 0.12910085670898028, 0.03873025701269408, 0.00314880138314586, 0.014917633246238687, 0.9845637942517533, 0.005470687078205088, 0.990194361155121, 0.08109287658364246, 0.3281432680361346, 0.14992752763719944, 0.09005081062485877, 0.194717197843281, 0.041960848929908014, 0.0219233648903452, 0.047618491482255165, 0.04172511382356022, 0.002828821276173574, 0.0017705437388782167, 0.0002213179673597771, 0.0004426359347195542, 0.9815451852406114, 0.0037624054451162107, 0.011951170237427963, 0.0004426359347195542, 0.09991661466842516, 0.0049566989000002035, 0.04382765343158075, 0.0002608788894736949, 0.019826795600000814, 0.054784566789475936, 0.14296163143158483, 0.5152358067105475, 0.0002608788894736949, 0.1181781369315838, 0.9973094580692082, 0.2715578294395821, 0.06977178981904235, 0.14757486479711115, 0.11444581351612702, 0.02760754273415345, 0.23190335896688896, 0.041160336440010596, 0.016062570318052916, 0.07730111965562966, 0.0030117319346349217, 0.9969780158858575, 0.999178657405162, 0.9952833188344035, 0.9572004325976966, 0.041473155658479054, 0.9971908393398182, 0.9940062956440724, 0.019587669670281565, 0.3308139766536442, 0.648569506860434, 0.9969803321052376, 0.9905258138927293, 0.004694428535148119, 0.0015648095117160399, 0.1768234748239125, 0.8074417080454765, 0.007824047558580198, 0.9929288506741624, 0.12484064069004404, 0.10077497501485483, 0.3230063564841802, 0.1481542543128836, 0.04474709711480494, 0.21358278286730425, 0.039858758774532134, 0.0007520520523496629, 0.0037602602617483145, 0.0007520520523496629, 0.020203791739378918, 0.0028862559627684165, 0.1558578219894945, 0.7071327108782621, 0.11256398254796825, 0.9962645718482502, 0.05468832328043965, 0.003418020205027478, 0.6391697783401384, 0.2973677578373906, 0.0022786801366849853, 0.0011393400683424927, 0.0022786801366849853, 0.6605619260269431, 0.1148288652770851, 0.009470421878522482, 0.006214964357780378, 0.0011838027348153102, 0.03788168751408993, 0.14797534185191377, 0.011246125980745448, 0.010654224613337792, 0.9954191361595399, 0.09044791571560541, 0.002826497366112669, 0.002826497366112669, 0.07348893151892939, 0.8140312414404487, 0.016958984196676016, 0.9968475608124111, 0.06239285783493441, 0.002947694070941783, 0.244658607888168, 0.15426265637928666, 0.03684617588677229, 0.32719404187453793, 0.023581552567534265, 0.07860517522511422, 0.06632311659619013, 0.0034389764160987473, 0.997221308488055, 0.9967197152376194, 0.1674659045498738, 0.0012404881818509172, 0.6512562954717315, 0.10916296000288071, 0.040936110001080266, 0.013645370000360089, 0.016126346364061923, 0.9982195730405186, 0.21606169764484273, 0.018005141470403562, 0.05144326134401018, 0.023149467604804578, 0.006430407668001272, 0.0025721630672005088, 0.06430407668001271, 0.5735923639857134, 0.007716489201601526, 0.036010282940807124, 0.09553552668347816, 0.7243589187344315, 0.004277710150006485, 0.1753861161502659, 0.9960239447290917, 0.9933133845630183, 0.9981603928017779, 0.9028191073691464, 0.018576524842986553, 0.07616375185624485, 0.9968886584559989, 0.005228636089234377, 0.9777549486868286, 0.010457272178468754, 0.00583518423787127, 0.9919813204381158, 0.9962925915409255, 0.992287655280962, 0.9991116530390105, 0.05069508944184959, 0.19215074223926862, 0.4955036161574331, 0.022076893789192562, 0.0310711838514562, 0.033524172050255374, 0.017988580124527274, 0.03434183478318843, 0.08830757515677025, 0.03597716024905455, 0.9907458258235958, 0.009738043963942723, 0.8530526512413824, 0.060375872576444875, 0.019476087927885445, 0.0019476087927885444, 0.003895217585577089, 0.042847393441347977, 0.005842826378365633, 0.0019476087927885444, 0.9956424844331316, 0.9975910805052006, 0.9903659979236998, 0.005353329718506486, 0.9932366181606426, 0.9936318520821115, 0.07894931416955389, 0.663759048758842, 0.00438607300941966, 0.033626559738884065, 0.21637960179803659, 0.00146202433647322, 0.9912320901370514, 0.6321364702020544, 0.17947092213938454, 0.0704589546176843, 0.003988242714208545, 0.06846483326058003, 0.012629435261660393, 0.011964728142625636, 0.0013294142380695152, 0.0026588284761390303, 0.01661767797586894, 0.009597190035901189, 0.9898816008458083, 0.9955923104504265, 0.9974198327630998, 0.9754883407551528, 0.016326164698831008, 0.004081541174707752, 0.9968984337175946, 0.112368485885626, 0.11519947487111658, 0.1929427877803578, 0.012412797859458686, 0.15940645672146944, 0.1088841917496376, 0.0280921214714065, 0.004790904436984054, 0.2580555344466411, 0.007839661805973907, 0.9921233667661566, 0.003893166286703432, 0.001946583143351716, 0.0006488610477839053, 0.0006488610477839053, 0.9927574031093751, 0.0021161983968720995, 0.9924970481330148, 0.004232396793744199, 0.7099549574795307, 0.003241803458810643, 0.2852787043753366, 0.2000763414271391, 0.002041595320685093, 0.09391338475151427, 0.0285823344895913, 0.6716848605053956, 0.0048602185191793205, 0.9914845779125814, 0.9961395516346163, 0.12761951762547305, 0.2552390352509461, 0.1380282016871251, 0.01674440479483157, 0.025342882932718053, 0.05023321438449471, 0.319501345544624, 0.046160251056022165, 0.006788272214120907, 0.014029095909183208, 0.8488941608560797, 0.004563947101376773, 0.04335749746307934, 0.0022819735506883865, 0.100406836230289, 0.1945732492545707, 0.004578194100107546, 0.21174147712997402, 0.18827823236692284, 0.0675283629765863, 0.06924518576412664, 0.016595953612889854, 0.0011445485250268866, 0.21059692860494714, 0.03662555280086037, 0.9804025243366407, 0.018853894698781553, 0.009312511076190537, 0.8544228912404818, 0.13503141060476279, 0.19005670055478016, 0.10651808401166371, 0.15488922824103663, 0.034405722010918786, 0.2636925631611746, 0.13838463834649992, 0.029073469891145398, 0.027042135750279344, 0.028311719588320627, 0.027803886053104115, 0.9978481471888692, 0.05424119673103591, 0.11526254305345132, 0.5096412442853583, 0.20340448774138467, 0.1163925679853479, 0.9966596623535564, 0.06473253740896946, 0.09198834263379871, 0.3730638340148503, 0.028959293051381077, 0.03577324435758839, 0.4037266148927833, 0.0017034878265518281, 0.9946003014268759, 0.1592991505562758, 0.11806878217700442, 0.719657338983646, 0.11090584855601607, 0.23285809637059945, 0.18513765157358858, 0.02783692613158969, 0.31460145088399777, 0.08572005824648253, 0.0035348477627415477, 0.021209086576449286, 0.0013255679110280804, 0.017232382843365045, 0.12781065148298398, 0.3798618245192597, 0.009996363803138413, 0.39414234423802885, 0.009996363803138413, 0.009282337817199955, 0.0007140259859384581, 0.06783246866415352, 0.015802069568508346, 0.0031604139137016694, 0.001053471304567223, 0.001053471304567223, 0.9755144280292486, 0.0031604139137016694, 0.9927618754695258, 0.9910562388990933, 0.9980733123807058, 0.012622264555140181, 0.9859391091403942, 0.9952906736443423, 0.9950577124346976, 0.997463733965962, 0.9394117242687987, 0.057107095700230925, 0.9958269597444733, 0.27984398460628535, 0.20481335105242623, 0.07401670607340155, 0.3954317173784467, 0.044612809140132444, 0.1588908058397867, 0.0015577529984292814, 0.7991272881942214, 0.01090427098900497, 0.015577529984292814, 0.012462023987434252, 0.0698121823192063, 0.9257702437981705, 0.9977193527875488, 0.997494246009057, 0.030383560802650166, 0.0005842992462048109, 0.26059746380734566, 0.4393930331460178, 0.268777653254213, 0.990178111838059, 0.005470597302972702, 0.9768051200939427, 0.0014733108900361128, 0.0014733108900361128, 0.004419932670108338, 0.005893243560144451, 0.01031317623025279, 0.013574863510311942, 0.9502404457218359, 0.0033937158775779854, 0.027149727020623883, 0.0033937158775779854, 0.9958760443560408, 0.9924284806658298, 0.9954025111232647, 0.052844412441184575, 0.005284441244118458, 0.00040649548031680444, 0.00040649548031680444, 0.04918595311833334, 0.013007855370137742, 0.8463235900195869, 0.03089365650407714, 0.002032477401584022, 0.9970195849199802, 0.0015259134413015273, 0.0015259134413015273, 0.007629567206507637, 0.0030518268826030545, 0.0015259134413015273, 0.9826882561981836, 0.006168861324546511, 0.990102242589715, 0.005643492998261074, 0.9876112746956878, 0.7448956539005644, 0.2503090658856148, 0.9961685488502642, 0.041200872856813314, 0.9551111434988541, 0.21682341952963008, 0.11161516619643476, 0.19962591658093468, 0.03237177025636779, 0.10048737017080833, 0.29235755012782155, 0.0023604415811934844, 0.016523091068354392, 0.02596485739312833, 0.002023235641022987, 0.38098189850319464, 0.05510758832450718, 0.11379359147528106, 0.048666441637227116, 0.08134929705046298, 0.10091129810072094, 0.10329690798489874, 0.06488858884963616, 0.00620258569886228, 0.044849465822542636, 0.9970866639552931, 0.29832694019919925, 0.07317453250169038, 0.015479228029203736, 0.12664822932984873, 0.4840776765496441, 0.9968364996070365, 0.9980183438328365, 0.13795860751235148, 0.16304199069641537, 0.6629179841502603, 0.016125032046898222, 0.01791670227433136, 0.9981020130937458, 0.9890700605415575, 0.04042314072288152, 0.22665832476758568, 0.5933539584680109, 0.05919102748707651, 0.038979457125635754, 0.033204722736652675, 0.005774734388983074, 0.262099204468537, 0.00661990507076754, 0.006129541732192167, 0.00956208510221978, 0.02280189524375486, 0.00956208510221978, 0.07845813417205973, 0.5607304776609394, 0.036532068723865316, 0.0073554500786306, 0.9586841984048198, 0.039806956335148226, 0.1656647788685525, 0.8337555264368134, 0.02432067087337819, 0.09606664994984385, 0.11065905247387076, 0.010944301893020186, 0.07296201262013456, 0.5557273294566917, 0.11917128727955313, 0.0036481006310067282, 0.006080167718344547, 0.9962230276039521, 0.0021802501329996767, 0.008721000531998707, 0.004360500265999353, 0.215844763166968, 0.7652677966828865, 0.0021802501329996767, 0.03401252441323584, 0.29590896239515174, 0.022675016275490557, 0.13945135009426693, 0.5067866137572139, 0.9954561542762937, 0.9914878794339039, 0.9971087999455656, 0.019334955675643438, 0.9805584664076314, 0.051073694273019096, 0.006008669914472835, 0.006008669914472835, 0.9373525066577623, 0.9931620424518984, 0.08573032556681948, 0.19612279958436785, 0.05049868492292106, 0.6658780081696801, 0.0011743880214632805, 0.028625465735037606, 0.9696876517743989, 0.27006156315607627, 0.07286903411149635, 0.24953926375324667, 0.012789259048140175, 0.23347833378581484, 0.00208197240318561, 0.01814290237061746, 0.06900251393415165, 0.052941583966719795, 0.019035176257697003, 0.9921362444250141, 0.990541188474339, 0.01794842049083634, 0.9811803201657199, 0.9943082660179735, 0.9913467350176227, 0.7059129786755283, 0.001572189262083582, 0.29242720274754624, 0.9969235992232389, 0.0011406448503698387, 0.003504237985311693, 0.08760594963279232, 0.014016951941246771, 0.8935806862544816, 0.0006684197055699029, 0.0013368394111398058, 0.22325218166034755, 0.6791144208590213, 0.0006684197055699029, 0.08555772231294757, 0.009357875877978641, 0.9970642762873853, 0.9945927539303278, 0.9958271776156166, 0.002537026316282445, 0.05327755264193135, 0.9412367633407872, 0.08591724484390925, 0.46353739355302653, 0.1579768695517041, 0.14481213042239544, 0.037415574367508864, 0.017322025170142995, 0.013164739129308675, 0.07968131578265777, 0.0006928810068057197, 0.9956807029570204, 0.9938730956289606, 0.99510636352304, 0.9743051313536202, 0.0017539246288994063, 0.007015698515597625, 0.013154434716745548, 0.0017539246288994063, 0.0008769623144497032, 0.1886503373509791, 0.0628834457836597, 0.0011433353778847219, 0.19322367886251798, 0.016006695290386105, 0.5350809568500499, 0.0034300061336541656, 0.9902029033494157, 0.006128377065236839, 0.10724659864164468, 0.0030641885326184197, 0.021449319728328937, 0.6404154033172497, 0.2206215743485262, 0.997416427292127, 0.9988783752471834, 0.9973368288486336, 0.027753560386935616, 0.06848281134438658, 0.1239899321182578, 0.4750544492205343, 0.0014417433967239281, 0.11317685664282835, 0.15210392835437442, 0.0014417433967239281, 0.021265715101677938, 0.015498741514782225, 0.9968191388488729, 0.0036050544820453155, 0.9733647101522352, 0.018025272410226577, 0.06434375203854437, 0.060769099147514126, 0.8722153054113793, 0.0009032635217486382, 0.011742425782732296, 0.016258743391475487, 0.02438811508721323, 0.04877623017442646, 0.2131701911326786, 0.6846737494854678, 0.0038243924649933904, 0.009560981162483476, 0.045892709579920685, 0.7553175118361947, 0.17974644585468935, 0.0038243924649933904, 0.006064678139770993, 0.9766888476913013, 0.011578021903199167, 0.0016540031290284527, 0.0030323390698854965, 0.00027566718817140874, 0.00027566718817140874, 0.9984264182932051, 0.9948382531198768, 0.9930788417929899, 0.9963354485561761, 0.0041832473193945735, 0.9914296146965139, 0.01592151087632573, 0.9712121634558696, 0.011941133157244299, 0.9973292092013444, 0.9965710923086578, 0.9982261174837727, 0.24520684023246792, 0.0014256211641422553, 0.0014256211641422553, 0.028512423282845104, 0.005702484656569021, 0.007128105820711276, 0.7113849609069853, 0.5082553522771187, 0.004177441251592756, 0.006962402085987927, 0.0013924804171975853, 0.47274710163858025, 0.005569921668790341, 0.0006962402085987926, 0.9969325659526583, 0.08527219562162991, 0.38736051654476844, 0.15005262330317823, 0.02644099089042788, 0.054204031325377156, 0.13617110308570357, 0.09915371583910455, 0.038339436791120424, 0.00661024772260697, 0.01718664407877812, 0.9925955833097393, 0.9919456491529437, 0.991635734665535, 0.9920247141769116, 0.001657773952910719, 0.014919965576196471, 0.001657773952910719, 0.9780866322173242, 0.001657773952910719, 0.9938467210119764, 0.005655679233692495, 0.9953995451298792, 0.03261132787751538, 0.405639148511551, 0.08753566956596234, 0.03032281364049676, 0.1556189681172664, 0.16134025370981295, 0.010298314066583806, 0.07437671270310527, 0.03375558499602469, 0.008581928388819838, 0.9945542955082671, 0.9970133608248414, 0.09946831990288285, 0.06216769993930179, 0.12744378487556865, 0.15386505734977193, 0.5548467219582685, 0.9975325326359439, 0.9970536429098202, 0.9940631784374412, 0.0218144207474856, 0.006888764446574399, 0.2548842845232528, 0.5545455379492391, 0.12859026966938877, 0.0332956948251096, 0.9957619075734881, 0.0038856754778486494, 0.6547363180174974, 0.22148350223737304, 0.11851310207438381, 0.10726941362478677, 0.4139266073770021, 0.13817754975396263, 0.060604188488580096, 0.1836306911203977, 0.010908753927944418, 0.010302712043058616, 0.07454315184095352, 0.000606041884885801, 0.008950940547090256, 0.944324227718022, 0.04027923246190615, 0.19782835536422624, 0.7987088739938855, 0.9937368334403397, 0.9973523476821846, 0.07361367731785941, 0.8244731859600254, 0.0013384304966883528, 0.005353721986753411, 0.08164426029798952, 0.01338430496688353, 0.9983244378915124, 0.0004594221987535722, 0.9957586155404996, 0.06422893451258105, 0.9313195504324253, 0.03884283201982777, 0.9589324154894981, 0.9945012879978825, 0.10663317100737771, 0.08808827170174681, 0.8051577115194751, 0.9971452329150038, 0.0022960382653361127, 0.9918885306252007, 0.0022960382653361127, 0.0046199251362125885, 0.8747058257895834, 0.0015399750454041963, 0.058519051725359456, 0.02001967559025455, 0.016939725499446157, 0.021559650635658748, 0.252750256630424, 0.19711340768661997, 0.548420368160354, 0.9953271959405399, 0.9949585714582847, 0.9906975603291348, 0.14971786917340696, 0.0018038297490771923, 0.8459961523172032, 0.0036076594981543845, 0.0018038297490771923, 0.9980848884634272, 0.8610247171309772, 0.01062993477939478, 0.002125986955878956, 0.09992138692631093, 0.023385856514668516, 0.806534475431492, 0.06418046223592776, 0.0021393487411975917, 0.008557394964790367, 0.02781153363556869, 0.08129525216550848, 0.004278697482395183, 0.006418046223592775, 0.8623343266386562, 0.006083487313147486, 0.09429405335378603, 0.0106461027980081, 0.024333949252589943, 0.003041743656573743, 0.9864333326248148, 0.00514437200847361, 0.00514437200847361, 0.0012860930021184025, 0.0017481667683185208, 0.9947068911732383, 0.0017481667683185208, 0.1239223931943264, 0.8574089907499339, 0.013397015480467718, 0.0033492538701169294, 0.043519488885158136, 0.030463642219610693, 0.0163198083319343, 0.0043519488885158135, 0.5429056238423478, 0.2883166138641726, 0.038079552774513366, 0.03481559110812651, 0.18034536733225315, 0.8154747044588838, 0.018125839912712428, 0.003625167982542485, 0.9497940114261312, 0.02175100789525491, 0.9931876039990384, 0.023291835652017, 0.00582295891300425, 0.954965261732697, 0.0116459178260085, 0.0019409863043347501, 0.0019409863043347501, 0.9945805519222056, 0.004881550793948014, 0.9909548111714468, 0.9951782820012933, 0.9967457928793255, 0.9963872814754492, 0.000983084109075234, 0.9005050439129143, 0.09732532679844816, 0.07389908604417811, 0.043394230758499935, 0.2186897371888759, 0.1688508186939651, 0.3445759709734351, 0.06058006472226229, 0.00687433358550494, 0.06229864811863852, 0.0030075209436584115, 0.01761547981285641, 0.0015467546555622492, 0.0015467546555622492, 0.9899229795598395, 0.004640263966686748, 0.9960572040834221, 0.99420033391684, 0.0008009760378796144, 0.0016019520757592288, 0.0008009760378796144, 0.9707829579100926, 0.0032039041515184575, 0.0032039041515184575, 0.02002440094699036, 0.09947583215358487, 0.8952824893822638, 0.9975245876190018, 0.1280734419685592, 0.8095432913268462, 0.03574142566564442, 0.009531046844171847, 0.0005956904277607404, 0.0011913808555214808, 0.01489226069401851, 0.0005956904277607404, 0.0036082977199640674, 0.9922818729901186, 0.00452110291331593, 0.06894681942806792, 0.5594864855228463, 0.319868031117102, 0.021475238838250664, 0.002260551456657965, 0.01808441165326372, 0.003390827184986947, 0.0014640545172368462, 0.013176490655131616, 0.0014640545172368462, 0.9516354362039501, 0.0043921635517105385, 0.0043921635517105385, 0.0014640545172368462, 0.0043921635517105385, 0.010248381620657923, 0.008784327103421077, 0.9919093016954149, 0.9849322542844576, 0.014457721163808552, 0.9959416322123315, 0.9945356565782928, 0.9963587533738809, 0.9969724531219771, 0.9978808070421874, 0.1021838486626193, 0.012063371022670334, 0.031222842646911452, 0.05889763499303751, 0.04115738348911055, 0.27745753352141767, 0.020578691744555275, 0.4002200739285922, 0.04328621366958178, 0.012772981082827413, 0.3599458566493311, 0.006831089250279277, 0.19757611985423137, 0.029426230616587654, 0.13819819021718843, 0.0026273420193381834, 0.00472921563480873, 0.06988729771439567, 0.18338847294980518, 0.006831089250279277, 0.9981383548703656, 0.992089369532937, 0.6052111560282034, 0.006554633458789207, 0.047339019424588714, 0.005098048245724939, 0.037871215539670974, 0.01820731516330335, 0.01602243734370695, 0.10633072055369158, 0.07574243107934195, 0.08156877193159902, 0.9238054172078994, 0.01491345068138313, 0.006628200302836947, 0.0049711502271277104, 0.03728362670345783, 0.0033141001514184736, 0.009113775416400802, 0.005015665837660367, 0.12037598010384881, 0.30316913507635995, 0.415742968321626, 0.002229184816737941, 0.04737017735568125, 0.002229184816737941, 0.023963736779932868, 0.06130258246029338, 0.018948070942272497, 0.9970938945082859, 0.022331456815321362, 0.8586805330278409, 0.005762956597502288, 0.03025552213688701, 0.001440739149375572, 0.014407391493755719, 0.056188826825647305, 0.010085174045629003, 0.000720369574687786, 0.10242949852800652, 0.016767818264371175, 0.004009695671914846, 0.27193027011349774, 0.004374213460270741, 0.3222337249066113, 0.2631818431929563, 0.0003645177883558951, 0.004374213460270741, 0.010935533650676853, 0.0015968483415091034, 0.0007984241707545517, 0.0015968483415091034, 0.023154300951882, 0.972480639979044, 0.9907696825898172, 0.9945590849329116, 0.08918020731037782, 0.13013030250391866, 0.32365741904820794, 0.2393305563533609, 0.07917018404084562, 0.040950095193540835, 0.04398343557824757, 0.041860097308952855, 0.011526693461885569, 0.29455158897174544, 0.17595098811629967, 0.160122281232304, 0.03601604319981623, 0.11974760860066287, 0.06744405541876415, 0.019499131668690314, 0.07776712512571785, 0.029592799826600596, 0.018810927021560068, 0.8687232989081961, 0.05547724985770773, 0.0025216931753503516, 0.02647777834117869, 0.0012608465876751758, 0.0466513237439815, 0.053068676231930116, 0.026534338115965058, 0.40833398100679563, 0.35084291508887133, 0.019163688639308098, 0.06338758549924986, 0.04717215665060455, 0.0029482597906627843, 0.028745532958962147, 0.9957378326104237, 0.9948468752146177, 0.003947805060375467, 0.06790893652352485, 0.176720552960833, 0.017829373295751696, 0.0031463599933679465, 0.5005334356116174, 0.10487866644559822, 0.015993996632953728, 0.06659795319295486, 0.04037828658155531, 0.006292719986735893, 0.004987413878734324, 0.12967276084709242, 0.8653163079604052, 0.032292528535417135, 0.9629044872378928, 0.0029356844123106488, 0.24597804916320096, 0.07864604292973092, 0.10151475044830516, 0.14055888523611484, 0.30510202469902703, 0.09035928336607382, 0.02565757428913207, 0.007251053603450368, 0.004462186832892534, 0.9910963871732614, 0.9979584052573762, 0.009261927736340906, 0.98793895854303, 0.5999921035732263, 0.0018370854365377413, 0.031965286595756696, 0.025351779024220828, 0.03747654290536992, 0.25388520732951586, 0.04886647261190392, 0.00036741708730754827, 0.28348579494564735, 0.4349735166197276, 0.054039479661514025, 0.10807895932302805, 0.10010592134018172, 0.01771786218410296, 0.001771786218410296, 0.9957911647916331, 0.059575805338359496, 0.013326166983580414, 0.031355687020189205, 0.0007838921755047302, 0.1614817881539744, 0.007055029579542572, 0.7251002623418754, 0.0007838921755047302, 0.9951758928967743, 0.9986989456175205, 0.05033007639900883, 0.9483245974129032, 0.09639766140298882, 0.2415892008000831, 0.3353091493863222, 0.07170319875963058, 0.08211652638032381, 0.08181900273401829, 0.04641368882366129, 0.0014876182315276053, 0.03272760109360732, 0.010115803974387716, 0.9979435325042187, 0.02096213322085814, 0.0019056484746234673, 0.13085452859081143, 0.7057251517688907, 0.02794951096114419, 0.00254086463283129, 0.033031240226806764, 0.07686115514314652, 0.9949265060952353, 0.9394623664826456, 0.05718466578590017, 0.025860430567150428, 0.0009403792933509246, 0.1584539109296308, 0.1382357561225859, 0.007052844700131934, 0.017397016926992106, 0.0009403792933509246, 0.5402479040301061, 0.10673304979532994, 0.0037615171734036983, 0.15056330315893196, 0.1708847305791559, 0.22353570162246342, 0.08775161840551249, 0.011084414956485789, 0.32606653996995694, 0.012008116202859605, 0.015702921188354868, 0.0009237012463738157, 0.9985167231269669, 0.9959650402190384, 0.9951063826921105, 0.10133914007653985, 0.8978292234851337, 0.1295485958102459, 0.05734382981625597, 0.1851155745617728, 0.09966519153980263, 0.17865429796275806, 0.14715557454256112, 0.05072102130226585, 0.1419865532633493, 0.002584510639605903, 0.006945872343940864, 0.08251180694450823, 0.1339603453922604, 0.011648725686283513, 0.038829085620945045, 0.22812087802305214, 0.4212955789872537, 0.07183380839874834, 0.011648725686283513, 0.0917498073228175, 0.0010194423035868611, 0.0020388846071737222, 0.005097211517934306, 0.041797134447061304, 0.04383601905423503, 0.07238040355466714, 0.741134554707648, 0.0010194423035868611, 0.9902265125208212, 0.9957193128378597, 0.2940134520060499, 0.006438250773855107, 0.6438250773855106, 0.029329809080895487, 0.02575300309542043, 0.9983611938446084, 0.9911453967694949, 0.9966315663348081, 0.9927948919211489, 0.9956317937028993, 0.995833168258718, 0.002573212321081959, 0.9959873338608713, 0.9926036511665469, 0.04717710101406875, 0.062146758066609804, 0.3211671876726988, 0.09072519425782452, 0.06033225418145331, 0.170109739233421, 0.1261080200183761, 0.05262061266953823, 0.05488874252598384, 0.014516031081251924, 0.9933598579472448, 0.9953150330138304, 0.9975653035656858, 0.14384016991205797, 0.16342404281088277, 0.3227962498495949, 0.052673865038218415, 0.10095824132325196, 0.09217926381688223, 0.08238732736746983, 0.020934484822881676, 0.002701223848113765, 0.018233260974767913, 0.17579253160437197, 0.0007710198754577718, 0.0007710198754577718, 0.08327014654943936, 0.01310733788278212, 0.019275496886444296, 0.04317711302563522, 0.6630770928936838, 0.061674123627062816, 0.02505511272349427, 0.09636581816728565, 0.8017636071518166, 0.013491214543419991, 0.3528892329933239, 0.03282690539472781, 0.0014921320633967184, 0.005222462221888514, 0.22381980950950778, 0.010444924443777029, 0.3722869498174813, 0.0007460660316983592, 0.9932637208131158, 0.005093660106733927, 0.04391551810225697, 0.25101710915267333, 0.06038383739060332, 0.11527823501842453, 0.3473318249905778, 0.10380031551442555, 0.023454878986432698, 0.01996159913738953, 0.0169673592667811, 0.017965439223650577, 0.9954662394757442, 0.0018066537921519858, 0.06399753817277283, 0.42055525084965, 0.018285010906506523, 0.19351636542719403, 0.006856879089939946, 0.06247378726389728, 0.13180445361773452, 0.0038093772721888588, 0.09828193362247256, 0.9947437375007061, 0.18657861171588758, 0.07389532269779463, 0.12514073805526907, 0.03425798485223429, 0.13108633873210312, 0.3148337120304507, 0.017270554346994146, 0.008776839094374074, 0.07757593264059666, 0.03057737490943226, 0.9970693472496658, 0.9969778933195688, 0.020748738824875677, 0.03742183252343649, 0.1774758195913473, 0.07521417824017433, 0.022601304791382434, 0.027417976304300002, 0.14005398706791083, 0.24305665480568653, 0.25491307699132976, 0.0007410263866027027, 0.9958800991529181, 0.06395019347900902, 0.05843571226106944, 0.060481406906434124, 0.7405414616220155, 0.0006226027181544689, 0.053543833761284326, 0.015476124708411084, 0.0022235811362659604, 0.0028461838544204293, 0.001956751399914045, 0.06544902690562418, 0.314155329146996, 0.31497344198331634, 0.004090564181601511, 0.06708525257826478, 0.0008181128363203021, 0.23152593267864552, 0.0016362256726406043, 0.0009475482283252373, 0.9437580354119364, 0.008527934054927135, 0.03695438090468425, 0.0009475482283252373, 0.007580385826601898, 0.0009475482283252373, 0.24538694881945433, 0.04878827406572362, 0.13371601040235362, 0.03252551604381575, 0.07806123850515778, 0.011564627926690043, 0.41849497309709593, 0.027465991325888853, 0.003975340849799702, 0.0020501228588917547, 0.8672019693112122, 0.12915774011018052], \"Term\": [\"act\", \"action\", \"action\", \"add\", \"add\", \"add\", \"add\", \"add\", \"add\", \"add\", \"add\", \"admit\", \"advance\", \"advice\", \"advice\", \"advice\", \"advice\", \"advice\", \"agree\", \"agree\", \"agree\", \"ahead\", \"ai\", \"ai\", \"ai\", \"ai\", \"ai\", \"ai\", \"ai\", \"ai\", \"ai\", \"ai\", \"aiart\", \"aiart\", \"aiart\", \"aiartgenerator\", \"aiartwork\", \"ais\", \"align\", \"amp\", \"amp\", \"amp\", \"amp\", \"amp\", \"amp\", \"amp\", \"amp\", \"amp\", \"amp\", \"analytic\", \"analytic\", \"animation\", \"answer\", \"answer\", \"answer\", \"answer\", \"answer\", \"answer\", \"answer\", \"answer\", \"anymore\", \"anymore\", \"application\", \"application\", \"application\", \"application\", \"architecture\", \"art\", \"art\", \"article\", \"article\", \"article\", \"article\", \"article\", \"article\", \"artificial\", \"artificialintelligence\", \"artificialintelligence\", \"artificialintelligence\", \"artificialintelligence\", \"artificialintelligence\", \"artificialintelligence\", \"artificialintelligence\", \"artist\", \"artist\", \"ask\", \"ask\", \"ask\", \"ask\", \"ask\", \"ask\", \"ask\", \"ask\", \"ask\", \"ask\", \"assessment\", \"assist\", \"assist\", \"assistant\", \"assistant\", \"assistant\", \"assistant\", \"assistant\", \"associate\", \"assume\", \"attention\", \"attention\", \"auto\", \"automate\", \"automate\", \"automate\", \"automatically\", \"automation\", \"backend\", \"bad\", \"bad\", \"bad\", \"bad\", \"bad\", \"bad\", \"bad\", \"bad\", \"ban\", \"barely\", \"base\", \"base\", \"base\", \"base\", \"base\", \"base\", \"beauty\", \"bird\", \"bitcoin\", \"bitcoin\", \"bitcoin\", \"black\", \"blockchain\", \"blog\", \"blog\", \"blog\", \"blog\", \"blog\", \"blow\", \"blow\", \"blow\", \"blow\", \"book\", \"book\", \"book\", \"book\", \"boomer\", \"bore\", \"bottle\", \"box\", \"box\", \"brainstorm\", \"brainstorm\", \"break\", \"break\", \"break\", \"break\", \"break\", \"break\", \"bright\", \"bring\", \"bring\", \"bro\", \"bug\", \"build\", \"build\", \"build\", \"build\", \"build\", \"build\", \"build\", \"build\", \"build\", \"build\", \"building\", \"building\", \"business\", \"business\", \"business\", \"business\", \"business\", \"business\", \"buy\", \"buy\", \"calculator\", \"calculator\", \"canva\", \"capacity\", \"carefully\", \"case\", \"case\", \"case\", \"case\", \"case\", \"case\", \"case\", \"category\", \"cause\", \"censorship\", \"chance\", \"change\", \"change\", \"change\", \"change\", \"change\", \"change\", \"change\", \"change\", \"change\", \"changer\", \"character\", \"character\", \"character\", \"character\", \"character\", \"character\", \"charge\", \"chatbot\", \"chatbot\", \"chatbot\", \"chatbot\", \"chatbot\", \"chatbot\", \"chatbot\", \"chatbot\", \"chatbot\", \"cheat\", \"cheat\", \"choice\", \"christmas\", \"chrome\", \"cicero\", \"class\", \"class\", \"class\", \"class\", \"classroom\", \"click\", \"client\", \"climate\", \"cloud\", \"co\", \"code\", \"code\", \"code\", \"code\", \"code\", \"code\", \"code\", \"code\", \"code\", \"code\", \"coder\", \"collection\", \"college\", \"come\", \"come\", \"come\", \"come\", \"come\", \"come\", \"come\", \"come\", \"come\", \"come\", \"command\", \"company\", \"company\", \"company\", \"company\", \"compelling\", \"competitor\", \"concise\", \"confident\", \"constrain\", \"content\", \"content\", \"content\", \"content\", \"content\", \"content\", \"content\", \"content\", \"contradict\", \"control\", \"control\", \"control\", \"cool\", \"cool\", \"cool\", \"cool\", \"cool\", \"copilot\", \"copilot\", \"copy\", \"copy\", \"copy\", \"copywriter\", \"correct\", \"correct\", \"correct\", \"correct\", \"correct\", \"correct\", \"correct\", \"cost\", \"cost\", \"coverage\", \"craft\", \"craft\", \"craft\", \"create\", \"create\", \"create\", \"create\", \"create\", \"create\", \"create\", \"create\", \"create\", \"create\", \"creation\", \"creation\", \"creative\", \"creative\", \"creativity\", \"creativity\", \"creativity\", \"creativity\", \"credit\", \"cross\", \"crypto\", \"crypto\", \"cryptocurrencie\", \"currency\", \"customer\", \"customer\", \"cut\", \"cybersecurite\", \"cybersecurity\", \"daily\", \"dalle\", \"dalle\", \"dalle\", \"dalle\", \"dalle\", \"dalle\", \"datascience\", \"datascience\", \"datum\", \"datum\", \"datum\", \"datum\", \"datum\", \"datum\", \"datum\", \"datum\", \"datum\", \"daughter\", \"day\", \"day\", \"day\", \"day\", \"day\", \"day\", \"day\", \"day\", \"day\", \"day\", \"daysofcode\", \"daysofcode\", \"dear\", \"debate\", \"dec\", \"decade\", \"decentralize\", \"deepfake\", \"deeplearne\", \"defend\", \"demand\", \"demo\", \"demo\", \"democracy\", \"deploy\", \"description\", \"description\", \"desire\", \"destroy\", \"detect\", \"detector\", \"devops\", \"difference\", \"diffusion\", \"digital\", \"digital\", \"digitalart\", \"direction\", \"doc\", \"document\", \"document\", \"dollar\", \"domain\", \"doom\", \"doubt\", \"draft\", \"draft\", \"draw\", \"draw\", \"edge\", \"edtech\", \"education\", \"education\", \"education\", \"educational\", \"educator\", \"element\", \"elon\", \"emerge\", \"emerge\", \"endless\", \"engage\", \"engine\", \"engineer\", \"engineer\", \"engineer\", \"engineer\", \"engineer\", \"engineering\", \"engineering\", \"engineering\", \"engineering\", \"enjoy\", \"enjoy\", \"enjoy\", \"ens\", \"enter\", \"entertain\", \"enthusiast\", \"entirety\", \"entity\", \"error\", \"error\", \"error\", \"essay\", \"essay\", \"essay\", \"essay\", \"essay\", \"essay\", \"essay\", \"essential\", \"essentially\", \"eth\", \"ethic\", \"evaluate\", \"eve\", \"evolve\", \"exam\", \"exam\", \"exam\", \"excel\", \"excellent\", \"explain\", \"explain\", \"explain\", \"explain\", \"explain\", \"explain\", \"explain\", \"explain\", \"explain\", \"explain\", \"explicitly\", \"expose\", \"extension\", \"extension\", \"extract\", \"facebook\", \"fact\", \"fact\", \"fact\", \"fact\", \"fact\", \"fact\", \"fact\", \"fact\", \"faculty\", \"family\", \"fascinating\", \"favorite\", \"favorite\", \"fear\", \"feel\", \"feel\", \"feel\", \"feel\", \"feel\", \"feel\", \"feel\", \"feel\", \"feel\", \"feeling\", \"file\", \"file\", \"film\", \"film\", \"film\", \"finally\", \"finally\", \"finally\", \"finally\", \"finally\", \"finally\", \"find\", \"find\", \"find\", \"find\", \"find\", \"find\", \"find\", \"find\", \"find\", \"finish\", \"fintech\", \"fire\", \"fossil\", \"fossil\", \"fossil\", \"free\", \"free\", \"free\", \"free\", \"free\", \"free\", \"free\", \"free\", \"free\", \"friday\", \"friend\", \"friend\", \"friend\", \"friend\", \"friend\", \"friend\", \"friend\", \"fucking\", \"fucking\", \"fucking\", \"fuel\", \"fulfill\", \"fun\", \"fun\", \"fun\", \"fun\", \"fun\", \"fun\", \"fun\", \"fun\", \"fun\", \"fun\", \"funny\", \"funny\", \"funny\", \"future\", \"future\", \"future\", \"future\", \"future\", \"future\", \"future\", \"future\", \"game\", \"game\", \"game\", \"game\", \"generate\", \"generate\", \"generate\", \"generate\", \"generate\", \"generate\", \"generate\", \"generate\", \"generate\", \"generate\", \"generativeai\", \"generativeai\", \"generator\", \"generator\", \"generic\", \"genie\", \"george\", \"get\", \"get\", \"get\", \"get\", \"get\", \"get\", \"get\", \"get\", \"get\", \"get\", \"github\", \"give\", \"give\", \"give\", \"give\", \"give\", \"give\", \"give\", \"give\", \"give\", \"glimpse\", \"gm\", \"gmail\", \"go\", \"go\", \"go\", \"go\", \"go\", \"go\", \"go\", \"go\", \"go\", \"go\", \"goal\", \"goal\", \"god\", \"god\", \"good\", \"good\", \"good\", \"good\", \"good\", \"good\", \"good\", \"good\", \"good\", \"good\", \"google\", \"google\", \"google\", \"google\", \"google\", \"google\", \"google\", \"gpt\", \"gpt\", \"gpt\", \"gpt\", \"gpt\", \"gpt\", \"gpt\", \"gpt\", \"gpt\", \"gpt\", \"gptchat\", \"great\", \"great\", \"great\", \"great\", \"great\", \"great\", \"great\", \"great\", \"great\", \"great\", \"greeting\", \"gt\", \"guest\", \"guy\", \"guy\", \"habit\", \"hack\", \"happy\", \"happy\", \"happy\", \"headline\", \"health\", \"hear\", \"hear\", \"hear\", \"hear\", \"hear\", \"heavily\", \"help\", \"help\", \"help\", \"help\", \"help\", \"help\", \"help\", \"help\", \"help\", \"help\", \"history\", \"history\", \"history\", \"history\", \"history\", \"holiday\", \"hour\", \"hour\", \"hour\", \"hour\", \"hour\", \"hour\", \"hour\", \"human\", \"human\", \"human\", \"human\", \"human\", \"human\", \"human\", \"human\", \"human\", \"humanity\", \"hype\", \"hype\", \"hype\", \"hype\", \"hype\", \"hype\", \"hypothetical\", \"idea\", \"idea\", \"idea\", \"idea\", \"idea\", \"idea\", \"idea\", \"idea\", \"idea\", \"idea\", \"ill\", \"illustration\", \"image\", \"image\", \"image\", \"image\", \"image\", \"image\", \"image\", \"imaginary\", \"imagine\", \"imagine\", \"imagine\", \"imagine\", \"imagine\", \"imagine\", \"imagine\", \"imagine\", \"imagine\", \"imagine\", \"important\", \"important\", \"important\", \"important\", \"inappropriate\", \"income\", \"increase\", \"innovation\", \"innovation\", \"innovation\", \"insist\", \"inspire\", \"inspire\", \"inspire\", \"instance\", \"instance\", \"insurtech\", \"integration\", \"intelligence\", \"interesting\", \"interesting\", \"interesting\", \"interesting\", \"interesting\", \"interesting\", \"interesting\", \"interesting\", \"interesting\", \"interesting\", \"internal\", \"interview\", \"interview\", \"interview\", \"interview\", \"interview\", \"interview\", \"interview\", \"interview\", \"interview\", \"introduce\", \"invent\", \"io\", \"io\", \"iot\", \"ironic\", \"issue\", \"issue\", \"issue\", \"issue\", \"issue\", \"issue\", \"item\", \"job\", \"job\", \"job\", \"job\", \"job\", \"job\", \"job\", \"job\", \"job\", \"job\", \"join\", \"join\", \"journalist\", \"kid\", \"kill\", \"kill\", \"kill\", \"king\", \"know\", \"know\", \"know\", \"know\", \"know\", \"know\", \"know\", \"know\", \"know\", \"know\", \"landscape\", \"language\", \"language\", \"language\", \"language\", \"language\", \"large\", \"large\", \"large\", \"late\", \"late\", \"late\", \"launch\", \"launch\", \"launch\", \"launch\", \"launch\", \"law\", \"law\", \"lawyer\", \"learn\", \"learn\", \"learn\", \"learn\", \"learn\", \"learn\", \"learn\", \"learn\", \"learn\", \"learn\", \"learning\", \"learning\", \"learning\", \"learning\", \"learning\", \"let\", \"let\", \"let\", \"let\", \"let\", \"let\", \"let\", \"let\", \"let\", \"let\", \"letter\", \"letter\", \"lie\", \"lie\", \"lie\", \"like\", \"like\", \"like\", \"like\", \"like\", \"like\", \"like\", \"like\", \"like\", \"like\", \"linkedin\", \"list\", \"list\", \"list\", \"list\", \"list\", \"listen\", \"little\", \"little\", \"little\", \"little\", \"little\", \"little\", \"little\", \"log\", \"lol\", \"lol\", \"lol\", \"look\", \"look\", \"look\", \"look\", \"look\", \"look\", \"look\", \"look\", \"look\", \"look\", \"lot\", \"lot\", \"lot\", \"lot\", \"lot\", \"lot\", \"lot\", \"lot\", \"love\", \"love\", \"love\", \"love\", \"love\", \"love\", \"low\", \"lt\", \"machinelearne\", \"machinelearning\", \"machinelearning\", \"mad\", \"manipulate\", \"marketer\", \"math\", \"math\", \"meal\", \"mean\", \"mean\", \"mean\", \"mean\", \"mean\", \"medium\", \"medium\", \"medium\", \"medium\", \"medium\", \"medium\", \"meeting\", \"meeting\", \"metaverse\", \"microsoft\", \"midjourney\", \"midjourney\", \"midjourney\", \"midjourney\", \"midjourney\", \"min\", \"min\", \"mind\", \"mind\", \"mind\", \"mind\", \"mind\", \"mind\", \"mistake\", \"mistake\", \"mistake\", \"mistake\", \"mistake\", \"mlart\", \"mlsogood\", \"moat\", \"model\", \"model\", \"model\", \"model\", \"model\", \"model\", \"model\", \"model\", \"model\", \"monster\", \"month\", \"month\", \"month\", \"month\", \"month\", \"month\", \"morning\", \"morning\", \"multiple\", \"multiple\", \"music\", \"music\", \"musk\", \"natural\", \"natural\", \"need\", \"need\", \"need\", \"need\", \"need\", \"need\", \"need\", \"need\", \"need\", \"need\", \"new\", \"new\", \"new\", \"new\", \"new\", \"new\", \"new\", \"new\", \"new\", \"new\", \"newsletter\", \"nft\", \"nft\", \"nft\", \"nft\", \"nft\", \"nftcommunity\", \"nocode\", \"note\", \"note\", \"note\", \"note\", \"note\", \"notice\", \"official\", \"old\", \"old\", \"old\", \"old\", \"old\", \"old\", \"old\", \"openai\", \"openai\", \"openai\", \"openai\", \"openai\", \"openai\", \"openai\", \"openai\", \"openai\", \"openai\", \"opinion\", \"opinion\", \"option\", \"option\", \"output\", \"output\", \"output\", \"output\", \"output\", \"output\", \"output\", \"output\", \"output\", \"owner\", \"page\", \"page\", \"page\", \"page\", \"page\", \"page\", \"paper\", \"paper\", \"paper\", \"paper\", \"paper\", \"paragraph\", \"paraphrase\", \"partner\", \"pass\", \"pass\", \"paste\", \"paste\", \"paste\", \"paste\", \"pattern\", \"pay\", \"pay\", \"pay\", \"pay\", \"pay\", \"peer\", \"peer\", \"people\", \"people\", \"people\", \"people\", \"people\", \"people\", \"people\", \"people\", \"people\", \"people\", \"photoshop\", \"phrase\", \"pick\", \"pick\", \"plagiarism\", \"pm\", \"podcast\", \"podcast\", \"podcast\", \"poem\", \"poem\", \"possibility\", \"possibility\", \"possibility\", \"possibility\", \"post\", \"post\", \"post\", \"post\", \"post\", \"post\", \"post\", \"practical\", \"practice\", \"praise\", \"prediction\", \"prediction\", \"prediction\", \"pretty\", \"pretty\", \"pretty\", \"pretty\", \"pretty\", \"pretty\", \"pretty\", \"pretty\", \"pretty\", \"prevent\", \"prime\", \"pro\", \"problem\", \"problem\", \"problem\", \"problem\", \"problem\", \"problem\", \"product\", \"product\", \"product\", \"product\", \"product\", \"product\", \"product\", \"professional\", \"program\", \"program\", \"program\", \"program\", \"program\", \"program\", \"programmer\", \"promise\", \"promote\", \"prompt\", \"prompt\", \"prompt\", \"prompt\", \"prompt\", \"prompt\", \"prompt\", \"prompt\", \"prompt\", \"prompt\", \"prove\", \"public\", \"public\", \"public\", \"put\", \"put\", \"put\", \"python\", \"python\", \"python\", \"python\", \"python\", \"python\", \"python\", \"query\", \"query\", \"query\", \"query\", \"query\", \"query\", \"question\", \"question\", \"question\", \"question\", \"question\", \"question\", \"question\", \"quiz\", \"quote\", \"rail\", \"raise\", \"reach\", \"reach\", \"recently\", \"recently\", \"recently\", \"recipe\", \"recommendation\", \"red\", \"release\", \"release\", \"release\", \"release\", \"release\", \"release\", \"release\", \"replace\", \"replace\", \"replace\", \"replace\", \"replace\", \"replace\", \"replace\", \"replacement\", \"response\", \"response\", \"response\", \"response\", \"response\", \"response\", \"response\", \"response\", \"response\", \"response\", \"retweet\", \"reveal\", \"revenue\", \"reverse\", \"review\", \"review\", \"review\", \"review\", \"review\", \"revolution\", \"ride\", \"ride\", \"right\", \"right\", \"right\", \"right\", \"right\", \"right\", \"right\", \"right\", \"right\", \"right\", \"rise\", \"rlhf\", \"robot\", \"robot\", \"robot\", \"robot\", \"robot\", \"rock\", \"routine\", \"rt\", \"run\", \"run\", \"run\", \"run\", \"run\", \"run\", \"sam\", \"save\", \"save\", \"save\", \"save\", \"say\", \"say\", \"say\", \"say\", \"say\", \"say\", \"say\", \"say\", \"say\", \"scenario\", \"scenario\", \"scenario\", \"school\", \"school\", \"scientific\", \"score\", \"script\", \"script\", \"script\", \"script\", \"script\", \"script\", \"search\", \"search\", \"secure\", \"sell\", \"sell\", \"sentence\", \"sentence\", \"sentient\", \"seo\", \"seo\", \"seo\", \"shame\", \"shit\", \"shit\", \"shit\", \"short\", \"short\", \"short\", \"short\", \"short\", \"short\", \"short\", \"skill\", \"skill\", \"skill\", \"slack\", \"smile\", \"sneak\", \"social\", \"social\", \"social\", \"social\", \"social\", \"socialmedia\", \"society\", \"society\", \"society\", \"society\", \"society\", \"software\", \"software\", \"software\", \"software\", \"software\", \"software\", \"software\", \"software\", \"solution\", \"solution\", \"solution\", \"solution\", \"solution\", \"solution\", \"solve\", \"solve\", \"solve\", \"solve\", \"song\", \"song\", \"song\", \"sorry\", \"sorry\", \"sorry\", \"sorry\", \"source\", \"source\", \"source\", \"source\", \"source\", \"source\", \"source\", \"source\", \"space\", \"space\", \"speech\", \"speech\", \"speech\", \"speech\", \"speed\", \"spend\", \"spend\", \"spend\", \"spend\", \"spend\", \"spend\", \"spit\", \"spot\", \"spot\", \"spread\", \"spreadsheet\", \"stable\", \"stablediffusion\", \"stablediffusion\", \"stablediffusion\", \"start\", \"start\", \"start\", \"start\", \"start\", \"start\", \"start\", \"start\", \"start\", \"start\", \"startup\", \"startup\", \"startup\", \"startup\", \"stock\", \"store\", \"story\", \"story\", \"story\", \"story\", \"story\", \"story\", \"story\", \"storytelle\", \"storytelle\", \"stream\", \"student\", \"student\", \"student\", \"student\", \"student\", \"student\", \"student\", \"student\", \"study\", \"study\", \"stuff\", \"stuff\", \"stuff\", \"stuff\", \"stuff\", \"stuff\", \"stuff\", \"stuff\", \"style\", \"style\", \"style\", \"style\", \"style\", \"style\", \"style\", \"style\", \"style\", \"style\", \"success\", \"summarize\", \"summarize\", \"supposedly\", \"surprisingly\", \"switch\", \"table\", \"tag\", \"take\", \"take\", \"take\", \"take\", \"take\", \"take\", \"take\", \"take\", \"take\", \"take\", \"talk\", \"talk\", \"talk\", \"talk\", \"talk\", \"talk\", \"talk\", \"talk\", \"talk\", \"talk\", \"teacher\", \"teaching\", \"tech\", \"tech\", \"tech\", \"tech\", \"tech\", \"tech\", \"tech\", \"tech\", \"tech\", \"tech\", \"technology\", \"technology\", \"technology\", \"technology\", \"technology\", \"technology\", \"technology\", \"tell\", \"tell\", \"tell\", \"tell\", \"tell\", \"tell\", \"tell\", \"tell\", \"tell\", \"tell\", \"terrify\", \"test\", \"test\", \"test\", \"test\", \"test\", \"test\", \"test\", \"test\", \"test\", \"text\", \"text\", \"text\", \"text\", \"text\", \"text\", \"text\", \"text\", \"text\", \"text\", \"thank\", \"thank\", \"thank\", \"thank\", \"thank\", \"theme\", \"therapist\", \"thing\", \"thing\", \"thing\", \"thing\", \"thing\", \"thing\", \"thing\", \"thing\", \"thing\", \"think\", \"think\", \"think\", \"think\", \"think\", \"think\", \"think\", \"think\", \"think\", \"think\", \"thought\", \"thought\", \"thought\", \"thought\", \"thought\", \"thought\", \"thread\", \"thread\", \"thread\", \"thread\", \"thread\", \"thread\", \"thread\", \"thread\", \"thread\", \"threat\", \"tiktok\", \"tiktok\", \"time\", \"time\", \"time\", \"time\", \"time\", \"time\", \"time\", \"time\", \"time\", \"time\", \"tip\", \"tip\", \"tip\", \"title\", \"title\", \"title\", \"today\", \"today\", \"today\", \"today\", \"today\", \"today\", \"today\", \"today\", \"today\", \"token\", \"tomorrow\", \"tonight\", \"tonight\", \"tool\", \"tool\", \"tool\", \"tool\", \"tool\", \"tool\", \"tool\", \"tool\", \"topic\", \"topic\", \"topic\", \"topic\", \"topic\", \"topic\", \"topic\", \"trading\", \"train\", \"train\", \"train\", \"train\", \"train\", \"train\", \"train\", \"train\", \"transaction\", \"travel\", \"trend\", \"trend\", \"try\", \"try\", \"try\", \"try\", \"try\", \"try\", \"try\", \"try\", \"try\", \"try\", \"tune\", \"tweet\", \"tweet\", \"tweet\", \"tweet\", \"tweet\", \"tweet\", \"tweet\", \"tweet\", \"twice\", \"twitch\", \"twitch\", \"twitter\", \"twitter\", \"twitter\", \"twitter\", \"twitter\", \"twitter\", \"twitter\", \"twitter\", \"twitter\", \"twitter\", \"understand\", \"understand\", \"understand\", \"understand\", \"understand\", \"understand\", \"understand\", \"understand\", \"understand\", \"unique\", \"unit\", \"university\", \"update\", \"update\", \"use\", \"use\", \"use\", \"use\", \"use\", \"use\", \"use\", \"use\", \"use\", \"use\", \"useful\", \"useful\", \"useful\", \"useful\", \"useful\", \"useful\", \"useful\", \"useful\", \"user\", \"user\", \"user\", \"user\", \"user\", \"user\", \"user\", \"user\", \"user\", \"vacation\", \"vertical\", \"video\", \"video\", \"video\", \"video\", \"video\", \"view\", \"vision\", \"visualize\", \"vr\", \"vulnerability\", \"wake\", \"wake\", \"walk\", \"wall\", \"want\", \"want\", \"want\", \"want\", \"want\", \"want\", \"want\", \"want\", \"want\", \"want\", \"war\", \"waste\", \"watermark\", \"way\", \"way\", \"way\", \"way\", \"way\", \"way\", \"way\", \"way\", \"way\", \"way\", \"web\", \"web\", \"web\", \"web\", \"web\", \"web\", \"web\", \"web\", \"website\", \"website\", \"website\", \"website\", \"website\", \"week\", \"week\", \"week\", \"week\", \"week\", \"week\", \"week\", \"week\", \"welcome\", \"welcome\", \"well\", \"well\", \"well\", \"well\", \"well\", \"well\", \"well\", \"well\", \"well\", \"well\", \"win\", \"win\", \"word\", \"word\", \"word\", \"word\", \"word\", \"word\", \"word\", \"word\", \"word\", \"wordpress\", \"work\", \"work\", \"work\", \"work\", \"work\", \"work\", \"work\", \"work\", \"work\", \"work\", \"workflow\", \"working\", \"world\", \"world\", \"world\", \"world\", \"world\", \"world\", \"world\", \"world\", \"world\", \"world\", \"worthy\", \"write\", \"write\", \"write\", \"write\", \"write\", \"write\", \"write\", \"write\", \"write\", \"write\", \"writing\", \"writing\", \"writing\", \"writing\", \"writing\", \"writing\", \"writing\", \"writing\", \"wrong\", \"wrong\", \"wrong\", \"wrong\", \"wrong\", \"wrong\", \"wrong\", \"year\", \"year\", \"year\", \"year\", \"year\", \"year\", \"year\", \"year\", \"year\", \"youtube\", \"youtube\", \"youtube\"]}, \"R\": 30, \"lambda.step\": 0.01, \"plot.opts\": {\"xlab\": \"PC1\", \"ylab\": \"PC2\"}, \"topic.order\": [8, 7, 3, 1, 5, 10, 4, 6, 9, 2]};\n",
              "\n",
              "function LDAvis_load_lib(url, callback){\n",
              "  var s = document.createElement('script');\n",
              "  s.src = url;\n",
              "  s.async = true;\n",
              "  s.onreadystatechange = s.onload = callback;\n",
              "  s.onerror = function(){console.warn(\"failed to load library \" + url);};\n",
              "  document.getElementsByTagName(\"head\")[0].appendChild(s);\n",
              "}\n",
              "\n",
              "if(typeof(LDAvis) !== \"undefined\"){\n",
              "   // already loaded: just create the visualization\n",
              "   !function(LDAvis){\n",
              "       new LDAvis(\"#\" + \"ldavis_el1451397229818262249419261513\", ldavis_el1451397229818262249419261513_data);\n",
              "   }(LDAvis);\n",
              "}else if(typeof define === \"function\" && define.amd){\n",
              "   // require.js is available: use it to load d3/LDAvis\n",
              "   require.config({paths: {d3: \"https://d3js.org/d3.v5\"}});\n",
              "   require([\"d3\"], function(d3){\n",
              "      window.d3 = d3;\n",
              "      LDAvis_load_lib(\"https://cdn.jsdelivr.net/gh/bmabey/pyLDAvis@3.4.0/pyLDAvis/js/ldavis.v3.0.0.js\", function(){\n",
              "        new LDAvis(\"#\" + \"ldavis_el1451397229818262249419261513\", ldavis_el1451397229818262249419261513_data);\n",
              "      });\n",
              "    });\n",
              "}else{\n",
              "    // require.js not available: dynamically load d3 & LDAvis\n",
              "    LDAvis_load_lib(\"https://d3js.org/d3.v5.js\", function(){\n",
              "         LDAvis_load_lib(\"https://cdn.jsdelivr.net/gh/bmabey/pyLDAvis@3.4.0/pyLDAvis/js/ldavis.v3.0.0.js\", function(){\n",
              "                 new LDAvis(\"#\" + \"ldavis_el1451397229818262249419261513\", ldavis_el1451397229818262249419261513_data);\n",
              "            })\n",
              "         });\n",
              "}\n",
              "</script>"
            ]
          },
          "metadata": {},
          "execution_count": 163
        }
      ]
    },
    {
      "cell_type": "code",
      "source": [
        "# for content ver_3.0 in Feb 23\n",
        "pyLDAvis.enable_notebook()\n",
        "vis = pyLDAvis.gensim_models.prepare(lda_model, corpus, id2word, mds=\"mmds\", R=30)\n",
        "vis"
      ],
      "metadata": {
        "colab": {
          "base_uri": "https://localhost:8080/",
          "height": 952
        },
        "id": "I_GpqgT5gzBC",
        "outputId": "892a8327-cf14-4225-d10e-9ecb9e5b6ce2"
      },
      "execution_count": null,
      "outputs": [
        {
          "output_type": "stream",
          "name": "stderr",
          "text": [
            "/usr/local/lib/python3.9/dist-packages/pyLDAvis/_prepare.py:243: FutureWarning: In a future version of pandas all arguments of DataFrame.drop except for the argument 'labels' will be keyword-only.\n",
            "  default_term_info = default_term_info.sort_values(\n",
            "/usr/local/lib/python3.9/dist-packages/sklearn/manifold/_mds.py:299: FutureWarning: The default value of `normalized_stress` will change to `'auto'` in version 1.4. To suppress this warning, manually set the value of `normalized_stress`.\n",
            "  warnings.warn(\n"
          ]
        },
        {
          "output_type": "execute_result",
          "data": {
            "text/plain": [
              "PreparedData(topic_coordinates=              x         y  topics  cluster       Freq\n",
              "topic                                                \n",
              "3      0.212004  0.202554       1        1  13.180215\n",
              "1      0.057510  0.264569       2        1  12.765938\n",
              "9     -0.040705 -0.007752       3        1  11.681439\n",
              "6     -0.120375  0.318128       4        1  11.338806\n",
              "0      0.056621 -0.212796       5        1  11.270624\n",
              "2     -0.297464  0.132437       6        1  10.876108\n",
              "5     -0.193762 -0.374854       7        1   9.330080\n",
              "4     -0.345138 -0.101638       8        1   6.788663\n",
              "7      0.293768 -0.238882       9        1   6.767272\n",
              "8      0.377540  0.018235      10        1   6.000854, topic_info=         Term          Freq         Total Category  logprob  loglift\n",
              "23         ai  35196.000000  35196.000000  Default  30.0000  30.0000\n",
              "160     write  12294.000000  12294.000000  Default  29.0000  29.0000\n",
              "0         ask  10617.000000  10617.000000  Default  28.0000  28.0000\n",
              "24     answer   4415.000000   4415.000000  Default  27.0000  27.0000\n",
              "5833     elon   2933.000000   2933.000000  Default  26.0000  26.0000\n",
              "...       ...           ...           ...      ...      ...      ...\n",
              "1083      say    489.626002   3945.680788  Topic10  -4.9999   0.7265\n",
              "133      well    458.715166   2972.650764  Topic10  -5.0651   0.9445\n",
              "286      come    462.596504   3921.523829  Topic10  -5.0567   0.6759\n",
              "23         ai    570.509734  35196.417911  Topic10  -4.8470  -1.3089\n",
              "573   twitter    384.073048   1813.505701  Topic10  -5.2427   1.2611\n",
              "\n",
              "[671 rows x 6 columns], token_table=      Topic      Freq       Term\n",
              "term                            \n",
              "867       1  0.044460   academic\n",
              "867       4  0.001852   academic\n",
              "867       5  0.922538   academic\n",
              "867       9  0.029640   academic\n",
              "4662      4  0.995933     accept\n",
              "...     ...       ...        ...\n",
              "53       10  0.065555        yes\n",
              "1558      3  0.995694  yesterday\n",
              "1031     10  0.997885      young\n",
              "2659      4  0.991002    youtube\n",
              "2659      7  0.008809    youtube\n",
              "\n",
              "[1842 rows x 3 columns], R=30, lambda_step=0.01, plot_opts={'xlab': 'PC1', 'ylab': 'PC2'}, topic_order=[4, 2, 10, 7, 1, 3, 6, 5, 8, 9])"
            ],
            "text/html": [
              "\n",
              "<link rel=\"stylesheet\" type=\"text/css\" href=\"https://cdn.jsdelivr.net/gh/bmabey/pyLDAvis@3.4.0/pyLDAvis/js/ldavis.v1.0.0.css\">\n",
              "\n",
              "\n",
              "<div id=\"ldavis_el2041401091871052806527631536\" style=\"background-color:white;\"></div>\n",
              "<script type=\"text/javascript\">\n",
              "\n",
              "var ldavis_el2041401091871052806527631536_data = {\"mdsDat\": {\"x\": [0.21200429603647333, 0.057510448734448355, -0.04070483649018946, -0.12037500264381978, 0.05662123002679334, -0.29746393084435874, -0.19376219443146792, -0.34513775691449244, 0.29376815410291085, 0.37753959242370244], \"y\": [0.20255390601711315, 0.26456861556610084, -0.007752100911957254, 0.31812801858172013, -0.2127958007558316, 0.13243658633360889, -0.37485430490474486, -0.1016378201933847, -0.23888238716894597, 0.018235287436321253], \"topics\": [1, 2, 3, 4, 5, 6, 7, 8, 9, 10], \"cluster\": [1, 1, 1, 1, 1, 1, 1, 1, 1, 1], \"Freq\": [13.18021510354587, 12.765938096677068, 11.681438578210972, 11.338806341282222, 11.270624432602153, 10.876108286074757, 9.330079955163994, 6.788662935469339, 6.767271775159224, 6.000854495814399]}, \"tinfo\": {\"Term\": [\"ai\", \"write\", \"ask\", \"answer\", \"elon\", \"google\", \"job\", \"musk\", \"use\", \"openai\", \"question\", \"microsoft\", \"new\", \"student\", \"replace\", \"content\", \"artificialintelligence\", \"model\", \"language\", \"bing\", \"web\", \"search\", \"gt\", \"nft\", \"human\", \"rival\", \"month\", \"bias\", \"think\", \"intelligence\", \"lab\", \"snapchat\", \"edtech\", \"dr\", \"consumer\", \"active\", \"revolution\", \"priority\", \"transform\", \"beat\", \"edge\", \"practical\", \"aim\", \"register\", \"maker\", \"googl\", \"fully\", \"glad\", \"panel\", \"classroom\", \"anime\", \"natural\", \"shift\", \"react\", \"webinar\", \"eve\", \"ethical\", \"coach\", \"surprise\", \"found\", \"risk\", \"powered\", \"grow\", \"reach\", \"raise\", \"join\", \"pm\", \"education\", \"month\", \"approach\", \"artificial\", \"impact\", \"million\", \"discuss\", \"intelligence\", \"user\", \"opportunity\", \"fast\", \"alternative\", \"discussion\", \"powerful\", \"amp\", \"potential\", \"ai\", \"technology\", \"generative\", \"year\", \"app\", \"future\", \"world\", \"tool\", \"new\", \"research\", \"talk\", \"openai\", \"chatbot\", \"learn\", \"tech\", \"reportedly\", \"trump\", \"sound\", \"wonder\", \"white\", \"baidu\", \"old\", \"filter\", \"instagram\", \"edchat\", \"woman\", \"conference\", \"fiction\", \"racist\", \"sad\", \"ill\", \"excel\", \"ship\", \"bullshit\", \"praise\", \"pre\", \"solve\", \"copywriter\", \"rpg\", \"false\", \"fantasy\", \"instruction\", \"math\", \"joe\", \"ux\", \"spot\", \"exactly\", \"helpful\", \"problem\", \"sense\", \"bug\", \"man\", \"wow\", \"joke\", \"describe\", \"competitor\", \"word\", \"correct\", \"speech\", \"feel\", \"like\", \"know\", \"generate\", \"actually\", \"code\", \"explain\", \"text\", \"tell\", \"try\", \"thing\", \"good\", \"write\", \"story\", \"work\", \"people\", \"make\", \"ask\", \"time\", \"look\", \"get\", \"think\", \"need\", \"well\", \"understand\", \"human\", \"subscription\", \"finally\", \"statement\", \"sort\", \"reaction\", \"basically\", \"suck\", \"pattern\", \"notice\", \"return\", \"fucking\", \"reveal\", \"truth\", \"crochet\", \"draw\", \"main\", \"pc\", \"subscriber\", \"yesterday\", \"press\", \"plus\", \"virus\", \"phrase\", \"efficient\", \"trick\", \"parent\", \"whatsapp\", \"capacity\", \"specialize\", \"ultimate\", \"honest\", \"stupid\", \"answer\", \"monthly\", \"blow\", \"question\", \"certain\", \"advice\", \"response\", \"specific\", \"give\", \"premium\", \"engine\", \"mind\", \"opinion\", \"step\", \"access\", \"result\", \"ask\", \"pay\", \"prompt\", \"search\", \"get\", \"information\", \"different\", \"right\", \"provide\", \"turn\", \"time\", \"try\", \"way\", \"yes\", \"use\", \"google\", \"good\", \"know\", \"want\", \"need\", \"well\", \"think\", \"point\", \"code\", \"datum\", \"seo\", \"summary\", \"crazy\", \"song\", \"january\", \"blog\", \"dan\", \"biden\", \"success\", \"fire\", \"edit\", \"choose\", \"wing\", \"outline\", \"influencer\", \"accept\", \"haiku\", \"educational\", \"unbiased\", \"bio\", \"lmao\", \"disappoint\", \"proof\", \"cheat\", \"section\", \"damn\", \"sheet\", \"jailbreak\", \"min\", \"earth\", \"youtube\", \"enjoy\", \"colleague\", \"letter\", \"series\", \"record\", \"content\", \"resume\", \"episode\", \"article\", \"book\", \"write\", \"post\", \"guide\", \"creation\", \"video\", \"tweet\", \"style\", \"love\", \"summarize\", \"create\", \"creator\", \"fail\", \"ask\", \"twitter\", \"read\", \"prompt\", \"check\", \"help\", \"idea\", \"tool\", \"day\", \"ai\", \"new\", \"use\", \"amp\", \"free\", \"want\", \"go\", \"essay\", \"english\", \"assignment\", \"homework\", \"exam\", \"class\", \"university\", \"college\", \"judge\", \"covid\", \"basic\", \"peak\", \"destroy\", \"changer\", \"color\", \"fair\", \"useless\", \"garbage\", \"prepare\", \"conservative\", \"grade\", \"estimate\", \"straight\", \"transformer\", \"few\", \"beta\", \"rumor\", \"terrible\", \"determine\", \"template\", \"student\", \"wake\", \"resource\", \"language\", \"school\", \"researcher\", \"match\", \"model\", \"academic\", \"large\", \"court\", \"calculator\", \"teacher\", \"professor\", \"use\", \"pass\", \"skill\", \"case\", \"learning\", \"learn\", \"teach\", \"kid\", \"tool\", \"research\", \"task\", \"high\", \"work\", \"help\", \"like\", \"write\", \"free\", \"generate\", \"ai\", \"way\", \"good\", \"time\", \"base\", \"think\", \"people\", \"rival\", \"detect\", \"recruit\", \"microsoft\", \"compete\", \"act\", \"present\", \"alphabet\", \"sam\", \"anthropic\", \"yeah\", \"handle\", \"altman\", \"apple\", \"keyword\", \"dear\", \"address\", \"excellent\", \"craft\", \"cat\", \"revise\", \"contact\", \"monday\", \"upload\", \"dollar\", \"classifier\", \"card\", \"waitlist\", \"defi\", \"black\", \"announce\", \"feed\", \"bing\", \"humor\", \"competition\", \"era\", \"giant\", \"begin\", \"openais\", \"integration\", \"chinese\", \"google\", \"team\", \"release\", \"recent\", \"name\", \"new\", \"launch\", \"integrate\", \"search\", \"week\", \"power\", \"openai\", \"call\", \"chatbot\", \"soon\", \"ai\", \"break\", \"form\", \"chat\", \"feature\", \"bard\", \"version\", \"develop\", \"come\", \"company\", \"like\", \"nft\", \"metaverse\", \"python\", \"bitcoin\", \"daysofcode\", \"iot\", \"machinelearning\", \"machinelearne\", \"domain\", \"cybersecurity\", \"datascience\", \"nfts\", \"ml\", \"deeplearne\", \"bigdata\", \"aiart\", \"fintech\", \"ar\", \"crypto\", \"mwc\", \"elonmusk\", \"blockchain\", \"nftcommunity\", \"analytic\", \"eth\", \"lamda\", \"javascript\", \"deepmind\", \"invest\", \"robotic\", \"artificialintelligence\", \"art\", \"dalle\", \"web\", \"programming\", \"ai\", \"bard\", \"innovation\", \"gpt\", \"openai\", \"tech\", \"technology\", \"google\", \"code\", \"chatbot\", \"future\", \"elon\", \"musk\", \"offer\", \"vr\", \"difference\", \"explanation\", \"biased\", \"wild\", \"price\", \"fill\", \"war\", \"roll\", \"budget\", \"stack\", \"conspiracy\", \"average\", \"spread\", \"strong\", \"marketer\", \"advance\", \"discord\", \"impressed\", \"maintain\", \"azure\", \"unveil\", \"controversial\", \"spark\", \"firm\", \"de\", \"xi\", \"legal\", \"improvement\", \"daily\", \"server\", \"shape\", \"law\", \"china\", \"mr\", \"possibility\", \"tesla\", \"datum\", \"training\", \"api\", \"open\", \"source\", \"company\", \"industry\", \"develop\", \"information\", \"openai\", \"ai\", \"digital\", \"big\", \"news\", \"build\", \"like\", \"web\", \"bias\", \"shit\", \"cite\", \"apparently\", \"impressive\", \"teaching\", \"slur\", \"liberal\", \"feb\", \"rate\", \"choice\", \"saas\", \"fortnite\", \"aware\", \"racial\", \"stream\", \"disrupt\", \"misinformation\", \"pose\", \"stackoverflow\", \"states\", \"devop\", \"craze\", \"medtwitter\", \"united\", \"dialogue\", \"political\", \"anti\", \"cap\", \"finance\", \"refuse\", \"fight\", \"deal\", \"bank\", \"agree\", \"humanity\", \"home\", \"society\", \"thinking\", \"believe\", \"mark\", \"accurate\", \"system\", \"poem\", \"true\", \"human\", \"program\", \"agent\", \"say\", \"state\", \"catch\", \"stock\", \"people\", \"real\", \"trust\", \"expect\", \"like\", \"go\", \"think\", \"ai\", \"bad\", \"internet\", \"gt\", \"guy\", \"job\", \"profile\", \"lose\", \"ad\", \"mentor\", \"obviously\", \"india\", \"sonnet\", \"rely\", \"prediction\", \"okay\", \"convince\", \"young\", \"eventually\", \"recruiting\", \"evidence\", \"reddit\", \"argument\", \"dumb\", \"gold\", \"cc\", \"indian\", \"boy\", \"revenue\", \"obvious\", \"nearly\", \"measure\", \"correctly\", \"replace\", \"hate\", \"random\", \"assume\", \"accord\", \"worker\", \"role\", \"relationship\", \"person\", \"safe\", \"st\", \"paste\", \"copy\", \"think\", \"ask\", \"social\", \"go\", \"play\", \"test\", \"let\", \"lol\", \"people\", \"know\", \"medium\", \"human\", \"say\", \"well\", \"come\", \"ai\", \"twitter\"], \"Freq\": [35196.0, 12294.0, 10617.0, 4415.0, 2933.0, 7143.0, 2679.0, 2789.0, 8763.0, 7547.0, 3955.0, 2825.0, 8355.0, 2779.0, 2051.0, 3116.0, 2442.0, 3231.0, 2446.0, 2294.0, 2488.0, 3385.0, 1609.0, 1830.0, 4024.0, 1939.0, 2679.0, 1586.0, 6087.0, 2408.0, 1393.9722421646215, 620.6515459721921, 536.7193800672572, 528.1705205808023, 456.7821190884574, 419.0985101598103, 362.2001431111752, 312.91998845425735, 308.29370968066223, 299.38805941178947, 292.6137162056886, 292.9045550340536, 292.01561558349863, 284.11341965103475, 276.50423617471733, 263.2595418256607, 256.11986195013793, 249.30109870963136, 258.66298787642734, 352.09288539549175, 236.76405953855314, 319.1072849572278, 223.97304032131848, 221.8849271439474, 220.54561944828063, 210.0433931288897, 250.88671373116614, 205.10706585918575, 202.27011004407993, 195.4098620955734, 514.225305011614, 365.7253958123938, 1021.1981244392522, 877.7911551780923, 337.2169484195049, 1170.8776261372402, 354.81909766183463, 1507.0390831996879, 2459.516980693372, 1049.9509470444257, 1859.7721298438414, 783.6388886929903, 1230.1415690206486, 806.2795442887677, 2050.341397182171, 1881.6094720612411, 449.66421264677973, 1518.1921345484805, 1400.0858954152357, 449.2977427184291, 521.9739350702187, 2962.8857766352326, 803.2204883016335, 11282.017849754706, 1731.9877851466367, 1026.4966486938047, 1656.7029793648858, 1011.3795690801828, 1213.5119417193762, 1116.3553872360267, 1684.7207070635918, 1845.775155924233, 999.3497097247778, 935.053279764855, 1436.9373950419047, 1086.8810688315314, 946.8214120417542, 914.1041896114469, 890.9581754790107, 527.0602696495979, 784.0511233311803, 885.7044091196697, 403.1335926887123, 381.13856987211386, 783.5323901081073, 366.65913278053694, 372.44077335356167, 329.4190609264995, 325.1011304720281, 320.391073113255, 306.1235702488654, 304.4215465877014, 252.9261718528058, 251.38775033067958, 232.9802784235083, 236.10268246820542, 229.4295074054354, 210.7552013451855, 207.7194567705286, 672.5552938968507, 204.95812185494847, 203.65162597845114, 252.86058344576745, 196.58826737158802, 198.6156419209989, 539.7537946976754, 177.162618667748, 184.80434286556488, 430.6753254220138, 529.2688985266076, 387.97613881326583, 1331.0074068313897, 620.2961066236935, 291.5543247239474, 636.3712223872445, 506.47515466429775, 582.2649432121708, 444.76274357374507, 908.9337535739093, 1777.0291599150548, 657.0469195511541, 451.6957890821798, 1018.3590406704919, 4512.070699778831, 2852.235229453251, 2019.3563891430729, 1092.0304586265966, 2267.0534825088166, 892.9946730249562, 1519.5087405766444, 1543.1181199161103, 1758.469350160425, 1640.1151146449297, 2055.1764045069453, 3474.8990685739905, 831.169115184484, 1812.0234631192084, 1822.2692899964734, 1134.2080689482627, 2245.3827129418287, 1590.6633631100774, 1163.354657332301, 1274.8255829654397, 1416.6692852979033, 998.7614765644998, 911.5720449977671, 861.5622611778468, 903.1711147451459, 604.3582379731997, 588.1182500518031, 407.13238807604574, 378.5992422951709, 345.2619113755994, 339.5018420112971, 333.34841346158595, 327.5765877783894, 290.2389141408688, 285.4074951766106, 324.4243794949487, 299.37956733911915, 583.6308927676748, 272.98230101291324, 267.89168320827395, 260.7842804231416, 253.509292464753, 243.00938487245216, 332.0979626463208, 238.27944236946124, 1585.2664304970756, 235.8814332274039, 228.3288051440943, 224.86036176165985, 218.41806366197753, 207.8303459174881, 229.02204925390035, 299.6927069367795, 197.11959846042546, 196.18688109852295, 257.30561200704705, 206.66176123323396, 4224.944918192672, 409.32126975833427, 373.207438796957, 3622.0687667409047, 315.81651476557477, 432.3070466335552, 2128.0454652729636, 457.9885770689895, 1934.858124966583, 438.81826903420534, 934.4988558508032, 605.0180407893446, 489.49844255238895, 551.5995011713144, 899.737495525235, 993.3477610102549, 3604.5932786170665, 821.7168992346587, 1466.681989562187, 1477.3500092215882, 1691.1864509976597, 1139.2384095485415, 603.0128145425541, 1064.5215035215551, 737.9273422461628, 696.1888536383902, 1577.9192910129248, 1205.2724343351151, 1161.2947127520872, 554.9268357961535, 1518.2650286129242, 1329.2662309193956, 1060.5272530136772, 1076.5176249764802, 865.796706499961, 852.5871485223115, 786.7397100182433, 896.3233551395974, 673.9553165180703, 779.7325487869313, 700.1120393390592, 798.2578492743155, 463.18133210354813, 420.1770189654368, 452.4913548379041, 406.57023920272303, 882.274547173471, 495.8182263759928, 341.98369727358164, 315.26776822787343, 311.5556775540685, 308.0552588379139, 289.62474302670387, 289.27817894261364, 300.5546173086822, 232.11019252832062, 216.9187499295277, 211.9376503885045, 212.23890414339363, 206.52133194995963, 200.66125996987427, 208.57466501302005, 196.53151514344782, 196.20286741880537, 826.0924240207081, 196.01061417366975, 191.82836690229604, 192.0526010887831, 191.20832661257649, 195.08708258194002, 185.25675493772005, 674.6357362438258, 413.8895754852328, 235.1756001191862, 977.415114689999, 267.2997285038858, 434.84609020634355, 2673.4422692313146, 215.75704742924273, 631.3694383027995, 1361.4730087284347, 1049.6919782143186, 7027.225145157184, 1315.50637499182, 474.31856307372914, 498.69654306258064, 1412.2682691522532, 1134.7202392019371, 982.4593130598355, 952.5763598190076, 417.10604947172743, 1661.2828424953993, 633.2696272479043, 437.9188177727908, 2482.7012223700085, 876.7188455317648, 1115.2140705597255, 1182.2881895182036, 863.9457118964327, 1035.5488903716505, 855.3296211624039, 1135.3399758245475, 848.9933352250434, 1924.0769981689211, 1123.000734540944, 1135.7684341332676, 987.1312475186487, 720.9112154130619, 745.4627970935471, 685.6307870769442, 1115.1487560877135, 703.8835655299553, 594.4131646386415, 457.5479819378348, 527.519232198119, 448.2271600999402, 576.2300652746495, 344.742204960378, 336.63986804192774, 332.6290668601512, 454.0138037619665, 301.1516139109213, 238.11448013836696, 234.38518551164327, 228.1878314112546, 227.0961038734563, 222.37673861896718, 222.09920365752401, 284.21397453017045, 198.4245023775803, 272.77060597627707, 186.62419876279938, 200.662320626506, 177.39159396216266, 176.3132427516417, 167.5190859991372, 162.09889333628715, 164.78415132127736, 160.5140845086621, 156.9497381077349, 2737.2828110928717, 1260.7971974881598, 477.5757753288936, 2380.789264323733, 1253.748857968216, 1627.5279239455633, 191.1037274223882, 2763.58759697938, 497.9057911072733, 820.5692399638141, 300.7209978453873, 302.4547414333747, 977.555087800648, 324.1583566912176, 4837.061937792225, 522.4998368759815, 610.980365540232, 882.3947517306816, 534.9945021447269, 1696.941085871818, 644.7717642446976, 539.0295777066457, 1993.860982678019, 1064.8774679955723, 597.537379035746, 727.8838739403935, 1280.301598386963, 1074.3700850866462, 1457.1418557242323, 1535.007458488816, 792.7446364075091, 963.0515904841358, 2052.2327330964267, 912.3453334598643, 859.8080129177943, 803.9707111318306, 641.1308614053505, 688.8962963390372, 633.4508796377262, 1938.358908109392, 844.2739629413468, 755.7936675093748, 2819.732415480377, 409.6957468326813, 406.0804661218662, 393.10337656556226, 385.2238533540946, 316.9991007225895, 296.63688977193635, 306.43371089533395, 285.5855297864589, 244.95195517719114, 244.76090911688323, 229.59042314550803, 224.24156270497537, 213.82969039079344, 213.22696475228705, 207.72989107864115, 198.65906644681812, 204.96965723138527, 196.07680192343602, 193.4539274647501, 193.13311050887916, 185.72805973895623, 185.16540747564204, 187.2196661886305, 177.5979016342151, 184.61337910253755, 176.61124424042453, 1101.706306314388, 416.33259682567996, 2234.397947274693, 361.2587792266377, 293.7506256196097, 258.020014667845, 253.12638715628387, 705.6051837355973, 438.02443439345933, 443.7516463641156, 423.1732476793537, 4336.875447197537, 1594.9248704141994, 1022.7620024704198, 1005.7068721024777, 431.7979455738135, 4187.596697684402, 1357.3808174406672, 643.3581399954218, 1819.41536635038, 1460.1119041521515, 1243.725366856977, 2802.052790463686, 979.0485421599818, 1516.7124345624557, 864.0152665308547, 5229.908191169577, 850.9157186267943, 895.3947122438874, 1020.0368289938848, 728.5063051526151, 933.8840393443066, 765.7346853301931, 1001.4689057170048, 1177.885700572985, 793.5068527432181, 1084.3119473136026, 1829.5153896086565, 1120.0732421626942, 1349.1883933727427, 1074.6506998326163, 758.5124375400665, 708.7532926665338, 704.483655539972, 667.1943340042616, 614.3953905599719, 756.1735927635733, 556.0547826946291, 548.4839030680427, 661.8446230837916, 526.8078341331966, 526.2594857390947, 555.516849974168, 515.634499141598, 522.7006920363144, 1499.576412346399, 453.0973742828287, 437.3161557934026, 1093.5934435029253, 419.11992133843313, 414.59460046575356, 500.16159511282336, 399.56018051593486, 388.1594366498445, 384.4804155626898, 614.3257423180503, 367.3581527897987, 2194.207471875079, 1456.3308510160823, 638.5150922606674, 2122.187402210443, 857.6708605023993, 11259.035995986005, 1331.715416982864, 773.7957552668128, 1462.1857221081332, 2370.718421175274, 1308.0429053913647, 992.7149088618954, 1057.036427991226, 924.435012913745, 828.5484791893582, 703.8919611101123, 2932.174288191091, 2788.7041814002687, 751.2640190111482, 519.1176178803593, 374.7437113312294, 356.4141025963428, 329.72929320754866, 328.1072916678121, 380.29836903354885, 304.53648256854103, 386.7546065142503, 300.1973404264881, 278.391836398699, 272.98335289182177, 273.8562068954776, 228.28694689247504, 211.340844957393, 208.21853888090712, 205.17712810739772, 205.14622062826191, 193.8419680208508, 186.5454107250575, 184.5058807194971, 174.787076534083, 232.7215481713263, 171.32545800863275, 170.27142685019146, 168.6259241436569, 159.62189608099362, 156.2824721402381, 455.14805426449635, 235.25554042978538, 408.8930501175969, 226.24552224887472, 200.79148121345628, 446.8263064115359, 364.82357793187816, 259.8793663863248, 289.4924249856996, 313.55513187830013, 1079.8643758755265, 447.4555941693953, 483.4700605728622, 616.102493295797, 631.4865331491321, 668.9084285498772, 440.3284251694725, 714.1734364765325, 672.3651669470428, 849.8534806065618, 1415.575251890386, 390.6967167292747, 384.4135228562177, 372.7754694741401, 371.4801111875859, 354.5841501784084, 331.6922913189518, 1583.9476442369237, 636.2223153488828, 625.379605833238, 337.0179263558366, 396.73505252150346, 320.52951121547005, 295.6494770126982, 293.0065055204048, 272.0729099001387, 345.1444260307164, 248.02013136414888, 247.6085162022254, 247.48474167633736, 247.90745991687783, 240.55176572041654, 230.8498498390275, 228.2501269364672, 222.77943788087256, 220.1589205527238, 202.50823056414495, 191.27695145181596, 188.63394180461327, 188.44442636993827, 186.77759100065845, 184.27190087215828, 183.20489883255954, 526.8294431273061, 421.33668942830064, 176.37986311515203, 172.32811698287713, 376.97828784736157, 282.2978723561689, 405.6873388991558, 233.51535180528413, 648.1974244187293, 352.10556030972765, 223.42780425522983, 278.65075903740893, 322.58186378868714, 744.0099723797583, 361.876765506472, 495.7383047758077, 1001.2781479012824, 842.565553082816, 632.5217851570516, 1653.566923248178, 660.6486686021875, 292.1014710709401, 1316.5878004351368, 509.22885053468633, 388.709358117091, 457.77760392770597, 1054.6689230145714, 634.6884116837318, 394.5784225810694, 397.93758079906587, 879.4172433361394, 670.7778813132375, 612.3430653405559, 743.1698775859845, 436.7848109656041, 396.68369601353635, 1608.2186451391626, 735.4682592120171, 2673.1103211016402, 418.165979932735, 561.3768253300686, 408.10907228116616, 341.5612342514872, 317.50010510995617, 304.8359362410833, 316.76608229544024, 300.7865798671481, 286.4054167696025, 290.0969475945024, 289.80421814572657, 260.5825482889034, 264.84805145936014, 254.95591408235654, 253.02258697163663, 247.6226556859777, 242.5126287324773, 243.78722999912176, 232.68078306579716, 248.153168602853, 203.7401869370953, 193.77667730255672, 194.00424298360923, 191.37715519938624, 182.87460302703732, 163.1815947649479, 162.8242090544279, 2038.5778960595799, 388.4998194225031, 226.58590692601715, 235.93995263019008, 802.3238488674548, 217.58545755438655, 380.1466093429531, 289.2676489908334, 672.1204832170255, 307.3659888820921, 365.05926859228117, 336.65138457303095, 510.35951610579053, 1545.2016953751154, 1887.0076490097506, 433.3068456473417, 1018.5575980800975, 596.1778975036455, 526.5670240536505, 599.0704785824297, 435.57857774496125, 633.4498809547937, 646.6169544152759, 370.6804724848511, 536.668490730189, 489.6260021683743, 458.7151663274021, 462.5965043885054, 570.5097337622584, 384.0730477687373], \"Total\": [35196.0, 12294.0, 10617.0, 4415.0, 2933.0, 7143.0, 2679.0, 2789.0, 8763.0, 7547.0, 3955.0, 2825.0, 8355.0, 2779.0, 2051.0, 3116.0, 2442.0, 3231.0, 2446.0, 2294.0, 2488.0, 3385.0, 1609.0, 1830.0, 4024.0, 1939.0, 2679.0, 1586.0, 6087.0, 2408.0, 1394.9587011219294, 621.6495534336362, 537.7110745645721, 529.2516356618816, 457.7851802274894, 420.0803882512345, 363.1857668233949, 313.902038418607, 309.2807835789001, 300.37166272743343, 293.5956256084284, 293.88795765540544, 293.06557799591377, 285.1387657070848, 277.5146934276174, 264.2417564203227, 257.11408440422855, 250.2834198384681, 259.69686575613645, 353.5254743388872, 237.7467611204035, 320.49298514921475, 224.95519674857013, 222.86704204668914, 221.54917783441223, 211.02591556744662, 252.07460176493566, 206.08927584971926, 203.2520416788818, 196.39236911188385, 517.5615431921021, 369.3604318390806, 1046.0413995120734, 899.799451054324, 341.4777754938615, 1223.5154646880221, 361.4093307753781, 1605.314270874762, 2679.5962738526578, 1108.9579455979967, 2057.706112421603, 830.9121392522145, 1351.061473570157, 876.0020707196817, 2408.062839965308, 2411.8822517286562, 478.6561822364365, 1993.9875790971148, 1869.9875742817112, 485.34918322215026, 599.0586513605681, 5558.582344883022, 1059.887697902002, 35196.41791069744, 2995.5623896318684, 1498.4304132780428, 2917.3807872676784, 1723.8098764300971, 2507.507871847946, 2380.6936918013776, 5489.835636720894, 8355.984763083941, 2520.0574224359493, 2341.6163351320665, 7547.224304552826, 3594.7388535583336, 3344.7800193249773, 3169.9208260315168, 891.9272400747323, 528.0283146570426, 785.4941857271597, 887.7874584247086, 404.1301963750275, 382.1066696452757, 785.5272206325455, 367.62880937818215, 373.46362610036033, 330.3876954792742, 326.0695222652992, 321.3593761958557, 307.0944121450008, 305.50948690458046, 253.89540075419427, 252.35955426614987, 233.9508790312457, 237.08748547132106, 230.39980582202665, 211.72329704425132, 208.6875671172584, 675.7222573929604, 205.92623178390565, 204.62091076332635, 254.10224171991226, 197.55709124205194, 199.61391045484444, 542.6082291247769, 178.13063703916282, 185.81976284906312, 433.1038125278067, 533.931032869799, 390.71800486631776, 1369.2591435283116, 635.9351590248904, 294.65950179968917, 656.794680950815, 521.3816115765126, 602.203553262589, 460.297651312708, 1007.4699755963454, 2173.9517649573395, 780.8748577874619, 506.160213669863, 1385.820602563247, 10023.905926562571, 5811.5372102592255, 3696.087080779258, 1664.3460779477455, 4476.895983485397, 1286.9286005280555, 2813.0635460110398, 2890.4928346368456, 3683.4628907580604, 3403.2333577209097, 4958.769806204831, 12294.334547939023, 1281.6845080732485, 4707.355722277116, 5008.1760413777765, 2243.9578415254055, 10617.068994429465, 5522.73778997939, 2773.6189285165506, 4450.629105421479, 6087.260526694533, 3609.0755693062697, 2972.6507639548076, 2007.2584620825382, 4024.9749095729476, 605.345481511333, 589.1252507780023, 408.1526355644699, 379.5662658296746, 346.2301400708199, 340.51459992506784, 334.36200380495336, 328.6475013331177, 291.20922432067255, 286.37450530295206, 325.536495327105, 300.43500456498793, 585.6947309824395, 273.94958812077454, 268.85871354322774, 261.75191525829626, 254.47669897261665, 243.98409990248174, 333.4359009943049, 239.2464795871314, 1591.7384355796682, 236.84928339915402, 229.2958447460662, 225.82751288046418, 219.43376759621034, 208.79746478458807, 230.11074490011248, 301.1622539792026, 198.08878595923915, 197.1558023844125, 258.6788350595751, 207.70266086246195, 4415.034548876091, 415.6954126285552, 378.4704144504814, 3955.899402156938, 321.20403369594294, 447.951470086247, 2535.155829664993, 488.6266732916326, 2507.1773298078288, 478.48338242577523, 1169.382891032371, 792.5579927684673, 601.4406240013025, 722.2117708004589, 1453.3576467236503, 1677.6195609004612, 10617.068994429465, 1281.2790198140196, 3273.528014275542, 3385.7095109628167, 4450.629105421479, 2463.8066700140166, 885.9997997300867, 2327.9269086482727, 1259.208512297738, 1171.9530975874052, 5522.73778997939, 3683.4628907580604, 3463.268257386603, 823.73930995351, 8763.139492471046, 7143.132040257061, 4958.769806204831, 5811.5372102592255, 3087.020957177638, 3609.0755693062697, 2972.6507639548076, 6087.260526694533, 1507.1211364369124, 4476.895983485397, 2358.1701160852617, 799.4897218065405, 464.15858462047805, 421.14714454566865, 453.54357791635493, 407.5379017938359, 884.5818581126945, 497.2159547044092, 342.9509824967046, 316.23505930135894, 312.52353284356576, 309.0332496979028, 290.59199507187475, 290.24605936179756, 301.6418376347848, 233.0775695106574, 217.88603385617427, 212.90857766673912, 213.21287311876884, 207.4887629070622, 201.6311978975204, 209.59349380140222, 197.50036285551803, 197.1701487805769, 830.1657482269732, 196.97802755011767, 192.79559257267522, 193.02234671441147, 192.17550189885335, 196.0894013363188, 186.22429075101311, 681.128752847594, 418.377221510347, 236.7936828601879, 1020.511331417666, 271.0588550606456, 454.2853086749829, 3116.2498624766204, 218.29534061171694, 700.9691134653257, 1699.3557575454895, 1299.405571897497, 12294.334547939023, 1768.7680620755464, 543.3249129742705, 586.2783353758733, 2066.7451401749636, 1673.6362248381156, 1429.7670136905367, 1516.6814153935243, 498.75428833267284, 4345.3120441420815, 982.5189097917449, 547.4292821521901, 10617.068994429465, 1813.5057014512595, 2784.904686030583, 3273.528014275542, 1926.176369035081, 3478.146641285877, 2442.2071941268923, 5489.835636720894, 2951.648789705811, 35196.41791069744, 8355.984763083941, 8763.139492471046, 5558.582344883022, 2105.5719985339665, 3087.020957177638, 5077.011785362235, 1116.2318620810972, 704.8778631685728, 595.5947265476933, 458.5493617312172, 528.7779962556081, 449.3397938548665, 577.7778717052003, 345.7295190786121, 337.61509274038445, 333.6042376966353, 455.49473365832864, 302.1649398643356, 239.09960620376472, 235.36001614026608, 229.16447982588906, 228.07576782512461, 223.35160122359096, 223.07421471110436, 285.5748921198482, 199.39945249006487, 274.1143032716578, 187.59929664227002, 201.7578376135988, 178.36640974594368, 177.28873892924568, 168.49401403118034, 163.0740529643582, 165.7827673115764, 161.48896894180484, 157.9246374000666, 2779.1227914524698, 1278.712343519005, 482.27946399420335, 2446.8065499833833, 1306.1826537043507, 1751.141133938415, 192.60234629123028, 3231.356144812559, 539.8154449222595, 944.340154271954, 314.2796819116594, 316.51407314358926, 1249.5316666926967, 347.62588676650023, 8763.139492471046, 628.3320321373537, 783.386474991867, 1307.1407887827052, 685.8039807700889, 3344.7800193249773, 904.4487680943982, 735.8383425573463, 5489.835636720894, 2520.0574224359493, 918.5697810771011, 1356.871154039555, 4707.355722277116, 3478.146641285877, 10023.905926562571, 12294.334547939023, 2105.5719985339665, 3696.087080779258, 35196.41791069744, 3463.268257386603, 4958.769806204831, 5522.73778997939, 1817.3969809723844, 6087.260526694533, 5008.1760413777765, 1939.3333580174067, 845.2507090206725, 756.7689744089396, 2825.438019755331, 410.6705055259578, 407.081556177583, 394.07810207745126, 386.19837161924363, 317.9740544552639, 297.61129682558243, 307.46845736760616, 286.5718607008975, 245.92658687375942, 245.73533454465462, 230.56498835667026, 225.21618425318195, 214.80696405384822, 214.22123985984783, 208.70469380049903, 199.63356595720379, 205.98474248695064, 197.051401651154, 194.42857095487597, 194.10781240484638, 186.70455218743407, 186.14021197948122, 188.2077588448211, 178.57358123211853, 185.63332423408713, 177.58723529493375, 1120.5041012523695, 419.8656123730052, 2294.28330668919, 366.42856685334516, 297.9432729005573, 261.64230036081204, 257.4216137585055, 775.8096441094914, 470.8649867639347, 479.71817636096364, 470.1632717179848, 7143.132040257061, 2377.843119857745, 1393.688316046786, 1375.684928781354, 502.65272534643003, 8355.984763083941, 2076.3573626932216, 840.3897548881833, 3385.7095109628167, 2661.8059263104738, 2310.6419300616863, 7547.224304552826, 1728.5503323526718, 3594.7388535583336, 1493.232971194579, 35196.41791069744, 1584.3610487632423, 1760.7952269276727, 2266.770055382315, 1227.5909390606575, 2268.660706311893, 1504.960957160182, 2715.948346038035, 3921.523829003354, 1988.345013766637, 10023.905926562571, 1830.5667985821995, 1121.0702542273223, 1350.540704082701, 1075.9012366675167, 759.478261771052, 709.7192045388748, 705.4497437968399, 668.1599539208609, 615.4078811005132, 757.4544409921943, 557.0206586479812, 549.4601677841674, 663.0285639365804, 527.773281111676, 527.2247352222183, 556.5633169782257, 516.6085587158382, 523.7513230988188, 1502.6680645368476, 454.07041704364514, 438.28126094802957, 1096.0349096490124, 420.09475340719706, 415.56027387888753, 501.35757960759105, 400.52614429943185, 389.1272778794404, 385.4460719394941, 615.8953244889124, 368.34159950427926, 2442.5373728356863, 1580.623849403943, 663.5231950371734, 2488.866827516206, 1007.5551477090166, 35196.41791069744, 2268.660706311893, 1038.3554223792778, 3139.3265318675462, 7547.224304552826, 3169.9208260315168, 2995.5623896318684, 7143.132040257061, 4476.895983485397, 3594.7388535583336, 2507.507871847946, 2933.161038914264, 2789.679950325806, 752.4456292250069, 520.107241449924, 375.7193418459118, 357.39020417158, 330.70492871815014, 329.08327816640696, 381.4543567340863, 305.5121590249816, 388.01395190803333, 301.17654726829335, 279.36749740926064, 273.96076825092024, 274.8437341000114, 229.30528606625074, 212.31649856273785, 209.20844614964156, 206.15824431139643, 206.16788538078004, 194.8347091456628, 187.52886207542824, 185.48574919787387, 175.76271533526543, 234.0232891483357, 172.30265393291842, 171.24705332002563, 169.602933155805, 160.59754627788325, 157.2671443178395, 460.23208319074575, 237.5253811999248, 415.4758772308037, 228.48042224839793, 202.5069760183182, 461.9361973239761, 376.1793959466519, 265.9508817893178, 309.9038372816262, 363.20838841780903, 2358.1701160852617, 655.2764861448046, 847.8508533784974, 1399.807849412181, 1532.9379048547237, 1988.345013766637, 874.5766136814132, 2715.948346038035, 2463.8066700140166, 7547.224304552826, 35196.41791069744, 791.6273418048486, 1778.428811139402, 1668.04961607718, 2466.329178826562, 10023.905926562571, 2488.866827516206, 1586.0452774797886, 637.3876478160353, 627.2041774210808, 338.00675732113626, 397.94085318601566, 321.50849486034855, 296.61590530366016, 293.97455418863376, 273.03945982654113, 346.4826603932769, 248.98671304913267, 248.57752603349883, 248.4536008538188, 248.88231041109177, 241.51824032727538, 231.81641506925257, 229.21673389037082, 223.74600180676578, 221.1253750926454, 203.47472340075126, 192.24362684990027, 189.6010056093917, 189.41095070344926, 187.74419770690815, 185.23873119062628, 184.17138279297728, 529.6634725997185, 423.617101411646, 177.34653229308373, 173.29461848541598, 380.175829115342, 283.906339165066, 409.65641721967086, 235.03345600012148, 665.828311469786, 360.2181656946204, 225.5485360006154, 284.88278075812394, 333.30999350454874, 937.1897575212885, 401.8462918597978, 589.6949142451903, 1399.8041404152762, 1424.4350491187097, 961.6065509657491, 4024.9749095729476, 1180.0868322595413, 325.67836135637964, 3945.68078782944, 847.0734476410352, 553.2104247171064, 757.5659273303951, 5008.1760413777765, 1917.4476253079645, 620.8549721609237, 659.2389571120233, 10023.905926562571, 5077.011785362235, 6087.260526694533, 35196.41791069744, 1476.824945855485, 1199.104306260998, 1609.409573890214, 737.0604655582381, 2679.0732581375914, 419.1347319904712, 562.6852786956368, 409.0760228276523, 342.5265751317888, 318.4741701142171, 305.7997546898512, 317.81624940655854, 301.79150320286226, 287.3695948974431, 291.08246772748305, 290.8552346917645, 261.5530955843832, 265.83682862420767, 255.92098580271207, 254.02666432189827, 248.61466421954944, 243.4952236040201, 244.7775607569656, 233.64466052070267, 249.26172874356516, 204.70406259991995, 194.74577730023506, 194.97566603489832, 192.3415506224597, 183.84312529422974, 164.1463747651651, 163.79177525097285, 2051.331122459611, 393.07057433921034, 228.33838980745753, 238.06551013491347, 872.9906457915006, 220.43248681197556, 404.38179163799754, 301.78853839486567, 775.8493256795477, 325.2885952198807, 407.70834313780097, 375.1700963005588, 835.9069572868525, 6087.260526694533, 10617.068994429465, 778.0526369767299, 5077.011785362235, 1609.9150910493136, 1499.159903928298, 2294.1627967284567, 1067.3782952166664, 5008.1760413777765, 5811.5372102592255, 721.8361069563389, 4024.9749095729476, 3945.68078782944, 2972.6507639548076, 3921.523829003354, 35196.41791069744, 1813.5057014512595], \"Category\": [\"Default\", \"Default\", \"Default\", \"Default\", \"Default\", \"Default\", \"Default\", \"Default\", \"Default\", \"Default\", \"Default\", \"Default\", \"Default\", \"Default\", \"Default\", \"Default\", \"Default\", \"Default\", \"Default\", \"Default\", \"Default\", \"Default\", \"Default\", \"Default\", \"Default\", \"Default\", \"Default\", \"Default\", \"Default\", \"Default\", \"Topic1\", \"Topic1\", \"Topic1\", \"Topic1\", \"Topic1\", \"Topic1\", \"Topic1\", \"Topic1\", \"Topic1\", \"Topic1\", \"Topic1\", \"Topic1\", \"Topic1\", \"Topic1\", \"Topic1\", \"Topic1\", \"Topic1\", \"Topic1\", \"Topic1\", \"Topic1\", \"Topic1\", \"Topic1\", \"Topic1\", \"Topic1\", \"Topic1\", \"Topic1\", \"Topic1\", \"Topic1\", \"Topic1\", \"Topic1\", \"Topic1\", \"Topic1\", \"Topic1\", \"Topic1\", \"Topic1\", \"Topic1\", \"Topic1\", \"Topic1\", \"Topic1\", \"Topic1\", \"Topic1\", \"Topic1\", \"Topic1\", \"Topic1\", \"Topic1\", \"Topic1\", \"Topic1\", \"Topic1\", \"Topic1\", \"Topic1\", \"Topic1\", \"Topic1\", \"Topic1\", \"Topic1\", \"Topic1\", \"Topic1\", \"Topic1\", \"Topic1\", \"Topic1\", \"Topic1\", \"Topic1\", \"Topic1\", \"Topic1\", \"Topic1\", \"Topic1\", \"Topic1\", \"Topic1\", \"Topic1\", \"Topic2\", \"Topic2\", \"Topic2\", \"Topic2\", \"Topic2\", \"Topic2\", \"Topic2\", \"Topic2\", \"Topic2\", \"Topic2\", \"Topic2\", \"Topic2\", \"Topic2\", \"Topic2\", \"Topic2\", \"Topic2\", \"Topic2\", \"Topic2\", \"Topic2\", \"Topic2\", \"Topic2\", \"Topic2\", \"Topic2\", \"Topic2\", \"Topic2\", \"Topic2\", \"Topic2\", \"Topic2\", \"Topic2\", \"Topic2\", \"Topic2\", \"Topic2\", \"Topic2\", \"Topic2\", \"Topic2\", \"Topic2\", \"Topic2\", \"Topic2\", \"Topic2\", \"Topic2\", \"Topic2\", \"Topic2\", \"Topic2\", \"Topic2\", \"Topic2\", \"Topic2\", \"Topic2\", \"Topic2\", \"Topic2\", \"Topic2\", \"Topic2\", \"Topic2\", \"Topic2\", \"Topic2\", \"Topic2\", \"Topic2\", \"Topic2\", \"Topic2\", \"Topic2\", \"Topic2\", \"Topic2\", \"Topic2\", \"Topic2\", \"Topic2\", \"Topic2\", \"Topic2\", \"Topic2\", \"Topic2\", \"Topic2\", \"Topic2\", \"Topic3\", \"Topic3\", \"Topic3\", \"Topic3\", \"Topic3\", \"Topic3\", \"Topic3\", \"Topic3\", \"Topic3\", \"Topic3\", \"Topic3\", \"Topic3\", \"Topic3\", \"Topic3\", \"Topic3\", \"Topic3\", \"Topic3\", \"Topic3\", \"Topic3\", \"Topic3\", \"Topic3\", \"Topic3\", \"Topic3\", \"Topic3\", \"Topic3\", \"Topic3\", \"Topic3\", \"Topic3\", \"Topic3\", \"Topic3\", \"Topic3\", \"Topic3\", \"Topic3\", \"Topic3\", \"Topic3\", \"Topic3\", \"Topic3\", \"Topic3\", \"Topic3\", \"Topic3\", \"Topic3\", \"Topic3\", \"Topic3\", \"Topic3\", \"Topic3\", \"Topic3\", \"Topic3\", \"Topic3\", \"Topic3\", \"Topic3\", \"Topic3\", \"Topic3\", \"Topic3\", \"Topic3\", \"Topic3\", \"Topic3\", \"Topic3\", \"Topic3\", \"Topic3\", \"Topic3\", \"Topic3\", \"Topic3\", \"Topic3\", \"Topic3\", \"Topic3\", \"Topic3\", \"Topic3\", \"Topic3\", \"Topic3\", \"Topic3\", \"Topic3\", \"Topic3\", \"Topic3\", \"Topic4\", \"Topic4\", \"Topic4\", \"Topic4\", \"Topic4\", \"Topic4\", \"Topic4\", \"Topic4\", \"Topic4\", \"Topic4\", \"Topic4\", \"Topic4\", \"Topic4\", \"Topic4\", \"Topic4\", \"Topic4\", \"Topic4\", \"Topic4\", \"Topic4\", \"Topic4\", \"Topic4\", \"Topic4\", \"Topic4\", \"Topic4\", \"Topic4\", \"Topic4\", \"Topic4\", \"Topic4\", \"Topic4\", \"Topic4\", \"Topic4\", \"Topic4\", \"Topic4\", \"Topic4\", \"Topic4\", \"Topic4\", \"Topic4\", \"Topic4\", \"Topic4\", \"Topic4\", \"Topic4\", \"Topic4\", \"Topic4\", \"Topic4\", \"Topic4\", \"Topic4\", \"Topic4\", \"Topic4\", \"Topic4\", \"Topic4\", \"Topic4\", \"Topic4\", \"Topic4\", \"Topic4\", \"Topic4\", \"Topic4\", \"Topic4\", \"Topic4\", \"Topic4\", \"Topic4\", \"Topic4\", \"Topic4\", \"Topic4\", \"Topic4\", \"Topic4\", \"Topic4\", \"Topic4\", \"Topic4\", \"Topic4\", \"Topic5\", \"Topic5\", \"Topic5\", \"Topic5\", \"Topic5\", \"Topic5\", \"Topic5\", \"Topic5\", \"Topic5\", \"Topic5\", \"Topic5\", \"Topic5\", \"Topic5\", \"Topic5\", \"Topic5\", \"Topic5\", \"Topic5\", \"Topic5\", \"Topic5\", \"Topic5\", \"Topic5\", \"Topic5\", \"Topic5\", \"Topic5\", \"Topic5\", \"Topic5\", \"Topic5\", \"Topic5\", \"Topic5\", \"Topic5\", \"Topic5\", \"Topic5\", \"Topic5\", \"Topic5\", \"Topic5\", \"Topic5\", \"Topic5\", \"Topic5\", \"Topic5\", \"Topic5\", \"Topic5\", \"Topic5\", \"Topic5\", \"Topic5\", \"Topic5\", \"Topic5\", \"Topic5\", \"Topic5\", \"Topic5\", \"Topic5\", \"Topic5\", \"Topic5\", \"Topic5\", \"Topic5\", \"Topic5\", \"Topic5\", \"Topic5\", \"Topic5\", \"Topic5\", \"Topic5\", \"Topic5\", \"Topic5\", \"Topic5\", \"Topic5\", \"Topic5\", \"Topic5\", \"Topic5\", \"Topic5\", \"Topic5\", \"Topic6\", \"Topic6\", \"Topic6\", \"Topic6\", \"Topic6\", \"Topic6\", \"Topic6\", \"Topic6\", \"Topic6\", \"Topic6\", \"Topic6\", \"Topic6\", \"Topic6\", \"Topic6\", \"Topic6\", \"Topic6\", \"Topic6\", \"Topic6\", \"Topic6\", \"Topic6\", \"Topic6\", \"Topic6\", \"Topic6\", \"Topic6\", \"Topic6\", \"Topic6\", \"Topic6\", \"Topic6\", \"Topic6\", \"Topic6\", \"Topic6\", \"Topic6\", \"Topic6\", \"Topic6\", \"Topic6\", \"Topic6\", \"Topic6\", \"Topic6\", \"Topic6\", \"Topic6\", \"Topic6\", \"Topic6\", \"Topic6\", \"Topic6\", \"Topic6\", \"Topic6\", \"Topic6\", \"Topic6\", \"Topic6\", \"Topic6\", \"Topic6\", \"Topic6\", \"Topic6\", \"Topic6\", \"Topic6\", \"Topic6\", \"Topic6\", \"Topic6\", \"Topic6\", \"Topic6\", \"Topic6\", \"Topic6\", \"Topic6\", \"Topic6\", \"Topic6\", \"Topic6\", \"Topic6\", \"Topic7\", \"Topic7\", \"Topic7\", \"Topic7\", \"Topic7\", \"Topic7\", \"Topic7\", \"Topic7\", \"Topic7\", \"Topic7\", \"Topic7\", \"Topic7\", \"Topic7\", \"Topic7\", \"Topic7\", \"Topic7\", \"Topic7\", \"Topic7\", \"Topic7\", \"Topic7\", \"Topic7\", \"Topic7\", \"Topic7\", \"Topic7\", \"Topic7\", \"Topic7\", \"Topic7\", \"Topic7\", \"Topic7\", \"Topic7\", \"Topic7\", \"Topic7\", \"Topic7\", \"Topic7\", \"Topic7\", \"Topic7\", \"Topic7\", \"Topic7\", \"Topic7\", \"Topic7\", \"Topic7\", \"Topic7\", \"Topic7\", \"Topic7\", \"Topic7\", \"Topic7\", \"Topic8\", \"Topic8\", \"Topic8\", \"Topic8\", \"Topic8\", \"Topic8\", \"Topic8\", \"Topic8\", \"Topic8\", \"Topic8\", \"Topic8\", \"Topic8\", \"Topic8\", \"Topic8\", \"Topic8\", \"Topic8\", \"Topic8\", \"Topic8\", \"Topic8\", \"Topic8\", \"Topic8\", \"Topic8\", \"Topic8\", \"Topic8\", \"Topic8\", \"Topic8\", \"Topic8\", \"Topic8\", \"Topic8\", \"Topic8\", \"Topic8\", \"Topic8\", \"Topic8\", \"Topic8\", \"Topic8\", \"Topic8\", \"Topic8\", \"Topic8\", \"Topic8\", \"Topic8\", \"Topic8\", \"Topic8\", \"Topic8\", \"Topic8\", \"Topic8\", \"Topic8\", \"Topic8\", \"Topic8\", \"Topic8\", \"Topic8\", \"Topic8\", \"Topic8\", \"Topic8\", \"Topic8\", \"Topic8\", \"Topic8\", \"Topic8\", \"Topic9\", \"Topic9\", \"Topic9\", \"Topic9\", \"Topic9\", \"Topic9\", \"Topic9\", \"Topic9\", \"Topic9\", \"Topic9\", \"Topic9\", \"Topic9\", \"Topic9\", \"Topic9\", \"Topic9\", \"Topic9\", \"Topic9\", \"Topic9\", \"Topic9\", \"Topic9\", \"Topic9\", \"Topic9\", \"Topic9\", \"Topic9\", \"Topic9\", \"Topic9\", \"Topic9\", \"Topic9\", \"Topic9\", \"Topic9\", \"Topic9\", \"Topic9\", \"Topic9\", \"Topic9\", \"Topic9\", \"Topic9\", \"Topic9\", \"Topic9\", \"Topic9\", \"Topic9\", \"Topic9\", \"Topic9\", \"Topic9\", \"Topic9\", \"Topic9\", \"Topic9\", \"Topic9\", \"Topic9\", \"Topic9\", \"Topic9\", \"Topic9\", \"Topic9\", \"Topic9\", \"Topic9\", \"Topic9\", \"Topic9\", \"Topic9\", \"Topic9\", \"Topic9\", \"Topic9\", \"Topic9\", \"Topic9\", \"Topic10\", \"Topic10\", \"Topic10\", \"Topic10\", \"Topic10\", \"Topic10\", \"Topic10\", \"Topic10\", \"Topic10\", \"Topic10\", \"Topic10\", \"Topic10\", \"Topic10\", \"Topic10\", \"Topic10\", \"Topic10\", \"Topic10\", \"Topic10\", \"Topic10\", \"Topic10\", \"Topic10\", \"Topic10\", \"Topic10\", \"Topic10\", \"Topic10\", \"Topic10\", \"Topic10\", \"Topic10\", \"Topic10\", \"Topic10\", \"Topic10\", \"Topic10\", \"Topic10\", \"Topic10\", \"Topic10\", \"Topic10\", \"Topic10\", \"Topic10\", \"Topic10\", \"Topic10\", \"Topic10\", \"Topic10\", \"Topic10\", \"Topic10\", \"Topic10\", \"Topic10\", \"Topic10\", \"Topic10\", \"Topic10\", \"Topic10\", \"Topic10\", \"Topic10\", \"Topic10\", \"Topic10\", \"Topic10\", \"Topic10\", \"Topic10\", \"Topic10\", \"Topic10\", \"Topic10\"], \"logprob\": [30.0, 29.0, 28.0, 27.0, 26.0, 25.0, 24.0, 23.0, 22.0, 21.0, 20.0, 19.0, 18.0, 17.0, 16.0, 15.0, 14.0, 13.0, 12.0, 11.0, 10.0, 9.0, 8.0, 7.0, 6.0, 5.0, 4.0, 3.0, 2.0, 1.0, -4.7404, -5.5496, -5.6948, -5.7109, -5.8561, -5.9422, -6.0881, -6.2344, -6.2493, -6.2786, -6.3015, -6.3005, -6.3035, -6.331, -6.3581, -6.4072, -6.4347, -6.4617, -6.4248, -6.1164, -6.5133, -6.2148, -6.5688, -6.5782, -6.5842, -6.633, -6.4553, -6.6568, -6.6707, -6.7052, -5.7377, -6.0784, -5.0516, -5.2029, -6.1596, -4.9148, -6.1087, -4.6624, -4.1726, -5.0238, -4.4521, -5.3164, -4.8654, -5.2879, -4.3546, -4.4404, -5.8718, -4.655, -4.736, -5.8726, -5.7227, -3.9864, -5.2917, -2.6494, -4.5233, -5.0464, -4.5677, -5.0613, -4.8791, -4.9625, -4.551, -4.4597, -5.0732, -5.1397, -4.7101, -4.9893, -5.1272, -5.1624, -5.1561, -5.6811, -5.2839, -5.162, -5.9491, -6.0052, -5.2846, -6.044, -6.0283, -6.1511, -6.1643, -6.1788, -6.2244, -6.23, -6.4153, -6.4214, -6.4974, -6.4841, -6.5128, -6.5977, -6.6122, -5.4373, -6.6256, -6.632, -6.4156, -6.6673, -6.657, -5.6573, -6.7713, -6.7291, -5.883, -5.6769, -5.9874, -4.7547, -5.5182, -6.2732, -5.4926, -5.7209, -5.5815, -5.8508, -5.1361, -4.4657, -5.4606, -5.8354, -5.0224, -3.5339, -3.9925, -4.3379, -4.9526, -4.2222, -5.1538, -4.6222, -4.6068, -4.4762, -4.5459, -4.3203, -3.7951, -5.2256, -4.4462, -4.4406, -4.9147, -4.2318, -4.5765, -4.8893, -4.7978, -4.6923, -5.0419, -5.1332, -5.1896, -5.1425, -5.4554, -5.4827, -5.8505, -5.9231, -6.0153, -6.0321, -6.0504, -6.0679, -6.1889, -6.2057, -6.0776, -6.1579, -5.4903, -6.2502, -6.269, -6.2959, -6.3242, -6.3665, -6.0542, -6.3862, -4.4911, -6.3963, -6.4288, -6.4441, -6.4732, -6.5229, -6.4258, -6.1569, -6.5758, -6.5805, -6.3093, -6.5285, -3.5108, -5.8451, -5.9375, -3.6648, -6.1044, -5.7905, -4.1967, -5.7328, -4.2918, -5.7755, -5.0196, -5.4544, -5.6662, -5.5468, -5.0575, -4.9585, -3.6696, -5.1482, -4.5689, -4.5616, -4.4264, -4.8215, -5.4577, -4.8893, -5.2558, -5.314, -4.4957, -4.7651, -4.8023, -5.5408, -4.5343, -4.6672, -4.8931, -4.8781, -5.096, -5.1113, -5.1917, -5.0613, -5.3464, -5.2007, -5.3084, -5.1474, -5.6917, -5.7892, -5.7151, -5.8221, -5.0473, -5.6236, -5.9951, -6.0764, -6.0883, -6.0996, -6.1613, -6.1625, -6.1242, -6.3826, -6.4503, -6.4735, -6.4721, -6.4994, -6.5282, -6.4895, -6.549, -6.5507, -5.1131, -6.5517, -6.5732, -6.5721, -6.5765, -6.5564, -6.6081, -5.3157, -5.8042, -6.3695, -4.9449, -6.2415, -5.7548, -3.9387, -6.4557, -5.3819, -4.6135, -4.8736, -2.9723, -4.6479, -5.668, -5.6178, -4.5769, -4.7957, -4.9398, -4.9707, -5.7965, -4.4145, -5.3789, -5.7478, -4.0127, -5.0537, -4.813, -4.7546, -5.0683, -4.8872, -5.0784, -4.7952, -5.0858, -4.2676, -4.8061, -4.7948, -4.935, -5.2493, -5.2158, -5.2995, -4.8071, -5.2672, -5.4362, -5.6979, -5.5556, -5.7185, -5.4673, -5.981, -6.0048, -6.0168, -5.7057, -6.1162, -6.3511, -6.3668, -6.3936, -6.3984, -6.4194, -6.4207, -6.1741, -6.5334, -6.2152, -6.5947, -6.5222, -6.6454, -6.6515, -6.7027, -6.7356, -6.7192, -6.7454, -6.7679, -3.9091, -4.6843, -5.6551, -4.0486, -4.6899, -4.429, -6.571, -3.8995, -5.6134, -5.1138, -6.1176, -6.1119, -4.9388, -6.0426, -3.3397, -5.5652, -5.4087, -5.0412, -5.5416, -4.3872, -5.3549, -5.534, -4.226, -4.8532, -5.431, -5.2337, -4.669, -4.8443, -4.5396, -4.4875, -5.1483, -4.9537, -4.1971, -5.0078, -5.0671, -5.1342, -5.3606, -5.2887, -5.3726, -4.2186, -5.0497, -5.1604, -3.8438, -5.7728, -5.7816, -5.8141, -5.8344, -6.0293, -6.0957, -6.0632, -6.1336, -6.2871, -6.2879, -6.3519, -6.3755, -6.423, -6.4258, -6.4519, -6.4966, -6.4653, -6.5097, -6.5231, -6.5248, -6.5639, -6.5669, -6.5559, -6.6087, -6.5699, -6.6142, -4.7836, -5.7567, -4.0764, -5.8986, -6.1054, -6.2351, -6.2543, -5.2291, -5.7059, -5.6929, -5.7404, -3.4133, -4.4136, -4.8579, -4.8747, -5.7202, -3.4483, -4.5749, -5.3215, -4.2819, -4.5019, -4.6623, -3.8501, -4.9016, -4.4639, -5.0266, -3.226, -5.0419, -4.9909, -4.8606, -5.1972, -4.9488, -5.1473, -4.879, -4.7167, -5.1117, -4.7995, -4.123, -4.6137, -4.4276, -4.6551, -5.0035, -5.0713, -5.0774, -5.1318, -5.2142, -5.0066, -5.314, -5.3277, -5.1398, -5.368, -5.3691, -5.315, -5.3895, -5.3758, -4.3219, -5.5187, -5.5542, -4.6376, -5.5967, -5.6076, -5.4199, -5.6445, -5.6734, -5.683, -5.2143, -5.7285, -3.9413, -4.3512, -5.1757, -3.9746, -4.8806, -2.3059, -4.4406, -4.9835, -4.3472, -3.8639, -4.4586, -4.7344, -4.6716, -4.8057, -4.9152, -5.0782, -3.3334, -3.3835, -4.6951, -5.0647, -5.3906, -5.4408, -5.5186, -5.5235, -5.3759, -5.5981, -5.3591, -5.6124, -5.6878, -5.7075, -5.7043, -5.8863, -5.9634, -5.9783, -5.993, -5.9931, -6.0498, -6.0882, -6.0992, -6.1533, -5.867, -6.1733, -6.1795, -6.1892, -6.2441, -6.2652, -5.1962, -5.8562, -5.3034, -5.8952, -6.0146, -5.2147, -5.4174, -5.7566, -5.6487, -5.5689, -4.3323, -5.2133, -5.1359, -4.8934, -4.8688, -4.8112, -5.2293, -4.7457, -4.8061, -4.5718, -4.0616, -5.3489, -5.3651, -5.3959, -5.3994, -5.4459, -5.5127, -3.946, -4.8582, -4.8753, -5.4936, -5.3304, -5.5437, -5.6245, -5.6335, -5.7076, -5.4697, -5.8002, -5.8019, -5.8024, -5.8007, -5.8308, -5.8719, -5.8833, -5.9075, -5.9194, -6.0029, -6.06, -6.0739, -6.0749, -6.0838, -6.0973, -6.1031, -5.0468, -5.2703, -6.1411, -6.1643, -5.3815, -5.6707, -5.3081, -5.8605, -4.8395, -5.4498, -5.9046, -5.6837, -5.5373, -4.7017, -5.4224, -5.1077, -4.4047, -4.5773, -4.864, -3.903, -4.8205, -5.6366, -4.1309, -5.0808, -5.3509, -5.1873, -4.3527, -4.8606, -5.3359, -5.3274, -4.5344, -4.8053, -4.8964, -4.7028, -5.2343, -5.3306, -3.8106, -4.593, -3.3025, -5.1576, -4.8631, -5.182, -5.36, -5.433, -5.4737, -5.4353, -5.4871, -5.5361, -5.5233, -5.5243, -5.6306, -5.6144, -5.6524, -5.66, -5.6816, -5.7025, -5.6972, -5.7438, -5.6795, -5.8767, -5.9268, -5.9256, -5.9393, -5.9847, -6.0986, -6.1008, -3.5735, -5.2312, -5.7704, -5.7299, -4.506, -5.8109, -5.253, -5.5262, -4.6831, -5.4655, -5.2935, -5.3745, -4.9584, -3.8506, -3.6508, -5.1221, -4.2674, -4.803, -4.9271, -4.7981, -5.1168, -4.7423, -4.7218, -5.2782, -4.9081, -4.9999, -5.0651, -5.0567, -4.847, -5.2427], \"loglift\": [30.0, 29.0, 28.0, 27.0, 26.0, 25.0, 24.0, 23.0, 22.0, 21.0, 20.0, 19.0, 18.0, 17.0, 16.0, 15.0, 14.0, 13.0, 12.0, 11.0, 10.0, 9.0, 8.0, 7.0, 6.0, 5.0, 4.0, 3.0, 2.0, 1.0, 2.0257, 2.0248, 2.0246, 2.0244, 2.0243, 2.0241, 2.0237, 2.0233, 2.0233, 2.0232, 2.0231, 2.0231, 2.0229, 2.0229, 2.0228, 2.0227, 2.0226, 2.0225, 2.0225, 2.0224, 2.0223, 2.0221, 2.0221, 2.022, 2.0219, 2.0218, 2.0217, 2.0217, 2.0216, 2.0214, 2.02, 2.0166, 2.0024, 2.0017, 2.0139, 1.9825, 2.0081, 1.9633, 1.9408, 1.9718, 1.9253, 1.9679, 1.9327, 1.9435, 1.8656, 1.7782, 1.964, 1.7538, 1.7371, 1.9493, 1.8887, 1.3973, 1.7492, 0.8887, 1.4786, 1.6482, 1.4606, 1.4932, 1.3007, 1.2691, 0.8452, 0.5164, 1.1015, 1.1085, 0.3678, 0.8303, 0.7644, 0.7829, 2.0573, 2.0566, 2.0566, 2.056, 2.0559, 2.0559, 2.0558, 2.0557, 2.0556, 2.0555, 2.0554, 2.0554, 2.0552, 2.0548, 2.0546, 2.0545, 2.0542, 2.0542, 2.0542, 2.0538, 2.0537, 2.0537, 2.0537, 2.0536, 2.0535, 2.0535, 2.0534, 2.0531, 2.0529, 2.0529, 2.0528, 2.0496, 2.0513, 2.0301, 2.0335, 2.0478, 2.0268, 2.0294, 2.0247, 2.0241, 1.9555, 1.8568, 1.8857, 1.9445, 1.7503, 1.2602, 1.3466, 1.4539, 1.637, 1.3779, 1.693, 1.4425, 1.4308, 1.319, 1.3284, 1.1776, 0.7948, 1.6253, 1.1037, 1.0474, 1.3761, 0.5048, 0.8137, 1.1895, 0.8082, 0.6005, 0.7737, 0.8764, 1.2126, 0.564, 2.1455, 2.1455, 2.1447, 2.1446, 2.1444, 2.1442, 2.1441, 2.1439, 2.1438, 2.1438, 2.1437, 2.1436, 2.1436, 2.1436, 2.1436, 2.1435, 2.1434, 2.1432, 2.1431, 2.1431, 2.1431, 2.1431, 2.1429, 2.1429, 2.1425, 2.1425, 2.1424, 2.1423, 2.1423, 2.1422, 2.1418, 2.1421, 2.1032, 2.1317, 2.1332, 2.059, 2.1303, 2.1116, 1.9721, 2.0824, 1.888, 2.0606, 1.9229, 1.8772, 1.9412, 1.8777, 1.6676, 1.6231, 1.0669, 1.703, 1.3443, 1.3179, 1.1796, 1.3758, 1.7624, 1.3647, 1.6128, 1.6264, 0.8944, 1.03, 1.0545, 1.7522, 0.3942, 0.4656, 0.6048, 0.4611, 0.8759, 0.7042, 0.8179, 0.2315, 1.3424, 0.3994, 0.9328, 2.1754, 2.1748, 2.1746, 2.1746, 2.1746, 2.1743, 2.1741, 2.1741, 2.1739, 2.1738, 2.1738, 2.1736, 2.1736, 2.1733, 2.1728, 2.1725, 2.1724, 2.1724, 2.1723, 2.1721, 2.1721, 2.172, 2.172, 2.172, 2.172, 2.1719, 2.1719, 2.1719, 2.1718, 2.1717, 2.1674, 2.1662, 2.1701, 2.1338, 2.163, 2.1332, 2.0237, 2.1652, 2.0724, 1.9553, 1.9635, 1.6176, 1.8809, 2.0411, 2.0151, 1.7962, 1.7883, 1.8017, 1.7118, 1.9982, 1.2154, 1.7377, 1.9537, 0.7238, 1.4501, 1.2618, 1.1585, 1.3752, 0.9654, 1.1278, 0.601, 0.9309, -0.7296, 0.17, 0.1337, 0.4486, 1.1051, 0.756, 0.1748, 2.182, 2.1816, 2.181, 2.1808, 2.1806, 2.1805, 2.1803, 2.1801, 2.1801, 2.18, 2.1797, 2.1796, 2.1788, 2.1788, 2.1787, 2.1787, 2.1786, 2.1786, 2.1782, 2.1781, 2.1781, 2.1778, 2.1775, 2.1775, 2.1775, 2.1772, 2.177, 2.1769, 2.1769, 2.1768, 2.1678, 2.1689, 2.1732, 2.1556, 2.142, 2.1098, 2.1752, 2.0266, 2.1022, 2.0425, 2.1389, 2.1375, 1.9375, 2.1131, 1.5887, 1.9985, 1.9344, 1.79, 1.9346, 1.5044, 1.8445, 1.8717, 1.1701, 1.3215, 1.753, 1.5602, 0.8809, 1.0082, 0.2545, 0.1024, 1.2061, 0.838, -0.659, 0.849, 0.4308, 0.2559, 1.141, 0.0041, 0.1153, 2.2181, 2.2174, 2.2173, 2.2166, 2.2162, 2.2161, 2.2161, 2.2161, 2.2155, 2.2153, 2.2152, 2.2152, 2.2146, 2.2146, 2.2144, 2.2143, 2.214, 2.2139, 2.2139, 2.2137, 2.2137, 2.2136, 2.2136, 2.2136, 2.2134, 2.2134, 2.2133, 2.2131, 2.2131, 2.2131, 2.2017, 2.2102, 2.1922, 2.2044, 2.2044, 2.2047, 2.2018, 2.1238, 2.1463, 2.1407, 2.1133, 1.7196, 1.8192, 1.9092, 1.9053, 2.0667, 1.5278, 1.7935, 1.9514, 1.5976, 1.6181, 1.5992, 1.2278, 1.6501, 1.3557, 1.6715, 0.3121, 1.597, 1.5423, 1.4201, 1.6968, 1.331, 1.5429, 1.2209, 1.0158, 1.3, -0.0054, 2.3714, 2.371, 2.3709, 2.3708, 2.3707, 2.3706, 2.3706, 2.3705, 2.3703, 2.3702, 2.3702, 2.3701, 2.3701, 2.3701, 2.3701, 2.37, 2.37, 2.3699, 2.3699, 2.3698, 2.3697, 2.3697, 2.3696, 2.3696, 2.3695, 2.3695, 2.3694, 2.3694, 2.3694, 2.3693, 2.2647, 2.29, 2.3335, 2.2125, 2.2109, 1.2322, 1.8392, 2.0778, 1.6079, 1.2139, 1.4868, 1.2675, 0.4612, 0.7944, 0.9044, 1.1015, 2.6896, 2.6896, 2.6883, 2.688, 2.6873, 2.6872, 2.687, 2.6869, 2.6869, 2.6867, 2.6867, 2.6867, 2.6864, 2.6863, 2.6863, 2.6855, 2.6853, 2.6852, 2.6851, 2.6849, 2.6848, 2.6847, 2.6846, 2.6843, 2.6843, 2.6842, 2.6842, 2.6841, 2.6838, 2.6836, 2.6788, 2.6803, 2.6739, 2.6801, 2.6814, 2.6567, 2.6593, 2.6668, 2.6218, 2.5429, 1.9089, 2.3084, 2.1282, 1.8692, 1.8031, 1.6005, 2.0037, 1.3541, 1.3913, 0.506, -0.5235, 1.9838, 1.1581, 1.1915, 0.7969, -0.6519, 0.6745, 2.6917, 2.6912, 2.6902, 2.6901, 2.69, 2.69, 2.6898, 2.6898, 2.6895, 2.6892, 2.6892, 2.6892, 2.6892, 2.6891, 2.6891, 2.6889, 2.6888, 2.6887, 2.6887, 2.6883, 2.688, 2.688, 2.688, 2.6879, 2.6878, 2.6878, 2.6877, 2.6877, 2.6876, 2.6875, 2.6846, 2.6874, 2.6833, 2.6866, 2.6662, 2.6703, 2.6836, 2.671, 2.6604, 2.4622, 2.5883, 2.5195, 2.358, 2.168, 2.2742, 1.8035, 2.113, 2.5843, 1.5955, 2.1842, 2.3402, 2.1893, 1.1352, 1.5875, 2.2398, 2.1883, 0.2596, 0.669, 0.3964, -1.1647, 1.4749, 1.5869, 2.8125, 2.8111, 2.811, 2.811, 2.8109, 2.8109, 2.8104, 2.8102, 2.8101, 2.81, 2.8099, 2.8099, 2.8099, 2.8096, 2.8096, 2.8095, 2.8095, 2.8093, 2.8093, 2.8092, 2.8092, 2.8091, 2.8088, 2.8085, 2.8083, 2.8083, 2.8082, 2.808, 2.8074, 2.8073, 2.807, 2.8016, 2.8056, 2.8043, 2.7289, 2.8003, 2.7515, 2.7709, 2.6697, 2.7566, 2.7028, 2.7049, 2.3199, 1.4422, 1.0858, 2.2279, 1.2069, 1.8199, 1.767, 1.4705, 1.917, 0.7456, 0.6174, 2.1468, 0.7984, 0.7265, 0.9445, 0.6759, -1.3089, 1.2611]}, \"token.table\": {\"Topic\": [1, 4, 5, 9, 4, 1, 2, 3, 5, 6, 8, 1, 7, 10, 1, 4, 6, 9, 6, 1, 1, 2, 3, 4, 5, 6, 8, 9, 10, 10, 6, 8, 3, 6, 8, 1, 9, 3, 4, 5, 8, 9, 1, 2, 3, 4, 5, 6, 7, 8, 9, 10, 7, 1, 6, 1, 2, 4, 8, 6, 1, 2, 3, 4, 5, 6, 7, 8, 9, 10, 7, 1, 6, 7, 8, 1, 2, 3, 4, 5, 8, 9, 10, 6, 4, 9, 1, 2, 3, 5, 6, 8, 1, 2, 3, 4, 6, 7, 8, 9, 6, 1, 4, 6, 10, 7, 10, 1, 2, 3, 4, 7, 1, 2, 4, 5, 6, 9, 1, 8, 9, 1, 7, 1, 2, 3, 4, 5, 6, 7, 8, 9, 10, 5, 6, 10, 8, 9, 8, 3, 4, 5, 7, 8, 9, 10, 2, 9, 2, 6, 7, 8, 1, 2, 3, 4, 5, 6, 7, 8, 10, 5, 8, 3, 1, 2, 6, 7, 8, 9, 2, 4, 5, 7, 8, 9, 5, 1, 9, 8, 4, 1, 2, 3, 4, 5, 6, 7, 8, 9, 10, 7, 3, 6, 7, 8, 4, 7, 6, 7, 8, 4, 8, 10, 1, 3, 2, 4, 5, 6, 7, 10, 10, 1, 2, 4, 5, 6, 7, 9, 8, 2, 3, 9, 1, 2, 3, 4, 5, 6, 7, 8, 9, 10, 2, 5, 9, 10, 1, 2, 3, 4, 5, 6, 7, 8, 9, 10, 9, 1, 3, 6, 1, 2, 3, 5, 6, 8, 9, 10, 6, 2, 4, 9, 10, 3, 6, 8, 5, 1, 2, 3, 4, 5, 6, 7, 8, 1, 3, 4, 5, 6, 7, 8, 9, 10, 1, 4, 1, 2, 3, 4, 5, 6, 7, 8, 9, 10, 6, 8, 1, 6, 9, 4, 9, 5, 6, 1, 4, 1, 1, 2, 3, 4, 5, 6, 7, 8, 2, 4, 5, 5, 1, 2, 3, 4, 5, 6, 7, 8, 9, 10, 1, 5, 6, 7, 8, 9, 10, 6, 5, 6, 2, 4, 2, 5, 8, 1, 6, 1, 2, 3, 4, 5, 6, 8, 10, 8, 10, 3, 4, 10, 2, 2, 4, 5, 8, 9, 10, 5, 10, 5, 6, 9, 4, 1, 2, 3, 4, 5, 6, 7, 8, 9, 10, 1, 4, 5, 8, 3, 4, 5, 7, 8, 9, 3, 6, 7, 8, 7, 4, 6, 8, 1, 7, 4, 3, 4, 7, 1, 2, 3, 4, 5, 6, 7, 8, 9, 10, 1, 2, 3, 4, 5, 6, 7, 8, 10, 7, 8, 6, 9, 10, 6, 7, 7, 6, 2, 6, 8, 5, 6, 5, 1, 5, 6, 7, 8, 9, 9, 9, 8, 1, 2, 3, 4, 5, 6, 8, 9, 10, 1, 4, 5, 6, 8, 4, 8, 1, 2, 4, 5, 6, 9, 1, 2, 4, 5, 6, 9, 9, 6, 7, 1, 3, 10, 4, 2, 1, 4, 1, 1, 4, 5, 9, 4, 3, 8, 7, 1, 3, 7, 8, 5, 4, 8, 4, 6, 7, 4, 6, 5, 5, 7, 1, 1, 10, 10, 2, 5, 5, 2, 6, 1, 9, 1, 2, 3, 4, 5, 6, 7, 8, 9, 8, 4, 6, 8, 5, 2, 2, 1, 2, 3, 5, 7, 8, 1, 2, 3, 4, 6, 7, 8, 9, 6, 9, 2, 3, 4, 5, 6, 8, 9, 10, 5, 2, 6, 9, 8, 2, 3, 9, 7, 4, 8, 2, 3, 5, 6, 9, 10, 9, 1, 1, 2, 3, 4, 5, 6, 7, 8, 3, 1, 1, 2, 3, 4, 5, 6, 7, 8, 9, 10, 5, 1, 2, 5, 6, 7, 8, 9, 10, 1, 2, 5, 6, 7, 8, 9, 10, 1, 2, 3, 4, 5, 6, 7, 8, 9, 10, 1, 2, 6, 1, 2, 3, 4, 5, 6, 8, 9, 10, 1, 1, 2, 3, 4, 5, 6, 7, 8, 9, 10, 10, 1, 2, 3, 4, 5, 6, 7, 8, 9, 10, 1, 1, 2, 3, 4, 5, 6, 7, 8, 9, 10, 1, 2, 3, 4, 5, 6, 7, 8, 5, 1, 2, 5, 7, 9, 10, 1, 3, 4, 6, 10, 4, 6, 6, 10, 1, 2, 3, 4, 5, 6, 7, 8, 10, 1, 2, 1, 2, 3, 4, 5, 6, 7, 8, 10, 6, 9, 5, 3, 6, 1, 2, 3, 4, 5, 6, 7, 8, 9, 10, 1, 4, 9, 10, 5, 6, 1, 2, 3, 4, 5, 8, 9, 10, 2, 1, 4, 5, 6, 7, 8, 9, 8, 9, 7, 8, 10, 10, 4, 5, 6, 7, 8, 10, 4, 1, 2, 3, 5, 6, 8, 9, 10, 7, 8, 2, 2, 1, 3, 4, 6, 7, 8, 1, 6, 8, 1, 7, 8, 9, 1, 5, 6, 8, 9, 10, 7, 8, 7, 4, 4, 7, 1, 2, 3, 4, 10, 2, 1, 4, 6, 7, 8, 2, 4, 6, 9, 5, 6, 2, 5, 6, 1, 2, 3, 4, 5, 6, 7, 8, 9, 10, 1, 7, 1, 2, 5, 6, 7, 8, 9, 5, 6, 7, 8, 1, 6, 7, 8, 6, 8, 1, 2, 3, 4, 5, 6, 7, 8, 9, 10, 1, 2, 3, 4, 5, 4, 6, 8, 1, 2, 3, 4, 5, 6, 7, 8, 9, 10, 4, 5, 9, 10, 9, 1, 2, 3, 4, 5, 6, 7, 8, 9, 10, 4, 2, 4, 5, 10, 1, 2, 3, 4, 5, 6, 7, 8, 9, 10, 10, 1, 2, 3, 4, 6, 7, 8, 9, 7, 7, 3, 8, 1, 2, 3, 4, 5, 6, 7, 8, 9, 10, 1, 2, 6, 4, 7, 9, 8, 4, 5, 2, 5, 10, 1, 6, 7, 8, 10, 9, 10, 7, 1, 3, 6, 8, 1, 2, 5, 6, 7, 9, 4, 1, 3, 5, 7, 8, 10, 9, 7, 1, 2, 3, 5, 6, 7, 8, 9, 10, 6, 1, 2, 4, 5, 6, 8, 3, 4, 1, 8, 8, 7, 6, 7, 1, 10, 1, 2, 3, 4, 5, 6, 7, 8, 9, 10, 1, 2, 3, 4, 5, 6, 7, 8, 9, 10, 1, 2, 3, 4, 6, 7, 8, 7, 7, 7, 3, 10, 10, 8, 10, 1, 2, 1, 2, 3, 4, 5, 6, 8, 10, 1, 2, 3, 4, 5, 6, 7, 8, 10, 5, 6, 7, 1, 3, 5, 6, 1, 4, 6, 7, 8, 4, 1, 3, 1, 2, 3, 5, 6, 9, 2, 3, 4, 10, 3, 1, 2, 3, 4, 5, 6, 9, 10, 3, 5, 1, 2, 3, 4, 5, 6, 7, 8, 9, 10, 5, 6, 8, 10, 3, 1, 3, 5, 6, 8, 9, 10, 3, 4, 6, 1, 4, 1, 6, 8, 9, 1, 2, 3, 4, 5, 6, 8, 9, 10, 8, 9, 10, 9, 6, 8, 1, 2, 3, 4, 5, 6, 7, 8, 9, 10, 1, 2, 3, 4, 5, 6, 7, 10, 1, 4, 5, 6, 7, 8, 10, 1, 3, 7, 1, 3, 4, 6, 8, 1, 2, 2, 10, 3, 7, 5, 10, 6, 3, 8, 1, 2, 3, 5, 8, 5, 9, 10, 1, 2, 3, 5, 6, 7, 9, 2, 3, 7, 8, 1, 2, 3, 4, 5, 6, 7, 8, 10, 4, 1, 2, 3, 4, 5, 6, 8, 9, 10, 7, 1, 2, 3, 4, 5, 6, 8, 9, 10, 9, 2, 1, 9, 5, 10, 9, 1, 2, 1, 3, 1, 2, 3, 4, 5, 6, 7, 8, 9, 10, 1, 2, 4, 5, 6, 8, 9, 10, 2, 3, 4, 5, 6, 7, 9, 4, 5, 6, 8, 6, 10, 10, 4, 9, 1, 1, 10, 1, 5, 6, 7, 8, 10, 10, 1, 9, 10, 2, 1, 2, 3, 4, 5, 6, 7, 8, 9, 10, 3, 4, 5, 7, 1, 2, 5, 6, 1, 2, 3, 4, 5, 6, 8, 9, 10, 2, 3, 4, 5, 6, 8, 9, 10, 4, 10, 3, 3, 10, 6, 1, 1, 2, 3, 4, 5, 7, 8, 9, 10, 1, 3, 9, 6, 7, 4, 5, 8, 10, 8, 2, 5, 9, 2, 6, 10, 6, 1, 2, 3, 4, 5, 6, 7, 8, 9, 10, 1, 2, 4, 5, 1, 3, 4, 5, 6, 7, 8, 9, 4, 2, 5, 6, 4, 4, 6, 10, 3, 8, 7, 8, 4, 1, 2, 9, 1, 3, 4, 5, 6, 9, 10, 9, 1, 1, 4, 5, 6, 7, 8, 10, 5, 9, 2, 5, 8, 4, 10, 1, 2, 5, 6, 7, 8, 9, 10, 3, 2, 3, 1, 2, 3, 4, 5, 8, 9, 10, 8, 3, 2, 3, 8, 10, 2, 6, 2, 5, 8, 1, 5, 10, 8, 9, 1, 5, 8, 9, 10, 3, 9, 3, 6, 1, 6, 7, 8, 9, 1, 2, 4, 6, 8, 5, 9, 8, 1, 3, 4, 5, 9, 3, 2, 3, 4, 6, 8, 9, 3, 3, 4, 3, 2, 4, 6, 4, 1, 1, 4, 5, 6, 8, 9, 1, 2, 3, 4, 5, 6, 7, 8, 9, 10, 1, 2, 3, 4, 5, 9, 10, 1, 2, 3, 4, 5, 9, 1, 2, 3, 4, 5, 9, 1, 2, 4, 5, 6, 7, 8, 9, 10, 1, 2, 3, 4, 5, 6, 7, 8, 9, 10, 1, 3, 4, 5, 6, 7, 8, 1, 2, 3, 4, 5, 6, 8, 9, 10, 5, 5, 2, 8, 1, 2, 3, 4, 5, 6, 7, 8, 9, 10, 1, 2, 3, 4, 5, 6, 10, 1, 2, 3, 4, 5, 6, 7, 8, 9, 10, 1, 2, 3, 4, 5, 6, 7, 8, 9, 10, 3, 9, 1, 2, 3, 4, 5, 6, 7, 8, 9, 10, 1, 2, 3, 4, 5, 6, 7, 8, 9, 10, 5, 8, 9, 1, 5, 3, 3, 6, 9, 10, 2, 5, 6, 9, 3, 4, 1, 2, 3, 4, 5, 6, 8, 9, 3, 5, 6, 8, 9, 10, 2, 4, 6, 8, 9, 10, 4, 5, 6, 7, 8, 10, 3, 4, 1, 2, 3, 4, 5, 7, 8, 9, 10, 9, 5, 9, 8, 6, 1, 2, 3, 4, 5, 6, 7, 8, 9, 10, 5, 1, 2, 3, 5, 6, 7, 8, 9, 2, 1, 2, 3, 4, 5, 6, 8, 9, 1, 3, 4, 5, 6, 7, 3, 8, 6, 1, 5, 9, 1, 2, 3, 4, 5, 6, 7, 8, 9, 10, 8, 1, 2, 3, 4, 5, 6, 7, 8, 9, 10, 1, 3, 4, 7, 8, 1, 1, 2, 3, 4, 5, 6, 7, 8, 9, 1, 2, 3, 4, 5, 7, 8, 9, 10, 3, 2, 8, 4, 2, 2, 8, 2, 3, 4, 5, 6, 8, 9, 10, 1, 2, 3, 4, 5, 6, 7, 8, 9, 10, 1, 10, 1, 2, 3, 4, 5, 6, 7, 8, 9, 10, 2, 8, 10, 1, 2, 3, 4, 5, 6, 8, 9, 10, 8, 6, 1, 2, 3, 4, 5, 6, 7, 8, 10, 1, 3, 5, 6, 8, 10, 3, 10, 4, 7], \"Freq\": [0.044459639355921565, 0.0018524849731633986, 0.9225375166353725, 0.029639759570614377, 0.9959334986254368, 0.019953794625414887, 0.000688061883634996, 0.6192556952714965, 0.05091657938898971, 0.30343529068303327, 0.005504495069079968, 0.038946579970709494, 0.040092067616906826, 0.9186810922502651, 0.008478960695124872, 0.10853069689759835, 0.04069901133659938, 0.8411129009563872, 0.9973431462045624, 0.997428139276551, 0.0006008365767491516, 0.6561135418100735, 0.14119659553605063, 0.013819241265230486, 0.05107110902367788, 0.0018025097302474548, 0.0006008365767491516, 0.08591963047512868, 0.04866776271668128, 0.9973696262611176, 0.9962433059030342, 0.9943352701191894, 0.9643901825276391, 0.002232384681776942, 0.02902100086310025, 0.10132696523822513, 0.896590116653386, 0.0030037773485256138, 0.019524552765416488, 0.0030037773485256138, 0.0015018886742628069, 0.9732238609222988, 0.3205439834424457, 0.016280065813909006, 0.004176561386814352, 0.05466465379748853, 0.058301387522061564, 0.14859466702747662, 0.3198905078513115, 0.04023136682808927, 0.021110102791857575, 0.016223241849462552, 0.9989878654215227, 0.9963640288183943, 0.9968970049919705, 0.7486680763308066, 0.056150105724810495, 0.12566928424124255, 0.06951917851643204, 0.9962322622960849, 0.5330495828181088, 0.03202255340588031, 0.028964219653633317, 0.17756325961575206, 0.07393971601020678, 0.044615692385720884, 0.05505000754044593, 0.0500127519485097, 0.001619117868836645, 0.00323823573767329, 0.9986517626584999, 0.9968590061253229, 0.9834859138563725, 0.01427928731551902, 0.0017849109144398776, 0.00022649879382134484, 0.010871942103424553, 0.9569574038951819, 0.00022649879382134484, 0.0009059951752853794, 0.008153956577568414, 0.0020384891443921034, 0.020611390237742378, 0.997945989174125, 0.0023606223560560633, 0.9938220118996026, 0.02712741269098227, 0.01651233815972834, 0.30076044505219474, 0.0035383581770846444, 0.08138223807294681, 0.5696756665106277, 0.5864915927351095, 0.0005801103785708304, 0.10616019927846196, 0.008701655678562455, 0.2830938647425652, 0.011022097192845777, 0.0034806622714249826, 0.9970214875906172, 0.9970076157504284, 0.946834822878514, 0.05049785722018741, 0.0009017474503604895, 0.0009017474503604895, 0.9985654965139303, 0.9979661876044622, 0.005061292731358456, 0.014551216602655561, 0.001265323182839614, 0.05757220481920244, 0.921155277107239, 0.0005884582998938239, 0.16359140737048306, 0.8008917461554944, 0.0035307497993629436, 0.028834456694797374, 0.0023538331995752956, 0.9039191693954132, 0.0029158682883723007, 0.09233582913178952, 0.10112434828919038, 0.8982462354108651, 0.00018837590685803724, 0.21145195544814682, 0.33954757211161213, 0.23386868836425326, 0.0023546988357254655, 0.003579142230302708, 9.418795342901862e-05, 0.004332645857734857, 0.026937754680699328, 0.17773266812055816, 0.9973224636206284, 0.004200524466703693, 0.9913237741420715, 0.9943076494718328, 0.996454909110919, 0.9956605396439708, 0.41914243237639104, 0.0859952971111497, 0.09615222196679729, 0.0013542566474196802, 0.016928208092746002, 0.29590507746120015, 0.08396391214002018, 0.9971037677874006, 0.9956029408846333, 0.0004407886984676857, 0.4116966443688185, 0.5871305463589573, 0.0004407886984676857, 0.1551669794505315, 0.17387505498712041, 0.005502375157820267, 0.0027511875789101334, 0.3527022476162791, 0.1546167419347495, 0.01155498783142256, 0.10784655309327723, 0.03631567604161376, 0.9967184392093327, 0.002195415064337737, 0.9984887581173286, 0.995433448298756, 0.003866927954270964, 0.9100170452384335, 0.001288975984756988, 0.08378343900920422, 0.001288975984756988, 0.14831574810167789, 0.004268079082062673, 0.05121694898475208, 0.0010670197705156682, 0.0010670197705156682, 0.7938627092636572, 0.9970680618298469, 0.0006304990243336501, 0.9987104545445017, 0.9978684057692079, 0.9972270600020405, 0.26259133740686696, 0.055104820269535254, 0.03205076280983173, 0.0044983526750641024, 0.010121293518894231, 0.22266845741567307, 0.023054057459703525, 0.21592092840307692, 0.16362757855545673, 0.010121293518894231, 0.997677014865962, 0.024844359819823192, 0.9737245585523686, 0.0004358659617512841, 0.0004358659617512841, 0.9968695424909334, 0.9991623425675128, 0.996693257294318, 0.9981433897487224, 0.0018247593962499495, 0.9970812671670624, 0.00113047762717354, 0.00113047762717354, 0.010568857821575786, 0.985545991861942, 0.17315609911648816, 0.8080617958769448, 0.003847913313699737, 0.003847913313699737, 0.003847913313699737, 0.0061566613019195795, 0.9961705084927962, 0.03408314035626702, 0.15716114719834237, 0.1931377953521798, 0.05238704906611412, 0.537125045244134, 0.02461560136841507, 0.0006311692658567966, 0.9951050232330452, 0.9909743219429689, 0.00339374767788688, 0.00339374767788688, 0.19948675311625894, 0.09163415895177748, 0.08352494134542549, 0.0790648716619319, 0.18245739614291975, 0.14312769075211262, 0.04662800123652394, 0.1504259865978294, 0.02311127017810317, 0.0004054608803175995, 0.9939244487770622, 0.9541439879767848, 0.0379130061447729, 0.006318834357462151, 0.10471202175157202, 0.04049636200337039, 0.018512622630112177, 0.03586820634584235, 0.025454856116404245, 0.5663705485899945, 0.00520667511471905, 0.022562258830449218, 0.15041505886966144, 0.030661531231123296, 0.9924073379069039, 0.003320469238050852, 0.9961407714152556, 0.9935828424277827, 0.0030601141317952913, 0.07956296742667757, 0.16065599191925278, 0.6747551660608617, 0.0030601141317952913, 0.05278696877346877, 0.01912571332372057, 0.006885256796539405, 0.9968263555571631, 0.048806021711913526, 0.2476453694271168, 0.7031682387383097, 0.9949381369136567, 0.9837983550951631, 0.01245314373538181, 0.0031132859338454527, 0.9942215497663139, 0.01808741027906552, 0.00617618887577847, 0.09749555296764584, 0.22940130110034315, 0.007058501572318251, 0.4499794752352885, 0.19013838610432288, 0.0017646253930795627, 0.30238636081283304, 0.0005563686491496468, 0.0002781843245748234, 0.008623714061819525, 0.42200562038000705, 0.2306148050725286, 0.030878460027805397, 0.0044509491931971745, 0.0008345529737244702, 0.0036137361802835773, 0.994982028304745, 0.05606963190712523, 0.08825775392788231, 0.12979081459982691, 0.44855705525700185, 0.05814628494072246, 0.07268285617590307, 0.08462361111908714, 0.029592305728760537, 0.025438999661566077, 0.006749122359191, 0.02658306145352564, 0.9702817430536858, 0.097838352689514, 0.8996874606014005, 0.9960370855253711, 0.9979627963539452, 0.996485709916436, 0.9970183058051181, 0.9938744456807275, 0.9956849662906473, 0.0028286504724166117, 0.9947145437566894, 0.004244011938201864, 0.5063776349422962, 0.17422785851565548, 0.00022336904937904548, 0.0938150007391991, 0.0006701071481371364, 0.20639300162623803, 0.01384888106150082, 0.004223085632695862, 0.9924251236835278, 0.9978899138246676, 0.9949185849972308, 0.12444142156953922, 0.2175174848336413, 0.08466096713337504, 0.075480862263491, 0.0303453466532278, 0.30039343157565, 0.013515154391773726, 0.019890227218082087, 0.01606518352229707, 0.11806634874323085, 0.24392145057423228, 0.0005029308259262522, 0.39932707578544424, 0.002514654129631261, 0.3364607225446627, 0.0020117233037050086, 0.015590855603713817, 0.9983672907673292, 0.010069030828567463, 0.9867650211996113, 0.9022601387817452, 0.09727337029770189, 0.9957699189861906, 0.9929816633266102, 0.9969301315790435, 0.9982848282089447, 0.9946643279756247, 0.00032089853000595277, 0.00032089853000595277, 0.00032089853000595277, 0.8577617707059118, 0.1161652678621549, 0.00032089853000595277, 0.023425592690434552, 0.001283594120023811, 0.992439733787121, 0.9970595863860905, 0.00717783235047417, 0.3816214199668767, 0.6101157497903045, 0.9955021185213664, 0.841364007878996, 0.011525534354506794, 0.05250521205941985, 0.04610213741802718, 0.04866336727458424, 0.9951659645317377, 0.9577456556183223, 0.04136443030909697, 0.998188758929421, 0.9966234884914824, 0.992550849366369, 0.9972761431235485, 0.18548725426671467, 0.09550522397107518, 0.048327944660062135, 0.3822510289541105, 0.11368573648605093, 0.04096368642614791, 0.058683932801504024, 0.03889248879785953, 0.0034519960471472958, 0.03290902898280422, 0.06481563057525831, 0.851131569922471, 0.02899646630998398, 0.05458158364232279, 0.004071168463157459, 0.6442624092946678, 0.01933805019999793, 0.1353663513999855, 0.195416086231558, 0.0010177921157893646, 0.9965337121793522, 0.0006654829656662864, 0.9982244484994296, 0.0006654829656662864, 0.9980798303983944, 0.004813757210960691, 0.009627514421921382, 0.9844133496414613, 0.0361705516544232, 0.9630409377990177, 0.9958733881721112, 0.0020111985356433136, 0.9975544736790836, 0.9981676466893371, 0.029259975575699836, 0.00424057617039128, 0.2968403319273896, 0.0008481152340782561, 0.05555154783212577, 0.05173502927877362, 0.08862804196117775, 0.4579822264022583, 0.013993901362291224, 0.00042405761703912805, 0.24799698478793542, 0.2659530506264062, 0.08368204268117493, 0.28763584711059725, 0.036928512762137926, 0.03354057581148307, 0.03116901994602467, 0.008808636071702625, 0.004743111730916798, 0.9993702758918515, 0.9962792315839664, 0.004882140046954363, 0.9910744295317357, 0.0024410700234771816, 0.9945999251465216, 0.9985348233050994, 0.9962483157962468, 0.9965883052695405, 0.9667657411045198, 0.021725072833809433, 0.010862536416904716, 0.9954010538903706, 0.9985203100011337, 0.9969721217182268, 0.1837295619881468, 0.17010632793291347, 0.36856371052131254, 0.0058911282401009, 0.26289159771450266, 0.008468496845145043, 0.9968301560033396, 0.9936397133191208, 0.998085427696169, 0.0011286684266798284, 0.17607227456205324, 0.6805870612879366, 0.02257336853359657, 0.09480814784110558, 0.011286684266798285, 0.002257336853359657, 0.009029347413438627, 0.003386005280039485, 0.2829614241080879, 0.21601073001108495, 0.001263220643339678, 0.005052882573358712, 0.4939192715458141, 0.9974665218418658, 0.9957158088036626, 0.9200891492617462, 0.001141549812979834, 0.06963453859176988, 0.002283099625959668, 0.003424649438939502, 0.001141549812979834, 0.9251071507304612, 0.008241489093367138, 0.014422605913392492, 0.004120744546683569, 0.0020603722733417845, 0.04532819001351926, 0.9946917754663027, 0.9962263791686945, 0.997712279703023, 0.9976350839987178, 0.9968060788065563, 0.9968233985396332, 0.9934257193512418, 0.9957997967289273, 0.9979712721972813, 0.9966565096185835, 0.9986775898838463, 0.9387569944038503, 0.0024917239400234913, 0.0012458619700117456, 0.057309650620540296, 0.9943114451720126, 0.9963356418803487, 0.9996041680293511, 0.9970766239349177, 0.1898437215923442, 0.798711873726349, 0.005130911394387681, 0.005130911394387681, 0.9987545882564297, 0.9895376199150012, 0.009560749950869576, 0.900182315994745, 0.08559578282041949, 0.011412771042722598, 0.011466035866000705, 0.9860790844760606, 0.99889641021463, 0.9968054430213946, 0.9972921929121853, 0.9957369693042786, 0.9951384380222309, 0.9968520967221188, 0.9959584387542982, 0.9907646632875122, 0.007491604259262852, 0.9985286901854517, 0.9959355611947981, 0.9942991653831954, 0.39439416799486665, 0.6037264571613727, 0.002331131656230993, 0.6939001896714255, 0.09246822236382939, 0.05206194032249217, 0.0652716863744678, 0.012432702166565295, 0.07148803745775045, 0.0015540877708206619, 0.00854748273951364, 0.9961101223386845, 0.8001033453636704, 0.1296971176274443, 0.06758863876359773, 0.9952832874996634, 0.9956622117441718, 0.9971800999976793, 0.7612885937270262, 0.03259799643758676, 0.17251862730045917, 0.03009045825008009, 0.0015045229125040043, 0.0015045229125040043, 0.17351056709736376, 0.025252711643278292, 0.010589846818148962, 0.16292072027921478, 0.5938460254177379, 0.004887621608376444, 0.02851112604886259, 0.9961930051165444, 0.9907932151167193, 0.004763428918830381, 0.7345828154936381, 0.11978462413746947, 0.0202046353966816, 0.031750141337642514, 0.024534200124541942, 0.006494347091790514, 0.03968767667205314, 0.02236941776061177, 0.9927308472211537, 0.9964362355623585, 0.0035222883819391927, 0.9932853237068523, 0.9983236051009684, 0.998289553587365, 0.9980899634220121, 0.9925293785996884, 0.9988220119361729, 0.9983248210501069, 0.9964450310817967, 0.008518878158349385, 0.18003229174645033, 0.19366249679980935, 0.5082930634481799, 0.06360762358234208, 0.046001942055086675, 0.9941494071777448, 0.99291026877378, 0.13440528283860284, 0.061266012318656415, 0.06886489756748201, 0.3424247665252037, 0.3766197501449189, 0.011873258201290003, 0.0033245122963612007, 0.0009498606561032003, 0.9952801134460789, 0.9956669646985304, 0.4841460374380896, 0.014356884141491949, 0.00039880233726366526, 0.08693890952347902, 0.027517361271192902, 0.02193412854950159, 0.28075684543362034, 0.043070652424475844, 0.03110658230656589, 0.009970058431591631, 0.9951844962785343, 0.0887424978988446, 0.5462533635907538, 0.2605458093798395, 0.05789906875107544, 0.015421714573884582, 0.02894953437553772, 0.0010822255841322513, 0.0008116691880991885, 0.6847164812648657, 0.0026694599659448956, 0.09142900383361267, 0.056058659284842806, 0.16350442291412487, 0.0006673649914862239, 0.0006673649914862239, 0.0006673649914862239, 0.0004493746732487155, 0.2864763541960561, 0.37994628623178894, 0.09796367876821997, 0.03729809787964339, 0.08695399927362644, 0.0004493746732487155, 0.02808591707804472, 0.048307777374236915, 0.03392778783027802, 0.011654033071264891, 0.00388467769042163, 0.9828234556766724, 0.0015954196587708433, 0.16871562891501668, 0.7717842599303955, 0.009173663037932349, 0.007179388464468794, 0.006381678635083373, 0.011965647440781324, 0.010370227782010482, 0.012763357270166746, 0.9948721340019391, 0.06460493177220344, 0.1465428940198761, 0.09395290382725928, 0.13511885120649866, 0.08016526594904513, 0.1335431211632742, 0.001378763787821415, 0.012014941579586616, 0.1321643573754528, 0.2007086142557174, 0.9972408506179171, 0.0026216179633370565, 0.41441730112751163, 0.21396435839235514, 0.11555285330708719, 0.17343011142075912, 0.004638247165904023, 0.005243235926674113, 0.019964629105412968, 0.019157977424386182, 0.03125775263978798, 0.9953006805693969, 0.031078803912465668, 0.0005599784488732552, 0.18605283963813907, 0.01469943428292295, 0.005739779100950866, 0.607156633190827, 0.1479743051147577, 0.006159762937605807, 0.0002799892244366276, 0.0001399946122183138, 0.05478882118633239, 0.02484609332868562, 0.09365065946966118, 0.044595552128410085, 0.08727986630845974, 0.22871147448713172, 0.4657049800838253, 0.00031853965806007204, 0.9959348955586843, 0.9760607949898025, 0.001911970215455049, 0.004779925538637622, 0.0009559851077275245, 0.015295761723640392, 0.9991241670777397, 0.003681038642332072, 0.12147427519695837, 0.8724061582327011, 0.0013567407922803398, 0.9972044823260497, 0.9957325455052295, 0.9980044771335927, 0.010176289605815412, 0.9871000917640949, 0.012075396563634396, 0.12564162615019597, 0.12305404117227432, 0.2978597819029818, 0.308785140698651, 0.0008625283259738855, 0.019838151497399367, 0.037088718016877076, 0.07503996435972804, 0.005118781256789766, 0.9930435638172147, 0.15108287871673917, 0.005895917218214211, 0.15624180628267662, 0.04716733774571369, 0.5365284668574932, 0.0036849482613838824, 0.0007369896522767764, 0.09580865479598094, 0.0029479586091071056, 0.004433635516912739, 0.9887007202715408, 0.9988019572655317, 0.9935099635840388, 0.0038657975236733024, 0.11801315801255462, 0.2243492246007091, 0.044969224421626076, 0.033043684243515295, 0.02509332412477477, 0.0024844875371064132, 0.006459667596476674, 0.0012422437685532066, 0.4109342386374007, 0.13341698074261438, 0.005552190840079747, 0.005552190840079747, 0.9771855878540355, 0.011104381680159495, 0.01091617947353136, 0.9851851974862053, 0.09581496629881839, 0.25673497380068006, 0.01474076404597206, 0.3500931460918364, 0.19408672660529877, 0.00737038202298603, 0.00245679400766201, 0.07861740824518432, 0.994612630101906, 0.9435413962125605, 0.024069933576851034, 0.0012034966788425517, 0.0012034966788425517, 0.00722098007305531, 0.00722098007305531, 0.015645456824953174, 0.9971798363751841, 0.9976356959118851, 0.004210076392460566, 0.9893679522282329, 0.9973847111464744, 0.9965605831609898, 0.011434104049394071, 0.057170520246970356, 0.07546508672600087, 0.2801355492101547, 0.5031005781733391, 0.07203485551118265, 0.995376777298134, 0.021105552084451567, 0.02557018810231632, 0.4622927658498141, 0.04302285617215127, 0.11526878446123548, 0.27274867309137407, 0.05316975621275298, 0.006494016025985097, 0.7454095036422728, 0.2542482027927132, 0.9960809406912173, 0.9969245106543648, 0.10947301471118114, 0.08805438139812395, 0.007139544437685726, 0.7651211789053203, 0.007139544437685726, 0.020228709240109558, 0.06670583183390079, 0.9255434166953734, 0.0062536717344281985, 0.8513066876732892, 0.00041527155496258006, 0.0024916293297754803, 0.14492977268194043, 0.1367687524293684, 0.09757282947704941, 0.33775210203594025, 0.016679116149922978, 0.3310804555759711, 0.07922580171213414, 0.9969226516040122, 0.001623652527042365, 0.9989866350885318, 0.9938831854880648, 0.9986801183608488, 0.997103061277062, 0.0007465268050901818, 0.0003732634025450909, 0.0003732634025450909, 0.0003732634025450909, 0.997733075003028, 0.993652764858668, 0.9570782174776902, 0.0016346340178952864, 0.0024519510268429297, 0.037596582411591584, 0.0008173170089476432, 0.966450624289526, 0.021587385078632025, 0.009963408497830166, 0.0016605680829716943, 0.9981781242793626, 0.9975495483477472, 0.26228587019432037, 0.7324978447395787, 0.004076982438253685, 0.02322965424047905, 0.49074795476923144, 0.18532101938515508, 0.016346793724781553, 0.08259432618836995, 0.051449382354838785, 0.012733291954040368, 0.013593649518502554, 0.012733291954040368, 0.111330268841407, 0.9993127387060575, 0.998686367152506, 0.0204347989833277, 0.003678263816998986, 0.9731051275860652, 0.0008173919593331081, 0.001226087938999662, 0.00040869597966655403, 0.00040869597966655403, 0.8693901199541345, 0.0010589404627943174, 0.0010589404627943174, 0.1281317959981124, 0.3279782239010543, 0.653548384484186, 0.01637483056187349, 0.0009632253271690287, 0.03030721576075405, 0.9676661032183613, 0.28312773770728206, 0.0161445594891164, 0.0992591435256786, 0.043052158637643737, 0.5073577306116765, 0.0023917865909802074, 0.029897332387252593, 0.0020928132671076817, 0.016443532812988926, 0.0002989733238725259, 0.18518411027213896, 0.0014581426005680232, 0.011665140804544186, 0.020413996407952325, 0.7801062913038924, 0.002172816795098451, 0.006518450385295354, 0.9886316417697953, 0.1612788772129122, 0.008281888289311708, 0.1512534334942717, 0.18132976465019318, 0.05187077402253122, 0.13207432377165512, 0.024845664867935123, 0.02048677629461317, 0.006974221717315122, 0.2610974255419849, 0.9573632059947621, 0.003919603709292782, 0.0009799009273231956, 0.037236235238281436, 0.9966849029116703, 0.036113666933039364, 0.45012393702175024, 0.0530731237800468, 0.05367169284523529, 0.1453525213299402, 0.10814147777738858, 0.005885929141020227, 0.03541533635698611, 0.08769036805011492, 0.024541331672728407, 0.9971683577069211, 0.43002560765658804, 0.1602056185387289, 0.0018737499244295777, 0.4084774835256479, 0.13844728129447095, 0.41930778162882737, 0.10383546097085322, 0.09806682425025026, 0.018387529546921924, 0.1207808313376244, 0.02415616626752488, 0.026679944832788672, 0.019108609136997294, 0.030645882578203207, 0.9970049355128973, 0.0019780027430622983, 0.08175744671324166, 0.13384485228054885, 0.6283455380461234, 0.03758205211818367, 0.00725267672456176, 0.004615339733812029, 0.1048341453823018, 0.9982639577333929, 0.9979449368157154, 0.9971273743783143, 0.997381204755759, 0.11720362795283933, 0.5053570878270714, 0.0953672105775955, 0.0035651293673867475, 0.04322719357956431, 0.03253180547740407, 0.0026738470255400605, 0.008912823418466869, 0.13814876298623646, 0.05214001699803118, 0.9981453471120382, 0.9683391453159893, 0.028928370693402195, 0.0945635203553353, 0.002488513693561455, 0.9008419570692467, 0.9943817705895529, 0.005192044745332019, 0.9916805463584156, 0.9951931633455247, 0.0036859006049834247, 0.9930161432635649, 0.0027707120504585295, 0.030477832555043823, 0.051258172933482796, 0.40175324731648676, 0.5139670853600572, 0.9960361080875056, 0.998462673643392, 0.9990453281377446, 0.0010617822719961082, 0.0003539274239987027, 0.9980753356763417, 0.0003539274239987027, 0.9103952884910158, 0.045889843810116245, 0.0007401587711309072, 0.0029606350845236286, 0.03774809732767626, 0.0014803175422618143, 0.9944443640049146, 0.055516442205452425, 0.7633510803249709, 0.010093898582809532, 0.002523474645702383, 0.010093898582809532, 0.16024064000210134, 0.9966658541348594, 0.998448688348397, 0.062202985679147234, 0.009284027713305557, 0.0015473379522175927, 0.8553684199858853, 0.05384736073717223, 0.00433254626620926, 0.012997638798627779, 0.0003094675904435186, 0.0003094675904435186, 0.9926524638438683, 0.9180487463744202, 0.017913146270720395, 0.008583382588053521, 0.015674002986880344, 0.03843862637258751, 0.0014927621892266995, 0.9838934652027592, 0.014433644966299647, 0.018800464079532262, 0.9776241321356776, 0.9997562622458799, 0.9976426188461817, 0.8594402819606003, 0.13926115679917134, 0.9953415980430285, 0.995413887286346, 0.037128621284523905, 0.27680218405402524, 0.23634861160969323, 0.11526497354001451, 0.1529477533511731, 0.026045450751830204, 0.011360249796011046, 0.023828816645291462, 0.09476110805453117, 0.025491292225195517, 0.22091950288797527, 0.003829590515934566, 0.0277645312405256, 0.13439469216857866, 0.04248451978614909, 0.5011976587729363, 0.034825338754279955, 0.0323121699781979, 0.00011967470362295518, 0.0021541446652131933, 0.04076617346666124, 0.02577860969215343, 0.017385573978429058, 0.10131593111567279, 0.40106720660582895, 0.19004230866075902, 0.2236144515156565, 0.999690369899291, 0.997394032183649, 0.9973425411526082, 0.9958475754897758, 0.9930251647752754, 0.9985111190837014, 0.998078759223446, 0.9962812335076928, 0.0012730303593995766, 0.9980558017692681, 0.18431101104936762, 0.005000686346300671, 0.016430826566416493, 0.16930895201046559, 0.13216099629508918, 0.051435630990521196, 0.4400603984744591, 0.0007143837637572388, 0.1904011252366167, 0.0003974971299303063, 0.004239969385923267, 0.0007949942598606126, 0.005962456948954594, 0.37126231935490606, 0.31415523168825205, 0.11262418681358678, 0.0002649980866202042, 0.010618755143301236, 0.9302029505531882, 0.05734127777382667, 0.13135128697230955, 0.8130478396134097, 0.004988023555910489, 0.04821756104046806, 0.9401320127057682, 0.008356729001829051, 0.0020891822504572628, 0.0020891822504572628, 0.04805119176051704, 0.9978721862994288, 0.9973166185348158, 0.9961806778381587, 0.01432363708943076, 0.12572970334055888, 0.011140606625112813, 0.8307709511869841, 0.0015915152321589732, 0.015915152321589732, 0.010661830565502996, 0.06663644103439373, 0.02132366113100599, 0.8982592251436274, 0.9980297999209147, 0.03746256612159879, 0.03356021548393225, 0.6415464448323793, 0.08116889326346405, 0.12253381002272938, 0.0577547894374648, 0.0031218805101332326, 0.023414103825999247, 0.998126748049856, 0.996144688841602, 0.009983674612652938, 0.36380510288507306, 0.11101846169270067, 0.01158106255067741, 0.12639332059618621, 0.03813763702033422, 0.00019967349225305877, 0.0019967349225305875, 0.210655534326977, 0.12639332059618621, 0.003866730176471278, 0.05284531241177414, 0.0760456934706018, 0.8661475595295663, 0.99434859036586, 0.09317261564535849, 0.40374800112988674, 0.05963047401302943, 0.018634523129071698, 0.04782860936461736, 0.0068326584806596225, 0.3702058594975577, 0.9957666187929839, 0.0006282439235286965, 0.003141219617643482, 0.9822657296599748, 0.01660167430411225, 0.0014040654231566327, 0.40577490729226684, 0.0014040654231566327, 0.5918135758605206, 0.02919473354611919, 0.20900775152335327, 0.44721023659282577, 0.006635166715027088, 0.14066553435857426, 0.0019905500145081267, 0.03184880023213003, 0.120760034213493, 0.012606816758551468, 0.0018879912467660914, 0.9949713870457302, 0.0018879912467660914, 0.994910692216242, 0.06453614829501104, 0.9325473428629096, 0.015264861786523368, 0.05088287262174456, 0.048056046364980974, 0.744020670780176, 0.009045844021643478, 0.005088287262174456, 0.001696095754058152, 0.004522922010821739, 0.0005653652513527174, 0.12155352904083423, 0.7576274369345931, 0.0037739847418908744, 0.0009434961854727186, 0.04151383216079962, 0.1622813439013076, 0.008491465669254468, 0.021700412265872528, 0.0037739847418908744, 0.2657270224398673, 0.01081950417100437, 0.025966810010410485, 0.5383785275491774, 0.13978799388937646, 0.018609547174127515, 0.0004327801668401748, 0.99090202536761, 0.005414765165943224, 0.002707382582971612, 0.8713671003906641, 0.09014142417834456, 0.015023570696390761, 0.02003142759518768, 0.0016692856329323068, 0.9969785844153349, 0.9965837626073801, 0.9967052799227274, 0.9952340298982156, 0.9174822284828249, 0.08150753282649242, 0.9944851870269209, 0.0035017084050243696, 0.9972642426164563, 0.9947899773100843, 0.9961873374666943, 0.997126369668858, 0.9720585079098137, 0.005112253610344625, 0.021179336385713447, 0.0007303219443349464, 0.9320364573931467, 0.06616308185198264, 0.9972926796472286, 0.07118120269096057, 0.22625453712483895, 0.005084371620782898, 0.11185617565722375, 0.010168743241565796, 0.015253114862348694, 0.5601282735562493, 0.021835033099700495, 0.003970006018127363, 0.8515662908883194, 0.12207768505741641, 0.0009164424397522452, 0.09653193698723649, 0.44814035303884786, 0.3610783212623846, 0.08339626201745431, 0.008858943584271703, 0.0003054808132507484, 0.0003054808132507484, 0.0003054808132507484, 0.9940652842845946, 0.08815061121009497, 0.019853741263534903, 0.5860824420995504, 0.02461863916678328, 0.1048277538714643, 0.005559047553789773, 0.12309319583391641, 0.03970748252706981, 0.007941496505413962, 0.998859194633643, 0.007078036409301287, 0.0035390182046506433, 0.915594566946045, 0.0005055740292358062, 0.002275083131561128, 0.0002527870146179031, 0.0035390182046506433, 0.0005055740292358062, 0.06648298484450851, 0.9978542393875794, 0.9950591161018449, 0.9868870661132031, 0.008785344802194686, 0.004379465059919329, 0.9941385686016876, 0.9957208236868362, 0.9757729891602169, 0.023338533909299037, 0.9961095995229861, 0.9964470451054079, 0.07109758585031359, 0.2894174454310745, 0.002872629731325802, 0.4003727688035336, 0.0725339007159765, 0.07037942841748214, 0.02010840811928061, 0.012208676358134657, 0.05386180746235878, 0.0071815743283145045, 0.04798045004500382, 0.40418313896606484, 0.016688852189566547, 0.05736792940163501, 0.06362624897272247, 0.019818011975110274, 0.3311694106367112, 0.05945403592533083, 0.0014538212625268005, 0.009449838206424204, 0.049429922925911224, 0.15047050067152387, 0.7312720950509807, 0.02907642525053601, 0.02834951461927261, 0.9575480247617241, 0.002201259827038446, 0.002201259827038446, 0.037421417059653586, 0.9989838716504728, 0.9964012884686915, 0.99752764294303, 0.005260723714745204, 0.9916464202294709, 0.9960062753857375, 0.03976294150806675, 0.9576241746526075, 0.22243136892997625, 0.016502972533514366, 0.7340235174689217, 0.025830739617674663, 0.0007175205449354073, 0.0007175205449354073, 0.9973773178023166, 0.002924930029241603, 0.002437441691034669, 0.993988721603938, 0.9989604083908744, 0.3964195383430359, 0.016666286897304813, 0.04285616630735523, 0.07063331113619659, 0.4226094177530863, 0.007936327093954672, 0.001190449064093201, 0.03769755369628469, 0.003174530837581869, 0.0003968163546977336, 0.06852674388963341, 0.0011421123981605569, 0.9296794921026933, 0.0005710561990802784, 0.002073486587461288, 0.002073486587461288, 0.9911265888064958, 0.004146973174922576, 0.0074946083304515245, 0.0031556245601901153, 0.8393961330105707, 0.0074946083304515245, 0.03155624560190116, 0.005916796050356467, 0.039445307002376445, 0.04733436840285173, 0.018144841221093163, 0.1216008711119839, 0.5919101226186275, 0.17763264505574117, 0.005364744313763995, 0.0709338414819906, 0.0077490751198813265, 0.02145897725505598, 0.0023843308061173314, 0.9894851598513975, 0.009161899628253681, 0.9952003223838031, 0.9952235773355846, 0.9949959599844439, 0.995219342583041, 0.9967350955579394, 0.02405573808694741, 0.2770705547514479, 0.45748859040355344, 0.08204724954655278, 0.08849075081984226, 0.00042956675155263234, 0.00945046853415791, 0.04940017642855272, 0.011598302291921074, 0.993118609295938, 0.0019321373721710856, 0.0038642747443421712, 0.9993124657955815, 0.9963577301448308, 0.024729105530429018, 0.03214783718955772, 0.002472910553042902, 0.9397060101563027, 0.9960934963928474, 0.9969655556657916, 0.993413710244922, 0.9976766763966385, 0.9964733478765881, 0.05226128505522536, 0.9437773242325991, 0.9969366857401852, 0.03294741946712683, 0.20326023394335166, 0.12570707735149927, 0.004055067011338686, 0.029399235832205477, 0.10467141723017984, 0.0007603250646260037, 0.041310995178012865, 0.3337827033708156, 0.12418642722224726, 0.038279485536115, 0.0007655897107222999, 0.0007655897107222999, 0.9600494972457642, 0.023038007173219837, 0.43624534095956025, 0.0008860771989699938, 0.00029535906632333124, 0.5372581416421396, 0.0005907181326466625, 0.0008860771989699938, 0.00029535906632333124, 0.9950348393560351, 0.974942163837388, 0.011007411527196314, 0.01257989888822436, 0.9981366592141119, 0.9850259270823766, 0.003689235681956467, 0.007378471363912934, 0.0043767426117272586, 0.9891438302503605, 0.004938101489943452, 0.9925583994786339, 0.9947034800280192, 0.9957538355975935, 0.9954131468847494, 0.9978229138565989, 0.13786298774320968, 0.04850734753927748, 0.01148858231193414, 0.7799470880657511, 0.00127650914577046, 0.01787112804078644, 0.00255301829154092, 0.9979235594159065, 0.9989551131661746, 0.005141040348558876, 0.0038557802614191568, 0.09125346618692004, 0.0038557802614191568, 0.006426300435698595, 0.3315971024820475, 0.5565176177314983, 0.017551078330161295, 0.9793501708230002, 0.9959713367982531, 0.0029597959488803956, 0.0014798979744401978, 0.9965966271125558, 0.9974316939172158, 0.17411884482566795, 0.1694310297726692, 0.006027190782426968, 0.5786103151129889, 0.00535750291771286, 0.0006696878647141075, 0.009375630105997505, 0.05692346850069914, 0.9985081239281451, 0.9980977762097928, 0.0012730838982267765, 0.0013046842886891364, 0.018917922185992475, 0.2354955141083891, 0.0006523421443445682, 0.13242545530194733, 0.4116278930814225, 0.19896435402509327, 0.0006523421443445682, 0.9927178115135498, 0.9945035457006477, 0.045024148705998884, 0.9373209139703405, 0.010232761069545201, 0.004093104427818081, 0.8929978844501034, 0.10470992892888381, 0.9951424751596439, 0.004617830511181643, 0.9937993581674067, 0.09565661497100741, 0.007358201151615955, 0.8952478067799412, 0.9964930443980933, 0.9976669170852427, 0.05430461800933872, 0.17708027611740887, 0.11805351741160593, 0.6008924036250741, 0.04958247731287448, 0.9971759693211932, 0.9935309852904967, 0.7643187529167439, 0.2353880217316059, 0.05676073652299641, 0.002640034256883554, 0.054120702266112854, 0.2811636483580985, 0.6045678448263339, 0.0015604464182894684, 0.6483654867992742, 0.2520120965537492, 0.09440700830651284, 0.003120892836578937, 0.9962438256547426, 0.9964781826644645, 0.9942237219773756, 0.013313553511848415, 0.0003598257705904977, 0.0007196515411809954, 0.9848431341061923, 0.0003598257705904977, 0.996616986708094, 0.032173074046004245, 0.03077424473965623, 0.6868251894168732, 0.2391998113855098, 0.0055953172253920425, 0.0041964879190440315, 0.9959665408406733, 0.9977773328579677, 0.9960944896366408, 0.9959265592697313, 0.1283196986916161, 0.8360830367875611, 0.034084919964960526, 0.9975039034957731, 0.9938399552174738, 0.03000419757834119, 0.0007143856566271711, 0.08501189313863337, 0.16716624365075805, 0.0014287713132543423, 0.7151000422837984, 0.3992968386715949, 0.09523336366178145, 0.056371318400695744, 0.1195755238802637, 0.05594426295826623, 0.15971873546863796, 0.003416443539436106, 0.0008541108848590265, 0.05978776194013185, 0.04911137587939402, 0.13172651930495385, 0.0860032646701765, 0.06749623303229041, 0.009797840278880867, 0.6510120540856398, 0.00653189351925391, 0.04790055247452868, 0.15147347736306627, 0.03538066624538774, 0.04090889534622957, 0.058599228468923445, 0.7131415540085967, 0.001105645820168367, 0.20967855956261644, 0.0008002998456588413, 0.004001499228294207, 0.002400899536976524, 0.7826932490543469, 0.998418409253636, 0.12153871615268272, 0.021448008732826363, 0.02439185306870449, 0.018924713587787967, 0.6707759593893735, 0.026074049832063424, 0.11228663395420861, 0.001261647572519198, 0.0037849427175575935, 0.2883352771760718, 0.003785583507782125, 0.054260030278210455, 0.00031546529231517707, 0.00536290996935801, 0.13438821452626543, 0.4126286023482516, 0.09874063649465042, 0.0009463958769455312, 0.0012618611692607083, 0.5781885918967121, 0.0003338271315800878, 0.0023367899210606146, 0.0003338271315800878, 0.01969580076322518, 0.3314903416590272, 0.06743308057917774, 0.0010378852921034529, 0.5338190019052093, 0.11139968801910394, 0.11935680859189708, 0.056737729301655423, 0.02179559113417251, 0.015222317617517309, 0.07334389397531067, 0.06677062045865546, 0.9941450718818228, 0.9952783553787273, 0.13490877843832697, 0.8645174781558095, 0.0020011207557906275, 0.19944503532713254, 0.10005603778953137, 0.004669281763511464, 0.04469169687932401, 0.2514741749776888, 0.0020011207557906275, 0.0033352012596510453, 0.042690576123533386, 0.3515302127672202, 0.12513048292106324, 0.5403361762500458, 0.08176139509046745, 0.08176139509046745, 0.1443266365509991, 0.02488390285362053, 0.0014219373059211732, 0.0047014113691912504, 0.48189466534210323, 0.18717494013592667, 0.0464264372707636, 0.08051166969740017, 0.045544922639040246, 0.0005876764211489063, 0.0008815146317233595, 0.09520358022612282, 0.05700461285144392, 0.03006278426847151, 0.23278123119357447, 0.14719264865874576, 0.08509575000583738, 0.11318720415834355, 0.021684631275618794, 0.001971330115965345, 0.013635033302093636, 0.10053783591423258, 0.25380875243053813, 0.030002100731682767, 0.9690678536333533, 0.13815611550206286, 0.2880817559158349, 0.28572785093349307, 0.08999159817106847, 0.14557996967714096, 0.01539091719223505, 0.004707809964683662, 0.008329202245209557, 0.010320967999498798, 0.013761290665998398, 0.306930864874938, 0.029144770551922897, 0.01147575340481964, 0.20674571610270304, 0.3632167030033391, 0.026594603128629643, 0.04080267877269205, 0.013479456380264338, 0.0014572385275961447, 0.0003643096318990362, 0.314371115636946, 0.6821547994646352, 0.0015260733768783785, 0.9958588323397293, 0.992339310143149, 0.9934660576085597, 0.3338163614605341, 0.004159705438760549, 0.658273385683857, 0.004159705438760549, 0.9980525387966921, 0.3607927938796307, 0.0016106821155340656, 0.636219435635956, 0.9971064602551626, 0.001707374075779388, 0.008415993568926703, 0.4772682804571982, 0.32713781453408636, 0.11266572035821232, 0.03284952328516552, 0.03936513120949587, 0.0002714836635137646, 0.0019003856445963523, 0.5938804218639746, 0.07338177626480145, 0.09812679384246707, 0.029011399918642437, 0.20393307589869245, 0.0017065529363907317, 0.3184682502026718, 0.678164097523513, 0.0011950028150194063, 0.0005975014075097031, 0.0005975014075097031, 0.0011950028150194063, 0.48359373742149253, 0.023710981424314912, 0.13013468874740278, 0.0027570908632924317, 0.14833148844513283, 0.21174457830085877, 0.9941376192309119, 0.9976443885431948, 0.008967455033830039, 0.4294414577311941, 0.22069903222148374, 0.005978303355886692, 0.21372434497294926, 0.000498191946323891, 0.00996383892647782, 0.08618720671403315, 0.024909597316194552, 0.9933127851682836, 0.9969229148566158, 0.0017307689494038467, 0.9956274046396849, 0.9942927984653402, 0.026930987484880525, 0.09551371408832626, 0.17322558899173152, 0.12963390585942489, 0.5519711290863013, 0.015177209048682668, 0.0009129148299959499, 0.004336345442480762, 0.00022822870749898748, 0.0019399440137413937, 0.993948549210364, 0.7803034325789012, 0.002902297570697295, 0.11401883313453658, 0.003731525448039379, 0.0738012810834455, 0.0016584557546841683, 0.02197453874956523, 0.0016584557546841683, 0.9955883979373658, 0.012624912234170149, 0.0006644690649563236, 0.3262543108935549, 0.02923663885807824, 0.016611726623908092, 0.5089833037565439, 0.08638097844432208, 0.019269602883733385, 0.10983453914437798, 0.006773936334895559, 0.683199864633752, 0.00048385259534968275, 0.03822435503262494, 0.16112291425144434, 0.9964142454350484, 0.9978711285641066, 0.9967879838206697, 0.0007820367145655362, 0.9861482970671412, 0.01251258743304858, 0.028830384125856333, 0.21736166009493932, 0.2805293556515908, 0.24133299071643785, 0.11791303170574949, 0.07159005496420505, 0.011661728410458741, 0.01133779151016822, 0.01652078191481655, 0.0032393690029052058, 0.9973868158527618, 0.15072468004367165, 0.15447835981487418, 0.33523247802816625, 0.03291688414746852, 0.26333507317974814, 0.014148485291455766, 0.00923982712911397, 0.019923377247152, 0.0017324675867088693, 0.017902165062658317, 0.005625049860129104, 0.0036161034815115666, 0.0044196820329585815, 0.8525968430852827, 0.13339403954020446, 0.9975211921805339, 0.19986430819071946, 0.07513695796643588, 0.0041325326881539734, 0.12660577417344446, 0.017657185122112434, 0.548499793154982, 0.0003756847898321794, 0.024043826549259482, 0.0041325326881539734, 0.001009200285609335, 0.30679688682523787, 0.2647468749248489, 0.09520122694248061, 0.14801604188936915, 0.008746402475280904, 0.00807360228487468, 0.012783203617718245, 0.15440764369822826, 0.9951729985464406, 0.9972033854803102, 0.9967081944350293, 0.9957068862035976, 0.9967199563520414, 0.997986614467521, 0.0011263957273899786, 0.8174054404720755, 0.17525687834544781, 0.0004599918066809654, 0.0013799754200428962, 0.0027599508400857923, 0.0004599918066809654, 0.0009199836133619308, 0.0013799754200428962, 0.13425796504163043, 0.38492948204973787, 0.09049666630970658, 0.02974068845858902, 0.2719148659070996, 0.04588563362182306, 0.006585438158687568, 0.01741954609717357, 0.012958442828385215, 0.005948137691717804, 0.009073072798502516, 0.9889649350367742, 0.46877093170082146, 0.022262418799411772, 0.013021414769467263, 0.08400912754495007, 0.09955081614076584, 0.037804107395227535, 0.06930753022458382, 0.08190889935632632, 0.12181323494017761, 0.0016801825508990017, 0.9704983619771268, 0.01917980952523966, 0.007671923810095863, 0.00016267655579091695, 0.2826505156867182, 0.0047176201179365915, 0.5715640787713867, 0.12485425656952875, 0.004636281840041133, 0.0005693679452682093, 0.004880296673727508, 0.006019032564263927, 0.9919427269863909, 0.9952240389788977, 0.5679752218948048, 0.28004571894270097, 0.001028319653400371, 0.005484371484801977, 0.08397943836103028, 0.002399412524600865, 0.0006855464356002472, 0.003427732178001236, 0.054843714848019774, 0.013353739304514696, 0.6737568467277869, 0.22822754447716026, 0.009711810403283415, 0.008497834102872989, 0.06555472022216305, 0.9956936221024099, 0.9978853410885946, 0.9910020641149393, 0.008808907236577238], \"Term\": [\"academic\", \"academic\", \"academic\", \"academic\", \"accept\", \"access\", \"access\", \"access\", \"access\", \"access\", \"access\", \"accord\", \"accord\", \"accord\", \"accurate\", \"accurate\", \"accurate\", \"accurate\", \"act\", \"active\", \"actually\", \"actually\", \"actually\", \"actually\", \"actually\", \"actually\", \"actually\", \"actually\", \"actually\", \"ad\", \"address\", \"advance\", \"advice\", \"advice\", \"advice\", \"agent\", \"agent\", \"agree\", \"agree\", \"agree\", \"agree\", \"agree\", \"ai\", \"ai\", \"ai\", \"ai\", \"ai\", \"ai\", \"ai\", \"ai\", \"ai\", \"ai\", \"aiart\", \"aim\", \"alphabet\", \"alternative\", \"alternative\", \"alternative\", \"alternative\", \"altman\", \"amp\", \"amp\", \"amp\", \"amp\", \"amp\", \"amp\", \"amp\", \"amp\", \"amp\", \"amp\", \"analytic\", \"anime\", \"announce\", \"announce\", \"announce\", \"answer\", \"answer\", \"answer\", \"answer\", \"answer\", \"answer\", \"answer\", \"answer\", \"anthropic\", \"anti\", \"anti\", \"api\", \"api\", \"api\", \"api\", \"api\", \"api\", \"app\", \"app\", \"app\", \"app\", \"app\", \"app\", \"app\", \"apparently\", \"apple\", \"approach\", \"approach\", \"approach\", \"approach\", \"ar\", \"argument\", \"art\", \"art\", \"art\", \"art\", \"art\", \"article\", \"article\", \"article\", \"article\", \"article\", \"article\", \"artificial\", \"artificial\", \"artificial\", \"artificialintelligence\", \"artificialintelligence\", \"ask\", \"ask\", \"ask\", \"ask\", \"ask\", \"ask\", \"ask\", \"ask\", \"ask\", \"ask\", \"assignment\", \"assume\", \"assume\", \"average\", \"aware\", \"azure\", \"bad\", \"bad\", \"bad\", \"bad\", \"bad\", \"bad\", \"bad\", \"baidu\", \"bank\", \"bard\", \"bard\", \"bard\", \"bard\", \"base\", \"base\", \"base\", \"base\", \"base\", \"base\", \"base\", \"base\", \"base\", \"basic\", \"basic\", \"basically\", \"beat\", \"begin\", \"begin\", \"begin\", \"begin\", \"begin\", \"believe\", \"believe\", \"believe\", \"believe\", \"believe\", \"believe\", \"beta\", \"bias\", \"bias\", \"biased\", \"biden\", \"big\", \"big\", \"big\", \"big\", \"big\", \"big\", \"big\", \"big\", \"big\", \"big\", \"bigdata\", \"bing\", \"bing\", \"bing\", \"bing\", \"bio\", \"bitcoin\", \"black\", \"blockchain\", \"blockchain\", \"blog\", \"blog\", \"blog\", \"blow\", \"blow\", \"book\", \"book\", \"book\", \"book\", \"book\", \"book\", \"boy\", \"break\", \"break\", \"break\", \"break\", \"break\", \"break\", \"break\", \"budget\", \"bug\", \"bug\", \"bug\", \"build\", \"build\", \"build\", \"build\", \"build\", \"build\", \"build\", \"build\", \"build\", \"build\", \"bullshit\", \"calculator\", \"calculator\", \"calculator\", \"call\", \"call\", \"call\", \"call\", \"call\", \"call\", \"call\", \"call\", \"call\", \"call\", \"cap\", \"capacity\", \"capacity\", \"card\", \"case\", \"case\", \"case\", \"case\", \"case\", \"case\", \"case\", \"case\", \"cat\", \"catch\", \"catch\", \"catch\", \"cc\", \"certain\", \"certain\", \"certain\", \"changer\", \"chat\", \"chat\", \"chat\", \"chat\", \"chat\", \"chat\", \"chat\", \"chat\", \"chatbot\", \"chatbot\", \"chatbot\", \"chatbot\", \"chatbot\", \"chatbot\", \"chatbot\", \"chatbot\", \"chatbot\", \"cheat\", \"cheat\", \"check\", \"check\", \"check\", \"check\", \"check\", \"check\", \"check\", \"check\", \"check\", \"check\", \"china\", \"china\", \"chinese\", \"chinese\", \"choice\", \"choose\", \"cite\", \"class\", \"classifier\", \"classroom\", \"classroom\", \"coach\", \"code\", \"code\", \"code\", \"code\", \"code\", \"code\", \"code\", \"code\", \"colleague\", \"colleague\", \"college\", \"color\", \"come\", \"come\", \"come\", \"come\", \"come\", \"come\", \"come\", \"come\", \"come\", \"come\", \"company\", \"company\", \"company\", \"company\", \"company\", \"company\", \"company\", \"compete\", \"competition\", \"competition\", \"competitor\", \"competitor\", \"conference\", \"conservative\", \"conspiracy\", \"consumer\", \"contact\", \"content\", \"content\", \"content\", \"content\", \"content\", \"content\", \"content\", \"content\", \"controversial\", \"convince\", \"copy\", \"copy\", \"copy\", \"copywriter\", \"correct\", \"correct\", \"correct\", \"correct\", \"correct\", \"correctly\", \"court\", \"court\", \"covid\", \"craft\", \"craze\", \"crazy\", \"create\", \"create\", \"create\", \"create\", \"create\", \"create\", \"create\", \"create\", \"create\", \"create\", \"creation\", \"creation\", \"creation\", \"creation\", \"creator\", \"creator\", \"creator\", \"creator\", \"creator\", \"creator\", \"crochet\", \"crypto\", \"crypto\", \"crypto\", \"cybersecurity\", \"daily\", \"daily\", \"daily\", \"dalle\", \"dalle\", \"damn\", \"dan\", \"dan\", \"datascience\", \"datum\", \"datum\", \"datum\", \"datum\", \"datum\", \"datum\", \"datum\", \"datum\", \"datum\", \"datum\", \"day\", \"day\", \"day\", \"day\", \"day\", \"day\", \"day\", \"day\", \"day\", \"daysofcode\", \"de\", \"deal\", \"deal\", \"deal\", \"dear\", \"deeplearne\", \"deepmind\", \"defi\", \"describe\", \"describe\", \"describe\", \"destroy\", \"detect\", \"determine\", \"develop\", \"develop\", \"develop\", \"develop\", \"develop\", \"develop\", \"devop\", \"dialogue\", \"difference\", \"different\", \"different\", \"different\", \"different\", \"different\", \"different\", \"different\", \"different\", \"different\", \"digital\", \"digital\", \"digital\", \"digital\", \"digital\", \"disappoint\", \"discord\", \"discuss\", \"discuss\", \"discuss\", \"discuss\", \"discuss\", \"discuss\", \"discussion\", \"discussion\", \"discussion\", \"discussion\", \"discussion\", \"discussion\", \"disrupt\", \"dollar\", \"domain\", \"dr\", \"draw\", \"dumb\", \"earth\", \"edchat\", \"edge\", \"edit\", \"edtech\", \"education\", \"education\", \"education\", \"education\", \"educational\", \"efficient\", \"elon\", \"elonmusk\", \"engine\", \"engine\", \"engine\", \"engine\", \"english\", \"enjoy\", \"enjoy\", \"episode\", \"episode\", \"episode\", \"era\", \"era\", \"essay\", \"estimate\", \"eth\", \"ethical\", \"eve\", \"eventually\", \"evidence\", \"exactly\", \"exactly\", \"exam\", \"excel\", \"excellent\", \"expect\", \"expect\", \"explain\", \"explain\", \"explain\", \"explain\", \"explain\", \"explain\", \"explain\", \"explain\", \"explain\", \"explanation\", \"fail\", \"fail\", \"fail\", \"fair\", \"false\", \"fantasy\", \"fast\", \"fast\", \"fast\", \"fast\", \"fast\", \"fast\", \"feature\", \"feature\", \"feature\", \"feature\", \"feature\", \"feature\", \"feature\", \"feb\", \"feed\", \"feed\", \"feel\", \"feel\", \"feel\", \"feel\", \"feel\", \"feel\", \"feel\", \"feel\", \"few\", \"fiction\", \"fight\", \"fight\", \"fill\", \"filter\", \"finally\", \"finance\", \"fintech\", \"fire\", \"firm\", \"form\", \"form\", \"form\", \"form\", \"form\", \"form\", \"fortnite\", \"found\", \"free\", \"free\", \"free\", \"free\", \"free\", \"free\", \"free\", \"free\", \"fucking\", \"fully\", \"future\", \"future\", \"future\", \"future\", \"future\", \"future\", \"future\", \"future\", \"future\", \"future\", \"garbage\", \"generate\", \"generate\", \"generate\", \"generate\", \"generate\", \"generate\", \"generate\", \"generate\", \"generative\", \"generative\", \"generative\", \"generative\", \"generative\", \"generative\", \"generative\", \"generative\", \"get\", \"get\", \"get\", \"get\", \"get\", \"get\", \"get\", \"get\", \"get\", \"get\", \"giant\", \"giant\", \"giant\", \"give\", \"give\", \"give\", \"give\", \"give\", \"give\", \"give\", \"give\", \"give\", \"glad\", \"go\", \"go\", \"go\", \"go\", \"go\", \"go\", \"go\", \"go\", \"go\", \"go\", \"gold\", \"good\", \"good\", \"good\", \"good\", \"good\", \"good\", \"good\", \"good\", \"good\", \"good\", \"googl\", \"google\", \"google\", \"google\", \"google\", \"google\", \"google\", \"google\", \"google\", \"google\", \"google\", \"gpt\", \"gpt\", \"gpt\", \"gpt\", \"gpt\", \"gpt\", \"gpt\", \"gpt\", \"grade\", \"grow\", \"grow\", \"grow\", \"grow\", \"grow\", \"gt\", \"guide\", \"guide\", \"guide\", \"guy\", \"guy\", \"haiku\", \"handle\", \"hate\", \"hate\", \"help\", \"help\", \"help\", \"help\", \"help\", \"help\", \"help\", \"help\", \"help\", \"helpful\", \"helpful\", \"high\", \"high\", \"high\", \"high\", \"high\", \"high\", \"high\", \"high\", \"high\", \"home\", \"home\", \"homework\", \"honest\", \"honest\", \"human\", \"human\", \"human\", \"human\", \"human\", \"human\", \"human\", \"human\", \"human\", \"human\", \"humanity\", \"humanity\", \"humanity\", \"humanity\", \"humor\", \"humor\", \"idea\", \"idea\", \"idea\", \"idea\", \"idea\", \"idea\", \"idea\", \"idea\", \"ill\", \"impact\", \"impact\", \"impact\", \"impact\", \"impact\", \"impact\", \"impact\", \"impressed\", \"impressive\", \"improvement\", \"improvement\", \"india\", \"indian\", \"industry\", \"industry\", \"industry\", \"industry\", \"industry\", \"industry\", \"influencer\", \"information\", \"information\", \"information\", \"information\", \"information\", \"information\", \"information\", \"information\", \"innovation\", \"innovation\", \"instagram\", \"instruction\", \"integrate\", \"integrate\", \"integrate\", \"integrate\", \"integrate\", \"integrate\", \"integration\", \"integration\", \"integration\", \"intelligence\", \"intelligence\", \"intelligence\", \"intelligence\", \"internet\", \"internet\", \"internet\", \"internet\", \"internet\", \"internet\", \"invest\", \"invest\", \"iot\", \"jailbreak\", \"january\", \"javascript\", \"job\", \"job\", \"job\", \"job\", \"job\", \"joe\", \"join\", \"join\", \"join\", \"join\", \"join\", \"joke\", \"joke\", \"joke\", \"joke\", \"judge\", \"keyword\", \"kid\", \"kid\", \"kid\", \"know\", \"know\", \"know\", \"know\", \"know\", \"know\", \"know\", \"know\", \"know\", \"know\", \"lab\", \"lamda\", \"language\", \"language\", \"language\", \"language\", \"language\", \"language\", \"language\", \"large\", \"large\", \"large\", \"large\", \"launch\", \"launch\", \"launch\", \"launch\", \"law\", \"law\", \"learn\", \"learn\", \"learn\", \"learn\", \"learn\", \"learn\", \"learn\", \"learn\", \"learn\", \"learn\", \"learning\", \"learning\", \"learning\", \"learning\", \"learning\", \"legal\", \"legal\", \"legal\", \"let\", \"let\", \"let\", \"let\", \"let\", \"let\", \"let\", \"let\", \"let\", \"let\", \"letter\", \"letter\", \"letter\", \"letter\", \"liberal\", \"like\", \"like\", \"like\", \"like\", \"like\", \"like\", \"like\", \"like\", \"like\", \"like\", \"lmao\", \"lol\", \"lol\", \"lol\", \"lol\", \"look\", \"look\", \"look\", \"look\", \"look\", \"look\", \"look\", \"look\", \"look\", \"look\", \"lose\", \"love\", \"love\", \"love\", \"love\", \"love\", \"love\", \"love\", \"love\", \"machinelearne\", \"machinelearning\", \"main\", \"maintain\", \"make\", \"make\", \"make\", \"make\", \"make\", \"make\", \"make\", \"make\", \"make\", \"make\", \"maker\", \"man\", \"man\", \"mark\", \"mark\", \"mark\", \"marketer\", \"match\", \"match\", \"math\", \"math\", \"measure\", \"medium\", \"medium\", \"medium\", \"medium\", \"medium\", \"medtwitter\", \"mentor\", \"metaverse\", \"microsoft\", \"microsoft\", \"microsoft\", \"microsoft\", \"million\", \"million\", \"million\", \"million\", \"million\", \"million\", \"min\", \"mind\", \"mind\", \"mind\", \"mind\", \"mind\", \"mind\", \"misinformation\", \"ml\", \"model\", \"model\", \"model\", \"model\", \"model\", \"model\", \"model\", \"model\", \"model\", \"monday\", \"month\", \"month\", \"month\", \"month\", \"month\", \"month\", \"monthly\", \"monthly\", \"mr\", \"mr\", \"musk\", \"mwc\", \"name\", \"name\", \"natural\", \"nearly\", \"need\", \"need\", \"need\", \"need\", \"need\", \"need\", \"need\", \"need\", \"need\", \"need\", \"new\", \"new\", \"new\", \"new\", \"new\", \"new\", \"new\", \"new\", \"new\", \"new\", \"news\", \"news\", \"news\", \"news\", \"news\", \"news\", \"news\", \"nft\", \"nftcommunity\", \"nfts\", \"notice\", \"obvious\", \"obviously\", \"offer\", \"okay\", \"old\", \"old\", \"open\", \"open\", \"open\", \"open\", \"open\", \"open\", \"open\", \"open\", \"openai\", \"openai\", \"openai\", \"openai\", \"openai\", \"openai\", \"openai\", \"openai\", \"openai\", \"openais\", \"openais\", \"openais\", \"opinion\", \"opinion\", \"opinion\", \"opinion\", \"opportunity\", \"opportunity\", \"opportunity\", \"opportunity\", \"opportunity\", \"outline\", \"panel\", \"parent\", \"pass\", \"pass\", \"pass\", \"pass\", \"pass\", \"pass\", \"paste\", \"paste\", \"paste\", \"paste\", \"pattern\", \"pay\", \"pay\", \"pay\", \"pay\", \"pay\", \"pay\", \"pay\", \"pay\", \"pc\", \"peak\", \"people\", \"people\", \"people\", \"people\", \"people\", \"people\", \"people\", \"people\", \"people\", \"people\", \"person\", \"person\", \"person\", \"person\", \"phrase\", \"play\", \"play\", \"play\", \"play\", \"play\", \"play\", \"play\", \"plus\", \"plus\", \"plus\", \"pm\", \"pm\", \"poem\", \"poem\", \"poem\", \"poem\", \"point\", \"point\", \"point\", \"point\", \"point\", \"point\", \"point\", \"point\", \"point\", \"political\", \"political\", \"political\", \"pose\", \"possibility\", \"possibility\", \"post\", \"post\", \"post\", \"post\", \"post\", \"post\", \"post\", \"post\", \"post\", \"post\", \"potential\", \"potential\", \"potential\", \"potential\", \"potential\", \"potential\", \"potential\", \"potential\", \"power\", \"power\", \"power\", \"power\", \"power\", \"power\", \"power\", \"powered\", \"powered\", \"powered\", \"powerful\", \"powerful\", \"powerful\", \"powerful\", \"powerful\", \"practical\", \"praise\", \"pre\", \"prediction\", \"premium\", \"premium\", \"prepare\", \"prepare\", \"present\", \"press\", \"price\", \"priority\", \"problem\", \"problem\", \"problem\", \"problem\", \"professor\", \"professor\", \"profile\", \"program\", \"program\", \"program\", \"program\", \"program\", \"program\", \"program\", \"programming\", \"programming\", \"programming\", \"programming\", \"prompt\", \"prompt\", \"prompt\", \"prompt\", \"prompt\", \"prompt\", \"prompt\", \"prompt\", \"prompt\", \"proof\", \"provide\", \"provide\", \"provide\", \"provide\", \"provide\", \"provide\", \"provide\", \"provide\", \"provide\", \"python\", \"question\", \"question\", \"question\", \"question\", \"question\", \"question\", \"question\", \"question\", \"question\", \"racial\", \"racist\", \"raise\", \"raise\", \"random\", \"random\", \"rate\", \"reach\", \"reach\", \"react\", \"reaction\", \"read\", \"read\", \"read\", \"read\", \"read\", \"read\", \"read\", \"read\", \"read\", \"read\", \"real\", \"real\", \"real\", \"real\", \"real\", \"real\", \"real\", \"real\", \"recent\", \"recent\", \"recent\", \"recent\", \"recent\", \"recent\", \"recent\", \"record\", \"record\", \"record\", \"record\", \"recruit\", \"recruiting\", \"reddit\", \"refuse\", \"refuse\", \"register\", \"relationship\", \"relationship\", \"release\", \"release\", \"release\", \"release\", \"release\", \"release\", \"rely\", \"replace\", \"replace\", \"replace\", \"reportedly\", \"research\", \"research\", \"research\", \"research\", \"research\", \"research\", \"research\", \"research\", \"research\", \"research\", \"researcher\", \"researcher\", \"researcher\", \"researcher\", \"resource\", \"resource\", \"resource\", \"resource\", \"response\", \"response\", \"response\", \"response\", \"response\", \"response\", \"response\", \"response\", \"response\", \"result\", \"result\", \"result\", \"result\", \"result\", \"result\", \"result\", \"result\", \"resume\", \"resume\", \"return\", \"reveal\", \"revenue\", \"revise\", \"revolution\", \"right\", \"right\", \"right\", \"right\", \"right\", \"right\", \"right\", \"right\", \"right\", \"risk\", \"risk\", \"risk\", \"rival\", \"robotic\", \"role\", \"role\", \"role\", \"role\", \"roll\", \"rpg\", \"rumor\", \"saas\", \"sad\", \"safe\", \"safe\", \"sam\", \"say\", \"say\", \"say\", \"say\", \"say\", \"say\", \"say\", \"say\", \"say\", \"say\", \"school\", \"school\", \"school\", \"school\", \"search\", \"search\", \"search\", \"search\", \"search\", \"search\", \"search\", \"search\", \"section\", \"sense\", \"sense\", \"sense\", \"seo\", \"series\", \"series\", \"series\", \"server\", \"server\", \"shape\", \"shape\", \"sheet\", \"shift\", \"ship\", \"shit\", \"skill\", \"skill\", \"skill\", \"skill\", \"skill\", \"skill\", \"skill\", \"slur\", \"snapchat\", \"social\", \"social\", \"social\", \"social\", \"social\", \"social\", \"social\", \"society\", \"society\", \"solve\", \"solve\", \"solve\", \"song\", \"sonnet\", \"soon\", \"soon\", \"soon\", \"soon\", \"soon\", \"soon\", \"soon\", \"soon\", \"sort\", \"sound\", \"sound\", \"source\", \"source\", \"source\", \"source\", \"source\", \"source\", \"source\", \"source\", \"spark\", \"specialize\", \"specific\", \"specific\", \"specific\", \"specific\", \"speech\", \"speech\", \"spot\", \"spot\", \"spread\", \"st\", \"st\", \"st\", \"stack\", \"stackoverflow\", \"state\", \"state\", \"state\", \"state\", \"state\", \"statement\", \"states\", \"step\", \"step\", \"stock\", \"stock\", \"stock\", \"stock\", \"stock\", \"story\", \"story\", \"story\", \"story\", \"story\", \"straight\", \"stream\", \"strong\", \"student\", \"student\", \"student\", \"student\", \"student\", \"stupid\", \"style\", \"style\", \"style\", \"style\", \"style\", \"style\", \"subscriber\", \"subscription\", \"success\", \"suck\", \"summarize\", \"summarize\", \"summarize\", \"summary\", \"surprise\", \"system\", \"system\", \"system\", \"system\", \"system\", \"system\", \"talk\", \"talk\", \"talk\", \"talk\", \"talk\", \"talk\", \"talk\", \"talk\", \"talk\", \"talk\", \"task\", \"task\", \"task\", \"task\", \"task\", \"task\", \"task\", \"teach\", \"teach\", \"teach\", \"teach\", \"teach\", \"teach\", \"teacher\", \"teacher\", \"teacher\", \"teacher\", \"teacher\", \"teaching\", \"team\", \"team\", \"team\", \"team\", \"team\", \"team\", \"team\", \"team\", \"team\", \"tech\", \"tech\", \"tech\", \"tech\", \"tech\", \"tech\", \"tech\", \"tech\", \"tech\", \"tech\", \"technology\", \"technology\", \"technology\", \"technology\", \"technology\", \"technology\", \"technology\", \"tell\", \"tell\", \"tell\", \"tell\", \"tell\", \"tell\", \"tell\", \"tell\", \"tell\", \"template\", \"terrible\", \"tesla\", \"tesla\", \"test\", \"test\", \"test\", \"test\", \"test\", \"test\", \"test\", \"test\", \"test\", \"test\", \"text\", \"text\", \"text\", \"text\", \"text\", \"text\", \"text\", \"thing\", \"thing\", \"thing\", \"thing\", \"thing\", \"thing\", \"thing\", \"thing\", \"thing\", \"thing\", \"think\", \"think\", \"think\", \"think\", \"think\", \"think\", \"think\", \"think\", \"think\", \"think\", \"thinking\", \"thinking\", \"time\", \"time\", \"time\", \"time\", \"time\", \"time\", \"time\", \"time\", \"time\", \"time\", \"tool\", \"tool\", \"tool\", \"tool\", \"tool\", \"tool\", \"tool\", \"tool\", \"tool\", \"tool\", \"training\", \"training\", \"training\", \"transform\", \"transformer\", \"trick\", \"true\", \"true\", \"true\", \"true\", \"trump\", \"trust\", \"trust\", \"trust\", \"truth\", \"truth\", \"try\", \"try\", \"try\", \"try\", \"try\", \"try\", \"try\", \"try\", \"turn\", \"turn\", \"turn\", \"turn\", \"turn\", \"turn\", \"tweet\", \"tweet\", \"tweet\", \"tweet\", \"tweet\", \"tweet\", \"twitter\", \"twitter\", \"twitter\", \"twitter\", \"twitter\", \"twitter\", \"ultimate\", \"unbiased\", \"understand\", \"understand\", \"understand\", \"understand\", \"understand\", \"understand\", \"understand\", \"understand\", \"understand\", \"united\", \"university\", \"university\", \"unveil\", \"upload\", \"use\", \"use\", \"use\", \"use\", \"use\", \"use\", \"use\", \"use\", \"use\", \"use\", \"useless\", \"user\", \"user\", \"user\", \"user\", \"user\", \"user\", \"user\", \"user\", \"ux\", \"version\", \"version\", \"version\", \"version\", \"version\", \"version\", \"version\", \"version\", \"video\", \"video\", \"video\", \"video\", \"video\", \"video\", \"virus\", \"vr\", \"waitlist\", \"wake\", \"wake\", \"wake\", \"want\", \"want\", \"want\", \"want\", \"want\", \"want\", \"want\", \"want\", \"want\", \"want\", \"war\", \"way\", \"way\", \"way\", \"way\", \"way\", \"way\", \"way\", \"way\", \"way\", \"way\", \"web\", \"web\", \"web\", \"web\", \"web\", \"webinar\", \"week\", \"week\", \"week\", \"week\", \"week\", \"week\", \"week\", \"week\", \"week\", \"well\", \"well\", \"well\", \"well\", \"well\", \"well\", \"well\", \"well\", \"well\", \"whatsapp\", \"white\", \"wild\", \"wing\", \"woman\", \"wonder\", \"wonder\", \"word\", \"word\", \"word\", \"word\", \"word\", \"word\", \"word\", \"word\", \"work\", \"work\", \"work\", \"work\", \"work\", \"work\", \"work\", \"work\", \"work\", \"work\", \"worker\", \"worker\", \"world\", \"world\", \"world\", \"world\", \"world\", \"world\", \"world\", \"world\", \"world\", \"world\", \"wow\", \"wow\", \"wow\", \"write\", \"write\", \"write\", \"write\", \"write\", \"write\", \"write\", \"write\", \"write\", \"xi\", \"yeah\", \"year\", \"year\", \"year\", \"year\", \"year\", \"year\", \"year\", \"year\", \"year\", \"yes\", \"yes\", \"yes\", \"yes\", \"yes\", \"yes\", \"yesterday\", \"young\", \"youtube\", \"youtube\"]}, \"R\": 30, \"lambda.step\": 0.01, \"plot.opts\": {\"xlab\": \"PC1\", \"ylab\": \"PC2\"}, \"topic.order\": [4, 2, 10, 7, 1, 3, 6, 5, 8, 9]};\n",
              "\n",
              "function LDAvis_load_lib(url, callback){\n",
              "  var s = document.createElement('script');\n",
              "  s.src = url;\n",
              "  s.async = true;\n",
              "  s.onreadystatechange = s.onload = callback;\n",
              "  s.onerror = function(){console.warn(\"failed to load library \" + url);};\n",
              "  document.getElementsByTagName(\"head\")[0].appendChild(s);\n",
              "}\n",
              "\n",
              "if(typeof(LDAvis) !== \"undefined\"){\n",
              "   // already loaded: just create the visualization\n",
              "   !function(LDAvis){\n",
              "       new LDAvis(\"#\" + \"ldavis_el2041401091871052806527631536\", ldavis_el2041401091871052806527631536_data);\n",
              "   }(LDAvis);\n",
              "}else if(typeof define === \"function\" && define.amd){\n",
              "   // require.js is available: use it to load d3/LDAvis\n",
              "   require.config({paths: {d3: \"https://d3js.org/d3.v5\"}});\n",
              "   require([\"d3\"], function(d3){\n",
              "      window.d3 = d3;\n",
              "      LDAvis_load_lib(\"https://cdn.jsdelivr.net/gh/bmabey/pyLDAvis@3.4.0/pyLDAvis/js/ldavis.v3.0.0.js\", function(){\n",
              "        new LDAvis(\"#\" + \"ldavis_el2041401091871052806527631536\", ldavis_el2041401091871052806527631536_data);\n",
              "      });\n",
              "    });\n",
              "}else{\n",
              "    // require.js not available: dynamically load d3 & LDAvis\n",
              "    LDAvis_load_lib(\"https://d3js.org/d3.v5.js\", function(){\n",
              "         LDAvis_load_lib(\"https://cdn.jsdelivr.net/gh/bmabey/pyLDAvis@3.4.0/pyLDAvis/js/ldavis.v3.0.0.js\", function(){\n",
              "                 new LDAvis(\"#\" + \"ldavis_el2041401091871052806527631536\", ldavis_el2041401091871052806527631536_data);\n",
              "            })\n",
              "         });\n",
              "}\n",
              "</script>"
            ]
          },
          "metadata": {},
          "execution_count": 72
        }
      ]
    }
  ]
}