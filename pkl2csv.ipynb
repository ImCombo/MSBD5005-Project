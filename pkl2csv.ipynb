{
 "cells": [
  {
   "cell_type": "code",
   "execution_count": 3,
   "metadata": {},
   "outputs": [
    {
     "name": "stdout",
     "output_type": "stream",
     "text": [
      "C:\\Users\\user\\Documents\\UST\\BDT\\MSBD5005\\project\n"
     ]
    }
   ],
   "source": [
    "%cd \"C:\\Users\\user\\Documents\\UST\\BDT\\MSBD5005\\project\\\""
   ]
  },
  {
   "cell_type": "code",
   "execution_count": 4,
   "metadata": {},
   "outputs": [
    {
     "name": "stdout",
     "output_type": "stream",
     "text": [
      "Collecting git+https://github.com/JustAnotherArchivist/snscrape.git\n",
      "  Cloning https://github.com/JustAnotherArchivist/snscrape.git to c:\\users\\user\\appdata\\local\\temp\\pip-req-build-0kr6pb_7\n"
     ]
    },
    {
     "name": "stderr",
     "output_type": "stream",
     "text": [
      "  ERROR: Error [WinError 2] The system cannot find the file specified while executing command git version\n",
      "ERROR: Cannot find command 'git' - do you have 'git' installed and in your PATH?\n",
      "\n",
      "[notice] A new release of pip available: 22.2.2 -> 23.0.1\n",
      "[notice] To update, run: python.exe -m pip install --upgrade pip\n"
     ]
    },
    {
     "name": "stdout",
     "output_type": "stream",
     "text": [
      "Requirement already satisfied: snscrape in c:\\users\\user\\appdata\\local\\programs\\python\\python310\\lib\\site-packages (0.6.2.20230320)\n",
      "Requirement already satisfied: requests[socks] in c:\\users\\user\\appdata\\local\\programs\\python\\python310\\lib\\site-packages (from snscrape) (2.28.2)\n",
      "Requirement already satisfied: lxml in c:\\users\\user\\appdata\\local\\programs\\python\\python310\\lib\\site-packages (from snscrape) (4.9.2)\n",
      "Requirement already satisfied: beautifulsoup4 in c:\\users\\user\\appdata\\local\\programs\\python\\python310\\lib\\site-packages (from snscrape) (4.12.0)\n",
      "Requirement already satisfied: filelock in c:\\users\\user\\appdata\\local\\programs\\python\\python310\\lib\\site-packages (from snscrape) (3.10.0)\n",
      "Requirement already satisfied: soupsieve>1.2 in c:\\users\\user\\appdata\\local\\programs\\python\\python310\\lib\\site-packages (from beautifulsoup4->snscrape) (2.4)\n",
      "Requirement already satisfied: idna<4,>=2.5 in c:\\users\\user\\appdata\\local\\programs\\python\\python310\\lib\\site-packages (from requests[socks]->snscrape) (3.4)\n",
      "Requirement already satisfied: certifi>=2017.4.17 in c:\\users\\user\\appdata\\local\\programs\\python\\python310\\lib\\site-packages (from requests[socks]->snscrape) (2022.12.7)\n",
      "Requirement already satisfied: urllib3<1.27,>=1.21.1 in c:\\users\\user\\appdata\\local\\programs\\python\\python310\\lib\\site-packages (from requests[socks]->snscrape) (1.26.15)\n",
      "Requirement already satisfied: charset-normalizer<4,>=2 in c:\\users\\user\\appdata\\local\\programs\\python\\python310\\lib\\site-packages (from requests[socks]->snscrape) (3.1.0)\n",
      "Requirement already satisfied: PySocks!=1.5.7,>=1.5.6 in c:\\users\\user\\appdata\\local\\programs\\python\\python310\\lib\\site-packages (from requests[socks]->snscrape) (1.7.1)\n"
     ]
    },
    {
     "name": "stderr",
     "output_type": "stream",
     "text": [
      "\n",
      "[notice] A new release of pip available: 22.2.2 -> 23.0.1\n",
      "[notice] To update, run: python.exe -m pip install --upgrade pip\n"
     ]
    },
    {
     "name": "stdout",
     "output_type": "stream",
     "text": [
      "Collecting Counter\n",
      "  Using cached Counter-1.0.0.tar.gz (5.2 kB)\n",
      "  Preparing metadata (setup.py): started\n",
      "  Preparing metadata (setup.py): finished with status 'error'\n"
     ]
    },
    {
     "name": "stderr",
     "output_type": "stream",
     "text": [
      "  error: subprocess-exited-with-error\n",
      "  \n",
      "  × python setup.py egg_info did not run successfully.\n",
      "  │ exit code: 1\n",
      "  ╰─> [8 lines of output]\n",
      "      Traceback (most recent call last):\n",
      "        File \"<string>\", line 2, in <module>\n",
      "        File \"<pip-setuptools-caller>\", line 34, in <module>\n",
      "        File \"C:\\Users\\user\\AppData\\Local\\Temp\\pip-install-q8ot017k\\counter_9015f7e848cc495b9a098306e09ee40b\\setup.py\", line 32, in <module>\n",
      "          long_description=getLongDescription(),\n",
      "        File \"C:\\Users\\user\\AppData\\Local\\Temp\\pip-install-q8ot017k\\counter_9015f7e848cc495b9a098306e09ee40b\\setup.py\", line 13, in getLongDescription\n",
      "          for line in file:\n",
      "      UnicodeDecodeError: 'cp950' codec can't decode byte 0xe2 in position 2095: illegal multibyte sequence\n",
      "      [end of output]\n",
      "  \n",
      "  note: This error originates from a subprocess, and is likely not a problem with pip.\n",
      "error: metadata-generation-failed\n",
      "\n",
      "× Encountered error while generating package metadata.\n",
      "╰─> See above for output.\n",
      "\n",
      "note: This is an issue with the package mentioned above, not pip.\n",
      "hint: See above for details.\n",
      "\n",
      "[notice] A new release of pip available: 22.2.2 -> 23.0.1\n",
      "[notice] To update, run: python.exe -m pip install --upgrade pip\n"
     ]
    },
    {
     "name": "stdout",
     "output_type": "stream",
     "text": [
      "Requirement already satisfied: wheel in c:\\users\\user\\appdata\\local\\programs\\python\\python310\\lib\\site-packages (0.40.0)\n"
     ]
    },
    {
     "name": "stderr",
     "output_type": "stream",
     "text": [
      "\n",
      "[notice] A new release of pip available: 22.2.2 -> 23.0.1\n",
      "[notice] To update, run: python.exe -m pip install --upgrade pip\n"
     ]
    },
    {
     "name": "stdout",
     "output_type": "stream",
     "text": [
      "Requirement already satisfied: pandas in c:\\users\\user\\appdata\\local\\programs\\python\\python310\\lib\\site-packages (1.5.3)\n",
      "Requirement already satisfied: python-dateutil>=2.8.1 in c:\\users\\user\\appdata\\roaming\\python\\python310\\site-packages (from pandas) (2.8.2)\n",
      "Requirement already satisfied: pytz>=2020.1 in c:\\users\\user\\appdata\\local\\programs\\python\\python310\\lib\\site-packages (from pandas) (2022.7.1)\n",
      "Requirement already satisfied: numpy>=1.21.0 in c:\\users\\user\\appdata\\local\\programs\\python\\python310\\lib\\site-packages (from pandas) (1.23.3)\n",
      "Requirement already satisfied: six>=1.5 in c:\\users\\user\\appdata\\local\\programs\\python\\python310\\lib\\site-packages (from python-dateutil>=2.8.1->pandas) (1.16.0)\n"
     ]
    },
    {
     "name": "stderr",
     "output_type": "stream",
     "text": [
      "\n",
      "[notice] A new release of pip available: 22.2.2 -> 23.0.1\n",
      "[notice] To update, run: python.exe -m pip install --upgrade pip\n"
     ]
    }
   ],
   "source": [
    "!pip3 install git+https://github.com/JustAnotherArchivist/snscrape.git\n",
    "!pip install snscrape\n",
    "!pip install Counter\n",
    "!pip install wheel\n",
    "!pip install pandas"
   ]
  },
  {
   "cell_type": "code",
   "execution_count": 5,
   "metadata": {},
   "outputs": [],
   "source": [
    "import pickle\n",
    "import re\n",
    "import snscrape\n",
    "import pandas as pd\n",
    "import math\n",
    "from collections import Counter\n",
    "pd.set_option('display.width', 1000)\n",
    "pd.set_option('display.max_colwidth', 500)"
   ]
  },
  {
   "cell_type": "code",
   "execution_count": 6,
   "metadata": {},
   "outputs": [],
   "source": [
    "file = './tweet_230201-230228.pkl'\n",
    "\n",
    "with open(file, 'rb') as f:\n",
    "    tweets_dict = pickle.load(f)"
   ]
  },
  {
   "cell_type": "code",
   "execution_count": 13,
   "metadata": {},
   "outputs": [
    {
     "name": "stdout",
     "output_type": "stream",
     "text": [
      "Counter({'United States': 2865, 'India': 877, 'United Kingdom': 589, 'Canada': 321, 'Australia': 246, 'Pakistan': 209, 'Kenya': 111, 'Germany': 106, 'Spain': 102, 'Nigeria': 91, 'South Africa': 90, 'United Arab Emirates': 90, 'Singapore': 78, 'Malaysia': 67, 'The Netherlands': 62, 'France': 58, 'Brazil': 56, 'Italy': 49, 'Ireland': 48, 'New Zealand': 41, \"People's Republic of China\": 39, 'Indonesia': 39, 'Portugal': 38, 'Switzerland': 29, 'Bangladesh': 29, 'Republic of the Philippines': 29, 'Norway': 26, 'Sri Lanka': 25, 'Thailand': 24, 'Japan': 24, 'Uganda': 24, 'Belgium': 24, 'Hong Kong': 23, 'Sweden': 23, 'Finland': 22, 'Tanzania': 20, 'Republic of Korea': 20, 'Israel': 19, 'Denmark': 19, 'Taiwan': 18, 'Mexico': 18, 'Nepal': 17, 'Ghana': 17, 'Poland': 17, 'Kingdom of Saudi Arabia': 16, 'Costa Rica': 15, 'Turkey': 15, 'Argentina': 15, 'Zambia': 13, 'Ukraine': 13, 'Greece': 11, 'Lebanon': 11, 'Vietnam': 11, 'Republic of Croatia': 11, 'Russia': 10, 'Egypt': 10, 'Malawi': 9, 'Romania': 9, 'Hungary': 8, 'Bahrain': 8, 'Colombia': 8, 'Tunisia': 8, 'Austria': 7, 'Rwanda': 6, 'Qatar': 6, 'Morocco': 6, 'Jamaica': 6, 'Chile': 6, 'Uruguay': 5, 'Peru': 5, 'Dominican Republic': 5, 'Fiji': 5, 'Republic of Serbia': 4, 'Czech Republic': 4, 'Armenia': 4, 'Venezuela': 4, 'Cambodia': 4, 'Trinidad and Tobago': 4, 'Maldives': 4, 'Kuwait': 4, 'Malta': 4, 'Guatemala': 3, 'Andorra': 3, 'Ecuador': 3, 'Ivory Coast': 3, 'Bhutan': 3, 'Barbados': 3, 'Uzbekistan': 3, 'Estonia': 3, 'Botswana': 3, 'Namibia': 3, 'Zimbabwe': 3, 'Papua New Guinea': 3, 'Slovak Republic': 2, 'Luxembourg': 2, 'Lithuania': 2, 'Cyprus': 2, 'Mongolia': 2, 'Georgia': 2, 'Albania': 2, 'Panama': 2, 'Nicaragua': 2, 'South Sudan': 2, 'Algeria': 2, 'Honduras': 2, 'French Polynesia': 1, 'Guernsey': 1, 'Bahamas': 1, 'Seychelles': 1, 'Lesotho': 1, 'Iceland': 1, 'Democratic Republic of Congo': 1, 'Bolivia': 1, 'Iraq': 1, 'Afghanistan': 1, 'Djibouti': 1, 'Angola': 1, 'Burundi': 1, 'Oman': 1, 'Kazakhstan': 1, 'Senegal': 1, 'El Salvador': 1, 'Bermuda': 1, 'Ethiopia': 1, 'Yemen': 1, 'Curaçao': 1, 'Former Yugoslav Republic of Macedonia': 1, 'Benin': 1, 'East Timor': 1})\n",
      "Counter({'US': 2865, 'IN': 877, 'GB': 589, 'CA': 321, 'AU': 246, 'PK': 209, 'KE': 111, 'DE': 106, 'ES': 102, 'NG': 91, 'ZA': 90, 'AE': 90, 'SG': 78, 'MY': 67, 'NL': 62, 'FR': 58, 'BR': 56, 'IT': 49, 'IE': 48, 'NZ': 41, 'CN': 39, 'ID': 39, 'PT': 38, 'CH': 29, 'BD': 29, 'PH': 29, 'NO': 26, 'LK': 25, 'TH': 24, 'JP': 24, 'UG': 24, 'BE': 24, 'HK': 23, 'SE': 23, 'FI': 22, 'TZ': 20, 'KR': 20, 'IL': 19, 'DK': 19, 'TW': 18, 'MX': 18, 'NP': 17, 'GH': 17, 'PL': 17, 'SA': 16, 'CR': 15, 'TR': 15, 'AR': 15, 'ZM': 13, 'UA': 13, 'GR': 11, 'LB': 11, 'VN': 11, 'HR': 11, 'RU': 10, 'EG': 10, 'MW': 9, 'RO': 9, 'HU': 8, 'BH': 8, 'CO': 8, 'TN': 8, 'AT': 7, 'RW': 6, 'QA': 6, 'MA': 6, 'JM': 6, 'CL': 6, 'UY': 5, 'PE': 5, 'DO': 5, 'FJ': 5, 'RS': 4, 'CZ': 4, 'AM': 4, 'VE': 4, 'KH': 4, 'TT': 4, 'MV': 4, 'KW': 4, 'MT': 4, 'GT': 3, 'AD': 3, 'EC': 3, 'CI': 3, 'BT': 3, 'BB': 3, 'UZ': 3, 'EE': 3, 'BW': 3, 'NA': 3, 'ZW': 3, 'PG': 3, 'SK': 2, 'LU': 2, 'LT': 2, 'CY': 2, 'MN': 2, 'GE': 2, 'AL': 2, 'PA': 2, 'NI': 2, '': 2, 'DZ': 2, 'HN': 2, 'PF': 1, 'GG': 1, 'BS': 1, 'SC': 1, 'LS': 1, 'IS': 1, 'CD': 1, 'BO': 1, 'IQ': 1, 'AF': 1, 'DJ': 1, 'AO': 1, 'BI': 1, 'OM': 1, 'KZ': 1, 'SN': 1, 'SV': 1, 'BM': 1, 'ET': 1, 'YE': 1, 'CW': 1, 'MK': 1, 'BJ': 1, 'TL': 1})\n"
     ]
    }
   ],
   "source": [
    "country_list = []\n",
    "countryCode_list = []\n",
    "for tid, tweet in tweets_dict.items():\n",
    "  if tweet.place:\n",
    "    country_list.append(tweet.place.country)\n",
    "    countryCode_list.append(tweet.place.countryCode)\n",
    "\n",
    "country_counter = Counter(country_list)\n",
    "countryCode_counter = Counter(countryCode_list)\n",
    "print(country_counter)\n",
    "print(countryCode_counter)"
   ]
  },
  {
   "cell_type": "code",
   "execution_count": 8,
   "metadata": {},
   "outputs": [],
   "source": [
    "# remove occurance of r in s, mainly for removing '\\n'\n",
    "def removeAll(s: str, r: str) -> str:\n",
    "    while r in s:\n",
    "        s = s.replace(r, ' ')\n",
    "    return s"
   ]
  },
  {
   "cell_type": "code",
   "execution_count": 9,
   "metadata": {},
   "outputs": [],
   "source": [
    "#Example of tweets_dict's item'\n",
    "# {1630357108662075402: Tweet(url='https://twitter.com/MeEmpratoor/status/1630357108662075402', date=datetime.datetime(2023, 2, 27, 23, 59, 59, tzinfo=datetime.timezone.utc), rawContent='@themarcusramsey Learn chatGPT guys for everything.', renderedContent='@themarcusramsey Learn chatGPT guys for everything.', id=1630357108662075402, user=User(username='MeEmpratoor', id=1438758246995611648, displayname='THE YOUNG ENTREPRENEUR', rawDescription='ENTREPRENEUR AND WOLRD WIDE BUSINESSMAN, IS AN UNKNOWN  FUTURE BILLIONAIRE.', renderedDescription='ENTREPRENEUR AND WOLRD WIDE BUSINESSMAN, IS AN UNKNOWN  FUTURE BILLIONAIRE.', descriptionLinks=None, verified=False, created=datetime.datetime(2021, 9, 17, 6, 54, 53, tzinfo=datetime.timezone.utc), followersCount=38, friendsCount=474, statusesCount=23, favouritesCount=55, listedCount=4, mediaCount=2, location='', protected=False, link=None, profileImageUrl='https://pbs.twimg.com/profile_images/1538779124789133313/w8HEw9OJ_normal.jpg', profileBannerUrl='https://pbs.twimg.com/profile_banners/1438758246995611648/1655708645', label=None), replyCount=0, retweetCount=0, likeCount=0, quoteCount=0, conversationId=1630222704191176704, lang='en', source='<a href=\"http://twitter.com/download/android\" rel=\"nofollow\">Twitter for Android</a>', sourceUrl='http://twitter.com/download/android', sourceLabel='Twitter for Android', links=None, media=None, retweetedTweet=None, quotedTweet=None, inReplyToTweetId=1630222704191176704, inReplyToUser=User(username='themarcusramsey', id=89173194, displayname='Marcus Ramsey', rawDescription=None, renderedDescription=None, descriptionLinks=None, verified=None, created=None, followersCount=None, friendsCount=None, statusesCount=None, favouritesCount=None, listedCount=None, mediaCount=None, location=None, protected=None, link=None, profileImageUrl=None, profileBannerUrl=None, label=None), mentionedUsers=[User(username='themarcusramsey', id=89173194, displayname='Marcus Ramsey', rawDescription=None, renderedDescription=None, descriptionLinks=None, verified=None, created=None, followersCount=None, friendsCount=None, statusesCount=None, favouritesCount=None, listedCount=None, mediaCount=None, location=None, protected=None, link=None, profileImageUrl=None, profileBannerUrl=None, label=None)], coordinates=None, place=None, hashtags=None, cashtags=None, card=None, viewCount=23, vibe=None),"
   ]
  },
  {
   "cell_type": "code",
   "execution_count": 10,
   "metadata": {},
   "outputs": [],
   "source": [
    "arr = []\n",
    "df_column = ['tid', 'rawContent', 'renderedContent', 'date', 'longitude', 'latitude', 'country', 'countryCode', 'viewCount', 'viewCount_log', 'likeCount', 'likeCount_log']\n",
    "\n",
    "for tid, tweet in tweets_dict.items():\n",
    "  if tweet.coordinates:\n",
    "    rawContent = removeAll(tweet.rawContent, '\\n')\n",
    "    renderedContent = removeAll(tweet.renderedContent, '\\n')\n",
    "    date = tweet.date\n",
    "    longitude = tweet.coordinates.longitude\n",
    "    latitude = tweet.coordinates.latitude\n",
    "    country = tweet.place.country\n",
    "    countryCode = tweet.place.countryCode\n",
    "    viewCount = tweet.viewCount if tweet.viewCount else 0\n",
    "    viewCount_log = math.log(viewCount+1)\n",
    "    likeCount = tweet.likeCount if tweet.likeCount else 0\n",
    "    likeCount_log = math.log(likeCount+1)\n",
    "    arr.append((tid, rawContent, renderedContent, date, longitude, latitude, country, countryCode, viewCount, viewCount_log, likeCount, likeCount_log))\n",
    "\n",
    "df = pd.DataFrame(arr, columns=[df_column])\n"
   ]
  },
  {
   "cell_type": "code",
   "execution_count": 12,
   "metadata": {},
   "outputs": [
    {
     "data": {
      "text/html": [
       "<div>\n",
       "<style scoped>\n",
       "    .dataframe tbody tr th:only-of-type {\n",
       "        vertical-align: middle;\n",
       "    }\n",
       "\n",
       "    .dataframe tbody tr th {\n",
       "        vertical-align: top;\n",
       "    }\n",
       "\n",
       "    .dataframe thead tr th {\n",
       "        text-align: left;\n",
       "    }\n",
       "</style>\n",
       "<table border=\"1\" class=\"dataframe\">\n",
       "  <thead>\n",
       "    <tr>\n",
       "      <th></th>\n",
       "      <th>tid</th>\n",
       "      <th>rawContent</th>\n",
       "      <th>renderedContent</th>\n",
       "      <th>date</th>\n",
       "      <th>longitude</th>\n",
       "      <th>latitude</th>\n",
       "      <th>country</th>\n",
       "      <th>countryCode</th>\n",
       "      <th>viewCount</th>\n",
       "      <th>viewCount_log</th>\n",
       "      <th>likeCount</th>\n",
       "      <th>likeCount_log</th>\n",
       "    </tr>\n",
       "  </thead>\n",
       "  <tbody>\n",
       "    <tr>\n",
       "      <th>0</th>\n",
       "      <td>1630356382619774976</td>\n",
       "      <td>@alexcowan2 I say \"no\" out of concern fod a student because I don't think ChatGPT is nearly as useful at leading you the right answer as a calculator</td>\n",
       "      <td>@alexcowan2 I say \"no\" out of concern fod a student because I don't think ChatGPT is nearly as useful at leading you the right answer as a calculator</td>\n",
       "      <td>2023-02-27 23:57:06+00:00</td>\n",
       "      <td>-83.661476</td>\n",
       "      <td>42.165629</td>\n",
       "      <td>United States</td>\n",
       "      <td>US</td>\n",
       "      <td>118</td>\n",
       "      <td>4.779123</td>\n",
       "      <td>1</td>\n",
       "      <td>0.693147</td>\n",
       "    </tr>\n",
       "    <tr>\n",
       "      <th>1</th>\n",
       "      <td>1630350444638658560</td>\n",
       "      <td>ChatGPT Vs Google's Bard #MachineLearning #DataScience #SQL #Cybersecurity #BigData #Analytics #AI #IIoT #Python #RStats #TensorFlow #JavaScript #ReactJS #CloudComputing #Serverless #DataScientist #Linux #Programming #Coding #100DaysofCode #NodeJS #NLP #GitHub #IoT #MLOps #AWS https://t.co/vKqORaRuyi</td>\n",
       "      <td>ChatGPT Vs Google's Bard #MachineLearning #DataScience #SQL #Cybersecurity #BigData #Analytics #AI #IIoT #Python #RStats #TensorFlow #JavaScript #ReactJS #CloudComputing #Serverless #DataScientist #Linux #Programming #Coding #100DaysofCode #NodeJS #NLP #GitHub #IoT #MLOps #AWS https://t.co/vKqORaRuyi</td>\n",
       "      <td>2023-02-27 23:33:31+00:00</td>\n",
       "      <td>-48.285982</td>\n",
       "      <td>-16.052405</td>\n",
       "      <td>Brazil</td>\n",
       "      <td>BR</td>\n",
       "      <td>592</td>\n",
       "      <td>6.385194</td>\n",
       "      <td>15</td>\n",
       "      <td>2.772589</td>\n",
       "    </tr>\n",
       "    <tr>\n",
       "      <th>2</th>\n",
       "      <td>1630350076135583744</td>\n",
       "      <td>@ShaanVP We built this on OpenAI in a weekend and it’s landed multiple deals + 1000 new newsletter subs. I got the prompts mastered by just going back and forth with chatgpt.  https://t.co/zpzfYOcqgb</td>\n",
       "      <td>@ShaanVP We built this on OpenAI in a weekend and it’s landed multiple deals + 1000 new newsletter subs. I got the prompts mastered by just going back and forth with chatgpt.  useslingshot.com/swagai</td>\n",
       "      <td>2023-02-27 23:32:03+00:00</td>\n",
       "      <td>-84.703558</td>\n",
       "      <td>34.027400</td>\n",
       "      <td>United States</td>\n",
       "      <td>US</td>\n",
       "      <td>128</td>\n",
       "      <td>4.859812</td>\n",
       "      <td>0</td>\n",
       "      <td>0.000000</td>\n",
       "    </tr>\n",
       "    <tr>\n",
       "      <th>3</th>\n",
       "      <td>1630347687894679553</td>\n",
       "      <td>Who else has gone onto Chat GPT and asked it to write a story as you, your author self? 🖐️ #chatbot #ChatGPT #AI #WritingCommmunity</td>\n",
       "      <td>Who else has gone onto Chat GPT and asked it to write a story as you, your author self? 🖐️ #chatbot #ChatGPT #AI #WritingCommmunity</td>\n",
       "      <td>2023-02-27 23:22:33+00:00</td>\n",
       "      <td>-84.483582</td>\n",
       "      <td>42.517086</td>\n",
       "      <td>United States</td>\n",
       "      <td>US</td>\n",
       "      <td>102</td>\n",
       "      <td>4.634729</td>\n",
       "      <td>2</td>\n",
       "      <td>1.098612</td>\n",
       "    </tr>\n",
       "    <tr>\n",
       "      <th>4</th>\n",
       "      <td>1630343634599002115</td>\n",
       "      <td>Do you think ChatGPT’s AI could come up with as many ways to almost die as @shwood?</td>\n",
       "      <td>Do you think ChatGPT’s AI could come up with as many ways to almost die as @shwood?</td>\n",
       "      <td>2023-02-27 23:06:27+00:00</td>\n",
       "      <td>-97.928935</td>\n",
       "      <td>30.127892</td>\n",
       "      <td>United States</td>\n",
       "      <td>US</td>\n",
       "      <td>1890</td>\n",
       "      <td>7.544861</td>\n",
       "      <td>1</td>\n",
       "      <td>0.693147</td>\n",
       "    </tr>\n",
       "  </tbody>\n",
       "</table>\n",
       "</div>"
      ],
      "text/plain": [
       "                   tid                                                                                                                                                                                                                                                                                                     rawContent                                                                                                                                                                                                                                                                                                renderedContent                      date  longitude   latitude        country countryCode viewCount viewCount_log likeCount likeCount_log\n",
       "0  1630356382619774976                                                                                                                                                          @alexcowan2 I say \"no\" out of concern fod a student because I don't think ChatGPT is nearly as useful at leading you the right answer as a calculator                                                                                                                                                          @alexcowan2 I say \"no\" out of concern fod a student because I don't think ChatGPT is nearly as useful at leading you the right answer as a calculator 2023-02-27 23:57:06+00:00 -83.661476  42.165629  United States          US       118      4.779123         1      0.693147\n",
       "1  1630350444638658560  ChatGPT Vs Google's Bard #MachineLearning #DataScience #SQL #Cybersecurity #BigData #Analytics #AI #IIoT #Python #RStats #TensorFlow #JavaScript #ReactJS #CloudComputing #Serverless #DataScientist #Linux #Programming #Coding #100DaysofCode #NodeJS #NLP #GitHub #IoT #MLOps #AWS https://t.co/vKqORaRuyi  ChatGPT Vs Google's Bard #MachineLearning #DataScience #SQL #Cybersecurity #BigData #Analytics #AI #IIoT #Python #RStats #TensorFlow #JavaScript #ReactJS #CloudComputing #Serverless #DataScientist #Linux #Programming #Coding #100DaysofCode #NodeJS #NLP #GitHub #IoT #MLOps #AWS https://t.co/vKqORaRuyi 2023-02-27 23:33:31+00:00 -48.285982 -16.052405         Brazil          BR       592      6.385194        15      2.772589\n",
       "2  1630350076135583744                                                                                                        @ShaanVP We built this on OpenAI in a weekend and it’s landed multiple deals + 1000 new newsletter subs. I got the prompts mastered by just going back and forth with chatgpt.  https://t.co/zpzfYOcqgb                                                                                                        @ShaanVP We built this on OpenAI in a weekend and it’s landed multiple deals + 1000 new newsletter subs. I got the prompts mastered by just going back and forth with chatgpt.  useslingshot.com/swagai 2023-02-27 23:32:03+00:00 -84.703558  34.027400  United States          US       128      4.859812         0      0.000000\n",
       "3  1630347687894679553                                                                                                                                                                            Who else has gone onto Chat GPT and asked it to write a story as you, your author self? 🖐️ #chatbot #ChatGPT #AI #WritingCommmunity                                                                                                                                                                            Who else has gone onto Chat GPT and asked it to write a story as you, your author self? 🖐️ #chatbot #ChatGPT #AI #WritingCommmunity 2023-02-27 23:22:33+00:00 -84.483582  42.517086  United States          US       102      4.634729         2      1.098612\n",
       "4  1630343634599002115                                                                                                                                                                                                                            Do you think ChatGPT’s AI could come up with as many ways to almost die as @shwood?                                                                                                                                                                                                                            Do you think ChatGPT’s AI could come up with as many ways to almost die as @shwood? 2023-02-27 23:06:27+00:00 -97.928935  30.127892  United States          US      1890      7.544861         1      0.693147"
      ]
     },
     "execution_count": 12,
     "metadata": {},
     "output_type": "execute_result"
    }
   ],
   "source": [
    "df.head()"
   ]
  },
  {
   "cell_type": "code",
   "execution_count": 104,
   "metadata": {},
   "outputs": [],
   "source": [
    "df.to_csv(re.sub('.pkl$', '.csv', file))"
   ]
  }
 ],
 "metadata": {
  "kernelspec": {
   "display_name": "Python 3.10.7 64-bit",
   "language": "python",
   "name": "python3"
  },
  "language_info": {
   "codemirror_mode": {
    "name": "ipython",
    "version": 3
   },
   "file_extension": ".py",
   "mimetype": "text/x-python",
   "name": "python",
   "nbconvert_exporter": "python",
   "pygments_lexer": "ipython3",
   "version": "3.10.7"
  },
  "orig_nbformat": 4,
  "vscode": {
   "interpreter": {
    "hash": "fb4569285eef3a3450cb62085a5b1e0da4bce0af555edc33dcf29baf3acc1368"
   }
  }
 },
 "nbformat": 4,
 "nbformat_minor": 2
}
