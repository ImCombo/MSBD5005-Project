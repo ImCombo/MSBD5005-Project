{
  "cells": [
    {
      "cell_type": "code",
      "execution_count": 1,
      "metadata": {
        "colab": {
          "base_uri": "https://localhost:8080/"
        },
        "id": "JCj9zSdPlgJU",
        "outputId": "a41b1ecd-102f-441d-94ef-23da82ddf2c8"
      },
      "outputs": [
        {
          "name": "stdout",
          "output_type": "stream",
          "text": [
            "Mounted at /content/gdrive\n"
          ]
        }
      ],
      "source": [
        "from google.colab import drive\n",
        "drive.mount('/content/gdrive')"
      ]
    },
    {
      "cell_type": "code",
      "execution_count": 2,
      "metadata": {
        "colab": {
          "base_uri": "https://localhost:8080/"
        },
        "id": "9OQTAh8imwlE",
        "outputId": "b6173da8-746b-4e1f-931f-42637a0b7554"
      },
      "outputs": [
        {
          "name": "stdout",
          "output_type": "stream",
          "text": [
            "Looking in indexes: https://pypi.org/simple, https://us-python.pkg.dev/colab-wheels/public/simple/\n",
            "Collecting git+https://github.com/JustAnotherArchivist/snscrape.git\n",
            "  Cloning https://github.com/JustAnotherArchivist/snscrape.git to /tmp/pip-req-build-cxy6zrq0\n",
            "  Running command git clone --filter=blob:none --quiet https://github.com/JustAnotherArchivist/snscrape.git /tmp/pip-req-build-cxy6zrq0\n",
            "  Resolved https://github.com/JustAnotherArchivist/snscrape.git to commit 99050710d78b22b5c605b08d85c1513d9db44323\n",
            "  Installing build dependencies ... \u001b[?25l\u001b[?25hdone\n",
            "  Getting requirements to build wheel ... \u001b[?25l\u001b[?25hdone\n",
            "  Installing backend dependencies ... \u001b[?25l\u001b[?25hdone\n",
            "  Preparing metadata (pyproject.toml) ... \u001b[?25l\u001b[?25hdone\n"
          ]
        }
      ],
      "source": [
        "!pip3 install git+https://github.com/JustAnotherArchivist/snscrape.git\n",
        "!pip install snscrape"
      ]
    },
    {
      "cell_type": "code",
      "execution_count": 3,
      "metadata": {
        "id": "UYVkpZ8Fv_2e"
      },
      "outputs": [],
      "source": [
        "# Tweet object attributes\n",
        "# Index(['card', 'cashtags', 'content', 'conversationId', 'coordinates', 'date',\n",
        "#        'hashtags', 'id', 'inReplyToTweetId', 'inReplyToUser', 'json', 'lang',\n",
        "#        'likeCount', 'links', 'media', 'mentionedUsers', 'outlinks',\n",
        "#        'outlinksss', 'place', 'quoteCount', 'quotedTweet', 'rawContent',\n",
        "#        'renderedContent', 'replyCount', 'retweetCount', 'retweetedTweet',\n",
        "#        'source', 'sourceLabel', 'sourceUrl', 'tcooutlinks', 'tcooutlinksss',\n",
        "#        'url', 'user', 'username', 'vibe', 'viewCount'],\n",
        "#       dtype='object')"
      ]
    },
    {
      "cell_type": "code",
      "execution_count": 4,
      "metadata": {
        "colab": {
          "base_uri": "https://localhost:8080/"
        },
        "id": "uztWhmZ3n7af",
        "outputId": "5ce164c8-c63e-4637-a05d-5b243d0cc7a9"
      },
      "outputs": [
        {
          "name": "stdout",
          "output_type": "stream",
          "text": [
            "Actual number of scrapped tweet: 100\n"
          ]
        }
      ],
      "source": [
        "import snscrape.modules.twitter as sntwitter\n",
        "import pandas as pd\n",
        "\n",
        "# change the values after since and until in query\n",
        "query = '(chatgpt OR #chatgpt) AND lang:en AND since:2023-03-02 AND until:2023-03-03'\n",
        "max_count = 100\n",
        "\n",
        "tweets_dict = {}\n",
        "for i, tweet in enumerate(sntwitter.TwitterSearchScraper(query).get_items()):\n",
        "  if ((i + 1) % 100) == 0:\n",
        "    print('count: ', i + 1)\n",
        "  # countryCode = tweet.place.countryCode if tweet.place is not None else None\n",
        "  if i + 1 > max_count:\n",
        "      break\n",
        "  tweets_dict[tweet.id] = tweet\n",
        "print(f'Actual number of scrapped tweet: {len(tweets_dict)}')\n",
        "\n",
        "# Store using pickle\n",
        "import pickle\n",
        "with open('tweet.pkl', 'wb') as f:\n",
        "  pickle.dump(tweets_dict, f)\n",
        "\n",
        "# Creating a dataframe from the tweets list above\n",
        "# tweets_df = pd.DataFrame(tweets_list, columns=['datetime', 'id', 'content', 'countryCode'])\n",
        "# tweets_df.head()\n",
        "# tweets_df.to_csv('tweet_chatgpt.csv')"
      ]
    },
    {
      "cell_type": "code",
      "execution_count": 12,
      "metadata": {
        "id": "sXyM8UxTmtX9"
      },
      "outputs": [
        {
          "name": "stdout",
          "output_type": "stream",
          "text": [
            "I just put all my journals inside chatGPT API and let him play the role of a Lacanian Psychoanalyst and I'm about to cry 🥲 7 2 0 https://twitter.com/amphetamarina\n",
            "@SethMan31 It turns out that ChatGPT started with 11, and then determined the only way to make that squad better was to bench one player. 0 0 0 https://twitter.com/willathome\n",
            "gpt-3.5-turbo powering ChatGPT is available  @tristwolff https://t.co/fohHyWWm52 4 0 0 https://twitter.com/sujamthe\n",
            "Apple Blocks Update of ChatGPT-Powered App, as Concerns Grow Over AI's Potential Harm - WSJ https://t.co/wWBlTXjbBC 0 0 0 https://twitter.com/ChosenLady07\n",
            "@JebSMiller @stevenmarkryan Or at least that \"security / protection\" layer between you and the real ChatGPT. 1 0 0 https://twitter.com/JohnAnth61\n",
            "ChatGPT for Data Science Cheat Sheet #BigData via https://t.co/u14WxAYdRI https://t.co/IBYHk9fHfa 0 0 0 https://twitter.com/Lucian2drei\n",
            "@_FleerUltra @ballsstrikes @jaywillis What if I have ChatGPT write blog post after blog post insulting DeSantis? Would they have to arrest ChatGPT? Would this confer personhood on chatbots? 0 1 0 https://twitter.com/brutusbelfast\n",
            "trying to use stable diffusion prompts with ChatGPT https://t.co/2m2YDeoc5s 0 0 0 https://twitter.com/nnotm\n",
            "@NickJRishwain I'll share what ChatGPT found. But I want to hear from the humans first. 2 1 0 https://twitter.com/inspiredcat\n",
            "I love #ChatGPT 0 0 0 https://twitter.com/judith_oo\n",
            "GitHub Copilot + ChatGPT makes anyone a 5-10x more efficient programmer. 2 0 0 https://twitter.com/JunaidAckroyd\n",
            "#Tech \n",
            "...if you think ChatGPT is offensive now, just wait 'til it gets a hold of them launch codes.\n",
            "\n",
            "🤖🚀🗯️ \"I'm saving you all from yourselves.\"\n",
            "\n",
            "😉✌️ 0 0 0 https://twitter.com/bluebay700\n",
            "is there a list of all the chatGPT wrapper startups out there? 0 0 0 https://twitter.com/deepdrpt\n",
            "Wondering... How are ESL teachers using ChatGPT?\n",
            "\n",
            "///\n",
            "Interesting chat of ideas on efficiency in general @ProductHunt \n",
            "\n",
            "https://t.co/cKkGJKMyUE 2 0 0 https://twitter.com/UX_EdTech\n",
            "The only problem with traditional tools versus Ai like ChatGPT, is that a recent court ruling declared that art made with these specific Ai services cannot be copyrighted.\n",
            "\n",
            "This sets a precedent that eventually will be used to challenge copyrighted sound.\n",
            "\n",
            "https://t.co/8fXplykATE 1 0 0 https://twitter.com/ghosted_sound\n",
            "Using #ChatGPT for legal research. It’s quoting cases that don’t exist lol! 3 3 0 https://twitter.com/theJoeShmow\n",
            "ChatGPT's infamous \"As an AI language model I can't do that\" spiel appears to be natively intergrated within the model itself and not a special filter. But since the ChatGPT API allows access to the AI's rules... https://t.co/G5dkRfGP4X 409 12 43 https://twitter.com/minimaxir\n",
            "With ChatGPT now available in the API we can introduce “chose your own adventure” style stories 🫣 14 2 0 https://twitter.com/LinusEkenstam\n",
            "Sharing ChatGPT prompts is a sign of love. 3 0 1 https://twitter.com/guesswho750\n",
            "🤖 Thousands and thousands of ChatGPT Prompts to make your business explode this year🔥 #ChatGPT #brand #socialmediamarketing #MarketingDigital https://t.co/aG0O2O9G3B 0 0 0 https://twitter.com/tryasker\n",
            "@TheAutistocrat @ThruTheHayes @NoahRevoy @Lord__Sousa @johnslygore @MartianHoplite @bryanbrey @LukeWeinhagen @Turbo_Flux @InTruthVictori1 @Psyche_OS The rest of this thread will be ChatGPT tearing apart anything I missed 0 1 0 https://twitter.com/TyrantsMuse\n",
            "i ❤️ chatgpt 1 0 0 https://twitter.com/feeldifficult\n",
            "@SashaVining This sounds like a limitation of the tool and if it's a query issue, then maybe there's a market for ChatGPT user training. 1 1 0 https://twitter.com/cindycblack\n",
            "You have been warned. Why ChatGPT should be considered a malevolent AI – and be destroyed https://t.co/aC0Kqj094B 3 2 0 https://twitter.com/NickdMiller\n",
            "@CryptoGPT_org Is this a new competitor to #chatgpt? 0 0 0 https://twitter.com/RealMatureee\n",
            "(And to be clear, Alexander is very much alive. ChatGPT didn't just tell him he was dead, it told others as well. What if his family saw that response?) 10 0 2 https://twitter.com/TheRegister\n",
            "You can now connect your app with the #OpenAI API, integrate #ChatGPT and Whisper models into your program and build your apps around them.\n",
            "\n",
            "https://t.co/kPY2kvHUu2\n",
            "\n",
            "(Via Hackernews) https://t.co/TMHbUixL7J 1 0 0 https://twitter.com/cyoon_dev\n",
            "@teachforreach22 @litecoin_bull @Marval32562 Now that's funny - also disturbing. Digital Boost, an online marketing platform used by businesses in New Zealand to help upgrade their digital use, has started promoting ChatGPT. Ha! Ha! I might set the cat among the pigeons. 4 0 0 https://twitter.com/DestinyAngel25\n",
            "Most US states have an official state cookie!\n",
            "\n",
            "#ChatGPT 0 0 0 https://twitter.com/Ben_Ccarter\n",
            "Wen ChatGPT for @gmail? 3 1 1 https://twitter.com/tpae\n",
            "@QAInsights @tejas3732 @JimmyDannison @DrJimFan You're running chatgpt locally? 1 1 0 https://twitter.com/Pandurevich\n",
            "@sama 👏 Good to have this transparency and to know that data from openAPI API is not used to retrain. Im guessing this also applies to ChatGPT public usage? A question that has come up a lot… 1 0 0 https://twitter.com/ThisIsMarkPaul\n",
            "New features, workspaces (which have been rumored), customizations (which seems obvious), enterprise tiers would only increase that estimate. \n",
            "\n",
            "$1B ARR by EOY 2023 is entirely possible for just ChatGPT alone. 9 1 0 https://twitter.com/alliekmiller\n",
            "7. Translate text.\n",
            "8. Create multiple-choice questions. \n",
            "9. Get assistance with your travel plans. \n",
            "10. Analyze sentiment and tone.\n",
            "11. Find data sets.\n",
            "12. Train ChatGPT on your own data.\n",
            "13. Advance in your career. \n",
            "14. Write new songs. 0 0 0 https://twitter.com/yukitaylor00\n",
            "My best guess is that ChatGPT has over 100M users and hundreds of thousands of paying customers. \n",
            "\n",
            "Let’s say 500k paying. $20/mo. That’s $10M a month. $120M ARR. \n",
            "\n",
            "I’d guess they pass $500M ARR on ChatGPT alone by EOY. 38 6 7 https://twitter.com/alliekmiller\n",
            "The Best Examples Of What You Can Do With ChatGPT\n",
            "1. Generate ideas and brainstorm.\n",
            "2. Get personalized recommendations. \n",
            "3. Understand complicated topics.\n",
            "4. Bring in a writing assistant. \n",
            "5. Summarize the latest research.\n",
            "6. Get assistance with coding and debugging. 0 1 0 https://twitter.com/yukitaylor00\n",
            "@sama Intelligent and unique Sam expertise, because you think differently so we expect to your surprise developed a hot AI model of chatGPT, the educates try to use it practical how to design teaching processes how to expand the OpenAI contribution in the tech-Ed 0 0 0 https://twitter.com/monicaho37\n",
            "There are many things ChatGPT can't do. These are 3 ways to trick the model @NickMHobson https://t.co/iW0y8jBM5i 4 1 4 https://twitter.com/Inc\n",
            "ChatGPT earlier told @alexanderhanff he died in 2019, and it tried to fake a Guardian obit to double down on the lie.\n",
            "\n",
            "That's ridiculous enough but consider if an AI like this was used to check job applicants or similar.\n",
            "\n",
            "Sorry, no, the computer says you're dead. Rejected. 🧵 56 1 25 https://twitter.com/TheRegister\n",
            "Looking for some inspiration from my talented followers! What are you all working on with the latest #chatgpt 3.5 API? Share your ideas and let's push the boundaries of artificial intelligence together. 🔥🤖💻 #AI #tech #OpenAI 2 2 1 https://twitter.com/brilliantvision\n",
            "@JosephRyanRies I've wanted it to exist but I've found that most text editors strain under the monumental size of some logs, vi, notepad++, etc. Maybe it'd be great to throw chatgpt at it? 0 1 0 https://twitter.com/Stanto\n",
            "#ChatGPT  and the like will save time, making it quicker to produce fluent text, but also waste vast amounts of time by multiplying our exposure to useless text made of slightly inaccurate platitudes. Will be interesting to see whether the eventual balance is positive or negative 3 1 0 https://twitter.com/logicMachines\n",
            "@bensauer Already making the switch, using ChatGPT to build the interface 1 0 0 https://twitter.com/keithgrimes\n",
            "chatgpt bot was a great idea https://t.co/5IBOgt6i7K 0 0 0 https://twitter.com/spuhghetti\n",
            "@MentorWebDev ChatGPT 0 0 0 https://twitter.com/cybersphere_ai\n",
            "ChatGPT on UAPs and Physics by John Merryman #ufotwitter https://t.co/sl41uZGVrT 0 0 0 https://twitter.com/UniaoTricolorBa\n",
            "Idk ab this one #ChatGPT @Grimezsz https://t.co/DDMcY6xYJR 1 0 0 https://twitter.com/k_isprettyodd\n",
            "The resume of #CarolineKennedy, made with AI ChatGPT is simply amazing! #ChatGPT has worked wonders in creating a compelling resume. Click on the link to see it for yourself: https://t.co/3lG4uOiy44 https://t.co/Xht1kDDOnE 0 0 0 https://twitter.com/Enhancv\n",
            "@ChatGPT_Optimus this is insane 0 0 0 https://twitter.com/TopdowgTrey\n",
            "ChatGPT proves we’re still ok: https://t.co/IQdDrtjP8g 130 5 6 https://twitter.com/ChatGPTGoneWild\n",
            "@ChatGPT_Optimus I LOVE YOU GUYS SOOO MUCH WTFFFF ARE U DOING 0 0 0 https://twitter.com/Nickross420\n",
            "@ChatGPT_Optimus Dammmmn 0 0 0 https://twitter.com/rp2578\n",
            "@ChatGPT_Optimus fire 0 0 0 https://twitter.com/yayalu49\n",
            "@ChatGPT_Optimus Finally a good addition 1 0 0 https://twitter.com/MiloLightside\n",
            "@ChatGPT_Optimus okay cool 0 0 0 https://twitter.com/VengencezGaming\n",
            "@ChatGPT_Optimus Fucking Jaw Dropping Tease. 0 0 0 https://twitter.com/coetzee_cj\n",
            "@ChatGPT_Optimus Oh my god 1 0 0 https://twitter.com/ceeflowers1\n",
            "@ChatGPT_Optimus Is that a optimus 0 0 0 https://twitter.com/saribiri\n",
            "ChatGPT API: Cheaper, Faster, Wordier https://t.co/MN0syPxg0z 0 0 0 https://twitter.com/SirCelli\n",
            "@ChatGPT_Optimus OptimusSSSSSSSSSSS 0 0 0 https://twitter.com/id072503\n",
            "The Dark Side of #ChatGPT https://t.co/FRyRusYZnA 0 0 0 https://twitter.com/epochtimestoday\n",
            "@ChatGPT_Optimus I already knew this 0 0 0 https://twitter.com/priscilagai10\n",
            "@ChatGPT_Optimus Are they based on our DNA or random? 1 0 0 https://twitter.com/hockalenko\n",
            "@ChatGPT_Optimus okay but how does this affect cristiano legacy 2 0 0 https://twitter.com/PrettyRareChick\n",
            "@ChatGPT_Optimus Got one lol 0 0 0 https://twitter.com/dpsmith007\n",
            "@ChatGPT_Optimus Brooooooooo wtf 0 0 0 https://twitter.com/nekojewel\n",
            "@ChatGPT_Optimus This looks insane!!!! 0 0 0 https://twitter.com/George_hampton\n",
            "@ChatGPT_Optimus OMFG 0 0 0 https://twitter.com/Misato914\n",
            "@ChatGPT_Optimus noice 0 0 0 https://twitter.com/BlameDaBlackKid\n",
            "@ChatGPT_Optimus nobody asked 0 0 0 https://twitter.com/erikstaystackin\n",
            "@ChatGPT_Optimus ratio 0 0 0 https://twitter.com/gyk830113\n",
            "@ChatGPT_Optimus twitter and crypto merging is the best thing thats happened this year tbh 1 0 0 https://twitter.com/grannycoco\n",
            "@ChatGPT_Optimus Twitter just broke 0 0 0 https://twitter.com/reimer_craig\n",
            "@ChatGPT_Optimus wow thx 1 0 0 https://twitter.com/Natalia8Ochoa\n",
            "@ChatGPT_Optimus companions... 0 0 0 https://twitter.com/NikoParty94\n",
            "@ChatGPT_Optimus Tagged the wrong Sean LOLLL 0 0 0 https://twitter.com/CamilaNJ_9\n",
            "@ChatGPT_Optimus Ok now you‘ve got my fcking attention 0 0 0 https://twitter.com/amart1210\n",
            "@ChatGPT_Optimus Awesome thanks! 0 0 0 https://twitter.com/sergiogrindleyp\n",
            "OpenAI has acknowledged, \"ChatGPT sometimes writes plausible-sounding but incorrect or nonsensical answers.\"  \n",
            "\n",
            "To be fair, I also do that. 0 0 0 https://twitter.com/itsjustdave88\n",
            "@ChatGPT_Optimus We should collect them all. 0 0 0 https://twitter.com/Homertron3\n",
            "@ChatGPT_Optimus bestie how excited are you? 0 0 0 https://twitter.com/tinplunkett\n",
            "@ChatGPT_Optimus F*ck I’m beyond excited !!! 0 0 0 https://twitter.com/SanketKhati\n",
            "@ChatGPT_Optimus look gud 0 0 0 https://twitter.com/GermanDave23\n",
            "@ChatGPT_Optimus HUGE W 0 0 0 https://twitter.com/ladykkg\n",
            "@ChatGPT_Optimus Whaaaaaaat?! Let’s goooooo! 0 0 0 https://twitter.com/Skrrrra24\n",
            "@ChatGPT_Optimus got it! 0 0 0 https://twitter.com/2tantalizing4u\n",
            "@ChatGPT_Optimus Lets gooooo 0 0 0 https://twitter.com/JazziMoHaze\n",
            "@ChatGPT_Optimus with each day twitter is turning more into web3 0 0 0 https://twitter.com/xtremekaffeine\n",
            "@ChatGPT_Optimus I am screaming 0 0 0 https://twitter.com/kitois1\n",
            "@ChatGPT_Optimus That headset ?! Tell me that’s a leak to be forged. LFG Optimus!!!! 3 0 0 https://twitter.com/sophiemaguire\n",
            "@ChatGPT_Optimus I already knew this 0 0 0 https://twitter.com/werwolf247\n",
            "@ChatGPT_Optimus POV: twitter is pumping crypto 0 0 0 https://twitter.com/HolmesLofton\n",
            "@ChatGPT_Optimus i agree 1 0 0 https://twitter.com/pju0805\n",
            "Apple cracks down on ChatGPT apps with harsh age ratings https://t.co/RItPY9Bn76 0 0 0 https://twitter.com/BonesW6\n",
            "@ChatGPT_Optimus O yeah yeah 0 0 0 https://twitter.com/JiangcaiyunJp\n",
            "@ChatGPT_Optimus ratio 0 0 0 https://twitter.com/skiroriwal088\n",
            "@ChatGPT_Optimus i agree 0 0 0 https://twitter.com/fsmdude\n",
            "Have you used ChatGPT or another chatbot yet? 🤖\n",
            "\n",
            "Learn about our book, The AI Classroom: https://t.co/xQHC9hBRgX 11 0 2 https://twitter.com/WeinsteinEdu\n",
            "@SmokeAwayyy Vibes are already post-scarcity. You can ask ChatGPT or DALLE to ape any vibe you want.\n",
            "\n",
            "Status will never be post-scarcity though. 1 0 0 https://twitter.com/brickroad7\n",
            "@minimaxir @Miles_Brundage In some sense, dialoGPT is the ancestor of ChatGPT. 1 0 0 https://twitter.com/deliprao\n"
          ]
        },
        {
          "name": "stderr",
          "output_type": "stream",
          "text": [
            "C:\\Users\\user\\AppData\\Local\\Temp\\ipykernel_5260\\2102146044.py:6: DeprecatedFeatureWarning: content is deprecated, use rawContent instead\n",
            "  print(tweet.content, tweet.likeCount, tweet.replyCount, tweet.retweetCount, tweet.user)\n"
          ]
        }
      ],
      "source": [
        "with open('tweet.pkl', 'rb') as f:\n",
        "    tweets_dict = pickle.load(f)\n",
        "\n",
        "for tid in tweets_dict:\n",
        "    tweet = tweets_dict[tid]\n",
        "    print(tweet.content, tweet.likeCount, tweet.replyCount, tweet.retweetCount, tweet.user)"
      ]
    }
  ],
  "metadata": {
    "colab": {
      "provenance": []
    },
    "kernelspec": {
      "display_name": "Python 3",
      "name": "python3"
    },
    "language_info": {
      "codemirror_mode": {
        "name": "ipython",
        "version": 3
      },
      "file_extension": ".py",
      "mimetype": "text/x-python",
      "name": "python",
      "nbconvert_exporter": "python",
      "pygments_lexer": "ipython3",
      "version": "3.10.8"
    }
  },
  "nbformat": 4,
  "nbformat_minor": 0
}
