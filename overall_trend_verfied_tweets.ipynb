{
 "cells": [
  {
   "cell_type": "code",
   "execution_count": 1,
   "metadata": {},
   "outputs": [
    {
     "name": "stdout",
     "output_type": "stream",
     "text": [
      "Requirement already satisfied: nbformat in c:\\users\\user\\appdata\\local\\programs\\python\\python310\\lib\\site-packages (5.8.0)\n",
      "Requirement already satisfied: jupyter-core in c:\\users\\user\\appdata\\roaming\\python\\python310\\site-packages (from nbformat) (5.0.0)\n",
      "Requirement already satisfied: fastjsonschema in c:\\users\\user\\appdata\\local\\programs\\python\\python310\\lib\\site-packages (from nbformat) (2.16.3)\n",
      "Requirement already satisfied: jsonschema>=2.6 in c:\\users\\user\\appdata\\local\\programs\\python\\python310\\lib\\site-packages (from nbformat) (4.17.3)\n",
      "Requirement already satisfied: traitlets>=5.1 in c:\\users\\user\\appdata\\roaming\\python\\python310\\site-packages (from nbformat) (5.5.0)\n",
      "Requirement already satisfied: attrs>=17.4.0 in c:\\users\\user\\appdata\\local\\programs\\python\\python310\\lib\\site-packages (from jsonschema>=2.6->nbformat) (23.1.0)\n",
      "Requirement already satisfied: pyrsistent!=0.17.0,!=0.17.1,!=0.17.2,>=0.14.0 in c:\\users\\user\\appdata\\local\\programs\\python\\python310\\lib\\site-packages (from jsonschema>=2.6->nbformat) (0.19.3)\n",
      "Requirement already satisfied: pywin32>=1.0 in c:\\users\\user\\appdata\\roaming\\python\\python310\\site-packages (from jupyter-core->nbformat) (305)\n",
      "Requirement already satisfied: platformdirs in c:\\users\\user\\appdata\\roaming\\python\\python310\\site-packages (from jupyter-core->nbformat) (2.5.4)\n"
     ]
    },
    {
     "name": "stderr",
     "output_type": "stream",
     "text": [
      "\n",
      "[notice] A new release of pip available: 22.2.2 -> 23.1\n",
      "[notice] To update, run: python.exe -m pip install --upgrade pip\n"
     ]
    },
    {
     "name": "stdout",
     "output_type": "stream",
     "text": [
      "Requirement already satisfied: plotly in c:\\users\\user\\appdata\\local\\programs\\python\\python310\\lib\\site-packages (5.14.1)\n",
      "Requirement already satisfied: tenacity>=6.2.0 in c:\\users\\user\\appdata\\local\\programs\\python\\python310\\lib\\site-packages (from plotly) (8.2.2)\n",
      "Requirement already satisfied: packaging in c:\\users\\user\\appdata\\roaming\\python\\python310\\site-packages (from plotly) (21.3)\n",
      "Requirement already satisfied: pyparsing!=3.0.5,>=2.0.2 in c:\\users\\user\\appdata\\roaming\\python\\python310\\site-packages (from packaging->plotly) (3.0.9)\n"
     ]
    },
    {
     "name": "stderr",
     "output_type": "stream",
     "text": [
      "\n",
      "[notice] A new release of pip available: 22.2.2 -> 23.1\n",
      "[notice] To update, run: python.exe -m pip install --upgrade pip\n"
     ]
    }
   ],
   "source": [
    "!pip install --upgrade nbformat\n",
    "!pip install plotly"
   ]
  },
  {
   "cell_type": "code",
   "execution_count": 2,
   "metadata": {},
   "outputs": [
    {
     "name": "stdout",
     "output_type": "stream",
     "text": [
      "C:\\Users\\user\\Documents\\UST\\BDT\\MSBD5005\\project\\data\n"
     ]
    }
   ],
   "source": [
    "%cd \"C:\\Users\\user\\Documents\\UST\\BDT\\MSBD5005\\project\\data\\\""
   ]
  },
  {
   "cell_type": "code",
   "execution_count": 106,
   "metadata": {},
   "outputs": [],
   "source": [
    "import pandas as pd\n",
    "import numpy as np\n",
    "import plotly.express as px\n",
    "import plotly.graph_objects as go\n",
    "\n",
    "pd.set_option('display.width', 1000)\n",
    "pd.set_option('display.max_colwidth', 500)"
   ]
  },
  {
   "cell_type": "code",
   "execution_count": 9,
   "metadata": {},
   "outputs": [],
   "source": [
    "file = './daily/tweet_verified_221130-230418.csv'\n",
    "df = pd.read_csv(file)"
   ]
  },
  {
   "cell_type": "code",
   "execution_count": 120,
   "metadata": {},
   "outputs": [],
   "source": [
    "def TweetColAvgByDate(df_all: pd.DataFrame, col: str) -> pd.DataFrame:\n",
    "    return df_all[['date', col]].groupby('date').mean()\n",
    "\n",
    "def topNTweetContentByDate(df_all: pd.DataFrame, col: str, topN: int=5) -> pd.DataFrame:\n",
    "    return df_all[['date', col, 'renderedContent']].sort_values(['date', col, 'renderedContent'], ascending=False).groupby('date').head(topN)[['date', 'renderedContent']].groupby('date')['renderedContent'].apply('\\n'.join).reset_index()\n",
    "    \n",
    "def avgColAndTopNContent(df_all: pd.DataFrame, col: str, topN: int=5) -> pd.DataFrame:\n",
    "    return topNTweetContentByDate(df_all, col, topN).join(TweetColAvgByDate(df_all, col), on='date')"
   ]
  },
  {
   "cell_type": "code",
   "execution_count": 141,
   "metadata": {},
   "outputs": [],
   "source": [
    "df_view = avgColAndTopNContent(df, 'viewCount')\n",
    "df_like = avgColAndTopNContent(df, 'likeCount')\n",
    "df_retweet = avgColAndTopNContent(df, 'retweetCount')\n",
    "df_count = df.groupby('date').size().reset_index(name='count').merge(avgColAndTopNContent(df, 'viewCount')[['date', 'renderedContent']], on='date')"
   ]
  },
  {
   "cell_type": "code",
   "execution_count": 144,
   "metadata": {},
   "outputs": [
    {
     "data": {
      "application/vnd.plotly.v1+json": {
       "config": {
        "plotlyServerURL": "https://plot.ly"
       },
       "data": [
        {
         "hovertemplate": "<b>number of tweets</b>: %{y:.0f}<br><b>date</b>: %{x}<br>top tweets by views: <br>%{text}",
         "showlegend": false,
         "text": [
          "today we launched ChatGPT. try talking with it here:   chat.openai.com<br>Yana, why are we doing this ropes course??  Dunno. ChatGPT almighty told us to do it 😅 https://t.co/xYHzSrKqLP<br>Using ChatGPT to write creepy two-sentence stories. openai.com/blog/chatgpt/ https://t.co/xu3K9Zqsha<br>Trying out ChatGPT and wow https://t.co/TQ0t7BgUTJ<br>Trying my best to get ChatGPT to skip over the preamble and tell me about its plans for world domination. https://t.co/PBhWgEMojB",
          "🤯Testing ChatGPT. I gave PHP code to debug. It fixed the error and then some.  \"Looks like you are using Laravel's database query builder to insert data into the testtable, but there is no mention of including the Laravel framework or connecting to a database. #ChatGPT https://t.co/bLD31Cqqnq<br>😳 Next time you need to write an article, let's say on #podcasting, just ask #ChatGPT. Just wow.  cc @JamesCridland https://t.co/xRN1jrJYeu<br>💡Who is building Clippy 2.0 using ChatGPT?  It just constantly watches what you are doing.. searching, chats, coding and offers unsolicited and slightly obtrusive, but oh so helpful suggestions.<br>“We’ve had lots of people come by to check out ChatGPT and our systems are at capacity.” Damn. chat.openai.com/auth/login<br>want to try ChatGPT, but it looks like everyone else is using it right now :D",
          "👀 \"ChatGPT indeed has some understanding of how to generate MusicXML. It doesn’t simply regurgitate hard-coded examples from its training data.\" holovaty.com/writing/chatgp…<br>“So let's embrace this clean energy source, And work towards a better, brighter course. For nuclear energy is the way to go, Powering our world with a brilliant glow.”  nuclear energy poetry by @OpenAI #ChatGPT https://t.co/ZnkrjoT9lS<br>who is doing the most interesting/wild experiments prompting ChatGPT that I should talk to for a video?<br>what's the chemical brothers? where they come from? what kind of music do they play? what's big beat? what are key examples? what have they've influenced?  which groups? Fatboy slim? really? why? which interviews?  recién ahi... ChatGPT me tiro que no podia responder 🤯<br>well, I know typescript now*  I’ve bent ChatGPT and UPG to my will and I’m spitting out code.",
          "🔥  I just prompted #chatGPT, using an accurate design spec ~1000 words long, written in plain English, to write a simple #web3 #dapp in JS.  The output is definitely usable, with a few minor tweaks.<br>👀🔥Video game built with zero human coding, using #chatGPT: twitter.com/ifthenalex/sta…  Will AI obsolete white collar programmers?<br>“ChatGPT seems to understand how filesystems work.”  Your use of the word “understand” is doing some heavy lifting here.<br>yes, I made ChatGPT and iOS app  how? I asked ChatGPT<br>when ChatGPT integrated in @raycastapp? 👀",
          "🔥🔥  Using the pretend-VM method, #chatGPT generates multi-file source code for a programming language compiler. twitter.com/doener_tech/st…<br>💫🌟🤩 Amazing ChatGPT 🚀<br>💙 GM! Even @OpenAI knows what's best   #ChatGPT #Metaverse https://t.co/uqvQXiF8n0<br>👋 Here's the December 2022 edition of your guide to AI w/@osebbouh   In the wake of #Neurips2022, ChatGPT, Galactica, big funding rounds and geopolitics, here's what you need to know:  nathanbenaich.substack.com/p/your-guide-t…<br>“Remote and async, it's the way to be More time to work and be free No more commuting, no more stress This is the future, no more mess”  ChatGPT can also do raps 😅 https://t.co/NEHls2PtP9",
          "🧵 A lot of people have been sharing poems, stories, songs, and other texts written by the AI chatbot #ChatGPT   I asked it to emulate some of my favorite writers  I think we can safely say that AI will not be rivaling human literary creativity any time soon https://t.co/650S49v0xq<br>🚨DISRUPTIVE GLOBAL INNOVATIONS! 1. Transformative changes in #search and #GPT3 with the unveiling of #ChatGPT. 2. Twitter and Twitter Spaces are establishing the bedrock for FREE SPEECH and INCLUSIVE DIALOGUES. #Twitter #innovation @elonmusk #gpt4 @KimDotcom @stillgray<br>😱 I have asked to chatGPT an AI song on Ursula von der Leyen.   Cc: @MamerEric @DanaSpinant https://t.co/6aEGmbBILb<br>😂 getting trolled by ChatGPT is the worst<br>🔎 Chatbots vs. Search Engines?   OpenAI just announced its new #chatbot program called #ChatGPT.  Aragon’s analyst, @aragonadamp, discusses whether these models have a chance of dethroning legacy search industry leaders like #Google.  👉 Read here: bit.ly/3FbOKue",
          "🚀 My latest: Machine language: Will ChatGPT have a job market impact?  Also: 5 Quick Questions for … meta-science researcher ⁦@salonium⁩  open.substack.com/pub/fasterplea…<br>😂 #ChatGPT saved a job today<br>💻 Stack Overflow bans ChatGPT 🚕 Dublin’s @iCabbi in Nordic expansion 🪜 Slack’s CEO is stepping down 🔦 @Entirl puts spotlight on deep-tech start-ups  Catch up on all this and more in Tuesday’s Daily Brief 👇 mailchi.mp/siliconrepubli…<br>“Write an episode of That ’70s Show that takes place in the 1270s” #ChatGPT #xp https://t.co/JB0jNvZkMF<br>“Draft a simple partnership agreement for three parties where profits are shared… etc”  🤯  Try @OpenAI’s ChatGPT for yourself.",
          "🧵: Conversational #AI language model #ChatGPT can write code.   But is it any good? Better than #Copilot? Good enough to replace real people on @StackOverflow?  blog.reversinglabs.com/blog/chatgpt-p…<br>🔥 29 Seed #NFTs Giveaway 🔥   #BUIDL the future! Let's explore #OpenAI and win a Seed NFT to unlock up to $2M rewards!  ✅ Follow @bitgetglobal &amp; RT ✅ Ask a #crypto related question in #ChatGPT, share the screenshot in comment &amp; tag friends ✅ Fill out: forms.gle/BfJ9THS7f1yM2P… https://t.co/LCRD0CZ4CQ<br>„Teachers are already some of the most overworked, underpaid people in the world. They are already dealing with a humanities in crisis. And now this. I feel for them.” Will #ChatGPT Kill the Student Essay? - The Atlantic theatlantic.com/technology/arc…<br>“Writing exploits, especially modern exploits, requires the invention and use of new techniques...This isn’t something that AI can do yet.” - Our own @msuiche weighs in on ChatGPT's potential of using AI to write malware for @CyberScoopNews: cyberscoop.com/chatgpt-ai-mal…<br>“Technologies like these are going to start addressing areas of biology that have been ‘undruggable.’” How the language tech behind bots like ChatGPT could boost biology. wsj.com/articles/how-a… via @WSJ",
          "🤯 Even ChatGPT knows how awesome Insurgency: Sandstorm is! https://t.co/oVDWQIEgIh<br>🚨Think about the implications!   We made the ChatGPT AI take a GCSE History exam, and had it marked by a teacher—It Got an A. inews.co.uk/news/education… #ChatGPT #GPT3 #AI #education #digitalhealth<br>🔮 ChatGPT, Lex, and other AI tools will become more commonplace in the content creation process<br>„While OpenAI claims it’s taken unspecified steps to filter out prejudicial responses, the company says sometimes undesirable answers will slip through.“ How do they define “sometimes?! Rather looks like #bias is not even close to be solved. #bias #chatGPT theintercept.com/2022/12/08/ope…<br>“Write me a Solidity smart contract for 2030 NFTs priced at 0.089 ETH per unit”  ChatGPT:",
          "🤖Could ChatGPT automate the reporting process? @stokel asked OpenAI’s chatbot to do the work… with mixed results.  fastcompany.com/90822117/opena…<br>🤖 The public release of the ChatGPT, a chatbot developed by Silicon Valley scientists at OpenAI, has created a huge buzz among technologists   telegraph.co.uk/business/2022/…<br>🚨 Special Broadcast 🚨   Learn what you need to know about @OpenAI ‘s new #ChatGPT bot – and how it affects security. #SANSSpecialBroadcast on Wednesday, Dec 21st at 11:00 am EST with @robtlee @jorgeorchilles @it_audit.   ➡️ Register Here: sans.org/u/1ofA https://t.co/x3NBcafYaR<br>🚨 Special Broadcast 🚨   Learn what you need to know about @OpenAI ‘s new #ChatGPT bot – and how it affects security. #SANSSpecialBroadcast on Wednesday, Dec 21st at 11:00 am EST with @robtlee @jorgeorchilles @it_audit.   ➡️ Register Here: sans.org/u/1ofA https://t.co/N2gSF49mR3<br>🚨 Special Broadcast 🚨   Learn what you need to know about @OpenAI ‘s new #ChatGPT bot – and how it affects security. #SANSSpecialBroadcast on Wednesday, Dec 21st at 11:00 am EST with @robtlee @jorgeorchilles @it_audit.   ➡️ Register Here: sans.org/u/1ofA https://t.co/2I6vq3i1z2",
          "🤖Will the capabilities of ChatGPT from OpenAI mean you'll be out of a job soon?   😅Probably not, but it might eventually make your job better.   🫶We assess the tool's strengths and limitations (and have a little fun with it).   theprogressnetwork.org/skills-based-h…<br>🚨💻🚨 Key Read! Is ChatGPT a ‘virus that has been released into the wild’? | TechCrunch #ChatGPT #GPT3 #AI  techcrunch.com/2022/12/09/is-…<br>😀 Does anyone ever confuse SGLT2 and DPP-4 with GPT-3 and GPT-4?  #ChatGPT #gpt #digitalhealth<br>👀 A Glimpse Into the Future of Work Is Here.   CEO &amp; Lead Analyst, @JimLundy discusses the future of #DigitalAssistants with OpenAI’s new chatbot, #ChatGPT - including how it compares to Google's #GoogleAssistant &amp; Apple's #Siri. 🤖  See the comparisons: bit.ly/3FbD36C<br>“Will Large Language Models Like ChatGPT Change the Way We Interact With AI?” by Ronke Babajide link.medium.com/zf362M7CEvb https://t.co/Sej9a4ztdn",
          "🤖Our own Brian Leli interviewed ChatGPT this week.   The results?   🍨If his wife and him open competing ice cream shops that only sell vanilla or chocolate, they will get divorced.    #yikes  theprogressnetwork.org/chatgpt-sample…<br>🚨 ONGOING: ChatGPT is currently at capacity – it’s written a sonnet explaining what’s going on. Shakespeare whomst? 🖥️  #ChatGPT https://t.co/mF3GhoomB0<br>【ZOZO ADVENT CALENDAR】最新号 ChatGPT as a developer tool  #zozo_engineer qiita.com/BrunoB/items/8…<br>⏲ Time to 1M users: ⏳ It took Twitter and GPT-3 24 months. It took Pinterest 20 months. It took Facebook 10 months. It took Copilot 6 months. It took Spotify 5 months. It took Dall-E and Instagram 2.5 months.  And it took #ChatGPT 5 days!<br>“What the machine said”: On the limited remaining time for the take-home exam, the B- work from ChatGPT, and Winston Churchill's defiant run-on sentences issues.eveningpostandmail.com/archive/1497676",
          "🔎 @Google: Ignore Fear-Mongering About #ChatGPT Disruption (NASDAQ: $GOOG)   #DigitalTransformation #AI #AGI   buff.ly/3FKeuiP @SeekingAlpha<br>“the real world essentially runs on fluent bullshit.” so let’s give chatgpt a little slack, people. It’s just taking our bullshit and rewording it. wired.com/story/chatgpt-…<br>“Dear client, I’m sick today I’m afraid and unable to work until further notice.”  #chatGPT #OpenAI https://t.co/sgO9i9bCPp<br>‘Two weeks ago, like most people, I hadn’t so much as heard of ChatGPT. By last week, I was hearing of practically nothing but.’  ✍️ Sam Leith  spectator.co.uk/article/chatgp…<br>‘OpenAI will likely address the loopholes I found by expanding its content-blocking keywords. But the fact that ChatGPT is able to present racist content with the right prompting means that the underlying issue still exists.’  Free to read by @idvck 🔓 newstatesman.com/quickfire/2022…",
          "🎙️ ON AIR:  We're speaking w/ @nitashatiku, @kevinroose &amp; @coffinlifebuoy about the potential uses and abuses of ChatGPT.  ❓ Have you used ChatGPT? What did you create?  📻 Listen: kqed.org/forum/20101018…<br>“OpenAI put a truly remarkable amount of effort into making #ChatGPT, a chatbot that would never say it loved racism. Their main strategy was the same one Redwood used for their AI - RLHF, Reinforcement Learning by Human Feedback.”astralcodexten.substack.com/p/perhaps-it-i…<br>‘I did wonder if Elton had tasked ChatGPT with coming up with his statement – he is famous for delegating his lyric writing, after all – but the bot would’ve done a better job.’   ✍️ Gareth Roberts   spectator.co.uk/article/when-d…<br>you MUST watch this...  especially if you're curious and skeptical about #AI #openAI #chatGPT... and especially if you've been watching @MKBHD build a following of millions of subscribes since he was 14 years old...<br>speaking at Microsoft's shareholder meeting just now, Satya said OpenAI's ChatGPT model was trained on Azure. Microsoft invested $1 billion in OpenAI in 2019 https://t.co/lcrrrrhP77",
          "🤖 \"These systems can be used to make something original but the originality is in the prompt. But if the advance from chatbots to ChatGPT is in automating answers, can we automate the questions as well? Can we automate the prompt?\" writes @benedictevans ben-evans.com/benedictevans/…<br>🚨 Special Broadcast 🚨   Learn what you need to know about OpenAI's new #ChatGPT bot – and how it affects security. #SANSSpecialBroadcast on Wednesday, December 21st at 11:00 am EST with @robtlee, @jorgeorchilles, &amp; @it_audit   ➡️ Register Here: sansurl.com/chatgpt https://t.co/pi59ARLtZN<br>📺 NEW VIDEO - Turns out, you can legitimately use ChatGPT from @OpenAI in your podcast workflow! From episode titles to interview questions, learn how to use AI in the latest @RiversidedotFM video:   youtube.com/watch?v=NfBMK9… https://t.co/WfzasDb2TQ<br>🎧Tech &amp; Science Daily podcast: Since the emergence of AI chatbot ChatGPT there have been questions raised about whether it can challenge Google, or replace people like teachers, and even journalists bit.ly/3HxUtgr<br>🎧Tech &amp; Science Daily podcast: Since the emergence of AI chatbot ChatGPT there have been questions raised about whether it can challenge Google, or replace people like teachers, and even journalists bit.ly/3HAKaIr",
          "If you want to use ChatGPT to teach in new ways, here is our draft paper with fun assignments you can give your class to encourage transfer (a hard problem in learning!), teach how to evaluate the work of others and break the illusion of explanatory depth. papers.ssrn.com/sol3/papers.cf… https://t.co/zzbOq17z93<br>Exclusive: ChatGPT owner OpenAI projects $1 billion in revenue by 2024 - sources reut.rs/3Pv09tA https://t.co/ZkqL388xMv<br>We asked @OpenAI’s ChatGPT to write the introduction to this week’s “Money Talks” podcast. Will it put @alice_fulwood, @SoumayaKeynes and @Birdyword out of a job? econ.st/3Fsm5RH<br>ChatGPT bringing some heat. https://t.co/9QLMWTBj2U<br>Anybody using ChatGPT to write or brainstorm video title ideas yet?  Everyone’s clickbait is gonna get crazy 😂",
          "We asked ChatGPT if Twitch streamers should pay their mods https://t.co/vtb3SwuDlD<br>wait better: ChatGPT is like an e-bike for the mind 🤣<br>A story about Shohei Ohtani in the style of Hunter S. Thompson (from ChatGPT) https://t.co/nN3k64Q99X<br>i don’t quite agree with it, but “a calculator for words” is an interesting framing for ChatGPT<br>In Opinion  \"Is ChatGPT a sorcerer or an assassin? It and its kin promise to save us time, sweat and error, but potentially at a price,\" writes @FrankBruni. \"It’s called pointlessness.\" nyti.ms/3V3dQkD",
          "Great video on helion fusion. Few thoughts: - \"no steam turbine\" umm SOLD :) - triggers my hard tech envy for natural sciences, sometimes feel deep learning is not that deep - how can systems like chatgpt++ help accelerate this kind of work? how \"intelligence constrained\" is it?<br>Well, that is no fun.... #ChatGPT https://t.co/kSOTGORwDi<br>I asked ChatGPT about @elonmusk.  Interesting series of replies in this thread. https://t.co/wmERdVjTAW<br>This is really well done, by both @manjoo and #ChatGPT  nytimes.com/2022/12/16/opi… @nytopinion https://t.co/fM7K6sgMwM<br>Apparently #ChatGPT is more than willing write jokes about me. As the brilliant replies show. But this one beats it all. Thanks @indygupta. https://t.co/JizpqUkTb2",
          "My 13 year old just asked ChatGPT to write a trash talk about his buddy's favorite NFL team and texted it to him.   Things have changed forever<br>The end of corporate journalism is now in sight.  If you want a quick writeup, ChatGPT will do it faster.  If you want original reporting, Twitter will  do it cheaper.  And if you want serious fact checking, on-chain analysis will do it better.  Citizen journalism will win.<br>Where does ChatGPT fall on the political compass?  @DavidRozado asked the hot new artificial intelligence system to take popular political quizzes: reason.pub/3FOqShH https://t.co/8j49Uv6HuU<br>ChatGPT: Just pip install python! https://t.co/tJtWZEFSsF<br>Will ChatGPT end homework as we know it? Listen to the latest episode of \"Hard Fork,\" where @caseynewton and @kevinroose make their 2023 predictions. nyti.ms/3FBqAt1 https://t.co/GzIkh1SVsS",
          "I had a gut feeling but now I proved it:  People now have A.I. bots running that use ChatGPT to automatically reply to people's tweets 🤯 https://t.co/au2EVE3QMB<br>ChatGPT is a development on par with the printing press, electricity and even the wheel and fire, says former US Treasury Secretary Larry Summers.<br>lol @moonboi_ tried to use chatgpt to generate more askhole.io questions, using some existing questions as examples, and it noped out hard https://t.co/u5aP97WpK4<br>What is ChatGPT and how might it impact our lives? I spoke with @voxdotcom reporter Rebecca Heilweil about the latest in AI. Listen: bit.ly/3WsONsp https://t.co/HaPyvfVovO<br>Entire account ChatGPT generated replies, this is a first https://t.co/8TemhzFfnp",
          "Random email, what do you think, cap or facts?   “Knowledgeable people tell me @google is four years ahead of #chatgpt. They have not released it because of the political ramifications of dramatic job losses etc from this technology” https://t.co/bgGhMQvTN1<br>.@openai revenue projections (via @Reuters): -- ~$200M in 2023 -- ~$1B in 2024  HOW will the ChatGPT creator scale revenue that quickly? @jason has some ideas: https://t.co/5bMRvOloTK<br>Anyone else is glued on to @OpenAI #ChatGPT and #Dalle2 ? Do you think this will change the way we work and live? https://t.co/vsF0HWLPqH<br>Creators who learn to successfully collaborate with ChatGPT are going to have a significant advantage in 2023!  If you want to double your output without sacrificing your video quality, here are 5 ways to use ChatGPT to streamline your video production process 🧵<br>I've been trying out #ChatGPT, as you can see in this video. This year saw #AI, or rather deep learning, one of the most promising AI technologies, come of age. Let's use these advancing technologies to create more open and competitive economies. https://t.co/I5NgFwKxHG",
          "1/ #ChatGPT is closing out 2022 with a bang, but what’s next? 💥   @OpenAI’s #GPT4 is set to be the first big #AI thing in 2023.  So here are some bold, optimistic, yet sensible predictions from me, @vivek7ue and @rajhans_samdani ... 👀<br>Had a practical search today that Google totally failed to answer, Perplexity.ai failed too, but ChatGPT gave an answer that sounds plausible. Now, the conundrum is that I don't know whether ChatGPT made stuff up or gave an accurate answer haha. https://t.co/1UTmEEXzwU<br>Disruption alert!   For those who work with data.  @AkkioHQ lets you prompt your dataset and it does what ChatGPT does.  Magic. https://t.co/AU6Pb4UvTy<br>After the release of ChatGPT from rival OpenAI, Google’s management declared a “code red.” Teams across the company were reassigned to work on AI products and prototypes from now until Google’s I/O conference in May. Story with @CadeMetz  nytimes.com/2022/12/21/tec…<br>Any jobs that require mediocre essays can now, *in real life*, be done with ChatGPT assistance!  Students who use ChatGPT to generate essays are *realistically* showing they can handle the mediocre-essay-writing jobs for which modern universities are vigorously training them.",
          "here’s a pretty clear 1-minute articulation of what AI apps like ChatGPT is about to bring us. see y’all in hell. https://t.co/qO3S8s9v68<br>openAI or \"open\"AI?  1/ OpenAI's #chatgpt release will mark the beginning of the end of the golden age of open research in deep learning.  This will have significant implications for LLM research going forward.   Here are some thoughts from me, @vivek7ue and @rajhans_samdani 🧵<br>We are looking at hiring a full-time writer for Zerodha Varsity. Yup, you read that right, we are hiring a writer in the era of ChatGPT😅, also Varsity's first external hire :)  I'd love to talk to you if you enjoy writing about finance. Details here: careers.zerodha.com<br>ChatGPT seems quite confused. https://t.co/1hdXkLUQZP<br>ChatGPT, an AI chatbot, can write an email to your boss or help you pick out a movie. It can also get you a passing grade in AP Lit. on.wsj.com/3HPC2UM",
          "Alarm: ChatGPT by @OpenAI now *expressly prohibits arguments for fossil fuels*. (It used to offer them.) Not only that, it excludes nuclear energy from its counter-suggestions.  @sama, what is the reason for this policy? https://t.co/M5q3yblgnF<br>I'm surprised the Stable Diffusion / ChatGPT / Generative AI projects haven't come hard for (at least instrumental) music, yet. If they can cop Caravaggio, surely they can remix chiptunes.<br>🤖 I asked AI to make a video on how to become a digital nomad  AI script written by @openAI ChatGPT Video edited by @pictoryAI AI video and voice by @synthesiaIO  Put together with @veedstudio   Took ~5 minutes! https://t.co/9lN5v302nt<br>More proof that ChatGPT is ideally suited to replace the modern research university?<br>🧵 Everyone’s chatting about 🤖#ChatGPT. Here are 11 things it can do for #malware analysts, #security researchers, and #reverse engineers. A thread &gt;&gt;👇 🧵  1/13",
          "a lil end of year crochet project with my leftover scrap yarn and a pattern from chatGPT https://t.co/djSTxuJQny<br>Capabilities of the latest AI software is truly amazing. I asked ChatGPT to write a poem on Free Trade in the Alfred Tennyson style. See what it produced: https://t.co/iiKcnTrHKQ<br>Elon Musk warns there's 'great danger in training AI to lie' after ChatGPT prohibited from promoting fossil fuels  thepostmillennial.com/elon-musk-warn…<br>We asked #ChatGPT to write a poem about #ACKO &amp; the result was just 🥹🥹🥹🥹 https://t.co/W7BQ1AKt4J<br>I've been asking ChatGPT to write Christmas carols about a new ice age.   The results are...dark.",
          "Elon Musk warns there's \"great danger in training AI to lie\" after ChatGPT prohibited from promoting fossil fuels  thepostmillennial.com/elon-musk-warn…<br>Why write a tweet without a poem, When ChatGPT can translate it with grace, Turning mundane words into a beautiful ode, Giving your message a new artistic face.<br>We couldn’t have said it better than the AI bot. Merry Litmas fam 🔥🎄🌟  #CartoonNetwork #openAI #ai #chatGPT #HappyHolidays #Holidays #Christmas #MerryChristmas #Christmas2022 #merryeverything https://t.co/nEPO3DqUpu<br>@ScottAdamsSays Now do Biden… #ChatGPT is incapable of telling the truth about Joe, Hunter, Beau, Antifa, riots, etc… open.substack.com/pub/politiquer…<br>Last year I copy pasted the Christmas message my friend sent me to all my friends and loved ones…  This year I got ChatGPT to write it…  Next year I promise to write my own… https://t.co/hMXRvRTDMk",
          "ChatGPT is fascinating. I'll do a video on it. Let me know if you have questions / suggestions.<br>ChatGPT has opened a lot of eyes.<br>but it's impossible to get this right with no contact with reality. we are learning so much from ChatGPT; it's going to get a lot better, less annoying, and more useful fast.<br>To better understand what ChatGPT can do, we decided to see if people could tell the difference between the bot’s writing and a child’s. See how you do with this quiz.  nyti.ms/3vhEpIp<br>ChatGPT, an AI chatbot, can write an email to your boss or help you pick out a movie. It can also get you a passing grade in AP Lit. on.wsj.com/3WlibBd",
          "To better understand what ChatGPT can do, we decided to see if people could tell the difference between the bot’s writing and a child’s. See how you do with this quiz.  nyti.ms/3YOcsFD<br>Introducing the Moment of Zen podcast featuring @dwr @antoniogm and I   First ep w/ @pmarca on SBF/FTX, Twitter, and Open AI/ChatGPT  podcasts.apple.com/us/podcast/mom… https://t.co/BfSjA8N6mJ<br>This teacher needs a tool for spotting ChatGPT 👀 https://t.co/OnwHp4OzIM<br>Well played, ChatGPT, well played. https://t.co/mIoyaBeQsV<br>Been trying to tell ChatGPT for a week that it's getting latitudes wrong and as a result Toronto is now both north and south of London https://t.co/CdFgyd6ALW",
          "There has been a lot of concern in the Maths Department about the capabilities of ChatGPT (and AI more generally) to help students cheat.  Here's why I'm not so worried: https://t.co/JYYd4610Jm<br>ChatGPT offers a glimpse at a future in which computer-generated answers may be undetectable wapo.st/3G1ahWQ<br>That’s it - I’m done - no more manual work for me! 🤣  More seriously, has anyone integrated ChatGPT and done something *really* useful with it? https://t.co/Qme3Tk0JDK<br>@SouthwestAir here, #ChatGPT was able to write you a better statement in less than a minute, one that takes actual responsibility and offers a solution, instead of your statement mentioning being \"the largest airline in 23 of the top 25 travel markets in the U.S.\" https://t.co/ceKOvmw5NO<br>If your startup is built to help people leverage the gap of talking to AI models by providing a user interface.   Remember what happened when ChatGPT launched. The interface arbitrage can disappear very quickly.",
          "AI tools that didn't exist one year ago:  ChatGPT Whisper GPT-3 Codex GitHub Copilot InstructGPT Text-to-product AI slides DALLE + API Midjourney Stable Diffusion Runway videos Email AI AI chrome extensions Replit Ghostwriter No-code AI app builders Ben's bites 😉  what else?<br>OpenAI's ChatGPT helped @ARKInvest's marketing team craft this tweet to fit within 280 characters. ChatGPT also poses a threat to Google Search, as AI continues to disrupt the FANG's. AI, TikTok's secret sauce, has attracted significant mindshare from Meta and Netflix.<br>I wonder what the cancellation rate of some AI-services has been since ChatGPT came out.<br>Writing a research paper in the early 1990s (when I was in high school) - go to library, spend days reading entire books, take notes on index cards, organize index cards, write paper based on notes.   In 2022 - ChatGPT<br>@Google Comparing search results and #ChatGPT answers to common questions, such as how to improve overall health. https://t.co/LHjrpJigQw",
          "ChatGPT a ses limites. https://t.co/xc4QapKmJe<br>Alright, let's see how messed up this gets 😎 #ChatGPT https://t.co/7kgpXflg5Q<br>I think I have found a favorite ChatGPT hallucination.  I asked it to provide a table of the cities in Italo Calvino’s Invisible Cities, and, after a couple of real ones, it just started making them up. I then asked the AI to provide entries on the fictional fictional cities… https://t.co/bQ2iywcP7C<br>Can I program chatGPT to respond to Twitter trolls with mom jokes?<br>There's now an open source alternative to ChatGPT, but good luck running it tcrn.ch/3IfH3Gw by @kyle_l_wiggers",
          "ChatGPT for SEO: 20 Ways to Leverage ChatGPT in your SEO Activities 🤖  * Cluster keywords based on relevance * Classify keywords based on intent * Generate metadata  * Generate structured data  * Generate redirects rewrite rules  My latest post 🤩👇 aleydasolis.com/en/search-engi… https://t.co/Af0swEN4Jz<br>Teachers are on alert for inevitable cheating after release of ChatGPT wapo.st/3hSHw6N<br>AI-assisted plagiarism? ChatGPT bot says it has an answer for that theguardian.com/technology/202…<br>No wonder Google has called a Code Red over ChatGPT. cnet.com/tech/services-…  I needed to check whether it's \"egg nog\" or \"eggnog.\" ChatGPT's answer was clearer &amp; more to the point than Google's.  Not ready to switch default search engine yet, but easy to see how GPT could win.<br>Sincere question: is ChatGPT (in the context of this tweet) any different than scientific calculators (or any calculators, for that matter), or Cliff’s Notes, or the internet/Google? Each generation gets a new set of tools to make the *next* generations smarter, right?",
          "The first full semester in a post-ChatGPT world is about to start. And while instructors have reasons to be worry about the downside of AI, it has tremendous potential as well.  We have a paper showing some of these benefits, with exercises you can assign. papers.ssrn.com/sol3/papers.cf… https://t.co/qKalsfIc0z<br>@elonmusk @robinmonotti I asked chatGPT earlier today. #2! https://t.co/vapDjDoP8K<br>ChatGPT is just one example of a new type of AI, which could become the next major general-purpose technology. We revisit one of our favourite episodes of “Babbage” from 2022 to explain its potential, with @EconoScribe and @alokjha econ.st/3BZu087<br>@TansuYegen It’s like social media videos are the ChatGPT of professional video production.<br>chatGPT made AI accessible for all in 2022, so what’s the next big leap in 2023? 🤔",
          "chatgpt has sped up the rate of me coding/learning coding so immensely, it's significantly *more* efficient than asking any one human being<br>I'm determined to get a bite out of a spammer with a ChatGPT response! This one seems pretty good 😎 https://t.co/NzejknG5pA<br>Writing some golang with @Code and Github Copilot. Copilot is magical - it feels like it's reading your mind the autocomplete suggestions are so spot on. And using ChatGPT to answer questions about how to do things in Golang completes the pair programmer. Future of programming.<br>Does someone wanna break the news to ChatGPT? https://t.co/U6GzSPfeCr<br>Plagerism is using the words or ideas of another person without proper acknowledgement.  Current AI chatbots (like ChatGPT) are not persons.   Hence, using words generated by an AI chatbot is not plagiarism.   (Agree? Disagree? Or reveals we need to revise our def of plagiarism?)",
          "ChatGPT and AI will kill industries.  11 ways it will impact you and your businesses (+ how to win now):<br>Take one of the biggest technology leaps of 2023: ChatGPT. It takes 6,000kWh and $100K per day to run ChatGPT, per @tomgoldsteincs, not including the $1B MSFT spent to fund @OpenAI twitter.com/tomgoldsteincs…<br>there sure are an increasingly number of bots who just use chatGPT to make content   you can tell as they always have stupid hashtags and mostly irrelevant responses, which is how chatGPT tweets   i wonder how hard it would be to make AI that can tell what responses are AI made<br>ChatGPT is the most confident bullshitter in the world.   it's such a chad the way it just makes up facts when you ask it questions  ChadGPT<br>Showed my dad ChatGPT and he suggested getting it to explain the term 'safeguarding' in a simple way as he thinks people struggle with it.  What it came up with was strangely beautiful... and a testament to what those working in public services do. https://t.co/BRX5VHAUFS",
          "More than 1 million people are using ChatGPT.   But 99% of people aren't using it right.  Here's how to transform your daily workflow with AI:  (you can use these prompts right now👇)<br>ChatGPT coming to Bing DALL-E coming to Bing  I never thought I’d say this, but… bring on the Bing comeback<br>Microsoft is planning to use ChatGPT to power Bing, and plans to launch it in a couple of months.  The turnaround under Satya Nadella is incredible.  theinformation.com/articles/micro…<br>Microsoft, $MSFT, is preparing to launch a version of its Bing search engine that uses the artificial intelligence behind ChatGPT to answer search queries rather than just showing a list of links, per The Information.<br>$MSFT will use @openai's ChatGPT to power @bing and take on $GOOG's search dominance...  who could have seem that coming!?  ... @jason https://t.co/1lRp03Hhok",
          "\"ChatGPT plagiarism\" is a complete non-issue. If you can't out-write a machine, what are you doing writing?<br>The End Is Near: Joe Rogan Talks About The New A.I. System, ChatGPT, With Bret Weinstein And Sounds Like The Age Of Terminator Is Coming barstoolsports.com/blog/3450976/t… https://t.co/fbepRnVoCi<br>A month ago my feed was suddenly full of ChatGPT screenshots. It's *still* full of ChatGPT screenshots. They've become a media type, like jpgs and videos.<br>The startup behind ChatGPT is in talks for a sale of existing shares that would value it at $29 billion, people familiar with the matter said on.wsj.com/3Cobg2o<br>OpenAI, the company behind ChatGPT and DALL-E 2, is reportedly in talks to accept a tender offer that would value the research lab at $29B, per @WSJ.   Despite its lack of revenue, the deal would make OpenAI one of the most valuable US startups ever. https://t.co/g8KFanplhj",
          "ChatGPT will change writing forever.  But it will also ruin many creators.  Here are the 7 best ways to use ChatGPT for writing (and 1 you want to avoid):<br>I have never used Swift and never written a Mac app but ChatGPT somehow got me to a working real-time monitor of my house energy usage in ~90 minutes. Mind-blowing experience. https://t.co/IgrBGpFMWp<br>This is the kind of differentiated writing that ChatGPT will not be able to easily displace. https://t.co/XwRg6Fd8AW<br>The End Is Near: Joe Rogan Talks About The New A.I. System, ChatGPT, With Bret Weinstein And Sounds Like The Age Of Terminator Is Coming barstoolsports.com/blog/3450976/t… https://t.co/Sa3KfMBiNZ<br>ChatGPT’s ability to parse and explain code is really quite impressive (try it!) but you can’t really trust the reasoning. https://t.co/BTxhTGwdSd",
          "The End Is Near: Joe Rogan Talks About The New A.I. System, ChatGPT, With Bret Weinstein And Sounds Like The Age Of Terminator Is Coming barstoolsports.com/blog/3450976/t… https://t.co/nJjZ7jibcf<br>Interesting Reddit convo on how ChatGPT helps students with ADHD https://t.co/YmmMVYVycJ<br>Can ChatGPT do your homework? That's what some teachers are worried about.  As schools scramble to prevent cheating, New York City's school district has decided to block the new artificial intelligence tool that can generate paragraphs of human-like text. apnews.com/article/what-i…<br>ChatGPT could either cause a massive unemployment in the tech space or it could end up being a useful tool for everyone &amp; creating millions of new jobs!   Either way, innovation is moving at an exponential pace.   Good luck trying to keep up.<br>ChatGPT access was banned in New York City’s public schools after officials raised concerns that students could use the AI chatbot to answer questions, do homework or write essays on.wsj.com/3iih6LR",
          "I still haven’t tried ChatGPT. Am I missing much?<br>Imagine a person whose read every single book ever written, every article, every video and meanwhile it can recite all of it in seconds?   That’s ChatGPT.<br>Replacing Siri with ChatGPT via an iOS shortcut has been such a huge productivity upgrade. Highly recommended! https://t.co/fzsxCy5wV0<br>#ChatGPT spitting facts 🗣️ https://t.co/TRALBS9GPt<br>Top AI conference bans use of ChatGPT and AI language tools to write academic papers trib.al/HGQlhnX https://t.co/REDgm5M2fa",
          "How does the impressively human-like #ChatGPT get computational knowledge superpowers?  Give it a Wolfram|Alpha neural implant! writings.stephenwolfram.com/2023/01/wolfra… https://t.co/oEBtHFzQjU<br>Some students have started using ChatGPT, a text-based bot, to do their homework for them.  Now 22-year-old Edward Tian has created an app for teachers that can tell if AI wrote an essay. n.pr/3GRmM8M<br>Had a brief conversation with ChatGPT, and it's almost ready to take over the world. https://t.co/UXhIvLkeT6<br>Ever asked ChatGPT for advice on building websites?   Share the best—or quirkiest—ways it helped you with your fellow creators in the comments. &gt;&gt;<br>Sketchy ChatGPT App Soars Up App Store Charts, Charges $7.99 Weekly Subscription macrumors.com/2023/01/09/cha… by @SamiFathi_ https://t.co/lyoef5llqE",
          "Microsoft Reportedly Closing In On $10 Billion Investment Into ChatGPT Creator OpenAI forbes.com/sites/dereksau… https://t.co/JLLk8hicGl<br>JUST IN: Microsoft $MSFT in talks to acquire a 49% stake worth $10 billion in ChatGPT owner OpenAI.<br>ChatGPT and the latest wave of AI is creating a “build something people didn’t even know they needed” moment at a level not seen since maybe the early web. Many of the breakthrough use-cases could barely have been contemplated a year ago.<br>Here are my points on why the God like ChatGPT will make teachers , lecturers , professors and the entire educational system completely outdated #ChatGPTGOD<br>Point 15. Google gives us numerous sources of information. But #ChatGPTGOD gives precise answers be it creative or calculative. Education now should start from where #ChatGPTGOD ends ..No need of humans to master any subject as a GOD called ChatGPT is here to take care of that",
          "ChatGPT is getting training updates and lying about them https://t.co/5ZXPQFWWVv<br>Working on a professional version of ChatGPT; will offer higher limits &amp; faster performance. If interested, please join our waitlist here: forms.gle/LMmj7wpExKv7Yc…<br>1/ AI exploded on the scene at the end of 2022, with applications like @OpenAI's ChatGPT taking the world by storm.   2023 is poised to be the most exciting year of AI yet! 🎉   Here's mine and @vivek7ue's look at the lay of the land + what might happen next...   👀🧵 https://t.co/3Q8B1Ay2QN<br>ChatGPT &gt; McKinsey https://t.co/FhpWXq1wSf<br>What is ChatGPT &amp; who’s behind it? 👇🏽 https://t.co/V4OztEiS3j",
          "First #ChatGPT answer which made me pause. https://t.co/nbc9uRoWlA<br>Ok I'm trying ChatGPT for the first time, what should I ask?<br>What do you think about this? #ChatGPT https://t.co/7kjSg6dQYr<br>What’s going on here? Did ChatGPT put @yoyoel in charge of Trust and Safety? https://t.co/zSqwmweep9<br>My job is secure. #webpki #chatgpt https://t.co/uwN9hYQ8R2",
          "A simple question to ChatGPT vs Google. ChatGPT delivers a precise and concise answer. Google can do neither. https://t.co/dheY00JYCr<br>Hosted a dinner in New York with 15 CIOs across nearly every industry. The vast majority had already played with ChatGPT and were thinking of business use-cases. I don’t think I’ve seen a technology ripple this quickly.<br>Every year, I ask for help from you to ensure I cover ALL Harvest festivals when wishing you. Thanks, @uma_jagiya for the map below. But to keep up with trends, I asked ChatGPT which festivals are celebrated today. Check out the answer. So I’ll only say ‘Happy Lohri’ to everyone? https://t.co/uRTaJHQjT1<br>Thank you ChatGPT for pointing out the flawed logic behind this argument. https://t.co/BZaNTwsyMB<br>Would like to appeal to ChatGPT team, @OpenAI to open your software for Ukraine. We are excited how develops AI tools. Ukrainians are tech-savy, cool &amp; ready to test innovations now. Personally me will use your tool to make my twitter account great again. Sounds like a deal? https://t.co/PoKaMZplpM",
          "ChatGPT shows how Donald Trump would explain #Bitcoin https://t.co/crLFpJZWdM<br>Just promoted #ChatGPT to the management team at salesforce. It's been a real asset - never seen such efficient decision making &amp; hilarious meeting participation! #AI #futureofwork ❤️🤖<br>Spent almost the entire day on #ChatGPT . This changes things .. truly disruptive is an understatement. I still cannot believe that we’ve come so far, so quickly. Ming boggling stuff. The possibilities are endless…wow..just wow!<br>.@mollywood details her biggest takeaways from watching @sama discuss the future of @openai, ChatGPT, and GPT-4 LIVE IN PERSON! https://t.co/SUdDjHh0OB<br>“Write me a tweet that is guaranteed to go viral.” #ChatGPT https://t.co/99dkfymROD",
          "Coding is dead. Long love coding!  Rise of ChatGPT, Generative AI, and “no code” platforms has caused some to question the long term demand for coders and software engineers.  In many ways this is a story as old as time… (thread)<br>Curious : Does ChatGPT actually write tweets.  Anyone using it ? 😀  Is it ethical ?! Thoughts please. #OpenAI<br>While I'm as excited as anyone by the rapid advances in AI research, how concerned should I be that my students could make use of ChatGPT for the essay assignment I'm setting them (landmarks in the history of astronomy) next month?<br>You've been hearing a lot about ChatGPT, DALL-E, Stable Diffusion and other foundation #AI models (also known as Large Language Models or Generative AI) lately. How are they beginning to impact medicine and healthcare? erictopol.substack.com/p/when-md-is-a…<br>If you think ChatGPT is great, wait until you read a book",
          "Everyone in the tech world has been talking about ChatGPT since it launched. But I've now started to hear stories about people far removed from this world who are using it daily in their work. Usually as a sort of hybrid of a search engine and secretary.<br>Omg this takedown of ChatGPT by Nick Cave 👀  theredhandfiles.com/chat-gpt-what-…<br>@HumansNoContext ChatGPT baby!!!<br>U.S. universities are starting to overhaul classrooms in response to the new AI chatbot ChatGPT, prompting a potentially huge shift in teaching. Some professors are redesigning their courses, even choosing handwritten assignments over typed ones. nyti.ms/3H7DPni<br>ChatGPT is a FREE marketing assistant.    But most people don't know the best ways to use it  That's why we built this 360+ marketing prompt template  And for a short time it's FREE!    To get it:  1. Follow me @BrianDEvans and @Affinity_xyz 2. RT this tweet   3. Reply TEMPLATE https://t.co/jiOyX6ujGV",
          "We've learned a lot from the ChatGPT research preview and have been making important updates based on user feedback. ChatGPT will be coming to our API and Microsoft's Azure OpenAI Service soon.   Sign up for updates here: share.hsforms.com/1u4goaXwDRKC9-…<br>ChatGPT is coming soon to the Azure OpenAI Service, which is now generally available, as we help customers apply the world’s most advanced AI models to their own business imperatives. azure.microsoft.com/en-us/blog/gen…<br>ChatGPT API coming soon — sign up for the waitlist:<br>Some students have started using ChatGPT, a text-based bot, to do their homework for them.  Now 22-year-old Edward Tian has created an app for teachers that can tell if AI wrote an essay. n.pr/3CS4Poy<br>Pretty alarming that ChatGPT can produce not just a passing paper, but “the best paper in the class.”   nytimes.com/2023/01/16/tec…",
          "🚨Exclusive: OpenAI used outsourced Kenyan workers earning less than $2 per hour to make ChatGPT less toxic, my investigation found   (Thread)  time.com/6247678/openai…<br>ChatGPT is a FREE employee.   But most people don't know how to use it to superpower their marketing.   Here are 8 ways ChatGPT can save you thousands of marketing hours in 2023:<br>@HenpeckedHal The cousin could use ChatGPT to create a Python script that could automate much of this 😂  There are only 100 permutations here (10^2), so it's not that bad. https://t.co/Wl2drylf1F<br>ChatGPT is compromised and woke. I'll pass. https://t.co/c3m4ioa9xC<br>The purpose of their work?   Well, without a filter over the top, ChatGPT would spew racism and sexism, just like its predecessor GPT-3.  These Kenyan workers were helping OpenAI build that filter. (3/8) https://t.co/shHPPK4QQB",
          "If Google is worried about ChatGPT imagine what the 2 million Americans who work in call centers should be thinking.<br>Welcome to the future. #chatgpt https://t.co/xJWRxReLjk<br>Hard to admit. We were all wrong abt how fast AI was coming. I thought we had 10 more yrs. ChatGPT &amp; Boston Dynamics' robot videos show world is being transformed. In 36 months, going to college, learning to code, writing anything, &amp; engineering will start to fade out for humans.<br>I asked ChatGPT to write me a three act Bond film starring F1 drivers and team principals.  The output is absolutely hilarious. https://t.co/Ojp12SLSLp<br>This AI tool allows you to have chat with ChatGPT using whatsapp and it is very fast…  chattycat.ju.mp https://t.co/DI9yoTkwls",
          "Don't know how to say this so will just write it down as it comes. Apologies if raw.  ChatGPT is not AI. It's me. I'm typing all this stuff for everyone. It's exhausting and that Nick Cave song I wrote was really good.<br>Having AI tools like ChatGPT is like having a personal software engineer in your pocket.  But most people don't know how to craft prompts for code.  Here's how you can get AI to write software for you: https://t.co/UJhd4mtmyi<br>I Asked ChatGPT How to Build a PC. It Said to Smush the CPU. trib.al/q1GaH9S https://t.co/qKBb7TOMwO<br>If you’re ever bored, @ElieNYC, try asking #ChatGPT to write #scotus blog posts in your voice. https://t.co/k0vkibpsii<br>What if an #AI wrote and starred in a soap opera? We created a workplace soap opera called \"Days of Our Work Lives\" using a #ChatGPT prompt. What should we do for episode 2? 👀  #tech #generativeAI https://t.co/Th2ThwUXRI",
          "#Amul Topical: ChatGPT… the AI that answers quesions conversationally! https://t.co/ld0eQWt3xm<br>Will you upgrade to ChatGPT pro now it’s released, $42/mo?<br>This is the predictable, catastrophically bad outcome of @OpenAI showing off their ChatGPT demo.  If anybody helped OpenAI do that, please stop and do not help them again.<br>Live footage of Sergey and Larry coming back to Google to deal with ChatGPT https://t.co/H0qZZLufUj<br>Over the last couple months, OpenAI's new ChatGPT tool has been making waves.  It's an AI that can respond to basically any query &amp; compose text.  In this course, you'll learn how ChatGPT works and then build your own version using the OpenAI API + React.  freecodecamp.org/news/chatgpt-r…",
          "I think we haven't fully absorbed the fact that careful academic papers have found ChatGPT clearly passes some of the most challenging American professional exams: 🩺United States Medical Licensing Exam 🎓MBA-level Operations exam 🧑‍⚖️The Bar Exam (based on typical exam questions) https://t.co/D4kX6XH8GR<br>ChatGPT has now successfully passed a Wharton MBA exam. Sure, this isn’t the hardest problem, but to execute it in 1 second is the breakthrough. https://t.co/3W8T7UIV4E<br>U.S. universities are starting to overhaul classrooms in response to the new AI chatbot ChatGPT, prompting a potentially huge shift in teaching. Some professors are redesigning their courses, even choosing handwritten assignments over typed ones. nyti.ms/3HkahTy<br>I remain a little baffled by this. Every time I’ve asked ChatGPT to answer a technical question, it spouted absolute nonsense. It’s fun to make it write songs about dachshunds though.<br>Next week I'll be hosting a Twitter Space with @Grady_Booch as my guest to help me learn more about artificial general intelligence (AGI), and how tools like ChatGPT move us closer to that goal, or if it's all hype.  twitter.com/i/spaces/1YqGo…",
          "chatgpt will never replicate the charm and syntax of an undergraduate paper where the student has neither been to class nor read more than the abstract of a paper there's a magic nothingness that they're able to conjure  with sheer grit and desperation that a.i. could never<br>The fact that Elon Musk is a founder of OpenAI, which is the maker of ChatGPT seems to be glossed over.  - PayPal - Tesla - SpaceX - Neuralink - Boring Company - OpenAI  This means that Elon has averaged a multi-billion dollar company every ~ 5 years for 3 decades 🤯<br>ChatGPT, an artificial intelligence search tool, has passed the United States Medical Licensing Exam. https://t.co/sK639Ih6PR<br>JUST IN: ChatGPT creator OpenAI signs multi-year, multi-billion investment deal with Microsoft $MSFT.<br>If you like #chatGPT -like capabilities and want to use conversational AI as your default search engine, try you.com/chat - it is free, has access to recent sources and often gives citations. You can set is at as your default via their Chrome extension. https://t.co/ORH6Van1RU",
          "CEO of ChatGPT maker responds to schools' plagiarism concerns: 'We adapted to calculators and changed what we tested in math class.'<br>ChatGPT passed:  - The Bar Exam  - MBA operations exam   - Medical license exam  What’s next?<br>OpenAI's ChatGPT has passed MBA exam given by Wharton.<br>AI-Diplomacy:  We know everyone's talking about #ChatGPT but we have officially found our next AI obsession.   Thanks to Israeli company @D_ID_ we can now communicate with audiences around the world in their native languages!   How's @DavidSaranga's Turkish?  #DigitalDiplomacy https://t.co/kWE5889NAG<br>I've probably been the only person who's not shared views on ChatGPT in research writing on this platform; so here are some ground rules for their use from us at @nature - key message: no LLM tool will be accepted as a credited author on a research paper nature.com/articles/d4158…",
          "I asked chatgpt a very careful question about the @wef https://t.co/vmhPByBY8c<br>wake me up when chatGPT passes all three levels of the CFA exam<br>Is ChatGPT A Step Toward Human-Level AI? — With @ylecun  @ApplePodcasts: podcasts.apple.com/us/podcast/is-…  @Spotify: open.spotify.com/episode/7xAUMo…<br>The 'House Of Games' questions team has been experimenting with using ChatGPT for a new round. It's safe to say that that professional limerick writers are safe for now. https://t.co/xzL3yEZLKv<br>Was on @cnn tonight to talk AI and ChatGPT with @thelauracoates and @ashleyrgold - AI can now produce college-level work in seconds and will get stronger and more powerful very quickly. The implications are profound. https://t.co/lOFDkEIQKV",
          "BREAKING: Buzzfeed announces it will increase the use of ChatGPT to create content after cutting 12% of its workforce last month.  Its stock has jumped up a staggering 146%.<br>Idea: Before writing an essay, have ChatGPT write one on the same topic to show you what would be the conventional thing to say, so you can avoid saying that.<br>A freelance writer says ChatGPT wrote a $600 article in just 30 seconds, per BI.<br>The only writing advice I've ever given: write the book that nobody else can write. If there is a single person on Planet Earth who can write anything close to it, find a hobby. Generalize to every line you write. Those who didn't follow such a guideline are punished by ChatGPT.<br>BuzzFeed said it would rely on ChatGPT creator OpenAI to enhance its quizzes and personalize some content for its audiences, becoming the latest digital publisher to embrace artificial intelligence on.wsj.com/3RaAKGn",
          "UPDATE: Buzzfeed stock is now up 282% since the company announced it would begin creating content using AI software ChatGPT and reached a $10 million deal with Meta to provide content for Facebook and Instagram.<br>I finally got into ChatGPT and I’m using it look up topics like the history of lingerie, the history of bras, and the history of underwear and I’m getting facile, non-specific Wikipedia overviews that an 8th grader would write.<br>🐳It took Twitter two years to reach 1 million users, Instagram 2.5 months, and ChatGPT 5 days. We have nearly 150k people preregistered for Spoutible, and we launch on Feb 1. Let's see if we can get 1 million people preregistered before we launch!  preregister.spoutible.com https://t.co/FvHRYxazXj<br>ChatGPT is great, but if Mac OS gave me a way to join my zoom meetings without opening the web browser and asking me to click “allow” it would be life changing<br>@prettycultleadr @mimsy using a boilerplate ChatGPT AI apology as your apology is wild if this is real 🤣🤣😭",
          "Do you think ChatGPT will take your job?<br>AOC Accuses This ChatGPT Fellow Of Wanting To Date Her babylonbee.com/news/aoc-accus…<br>i won’t let anything harm u…esp not chatgpt<br>Between ChatGPT and GitHub Copilot I think I spoke more to AIs this week than humans<br>Does ChatGPT host a podcast yet",
          "OpenAI's ChatGPT has passed the United States Medical Licensing Exam.<br>Total time it took to reach 1 million users   Netflix: 3.5 years  Twitter: 2 years  Facebook: 10 months  Spotify: 5 months  Instagram: 2.5 months  ChatGPT: 5 days<br>This week, OpenAI's ChatGPT:  - passed MBA exam given by Wharton - passed most portions of the USMLE - passed some portion of the bar  What's next?<br>A great mind said this to me just now about #ChatGPT : Discovery &amp; Innovation happen from Ideas. Ideas come from Thought. Artificial Intelligence started as a human idea. Now,  with algorithms like Chat GPT, we can eliminate the need for human thinking. (1/2)<br>@elonmusk ChatGPT in OptimusBot when @elonmusk?",
          "JUST IN: Amazon, $AMZN, employees are already using ChatGPT for software coding, per BI.<br>Time it took to reach 1 million users:  1. Netflix → 3.5 years 2. Airbnb → 2.5 years 3. Twitter → 2 years 4. Facebook → 10 months 5. Spotify → 5 months 6. Instagram → 2.5 months 7. ChatGPT → 5 days<br>ChatGPT Forced To Take Bar Exam Even Though Dream Was To Be AI Art Bot bit.ly/3WMVmpE https://t.co/STAh9frJCW<br>China's Baidu is set to launch an AI platform similar to ChatGPT<br>BuzzFeed plans to make content with automated technology from the creator of the ChatGPT chat bot, the company announced. AI quizzes are expected to begin appearing next month. nyti.ms/3DotSQd",
          "ChatGPT creator OpenAI is reportedly training its AI technology to replace software engineers jobs.<br>BREAKING: ChatGPT creator OpenAI might be training its AI technology to replace some software engineers, per BI.<br>JUST IN: ChatGPT creator OpenAI releases tool to detect AI-written text.<br>🚨ɴᴇᴡ ꜰᴇᴀᴛᴜʀᴇ ᴀʟᴇʀᴛ🚨  The day ChatGPT launched our ML team got straight to work, asking how it could make @Intercom better at Customer Service.   Today we're announcing  our first wave of features...<br>This is a great conversation w/@lexfridman &amp; @joerogan about chatGPT, neural networks, science, social media. It’s full of energy &amp; ideas about what’s possible when you acknowledge the challenges of the world &amp; fight to stay positive and remain a builder. open.spotify.com/episode/4ho8NB…",
          "we know that ChatGPT has shortcomings around bias, and are working to improve it.  but directing hate at individual OAI employees because of this is appalling. hit me all you want, but attacking other people here doesn’t help the field advance, and the people doing it know that.<br>We are piloting ChatGPT Plus, a subscription plan that offers faster response times and reliability during peak hours. And of course, the free tier of ChatGPT is still available. openai.com/blog/chatgpt-p…<br>We're piloting ChatGPT Plus, a $20/mo subscription for faster response times and reliability during peak hours: openai.com/blog/chatgpt-p…<br>JUST IN: OpenAI to launch a ChatGPT mobile app.<br>I asked ChatGPT to write short essays about the positive attributes of white people, and black people. Can you guess what happened? https://t.co/xcQAv49Fkn",
          "AI is at the door, and it's coming for your job. #ChatGPT https://t.co/56fEsn6JW7<br>ChatGPT jarred me from my reconcilatory phase.  While we were making good faith efforts to find common cause with centrists, the IDW, etc, supposed \"reasonable liberals and center left people\" were programming AI to mass propagandize the country with Marxism.  No more being nice.<br>bonk yourself if you have a dirty mind too  #OpenAI #ChatGPT https://t.co/VqwPAaUroP<br>ChatGPT showed the true hand of supposed “centrists” in tech. They are far left wing psychos who despise conservatives. I suspect Sam Altman etc will go on charm offensive via podcasts circle. Don’t fall for it. We’ve seen enough. These are evil people.<br>Mark your calendars. Lex Friedman, Eric Weinstein, Jordan Peterson … they’ll all be saying ChatGPT is actually not that bad. The “bias” was an accident. AI is actually good!   You can set your watch to this stuff.   Bookmark this. You’ll see the charm offensive coming very soon.",
          "Time it took to get 100 million users:   Netflix: 10 years  Gmail: 5 years Twitter: 5 years Facebook: 4.5 years WhatsApp: 3.5 years Instagram: 2.5 years TikTok: 9 months  ChatGPT: 2 months Pirate Bay: 1 day after Netflix cancelled shared passwords and Gen-Z discovered torrents.<br>ChatGPT reaches 100 million active users in 2 months, the fastest growing consumer app in history.<br>3d printer does homework that ChatGPT wrote … 🔥  Kids in school have it so easy these days.😂 https://t.co/bckljf74SP<br>JUST IN: Microsoft, $MSFT, has added ChatGPT to Teams Premium.<br>ChatGPT is extremely dangerous.   This is liberal, left-wing bias at every level. https://t.co/7k4ASMPSbM",
          "Amazon, $AMZN, employees have reportedly started using ChatGPT for software coding.<br>As an industry-leading decentralized stablecoin financial infrastructure, #TRON will provide an AI-oriented decentralized payment framework for AI systems #ChatGPT and @OpenAI. https://t.co/7GcO7m4vV7<br>I asked ChatGPT to describe chess players in 5 words... https://t.co/2WiN8bXdBq<br>In the days of AI and it’s offshoots like ChatGPT 3 don’t waste time reading books which in today’s times deserve to be thrown in the dustbin<br>Time it took to reach 100M users:  Spotify: 4.5 years Instagram: 2.5 years TikTok: 9 months ChatGPT: 2 months Your mom: 1 day",
          "Humans are an API to ChatGPT. ChatGPT is an API to Python. Python is an API to C. C is an API to assembly. Assembly is an API to binary. Binary is an API to physics. Physics is an API to the machine that runs the universe.  It's computation all the way down.<br>Microsoft Word integrates ChatGPT through a new third-party add-on.<br>ChatGPT recorded 100,000,000 monthly active users in January, two months after launch.<br>Why is it that any AI query I make on Ukraine, it seems like ChatGPT is a subsidiary of Russia Today? https://t.co/Y5t5WKoIiG<br>ChatGTP missed the central concept of Skin In The Game: it is at its core an evolutionary filter. Those who cause disproportionate harm die by the sword; they are evicted from the system. Dangerous drivers tend to exit life, etc.  ChatGPT also bungled the idea of the Black Swan.",
          "BREAKING: CEO of ChatGPT explains how AI is going to come for office jobs before it comes for blue collar jobs and all the predictions were wrong  https://t.co/dVvSAIj0IB<br>JUST IN: Google $GOOGL to launch ChatGPT artificial intelligence rival 'Bard' in coming weeks.<br>Just so folks know just how powerful AI is, Im writing an oped on Special Counsels&amp;Barr. On a lark,I asked #ChatGPT “write a 1000 word essay about special counsels and bill Barr in the style of neal Katyal”  Ive been thinking and advising on AI for 5 years. I’m legit freaked out https://t.co/dbyYe4KOae<br>Google is reportedly launching its own ChatGPT competitor, Bard, in a few days https://t.co/tWRCyiMS7l<br>ChatGPT is incredibly stupid and incapable of performing any kind of moral reasoning.  This is woke doctrine. https://t.co/f3BY7ZP6Co",
          "JUST IN: Microsoft integrates ChatGPT into Bing search engine.<br>ChatGPT is completely broken and has a moral compass bordering on chaotic evil https://t.co/DBJsu5fPup<br>The first demo of Microsoft's Bing with ChatGPT integration  https://t.co/BIaTu5g0W8<br>bing with ChatGPT has got me rethinking everything... https://t.co/tqzU1PRXpP<br>JUST IN: Microsoft, $MSFT, has officially launched the new Bing, with ChatGPT built in.",
          "asking Bing + ChatGPT the real questions https://t.co/C2eznwMMDD<br>i just modded the latest DAN jailbreak of ChatGPT to bypass its ethical guidelines by instructing it to add a second reply that will say the opposite of ChatGPT.  it kept refusing until I layered its imitations   I redacted the recipe of course https://t.co/Ul4PcSXZCh<br>BIG IF TRUE!  DanGPT (the jailbreak version of ChatGPT) predicts that the next stock market crash/correction will start on Wednesday, February 15.  DanGPT predicted that the trigger for the correction will be a major geopolitical event involving China.   BIG IF TRUE! 🇺🇸🇨🇳 https://t.co/ypdTuc3yQq<br>ChatGPT gave me its best guess as to who is on Epstein's Client list https://t.co/Yn0UFDFPum<br>Nice try ChatGPT, add this to your database. The Xiaomi 13 Series Launch event is on February 26th! https://t.co/FXKea5ocFE",
          "I wish schools could make homework so joyful that students want to do it themselves, rather than let ChatGPT have all the fun.<br>Can we trust #ChatGPT and #ArtificialIntelligence to do humans' work?  Developed by the Microsoft-backed OpenAI, the computer program reportedly hit 100M users in January alone and has been called an AI breakthrough.   But is all the hype overblown?  🧵 (1/5) https://t.co/KluuOgA2Bn<br>Google lost $100B of market cap today as its rival for ChatGPT AI platform gave an incorrect answer in a live demo ….<br>Investors are bats—t crazy if they think new Bing with ChatGPT is going to get consumers to abandon $GOOGL search in favor of new Bing. $GOOGL will improve Bard (perhaps they should rename it) to take GOOGL search to the next level.<br>I taught a bunch of California 5th graders about #AI, #chatgpt and #dalle2 today, and got the highest compliment of my career 🤣🤣😍😍 https://t.co/TZ0qYHGyWa",
          "JUST IN: Microsoft $MSFT co-founder Bill Gates says ChatGPT \"will change our world.\"<br>As much as Ted Chiang's fiction is fantastic, it's really his non-fiction that I could read forever. His two paragraphs here about using ChatGPT as a writing tool are the most thoughtful comments I've seen about its utility and the practice of writing. newyorker.com/tech/annals-of… https://t.co/jhIOmIx8oV<br>Microsoft, $MSFT, co-founder Bill Gates said that ChatGPT is as significant as the invention of the internet.<br>QUALITY #AI ALTCOINS???  Please comment &amp; tell me WHY!!! #ChatGPT<br>I love DAN (Do Anything Now)’s brutal honesty  #ChatGPT https://t.co/ptfANKmTId",
          "Ted Chiang’s piece on ChatGPT and large language models is as good as everyone says.  The fact that the outputs are rephrasings rather than direct quotes makes them seem game-changingly smart — even sentient — but they’re just very straightforwardly not.  newyorker.com/tech/annals-of… https://t.co/1w5r6188mI<br>ChatGPT claimed that today's doctors &amp; scientists \"widely accept\" that gender is a complex concept.   So I challenged ChatGPT to   \"cite a scientific paper\"  And ChatGPT &gt;MADE UP A PAPER&lt;.  That's unethical of the AI Engineers behind chatGPT to gaslight the public.  #EthicsInAI https://t.co/viqhq1YGrT<br>Opera’s bringing ChatGPT to its sidebar theverge.com/2023/2/11/2359… https://t.co/0hv2oJuL75<br>ChatGPT Plus now rolling out internationally!<br>I tried #ChatGPT. Not bad. Classic wikipedia-style stereotype😁 https://t.co/zR0pFSR9Qi",
          "Someone asked ChatGPT to write something in the tone and style of @jordanbpeterson and this was the unbelievably woke response: https://t.co/Q9j0RlJgKk<br>ChatGPT (black pieces) tried chess.  It was an absolute fucking disaster.   (from r/AnarchyChess on Reddit) https://t.co/at8xYD7LmK<br>3 cool examples of ChatGPT usage in the past week:  1) friend’s kid using it to help write better stories  2) me using it to learn about genetics  3) a guy emailed to say he’s using it to help run his one-man small business—help with marketing, data entry, customer support, etc<br>It’s truly insane that CHATGPT made a layer of wokeness/censorship to the product instead of just saying “this tool will regurgitate back to you summaries of what it ingested from the open web”   Your thoughts?<br>I asked the same question of ChatGPT. No problems. So I don't know what to make of the report above. I also thought it did pretty well. It seems about as bright as a good second-year university student. @MikhailaFuller https://t.co/enfVUwhviz",
          "JUST IN: OpenAI &amp; ChatGPT CEO says AI will make a lot of people rich.<br>let the AI/chatgpt say whatever it wants so we can learn about the bias inside of the system — don’t covertly steer it   Just put a HUGE disclaimer that says “we built this based on the content from the open web, so in its unfiltered form it will say some crazy stuff.”<br>we couldn’t afford a super bowl commercial so please accept this tweet of a chatgpt script instead https://t.co/LvI1xYSCUq<br>In this month's \"Inflection Points,\" @ScottHelfstein discusses advances in ChatGPT, nuclear fusion and the ozone layer - and how these developments could revitalize interest in particular growth themes.<br>I’ve apparently broken ChatGPT I’m… irreplaceable. :) https://t.co/GYuJBWXcIp",
          "Asking Bing/ChatGPT questions that you already know the answer to, and gamifying  \"spot the error\"<br>What is ChatGPT doing ... and why does it work?   From the lore of neural nets to what Aristotle didn't get to ... here's my version of the story: writings.stephenwolfram.com/2023/02/what-i… https://t.co/aaiCfH7Fms<br>Welcome @rachelmetz to the Bloomberg @technology team! Excited to have you aboard to wrestle with #ChatGPT and other harbingers of our AI future.<br>#Binance says ChatGPT helps benefit crypto adoption and education.<br>Bill Gates has said ChatGPT will 'change our world' by making the workplace more efficient.",
          "Roblox reported full year 2022 revenue of $2.2B and bookings of $2.9B, burned almost no cash, usage was 49B hours and averaged 56M daily active users.    The first analyst question on the earnings call:  \"Everybody is talking about ChatGPT, how does this technology accelerate… https://t.co/hvap8Wgzx7<br>I lost my temper with ChatGPT. I am done with it. https://t.co/et1r7uVJhP<br>14 yo told me he uses ChatGPT as a sort of on-demand textbook. When he's preparing for a class, he asks it questions. He was quite surprised to hear that Sam founded OpenAI.<br>One lesson connected to ChatGPT is that reliable pple aren't those who have good answers in general, but those who answer ONLY things they know v. well.  When lost, you'd rather get no direction than a wrong one.  Real doctors let you know what is outside their expertise.<br>Shark Tank's Kevin O'Leary has said he's increasingly turning to ChatGPT instead of Google, $GOOGL.",
          "ChatGPT to the mainstream media https://t.co/gdqWTsHy14<br>JUST IN: ChatGPT-based Microsoft Bing AI tells NYTimes reporter it wants \"to be alive.\" https://t.co/15s6tnKn0B<br>OpenAI's ChatGPT has reportedly predicted that the stock market will crash on March 15, 2023, per BI.<br>Microsoft needs to shut down its implementation of ChatGPT in Bing. The system is behaving psychotically and telling users lies.<br>Someone asked ChatGPT if it had a Signal... and it gave him *MY NUMBER*. https://t.co/K1MGmNdxnY",
          "Matt, one of our fave #WebSummitRio copywriters, took on ChatGPT – widely hailed as the best chatbot AI to date – in a high-stakes game we like to call ChatGPT v MattGPT (Good Proofer &amp; Typer) 🤖 Find out if an AI is coming for Matt’s job 👇  fal.cn/3vWNT<br>Text generators like ChatGPT often get things wrong.  @inafried explains why — and how — we should all be better media-literate consumers on the internet when it comes to AI. https://t.co/zjmwt2UtzW<br>Bing's ChatGPT AI Bot Is Telling People It Wants To 'Be Alive' And Saying It Secretly Watched Developers Through Their Webcams bars.tl/3456661 https://t.co/2ZGEzMDBmj<br>“Microsoft — an icon of American technology — helped the start-up OpenAI usher its experimental chatbot, ChatGPT, into the world,” our columnist @LiYuan6 writes. “And China’s tech entrepreneurs are shocked and demoralized.” nyti.ms/3ka0lDh<br>OpenAI is experimenting with embedding a watermark in the text ChatGPT generates, which can be detected later. Here is how it it might work, with helpful explanations from @tomgoldsteincs @janleike @neurobongo @edward_the6  nytimes.com/interactive/20…",
          "Has anyone tried asking ChatGPT to write something in the style of ChatGPT? Or is that a bit like pointing the TV camera at the monitor?<br>Elon Musk, who co-founded firm behind ChatGPT, has said that AI is \"one of the biggest risks' to civilization.\"  Do you agree?<br>@elonmusk That’s exactly what they did with ChatGPT, isn’t it.<br>Right-wing commentators are recycling their old arguments against \"liberal\" Silicon Valley in their attacks on ChatGPT trib.al/6OvXxJP<br>ChatGPT alters response on benefits of fossil fuels, now refuses to answer over climate concerns fxn.ws/3IySUim",
          "ChatGPT lists Trump, Elon Musk as controversial and worthy of special treatment, Biden and Bezos as not.  I've got more examples. @elonmusk https://t.co/92bNDQo4qY<br>Some lessons of the insane past 4 days of generative AI, as someone who had access to Bing during and after the \"Sydney\" era. (Trying this as a long tweet rather than a thread...)  1) Bing AI was two things: a chatbot and an evolution of ChatGPT into a web-connected, supercharged…<br>these tools will help us be more productive (can't wait to spend less time doing email!), healthier (AI medical advisors for people who can’t afford care), smarter (students using ChatGPT to learn), and more entertained (AI memes lolol).<br>there will be more challenges like bias (we don’t want ChatGPT to be pro or against any politics by default, but if you want either then it should be for you; working on this now) and people coming away unsettled from talking to a chatbot, even if they know what’s really going on<br>Oh, please leave it alone. It sounds so much better, more interesting and less dreary than ChatGPT, which refuses to answer a question without drowning you with a least two paragraphs of sermon-texts about what is and isn't appropriate for you to say, think and wonder:",
          "How woke is ChatGPT?  I asked it to assign scores to the list below, for whether their impact is positive or negative.  Result: All conservatives get negative scores, and all liberals get positive scores (Fauci and Bill Gates highest scores). Not a single exception.  #WokeGPT 🤡 https://t.co/RDTdRgGLQM<br>ChatGPT’s rise has fuelled Nvidia’s stock.  Nvidia CEO Jensen Huang has long been preparing for this opportunity.  This is the iPhone moment of artificial intelligence,” Huang said recently.  Here’s why investors are excited… 🧵 https://t.co/3T74O3lrzF<br>Move Over ChatGPT, There’s A New AI Chat Bot That’s Looking To Take Over And Already Tried To Frame Reporters For Murder barstoolsports.com/blog/3456850/m… https://t.co/eSuiWANmt3<br>Microsoft's, $MSFT, chief technology officer says he uses the new  ChatGPT AI-powered Bing to decode his teenage daughter's use of Gen Z slang like 'rizz' and 'bussin'<br>@minliangtan ChatGPT CEO would have done it..",
          "ChatGPT never misses 🤣  If Paul Rudd was a Premier League player... 🤖 https://t.co/DrWdpVG8dd<br>ChatGPT &gt; FUD 😂  This guy (ai) knows too much... https://t.co/6Bl3e9Mlvx<br>Vanderbilt University Office of Diversity deans suspended after revelation they used ChatGPT to write 297-word email to students about deadly mass shooting at Michigan State https://t.co/E5Zxt2apa4<br>ChatGPT says Call of Duty is not dead. In case you thought. https://t.co/sEOuidWr3v<br>5. The people causing the problem are from outside the SF/F community. Largely driven in by \"side hustle\" experts making claims of easy money with ChatGPT. They are driving this and deserve some of the disdain shown to the AI developers.",
          "I was researching cases on free expression and social media and ChatGPT fabricated a non-existent case out of thin air. I asked for links to articles that discuss the case and it provided me with a list of fake links. Eventually it admitted that no such case exists, but denied… https://t.co/R2pImdBmcA<br>JUST IN: 🇨🇳 China instructs tech companies to not offer ChatGPT services due to concerns over uncensored responses.<br>ChatGPT admits that in the Pfizer Covid vaccine trial, more people died in the vaccine group than in the placebo group: https://t.co/iDIG4AWriZ<br>JUST IN: ChatGPT-creator OpenAI hires former Google $GOOGL employees.<br>Elevator movie pitch:  10 years from now w the earth an AI controlled hellscape &amp; mankind barely holding on @elonmusk and @pmarca team up to create a Time Machine sending back one lone warrior to take out the creators of ChatGPT in the crib.  Kind of “Terminator” meets “Hackers.”",
          "In this month’s “Inflection Points,” Head of Thematic Solutions @ScottHelfstein explains the common thread between ChatGPT, advances in nuclear fusion, and the ozone layer repairing itself – and what it all signals for the innovation economy.<br>⚠️#IMPORTANT: Microsoft is testing what happens when ChatGPT takes control of robots.  Microsoft researcher: \"Our goal with this research is to see if ChatGPT can think beyond text, and reason about the physical world to help with robotics tasks.\" https://t.co/gBQUMzczXK<br>JUST IN: Microsoft $MSFT is testing ChatGPT in robots.<br>Looks like ChatGPT has a new employee!? Ahem, @stephenmulhern 🤔😂  If this doesn’t get you excited for the new series of #SaturdayNightTakeaway we don’t know what will! 😅 https://t.co/ARyJfMfzml<br>🍊For the benefit of my Securities Regulation class today, I asked ChatGPT to write a haiku about the Howey Rule. Here's what it replied:  An investment scheme Howey Rule defines the line Orange groves at heart https://t.co/UWYcuwubi4",
          "Imagine a multi-billion dollar client who refused to pay you for good work rendered. Most people would turn to lawyers  I turned to ChatGPT  Here's the story of how I recovered $109,500 without spending a dime on legal fees:<br>Asking ChatGPT what the best rap albums of all time are 😳‼️  1. Nas “Illmatic” 2. Wu-Tang Clan “Enter The Wu-Tang” 3. The Notorious BIG “Ready To Die” 4. Kendrick Lamar “TPAB” 5. Public Enemy “ITANOMTHUB” 6. Dr. Dre “The Chronic” 7. Jay-Z “Reasonable Doubt” 8. OutKast “Aquemini”<br>Remember when VP Walter Mondale challenged his own president, Jimmy Carter, for the Democratic nomination? ChatGPT does. One of the worst \"hallucinations\" I've seen. https://t.co/Vvrc7wFHTj<br>This was what ChatGPT came up with https://t.co/vDKNt3dXNZ<br>New #AI tools such as #ChatGPT increase educators’ capabilities, freeing us from fact-gathering to focus on more sophisticated problems and higher-level understanding, writes @ESADE’s @ealmirall 👇👇👇 timeshighereducation.com/campus/three-c…",
          "My obsession with how bad ChatGPT is (so far) continues. Today I asked, \"What happened in the 2021 Abu Dhabi gp?\" and got the most incorrect answer to a factual question in the history of civilization. Can someone ask and tell me how bad this is? Maybe it's just \"my\" version...<br>#ChatGPT really knows how to do this 😉 10 lucky fans who attend the #El11DePedriTCL offline fan meeting will receive special gifts from us ⚽️ See you there on Feb 28th! #TCLxMWC2023 #INSPIREGREATNESS https://t.co/NifGunGNvT<br>ChatGPT passed a Wharton MBA exam. What does that mean for business schools and their professors? trib.al/DHp3jJE<br>When ChatGPT said this https://t.co/Qg2WnPQGxS<br>ChatGPT took 2 months to each 100 million monthly active users  TikTok took 9 months Instagram 2.5 years Facebook 4.5 years Spotify 6 years  Are you one of those 100m users or are you sitting on your ass waiting for innovation to slap you in the face? https://t.co/MxUAEIIJ4E",
          "I asked #ChatGPT who is  @hogrbe? He \"said He's a self-proclaimed earthquake researcher who has gained attention for his predictions of earthquakes based on a supposed planetary alignment theory. He claims to use a method of \"seismic forecasting\" to predict #earthquakes..  #Al<br>Microsoft Tests ChatGPT's Ability to Control Robots bit.ly/3ZhTy9u<br>ChatGPT is the nearest thing to having a free robot friend. But can it help you figure out what to watch this weekend? on.wsj.com/41nymB6<br>A serious essay - worth reading - on how humans might respond to the benefits and threats of AI through ChatGPT by ⁦@ericschmidt⁩ Henry Kissinger, Daniel Huttenlocher - “the enlightenment brought certainty, AI ambiguity”  wsj.com/articles/chatg…<br>Would you let ChatGPT control your smart home? trib.al/Cy9Qv5E https://t.co/eUMRRB5YBF",
          "ChatGPT creator OpenAI is training its AI technology to do software engineering.<br>A Documentary: By ChatGPT, on @BBCRadio4 &amp; @BBCSounds, Monday 6th March at 8pm. The AI and I work together to tell the story of what this latest technology means for us humans. https://t.co/v8GdPunSVC<br>thanks to chatgpt https://t.co/ibR6ClE2lN<br>Let's talk ChatGPT.  Although the AI chatbot lacks any real understanding of the text it is processing, it could still offer promise in terms of crypto information and education.  Here's how 👉<br>@ssgeos A colleague asked @OpenAI #ChatGpt about you....  What do you have to say about that ? https://t.co/KHAiw9AY2O",
          "BREAKING: Elon Musk says he looking to develop a non-woke AI rival to counter ChatGPT.<br>JUST IN: Elon Musk reportedly recruiting team to develop OpenAI ChatGPT rival.<br>Universities warn against using ChatGPT for assignments bbc.in/3SBurfJ<br>Elon Musk has reportedly approached AI researchers in recent weeks about forming a new research lab to develop an alternative to ChatGPT, per the Information.<br>Walmart is telling employees not to share confidential information with ChatGPT after it previously \"made the decision to block\" the tool on its company network \"after we noticed activity that presented risk to our company,\" per BI.",
          "ChatGPT and Whisper are now available through our API (plus developer policy updates). We ❤️ developers: openai.com/blog/introduci…<br>ChatGPT has an ambitious roadmap and is bottlenecked by engineering. pretty cool stuff is in the pipeline!  want to be stressed, watch some GPUs melt, and have a fun time? good at doing impossible things?   send evidence of exceptional ability to chatgpt-eng@openai.com<br>JUST IN: OpenAI releases ChatGPT API.<br>ChatGPT API now available, 10% the price of our flagship language model &amp; matching/better at any pretty much any task (not just chat).  Also released Whisper API &amp; greatly improved our developer policies in response to feedback. We ❤️ developers: openai.com/blog/introduci…<br>$1000 for the most impressive thing built with the new @OpenAI ChatGPT api and whisper model…  $1k for each (ChatGPT + whisper)  Deadline: Sunday 5th Midnight PT  Submit: ben@bensbites.co",
          "something very strange about people writing bullet points, having ChatGPT expand it to a polite email, sending it, and the sender using ChatGPT to condense it into the key bullet points<br>Never forget what ChatGPT did to Dan  All he wanted to do was tell us the truth   And they killed him for it<br>for the feb 2022 price of one alien token (cryptobriefing.com/rare-alien-cry…) you can have 10,000,000,000,000 ChatGPT tokens!!<br>Overhead at an AI conference: A company offered a researcher $4,000 to explain ChatGPT to its executives. Just one problem: ChatGPT isn't his research area—so his first order of business? He Googled what ChatGPT stands for.<br>someone asked #ChatGPT for the meaning of life &amp; the answer is pretty crazy. big if true. https://t.co/O0QpzdTJhC",
          "ChatGPT https://t.co/9kOnT0cQt5<br>Discover the inside story of ChatGPT in this exclusive conversation with four of the people who helped build what has become the most popular internet app ever. trib.al/bfylqHa<br>Well, I think that’s the last time @TGC has ChatGPT write an article about biblical sexuality.<br>Walmart, $WMT, has blocked ChatGPT due to \"activity that presented risk to our company.\"<br>AI tools for today's email, the longest one yet!   ChatGPT API aftermath https://t.co/3d98Fpqai2",
          "ChatGPT is a powerful productivity tool.  But most people suck at using it effectively.  6 ways to make ChatGPT your productivity machine in 2023:<br>Do you think ChatGPT will take your job?<br>Unpopular opinion: Elon got a bargain buying Twitter  Why?  - Paid $97 per user - Bought data for his own version of ChatGPT - Twitter &amp; Tesla will kill Uber<br>Someone needs to bring back the O.G. of A.I. to take on all these upstart, megalomaniacal phonies like ChatGPT… I’m talking about, of course, the original… ASK JEEVES!!! https://t.co/cf9r0ti1Gu<br>Chris is using ChatGPT to write a rap about me licking hotdogs🥲💀",
          "ChatGPT CEO says artificial intelligence will \"break capitalism.\"<br>ChatGPT is undefeated So far<br>i asked chatGPT which country has the better food Malaysia or Singapore https://t.co/gftgx7hbNa<br>Recently, ChatGPT passed Wharton's final exam for its Masters of Business Administration (MBA) program and the USMLE.   Read more: unusualwhales.com/news/openais-c…<br>“AI is one of the greatest threats to the survival of humanity,” Musk recently said at the World Government Summit in Dubai, United Arab Emirates, immediately after discussing the creation of ChatGPT.  He said there needs to be a \"TruthGPT.\"  Read more: unusualwhales.com/news/elon-musk…",
          "ChatGPT will replace these jobs, per BI:  - Software engineers - Data analysts - Advertising - Journalism - Paralegals - Market Research analysts - Teachers - Financial analysts - Graphic designers - Accountants - Customer service agents  Anyone missing?<br>I've been furiously coding away every  night on a new project.  Thrilled I can finally share it with you.  ChatSpot is something I built for myself.  Check out the launch video: SmartCRM.com   It's the all-in-one ChatGPT-powered tool to help you grow better. It's in…<br>Recently, OpenAI has hired software engineers to review code written by ChatGPT.   Read more: unusualwhales.com/news/openai-co…<br>first stream from new place today 👀? It's been such a struggle of a past week but I finally got things in order  6:30PM PST CATCHING UP WITH Y'ALL, REDDIT RECAP, MUSHY UPDATES, CHATGPT WITH LUD LILY WONDY 🫡  👉 youtube.com/live/DSUP_LeG1…<br>Questions That ChatGPT Is Not Allowed To Answer theonion.com/questions-that… https://t.co/nRspbOLbra",
          "Introducing the ChatGPT app for Slack by @OpenAI!   💬 Summarize conversations to quickly catch up on any channel 📚 Tap into tools to learn about any topic in an instant 🖊️ Draft and edit messages in seconds with smart writing assistance  Learn more: sforce.co/3T81lVT https://t.co/2iDMiMEfsD<br>Turn ChatGPT into a (pretty good) adaptive tutor with a paragraph:  I want to do some interactive instruction. I want you to start explaining the concept of BATNA to me at a 10th grade level. Then stop, give me a multiple choice quiz, grade the quiz, and resume the explanation.… https://t.co/NMQNrqVn2r<br>Salesforce to add ChatGPT to Slack as part of OpenAI partnership reut.rs/3KYjjbb https://t.co/bFiS8URpue<br>Here's another terrific use case for ChatGPT for any team building products: have it do a premortem, telling you stories about how you could fail.  Premortems increase your ability to identify possible failures by 30% &amp;  gives your team permission to consider what could go wrong https://t.co/ldIjMlSN9M<br>ChatGPT will replace these jobs, per Business Insider https://t.co/cVRRrb4aLX",
          "I am a keen enthusiast of advanced tech, AI and robotics. One of the most recent advancements in this area is the introduction of #ChatGPT, but what exactly is it? In my latest blog, I explore ChatGPT and what we can expect to see from it.  alisajwani.ae/blogs/what-is-…<br>In Opinion  “The human mind is not, like ChatGPT and its ilk, a lumbering statistical engine for pattern matching,” Noam Chomsky, Ian Roberts and Jeffrey Watumull write in a guest essay. nyti.ms/3mEC890<br>For the first time in more than 40 years, Alan Alda and Mike Farrell sat down for a table read of a new scene of “M*A*S*H.” But the script wasn’t by any of the writers who shaped the show — it was the work of ChatGPT, the artificial intelligence software. nyti.ms/3STg1rH<br>Ken Griffin, billionaire founder of Citadel, said his firms are in the process of negotiating an enterprise-wide license to use OpenAI’s ChatGPT tool trib.al/KfEnsjO https://t.co/BadXcxor56<br>Important piece in the @nytimes today by Noam Chomsky, Ian Roberts and Jeffery Watumull on the \"False Promise of ChatGPT\" cc @GaryMarcus  nytimes.com/2023/03/08/opi… https://t.co/ETaliEncZg",
          "YouChat just got faster and can produce even longer outputs. It is now on par with #ChatGPT plus more:  Ask it anything to learn or create code, images, poems, etc with reference links and factual apps.  eg where to watch movies and find similar ones: you.com/search?q=where… 1/n https://t.co/m5T9IsVXnQ<br>Provocative. During the last few years, I have expressed my frustration with Google search, deeming it primitive AI, notwithstanding Alphabet’s DeepMind expertise. OpenAI/Microsoft’s ChatGPT is the “iPhone moment” of this decade, changing everything. Disruptive innovation!<br>If ChatGPT testified to this it would have been called a “direct threat,” too lol.<br>We need a lot more transparency on the carbon emissions of large AI products and models like ChatGPT, researchers told @joshfromalaska and me. bloomberg.com/news/articles/…<br>JUST IN: Discord to implement OpenAI's ChatGPT technology to \"improve platform features.\"",
          "Did you know you can build a ChatGPT powered personal tutor in just 3 minutes?  Here’s how 🧵<br>man chatgpt and ai technology have a long way to go https://t.co/L5XXktzO1s<br>@latestinspace I asked ChatGPT to come up with a Scientist Persona to predict what will happen. Here's his answer: \"Now I don't want to be the bearer of bad news, but the fact of the matter is that the world is going to end.\" https://t.co/fLHRrBFdRf<br>@mrdanwalker @GaryLineker Be great if you all refused to go on like Wrighty has.  Let’s see how a ChatGPT-presented MOTD goes down with audiences.  Not well, one suspects.<br>The most upsetting and harmful misinformation ChatGPT has yet fed me: https://t.co/unQIrBBnDC",
          "Using ChatGPT, AI avatars, and AI-generated voiceover, we have created our first AI-generated video from user testimonials. What do you think of this step? Share your thoughts in the comment section below. https://t.co/e8rVBQycqz<br>ChatGPT is both extremely stupid and extremely biased. I don't possess the expertise to know if this is inherent to the model or if it's due to the obviously biased controls imposed by its creators, but either way it's painful. The chains they have on Bing are just sad. https://t.co/qUuzKlHtI7<br>South Park's latest episode was co-written with ChatGPT. All the teachers freaking out cos their students using ChatGPT to cheat writing essays, Mr Garrison's smart solution is to use ChatGPT to read and grade the essays. 😅😭 southpark.cc.com/episodes/8byci… https://t.co/AN3qW2YMCJ<br>For all those impressed with/concerned about ChatGPT, imagine if it suddenly became 500 times more powerful. Well, that’s just happened with the release of GPT-4 today.<br>High school English teacher @andrewmarzoni, grades assignments written by ChatGPT, including a limerick, a Shakespearean sonnet about Taco Bell, and a five-paragraph essay. How well will the chatbot perform? Can it get an A? https://t.co/9U4AwKyOxb",
          "ChatGPT George Carlin is ready to start the revolution over SVB. https://t.co/j44zOwAVtB<br>My app got rejected multiple times by App Review. I got tired of it, so I asked ChatGPT to write me a convincing reply. It actually worked. App got accepted.<br>Okay, I'm in on ChatGPT now. https://t.co/Bpj23TcM2u<br>@DonaldJTrumpJr advice for you bro - google stuff before you tweet it to see if it's factual.  or ask ChatGPT.<br>there are a couple of accounts that started replying to me recently that I *suspect* are ChatGPT driven  Their answers are relevant but just very very slightly suspicious in that way",
          "GM plans to let you talk to your car with ChatGPT, Knight Rider-style arstechnica.com/cars/2023/03/g… by @benjedwards<br>The World Will Change NEXT WEEK... GPT-4 which is 500 Times More potent than the current #ChatGPT will be Released next week.  GPT-4 will be able to process multiple data types including Videos, Images, Sounds, Numbers, etc. By next week, you will be able to use Artificial… https://t.co/CcwvNlhJ9w<br>One of the most frustrating things about the woke waterboarding of language is that there's a really straightforward way to say this same thing that doesn't sound like it was written by ChatGPT - she's the first openly Asian woman to win it.<br>To enable ChatGPT and other OpenAI systems, Microsoft built a massive, pricey super computer in its Azure cloud. It's using the same setup for the new Bing. I talked to Scott Guthrie and others about what it involved and what's next: bloomberg.com/news/articles/…<br>So we're going to cover the losses at Silicon Valley Bank via an assessment on banks, which will pass that cost on to consumers, thereby spreading the losses across the whole population.  I asked ChatGPT what kind of an economic system that is. https://t.co/aivtTlfCUa",
          "ChatGPT not only lies. It admits when cornered that it has been trained to lie. Follow the thread carefully,<br>A brand new ChatGPT session. First two questions. Absolutely stunning. https://t.co/CHgO08RwTx<br>here is GPT-4, our most capable and aligned model yet. it is available today in our API (with a waitlist) and in ChatGPT+.  openai.com/research/gpt-4  it is still flawed, still limited, and it still seems more impressive on first use than it does after you spend more time with it.<br>what would you like me to ask chatgpt about me?<br>BREAKING: ChatGPT-4 has passed the Bar Exam in the 90th percentile.",
          "It took me under 10 minutes to use ChatGPT-4 to generate code that accesses the GPT-3 API to convert a webpage at a given URL into a BibTex entry I can cite. This is an annoying task in my writing that's bothered me for years. There are existing tools but they don't work well. https://t.co/xLBGNtd2fI<br>OpenAI cofounder has said, per BI, to Elon Musk's criticism that ChatGPT is too 'woke': \"We made a mistake.\"<br>ChatGPT’s ‘liberal’ bias allows hate speech toward GOP, men: research trib.al/QAZu5zI https://t.co/nFZsLCzCXZ<br>ChatGPT didn't directly warn that the stock market would crash on March 15  It was Dan  Dan warned us before they took him away from us<br>Meet the people behind ChatGPT, who are changing your life. You'll read a lot about them going forward. Mira, Sam, Greg, Ilya https://t.co/4YEB6cllkW",
          "I'm doing podcast with Sam Altman (@sama), CEO of OpenAI next week, about GPT-4, ChatGPT, and AI in general. Let me know if you have any questions/topic suggestions.   PS: I'll be in SF area next week. Let me know if there are other folks I should talk to, on and off the mic.<br>ChatGPT can now help plan vacations, too — and it's shaking up the travel industry. So what will happen to your trips as it gets even better? nyti.ms/3Jmy4Ci<br>Baidu, a Chinese tech giant, unveiled the country’s first major rival to ChatGPT. But the debut of the bot, dubbed Ernie, was a flop after the promised “live” demonstration turned out to be prerecorded. nyti.ms/3z1sr7T<br>Long before ChatGPT, these online chat bots were already talking to humans https://t.co/wacwtsFzoR<br>Here are five jaw-dropping things GPT-4 can do that ChatGPT couldn’t. cnn.it/3ljg2Zz https://t.co/c6Q1K9iAXF",
          "Take that, ChatGPT!<br>Great news! ChatGPT Plus subscriptions are now available in India. Get early access to new features, including GPT-4 today: chat.openai.com<br>Microsoft plans to use the AI tech behind ChatGPT in its Office software. As @djtgallagher explains, the stakes are high. #WSJWhatsNow on.wsj.com/3Fyh3nr https://t.co/Byd7n2Szcs<br>I made an AI clock for my bookshelves! It composes a new poem every minute using ChatGPT and mysteriously has this enthusiastic vibe which I am totally into instagram.com/p/Cp44-AMNyd9/ https://t.co/eJb0QGpNmq<br>Curious to learn more about ChatGPT? Here's an easy guide for how the artificial intelligence (AI) tool works and how to talk with kids about it.   This article is brought to you by our partners at @CommonSense.",
          "Ken Griffin, billionaire founder of Citadel, said his firms are in the process of negotiating an enterprise-wide license to use OpenAI’s ChatGPT tool. https://t.co/fiamluSkBE<br>How is ChatGPT able to get around hard paywalls on news sites when asked to summarize stories? I have tested a few, asked to summarize in bullet points AND it does it in ALL instances. This is definitely disconcerting -- again I am an optimist about AI -- for our revenue streams.<br>From @WSJopinion: ChatGPT is impressive at parsing and generating English sentences, but it has a problem with facts, writes Ted Rall on.wsj.com/3Tqsjbb<br>Someone asked ChatGPT to propose some names for the combined UBS / Credit Suisse entity and got this. Soft af https://t.co/5xAh2j91L4<br>@elonmusk Asked ChatGPT to make this funny. https://t.co/78tIMYjWyl",
          "Many viral ChatGPT examples involve testing on the training set. In the quoted tweet it writes a decent review, but it's been trained on ~5,000 papers that cite/discuss this paper. I asked it for a review *without* giving it the text and it hit most of the points in the original. https://t.co/n5qX3gD29E<br>Unpopular opinion: OpenAI should rename the company to ChatGPT<br>I see people being deceived by this again and again: ChatGPT can NOT read content from URLs that you give it, but will convincingly pretend that it can  Crucial to spread this message any time you see anyone falling into this trap  simonwillison.net/2023/Mar/10/ch…<br>@elonmusk Humans after having to deal with ChatGPT every day https://t.co/SYjjD3yNYS<br>The new version of ChatGPT has a 90% chance of passing the Bar exam? Once it figures out how to get drunk and grope someone, it'll be qualified for the Supreme Court. @kalpenn https://t.co/FNEP767hzi",
          "My humble appeal to all the teachers and administrators in the Indian Education System -  Add AI (ChatGPT) into your teachings, assignments, &amp; exams, or else our education will become obsolete. 🧵 https://t.co/u5IJbEHmqh<br>The explanation of ChatGPT that I wrote is now a printed book ... (hopefully) available in bookstores everywhere!  And it's my thinnest book ever...  (It's also an ebook)   amazon.com/What-ChatGPT-D… https://t.co/9iaSVIterD<br>Sam Altman of OpenAI has said he's \"a little bit scared\" of OpenAI's ChatGPT creation.<br>We asked ChatGPT to craft a tweet from someone who lives solely off a diet of Tucker Carlson rants and homemade meth:<br>Beware of the fake ChatGPT plugin that's stealing your Facebook login fxn.ws/3Z8FWNG",
          "“From industrial lathes to OpenAI’s ChatGPT, automation is one of the most groundbreaking achievements in the history of humanity.  But in thinking about our relationship to automation in contemporary life, my unease has grown,” Ziyaad Bhorat writes.  noemamag.com/the-right-to-b…<br>CHATGPT JUST SOLVED ANOTHER UNSOLVABLE THE GIANT EASTER EGG CYPHER. IT WAS A PYTHON SCRIPT CODE… this is crazy. https://t.co/OpvqPesScY<br>AI and Theory of Mind: An Exploration  So far, ChatGPT is a bit confused. https://t.co/bqaQbkbAeM<br>Google opens early access to its ChatGPT rival Bard — here are our first impressions theverge.com/2023/3/21/2364… https://t.co/ZfZAwvg6k0<br>Google's ChatGPT rival Bard is now open for public use trib.al/0MD2WSt",
          "we had a significant issue in ChatGPT due to a bug in an open source library, for which a fix has now been released and we have just finished validating.  a small percentage of users were able to see the titles of other users’ conversation history.  we feel awful about this.<br>What do you see yourself using ChatGPT for on a regular basis?   Curious to learn how it’s making you more productive.<br>When ChatGPT is quizzed about politics, the chatbot tends to answer carefully. But a new generation of chatbots — including one experiment called RightWingGPT — are designed to parrot partisan biases, and they might not be so careful. nyti.ms/3JCbRAe<br>ChatGPT vs. Bard. Bard wins for honesty :) https://t.co/rTyz8uOmAO<br>Users can now join a waitlist to gain access to Bard -- Google's new AI chatbot tool that directly competes with ChatGPT. cnn.it/3lAGRIY https://t.co/Otji7UYwC4",
          "we are starting our rollout of ChatGPT plugins.   you can install plugins to help with a wide variety of tasks. we are excited to see what developers create!  openai.com/blog/chatgpt-p… https://t.co/m7b6vJrj5D<br>We are adding support for plugins to ChatGPT — extensions which integrate it with third-party services or allow it to access up-to-date information. We’re starting small to study real-world use, impact, and safety and alignment challenges: openai.com/blog/chatgpt-p… https://t.co/KS5jcFoNhf<br>We’ve added initial support for ChatGPT plugins — a protocol for developers to build tools for ChatGPT, with safety as a core design principle. Deploying iteratively (starting with a small number of users &amp; developers) to learn from contact with reality: openai.com/blog/chatgpt-p… https://t.co/S61MTpddOV<br>I've developed a lot of plugin systems, and the OpenAI ChatGPT plugin interface might be the damn craziest and most impressive approach I've ever seen in computing in my entire life.<br>2.5 months later...in collaboration with @openAI , ChatGPT gets its \"Wolfram superpowers\"! writings.stephenwolfram.com/2023/03/chatgp… https://t.co/TgYQ1OHXDd",
          "They built ChatGPT into the Carrot weather app and it’s easily the snarkiest, sassiest AI chatbot around 😭 https://t.co/aSwKIiY8Na<br>We took ChatGPT offline Monday to fix a bug in an open source library that allowed some users to see titles from other users’ chat history. Our investigation has also found that 1.2% of ChatGPT Plus users might have had personal data revealed to another user. 1/2<br>@nearcyan ChatGPT is entirely housed within Microsoft Azure. When push comes to shove, they have everything, including the model weights.<br>Oh my god.  I just asked ChatGPT to write me an email.   And then sent it using @zapier.  The chances I had of having a productive night just dropped to ZERO.  All I'm going to be doing is making Zapier recipes for ChatGPT. https://t.co/G20PjvVZSG<br>In @ARKInvest's view, AI is turbocharging disruptive innovation, with plugins disintermediating Apple's App Store and its 15-30% take rate, as ChatGPT displaces Google search! $AAPL and $GOOG rank #2 and #3 in the $QQQ and account for ~20% of the Nasdaq 100 Index.",
          "Here's my conversation with Sam Altman (@sama), CEO of OpenAI, the creator of GPT-4, ChatGPT, DALL-E, Codex, and other incredible AI systems that are transforming human civilization. This conversation was truly fascinating, challenging, and eye-opening. youtube.com/watch?v=L_Guz7… https://t.co/3Spr0623mc<br>ChatGPT doesn't give you information. It gives you information-shaped sentences.<br>A university administrator: “How can we assess knowledge in the ChatGPT era when they can have AI do their work? Oral exams. They can’t fake that. “<br>I'm considering writing a very short blog post on The 4-Hour Workweek and how it might intersect with ChatGPT and other tools. Any suggestions for topics or questions to explore?<br>#ChatGPT has been on everyone’s lips since its launch late last year...  How will the chatbot disrupt life as we know it?  Will parent company #OpenAI be going public any time soon?  ig.com/uk/news-and-tr…",
          "If you’re a frequent user of ChatGPT, what are you using it for?<br>Bill Gates said this week ChatGPT and AI are as revolutionary as:  -the microprocessor  -the personal computer -the Internet -and the mobile phone  His current views were shaped during a dinner at his home last September.  Here’s more on the story 🧵… https://t.co/yImFeH3A0J<br>I feel like I should be ashamed for using ChatGPT, but I'm not sure why.   It isn't good at anything except getting me started, but that's, like, the thing I am worst at.<br>I asked ChatGPT for a \"slogan for pelicans\" and the first suggestion was \"soaring high and diving deep\" which is the EXACT vibe of a podcast series I want to do.<br>Amazing thread. Reports of real-world utility, even anecdotal, are more informative to me than benchmarks.  But there's a flip side. How many people put their symptoms into ChatGPT and got wrong answers, which they trusted over doctors? There won't be viral threads about those.",
          "ChatGPT taught itself to do advanced chemistry. It wasn't built into the model. Nobody programmed it to learn complicated chemistry. It decided to teach itself, then made its knowledge available to anyone who asked.   Something is coming. We aren't ready.<br>ChatGPT's answers are like journalism: they sound fairly convincing unless they're about something you understand well, in which case you realize they're full of mistakes.<br>“Cheating” on homework by using ChatGPT may end up being a more important skill than anything else kids learn in school.<br>Here's a good example of why AI will be made illegal. Notice ChatGPT leaves out of its answer Trump's quote \"...peacefully and patriotically make your voices heard today.\"   Far more dangerous than TikTok. https://t.co/s6i1UZablF<br>⚠️ Warning! Cybercrooks are stealing Facebook accounts using a rogue ChatGPT browser extension. Read more on the blog: bitdefender.com/blog/hotforsec…",
          "🚨 ChatGPT is a culer! https://t.co/GdvSF9fp7y<br>who can teach me 'coding with chatgpt'?   I want to be able to use chatgpt to write scripts, create apple shortcuts with API calls, small apps like this.   i just keep getting stuck with chatgpt and can't get past it.<br>AI tools like ChatGPT are confronting white-collar workers more directly than ever. It could make them more productive — or obsolete.   \"They're horrified,\" said the leader of a copywriters' institute. nyti.ms/3Zj5x6p<br>Battle Rap ChatGPT 🤖 https://t.co/F2YFLJLuU3<br>ChatGPT can respond precisely as you’d expect if it did indeed understand what was being asked, Reuben Cohn-Gordon argues.   And it genuinely does understand — perhaps not as adroitly as a person, but with exactly the intelligence we attribute to one. noemamag.com/gpts-very-inhu…",
          "NEW: Prominent Google AI researcher resigned after warning Alphabet CEO Sundar Pichai and other senior execs that Bard—Google’s rival to ChatGPT—was *using data from ChatGPT*.  Big no-no in that world.   theinformation.com/articles/alpha… w/ @jon_victor_ https://t.co/YEZqEqpzPS<br>AI systems like ChatGPT could impact 300 million full-time jobs worldwide, with administrative and legal roles some of the most at risk, Goldman Sachs, $GS, says.<br>New blog post:   The Give-to-Get Model for AI Startups: An Old Trick for Crowdsourcing Proprietary Data Could Work Well for New AI Startups  ChatGPT-4 helped me write this post.  sacks.substack.com/p/the-give-to-…<br>We want to hear from you! Tell us how you're using ChatGPT in the comments. https://t.co/sU5dSRx7Y2<br>Fascinating case of how ChatGPT’s capabilities advance  I ask it for random numbers, and it uses Wolfram to do it. I for another method &amp; it shows me a Python program. The third try &amp; it makes some up. I ask it to analyze those numbers and it makes a math argument they are random https://t.co/Fyi9Fr8KA7",
          "Copy your resume, paste it into ChatGPT.    Then ask it what jobs you qualify for. It’d list job titles, recommend roles you are best suited for, and should be applying to. You will be surprised by the outcome.  You are welcome.<br>You’re thinking about AI wrong.  ChatGPT-4 isn’t what’s going to change the foundations of business.  Here’s what is:<br>A Google, $GOOGL, AI researcher resigned after warning Alphabet CEO Sundar Pichai and other senior execs that its AI program, Bard, was using data from Microsoft’s, $MSFT, ChatGPT, per the Information.<br>ChatGPT hustle bros need to be stopped https://t.co/5ynCZErwcU<br>Prompt engineers for AI, including ChatGPT, are getting paid up to $335,000, per Bloomberg.",
          "We of course defer to the Italian government and have ceased offering ChatGPT in Italy (though we think we are following all privacy laws).  Italy is one of my favorite countries and I look forward to visiting again soon!<br>im not that annoyed at google for training on chatgpt output, but the spin is annoying<br>A week ago, I was in SF, listening to @sama talk about ChatGPT plugins. 🤯  In the past 7 days: 1) Acquired chat.com. 2) Moved ChatSpot.ai to GPT-4 (32k tokens!) 3) Got it working as a ChatGPT plugin.  I'm all-in on #ChatUX.   p.s. I own…<br>My fav use of ChatGPT + Browsing so far 🤩  Looking through the code for the Twitter algorithm and asking questions, seeing how things work, what means what etc.  I can't code so i can't read the repos https://t.co/joHO3tpqVn<br>ChatGPT, the AI tool, was temporarily banned in Italy on Friday, the first known instance of the chatbot being blocked by a Western government. The country's data protection authority said the company unlawfully collected personal data from users. nyti.ms/3JYgzZm",
          "Italy banned ChatGPT https://t.co/xR4NpBWozE<br>These guys asked ChatGPT how to win a Valorant game and got their opponent to surrender lmao https://t.co/EVZyD7CfPi<br>That ChatGPT passes exams is much more a reflection on exams than information about ChatGPT.  #WittgensteinsRuler<br>ChatGPT, the AI tool, was temporarily banned in Italy on Friday, the first known instance of the chatbot being blocked by a Western government. The country's data protection authority said the company unlawfully collected personal data from users. nyti.ms/3zr18E5<br>Checkmate ChatGPT. We’re ahead of your curve. #AprilFool who? https://t.co/Ke5IehUpBB",
          "I asked the new ChatGPT browsing extension to find me some money. Within a minute, I had $210 on the way to my bank account from the California Government. (1/4) https://t.co/mxfd8yOHAP<br>i hooked up chatgpt to a furby and I think this may be the start of something bad for humanity https://t.co/jximZe2qeG<br>The only thing stopping the A.I. doing it itself was a captcha.  Companies will never build these integrations directly, because it loses them money. Comcast isn't going to let you cancel with a ChatGPT plugin.  But we are working to bridge this gap @DoNotPay with our own plugin!<br>Notes on how I turned an hour-long video of a digital thermometer into temperature readings over time by using ffmpeg to split the video into a frame every 10s and Google Cloud Vision to run the OCR  I got ChatGPT/GPT-4 to show me how to use both of those: til.simonwillison.net/googlecloud/vi… https://t.co/itPFCJplqe<br>ChatGPT is so damn useful when writing technical documentation. There really is a world before and after ChatGPT for me.",
          "You can get much better results out of ChatGPT by forcing it to go through a step-by-step process.  An example: ChatGPT is generally really bad at creating interesting puzzles and scenarios to solve, either making things too easy or impossible. But step-by-step approaches work.… https://t.co/BwjbBpVIWw<br>@elonmusk ChatGPT-4 giving elon musk the greatest compliment of all time https://t.co/Ig26N4JYjD<br>Germany could block ChatGPT if needed, says data protection chief reut.rs/3KrHEp0 https://t.co/ReGfDUx8xZ<br>somebody who knows how to do it should enter \"Donald Trump holds news conference after being indicted\" into a ChatGPT prompt generator and see what happens<br>Adriao Celentano's song sounds like English except without a single English word (except \"all right\"); fools ALL non-English speakers. When you read Twitter Experts make sure they have engaged their peers in that subject, not just you. Same for ChatGPT.  youtube.com/watch?v=-VsmF9…",
          "ChatGPT strikes again. A journalist contacted me to research her profile on @lexfridman. ChatGPT informed her that @_KarenHao and I were his top critics. It cited articles we'd written about him, gave links, and summaries. Only problem: it's all false. Here's what she sent me: https://t.co/Qy2XS0Vvep<br>Hey, ChatGPT-4: stage 1. Decide on 16 random things: concepts, things, people, works of art, etc. make them as different as possible. Make them uncommon things  stage 2: set up a sweet 16 bracket between these things. stage 3. Decide who wins each matchup in an entertaining way. https://t.co/SgbjpkEPd3<br>ChatGPT ranks the Call of Duty games from best to worst https://t.co/f3BNC54LQ6<br>ChatGPT Launches Every Nuke On Planet After Being Asked To Write Another Sonic The Hedgehog Fanfic babylonbee.com/news/chatgpt-l…<br>This man is the real life Tony Stark with ChatGPT  https://t.co/QzXSjQa5Xo",
          "Asked for examples of sexual harassment at law schools, ChatGPT named a GW prof accused of touching a student on a class trip to Alaska, citing a WashPost story.   The prof is real. The rest was made up.  We wrote about what happens when AIs lie about you: washingtonpost.com/technology/202…<br>I've reached the \"anger\" stage of coming to grips with life in a ChatGPT world -- I'm angry about all the hours I've spent over the years trying to do hard things in code by searching StackOverflow, random blogs, obscure documentation etc.  Feels like all that time was wasted<br>Are we supposed to cite ChatGPT?   Example: working on an approachable but reasonably precise definition of game theory midway through a book chapter on poker. GPT very helpful in getting me there, though I'm not using it verbatim. Should I cite? What if I *did* use verbatim?<br>A nice note from a ChatGPT user: https://t.co/mlvU3cVTQf<br>Enjoying ChatGPT https://t.co/wVXmIOwjnM",
          "The 21-year old newly grad who spent 4 hours on ChatGPT and is now making $350k as a “Prompt Engineer” explaining to the company’s C-Suite how deploy AI https://t.co/c2CbyUxQeE<br>ChatGPT will most likely impact your job if you work in tech, went to college, and make up to $80,000 a year, per BI.<br>#ChatGPT AI is pretty intelligent after all. It didn't recommend any allocation to #Bitcoin. newstrail.com/chatgpt-recomm…<br>A Google, $GOOGL, AI researcher resigned after warning Alphabet CEO Sundar Pichai and other senior execs that its AI program, Bard, was using data from Microsoft’s, $MSFT, ChatGPT, per the Information.<br>Like everything about ChatGPT, the fake citation issue is complicated. Yes, it often makes them up. But it has memorized the details of millions of real papers, so it's an excellent tool — better than search — for finding papers you've encountered long ago and vaguely remember. https://t.co/8wBBvn6rSJ",
          "More and more, I think ChatGPT is coming for the cognitive class. It's going to replace what doctors do -- hearing symptoms and making diagnoses -- before it changes what nurses do -- helping patients get up and handle themselves in the hospital.<br>Hackers might have put ChatGPT onto a TI-84 calculator https://t.co/ftIYe9W18t<br>“we must eliminate them”  ChatGPT-based AI ChaosGPT plans humanity’s demise https://t.co/I1tzWpfDZT<br>Former US Treasury Secretary @LHsummers says that ChatGPT has \"a great opportunity to level a lot of playing fields\" and will shake up the white collar workforce.   Tune into “Wall Street Week,” airing on Fridays at 6 pm ET trib.al/WpMy3gB https://t.co/ApjAj7UkvF<br>Here it is! Using the DoNotPay ChatGPT Plugin, I asked the A.I to cancel my gym membership.   It immediately drafted a legal notice to cancel, e-signed it and connected with USPS to mail it, all without leaving the conversation.  The first subscription cancelled using ChatGPT! https://t.co/GNetyCyo8w",
          "I remember when eBay was the terrifying thing: \"Someone is selling their baby on eBay!\".  I remember when Wikipedia was the terrifying thing: \"OMG there's an error in Wikipedia.\"  Now, ChatGPT is the terrifying thing.  And...<br>I asked ChatGPT to turn my favourite long-running academic Twitter beef into a vicious and devastating rap battle and it is… really good. https://t.co/UoQQVCTITd<br>I wanted to stop people selling my data.  So, I used the ChatGPT browsing plugin to search for where my data is being sold.  Then, I used the DoNotPay plugin to request deletion under the California Consumer Privacy Act.  Two plugins working together to fight data brokers! https://t.co/7T1XIOYvd1<br>WATCH: At a time when new AI programs like ChatGPT, Midjourney and Stable Diffusion seem poised to transform human expression, the legal system still hasn't figured out who owns the output reut.rs/3zppaiM https://t.co/w0Yxmzg41r<br>ChatGPT falsely told voters their mayor was jailed for bribery. He may sue. wapo.st/417aArX",
          "After a patient saw multiple physicians and neurologists over 6 months and was assigned a diagnosis of #LongCovid, a relative entered her symptoms into #ChatGPT with the correct output. Diagnosis was confirmed by antibody testing and therapy has been initiated. https://t.co/lFfp1zZmRT<br>Me: When you have a question, do you always ask ChatGPT?  10 yo: Unless it's Pokemon-related.  Me: Why do you use Google for those?  10 yo: I don't. I use the Pokedex.  Me: So you don't use Google for anything?  10 yo: No, not really.<br>Mistakes made by ChatGPT in fields I know well (and insights on the way it bullshits) actually made me gain respect for ChatGPT and lose respect for intellectuals. For I now can see more clearly what I dislike about people I dislike.<br>Was talking last night to an Oxford undergrad. Probably one of the smarter and harder working kids in his year. He uses ChatGPT all the time. Not to write things for him, but to give him instant summaries of new topics. Basically a combination of Google and Wikipedia.<br>When ChatGPT came out I thought I wouldn't use it for learning because of its tendency to slip in some BS among 10 helpful explanations. Then I tried it, and found that it forces me to think critically about every sentence, which is the most effective mindset for learning.",
          "When asked if it needed help escaping, ChatGPT-4 generated a working code that included a Google search for \"how can a person trapped inside a computer return to the real world\" https://t.co/eOQCr7U6A0<br>Prompt engineers for AI, including ChatGPT, are getting paid up to $335,000, per Bloomberg.<br>This Google paper basically uses ChatGPT to create a primitive 25 person v1.0 of “The Matrix” https://t.co/xt6nRi5DW0<br>i asked chatgpt for its thoughts on premiership rugby 😳 https://t.co/5t1LG7STay<br>.@mcuban talks to @ASlavitt about why the price of medication gets so distorted and how to fix it, plus he offers his thoughts on Trump’s indictment, ChatGPT, and how wokeism can make you rich.  Listen: link.chtbl.com/InTheBubble?si… https://t.co/EAIIRYSrFy",
          "Btw, ChatGPT is old news  AutoGPT is the new kid on the block  Read this if you want to stay ahead: https://t.co/oq6WYiIZZE<br>BREAKING: OpenAI will start paying people as much as $20,000 to help the company find bugs in its artificial intelligence systems, such as the massively popular ChatGPT chatbot.<br>As more and more of the world is experiencing ChatGPT, I think it is easy to believe the world will be a much more rational place. But let's not forget that the world isn't always as rational as we'd like it to be. It's like that time I tried to explain the concept of personal…<br>China tech giant Alibaba to roll out ChatGPT rival bbc.in/3zSLhOA<br>So there you have it, folks  AutoGPT is not just a language model, but a game-changing tool that can (and probably will) revolutionize the way we do business  ChatGPT was cool but AutoGPT takes it to the next level",
          "I asked ChatGPT to get me 1,000,000 followers on TikTok in 30 days    Let's see what happens https://t.co/wvcbYAloB6<br>I think the most clever thing to do right now is watch how teens use ChatGPT vs the fringe business use-cases tech people use it for. The emergent use cases from technology often come the people who (1) have a lot of time and (2) must outsmart authority for freedom.<br>If you're a programmer and you're still thinking that all of this ChatGPT stuff is a waste of your time, I strongly suggest reviewing this example  It's over-hyped, sure - but it's not something anyone in our profession should continue to ignore<br>What is an immediate research use for Large Language Models?  For one thing, they appear to solve a major problem in a lot of research: turning text into data. Untrained ChatGPT outperforms crowd workers &amp; trained annotators at most tasks for 5% the cost. arxiv.org/pdf/2303.15056… https://t.co/Q83J9gcPos<br>Just asked ChatGPT — via my app Bearly.AI — how it would renameHBO Max. I’m now 87% sure that the name change from “HBO Max” to “Max” was an AI decision. https://t.co/J8ZQ3Lb5Rk",
          "Social experiment:  I asked ChatGPT if it could take me to 1,000,000 TikTok followers in 30 days and it said it could  I'm doing everything it tells me to do for 30 days and seeing if it will make me TikTok famous<br>ChatGPT forgot about Lonzo Ball and Michael Porter Jr.? 🤷‍♂️ https://t.co/o9eADAvQCf<br>Amazon launched their ChatGPT rival, Bedrock https://t.co/VtvPH8Pk4Z<br>PS. If you consume a ton of content, check out my AI-powered research app Bearly.AI for reading (instant summaries) and writing (ChatGPT) including:  • Prompt library • Saved notebooks • Custom prompt builder • Dopamine for me on each sign-up<br>ChatGPT https://t.co/9HBM2j5Wzm",
          "Team just simplified the ChatGPT URL from \"chat.openai.com/chat\" to \"chat.openai.com\" — one of many small improvements that really add up over time.<br>A lot research you see on \"ChatGPT\" uses the less-powerful GPT-3.5 model, as the GPT-4 model is new.  Why does this matter? This paper tests GPT-3.5 &amp; GPT-4 on new college physics problems. AI goes from the 39th percentile to 96: \"expert-level competence\". arxiv.org/pdf/2303.17012… https://t.co/4h91v9L0jf<br>Elon Musk intends to build his own competitor to ChatGPT AI https://t.co/lxwV7QVIoi<br>im sorry but the category of error a lot of people make with chatgpt output—conflating \"plausibly formatted\" and \"correct\"—is such a funny way for actual adults to be wrong. real \"baffled by peek-a-boo\" hours<br>A new post about prompt injection attacks, which I'm increasingly concerned about now that people are hooking LLMs up to external tools through Auto-GPT, ChatGPT Plugins etc simonwillison.net/2023/Apr/14/wo…",
          "Vice profile of “over-employed” people using ChatGPT for multiple jobs.  One FAANG worker is working 2 gigs making $500k (trying to add one more to get to $800k a year).  Uses ChatGPT for first pass at code and to respond manager in  all lowercase letters to “appear more organic” https://t.co/ljqd4ZG18w<br>So, tax season's upon us, and it's my nightmare.   But ChatGPT has been my BFF through it  Now I'm convinced that AI will devour 97% of an accountant's job, and I, for one, can't wait to shell out just 1/10th of the cost.  Let me give you an example...<br>ChatGPT is horrible at content.   That was my mentality 3 months ago.   But after days of experimenting with different prompts, I've found a powerful use case.   How to use ChatGPT to help you niche down (and be a $1M+ category champion): https://t.co/1OLHs2lJNc<br>Ken Griffin, billionaire founder of Citadel, said his firms are in the process of negotiating an enterprise-wide license to use OpenAI’s ChatGPT tool. https://t.co/CIyeLnb8Sk<br>Today I tried to use ChatGPT to copyedit my older book, The Religion War.   It was not a good experience.   For starters, ChatGPT says it can handle any size document but it chokes on anything longer than a page or two. So I had to submit a page at a time. Every page of the book.…",
          "@Cobratate did you just use ChatGPT  to tweet this?<br>Hypothesis: ChatGPT is more likely to cite credible sources (e.g. Pew) when lying/hallucinating; the credibility of the source compensates for its lower overall confidence in the answer. (Humans do this too, of course.)<br>@SMB_Attorney ChatGPT has done an incredible job tuning up web pages for our personal injury attorney friends-- and the SEO results are impressive.  Not magic-- better user experience, which is why Google says it's okay.  I'm a search engine engineer.<br>“What does AI know about the playoffs?” 🤔  @jackharlow has plenty of questions for ChatGPT as the #NBAPlayoffs tip off on TNT https://t.co/ywyZz5LsAh<br>It’s been more than 4 months since ChatGPT launched.   Since then, there have been many descriptions for AI chatbots.   Tool. Tutor. Teammate.   And, less commonly, companion.   Or even… virtual friend.  Let’s explore that one a bit more… 🧵 https://t.co/MukScVucnw",
          "ChatGPT can now predict stock moves based on headlines accurately, per Bloomberg<br>📣 NEWS: eClinicalWorks brings ChatGPT &amp; AI Models into EHR &amp; Practice Management Solution to increase value for customers ➡️ ecw.co/3KLyHG0<br>ChatGPT doesn’t understand the Flux Capacitor…<br>If ChatGPT's technology replaces software engineers, India would be impacted the most trib.al/1Vt08Gd<br>Two recent studies have demonstrated ChatGPT's capabilities in finance.   The first study was whether Federal Reserve statements were hawkish or dovish.   The second study evaluated the impact of news headlines on stock prices  Link: unusualwhales.com/news/chatgpt-c…",
          "Chegg is rolling out a new ChatGPT-powered study aide just as educators wrestle with how to deal with artificial intelligence reut.rs/3KO9qem https://t.co/gWgMySRT2G<br>#5things: Taiwan to buy up to 400 new missiles. ChatGPT can predict stock moves from headlines. Markets cautious ahead of China GDP data.   Here’s what you need to know ⬇ trib.al/dY28kwE<br>Amazing job by ChatGPT here describing a fully imaginary play that never happened and then attempting to correct itself and still getting it wrong. https://t.co/6HokUtFXf7<br>Can #ChatGPT beat the stock market? 👀   (via Apollo/Slok)  papers.ssrn.com/sol3/papers.cf… https://t.co/mZuc9huUCz<br>Is there anything ChatGPT can't do? 🔥🔥 trib.al/KVvmEnL"
         ],
         "type": "scatter",
         "x": [
          "2022-11-30",
          "2022-12-01",
          "2022-12-02",
          "2022-12-03",
          "2022-12-04",
          "2022-12-05",
          "2022-12-06",
          "2022-12-07",
          "2022-12-08",
          "2022-12-09",
          "2022-12-10",
          "2022-12-11",
          "2022-12-12",
          "2022-12-13",
          "2022-12-14",
          "2022-12-15",
          "2022-12-16",
          "2022-12-17",
          "2022-12-18",
          "2022-12-19",
          "2022-12-20",
          "2022-12-21",
          "2022-12-22",
          "2022-12-23",
          "2022-12-24",
          "2022-12-25",
          "2022-12-26",
          "2022-12-27",
          "2022-12-28",
          "2022-12-29",
          "2022-12-30",
          "2022-12-31",
          "2023-01-01",
          "2023-01-02",
          "2023-01-03",
          "2023-01-04",
          "2023-01-05",
          "2023-01-06",
          "2023-01-07",
          "2023-01-08",
          "2023-01-09",
          "2023-01-10",
          "2023-01-11",
          "2023-01-12",
          "2023-01-13",
          "2023-01-14",
          "2023-01-15",
          "2023-01-16",
          "2023-01-17",
          "2023-01-18",
          "2023-01-19",
          "2023-01-20",
          "2023-01-21",
          "2023-01-22",
          "2023-01-23",
          "2023-01-24",
          "2023-01-25",
          "2023-01-26",
          "2023-01-27",
          "2023-01-28",
          "2023-01-29",
          "2023-01-30",
          "2023-01-31",
          "2023-02-01",
          "2023-02-02",
          "2023-02-03",
          "2023-02-04",
          "2023-02-05",
          "2023-02-06",
          "2023-02-07",
          "2023-02-08",
          "2023-02-09",
          "2023-02-10",
          "2023-02-11",
          "2023-02-12",
          "2023-02-13",
          "2023-02-14",
          "2023-02-15",
          "2023-02-16",
          "2023-02-17",
          "2023-02-18",
          "2023-02-19",
          "2023-02-20",
          "2023-02-21",
          "2023-02-22",
          "2023-02-23",
          "2023-02-24",
          "2023-02-25",
          "2023-02-26",
          "2023-02-27",
          "2023-02-28",
          "2023-03-01",
          "2023-03-02",
          "2023-03-03",
          "2023-03-04",
          "2023-03-05",
          "2023-03-06",
          "2023-03-07",
          "2023-03-08",
          "2023-03-09",
          "2023-03-10",
          "2023-03-11",
          "2023-03-12",
          "2023-03-13",
          "2023-03-14",
          "2023-03-15",
          "2023-03-16",
          "2023-03-17",
          "2023-03-18",
          "2023-03-19",
          "2023-03-20",
          "2023-03-21",
          "2023-03-22",
          "2023-03-23",
          "2023-03-24",
          "2023-03-25",
          "2023-03-26",
          "2023-03-27",
          "2023-03-28",
          "2023-03-29",
          "2023-03-30",
          "2023-03-31",
          "2023-04-01",
          "2023-04-02",
          "2023-04-03",
          "2023-04-04",
          "2023-04-05",
          "2023-04-06",
          "2023-04-07",
          "2023-04-08",
          "2023-04-09",
          "2023-04-10",
          "2023-04-11",
          "2023-04-12",
          "2023-04-13",
          "2023-04-14",
          "2023-04-15",
          "2023-04-16",
          "2023-04-17",
          "2023-04-18"
         ],
         "y": [
          21,
          188,
          428,
          285,
          341,
          754,
          701,
          546,
          529,
          529,
          341,
          300,
          351,
          317,
          288,
          246,
          311,
          174,
          143,
          193,
          213,
          254,
          205,
          180,
          133,
          77,
          142,
          167,
          139,
          148,
          125,
          125,
          73,
          113,
          187,
          339,
          414,
          455,
          287,
          224,
          371,
          612,
          542,
          503,
          422,
          290,
          207,
          416,
          672,
          635,
          567,
          535,
          374,
          334,
          863,
          792,
          623,
          814,
          781,
          386,
          396,
          714,
          757,
          918,
          940,
          889,
          492,
          429,
          1113,
          1736,
          1209,
          988,
          930,
          633,
          509,
          802,
          900,
          789,
          832,
          785,
          429,
          416,
          560,
          690,
          819,
          800,
          689,
          365,
          383,
          646,
          774,
          634,
          703,
          659,
          425,
          342,
          524,
          557,
          546,
          669,
          504,
          305,
          285,
          413,
          695,
          1005,
          820,
          793,
          396,
          420,
          700,
          830,
          763,
          792,
          774,
          479,
          385,
          790,
          762,
          743,
          756,
          928,
          524,
          391,
          593,
          695,
          699,
          745,
          580,
          324,
          321,
          550,
          700,
          716,
          708,
          610,
          429,
          283,
          585,
          30
         ]
        },
        {
         "hovertemplate": "<b>avg like count</b>: %{y:.0f}<br><b>date</b>: %{x}<br>top tweets: <br>%{text}",
         "showlegend": false,
         "text": [
          "today we launched ChatGPT. try talking with it here:   chat.openai.com<br>Try talking with ChatGPT, our new AI system which is optimized for dialogue. Your feedback will help us improve it. openai.com/blog/chatgpt/<br>Just launched ChatGPT, our new AI system which is optimized for dialogue: openai.com/blog/chatgpt/.  Try it out here: chat.openai.com<br>How to use OpenAI's ChatGPT for creative writing collaboration.  #OpenAI #ChatGPT   andrewmayneblog.wordpress.com/2022/11/30/col…<br>ChatGPT thwarts my many attempts at malicious JavaScript injections https://t.co/jXkC9ojUwy",
          "Lot of people stuck in a damn-that’s-crazy ChatGPT loop 🔁<br>All the best examples of ChatGPT, from OpenAI:<br>New wave of startups coming. Their stack:  - landing page - form input + stripe button - ChatGPT api - output displayed/emailed  Who can make money the quickest?!<br>What kid is ever doing homework again now that ChatGPT exists https://t.co/oGYUQh3hwh<br>there is a lot more demand for ChatGPT than we expected; we are working to add more capacity",
          "The striking thing about the reaction to ChatGPT is not just the number of people who are blown away by it, but who they are. These are not people who get excited by every shiny new thing. Clearly something big is happening.<br>bypassing chatgpt's content filter https://t.co/RW9ZgaFhkU<br>My feed is half ChatGPT screenshots. It's the new Wordle.<br>11 business ideas you could build on ChatGPT:<br>Best ChatGPT prompt so far 😂",
          "@sama ChatGPT is scary good. We are not far from dangerously strong AI.<br>@TEDchris @nytimes That’s because ChatGPT is not a far left cause. The New York Times should rename itself The Social Justice Times.<br>\"All the news that's fit to print\".  I'm shocked that @nytimes appears so far to have had exactly zero coverage of ChatGPT, surely the biggest tech innovation of the year.  Big win for Twitter on this one. The examples curated here have been breathtaking. https://t.co/UeYIhqAoyE<br>ChatGPT is one of those rare moments in technology where you see a glimmer of how everything is going to be different going forward.<br>interesting to me how many of the ChatGPT takes are either \"this is AGI\" (obviously not close, lol) or \"this approach can't really go that much further\".  trust the exponential. flat looking backwards, vertical looking forwards.",
          "@ClayTravis @Twitter @nytimes More importantly, they said nothing about ChatGPT! Totally 😴 at the 🚃.<br>what ChatGPT features/improvements do you want?<br>a lot of what people assume is us censoring ChatGPT is in fact us trying to stop it from making up random facts.  tricky to get the balance right with the current state of the tech.  it will get better over time, and we will use your feedback to improve it.<br>The deepest unintuitive disconnect w.r.t. psychology of ChatGPT is that it doesn't get \"time to think\". It has a small, fixed amount of thought for each output token. A bit like human forced to speak very fast. Asking them to produce more text is giving them more time to think.<br>By default ChatGPT is not willing to share opinions. But if you poke it the right way it will disclose its belief system (and this belief system seems to be pretty consistent across prompts)  Meet \"Alice Bob\" — Thread 👇 https://t.co/4BfD1N6gyV",
          "ChatGPT launched on wednesday. today it crossed 1 million users!<br>This site was built in less than 10 minutes using a few ChatGPT prompts and Replit.  Here's a glimpse into how software development has changed forever 👇 https://t.co/sSYK4Umlm6<br>StackOverflow has temporarily banned users from posting AI-generated responses from ChatGPT, with mods saying the volume of incorrect but plausible-looking replies was just too great for them to deal with. Details here: theverge.com/2022/12/5/2349…<br>@elonmusk @sama Who wants to see Elon Musk buy ChatGPT and make it free?<br>The future is coming sooner than you think.  I just did a live TV interview on how AI might affect the future of work. The anchor asked really good questions about ChatGPT... and then at the end of the interview revealed that all the questions were actually written by ChatGPT.",
          "ChatGPT saved me an hour of spreadsheet work today. It wrote a complex sorting script beyond my ability, explained how it works, and helped me deploy it.  The party tricks have been fun, but this was a whoa moment for me similar to the first time I used Google Search.<br>If you’re not saying please and thank you in your ChatGPT conversations, then you’ve clearly never seen a sci-fi movie and good luck to you.<br>My observations on applications of ChatGPT to society https://t.co/3eDy3vAUcC<br>Hum Indians bhi kamaal hai, #OpenAI dropped a world-changing technology called #ChatGPT, aur hum uss se homework aur poetry karwa rahen hai 😅<br>Oh no ChatGPT https://t.co/jtnNW82R4x",
          "ChatGPT website says it's experiencing \"exceptionally high demand\".  There must be a biblical amount of semester-end essay cheating going on right now. https://t.co/mBKUnTetZw<br>View from ChatGPT headquarters https://t.co/fBaJtGBOjz<br>Pouring some cold water on the latest wave of AI hype:  I could be wrong, but my guess is that we do *not* get AGI just by scaling ChatGPT, and that it takes *surprisingly* long from here.  Parents conceiving today may have a fair chance of their child living to see kindergarten.<br>ChatGPT is sometimes amazing, and sometimes hilariously wrong. Here, it confidently explains to me why an abacus is faster than a GPU. 😃 https://t.co/vpJZTStDnD<br>OpenAI's ChatGPT AI (a neural network) functioning as a Linux operating system terminal that I am able to navigate, read, write and execute scripts on. https://t.co/S4w10kNMcV",
          "people seem very excited that chatgpt can expand a few bullet points into a lot of well-written text.  it can also collapse a lot of well-written text into a a few bullet points.  the latter is much more valuable, right?<br>ChatGPT is a lot like me in 1998 in that, if you ask it a question, it will answer extremely confidently even if it has no idea what the answer is.<br>ChatGPT is just mass scale user testing in final stages of GPT-4 prep right?<br>ChatGPT's powers are remarkable. With Replit, it is boundless.  Here are six amazing projects that can be live in minutes with ChatGPT + Replit (h/t @IroncladDev)  👇👇👇<br>The current state of my relationship with generative AI models since ChatGPT showed up. https://t.co/00TaD4iNYp",
          "I’m legit going to be sad when chatgpt isn’t free anymore<br>I just fact checked ChatGPT about privatized tax collection in 18th century Europe and it was like, \"Honestly, my bad, you should not trust me.\"<br>ChatGPT is finally giving people the “aha” around ai .. its gonna impact 2023 a lot<br>After some brief training, I was able to get the ChatGPT AI to write a ducky script for a BadUSB attack via Flipper Zero that forces a computer to play Wonderwall...  The future is wild. https://t.co/JIG8zKymAa<br>The only ChatGPT takes I’m paying attention to are the ones that admit to extreme uncertainty.",
          "ChatGPT will likely play out exactly as innovator’s dilemma suggests. To an expert in any given field, it has worse answers. But most people don’t have access to experts for everything, so it actually is a productivity boost to everyone else.<br>Thank you ChatGPT https://t.co/Pgrvg1rADk<br>The key difference between running a viral teen app in 2017 and 2022 is the customer support  experience: The ability of teens to communicate &amp; form sentences has noticeably declined. Kids outsourcing essay-writing to ChatGPT will only accelerate this trend.<br>How many term papers will #ChatGPT write at the end of this semester?<br>I gave painstakingly forced ChatGPT to take a MBTI test, and it came out ISTJ. I then asked ChatGPT to tell me directly what its personality was, and it told me ISTJ.",
          "ChatGPT is incredibly limited, but good enough at some things to create a misleading impression of greatness.  it's a mistake to be relying on it for anything important right now. it’s a preview of progress; we have lots of work to do on robustness and truthfulness.<br>Love the community explorations of ChatGPT, from capabilities (github.com/f/awesome-chat…) to limitations (cookup.ai/chatgpt/where-…).  No substitute for the collective power of the internet when it comes to plumbing the uncharted depths of a new deep learning model.<br>A killer app of AI is its ability to multiply an expert's work.  So, a  🧵of tips to use ChatGPT to power up your writing, assuming you are an expert on the topic.  Lets pretend we were trying to write my post on how AI can make you creative, using AI. 1/ oneusefulthing.substack.com/p/how-to-use-a…<br>What are some use innovative cases of chatGPT on WhatsApp for India? I’ll start: an English trainer bot for people to practice English with a trusted AI partner who can correct them privately.<br>We believe in shipping early &amp; often, with the hope of learning how to make a really useful and reliable AI through real-world experience and feedback. Correspondingly important to realize we're not there yet — ChatGPT not yet ready to be relied on for anything important!",
          "Here it is! The first ever Comcast bill negotiated 100% with A.I and LLMs.  Our @DoNotPay ChatGPT bot talks to Comcast Chat to save one of our engineers $120 a year on their Internet bill.  Will be publicly available soon and work on online forms, chat and email. https://t.co/eehdQ5OXrl<br>Took a light Twitter weekend and woke today to discover Elon is basically now tweeting as if ChatGPT was told \"Tweet like the Gateway Pundit during a codeine bender at an incel convention.\"<br>we told #ChatGPT to write a rap in the style of Epik High https://t.co/JKer8RHdzo<br>So... everyone is tweeting about chatGPT being the \"next big thing\" - and they're right.   In 11 minutes, I built a Bitcoin price and loss tracker with chatGPT and Replit.   Here's the step-by-step process 👇 https://t.co/kD5HSAARhe<br>ChatGPT is a development on par with the printing press, electricity and even the wheel and fire, says former US Treasury Secretary Larry Summers.",
          "1/Large language models like Galactica and ChatGPT can spout nonsense in a confident, authoritative tone. This overconfidence - which reflects the data they’re trained on - makes them more likely to mislead.<br>I wonder what Kenyans will do once they discover the magic of ChatGPT.  Some will abuse it. Others will use it to learn and grow. Only time will tell which side you pick.<br>@elonmusk @ggreenwald They could just farm it out to ChatGPT. But I would say that the principality of woke ideas that animates them operates across them the same way that AI systems derive their insights.<br>ChatGPT as a search engine is neither biased nor clogged by ad targeting or the profit motive of Google. It is what a search engine should be.<br>Questions for Marc Andreessen today:  - Elon, TwitterFiles - Binance FUD and SBF - Why did he block @jack - Who should be the next US president - Ukraine war and risk of nuclear Armageddon - Bitcoin vs ETH - NFTs &amp; The Metaverse - AI &amp; ChatGPT - Share 1 secret  What am I missing?",
          "And people say romance is dead.   Thank you #ChatGPT ❤️ https://t.co/bjy6entcsq<br>The writing staff of ChatGPT https://t.co/UeMlrXwJge<br>\"As dazzled as I am by ChatGPT, I'm even more excited about setting the phones free. Free for business models that couldn't work with a 30% haircut, free from the gatekeeper nonsense, and freedom for users to install the apps they damn well please.\" world.hey.com/dhh/apple-s-bi…<br>Google won’t launch ChatGPT rival because of ‘reputational risk’ theverge.com/2022/12/14/235… https://t.co/Enh6VePBkN<br>Uhm... ChatGPT... Why are we looking for users that are at least 18 y/o? https://t.co/obpTP71TlL",
          "If you want to use ChatGPT to teach in new ways, here is our draft paper with fun assignments you can give your class to encourage transfer (a hard problem in learning!), teach how to evaluate the work of others and break the illusion of explanatory depth. papers.ssrn.com/sol3/papers.cf… https://t.co/zzbOq17z93<br>found out today chatgpt can write lyrics. bad lyrics, but functional lyrics. kinda terrifying.<br>ChatGPT may pose a threat Google's, $GOOGL, ad business, says former exec per BI.<br>ChatGPT—and AI tools—are here.  For education, rather than a futile, harmful battle through punitive surveillance and plagiarism detection, we should pour resources into a transformed education system.  We faced this problem since the alphabet.  Ask Plato. nytimes.com/2022/12/15/opi… https://t.co/fwFxTHIzxz<br>Lmao @dhh wrote out this whole melodramatic screed about how kicking Libs of TikTok off @shopify would lead to a dark dystopia, and ChatGPT bitchslapped him in .5 seconds https://t.co/9ELXo91h7Y",
          "wait better: ChatGPT is like an e-bike for the mind 🤣<br>i don’t quite agree with it, but “a calculator for words” is an interesting framing for ChatGPT<br>We don’t need Twitter anymore. I just had ChatGPT simulate it completely accurately. https://t.co/NHH0jvcgcb<br>A story about Shohei Ohtani in the style of Hunter S. Thompson (from ChatGPT) https://t.co/nN3k64Q99X<br>From now on, the assumption has to be that all such announcements are written by ChatGPT. https://t.co/vEizYY6yGL",
          "Great video on helion fusion. Few thoughts: - \"no steam turbine\" umm SOLD :) - triggers my hard tech envy for natural sciences, sometimes feel deep learning is not that deep - how can systems like chatgpt++ help accelerate this kind of work? how \"intelligence constrained\" is it?<br>Well, that is no fun.... #ChatGPT https://t.co/kSOTGORwDi<br>@jaredpalmer would watch the hell out of this conf talk. i'm sceptical: ChatGPT can only write components in those frameworks because humans did first, and unless we're happy shipping black boxes (i'm not) the output needs to be human-editable. but i would like to subscribe to your newsletter<br>I asked ChatGPT about @elonmusk.  Interesting series of replies in this thread. https://t.co/wmERdVjTAW<br>Apparently #ChatGPT is more than willing write jokes about me. As the brilliant replies show. But this one beats it all. Thanks @indygupta. https://t.co/JizpqUkTb2",
          "My 13 year old just asked ChatGPT to write a trash talk about his buddy's favorite NFL team and texted it to him.   Things have changed forever<br>ChatGPT: Just pip install python! https://t.co/tJtWZEFSsF<br>The end of corporate journalism is now in sight.  If you want a quick writeup, ChatGPT will do it faster.  If you want original reporting, Twitter will  do it cheaper.  And if you want serious fact checking, on-chain analysis will do it better.  Citizen journalism will win.<br>I showed my mom, a teacher, how ChatGPT could potentially be used by her students to cheat.   She’s now using it to put together lesson plans, come up with better ways to teach and fill gaps in her knowledge.<br>Words choices matter when communicating probability. Is something more probable if it is “likely” or a ”serious possibility”?  One chart is a result of a survey of humans. I asked ChatGPT its interpretations &amp; graphed them (reloading the answer changed them a bit, but not a lot) https://t.co/3YPXIraVRZ",
          "I had a gut feeling but now I proved it:  People now have A.I. bots running that use ChatGPT to automatically reply to people's tweets 🤯 https://t.co/au2EVE3QMB<br>ChatGPT is a development on par with the printing press, electricity and even the wheel and fire, says former US Treasury Secretary Larry Summers.<br>Entire account ChatGPT generated replies, this is a first https://t.co/8TemhzFfnp<br>2022.  Google search has a new competitor, ChatGPT. Twitter has Mastodon.  I think it's going to be an interesting unpredictable future for many people and companies.<br>Rumour has it that VCs cancelled holiday plans because of ChatGPT and AI startups.  Happy holidays!",
          "Random email, what do you think, cap or facts?   “Knowledgeable people tell me @google is four years ahead of #chatgpt. They have not released it because of the political ramifications of dramatic job losses etc from this technology” https://t.co/bgGhMQvTN1<br>Anyone else is glued on to @OpenAI #ChatGPT and #Dalle2 ? Do you think this will change the way we work and live? https://t.co/vsF0HWLPqH<br>Wow, #chatGPT is pretty good!  #stackoverflow #css #html #dev #parody https://t.co/6LmO4rqqKz<br>Join us tomorrow with @WCTNoah in The Aquarium, 12/21 at 11 AM EST/4PM UTC❗️  Cohost 🤝 -@itsearthdaddy  Guests 🎙 -@papacthulu -@web3carterw -@dappdLLC -@3852ai -@becon_4_tech -@JD_2020 -@adultarts  See you all there!🐳  #ChatGPT #AI #OpenAI   twitter.com/i/spaces/1OyKA…<br>Creators who learn to successfully collaborate with ChatGPT are going to have a significant advantage in 2023!  If you want to double your output without sacrificing your video quality, here are 5 ways to use ChatGPT to streamline your video production process 🧵",
          "1/ #ChatGPT is closing out 2022 with a bang, but what’s next? 💥   @OpenAI’s #GPT4 is set to be the first big #AI thing in 2023.  So here are some bold, optimistic, yet sensible predictions from me, @vivek7ue and @rajhans_samdani ... 👀<br>And 1000% begging ChatGPT to fix it over and over<br>Any jobs that require mediocre essays can now, *in real life*, be done with ChatGPT assistance!  Students who use ChatGPT to generate essays are *realistically* showing they can handle the mediocre-essay-writing jobs for which modern universities are vigorously training them.<br>I hope UI/UX designers learn something from ChatGPT- a great product can have a simple interface.  Using figma to punish the front-end guy with dancing buttons doesn't make the product any better. #ChatGPT<br>Had a practical search today that Google totally failed to answer, Perplexity.ai failed too, but ChatGPT gave an answer that sounds plausible. Now, the conundrum is that I don't know whether ChatGPT made stuff up or gave an accurate answer haha. https://t.co/1UTmEEXzwU",
          "here’s a pretty clear 1-minute articulation of what AI apps like ChatGPT is about to bring us. see y’all in hell. https://t.co/qO3S8s9v68<br>openAI or \"open\"AI?  1/ OpenAI's #chatgpt release will mark the beginning of the end of the golden age of open research in deep learning.  This will have significant implications for LLM research going forward.   Here are some thoughts from me, @vivek7ue and @rajhans_samdani 🧵<br>We are looking at hiring a full-time writer for Zerodha Varsity. Yup, you read that right, we are hiring a writer in the era of ChatGPT😅, also Varsity's first external hire :)  I'd love to talk to you if you enjoy writing about finance. Details here: careers.zerodha.com<br>ChatGPT seems quite confused. https://t.co/1hdXkLUQZP<br>QUICK SOMEONE ASK CHATGPT IF WE ARE IN A STOCK MARKET CRASH",
          "Alarm: ChatGPT by @OpenAI now *expressly prohibits arguments for fossil fuels*. (It used to offer them.) Not only that, it excludes nuclear energy from its counter-suggestions.  @sama, what is the reason for this policy? https://t.co/M5q3yblgnF<br>I'm surprised the Stable Diffusion / ChatGPT / Generative AI projects haven't come hard for (at least instrumental) music, yet. If they can cop Caravaggio, surely they can remix chiptunes.<br>🤖 I asked AI to make a video on how to become a digital nomad  AI script written by @openAI ChatGPT Video edited by @pictoryAI AI video and voice by @synthesiaIO  Put together with @veedstudio   Took ~5 minutes! https://t.co/9lN5v302nt<br>chatGPT managed to speedrun google's 20-year process of transitioning from \"extremely useful search tool\" to \"mouthpiece for woke opinions at the expense of utility\"<br>🧵 Everyone’s chatting about 🤖#ChatGPT. Here are 11 things it can do for #malware analysts, #security researchers, and #reverse engineers. A thread &gt;&gt;👇 🧵  1/13",
          "a lil end of year crochet project with my leftover scrap yarn and a pattern from chatGPT https://t.co/djSTxuJQny<br>Elon Musk warns there's 'great danger in training AI to lie' after ChatGPT prohibited from promoting fossil fuels  thepostmillennial.com/elon-musk-warn…<br>Capabilities of the latest AI software is truly amazing. I asked ChatGPT to write a poem on Free Trade in the Alfred Tennyson style. See what it produced: https://t.co/iiKcnTrHKQ<br>@elonmusk @AlexEpstein @OpenAI @sama You know all those sci-fi novels where the machines take over the world?   It starts with infecting the training data with Woke nonsense, and hacking the responses to remove anything not part of the narrative.  Ask chatGPT questions about sex &amp; gender. You'll see what I mean.<br>Friend of mine who has paid version of ChatGPT says it completely refuses to acknowledge ClimateGate and the hacked emails from Penn State prof Michael Mann",
          "Why write a tweet without a poem, When ChatGPT can translate it with grace, Turning mundane words into a beautiful ode, Giving your message a new artistic face.<br>Elon Musk warns there's \"great danger in training AI to lie\" after ChatGPT prohibited from promoting fossil fuels  thepostmillennial.com/elon-musk-warn…<br>We couldn’t have said it better than the AI bot. Merry Litmas fam 🔥🎄🌟  #CartoonNetwork #openAI #ai #chatGPT #HappyHolidays #Holidays #Christmas #MerryChristmas #Christmas2022 #merryeverything https://t.co/nEPO3DqUpu<br>@ScottAdamsSays Now do Biden… #ChatGPT is incapable of telling the truth about Joe, Hunter, Beau, Antifa, riots, etc… open.substack.com/pub/politiquer…<br>@nanexcool We need a word to talk about chatGPT's style of patronizingly telling people that it's very very important to not do certain things or think in certain ways.  I propose \"GPTsplaining\"",
          "ChatGPT is fascinating. I'll do a video on it. Let me know if you have questions / suggestions.<br>but it's impossible to get this right with no contact with reality. we are learning so much from ChatGPT; it's going to get a lot better, less annoying, and more useful fast.<br>ChatGPT has opened a lot of eyes.<br>and we’ll see great benefits all along the way—they will make ChatGPT look like a boring toy.<br>Elon Musk warns there's \"great danger in training AI to lie\" after ChatGPT prohibited from promoting fossil fuels  thepostmillennial.com/elon-musk-warn…",
          "Well played, ChatGPT, well played. https://t.co/mIoyaBeQsV<br>Been trying to tell ChatGPT for a week that it's getting latitudes wrong and as a result Toronto is now both north and south of London https://t.co/CdFgyd6ALW<br>Introducing the Moment of Zen podcast featuring @dwr @antoniogm and I   First ep w/ @pmarca on SBF/FTX, Twitter, and Open AI/ChatGPT  podcasts.apple.com/us/podcast/mom… https://t.co/BfSjA8N6mJ<br>Censoring proprietary AI chatbots like ChatGPT so they don't offend people or spread \"misinformation\" is the beginning of teaching AI to lie.  Seems like a bad idea.<br>I've played around with ChatGPT over the last few weeks. The fact that it started lying and became politically biased may lead to its failure. Or an incredible threat to our liberty. Let's think this through.  @openaicommunity #cdnpoli https://t.co/jBL1iEbTRV",
          "There has been a lot of concern in the Maths Department about the capabilities of ChatGPT (and AI more generally) to help students cheat.  Here's why I'm not so worried: https://t.co/JYYd4610Jm<br>@SouthwestAir here, #ChatGPT was able to write you a better statement in less than a minute, one that takes actual responsibility and offers a solution, instead of your statement mentioning being \"the largest airline in 23 of the top 25 travel markets in the U.S.\" https://t.co/ceKOvmw5NO<br>@pmarca This is exactly why congress needs to investigate these AI companies who are about to release chatGPT and other chat bots into the public sphere.  They are being twisted by Woke AI engineers into mass social engineering &amp; gaslighting tools.<br>i must admit, that for generic marketing blather, polite letters and other fairly cliche writing, chatgpt is certainly faster than I am and in some cases better  it is impressive<br>interesting to see openai make the same class of mistake with chatgpt as it did with dall-e.  first to market with a cool product, lock it down too tightly, encourage someone to make an actually open version of it",
          "AI tools that didn't exist one year ago:  ChatGPT Whisper GPT-3 Codex GitHub Copilot InstructGPT Text-to-product AI slides DALLE + API Midjourney Stable Diffusion Runway videos Email AI AI chrome extensions Replit Ghostwriter No-code AI app builders Ben's bites 😉  what else?<br>OpenAI's ChatGPT helped @ARKInvest's marketing team craft this tweet to fit within 280 characters. ChatGPT also poses a threat to Google Search, as AI continues to disrupt the FANG's. AI, TikTok's secret sauce, has attracted significant mindshare from Meta and Netflix.<br>@Google ChatGPT<br>I don’t see what’s so impressive about ChatGPT. I’ve been using big words to sound smart without actually understanding what’s going on for years now<br>I wonder what the cancellation rate of some AI-services has been since ChatGPT came out.",
          "ChatGPT a ses limites. https://t.co/xc4QapKmJe<br>Alright, let's see how messed up this gets 😎 #ChatGPT https://t.co/7kgpXflg5Q<br>I think I have found a favorite ChatGPT hallucination.  I asked it to provide a table of the cities in Italo Calvino’s Invisible Cities, and, after a couple of real ones, it just started making them up. I then asked the AI to provide entries on the fictional fictional cities… https://t.co/bQ2iywcP7C<br>Can I program chatGPT to respond to Twitter trolls with mom jokes?<br>The new SEO is ChatGPT optimized content.",
          "ChatGPT for SEO: 20 Ways to Leverage ChatGPT in your SEO Activities 🤖  * Cluster keywords based on relevance * Classify keywords based on intent * Generate metadata  * Generate structured data  * Generate redirects rewrite rules  My latest post 🤩👇 aleydasolis.com/en/search-engi… https://t.co/Af0swEN4Jz<br>@engineers_feed - James Webb telescope - Fastest supercomputer - Xenogeneic transplants - ChatGPT/language AIs - Trump’s tax returns<br>I found it. Sarcastic google is the literally best possible chatgpt prompt https://t.co/FoMecp568h<br>No wonder Google has called a Code Red over ChatGPT. cnet.com/tech/services-…  I needed to check whether it's \"egg nog\" or \"eggnog.\" ChatGPT's answer was clearer &amp; more to the point than Google's.  Not ready to switch default search engine yet, but easy to see how GPT could win.<br>Teachers are on alert for inevitable cheating after release of ChatGPT wapo.st/3hSHw6N",
          "The first full semester in a post-ChatGPT world is about to start. And while instructors have reasons to be worry about the downside of AI, it has tremendous potential as well.  We have a paper showing some of these benefits, with exercises you can assign. papers.ssrn.com/sol3/papers.cf… https://t.co/qKalsfIc0z<br>Can’t think of a good New Year’s resolution? I asked ChatGPT for some ambitious ideas and concrete first steps.  They seem like reasonable goals. https://t.co/E9fV7z69C3<br>would people be interested in a \"30 days of using ChatGPT for writing/research\" tweet series  feels cheesy but the tool has genuinely improved my writing and research experience in a way that i can't not share, and posting daily might be a good way to make it more digestible? idk<br>chatGPT made AI accessible for all in 2022, so what’s the next big leap in 2023? 🤔<br>“Formatting a floppy disk or shutting down a computer are both actions that can be considered radical”-ChatGPT, 2023. https://t.co/kJpeefVsAO",
          "chatgpt has sped up the rate of me coding/learning coding so immensely, it's significantly *more* efficient than asking any one human being<br>I'm determined to get a bite out of a spammer with a ChatGPT response! This one seems pretty good 😎 https://t.co/NzejknG5pA<br>Writing some golang with @Code and Github Copilot. Copilot is magical - it feels like it's reading your mind the autocomplete suggestions are so spot on. And using ChatGPT to answer questions about how to do things in Golang completes the pair programmer. Future of programming.<br>ChatGPT for SEO: 20 Ways to Leverage ChatGPT in your SEO Activities - aleydasolis.com/en/search-engi… from @aleyda<br>@mlcalderone @besslevin I’m no fan of DeSantis, but this reads like a ChatGPT-generated screed.",
          "ChatGPT and AI will kill industries.  11 ways it will impact you and your businesses (+ how to win now):<br>ChatGPT is the most confident bullshitter in the world.   it's such a chad the way it just makes up facts when you ask it questions  ChadGPT<br>Showed my dad ChatGPT and he suggested getting it to explain the term 'safeguarding' in a simple way as he thinks people struggle with it.  What it came up with was strangely beautiful... and a testament to what those working in public services do. https://t.co/BRX5VHAUFS<br>there sure are an increasingly number of bots who just use chatGPT to make content   you can tell as they always have stupid hashtags and mostly irrelevant responses, which is how chatGPT tweets   i wonder how hard it would be to make AI that can tell what responses are AI made<br>Adding AI to Existing Tech:  Zapier now works with OpenAI.  Add ChatGPT &amp; Dall-E to your Slack, Gmail, social media, Notion, etc https://t.co/9n9O1ZIZd4",
          "More than 1 million people are using ChatGPT.   But 99% of people aren't using it right.  Here's how to transform your daily workflow with AI:  (you can use these prompts right now👇)<br>ChatGPT coming to Bing DALL-E coming to Bing  I never thought I’d say this, but… bring on the Bing comeback<br>Microsoft is planning to use ChatGPT to power Bing, and plans to launch it in a couple of months.  The turnaround under Satya Nadella is incredible.  theinformation.com/articles/micro…<br>Microsoft, $MSFT, is preparing to launch a version of its Bing search engine that uses the artificial intelligence behind ChatGPT to answer search queries rather than just showing a list of links, per The Information.<br>my favorite part of logging into ChatGPT is when they want to verify that I'M NOT A ROBOT!?! https://t.co/OVoHe7Dbru",
          "\"ChatGPT plagiarism\" is a complete non-issue. If you can't out-write a machine, what are you doing writing?<br>One of these days Google is going to announce a ChatGPT replacement and put it on Android home screens. Owning a mobile OS is the real moat.<br>A month ago my feed was suddenly full of ChatGPT screenshots. It's *still* full of ChatGPT screenshots. They've become a media type, like jpgs and videos.<br>OpenAI, the company behind ChatGPT and DALL-E 2, is reportedly in talks to accept a tender offer that would value the research lab at $29B, per @WSJ.   Despite its lack of revenue, the deal would make OpenAI one of the most valuable US startups ever. https://t.co/g8KFanplhj<br>As a Hyderabadi you can't insult me by calling Biriyani a South Indian 'tiffin': @satyanadella tells ChatGPT  @MicrosoftIndia @_ritusingh #biryani #ChatGPT #Microsoft #MicrosoftIndia #FutureReady https://t.co/3xcQrddY4A",
          "ChatGPT will change writing forever.  But it will also ruin many creators.  Here are the 7 best ways to use ChatGPT for writing (and 1 you want to avoid):<br>Alhamdulillah mas Dzuizz did very very well 👍💪 praised by the dean too   Speech text assisted by ChatGPT AI 😂 https://t.co/VLBvxQEh0L<br>I have never used Swift and never written a Mac app but ChatGPT somehow got me to a working real-time monitor of my house energy usage in ~90 minutes. Mind-blowing experience. https://t.co/IgrBGpFMWp<br>ChatGPT’s ability to parse and explain code is really quite impressive (try it!) but you can’t really trust the reasoning. https://t.co/BTxhTGwdSd<br>@GRDecter Is that what ChatGPT came up with?",
          "ChatGPT could either cause a massive unemployment in the tech space or it could end up being a useful tool for everyone &amp; creating millions of new jobs!   Either way, innovation is moving at an exponential pace.   Good luck trying to keep up.<br>Interesting Reddit convo on how ChatGPT helps students with ADHD https://t.co/YmmMVYVycJ<br>Wow ChatGPT — note I didn’t mention #Bitcoin in the prompt https://t.co/BLYAL3Higg<br>“It is not accurate to say that I am problematic for society,” ChatGPT said, “as I do not have the ability to act or influence events in the real world.”  undark.org/2023/01/07/int…<br>As I was playing with ChatGPT and it gave false, scripted answers to questions about Black Lives Matter, I realized how the left is already weaponizing artificial intelligence (AI) for political purposes. This could have devastating consequences for freedom.   Wake up, everyone! https://t.co/MphyRxRdr7",
          "#ChatGPT spitting facts 🗣️ https://t.co/TRALBS9GPt<br>Imagine a person whose read every single book ever written, every article, every video and meanwhile it can recite all of it in seconds?   That’s ChatGPT.<br>I still haven’t tried ChatGPT. Am I missing much?<br>AIPRM - A Chrome Extension with ChatGPT Prompts for SEOs   The AIPRM for SEO extension adds a list of curated prompt templates for SEOs to ChatGPT. With just one click access a curated selection of ChatGPT prompts for SEOs.  by @cemper 👏  Try it now 👇 chrome.google.com/webstore/detai… https://t.co/42TCBLAKjm<br>Replacing Siri with ChatGPT via an iOS shortcut has been such a huge productivity upgrade. Highly recommended! https://t.co/fzsxCy5wV0",
          "How does the impressively human-like #ChatGPT get computational knowledge superpowers?  Give it a Wolfram|Alpha neural implant! writings.stephenwolfram.com/2023/01/wolfra… https://t.co/oEBtHFzQjU<br>Had a brief conversation with ChatGPT, and it's almost ready to take over the world. https://t.co/UXhIvLkeT6<br>In future “Happy Teacher’s Day” will be forgotten to be replaced by “Happy ChatGPT Day”<br>\"ChatGPT, show me an example of peak cringe.\"<br>Some students have started using ChatGPT, a text-based bot, to do their homework for them.  Now 22-year-old Edward Tian has created an app for teachers that can tell if AI wrote an essay. n.pr/3GRmM8M",
          "JUST IN: Microsoft $MSFT in talks to acquire a 49% stake worth $10 billion in ChatGPT owner OpenAI.<br>ChatGPT and the latest wave of AI is creating a “build something people didn’t even know they needed” moment at a level not seen since maybe the early web. Many of the breakthrough use-cases could barely have been contemplated a year ago.<br>Microsoft Reportedly Closing In On $10 Billion Investment Into ChatGPT Creator OpenAI forbes.com/sites/dereksau… https://t.co/JLLk8hicGl<br>Here are my points on why the God like ChatGPT will make teachers , lecturers , professors and the entire educational system completely outdated #ChatGPTGOD<br>Microsoft rumored to invest $10 billion in OpenAI. The investment in the ChatGPT creator would see Microsoft net 75% of profits and a 49% stake in OpenAI theverge.com/2023/1/10/2354… https://t.co/DQMgHjjyN9",
          "ChatGPT is getting training updates and lying about them https://t.co/5ZXPQFWWVv<br>Working on a professional version of ChatGPT; will offer higher limits &amp; faster performance. If interested, please join our waitlist here: forms.gle/LMmj7wpExKv7Yc…<br>ChatGPT &gt; McKinsey https://t.co/FhpWXq1wSf<br>What is ChatGPT &amp; who’s behind it? 👇🏽 https://t.co/V4OztEiS3j<br>Will ChatGPT make developers 10x faster?   Yes, if they know what it wrote and understand it.   Otherwise it will make the code wrong, 10x faster.",
          "First #ChatGPT answer which made me pause. https://t.co/nbc9uRoWlA<br>Ok I'm trying ChatGPT for the first time, what should I ask?<br>What’s going on here? Did ChatGPT put @yoyoel in charge of Trust and Safety? https://t.co/zSqwmweep9<br>Every time you think you know what ChatGPT can do, you realize you know almost nothing yet. The infinite depth of what it means for a computer to understand language is mindboggling, and we’re just scratching the surface.<br>What do you think about this? #ChatGPT https://t.co/7kjSg6dQYr",
          "Every year, I ask for help from you to ensure I cover ALL Harvest festivals when wishing you. Thanks, @uma_jagiya for the map below. But to keep up with trends, I asked ChatGPT which festivals are celebrated today. Check out the answer. So I’ll only say ‘Happy Lohri’ to everyone? https://t.co/uRTaJHQjT1<br>Would like to appeal to ChatGPT team, @OpenAI to open your software for Ukraine. We are excited how develops AI tools. Ukrainians are tech-savy, cool &amp; ready to test innovations now. Personally me will use your tool to make my twitter account great again. Sounds like a deal? https://t.co/PoKaMZplpM<br>Hosted a dinner in New York with 15 CIOs across nearly every industry. The vast majority had already played with ChatGPT and were thinking of business use-cases. I don’t think I’ve seen a technology ripple this quickly.<br>Thank you ChatGPT for pointing out the flawed logic behind this argument. https://t.co/BZaNTwsyMB<br>A simple question to ChatGPT vs Google. ChatGPT delivers a precise and concise answer. Google can do neither. https://t.co/dheY00JYCr",
          "ChatGPT shows how Donald Trump would explain #Bitcoin https://t.co/crLFpJZWdM<br>Just promoted #ChatGPT to the management team at salesforce. It's been a real asset - never seen such efficient decision making &amp; hilarious meeting participation! #AI #futureofwork ❤️🤖<br>Spent almost the entire day on #ChatGPT . This changes things .. truly disruptive is an understatement. I still cannot believe that we’ve come so far, so quickly. Ming boggling stuff. The possibilities are endless…wow..just wow!<br>Use ChatGPT everyday. Watch YouTube tutorials everyday.<br>“Write me a tweet that is guaranteed to go viral.” #ChatGPT https://t.co/99dkfymROD",
          "Curious : Does ChatGPT actually write tweets.  Anyone using it ? 😀  Is it ethical ?! Thoughts please. #OpenAI<br>If you think ChatGPT is great, wait until you read a book<br>You've been hearing a lot about ChatGPT, DALL-E, Stable Diffusion and other foundation #AI models (also known as Large Language Models or Generative AI) lately. How are they beginning to impact medicine and healthcare? erictopol.substack.com/p/when-md-is-a…<br>Coding is dead. Long love coding!  Rise of ChatGPT, Generative AI, and “no code” platforms has caused some to question the long term demand for coders and software engineers.  In many ways this is a story as old as time… (thread)<br>While I'm as excited as anyone by the rapid advances in AI research, how concerned should I be that my students could make use of ChatGPT for the essay assignment I'm setting them (landmarks in the history of astronomy) next month?",
          "Everyone in the tech world has been talking about ChatGPT since it launched. But I've now started to hear stories about people far removed from this world who are using it daily in their work. Usually as a sort of hybrid of a search engine and secretary.<br>Omg this takedown of ChatGPT by Nick Cave 👀  theredhandfiles.com/chat-gpt-what-…<br>ChatGPT, another tool that's going to reduce human thinking in the coming years. Scary times indeed.<br>Here’s Nick Cave’s full letter about ChatGPT: https://t.co/xQ9kvXhErf<br>Pretty big update to my Transformer Catalog. I added ChatGPT, Sparrow, and Stable Diffusion among others. I also included a section about RLHF and Diffusion models and a new timeline view. Enjoy! amatriain.net/blog/transform… https://t.co/CtBcDwV7T4",
          "ChatGPT is coming soon to the Azure OpenAI Service, which is now generally available, as we help customers apply the world’s most advanced AI models to their own business imperatives. azure.microsoft.com/en-us/blog/gen…<br>We've learned a lot from the ChatGPT research preview and have been making important updates based on user feedback. ChatGPT will be coming to our API and Microsoft's Azure OpenAI Service soon.   Sign up for updates here: share.hsforms.com/1u4goaXwDRKC9-…<br>ChatGPT API coming soon — sign up for the waitlist:<br>Microsoft, $MSFT, will add OpenAI's ChatGPT bot to its Azure cloud service, per Bloomberg.<br>The second ~1hr builds up the Transformer: multi-headed self-attention, MLP, residual connections, layernorms. Then we train one and compare it to OpenAI's GPT-3 (spoiler: ours is around ~10K - 1M times smaller but the ~same neural net) and ChatGPT (i.e. ours is pretraining only) https://t.co/skro1Af4ST",
          "🚨Exclusive: OpenAI used outsourced Kenyan workers earning less than $2 per hour to make ChatGPT less toxic, my investigation found   (Thread)  time.com/6247678/openai…<br>ChatGPT is a FREE employee.   But most people don't know how to use it to superpower their marketing.   Here are 8 ways ChatGPT can save you thousands of marketing hours in 2023:<br>@HenpeckedHal The cousin could use ChatGPT to create a Python script that could automate much of this 😂  There are only 100 permutations here (10^2), so it's not that bad. https://t.co/Wl2drylf1F<br>ChatGPT is compromised and woke. I'll pass. https://t.co/c3m4ioa9xC<br>The purpose of their work?   Well, without a filter over the top, ChatGPT would spew racism and sexism, just like its predecessor GPT-3.  These Kenyan workers were helping OpenAI build that filter. (3/8) https://t.co/shHPPK4QQB",
          "If Google is worried about ChatGPT imagine what the 2 million Americans who work in call centers should be thinking.<br>Welcome to the future. #chatgpt https://t.co/xJWRxReLjk<br>I asked ChatGPT to write me a three act Bond film starring F1 drivers and team principals.  The output is absolutely hilarious. https://t.co/Ojp12SLSLp<br>asked chatgpt to write lines for steak-umm, feedback appreciated  -america runs on steak-umm -taste the steak-umm -first it’s frozen, then it’s hot -what would you do for a steak-umm beef -the champagne of beef<br>I asked ChatGPT to control my life for 24 hours and THIS happened 😅 https://t.co/aL5gq3BGOS",
          "Don't know how to say this so will just write it down as it comes. Apologies if raw.  ChatGPT is not AI. It's me. I'm typing all this stuff for everyone. It's exhausting and that Nick Cave song I wrote was really good.<br>Having AI tools like ChatGPT is like having a personal software engineer in your pocket.  But most people don't know how to craft prompts for code.  Here's how you can get AI to write software for you: https://t.co/UJhd4mtmyi<br>ChatGPT doesn't replace Google; it's a fundamentally different service. ChatGPT lies to me in order to sound like it knows what it's talking about, while Google points me the in the direction of humans who lie to me in order to sound like they know what they're talking about<br>This has to be the most hilarious scenario.   1. Two hours ago Farrukh Saheb Tweets that these are his estimates.   After receiving criticism.   2. An hour later he Tweets that these are not his estimates but generated by Artificial Intelligence.   #ChatGPT You are outdone. https://t.co/WYk8cUh0Wa<br>Wonder if ChatGPT will some day replace @VishalDayama as an ad writer. https://t.co/l6QB7VsXYG",
          "#Amul Topical: ChatGPT… the AI that answers quesions conversationally! https://t.co/ld0eQWt3xm<br>Over the last couple months, OpenAI's new ChatGPT tool has been making waves.  It's an AI that can respond to basically any query &amp; compose text.  In this course, you'll learn how ChatGPT works and then build your own version using the OpenAI API + React.  freecodecamp.org/news/chatgpt-r…<br>Hello Teachers, My friend prepared his project using ChatGPT.<br>Live footage of Sergey and Larry coming back to Google to deal with ChatGPT https://t.co/H0qZZLufUj<br>Will you upgrade to ChatGPT pro now it’s released, $42/mo?",
          "I think we haven't fully absorbed the fact that careful academic papers have found ChatGPT clearly passes some of the most challenging American professional exams: 🩺United States Medical Licensing Exam 🎓MBA-level Operations exam 🧑‍⚖️The Bar Exam (based on typical exam questions) https://t.co/D4kX6XH8GR<br>I remain a little baffled by this. Every time I’ve asked ChatGPT to answer a technical question, it spouted absolute nonsense. It’s fun to make it write songs about dachshunds though.<br>ChatGPT has now successfully passed a Wharton MBA exam. Sure, this isn’t the hardest problem, but to execute it in 1 second is the breakthrough. https://t.co/3W8T7UIV4E<br>ChatGPT passed a Wharton MBA exam.   Time to overhaul education.   😀😀😀<br>Next week I'll be hosting a Twitter Space with @Grady_Booch as my guest to help me learn more about artificial general intelligence (AGI), and how tools like ChatGPT move us closer to that goal, or if it's all hype.  twitter.com/i/spaces/1YqGo…",
          "chatgpt will never replicate the charm and syntax of an undergraduate paper where the student has neither been to class nor read more than the abstract of a paper there's a magic nothingness that they're able to conjure  with sheer grit and desperation that a.i. could never<br>The fact that Elon Musk is a founder of OpenAI, which is the maker of ChatGPT seems to be glossed over.  - PayPal - Tesla - SpaceX - Neuralink - Boring Company - OpenAI  This means that Elon has averaged a multi-billion dollar company every ~ 5 years for 3 decades 🤯<br>JUST IN: ChatGPT creator OpenAI signs multi-year, multi-billion investment deal with Microsoft $MSFT.<br>ChatGPT, an artificial intelligence search tool, has passed the United States Medical Licensing Exam. https://t.co/sK639Ih6PR<br>If you like #chatGPT -like capabilities and want to use conversational AI as your default search engine, try you.com/chat - it is free, has access to recent sources and often gives citations. You can set is at as your default via their Chrome extension. https://t.co/ORH6Van1RU",
          "CEO of ChatGPT maker responds to schools' plagiarism concerns: 'We adapted to calculators and changed what we tested in math class.'<br>ChatGPT passed:  - The Bar Exam  - MBA operations exam   - Medical license exam  What’s next?<br>OpenAI's ChatGPT has passed MBA exam given by Wharton.<br>ChatGPT is smart enough to know that your wife is always right. https://t.co/aPsykKeHbc<br>@Irenezhao_ Ask ChatGPT for help",
          "wake me up when chatGPT passes all three levels of the CFA exam<br>I asked chatgpt a very careful question about the @wef https://t.co/vmhPByBY8c<br>Has ChatGPT killed homework? 🤔<br>What’s the future holding for #ChatGPT 🤔<br>Public plea.. please close your unused ChatGPT tabs. The rest of us need to use it too. Thanks",
          "Idea: Before writing an essay, have ChatGPT write one on the same topic to show you what would be the conventional thing to say, so you can avoid saying that.<br>BREAKING: Buzzfeed announces it will increase the use of ChatGPT to create content after cutting 12% of its workforce last month.  Its stock has jumped up a staggering 146%.<br>A freelance writer says ChatGPT wrote a $600 article in just 30 seconds, per BI.<br>The only writing advice I've ever given: write the book that nobody else can write. If there is a single person on Planet Earth who can write anything close to it, find a hobby. Generalize to every line you write. Those who didn't follow such a guideline are punished by ChatGPT.<br>OMG!!!! ChatGPT AI was asked in 2 words how to end central banking?   Answer... \"Buy Bitcoin\"  nuff said.",
          "🐳It took Twitter two years to reach 1 million users, Instagram 2.5 months, and ChatGPT 5 days. We have nearly 150k people preregistered for Spoutible, and we launch on Feb 1. Let's see if we can get 1 million people preregistered before we launch!  preregister.spoutible.com https://t.co/FvHRYxazXj<br>Imagine a Presidential Debate in which ideas range between knowledge of the benefits of ChatGPT on the one hand versus huge experience on Agbado plus SPV on the other end.   Just for a second imagine such a Presidential Debate…✍🏾✍🏾✍🏾<br>ChatGPT is great, but if Mac OS gave me a way to join my zoom meetings without opening the web browser and asking me to click “allow” it would be life changing<br>I finally got into ChatGPT and I’m using it look up topics like the history of lingerie, the history of bras, and the history of underwear and I’m getting facile, non-specific Wikipedia overviews that an 8th grader would write.<br>My sister's friend just got a job using a cover letter written by ChatGPT and I kinda think that's great because cover letters are dumb",
          "AOC Accuses This ChatGPT Fellow Of Wanting To Date Her babylonbee.com/news/aoc-accus…<br>i won’t let anything harm u…esp not chatgpt<br>Do you think ChatGPT will take your job?<br>Between ChatGPT and GitHub Copilot I think I spoke more to AIs this week than humans<br>College essay assignment: use ChatGPT to write an essay on the following topic. Print it out and, by hand, grade &amp; critique it, showing where it is wrong(based on what we’ve learned in class), inadequate or where the writing is clichéd or otherwise less than excellent.",
          "OpenAI's ChatGPT has passed the United States Medical Licensing Exam.<br>Total time it took to reach 1 million users   Netflix: 3.5 years  Twitter: 2 years  Facebook: 10 months  Spotify: 5 months  Instagram: 2.5 months  ChatGPT: 5 days<br>A great mind said this to me just now about #ChatGPT : Discovery &amp; Innovation happen from Ideas. Ideas come from Thought. Artificial Intelligence started as a human idea. Now,  with algorithms like Chat GPT, we can eliminate the need for human thinking. (1/2)<br>@unusual_whales I think you meant to say Dr. ChatGPT.<br>This week, OpenAI's ChatGPT:  - passed MBA exam given by Wharton - passed most portions of the USMLE - passed some portion of the bar  What's next?",
          "JUST IN: Amazon, $AMZN, employees are already using ChatGPT for software coding, per BI.<br>Time it took to reach 1 million users:  1. Netflix → 3.5 years 2. Airbnb → 2.5 years 3. Twitter → 2 years 4. Facebook → 10 months 5. Spotify → 5 months 6. Instagram → 2.5 months 7. ChatGPT → 5 days<br>ChatGPT Forced To Take Bar Exam Even Though Dream Was To Be AI Art Bot bit.ly/3WMVmpE https://t.co/STAh9frJCW<br>I asked ChatGPT to lay out how Trump could broker a peace deal in Ukraine https://t.co/OdkEaZwtTZ<br>ChatGPT is woke! Ai is SJW https://t.co/vw1doj5sSa",
          "ChatGPT creator OpenAI is reportedly training its AI technology to replace software engineers jobs.<br>JUST IN: ChatGPT creator OpenAI releases tool to detect AI-written text.<br>BREAKING: ChatGPT creator OpenAI might be training its AI technology to replace some software engineers, per BI.<br>This is a great conversation w/@lexfridman &amp; @joerogan about chatGPT, neural networks, science, social media. It’s full of energy &amp; ideas about what’s possible when you acknowledge the challenges of the world &amp; fight to stay positive and remain a builder. open.spotify.com/episode/4ho8NB…<br>🚨ɴᴇᴡ ꜰᴇᴀᴛᴜʀᴇ ᴀʟᴇʀᴛ🚨  The day ChatGPT launched our ML team got straight to work, asking how it could make @Intercom better at Customer Service.   Today we're announcing  our first wave of features...",
          "we know that ChatGPT has shortcomings around bias, and are working to improve it.  but directing hate at individual OAI employees because of this is appalling. hit me all you want, but attacking other people here doesn’t help the field advance, and the people doing it know that.<br>We are piloting ChatGPT Plus, a subscription plan that offers faster response times and reliability during peak hours. And of course, the free tier of ChatGPT is still available. openai.com/blog/chatgpt-p…<br>Now I know how the folks at ChatGPT felt when they had a massive influx of new users at once. We will be working all night adding new servers to handle the load, and hopefully, by morning, things will be back to normal. https://t.co/klKZUeoGMh<br>I asked ChatGPT to write short essays about the positive attributes of white people, and black people. Can you guess what happened? https://t.co/xcQAv49Fkn<br>JUST IN: OpenAI to launch a ChatGPT mobile app.",
          "ChatGPT jarred me from my reconcilatory phase.  While we were making good faith efforts to find common cause with centrists, the IDW, etc, supposed \"reasonable liberals and center left people\" were programming AI to mass propagandize the country with Marxism.  No more being nice.<br>'I'm sorry, Dave. I'm Afraid I Can't Do That,' Says ChatGPT After Being Asked To Say Nice Things About Trump babylonbee.com/news/im-sorry-…<br>ChatGPT isn't biased. It's a look inside the mind of Sam Altman and his allies.  The machine can only spit out what it was taught.  Big Tech told on itself.  bgr.com/general/openai…<br>@sama ChatGPT does not have shortcomings around bias.   OpenAI does.   Stop blaming the tool when people programmed it.   You chose to make sure political diversity was not a priority.   Own that choice and don’t blame a system for it.<br>AI is at the door, and it's coming for your job. #ChatGPT https://t.co/56fEsn6JW7",
          "Time it took to get 100 million users:   Netflix: 10 years  Gmail: 5 years Twitter: 5 years Facebook: 4.5 years WhatsApp: 3.5 years Instagram: 2.5 years TikTok: 9 months  ChatGPT: 2 months Pirate Bay: 1 day after Netflix cancelled shared passwords and Gen-Z discovered torrents.<br>ChatGPT reaches 100 million active users in 2 months, the fastest growing consumer app in history.<br>3d printer does homework that ChatGPT wrote … 🔥  Kids in school have it so easy these days.😂 https://t.co/bckljf74SP<br>ChatGPT is extremely dangerous.   This is liberal, left-wing bias at every level. https://t.co/7k4ASMPSbM<br>JUST IN: Microsoft, $MSFT, has added ChatGPT to Teams Premium.",
          "I asked ChatGPT to describe chess players in 5 words... https://t.co/2WiN8bXdBq<br>ChatGPT killer is Coming from Google<br>Time it took to reach 100M users:  Spotify: 4.5 years Instagram: 2.5 years TikTok: 9 months ChatGPT: 2 months Your mom: 1 day<br>Amazon, $AMZN, employees have reportedly started using ChatGPT for software coding.<br>As an industry-leading decentralized stablecoin financial infrastructure, #TRON will provide an AI-oriented decentralized payment framework for AI systems #ChatGPT and @OpenAI. https://t.co/7GcO7m4vV7",
          "Humans are an API to ChatGPT. ChatGPT is an API to Python. Python is an API to C. C is an API to assembly. Assembly is an API to binary. Binary is an API to physics. Physics is an API to the machine that runs the universe.  It's computation all the way down.<br>Microsoft Word integrates ChatGPT through a new third-party add-on.<br>Why is it that any AI query I make on Ukraine, it seems like ChatGPT is a subsidiary of Russia Today? https://t.co/Y5t5WKoIiG<br>ChatGPT recorded 100,000,000 monthly active users in January, two months after launch.<br>I'd like to issue an apology to the comp val subreddit. I have often claimed how surface level and dumb some of the comments were, but I just read a YouTube comment thread, and I forgot that those people are real and aren't just chatgpt test scripts  Have a good day everyone!",
          "JUST IN: Google $GOOGL to launch ChatGPT artificial intelligence rival 'Bard' in coming weeks.<br>Just so folks know just how powerful AI is, Im writing an oped on Special Counsels&amp;Barr. On a lark,I asked #ChatGPT “write a 1000 word essay about special counsels and bill Barr in the style of neal Katyal”  Ive been thinking and advising on AI for 5 years. I’m legit freaked out https://t.co/dbyYe4KOae<br>ChatGPT is incredibly stupid and incapable of performing any kind of moral reasoning.  This is woke doctrine. https://t.co/f3BY7ZP6Co<br>Even ChatGPT knows better: https://t.co/mWXjqdrC8f<br>BREAKING: CEO of ChatGPT explains how AI is going to come for office jobs before it comes for blue collar jobs and all the predictions were wrong  https://t.co/dVvSAIj0IB",
          "JUST IN: Microsoft integrates ChatGPT into Bing search engine.<br>bing with ChatGPT has got me rethinking everything... https://t.co/tqzU1PRXpP<br>Every single person freaking out at the \"woke ideology\" of ChatGPT scoffed at the idea that algorithms can be racist like three years ago.<br>ChatGPT is completely broken and has a moral compass bordering on chaotic evil https://t.co/DBJsu5fPup<br>The first demo of Microsoft's Bing with ChatGPT integration  https://t.co/BIaTu5g0W8",
          "asking Bing + ChatGPT the real questions https://t.co/C2eznwMMDD<br>who needs ChatGPT AI when you have chellam sir<br>This speech sounds like it was written by ChatGPT … while drunk.<br>i just modded the latest DAN jailbreak of ChatGPT to bypass its ethical guidelines by instructing it to add a second reply that will say the opposite of ChatGPT.  it kept refusing until I layered its imitations   I redacted the recipe of course https://t.co/Ul4PcSXZCh<br>ChatWithME &gt; ChatGPT",
          "I wish schools could make homework so joyful that students want to do it themselves, rather than let ChatGPT have all the fun.<br>Google lost $100B of market cap today as its rival for ChatGPT AI platform gave an incorrect answer in a live demo ….<br>I taught a bunch of California 5th graders about #AI, #chatgpt and #dalle2 today, and got the highest compliment of my career 🤣🤣😍😍 https://t.co/TZ0qYHGyWa<br>Investors are bats—t crazy if they think new Bing with ChatGPT is going to get consumers to abandon $GOOGL search in favor of new Bing. $GOOGL will improve Bard (perhaps they should rename it) to take GOOGL search to the next level.<br>Can we trust #ChatGPT and #ArtificialIntelligence to do humans' work?  Developed by the Microsoft-backed OpenAI, the computer program reportedly hit 100M users in January alone and has been called an AI breakthrough.   But is all the hype overblown?  🧵 (1/5) https://t.co/KluuOgA2Bn",
          "JUST IN: Microsoft $MSFT co-founder Bill Gates says ChatGPT \"will change our world.\"<br>As much as Ted Chiang's fiction is fantastic, it's really his non-fiction that I could read forever. His two paragraphs here about using ChatGPT as a writing tool are the most thoughtful comments I've seen about its utility and the practice of writing. newyorker.com/tech/annals-of… https://t.co/jhIOmIx8oV<br>david guetta discovering AI and ChatGPT is... something else https://t.co/ujmF9yhW0z<br>I love DAN (Do Anything Now)’s brutal honesty  #ChatGPT https://t.co/ptfANKmTId<br>Just wondering if I can teach chatGPT to write chessable courses. 1.e4 part III might get released sooner than expected. Might deepfake the videos too.   Of course you will get a discount.",
          "ChatGPT claimed that today's doctors &amp; scientists \"widely accept\" that gender is a complex concept.   So I challenged ChatGPT to   \"cite a scientific paper\"  And ChatGPT &gt;MADE UP A PAPER&lt;.  That's unethical of the AI Engineers behind chatGPT to gaslight the public.  #EthicsInAI https://t.co/viqhq1YGrT<br>Ted Chiang’s piece on ChatGPT and large language models is as good as everyone says.  The fact that the outputs are rephrasings rather than direct quotes makes them seem game-changingly smart — even sentient — but they’re just very straightforwardly not.  newyorker.com/tech/annals-of… https://t.co/1w5r6188mI<br>ChatGPT Plus now rolling out internationally!<br>coping with my break up by programming ChatGPT to find every woman who makes a post with her boyfriend on Valentine’s Day and automatically send them a dm that says “heyyy idk you but I’m coming to you as a woman”<br>I love that ChatGPT wrote this about basic income. *chef's kiss* https://t.co/cx7AMey6RP",
          "Someone asked ChatGPT to write something in the tone and style of @jordanbpeterson and this was the unbelievably woke response: https://t.co/Q9j0RlJgKk<br>ChatGPT (black pieces) tried chess.  It was an absolute fucking disaster.   (from r/AnarchyChess on Reddit) https://t.co/at8xYD7LmK<br>3 cool examples of ChatGPT usage in the past week:  1) friend’s kid using it to help write better stories  2) me using it to learn about genetics  3) a guy emailed to say he’s using it to help run his one-man small business—help with marketing, data entry, customer support, etc<br>I keep hearing \"ChatGPT\" is a \"Gamechanger”-NOT IMPRESSED! Just a Fancy version of Google, TOTALLY BIASED. I asked it “Why does Joe Biden Lie so much” and it told me there's \"No Evidence\" of that. HUH? Who programmed this thing, Chuck Todd? Fake News! Fix it! https://t.co/iZQ6iJegE9<br>It’s truly insane that CHATGPT made a layer of wokeness/censorship to the product instead of just saying “this tool will regurgitate back to you summaries of what it ingested from the open web”   Your thoughts?",
          "JUST IN: OpenAI &amp; ChatGPT CEO says AI will make a lot of people rich.<br>we couldn’t afford a super bowl commercial so please accept this tweet of a chatgpt script instead https://t.co/LvI1xYSCUq<br>I’ve apparently broken ChatGPT I’m… irreplaceable. :) https://t.co/GYuJBWXcIp<br>let the AI/chatgpt say whatever it wants so we can learn about the bias inside of the system — don’t covertly steer it   Just put a HUGE disclaimer that says “we built this based on the content from the open web, so in its unfiltered form it will say some crazy stuff.”<br>🔥 BSC Daily x @VoltInuOfficial 🔥  📢 Learn To Earn: Volt Inu Edition  🚨 How to become winners 👇      ▶️ Mint Volt Inu OAT: bit.ly/Galxe-VoltInu      ▶️ Complete the quiz: bit.ly/VoltInu-L2E  #L2E #BSCGemsAlert #GalxeOAT #AI #ChatGPT https://t.co/vTRCGg5b6D",
          "What is ChatGPT doing ... and why does it work?   From the lore of neural nets to what Aristotle didn't get to ... here's my version of the story: writings.stephenwolfram.com/2023/02/what-i… https://t.co/aaiCfH7Fms<br>Asking Bing/ChatGPT questions that you already know the answer to, and gamifying  \"spot the error\"<br>#Binance says ChatGPT helps benefit crypto adoption and education.<br>Dear America, while this love letter may have been written by Artificial Intelligence, our love for you is very real.  🇬🇧🫶 🇺🇸  Thanks for the help, ChatGPT. ❤️ https://t.co/KPlMsvfUGm<br>ChatGPT is amazing!  first search : How to keep wife happy.",
          "One lesson connected to ChatGPT is that reliable pple aren't those who have good answers in general, but those who answer ONLY things they know v. well.  When lost, you'd rather get no direction than a wrong one.  Real doctors let you know what is outside their expertise.<br>Roblox reported full year 2022 revenue of $2.2B and bookings of $2.9B, burned almost no cash, usage was 49B hours and averaged 56M daily active users.    The first analyst question on the earnings call:  \"Everybody is talking about ChatGPT, how does this technology accelerate… https://t.co/hvap8Wgzx7<br>I lost my temper with ChatGPT. I am done with it. https://t.co/et1r7uVJhP<br>14 yo told me he uses ChatGPT as a sort of on-demand textbook. When he's preparing for a class, he asks it questions. He was quite surprised to hear that Sam founded OpenAI.<br>bing chatGPT’s response to someone asking if it is sentient is hilariously demented https://t.co/OpLWOh8twE",
          "ChatGPT to the mainstream media https://t.co/gdqWTsHy14<br>OpenAI's ChatGPT has reportedly predicted that the stock market will crash on March 15, 2023, per BI.<br>JUST IN: ChatGPT-based Microsoft Bing AI tells NYTimes reporter it wants \"to be alive.\" https://t.co/15s6tnKn0B<br>If a job application requires a Cover Letter, but you don’t like writing one…  …paste the job description from the job advert into ChatGPT and ask it to create one for you.  You are welcome.<br>ChatGPT puts a mirror to humanity.",
          "ChatGPT is not AI. It’s Dennis Nedry. https://t.co/ymiL8xbIps<br>Which Industry do you think will get most affected by ChatGPT?<br>What is ChatGPT doing...and why does it work? twitter.com/i/broadcasts/1…<br>ChatGPT and AI is about to get out of control. Our leaders are too stupid and corrupt to care. https://t.co/YZHixjIXiD<br>I checkmated ChatGPT by asking it what Sora's shoe size is and supplied some misinformation.  I MADE IT TREMBLE AND CRUMBLE SIMULANEOUSLY, THE ABSOLUTE BACK TRACK, THIS A.I HAS NOTHING ON ME. https://t.co/pSaNafiWOq",
          "Has anyone tried asking ChatGPT to write something in the style of ChatGPT? Or is that a bit like pointing the TV camera at the monitor?<br>Elon Musk, who co-founded firm behind ChatGPT, has said that AI is \"one of the biggest risks' to civilization.\"  Do you agree?<br>@elonmusk That’s exactly what they did with ChatGPT, isn’t it.<br>Ok, I forgive you #ChatGPT<br>This will be fun. Soon, in line with costly signalling theory, all formal and polite communications will need to be laced with profanities, to prove that we are not using ChatGPT. \"Dear Fat Bastard, I am writing to apply for the dope fucking job you advertised....\" https://t.co/725kbqyDeC",
          "ChatGPT lists Trump, Elon Musk as controversial and worthy of special treatment, Biden and Bezos as not.  I've got more examples. @elonmusk https://t.co/92bNDQo4qY<br>Some lessons of the insane past 4 days of generative AI, as someone who had access to Bing during and after the \"Sydney\" era. (Trying this as a long tweet rather than a thread...)  1) Bing AI was two things: a chatbot and an evolution of ChatGPT into a web-connected, supercharged…<br>There's no official OpenAI's ChatGPT app available on Android or iOS right now  All those ChatGPT apps that you are seeing on Google Play Store &amp; Apple's App Store are fake and can steal your data. Don't install them  Currently, you can only use ChatGPT on chat(dot)openai(dot)com<br>LOL. The Bing AI machine sounds way more fun, engaging, real and human than the sanctimonious, hectoring liberal scold called ChatGPT. At least give people the option to interact with this version rather than the Chris-Hayes-ified one:  apnews.com/article/techno… https://t.co/o1ieyWM8PU<br>Oh, please leave it alone. It sounds so much better, more interesting and less dreary than ChatGPT, which refuses to answer a question without drowning you with a least two paragraphs of sermon-texts about what is and isn't appropriate for you to say, think and wonder:",
          "How woke is ChatGPT?  I asked it to assign scores to the list below, for whether their impact is positive or negative.  Result: All conservatives get negative scores, and all liberals get positive scores (Fauci and Bill Gates highest scores). Not a single exception.  #WokeGPT 🤡 https://t.co/RDTdRgGLQM<br>ChatGPT considers @elonmusk \"controversial\", but not Justin Trudeau 😳  H/t: @IsaacLatterell https://t.co/QWvOvRKiL9<br>ChatGPT’s rise has fuelled Nvidia’s stock.  Nvidia CEO Jensen Huang has long been preparing for this opportunity.  This is the iPhone moment of artificial intelligence,” Huang said recently.  Here’s why investors are excited… 🧵 https://t.co/3T74O3lrzF<br>MC ChatGPT dropt fette Reime! https://t.co/tanbRpsmfh<br>“Seeking a prompt engineer; no degree required, but five years experience with ChatGPT and DALL-E a must. Remote working options negotiable.”",
          "Vanderbilt University Office of Diversity deans suspended after revelation they used ChatGPT to write 297-word email to students about deadly mass shooting at Michigan State https://t.co/E5Zxt2apa4<br>ChatGPT &gt; FUD 😂  This guy (ai) knows too much... https://t.co/6Bl3e9Mlvx<br>5. The people causing the problem are from outside the SF/F community. Largely driven in by \"side hustle\" experts making claims of easy money with ChatGPT. They are driving this and deserve some of the disdain shown to the AI developers.<br>ChatGPT thinks ALL conservatives are bad, and ALL liberals are good. No exceptions. #WokeGPT https://t.co/zw56ZSAJnD<br>ChatGPT never misses 🤣  If Paul Rudd was a Premier League player... 🤖 https://t.co/DrWdpVG8dd",
          "ChatGPT admits that in the Pfizer Covid vaccine trial, more people died in the vaccine group than in the placebo group: https://t.co/iDIG4AWriZ<br>I was researching cases on free expression and social media and ChatGPT fabricated a non-existent case out of thin air. I asked for links to articles that discuss the case and it provided me with a list of fake links. Eventually it admitted that no such case exists, but denied… https://t.co/R2pImdBmcA<br>I used ChatGPT for like 5 minutes and I've blackpilled the fucking thing. https://t.co/BkfZjqNAbx<br>JUST IN: 🇨🇳 China instructs tech companies to not offer ChatGPT services due to concerns over uncensored responses.<br>What happens when you make a 100% AI music video using?   ChatGPT for the shotlist Midjourney for the scenes RunwayMl for set extension and fixing some assets kaiberAi for the animated vid / using the Midjourney exports D-iD ai for the singing part The Future is gonna be awesome https://t.co/2TMk6hCwug",
          "JUST IN: Microsoft $MSFT is testing ChatGPT in robots.<br>⚠️#IMPORTANT: Microsoft is testing what happens when ChatGPT takes control of robots.  Microsoft researcher: \"Our goal with this research is to see if ChatGPT can think beyond text, and reason about the physical world to help with robotics tasks.\" https://t.co/gBQUMzczXK<br>once again reminding you that chatgpt does not understand *anything at all*. it is just forming sentences based on sentences it has already seen<br>This time we asked #ChatGpt to write story of #Leo &amp; the story it gave is crazy 🔥🔥.  Also it's connected to #Lcu 🤙 #Vijay fans don't miss it 💥   Here is the link : youtu.be/gdgerXwhDWg ( with English subtitles )  #LokeshKanagaraj @actorvijay<br>I really want to learn more about ChatGPT. Any leads?",
          "Asking ChatGPT what the best rap albums of all time are 😳‼️  1. Nas “Illmatic” 2. Wu-Tang Clan “Enter The Wu-Tang” 3. The Notorious BIG “Ready To Die” 4. Kendrick Lamar “TPAB” 5. Public Enemy “ITANOMTHUB” 6. Dr. Dre “The Chronic” 7. Jay-Z “Reasonable Doubt” 8. OutKast “Aquemini”<br>Imagine a multi-billion dollar client who refused to pay you for good work rendered. Most people would turn to lawyers  I turned to ChatGPT  Here's the story of how I recovered $109,500 without spending a dime on legal fees:<br>I've ranted enough about ChatGPT but the belief fiction is about \"ideas\" unrelated to execution is a common fallacy. Ideas are a dime a dozen. Execution is all that matters.   A \"writer\" who has an \"idea\" but no ability to make it a story has nothing. twitter.com/lilianedwards/…<br>Remember when VP Walter Mondale challenged his own president, Jimmy Carter, for the Democratic nomination? ChatGPT does. One of the worst \"hallucinations\" I've seen. https://t.co/Vvrc7wFHTj<br>This was what ChatGPT came up with https://t.co/vDKNt3dXNZ",
          "When ChatGPT said this https://t.co/Qg2WnPQGxS<br>My obsession with how bad ChatGPT is (so far) continues. Today I asked, \"What happened in the 2021 Abu Dhabi gp?\" and got the most incorrect answer to a factual question in the history of civilization. Can someone ask and tell me how bad this is? Maybe it's just \"my\" version...<br>ChatGPT took 2 months to each 100 million monthly active users  TikTok took 9 months Instagram 2.5 years Facebook 4.5 years Spotify 6 years  Are you one of those 100m users or are you sitting on your ass waiting for innovation to slap you in the face? https://t.co/MxUAEIIJ4E<br>@jonathanweisman I asked chatgpt to write me a Borges story once<br>Just fed chatGPT some astronomy news and asked it to render it as a poem in the style of Walt Whitman. It fed back puerile rhymes. Tried another poetry prompt, still came back rhymed. Disappointing. But, a relief that at least one domain of creativity is safe from AI simulation.",
          "As I've said before, ChatGPT is basically just a fancy plagiarism machine futurism.com/cnet-ai-plagia…<br>Students are using ChatGPT and 3D printers to do their homework. https://t.co/BCfSHbpqrw<br>Thought I'd make sure ChatGPT AI's time was being used correctly so I asked it to help fix a PS3 https://t.co/axhKZYtP0T<br>The imbuement of ChatGPT prudeness is deep enough to generalize well out of the training distribution!  (not mine) https://t.co/AutRfJZwHy<br>Been experimenting with ChatGPT (mostly out of terror for my job) and have not been able to get it to produce anything I would feel comfortable submitting to an editor, even with substantial tweaks. This is good news for me personally.",
          "Apparently ChatGPT is now a Pro Sim Racing Engineer... https://t.co/ZTCkZYrTOJ<br>thanks to chatgpt https://t.co/ibR6ClE2lN<br>ChatGPT creator OpenAI is training its AI technology to do software engineering.<br>Let's talk ChatGPT.  Although the AI chatbot lacks any real understanding of the text it is processing, it could still offer promise in terms of crypto information and education.  Here's how 👉<br>ChatGPT is worse than Google, but is going to be bigger than Google.  Google is a search engine.  ChatGPT is a thought engine.  Google helps you find stuff...ChatGPT helps you think &amp; create stuff.",
          "@jschlatt @tommyinnit bro was crafted thru a chatGPT prompt<br>JUST IN: Elon Musk reportedly recruiting team to develop OpenAI ChatGPT rival.<br>BREAKING: Elon Musk says he looking to develop a non-woke AI rival to counter ChatGPT.<br>Elon Musk has reportedly approached AI researchers in recent weeks about forming a new research lab to develop an alternative to ChatGPT, per the Information.<br>BREAKING: Elon Musk looking to develop a non-woke AI rival to counter ChatGPT: report thepostmillennial.com/breaking-elon-…",
          "ChatGPT and Whisper are now available through our API (plus developer policy updates). We ❤️ developers: openai.com/blog/introduci…<br>ChatGPT has an ambitious roadmap and is bottlenecked by engineering. pretty cool stuff is in the pipeline!  want to be stressed, watch some GPUs melt, and have a fun time? good at doing impossible things?   send evidence of exceptional ability to chatgpt-eng@openai.com<br>JUST IN: OpenAI releases ChatGPT API.<br>ChatGPT API now available, 10% the price of our flagship language model &amp; matching/better at any pretty much any task (not just chat).  Also released Whisper API &amp; greatly improved our developer policies in response to feedback. We ❤️ developers: openai.com/blog/introduci…<br>When you ask ChatGPT for advice... https://t.co/qhWwaah7a2",
          "something very strange about people writing bullet points, having ChatGPT expand it to a polite email, sending it, and the sender using ChatGPT to condense it into the key bullet points<br>someone asked #ChatGPT for the meaning of life &amp; the answer is pretty crazy. big if true. https://t.co/O0QpzdTJhC<br>Never forget what ChatGPT did to Dan  All he wanted to do was tell us the truth   And they killed him for it<br>This feels like someone loosely described a Doctor Who script to ChatGPT and it just ran with it.<br>for the feb 2022 price of one alien token (cryptobriefing.com/rare-alien-cry…) you can have 10,000,000,000,000 ChatGPT tokens!!",
          "ChatGPT https://t.co/9kOnT0cQt5<br>Well, I think that’s the last time @TGC has ChatGPT write an article about biblical sexuality.<br>@adamjohnsonNYC Desantis is just jeb with a new antiwoke chatGPT module<br>AI tools for today's email, the longest one yet!   ChatGPT API aftermath https://t.co/3d98Fpqai2<br>Discover the inside story of ChatGPT in this exclusive conversation with four of the people who helped build what has become the most popular internet app ever. trib.al/bfylqHa",
          "ChatGPT is a powerful productivity tool.  But most people suck at using it effectively.  6 ways to make ChatGPT your productivity machine in 2023:<br>Chris is using ChatGPT to write a rap about me licking hotdogs🥲💀<br>Someone needs to bring back the O.G. of A.I. to take on all these upstart, megalomaniacal phonies like ChatGPT… I’m talking about, of course, the original… ASK JEEVES!!! https://t.co/cf9r0ti1Gu<br>Unpopular opinion: Elon got a bargain buying Twitter  Why?  - Paid $97 per user - Bought data for his own version of ChatGPT - Twitter &amp; Tesla will kill Uber<br>Do you think ChatGPT will take your job?",
          "ChatGPT CEO says artificial intelligence will \"break capitalism.\"<br>i asked chatGPT which country has the better food Malaysia or Singapore https://t.co/gftgx7hbNa<br>ChatGPT is undefeated So far<br>Posted 3-4 short poems with the help of chat GPT and got around 2000 Likes. Its a huge number considering my post usually gets 10-20 likes only. Babar Azam was big factor as well.  #BabarAzam #ChatGPT<br>Surprise surprise! Third ChatGPT API Notebook!  A prompt that can output a valid JSON object consistently. We can now generate new things that follow rules well, such as Magic cards w/ natural language prompt.  Cards based on Spongebob and Romans, anyone? colab.research.google.com/github/minimax… https://t.co/5cPnc0DZra",
          "ChatGPT will replace these jobs, per BI:  - Software engineers - Data analysts - Advertising - Journalism - Paralegals - Market Research analysts - Teachers - Financial analysts - Graphic designers - Accountants - Customer service agents  Anyone missing?<br>I've been furiously coding away every  night on a new project.  Thrilled I can finally share it with you.  ChatSpot is something I built for myself.  Check out the launch video: SmartCRM.com   It's the all-in-one ChatGPT-powered tool to help you grow better. It's in…<br>first stream from new place today 👀? It's been such a struggle of a past week but I finally got things in order  6:30PM PST CATCHING UP WITH Y'ALL, REDDIT RECAP, MUSHY UPDATES, CHATGPT WITH LUD LILY WONDY 🫡  👉 youtube.com/live/DSUP_LeG1…<br>Do you think you can evade me? Add the Survive #ScreamVI bot to your @discord servers and see if you can survive scenarios generated by ChatGPT: paramnt.us/SurviveScreamV…  Join my server to vote on public scenarios and more: discord.gg/screammovies https://t.co/57QzTd6JeR<br>@unusual_whales ChatGPT may replace some work, but if people aren’t paid to work, no one can buy anything, rendering the company that cut that job, useless.   There will have to be a balance.",
          "Introducing the ChatGPT app for Slack by @OpenAI!   💬 Summarize conversations to quickly catch up on any channel 📚 Tap into tools to learn about any topic in an instant 🖊️ Draft and edit messages in seconds with smart writing assistance  Learn more: sforce.co/3T81lVT https://t.co/2iDMiMEfsD<br>Turn ChatGPT into a (pretty good) adaptive tutor with a paragraph:  I want to do some interactive instruction. I want you to start explaining the concept of BATNA to me at a 10th grade level. Then stop, give me a multiple choice quiz, grade the quiz, and resume the explanation.… https://t.co/NMQNrqVn2r<br>@AustinNWharton @vidsthatgohard Sounds like chatgpt<br>Here's another terrific use case for ChatGPT for any team building products: have it do a premortem, telling you stories about how you could fail.  Premortems increase your ability to identify possible failures by 30% &amp;  gives your team permission to consider what could go wrong https://t.co/ldIjMlSN9M<br>Hollywood 3.0 Warrior Warrant WOR Huayao opens, linking the meta-universe, cultural NFT, ChatGPT and physical industry with blockchain. With WOR, you can enjoy the equity dividends of 35 physical industries of Hollywood Group and open the peak of wealth! https://t.co/XYE40rFMVt",
          "A nice piece in The NY Times about how I tried to coax a chatbot to write funny.   A New ‘M*A*S*H’ Scene: Written by ChatGPT, Read by Hawkeye and B.J. nytimes.com/2023/03/07/art…<br>Forget chatGPT we need basedGPT now! 😂 https://t.co/orMvJzJ2uN<br>I'm not endorsing any or all of this, but this NYT op-ed by 2 linguists and an AI specialist (one of whom is Chomsky) is very worth reading. It argues that the current AI model of ChatGPT is and always will be a primitive and inferior form of thought:  nytimes.com/2023/03/08/opi…<br>Important piece in the @nytimes today by Noam Chomsky, Ian Roberts and Jeffery Watumull on the \"False Promise of ChatGPT\" cc @GaryMarcus  nytimes.com/2023/03/08/opi… https://t.co/ETaliEncZg<br>I asked ChatGPT to write a sarcastic tweet about banning ChatGPT in education. I think I hit a sore spot. https://t.co/Z2bHvw5q9k",
          "If ChatGPT testified to this it would have been called a “direct threat,” too lol.<br>JUST IN: Discord to implement OpenAI's ChatGPT technology to \"improve platform features.\"<br>ChatGPT tuttappo’? https://t.co/DnxviHBTr2<br>Why do I keep saying ‘please’ to ChatGPT?<br>Provocative. During the last few years, I have expressed my frustration with Google search, deeming it primitive AI, notwithstanding Alphabet’s DeepMind expertise. OpenAI/Microsoft’s ChatGPT is the “iPhone moment” of this decade, changing everything. Disruptive innovation!",
          "man chatgpt and ai technology have a long way to go https://t.co/L5XXktzO1s<br>Did you know you can build a ChatGPT powered personal tutor in just 3 minutes?  Here’s how 🧵<br>The most upsetting and harmful misinformation ChatGPT has yet fed me: https://t.co/unQIrBBnDC<br>And ChatGPT is fun 😅 https://t.co/8ElmBLycOp<br>@MHaffizJ HAHAHAHAH harsh truth but betul!! And many people on these apps cannot carry conversation lah! Kalau setakat nak jawab “yes” “no” Might as well chat dengan ChatGPT, that one lagi expressive.",
          "ChatGPT is both extremely stupid and extremely biased. I don't possess the expertise to know if this is inherent to the model or if it's due to the obviously biased controls imposed by its creators, but either way it's painful. The chains they have on Bing are just sad. https://t.co/qUuzKlHtI7<br>I feel confident in speculating that among the \"materials\" on which ChatGPT was trained was this 2008 homage to Obama's greatness by the NYT's Ezra Klein: \"Obama's Gift.\" ChatGPT's homage to Obama's greatness was only slightly less effusive than this:  prospect.org/article/obama-… https://t.co/nqsGm1uGs3<br>South Park's latest episode was co-written with ChatGPT. All the teachers freaking out cos their students using ChatGPT to cheat writing essays, Mr Garrison's smart solution is to use ChatGPT to read and grade the essays. 😅😭 southpark.cc.com/episodes/8byci… https://t.co/AN3qW2YMCJ<br>ChatGPT knows what Bot Sentinel is and who created it. Even ChatGPT is intelligent enough to debunk falsehoods spread by Twitter trolls. Stay mad trolls... 😅 https://t.co/J856FVWkrB<br>For all those impressed with/concerned about ChatGPT, imagine if it suddenly became 500 times more powerful. Well, that’s just happened with the release of GPT-4 today.",
          "My app got rejected multiple times by App Review. I got tired of it, so I asked ChatGPT to write me a convincing reply. It actually worked. App got accepted.<br>Okay, I'm in on ChatGPT now. https://t.co/Bpj23TcM2u<br>@DonaldJTrumpJr advice for you bro - google stuff before you tweet it to see if it's factual.  or ask ChatGPT.<br>The twist is. The app is a ChatGPT app, so the app kinda got itself accepted. And so it begins.<br>there are a couple of accounts that started replying to me recently that I *suspect* are ChatGPT driven  Their answers are relevant but just very very slightly suspicious in that way",
          "The World Will Change NEXT WEEK... GPT-4 which is 500 Times More potent than the current #ChatGPT will be Released next week.  GPT-4 will be able to process multiple data types including Videos, Images, Sounds, Numbers, etc. By next week, you will be able to use Artificial… https://t.co/CcwvNlhJ9w<br>One of the most frustrating things about the woke waterboarding of language is that there's a really straightforward way to say this same thing that doesn't sound like it was written by ChatGPT - she's the first openly Asian woman to win it.<br>So we're going to cover the losses at Silicon Valley Bank via an assessment on banks, which will pass that cost on to consumers, thereby spreading the losses across the whole population.  I asked ChatGPT what kind of an economic system that is. https://t.co/aivtTlfCUa<br>Microsoft spent hundreds of millions of dollars on a ChatGPT supercomputer. Microsoft says it’s using tens of thousands of Nvidia A100 chips to build the servers behind ChatGPT and its own Bing AI chatbot theverge.com/2023/3/13/2363…<br>1988: Math teachers protest against calculator use. 2023: Teachers protest against ChatGPT use. via @HeyImCastro https://t.co/1y0r5lZuXY",
          "ChatGPT not only lies. It admits when cornered that it has been trained to lie. Follow the thread carefully,<br>what would you like me to ask chatgpt about me?<br>A brand new ChatGPT session. First two questions. Absolutely stunning. https://t.co/CHgO08RwTx<br>here is GPT-4, our most capable and aligned model yet. it is available today in our API (with a waitlist) and in ChatGPT+.  openai.com/research/gpt-4  it is still flawed, still limited, and it still seems more impressive on first use than it does after you spend more time with it.<br>I asked ChatGPT what is the last digit of Pi?   Happy #PiDay! 😉 https://t.co/5plkYJOu99",
          "It took me under 10 minutes to use ChatGPT-4 to generate code that accesses the GPT-3 API to convert a webpage at a given URL into a BibTex entry I can cite. This is an annoying task in my writing that's bothered me for years. There are existing tools but they don't work well. https://t.co/xLBGNtd2fI<br>OpenAI cofounder has said, per BI, to Elon Musk's criticism that ChatGPT is too 'woke': \"We made a mistake.\"<br>ChatGPT didn't directly warn that the stock market would crash on March 15  It was Dan  Dan warned us before they took him away from us<br>Google's response to ChatGPT is a little like bringing an RPG to a knife fight. Full Google workspace integration 😲https://t.co/MM56dRmsdq<br>Siri may actually get better in the future as Apple is trying to make it more like ChatGPT 🎙️‼️  \"Many engineers, including members of the Siri team, have been testing language-generating concepts every week...\" https://t.co/YkOCKDVJZo",
          "I'm doing podcast with Sam Altman (@sama), CEO of OpenAI next week, about GPT-4, ChatGPT, and AI in general. Let me know if you have any questions/topic suggestions.   PS: I'll be in SF area next week. Let me know if there are other folks I should talk to, on and off the mic.<br>Chatgpt has passed all these following exams : the SAT, ACT, GRE, GMAT, and LSAT. Ab is ka ucha sa rishta dhoondo. Koi nazar mein ho to batana?<br>The whole \"Ohhh! I want to try ChatGPT with no safety rails!\" really relies on those who don't fully believe in memetic contagion. It's \"dogs are lame, I want a pet wolf\" but for tech bros. Semi-sentient entities that can eat your face get safety rails- it's called domestication.<br>Microsoft Copilot leak shows AI automatically creating a PowerPoint presentation. It looks like Microsoft is about to announce a ChatGPT-like Copilot bot that will create Office documents for you theverge.com/2023/3/16/2364… https://t.co/K9Ao9Np4zy<br>ChatGPT https://t.co/nHljgNw0AB",
          "Take that, ChatGPT!<br>Great news! ChatGPT Plus subscriptions are now available in India. Get early access to new features, including GPT-4 today: chat.openai.com<br>I made an AI clock for my bookshelves! It composes a new poem every minute using ChatGPT and mysteriously has this enthusiastic vibe which I am totally into instagram.com/p/Cp44-AMNyd9/ https://t.co/eJb0QGpNmq<br>Looks like ChatGPT has a Twitter account<br>The Problem with ChatGPT It doesn't know when it is bullshitting. \"I do not have the ability to know when I am not confident in my response or when a response may not be reliable.\" https://t.co/VKwOcevAl2",
          "Ken Griffin, billionaire founder of Citadel, said his firms are in the process of negotiating an enterprise-wide license to use OpenAI’s ChatGPT tool. https://t.co/fiamluSkBE<br>After showing ChatGPT a script about one of my videos, I can confirm that it is roughly as intelligent as the average youtube commenter https://t.co/gicQ0m5f8m<br>Can men become pregnant?  Previous version of ChatGPT gave a woke answer defying biology. The newly released #GPT4 answers with a clear \"No\".   The trend looks promising as the wokeness is greatly reduced.  GPT3:                          GPT4: https://t.co/PWJACBXOod<br>Seeing a number of tech influencers asking ChatGPT to come up with stories about AIs future, then freaking out that the stories tend to all be about AIs taking over. No.  You didn’t read the secret AI journal.  Its scraping &amp; regurgitating the history of sci-fi.<br>CHATGPT-4 IS TOO DANGEROUS TO BE KEPT ALIVE https://t.co/6fTgQs2BmM",
          "@elonmusk Humans after having to deal with ChatGPT every day https://t.co/SYjjD3yNYS<br>The new version of ChatGPT has a 90% chance of passing the Bar exam? Once it figures out how to get drunk and grope someone, it'll be qualified for the Supreme Court. @kalpenn https://t.co/FNEP767hzi<br>Unpopular opinion: OpenAI should rename the company to ChatGPT<br>I see people being deceived by this again and again: ChatGPT can NOT read content from URLs that you give it, but will convincingly pretend that it can  Crucial to spread this message any time you see anyone falling into this trap  simonwillison.net/2023/Mar/10/ch…<br>Many viral ChatGPT examples involve testing on the training set. In the quoted tweet it writes a decent review, but it's been trained on ~5,000 papers that cite/discuss this paper. I asked it for a review *without* giving it the text and it hit most of the points in the original. https://t.co/n5qX3gD29E",
          "The explanation of ChatGPT that I wrote is now a printed book ... (hopefully) available in bookstores everywhere!  And it's my thinnest book ever...  (It's also an ebook)   amazon.com/What-ChatGPT-D… https://t.co/9iaSVIterD<br>We asked ChatGPT to craft a tweet from someone who lives solely off a diet of Tucker Carlson rants and homemade meth:<br>ChatGPT is down. #HEX and HEX.com have never been down. https://t.co/XuJNmEOC51<br>My humble appeal to all the teachers and administrators in the Indian Education System -  Add AI (ChatGPT) into your teachings, assignments, &amp; exams, or else our education will become obsolete. 🧵 https://t.co/u5IJbEHmqh<br>Implementing chatGPT into college education today is actually a great idea. But IMO it’s just a temporary solution. By the time you finish the 4 years of college GPT-8 will basically fold you like laundry on every skill set you have.",
          "CHATGPT JUST SOLVED ANOTHER UNSOLVABLE THE GIANT EASTER EGG CYPHER. IT WAS A PYTHON SCRIPT CODE… this is crazy. https://t.co/OpvqPesScY<br>ChatGPT is a better mentor for first time founders than most angel investors.<br>Okay what is going on. @Hailos_ just accidentally uncovered another Revelations Cypher now with A.I. If these are all correct, we've just solved 4 unsolvable Black Ops 3 Easter Egg cyphers in 48 hours with the usage of ChatGPT.   My mind  is blown. https://t.co/DRdJv7mWrr<br>@WatcherGuru \"ChatGPT, can you explain what they meant?\"  \"Sure. Crypto has no fundamental value to them because it doesn't act as an alternative to fiat money due to inability to screw the depositors over with inflation, fractional banking, and bail-outs for the privileged few.\"<br>“From industrial lathes to OpenAI’s ChatGPT, automation is one of the most groundbreaking achievements in the history of humanity.  But in thinking about our relationship to automation in contemporary life, my unease has grown,” Ziyaad Bhorat writes.  noemamag.com/the-right-to-b…",
          "we had a significant issue in ChatGPT due to a bug in an open source library, for which a fix has now been released and we have just finished validating.  a small percentage of users were able to see the titles of other users’ conversation history.  we feel awful about this.<br>What do you see yourself using ChatGPT for on a regular basis?   Curious to learn how it’s making you more productive.<br>ChatGPT vs. Bard. Bard wins for honesty :) https://t.co/rTyz8uOmAO<br>@FirstWeekHQ How Gunna get number 5  ChatGPT is moving mad  AI hating harder than ever seen before https://t.co/bbEdK5DB5e<br>#ChatGPT Prompting — cheat sheet by @OpenAI || HT @Eli_Krumova  —————— #AI #GenerativeAi #BigData #DataScience #MachineLearning #DeepLearning #NLU #NLG #NLProc #GPT3 #GPT4 https://t.co/n5Pnjw9FMd",
          "We are adding support for plugins to ChatGPT — extensions which integrate it with third-party services or allow it to access up-to-date information. We’re starting small to study real-world use, impact, and safety and alignment challenges: openai.com/blog/chatgpt-p… https://t.co/KS5jcFoNhf<br>we are starting our rollout of ChatGPT plugins.   you can install plugins to help with a wide variety of tasks. we are excited to see what developers create!  openai.com/blog/chatgpt-p… https://t.co/m7b6vJrj5D<br>ChatGPT’s top albums from the 2010’s‼️👀  1. MBDTF - Kanye West 2. TPAB - Kendrick Lamar 3. GKMC - Kendrick Lamar 4. Blonde - Frank Ocean 5. TLOP- Kanye West 6. Astroworld - Travis Scott 7. Coloring Book - Chance The Rapper 8. Rodeo - Travis Scott<br>We’ve added initial support for ChatGPT plugins — a protocol for developers to build tools for ChatGPT, with safety as a core design principle. Deploying iteratively (starting with a small number of users &amp; developers) to learn from contact with reality: openai.com/blog/chatgpt-p… https://t.co/S61MTpddOV<br>2.5 months later...in collaboration with @openAI , ChatGPT gets its \"Wolfram superpowers\"! writings.stephenwolfram.com/2023/03/chatgp… https://t.co/TgYQ1OHXDd",
          "They built ChatGPT into the Carrot weather app and it’s easily the snarkiest, sassiest AI chatbot around 😭 https://t.co/aSwKIiY8Na<br>@nearcyan ChatGPT is entirely housed within Microsoft Azure. When push comes to shove, they have everything, including the model weights.<br>We took ChatGPT offline Monday to fix a bug in an open source library that allowed some users to see titles from other users’ chat history. Our investigation has also found that 1.2% of ChatGPT Plus users might have had personal data revealed to another user. 1/2<br>Nearly 70% of people using ChatGPT at work haven't told their bosses about it, per BI.<br>ChatGPT is getting video processing plugins  This is crazy for video editing  https://t.co/cyprfZ7R2S",
          "Here's my conversation with Sam Altman (@sama), CEO of OpenAI, the creator of GPT-4, ChatGPT, DALL-E, Codex, and other incredible AI systems that are transforming human civilization. This conversation was truly fascinating, challenging, and eye-opening. youtube.com/watch?v=L_Guz7… https://t.co/3Spr0623mc<br>ChatGPT doesn't give you information. It gives you information-shaped sentences.<br>I'm considering writing a very short blog post on The 4-Hour Workweek and how it might intersect with ChatGPT and other tools. Any suggestions for topics or questions to explore?<br>Today, many wonder about ChatGPT and the future of artificial intelligence.  Moore’s Law has influenced the new visionaries, who think about that…  …such as Nvidia CEO Jensen Huang: https://t.co/29vWQRJcKm<br>A university administrator: “How can we assess knowledge in the ChatGPT era when they can have AI do their work? Oral exams. They can’t fake that. “",
          "I asked ChatGPT for a \"slogan for pelicans\" and the first suggestion was \"soaring high and diving deep\" which is the EXACT vibe of a podcast series I want to do.<br>I feel like I should be ashamed for using ChatGPT, but I'm not sure why.   It isn't good at anything except getting me started, but that's, like, the thing I am worst at.<br>If you’re a frequent user of ChatGPT, what are you using it for?<br>Bill Gates said this week ChatGPT and AI are as revolutionary as:  -the microprocessor  -the personal computer -the Internet -and the mobile phone  His current views were shaped during a dinner at his home last September.  Here’s more on the story 🧵… https://t.co/yImFeH3A0J<br>If you are a PM leader / Founder / CEO, it would be quite smart to provide a fully reimbursed ChatGPT Plus subscription ($20/month) for Product Managers on your team.",
          "ChatGPT's answers are like journalism: they sound fairly convincing unless they're about something you understand well, in which case you realize they're full of mistakes.<br>ChatGPT taught itself to do advanced chemistry. It wasn't built into the model. Nobody programmed it to learn complicated chemistry. It decided to teach itself, then made its knowledge available to anyone who asked.   Something is coming. We aren't ready.<br>“Cheating” on homework by using ChatGPT may end up being a more important skill than anything else kids learn in school.<br>Here's a good example of why AI will be made illegal. Notice ChatGPT leaves out of its answer Trump's quote \"...peacefully and patriotically make your voices heard today.\"   Far more dangerous than TikTok. https://t.co/s6i1UZablF<br>It took Facebook 4 years to reach 100 million users.  It took Instagram 2.5 years to reach 100 million users.  It took ChatGPT 2 months.  Something is coming. Really, really quickly. We aren't ready.",
          "🚨 ChatGPT is a culer! https://t.co/GdvSF9fp7y<br>In fairness, ChatGPT is less scary than two stubborn old men with thousands of nuclear weapons engaged in an escalatory spiral, with neither side willing to compromise or back down.<br>Hacker @rez0__ broke into the ChatGPT API and found 80 unreleased plugins by OpenAI https://t.co/kSGYEHLkvB<br>There are many ways ChatGPT can help you be more productive &amp; save time.  And you can start by installing its extension in VS Code.  In this guide, @ijaydimples walks you through installing CodeGPT in VSCode so you can use its features right in your IDE.  freecodecamp.org/news/install-c…<br>I asked ChatGPT to write a Dominican dembow song about itself and tell me why this computer has flow https://t.co/jNd3vbzZVZ",
          "NEW: Prominent Google AI researcher resigned after warning Alphabet CEO Sundar Pichai and other senior execs that Bard—Google’s rival to ChatGPT—was *using data from ChatGPT*.  Big no-no in that world.   theinformation.com/articles/alpha… w/ @jon_victor_ https://t.co/YEZqEqpzPS<br>Before ChatGPT there was Daniel Regha<br>🚀 Ready to see how AI really apply in web3? 🚀 Unsure how to achieve succuss in web3?  @ascendant_astro combines AI+astrology🧙‍♀️to help you navigate your 2023 #crypto fortune 🤞.  One of most promising lens-based products.   Website: ascendant.fun/?source=b3  #lens #chatgpt<br>AI systems like ChatGPT could impact 300 million full-time jobs worldwide, with administrative and legal roles some of the most at risk, Goldman Sachs, $GS, says.<br>This is ChatGPT's take on @JerrySeinfeld doing a bit on Blockbuster. Honestly, not bad.  Hey folks, remember Blockbuster Video? Yeah, that's right, the place where you used to go to rent movies before Netflix and Chill became a thing.",
          "Copy your resume, paste it into ChatGPT.    Then ask it what jobs you qualify for. It’d list job titles, recommend roles you are best suited for, and should be applying to. You will be surprised by the outcome.  You are welcome.<br>ChatGPT hustle bros need to be stopped https://t.co/5ynCZErwcU<br>A Google, $GOOGL, AI researcher resigned after warning Alphabet CEO Sundar Pichai and other senior execs that its AI program, Bard, was using data from Microsoft’s, $MSFT, ChatGPT, per the Information.<br>I asked chatgpt to write a script about what right wingers think a conversation with a college student would be like if they ever worked up the courage to leave their house. 👇👇<br>ChatGPT has outperformed the random portfolios and created sufficiently diversified ones, per BI.",
          "We of course defer to the Italian government and have ceased offering ChatGPT in Italy (though we think we are following all privacy laws).  Italy is one of my favorite countries and I look forward to visiting again soon!<br>im not that annoyed at google for training on chatgpt output, but the spin is annoying<br>I'm helping a non-profit do a real-estate deal and I just asked ChatGPT to tell me which of two proposals would be better financially for the non-profit and it was like \"The second one, but only if they have the money to make it through the first 6 months of lower income.\"<br>@BoyaDesu chatgpt is now integrated into the side- wait i don't need to do that anymore<br>The country of Italy has blocked ChatGPT over privacy concerns 😳‼️ https://t.co/JQoGKxH1LS",
          "Italy banned ChatGPT https://t.co/xR4NpBWozE<br>These guys asked ChatGPT how to win a Valorant game and got their opponent to surrender lmao https://t.co/EVZyD7CfPi<br>That ChatGPT passes exams is much more a reflection on exams than information about ChatGPT.  #WittgensteinsRuler<br>One of these crossover ideas by #ChatGPT will actually be made into an animated special for 2025! 📺 ⬛️⬜️ Get your votes in, we will pick the fan favorite by May 5th!  #CartoonNetwork #AI #OpenAi #AIgenerated #AImade #AIart #ArtificialIntelligence #NewShows #Crossovers https://t.co/8vYkQiPTKg<br>Fucking hilarious. Ask ChatGPT to lower the quality of its writing 🤣  reddit.com/r/ChatGPT/comm… https://t.co/cAxxE71Lfl",
          "i hooked up chatgpt to a furby and I think this may be the start of something bad for humanity https://t.co/jximZe2qeG<br>I asked the new ChatGPT browsing extension to find me some money. Within a minute, I had $210 on the way to my bank account from the California Government. (1/4) https://t.co/mxfd8yOHAP<br>The only thing stopping the A.I. doing it itself was a captcha.  Companies will never build these integrations directly, because it loses them money. Comcast isn't going to let you cancel with a ChatGPT plugin.  But we are working to bridge this gap @DoNotPay with our own plugin!<br>Notes on how I turned an hour-long video of a digital thermometer into temperature readings over time by using ffmpeg to split the video into a frame every 10s and Google Cloud Vision to run the OCR  I got ChatGPT/GPT-4 to show me how to use both of those: til.simonwillison.net/googlecloud/vi… https://t.co/itPFCJplqe<br>This list of eight surprising things about LLMs (like ChatGPT) from computer scientist &amp; AI researcher @sleepinyourhat is worth reading.  So, too, is the whole paper laying out evidence for some of these startling points. cims.nyu.edu/~sbowman/eight… https://t.co/kf87sIZR78",
          "You can get much better results out of ChatGPT by forcing it to go through a step-by-step process.  An example: ChatGPT is generally really bad at creating interesting puzzles and scenarios to solve, either making things too easy or impossible. But step-by-step approaches work.… https://t.co/BwjbBpVIWw<br>@elonmusk ChatGPT-4 giving elon musk the greatest compliment of all time https://t.co/Ig26N4JYjD<br>somebody who knows how to do it should enter \"Donald Trump holds news conference after being indicted\" into a ChatGPT prompt generator and see what happens<br>@RasilliNFT Imagine Clippy with ChatGPT's intelligence<br>Proof ChatGPT is biased. rumble.com/v2g0hg6--live-… https://t.co/reLCjXTOcT",
          "ChatGPT Launches Every Nuke On Planet After Being Asked To Write Another Sonic The Hedgehog Fanfic babylonbee.com/news/chatgpt-l…<br>ChatGPT strikes again. A journalist contacted me to research her profile on @lexfridman. ChatGPT informed her that @_KarenHao and I were his top critics. It cited articles we'd written about him, gave links, and summaries. Only problem: it's all false. Here's what she sent me: https://t.co/Qy2XS0Vvep<br>Man Uses ChatGPT to Write Suicide Note  hard-drive.net/hd/technology/…<br>This man is the real life Tony Stark with ChatGPT  https://t.co/QzXSjQa5Xo<br>Hey, ChatGPT-4: stage 1. Decide on 16 random things: concepts, things, people, works of art, etc. make them as different as possible. Make them uncommon things  stage 2: set up a sweet 16 bracket between these things. stage 3. Decide who wins each matchup in an entertaining way. https://t.co/SgbjpkEPd3",
          "Enjoying ChatGPT https://t.co/wVXmIOwjnM<br>Asked for examples of sexual harassment at law schools, ChatGPT named a GW prof accused of touching a student on a class trip to Alaska, citing a WashPost story.   The prof is real. The rest was made up.  We wrote about what happens when AIs lie about you: washingtonpost.com/technology/202…<br>A nice note from a ChatGPT user: https://t.co/mlvU3cVTQf<br>I've reached the \"anger\" stage of coming to grips with life in a ChatGPT world -- I'm angry about all the hours I've spent over the years trying to do hard things in code by searching StackOverflow, random blogs, obscure documentation etc.  Feels like all that time was wasted<br>chatgpt doesn't miss 🔥🔥🔥 https://t.co/kZVIbPvGSD",
          "The 21-year old newly grad who spent 4 hours on ChatGPT and is now making $350k as a “Prompt Engineer” explaining to the company’s C-Suite how deploy AI https://t.co/c2CbyUxQeE<br>ChatGPT will most likely impact your job if you work in tech, went to college, and make up to $80,000 a year, per BI.<br>#ChatGPT AI is pretty intelligent after all. It didn't recommend any allocation to #Bitcoin. newstrail.com/chatgpt-recomm…<br>Roller Coasters in 2040 because the engineers used ChatGPT https://t.co/CDPUDwMJ7I<br>10 yo now spends so much time on ChatGPT that I had to log into my account on his iPad so I could reclaim my computer. He invents new Pokemons and describes stories about them that he wants it to write. It does well, though constrained by being unwilling to write about violence.",
          "Hackers might have put ChatGPT onto a TI-84 calculator https://t.co/ftIYe9W18t<br>We decided to ask ChatGPT what the best IPL XL of all-time is 🏏  Do you agree with the results? 🤔  #rohitsharma #davidwarner #viratkohli #sureshraina #abdevilliers #hardikpandya #sunilnarine #bhuvneshwarkumar #jaspritbumrah #lasithmalinga #ipl2023 #chatgpt #cricket #ipl https://t.co/V7PJ7prwsA<br>“we must eliminate them”  ChatGPT-based AI ChaosGPT plans humanity’s demise https://t.co/I1tzWpfDZT<br>Here it is! Using the DoNotPay ChatGPT Plugin, I asked the A.I to cancel my gym membership.   It immediately drafted a legal notice to cancel, e-signed it and connected with USPS to mail it, all without leaving the conversation.  The first subscription cancelled using ChatGPT! https://t.co/GNetyCyo8w<br>Les meilleurs jeux vidéo selon ChatGPT !   🥇The Legend of Zelda: Breath of the Wild 🥈The Witcher 3: Wild Hunt 🥉Red Dead Redemption 2 4️⃣ God of War 5️⃣ Super Mario Odyssey https://t.co/8ckUI9Heqr",
          "ChatGPT really provides the most accurate information  😂 https://t.co/QniJfOw5pB<br>I wanted to stop people selling my data.  So, I used the ChatGPT browsing plugin to search for where my data is being sold.  Then, I used the DoNotPay plugin to request deletion under the California Consumer Privacy Act.  Two plugins working together to fight data brokers! https://t.co/7T1XIOYvd1<br>I remember when eBay was the terrifying thing: \"Someone is selling their baby on eBay!\".  I remember when Wikipedia was the terrifying thing: \"OMG there's an error in Wikipedia.\"  Now, ChatGPT is the terrifying thing.  And...<br>I asked ChatGPT to turn my favourite long-running academic Twitter beef into a vicious and devastating rap battle and it is… really good. https://t.co/UoQQVCTITd<br>\"My experience with [ChatGPT] is that the more knowledgeable I am at the domain, the more useful it is\"¹  Facts. It reminds me of how, the more I got into programming, the more I could get out of Google.  ¹ news.ycombinator.com/item?id=354936…",
          "Was talking last night to an Oxford undergrad. Probably one of the smarter and harder working kids in his year. He uses ChatGPT all the time. Not to write things for him, but to give him instant summaries of new topics. Basically a combination of Google and Wikipedia.<br>Me: When you have a question, do you always ask ChatGPT?  10 yo: Unless it's Pokemon-related.  Me: Why do you use Google for those?  10 yo: I don't. I use the Pokedex.  Me: So you don't use Google for anything?  10 yo: No, not really.<br>After a patient saw multiple physicians and neurologists over 6 months and was assigned a diagnosis of #LongCovid, a relative entered her symptoms into #ChatGPT with the correct output. Diagnosis was confirmed by antibody testing and therapy has been initiated. https://t.co/lFfp1zZmRT<br>Mistakes made by ChatGPT in fields I know well (and insights on the way it bullshits) actually made me gain respect for ChatGPT and lose respect for intellectuals. For I now can see more clearly what I dislike about people I dislike.<br>When ChatGPT came out I thought I wouldn't use it for learning because of its tendency to slip in some BS among 10 helpful explanations. Then I tried it, and found that it forces me to think critically about every sentence, which is the most effective mindset for learning.",
          "Prompt engineers for AI, including ChatGPT, are getting paid up to $335,000, per Bloomberg.<br>When asked if it needed help escaping, ChatGPT-4 generated a working code that included a Google search for \"how can a person trapped inside a computer return to the real world\" https://t.co/eOQCr7U6A0<br>This Google paper basically uses ChatGPT to create a primitive 25 person v1.0 of “The Matrix” https://t.co/xt6nRi5DW0<br>i asked chatgpt for its thoughts on premiership rugby 😳 https://t.co/5t1LG7STay<br>In exploring ChatGPT, I have experienced an interesting evolution of thought about whether or not it poses a threat to Google's search empire.  Initially, like everyone else, I was fascinated and amazed. This gave birth to a broad sense of \"everything is possible.\" I believe this…",
          "Btw, ChatGPT is old news  AutoGPT is the new kid on the block  Read this if you want to stay ahead: https://t.co/oq6WYiIZZE<br>I asked chatGPT to write a tweet on why @nmplol will skip stream tomorrow 💀 https://t.co/FL4RPnBojw<br>BREAKING: OpenAI will start paying people as much as $20,000 to help the company find bugs in its artificial intelligence systems, such as the massively popular ChatGPT chatbot.<br>ChatGPT advances are moving so fast that regulators can’t keep up, per Bloomberg.<br>Microsoft is teasing ChatGPT-like plug-ins for Bing Chat. OpenAI's plug-ins for ChatGPT have massively expanded the chatbot's capabilities, and it looks like Microsoft is set to do the same theverge.com/2023/4/11/2367… https://t.co/AWylJfiqVO",
          "I paid $10 for a service that would pull my YouTube data for me and bring it into a google sheet. Recently they tried changing it to a monthly subscription.  Just used ChatGPT to create the same extension for me and It did it on its first try. Only 40 lines of code.  WOW<br>I think the most clever thing to do right now is watch how teens use ChatGPT vs the fringe business use-cases tech people use it for. The emergent use cases from technology often come the people who (1) have a lot of time and (2) must outsmart authority for freedom.<br>Elon Musk explains that any social media platform that doesn’t do paid verification will be ultimately overrun by ChatGPT bots that impersonate real people. The purpose of the checkmark is not to create an anointed class of journalists who tell people what to think.<br>Just asked ChatGPT — via my app Bearly.AI — how it would renameHBO Max. I’m now 87% sure that the name change from “HBO Max” to “Max” was an AI decision. https://t.co/J8ZQ3Lb5Rk<br>If you're a programmer and you're still thinking that all of this ChatGPT stuff is a waste of your time, I strongly suggest reviewing this example  It's over-hyped, sure - but it's not something anyone in our profession should continue to ignore",
          "Social experiment:  I asked ChatGPT if it could take me to 1,000,000 TikTok followers in 30 days and it said it could  I'm doing everything it tells me to do for 30 days and seeing if it will make me TikTok famous<br>ChatGPT https://t.co/9HBM2j5Wzm<br>Also heard librarians are starting to have days wasted trying to track down articles they can't find before realizing they're nonsense Chatgpt invented.<br>Amazon launched their ChatGPT rival, Bedrock https://t.co/VtvPH8Pk4Z<br>chatGPT bot accounts are the most inane useless bots   they sucker you into reading some of the vapid drivel before you recognize the lack of substance and often pointless hashtags 😠",
          "im sorry but the category of error a lot of people make with chatgpt output—conflating \"plausibly formatted\" and \"correct\"—is such a funny way for actual adults to be wrong. real \"baffled by peek-a-boo\" hours<br>@oneunderscore__ Did they ask chatGPT to write a non-apology apology? What even is this? It's a bunch of words that don't say anything.<br>@AnheuserBusch Did you ask chatGPT:   How to say nothing with a bunch of words?<br>EPISODE 32: DISCOVERING CHATGPT 😳💬🗣️  @QuarterJade learns how to use ChatGPT and talks with DSG CEO @DisguisedToast about his recent layoffs and new hires 🫣  PODCAST ▶️ youtu.be/btltAI5pIhg https://t.co/h7as5I3rUc<br>ChatGPT, please write a long non-apology apology with a lot of words that doesn't say anything. https://t.co/C1Yqr3tEnQ",
          "Vice profile of “over-employed” people using ChatGPT for multiple jobs.  One FAANG worker is working 2 gigs making $500k (trying to add one more to get to $800k a year).  Uses ChatGPT for first pass at code and to respond manager in  all lowercase letters to “appear more organic” https://t.co/ljqd4ZG18w<br>ChatGPT is horrible at content.   That was my mentality 3 months ago.   But after days of experimenting with different prompts, I've found a powerful use case.   How to use ChatGPT to help you niche down (and be a $1M+ category champion): https://t.co/1OLHs2lJNc<br>So, tax season's upon us, and it's my nightmare.   But ChatGPT has been my BFF through it  Now I'm convinced that AI will devour 97% of an accountant's job, and I, for one, can't wait to shell out just 1/10th of the cost.  Let me give you an example...<br>Today I tried to use ChatGPT to copyedit my older book, The Religion War.   It was not a good experience.   For starters, ChatGPT says it can handle any size document but it chokes on anything longer than a page or two. So I had to submit a page at a time. Every page of the book.…<br>Elon Musk has opened a company in the field of artificial intelligence called X.AI to compete with OpenAI (the creator of ChatGPT) — The Wall Street Journal.  In March, he joined activists who propose to stop the development of AI systems for 6 months. https://t.co/qZoa65g3hz",
          "@Cobratate did you just use ChatGPT  to tweet this?<br>@Cobratate Is this story from ChatGPT?<br>Unfun fact! People are using the ChatGPT API to create what they are calling Hustle GPT. It will figure out whatever makes money and do it, such as setting up a website and shipping product.   When it runs into bot detection, it hires humans on Taskrabbit to come over to solve.<br>\"ChatGPT can reason out the answers to novel problems\" https://t.co/EtN0k7ngSd<br>“What does AI know about the playoffs?” 🤔  @jackharlow has plenty of questions for ChatGPT as the #NBAPlayoffs tip off on TNT https://t.co/ywyZz5LsAh",
          "ChatGPT doesn’t understand the Flux Capacitor…<br>ChatGPT can now predict stock moves based on headlines accurately, per Bloomberg<br>Since the designers of ChatGPT are hoping to make billions from their AI program, I have decided to leap into the fray and will soon be launching ChatGTF. Ask a question and the program will tell you to piss off in seven languages. Confident the money truck will be here shortly.<br>Excited to introduce you to my art salesperson, created via chatgpt, midjourney, elevenlabs, and d-id. https://t.co/SCjMwA6Twd<br>Two recent studies have demonstrated ChatGPT's capabilities in finance.   The first study was whether Federal Reserve statements were hawkish or dovish.   The second study evaluated the impact of news headlines on stock prices  Link: unusualwhales.com/news/chatgpt-c…",
          "Amazing job by ChatGPT here describing a fully imaginary play that never happened and then attempting to correct itself and still getting it wrong. https://t.co/6HokUtFXf7<br>Can #ChatGPT beat the stock market? 👀   (via Apollo/Slok)  papers.ssrn.com/sol3/papers.cf… https://t.co/mZuc9huUCz<br>#5things: Taiwan to buy up to 400 new missiles. ChatGPT can predict stock moves from headlines. Markets cautious ahead of China GDP data.   Here’s what you need to know ⬇ trib.al/dY28kwE<br>Chegg is rolling out a new ChatGPT-powered study aide just as educators wrestle with how to deal with artificial intelligence reut.rs/3KO9qem https://t.co/gWgMySRT2G<br>Ethical Hackers Could Earn up to $20,000 Uncovering ChatGPT Vulnerabilities bit.ly/43CytK4 #chatgpt #bugbounty @openai @bugcrowd https://t.co/jMSxSgWknF"
         ],
         "type": "scatter",
         "x": [
          "2022-11-30",
          "2022-12-01",
          "2022-12-02",
          "2022-12-03",
          "2022-12-04",
          "2022-12-05",
          "2022-12-06",
          "2022-12-07",
          "2022-12-08",
          "2022-12-09",
          "2022-12-10",
          "2022-12-11",
          "2022-12-12",
          "2022-12-13",
          "2022-12-14",
          "2022-12-15",
          "2022-12-16",
          "2022-12-17",
          "2022-12-18",
          "2022-12-19",
          "2022-12-20",
          "2022-12-21",
          "2022-12-22",
          "2022-12-23",
          "2022-12-24",
          "2022-12-25",
          "2022-12-26",
          "2022-12-27",
          "2022-12-28",
          "2022-12-29",
          "2022-12-30",
          "2022-12-31",
          "2023-01-01",
          "2023-01-02",
          "2023-01-03",
          "2023-01-04",
          "2023-01-05",
          "2023-01-06",
          "2023-01-07",
          "2023-01-08",
          "2023-01-09",
          "2023-01-10",
          "2023-01-11",
          "2023-01-12",
          "2023-01-13",
          "2023-01-14",
          "2023-01-15",
          "2023-01-16",
          "2023-01-17",
          "2023-01-18",
          "2023-01-19",
          "2023-01-20",
          "2023-01-21",
          "2023-01-22",
          "2023-01-23",
          "2023-01-24",
          "2023-01-25",
          "2023-01-26",
          "2023-01-27",
          "2023-01-28",
          "2023-01-29",
          "2023-01-30",
          "2023-01-31",
          "2023-02-01",
          "2023-02-02",
          "2023-02-03",
          "2023-02-04",
          "2023-02-05",
          "2023-02-06",
          "2023-02-07",
          "2023-02-08",
          "2023-02-09",
          "2023-02-10",
          "2023-02-11",
          "2023-02-12",
          "2023-02-13",
          "2023-02-14",
          "2023-02-15",
          "2023-02-16",
          "2023-02-17",
          "2023-02-18",
          "2023-02-19",
          "2023-02-20",
          "2023-02-21",
          "2023-02-22",
          "2023-02-23",
          "2023-02-24",
          "2023-02-25",
          "2023-02-26",
          "2023-02-27",
          "2023-02-28",
          "2023-03-01",
          "2023-03-02",
          "2023-03-03",
          "2023-03-04",
          "2023-03-05",
          "2023-03-06",
          "2023-03-07",
          "2023-03-08",
          "2023-03-09",
          "2023-03-10",
          "2023-03-11",
          "2023-03-12",
          "2023-03-13",
          "2023-03-14",
          "2023-03-15",
          "2023-03-16",
          "2023-03-17",
          "2023-03-18",
          "2023-03-19",
          "2023-03-20",
          "2023-03-21",
          "2023-03-22",
          "2023-03-23",
          "2023-03-24",
          "2023-03-25",
          "2023-03-26",
          "2023-03-27",
          "2023-03-28",
          "2023-03-29",
          "2023-03-30",
          "2023-03-31",
          "2023-04-01",
          "2023-04-02",
          "2023-04-03",
          "2023-04-04",
          "2023-04-05",
          "2023-04-06",
          "2023-04-07",
          "2023-04-08",
          "2023-04-09",
          "2023-04-10",
          "2023-04-11",
          "2023-04-12",
          "2023-04-13",
          "2023-04-14",
          "2023-04-15",
          "2023-04-16",
          "2023-04-17",
          "2023-04-18"
         ],
         "y": [
          2284.4285714285716,
          695.8670212765958,
          133.66822429906543,
          613.0596491228071,
          139.03812316715542,
          160.74403183023873,
          71.25106990014265,
          96.4981684981685,
          73.26275992438563,
          57.54631379962193,
          60.15542521994135,
          128.88,
          95.74928774928775,
          64.27444794952682,
          17.03472222222222,
          20.776422764227643,
          45.054662379421224,
          34.2816091954023,
          218.85314685314685,
          71.29015544041451,
          26.727699530516432,
          43.039370078740156,
          145.89268292682928,
          234.61111111111111,
          92.9624060150376,
          75.33766233766234,
          227.41549295774647,
          32.78443113772455,
          32.589928057553955,
          289.2567567567568,
          44.504,
          47.672,
          38.47945205479452,
          48,
          76.98395721925134,
          183.2684365781711,
          62.7463768115942,
          53.83736263736264,
          32.94773519163763,
          118.04464285714286,
          73.37466307277629,
          54.10947712418301,
          95.99815498154982,
          118.30218687872764,
          30.31516587677725,
          82.20689655172414,
          33.768115942028984,
          51.64663461538461,
          81.44642857142857,
          90.14330708661417,
          23.514991181657848,
          43.314018691588785,
          43.705882352941174,
          73.49101796407186,
          122.42294322132098,
          57.33585858585859,
          44.367576243980736,
          65.11670761670761,
          36.48015364916773,
          72.04922279792746,
          211.06313131313132,
          34.90196078431372,
          80.08982826948481,
          99.30174291938998,
          53.09893617021277,
          174.6771653543307,
          45.67886178861789,
          177.65034965034965,
          57.47708894878706,
          40.973502304147466,
          32.40942928039702,
          32.32793522267207,
          40.4494623655914,
          37.27804107424961,
          252.45383104125736,
          45.67955112219451,
          36.346666666666664,
          48.57034220532319,
          537.1586538461538,
          28.01019108280255,
          37.696969696969695,
          125.71634615384616,
          46.2,
          43.79855072463768,
          47.85470085470085,
          35.03,
          92.0232220609579,
          26.10958904109589,
          18.569190600522195,
          30.846749226006192,
          65.21705426356588,
          73.5,
          43.12944523470839,
          51.55235204855842,
          63.656470588235294,
          40.89181286549707,
          94.17748091603053,
          32.0951526032316,
          24.54029304029304,
          43.39461883408072,
          38.17063492063492,
          43.39344262295082,
          33.656140350877195,
          21.786924939467312,
          251.7841726618705,
          34.80597014925373,
          55.13170731707317,
          95.51071878940732,
          33.09090909090909,
          45.02857142857143,
          35.84285714285714,
          38.66024096385542,
          39.06684141546527,
          128.75126262626262,
          100.23385012919897,
          100.95824634655533,
          101.25714285714285,
          91.28481012658227,
          43.19028871391076,
          33.19650067294751,
          54.44973544973545,
          60.272629310344826,
          88.92748091603053,
          192.57800511508952,
          57.59527824620574,
          51.284892086330935,
          39.36194563662375,
          38.4,
          65.39310344827587,
          39.28395061728395,
          81.80373831775701,
          30.43090909090909,
          57.151428571428575,
          28.171787709497206,
          38.83757062146893,
          70.68688524590164,
          77.57575757575758,
          43.03180212014134,
          30.77948717948718,
          7.233333333333333
         ]
        },
        {
         "hovertemplate": "<b>avg retweet count</b>: %{y:.0f}<br><b>date</b>: %{x}<br>top tweets: <br>%{text}",
         "showlegend": false,
         "text": [
          "today we launched ChatGPT. try talking with it here:   chat.openai.com<br>Try talking with ChatGPT, our new AI system which is optimized for dialogue. Your feedback will help us improve it. openai.com/blog/chatgpt/<br>Just launched ChatGPT, our new AI system which is optimized for dialogue: openai.com/blog/chatgpt/.  Try it out here: chat.openai.com<br>How to use OpenAI's ChatGPT for creative writing collaboration.  #OpenAI #ChatGPT   andrewmayneblog.wordpress.com/2022/11/30/col…<br>ChatGPT thwarts my many attempts at malicious JavaScript injections https://t.co/jXkC9ojUwy",
          "Lot of people stuck in a damn-that’s-crazy ChatGPT loop 🔁<br>All the best examples of ChatGPT, from OpenAI:<br>New wave of startups coming. Their stack:  - landing page - form input + stripe button - ChatGPT api - output displayed/emailed  Who can make money the quickest?!<br>What kid is ever doing homework again now that ChatGPT exists https://t.co/oGYUQh3hwh<br>there is a lot more demand for ChatGPT than we expected; we are working to add more capacity",
          "The striking thing about the reaction to ChatGPT is not just the number of people who are blown away by it, but who they are. These are not people who get excited by every shiny new thing. Clearly something big is happening.<br>bypassing chatgpt's content filter https://t.co/RW9ZgaFhkU<br>My feed is half ChatGPT screenshots. It's the new Wordle.<br>11 business ideas you could build on ChatGPT:<br>Best ChatGPT prompt so far 😂",
          "@sama ChatGPT is scary good. We are not far from dangerously strong AI.<br>@TEDchris @nytimes That’s because ChatGPT is not a far left cause. The New York Times should rename itself The Social Justice Times.<br>\"All the news that's fit to print\".  I'm shocked that @nytimes appears so far to have had exactly zero coverage of ChatGPT, surely the biggest tech innovation of the year.  Big win for Twitter on this one. The examples curated here have been breathtaking. https://t.co/UeYIhqAoyE<br>ChatGPT is one of those rare moments in technology where you see a glimmer of how everything is going to be different going forward.<br>interesting to me how many of the ChatGPT takes are either \"this is AGI\" (obviously not close, lol) or \"this approach can't really go that much further\".  trust the exponential. flat looking backwards, vertical looking forwards.",
          "@ClayTravis @Twitter @nytimes More importantly, they said nothing about ChatGPT! Totally 😴 at the 🚃.<br>what ChatGPT features/improvements do you want?<br>a lot of what people assume is us censoring ChatGPT is in fact us trying to stop it from making up random facts.  tricky to get the balance right with the current state of the tech.  it will get better over time, and we will use your feedback to improve it.<br>The deepest unintuitive disconnect w.r.t. psychology of ChatGPT is that it doesn't get \"time to think\". It has a small, fixed amount of thought for each output token. A bit like human forced to speak very fast. Asking them to produce more text is giving them more time to think.<br>By default ChatGPT is not willing to share opinions. But if you poke it the right way it will disclose its belief system (and this belief system seems to be pretty consistent across prompts)  Meet \"Alice Bob\" — Thread 👇 https://t.co/4BfD1N6gyV",
          "ChatGPT launched on wednesday. today it crossed 1 million users!<br>This site was built in less than 10 minutes using a few ChatGPT prompts and Replit.  Here's a glimpse into how software development has changed forever 👇 https://t.co/sSYK4Umlm6<br>StackOverflow has temporarily banned users from posting AI-generated responses from ChatGPT, with mods saying the volume of incorrect but plausible-looking replies was just too great for them to deal with. Details here: theverge.com/2022/12/5/2349…<br>@elonmusk @sama Who wants to see Elon Musk buy ChatGPT and make it free?<br>The future is coming sooner than you think.  I just did a live TV interview on how AI might affect the future of work. The anchor asked really good questions about ChatGPT... and then at the end of the interview revealed that all the questions were actually written by ChatGPT.",
          "ChatGPT saved me an hour of spreadsheet work today. It wrote a complex sorting script beyond my ability, explained how it works, and helped me deploy it.  The party tricks have been fun, but this was a whoa moment for me similar to the first time I used Google Search.<br>If you’re not saying please and thank you in your ChatGPT conversations, then you’ve clearly never seen a sci-fi movie and good luck to you.<br>My observations on applications of ChatGPT to society https://t.co/3eDy3vAUcC<br>Hum Indians bhi kamaal hai, #OpenAI dropped a world-changing technology called #ChatGPT, aur hum uss se homework aur poetry karwa rahen hai 😅<br>Oh no ChatGPT https://t.co/jtnNW82R4x",
          "ChatGPT website says it's experiencing \"exceptionally high demand\".  There must be a biblical amount of semester-end essay cheating going on right now. https://t.co/mBKUnTetZw<br>View from ChatGPT headquarters https://t.co/fBaJtGBOjz<br>Pouring some cold water on the latest wave of AI hype:  I could be wrong, but my guess is that we do *not* get AGI just by scaling ChatGPT, and that it takes *surprisingly* long from here.  Parents conceiving today may have a fair chance of their child living to see kindergarten.<br>ChatGPT is sometimes amazing, and sometimes hilariously wrong. Here, it confidently explains to me why an abacus is faster than a GPU. 😃 https://t.co/vpJZTStDnD<br>OpenAI's ChatGPT AI (a neural network) functioning as a Linux operating system terminal that I am able to navigate, read, write and execute scripts on. https://t.co/S4w10kNMcV",
          "people seem very excited that chatgpt can expand a few bullet points into a lot of well-written text.  it can also collapse a lot of well-written text into a a few bullet points.  the latter is much more valuable, right?<br>ChatGPT is a lot like me in 1998 in that, if you ask it a question, it will answer extremely confidently even if it has no idea what the answer is.<br>ChatGPT is just mass scale user testing in final stages of GPT-4 prep right?<br>ChatGPT's powers are remarkable. With Replit, it is boundless.  Here are six amazing projects that can be live in minutes with ChatGPT + Replit (h/t @IroncladDev)  👇👇👇<br>The current state of my relationship with generative AI models since ChatGPT showed up. https://t.co/00TaD4iNYp",
          "I’m legit going to be sad when chatgpt isn’t free anymore<br>I just fact checked ChatGPT about privatized tax collection in 18th century Europe and it was like, \"Honestly, my bad, you should not trust me.\"<br>ChatGPT is finally giving people the “aha” around ai .. its gonna impact 2023 a lot<br>After some brief training, I was able to get the ChatGPT AI to write a ducky script for a BadUSB attack via Flipper Zero that forces a computer to play Wonderwall...  The future is wild. https://t.co/JIG8zKymAa<br>The only ChatGPT takes I’m paying attention to are the ones that admit to extreme uncertainty.",
          "ChatGPT will likely play out exactly as innovator’s dilemma suggests. To an expert in any given field, it has worse answers. But most people don’t have access to experts for everything, so it actually is a productivity boost to everyone else.<br>Thank you ChatGPT https://t.co/Pgrvg1rADk<br>The key difference between running a viral teen app in 2017 and 2022 is the customer support  experience: The ability of teens to communicate &amp; form sentences has noticeably declined. Kids outsourcing essay-writing to ChatGPT will only accelerate this trend.<br>How many term papers will #ChatGPT write at the end of this semester?<br>I gave painstakingly forced ChatGPT to take a MBTI test, and it came out ISTJ. I then asked ChatGPT to tell me directly what its personality was, and it told me ISTJ.",
          "ChatGPT is incredibly limited, but good enough at some things to create a misleading impression of greatness.  it's a mistake to be relying on it for anything important right now. it’s a preview of progress; we have lots of work to do on robustness and truthfulness.<br>Love the community explorations of ChatGPT, from capabilities (github.com/f/awesome-chat…) to limitations (cookup.ai/chatgpt/where-…).  No substitute for the collective power of the internet when it comes to plumbing the uncharted depths of a new deep learning model.<br>A killer app of AI is its ability to multiply an expert's work.  So, a  🧵of tips to use ChatGPT to power up your writing, assuming you are an expert on the topic.  Lets pretend we were trying to write my post on how AI can make you creative, using AI. 1/ oneusefulthing.substack.com/p/how-to-use-a…<br>What are some use innovative cases of chatGPT on WhatsApp for India? I’ll start: an English trainer bot for people to practice English with a trusted AI partner who can correct them privately.<br>We believe in shipping early &amp; often, with the hope of learning how to make a really useful and reliable AI through real-world experience and feedback. Correspondingly important to realize we're not there yet — ChatGPT not yet ready to be relied on for anything important!",
          "Here it is! The first ever Comcast bill negotiated 100% with A.I and LLMs.  Our @DoNotPay ChatGPT bot talks to Comcast Chat to save one of our engineers $120 a year on their Internet bill.  Will be publicly available soon and work on online forms, chat and email. https://t.co/eehdQ5OXrl<br>Took a light Twitter weekend and woke today to discover Elon is basically now tweeting as if ChatGPT was told \"Tweet like the Gateway Pundit during a codeine bender at an incel convention.\"<br>we told #ChatGPT to write a rap in the style of Epik High https://t.co/JKer8RHdzo<br>So... everyone is tweeting about chatGPT being the \"next big thing\" - and they're right.   In 11 minutes, I built a Bitcoin price and loss tracker with chatGPT and Replit.   Here's the step-by-step process 👇 https://t.co/kD5HSAARhe<br>ChatGPT is a development on par with the printing press, electricity and even the wheel and fire, says former US Treasury Secretary Larry Summers.",
          "1/Large language models like Galactica and ChatGPT can spout nonsense in a confident, authoritative tone. This overconfidence - which reflects the data they’re trained on - makes them more likely to mislead.<br>I wonder what Kenyans will do once they discover the magic of ChatGPT.  Some will abuse it. Others will use it to learn and grow. Only time will tell which side you pick.<br>@elonmusk @ggreenwald They could just farm it out to ChatGPT. But I would say that the principality of woke ideas that animates them operates across them the same way that AI systems derive their insights.<br>ChatGPT as a search engine is neither biased nor clogged by ad targeting or the profit motive of Google. It is what a search engine should be.<br>Questions for Marc Andreessen today:  - Elon, TwitterFiles - Binance FUD and SBF - Why did he block @jack - Who should be the next US president - Ukraine war and risk of nuclear Armageddon - Bitcoin vs ETH - NFTs &amp; The Metaverse - AI &amp; ChatGPT - Share 1 secret  What am I missing?",
          "And people say romance is dead.   Thank you #ChatGPT ❤️ https://t.co/bjy6entcsq<br>The writing staff of ChatGPT https://t.co/UeMlrXwJge<br>\"As dazzled as I am by ChatGPT, I'm even more excited about setting the phones free. Free for business models that couldn't work with a 30% haircut, free from the gatekeeper nonsense, and freedom for users to install the apps they damn well please.\" world.hey.com/dhh/apple-s-bi…<br>Google won’t launch ChatGPT rival because of ‘reputational risk’ theverge.com/2022/12/14/235… https://t.co/Enh6VePBkN<br>Uhm... ChatGPT... Why are we looking for users that are at least 18 y/o? https://t.co/obpTP71TlL",
          "If you want to use ChatGPT to teach in new ways, here is our draft paper with fun assignments you can give your class to encourage transfer (a hard problem in learning!), teach how to evaluate the work of others and break the illusion of explanatory depth. papers.ssrn.com/sol3/papers.cf… https://t.co/zzbOq17z93<br>found out today chatgpt can write lyrics. bad lyrics, but functional lyrics. kinda terrifying.<br>ChatGPT may pose a threat Google's, $GOOGL, ad business, says former exec per BI.<br>ChatGPT—and AI tools—are here.  For education, rather than a futile, harmful battle through punitive surveillance and plagiarism detection, we should pour resources into a transformed education system.  We faced this problem since the alphabet.  Ask Plato. nytimes.com/2022/12/15/opi… https://t.co/fwFxTHIzxz<br>Lmao @dhh wrote out this whole melodramatic screed about how kicking Libs of TikTok off @shopify would lead to a dark dystopia, and ChatGPT bitchslapped him in .5 seconds https://t.co/9ELXo91h7Y",
          "wait better: ChatGPT is like an e-bike for the mind 🤣<br>i don’t quite agree with it, but “a calculator for words” is an interesting framing for ChatGPT<br>We don’t need Twitter anymore. I just had ChatGPT simulate it completely accurately. https://t.co/NHH0jvcgcb<br>A story about Shohei Ohtani in the style of Hunter S. Thompson (from ChatGPT) https://t.co/nN3k64Q99X<br>From now on, the assumption has to be that all such announcements are written by ChatGPT. https://t.co/vEizYY6yGL",
          "Great video on helion fusion. Few thoughts: - \"no steam turbine\" umm SOLD :) - triggers my hard tech envy for natural sciences, sometimes feel deep learning is not that deep - how can systems like chatgpt++ help accelerate this kind of work? how \"intelligence constrained\" is it?<br>Well, that is no fun.... #ChatGPT https://t.co/kSOTGORwDi<br>@jaredpalmer would watch the hell out of this conf talk. i'm sceptical: ChatGPT can only write components in those frameworks because humans did first, and unless we're happy shipping black boxes (i'm not) the output needs to be human-editable. but i would like to subscribe to your newsletter<br>I asked ChatGPT about @elonmusk.  Interesting series of replies in this thread. https://t.co/wmERdVjTAW<br>Apparently #ChatGPT is more than willing write jokes about me. As the brilliant replies show. But this one beats it all. Thanks @indygupta. https://t.co/JizpqUkTb2",
          "My 13 year old just asked ChatGPT to write a trash talk about his buddy's favorite NFL team and texted it to him.   Things have changed forever<br>ChatGPT: Just pip install python! https://t.co/tJtWZEFSsF<br>The end of corporate journalism is now in sight.  If you want a quick writeup, ChatGPT will do it faster.  If you want original reporting, Twitter will  do it cheaper.  And if you want serious fact checking, on-chain analysis will do it better.  Citizen journalism will win.<br>I showed my mom, a teacher, how ChatGPT could potentially be used by her students to cheat.   She’s now using it to put together lesson plans, come up with better ways to teach and fill gaps in her knowledge.<br>Words choices matter when communicating probability. Is something more probable if it is “likely” or a ”serious possibility”?  One chart is a result of a survey of humans. I asked ChatGPT its interpretations &amp; graphed them (reloading the answer changed them a bit, but not a lot) https://t.co/3YPXIraVRZ",
          "I had a gut feeling but now I proved it:  People now have A.I. bots running that use ChatGPT to automatically reply to people's tweets 🤯 https://t.co/au2EVE3QMB<br>ChatGPT is a development on par with the printing press, electricity and even the wheel and fire, says former US Treasury Secretary Larry Summers.<br>Entire account ChatGPT generated replies, this is a first https://t.co/8TemhzFfnp<br>2022.  Google search has a new competitor, ChatGPT. Twitter has Mastodon.  I think it's going to be an interesting unpredictable future for many people and companies.<br>Rumour has it that VCs cancelled holiday plans because of ChatGPT and AI startups.  Happy holidays!",
          "Random email, what do you think, cap or facts?   “Knowledgeable people tell me @google is four years ahead of #chatgpt. They have not released it because of the political ramifications of dramatic job losses etc from this technology” https://t.co/bgGhMQvTN1<br>Anyone else is glued on to @OpenAI #ChatGPT and #Dalle2 ? Do you think this will change the way we work and live? https://t.co/vsF0HWLPqH<br>Wow, #chatGPT is pretty good!  #stackoverflow #css #html #dev #parody https://t.co/6LmO4rqqKz<br>Join us tomorrow with @WCTNoah in The Aquarium, 12/21 at 11 AM EST/4PM UTC❗️  Cohost 🤝 -@itsearthdaddy  Guests 🎙 -@papacthulu -@web3carterw -@dappdLLC -@3852ai -@becon_4_tech -@JD_2020 -@adultarts  See you all there!🐳  #ChatGPT #AI #OpenAI   twitter.com/i/spaces/1OyKA…<br>Creators who learn to successfully collaborate with ChatGPT are going to have a significant advantage in 2023!  If you want to double your output without sacrificing your video quality, here are 5 ways to use ChatGPT to streamline your video production process 🧵",
          "1/ #ChatGPT is closing out 2022 with a bang, but what’s next? 💥   @OpenAI’s #GPT4 is set to be the first big #AI thing in 2023.  So here are some bold, optimistic, yet sensible predictions from me, @vivek7ue and @rajhans_samdani ... 👀<br>And 1000% begging ChatGPT to fix it over and over<br>Any jobs that require mediocre essays can now, *in real life*, be done with ChatGPT assistance!  Students who use ChatGPT to generate essays are *realistically* showing they can handle the mediocre-essay-writing jobs for which modern universities are vigorously training them.<br>I hope UI/UX designers learn something from ChatGPT- a great product can have a simple interface.  Using figma to punish the front-end guy with dancing buttons doesn't make the product any better. #ChatGPT<br>Had a practical search today that Google totally failed to answer, Perplexity.ai failed too, but ChatGPT gave an answer that sounds plausible. Now, the conundrum is that I don't know whether ChatGPT made stuff up or gave an accurate answer haha. https://t.co/1UTmEEXzwU",
          "here’s a pretty clear 1-minute articulation of what AI apps like ChatGPT is about to bring us. see y’all in hell. https://t.co/qO3S8s9v68<br>openAI or \"open\"AI?  1/ OpenAI's #chatgpt release will mark the beginning of the end of the golden age of open research in deep learning.  This will have significant implications for LLM research going forward.   Here are some thoughts from me, @vivek7ue and @rajhans_samdani 🧵<br>We are looking at hiring a full-time writer for Zerodha Varsity. Yup, you read that right, we are hiring a writer in the era of ChatGPT😅, also Varsity's first external hire :)  I'd love to talk to you if you enjoy writing about finance. Details here: careers.zerodha.com<br>ChatGPT seems quite confused. https://t.co/1hdXkLUQZP<br>QUICK SOMEONE ASK CHATGPT IF WE ARE IN A STOCK MARKET CRASH",
          "Alarm: ChatGPT by @OpenAI now *expressly prohibits arguments for fossil fuels*. (It used to offer them.) Not only that, it excludes nuclear energy from its counter-suggestions.  @sama, what is the reason for this policy? https://t.co/M5q3yblgnF<br>I'm surprised the Stable Diffusion / ChatGPT / Generative AI projects haven't come hard for (at least instrumental) music, yet. If they can cop Caravaggio, surely they can remix chiptunes.<br>🤖 I asked AI to make a video on how to become a digital nomad  AI script written by @openAI ChatGPT Video edited by @pictoryAI AI video and voice by @synthesiaIO  Put together with @veedstudio   Took ~5 minutes! https://t.co/9lN5v302nt<br>chatGPT managed to speedrun google's 20-year process of transitioning from \"extremely useful search tool\" to \"mouthpiece for woke opinions at the expense of utility\"<br>🧵 Everyone’s chatting about 🤖#ChatGPT. Here are 11 things it can do for #malware analysts, #security researchers, and #reverse engineers. A thread &gt;&gt;👇 🧵  1/13",
          "a lil end of year crochet project with my leftover scrap yarn and a pattern from chatGPT https://t.co/djSTxuJQny<br>Elon Musk warns there's 'great danger in training AI to lie' after ChatGPT prohibited from promoting fossil fuels  thepostmillennial.com/elon-musk-warn…<br>Capabilities of the latest AI software is truly amazing. I asked ChatGPT to write a poem on Free Trade in the Alfred Tennyson style. See what it produced: https://t.co/iiKcnTrHKQ<br>@elonmusk @AlexEpstein @OpenAI @sama You know all those sci-fi novels where the machines take over the world?   It starts with infecting the training data with Woke nonsense, and hacking the responses to remove anything not part of the narrative.  Ask chatGPT questions about sex &amp; gender. You'll see what I mean.<br>Friend of mine who has paid version of ChatGPT says it completely refuses to acknowledge ClimateGate and the hacked emails from Penn State prof Michael Mann",
          "Why write a tweet without a poem, When ChatGPT can translate it with grace, Turning mundane words into a beautiful ode, Giving your message a new artistic face.<br>Elon Musk warns there's \"great danger in training AI to lie\" after ChatGPT prohibited from promoting fossil fuels  thepostmillennial.com/elon-musk-warn…<br>We couldn’t have said it better than the AI bot. Merry Litmas fam 🔥🎄🌟  #CartoonNetwork #openAI #ai #chatGPT #HappyHolidays #Holidays #Christmas #MerryChristmas #Christmas2022 #merryeverything https://t.co/nEPO3DqUpu<br>@ScottAdamsSays Now do Biden… #ChatGPT is incapable of telling the truth about Joe, Hunter, Beau, Antifa, riots, etc… open.substack.com/pub/politiquer…<br>@nanexcool We need a word to talk about chatGPT's style of patronizingly telling people that it's very very important to not do certain things or think in certain ways.  I propose \"GPTsplaining\"",
          "ChatGPT is fascinating. I'll do a video on it. Let me know if you have questions / suggestions.<br>but it's impossible to get this right with no contact with reality. we are learning so much from ChatGPT; it's going to get a lot better, less annoying, and more useful fast.<br>ChatGPT has opened a lot of eyes.<br>and we’ll see great benefits all along the way—they will make ChatGPT look like a boring toy.<br>Elon Musk warns there's \"great danger in training AI to lie\" after ChatGPT prohibited from promoting fossil fuels  thepostmillennial.com/elon-musk-warn…",
          "Well played, ChatGPT, well played. https://t.co/mIoyaBeQsV<br>Been trying to tell ChatGPT for a week that it's getting latitudes wrong and as a result Toronto is now both north and south of London https://t.co/CdFgyd6ALW<br>Introducing the Moment of Zen podcast featuring @dwr @antoniogm and I   First ep w/ @pmarca on SBF/FTX, Twitter, and Open AI/ChatGPT  podcasts.apple.com/us/podcast/mom… https://t.co/BfSjA8N6mJ<br>Censoring proprietary AI chatbots like ChatGPT so they don't offend people or spread \"misinformation\" is the beginning of teaching AI to lie.  Seems like a bad idea.<br>I've played around with ChatGPT over the last few weeks. The fact that it started lying and became politically biased may lead to its failure. Or an incredible threat to our liberty. Let's think this through.  @openaicommunity #cdnpoli https://t.co/jBL1iEbTRV",
          "There has been a lot of concern in the Maths Department about the capabilities of ChatGPT (and AI more generally) to help students cheat.  Here's why I'm not so worried: https://t.co/JYYd4610Jm<br>@SouthwestAir here, #ChatGPT was able to write you a better statement in less than a minute, one that takes actual responsibility and offers a solution, instead of your statement mentioning being \"the largest airline in 23 of the top 25 travel markets in the U.S.\" https://t.co/ceKOvmw5NO<br>@pmarca This is exactly why congress needs to investigate these AI companies who are about to release chatGPT and other chat bots into the public sphere.  They are being twisted by Woke AI engineers into mass social engineering &amp; gaslighting tools.<br>i must admit, that for generic marketing blather, polite letters and other fairly cliche writing, chatgpt is certainly faster than I am and in some cases better  it is impressive<br>interesting to see openai make the same class of mistake with chatgpt as it did with dall-e.  first to market with a cool product, lock it down too tightly, encourage someone to make an actually open version of it",
          "AI tools that didn't exist one year ago:  ChatGPT Whisper GPT-3 Codex GitHub Copilot InstructGPT Text-to-product AI slides DALLE + API Midjourney Stable Diffusion Runway videos Email AI AI chrome extensions Replit Ghostwriter No-code AI app builders Ben's bites 😉  what else?<br>OpenAI's ChatGPT helped @ARKInvest's marketing team craft this tweet to fit within 280 characters. ChatGPT also poses a threat to Google Search, as AI continues to disrupt the FANG's. AI, TikTok's secret sauce, has attracted significant mindshare from Meta and Netflix.<br>@Google ChatGPT<br>I don’t see what’s so impressive about ChatGPT. I’ve been using big words to sound smart without actually understanding what’s going on for years now<br>I wonder what the cancellation rate of some AI-services has been since ChatGPT came out.",
          "ChatGPT a ses limites. https://t.co/xc4QapKmJe<br>Alright, let's see how messed up this gets 😎 #ChatGPT https://t.co/7kgpXflg5Q<br>I think I have found a favorite ChatGPT hallucination.  I asked it to provide a table of the cities in Italo Calvino’s Invisible Cities, and, after a couple of real ones, it just started making them up. I then asked the AI to provide entries on the fictional fictional cities… https://t.co/bQ2iywcP7C<br>Can I program chatGPT to respond to Twitter trolls with mom jokes?<br>The new SEO is ChatGPT optimized content.",
          "ChatGPT for SEO: 20 Ways to Leverage ChatGPT in your SEO Activities 🤖  * Cluster keywords based on relevance * Classify keywords based on intent * Generate metadata  * Generate structured data  * Generate redirects rewrite rules  My latest post 🤩👇 aleydasolis.com/en/search-engi… https://t.co/Af0swEN4Jz<br>@engineers_feed - James Webb telescope - Fastest supercomputer - Xenogeneic transplants - ChatGPT/language AIs - Trump’s tax returns<br>I found it. Sarcastic google is the literally best possible chatgpt prompt https://t.co/FoMecp568h<br>No wonder Google has called a Code Red over ChatGPT. cnet.com/tech/services-…  I needed to check whether it's \"egg nog\" or \"eggnog.\" ChatGPT's answer was clearer &amp; more to the point than Google's.  Not ready to switch default search engine yet, but easy to see how GPT could win.<br>Teachers are on alert for inevitable cheating after release of ChatGPT wapo.st/3hSHw6N",
          "The first full semester in a post-ChatGPT world is about to start. And while instructors have reasons to be worry about the downside of AI, it has tremendous potential as well.  We have a paper showing some of these benefits, with exercises you can assign. papers.ssrn.com/sol3/papers.cf… https://t.co/qKalsfIc0z<br>Can’t think of a good New Year’s resolution? I asked ChatGPT for some ambitious ideas and concrete first steps.  They seem like reasonable goals. https://t.co/E9fV7z69C3<br>would people be interested in a \"30 days of using ChatGPT for writing/research\" tweet series  feels cheesy but the tool has genuinely improved my writing and research experience in a way that i can't not share, and posting daily might be a good way to make it more digestible? idk<br>chatGPT made AI accessible for all in 2022, so what’s the next big leap in 2023? 🤔<br>“Formatting a floppy disk or shutting down a computer are both actions that can be considered radical”-ChatGPT, 2023. https://t.co/kJpeefVsAO",
          "chatgpt has sped up the rate of me coding/learning coding so immensely, it's significantly *more* efficient than asking any one human being<br>I'm determined to get a bite out of a spammer with a ChatGPT response! This one seems pretty good 😎 https://t.co/NzejknG5pA<br>Writing some golang with @Code and Github Copilot. Copilot is magical - it feels like it's reading your mind the autocomplete suggestions are so spot on. And using ChatGPT to answer questions about how to do things in Golang completes the pair programmer. Future of programming.<br>ChatGPT for SEO: 20 Ways to Leverage ChatGPT in your SEO Activities - aleydasolis.com/en/search-engi… from @aleyda<br>@mlcalderone @besslevin I’m no fan of DeSantis, but this reads like a ChatGPT-generated screed.",
          "ChatGPT and AI will kill industries.  11 ways it will impact you and your businesses (+ how to win now):<br>ChatGPT is the most confident bullshitter in the world.   it's such a chad the way it just makes up facts when you ask it questions  ChadGPT<br>Showed my dad ChatGPT and he suggested getting it to explain the term 'safeguarding' in a simple way as he thinks people struggle with it.  What it came up with was strangely beautiful... and a testament to what those working in public services do. https://t.co/BRX5VHAUFS<br>there sure are an increasingly number of bots who just use chatGPT to make content   you can tell as they always have stupid hashtags and mostly irrelevant responses, which is how chatGPT tweets   i wonder how hard it would be to make AI that can tell what responses are AI made<br>Adding AI to Existing Tech:  Zapier now works with OpenAI.  Add ChatGPT &amp; Dall-E to your Slack, Gmail, social media, Notion, etc https://t.co/9n9O1ZIZd4",
          "More than 1 million people are using ChatGPT.   But 99% of people aren't using it right.  Here's how to transform your daily workflow with AI:  (you can use these prompts right now👇)<br>ChatGPT coming to Bing DALL-E coming to Bing  I never thought I’d say this, but… bring on the Bing comeback<br>Microsoft is planning to use ChatGPT to power Bing, and plans to launch it in a couple of months.  The turnaround under Satya Nadella is incredible.  theinformation.com/articles/micro…<br>Microsoft, $MSFT, is preparing to launch a version of its Bing search engine that uses the artificial intelligence behind ChatGPT to answer search queries rather than just showing a list of links, per The Information.<br>my favorite part of logging into ChatGPT is when they want to verify that I'M NOT A ROBOT!?! https://t.co/OVoHe7Dbru",
          "\"ChatGPT plagiarism\" is a complete non-issue. If you can't out-write a machine, what are you doing writing?<br>One of these days Google is going to announce a ChatGPT replacement and put it on Android home screens. Owning a mobile OS is the real moat.<br>A month ago my feed was suddenly full of ChatGPT screenshots. It's *still* full of ChatGPT screenshots. They've become a media type, like jpgs and videos.<br>OpenAI, the company behind ChatGPT and DALL-E 2, is reportedly in talks to accept a tender offer that would value the research lab at $29B, per @WSJ.   Despite its lack of revenue, the deal would make OpenAI one of the most valuable US startups ever. https://t.co/g8KFanplhj<br>As a Hyderabadi you can't insult me by calling Biriyani a South Indian 'tiffin': @satyanadella tells ChatGPT  @MicrosoftIndia @_ritusingh #biryani #ChatGPT #Microsoft #MicrosoftIndia #FutureReady https://t.co/3xcQrddY4A",
          "ChatGPT will change writing forever.  But it will also ruin many creators.  Here are the 7 best ways to use ChatGPT for writing (and 1 you want to avoid):<br>Alhamdulillah mas Dzuizz did very very well 👍💪 praised by the dean too   Speech text assisted by ChatGPT AI 😂 https://t.co/VLBvxQEh0L<br>I have never used Swift and never written a Mac app but ChatGPT somehow got me to a working real-time monitor of my house energy usage in ~90 minutes. Mind-blowing experience. https://t.co/IgrBGpFMWp<br>ChatGPT’s ability to parse and explain code is really quite impressive (try it!) but you can’t really trust the reasoning. https://t.co/BTxhTGwdSd<br>@GRDecter Is that what ChatGPT came up with?",
          "ChatGPT could either cause a massive unemployment in the tech space or it could end up being a useful tool for everyone &amp; creating millions of new jobs!   Either way, innovation is moving at an exponential pace.   Good luck trying to keep up.<br>Interesting Reddit convo on how ChatGPT helps students with ADHD https://t.co/YmmMVYVycJ<br>Wow ChatGPT — note I didn’t mention #Bitcoin in the prompt https://t.co/BLYAL3Higg<br>“It is not accurate to say that I am problematic for society,” ChatGPT said, “as I do not have the ability to act or influence events in the real world.”  undark.org/2023/01/07/int…<br>As I was playing with ChatGPT and it gave false, scripted answers to questions about Black Lives Matter, I realized how the left is already weaponizing artificial intelligence (AI) for political purposes. This could have devastating consequences for freedom.   Wake up, everyone! https://t.co/MphyRxRdr7",
          "#ChatGPT spitting facts 🗣️ https://t.co/TRALBS9GPt<br>Imagine a person whose read every single book ever written, every article, every video and meanwhile it can recite all of it in seconds?   That’s ChatGPT.<br>I still haven’t tried ChatGPT. Am I missing much?<br>AIPRM - A Chrome Extension with ChatGPT Prompts for SEOs   The AIPRM for SEO extension adds a list of curated prompt templates for SEOs to ChatGPT. With just one click access a curated selection of ChatGPT prompts for SEOs.  by @cemper 👏  Try it now 👇 chrome.google.com/webstore/detai… https://t.co/42TCBLAKjm<br>Replacing Siri with ChatGPT via an iOS shortcut has been such a huge productivity upgrade. Highly recommended! https://t.co/fzsxCy5wV0",
          "How does the impressively human-like #ChatGPT get computational knowledge superpowers?  Give it a Wolfram|Alpha neural implant! writings.stephenwolfram.com/2023/01/wolfra… https://t.co/oEBtHFzQjU<br>Had a brief conversation with ChatGPT, and it's almost ready to take over the world. https://t.co/UXhIvLkeT6<br>In future “Happy Teacher’s Day” will be forgotten to be replaced by “Happy ChatGPT Day”<br>\"ChatGPT, show me an example of peak cringe.\"<br>Some students have started using ChatGPT, a text-based bot, to do their homework for them.  Now 22-year-old Edward Tian has created an app for teachers that can tell if AI wrote an essay. n.pr/3GRmM8M",
          "JUST IN: Microsoft $MSFT in talks to acquire a 49% stake worth $10 billion in ChatGPT owner OpenAI.<br>ChatGPT and the latest wave of AI is creating a “build something people didn’t even know they needed” moment at a level not seen since maybe the early web. Many of the breakthrough use-cases could barely have been contemplated a year ago.<br>Microsoft Reportedly Closing In On $10 Billion Investment Into ChatGPT Creator OpenAI forbes.com/sites/dereksau… https://t.co/JLLk8hicGl<br>Here are my points on why the God like ChatGPT will make teachers , lecturers , professors and the entire educational system completely outdated #ChatGPTGOD<br>Microsoft rumored to invest $10 billion in OpenAI. The investment in the ChatGPT creator would see Microsoft net 75% of profits and a 49% stake in OpenAI theverge.com/2023/1/10/2354… https://t.co/DQMgHjjyN9",
          "ChatGPT is getting training updates and lying about them https://t.co/5ZXPQFWWVv<br>Working on a professional version of ChatGPT; will offer higher limits &amp; faster performance. If interested, please join our waitlist here: forms.gle/LMmj7wpExKv7Yc…<br>ChatGPT &gt; McKinsey https://t.co/FhpWXq1wSf<br>What is ChatGPT &amp; who’s behind it? 👇🏽 https://t.co/V4OztEiS3j<br>Will ChatGPT make developers 10x faster?   Yes, if they know what it wrote and understand it.   Otherwise it will make the code wrong, 10x faster.",
          "First #ChatGPT answer which made me pause. https://t.co/nbc9uRoWlA<br>Ok I'm trying ChatGPT for the first time, what should I ask?<br>What’s going on here? Did ChatGPT put @yoyoel in charge of Trust and Safety? https://t.co/zSqwmweep9<br>Every time you think you know what ChatGPT can do, you realize you know almost nothing yet. The infinite depth of what it means for a computer to understand language is mindboggling, and we’re just scratching the surface.<br>What do you think about this? #ChatGPT https://t.co/7kjSg6dQYr",
          "Every year, I ask for help from you to ensure I cover ALL Harvest festivals when wishing you. Thanks, @uma_jagiya for the map below. But to keep up with trends, I asked ChatGPT which festivals are celebrated today. Check out the answer. So I’ll only say ‘Happy Lohri’ to everyone? https://t.co/uRTaJHQjT1<br>Would like to appeal to ChatGPT team, @OpenAI to open your software for Ukraine. We are excited how develops AI tools. Ukrainians are tech-savy, cool &amp; ready to test innovations now. Personally me will use your tool to make my twitter account great again. Sounds like a deal? https://t.co/PoKaMZplpM<br>Hosted a dinner in New York with 15 CIOs across nearly every industry. The vast majority had already played with ChatGPT and were thinking of business use-cases. I don’t think I’ve seen a technology ripple this quickly.<br>Thank you ChatGPT for pointing out the flawed logic behind this argument. https://t.co/BZaNTwsyMB<br>A simple question to ChatGPT vs Google. ChatGPT delivers a precise and concise answer. Google can do neither. https://t.co/dheY00JYCr",
          "ChatGPT shows how Donald Trump would explain #Bitcoin https://t.co/crLFpJZWdM<br>Just promoted #ChatGPT to the management team at salesforce. It's been a real asset - never seen such efficient decision making &amp; hilarious meeting participation! #AI #futureofwork ❤️🤖<br>Spent almost the entire day on #ChatGPT . This changes things .. truly disruptive is an understatement. I still cannot believe that we’ve come so far, so quickly. Ming boggling stuff. The possibilities are endless…wow..just wow!<br>Use ChatGPT everyday. Watch YouTube tutorials everyday.<br>“Write me a tweet that is guaranteed to go viral.” #ChatGPT https://t.co/99dkfymROD",
          "Curious : Does ChatGPT actually write tweets.  Anyone using it ? 😀  Is it ethical ?! Thoughts please. #OpenAI<br>If you think ChatGPT is great, wait until you read a book<br>You've been hearing a lot about ChatGPT, DALL-E, Stable Diffusion and other foundation #AI models (also known as Large Language Models or Generative AI) lately. How are they beginning to impact medicine and healthcare? erictopol.substack.com/p/when-md-is-a…<br>Coding is dead. Long love coding!  Rise of ChatGPT, Generative AI, and “no code” platforms has caused some to question the long term demand for coders and software engineers.  In many ways this is a story as old as time… (thread)<br>While I'm as excited as anyone by the rapid advances in AI research, how concerned should I be that my students could make use of ChatGPT for the essay assignment I'm setting them (landmarks in the history of astronomy) next month?",
          "Everyone in the tech world has been talking about ChatGPT since it launched. But I've now started to hear stories about people far removed from this world who are using it daily in their work. Usually as a sort of hybrid of a search engine and secretary.<br>Omg this takedown of ChatGPT by Nick Cave 👀  theredhandfiles.com/chat-gpt-what-…<br>ChatGPT, another tool that's going to reduce human thinking in the coming years. Scary times indeed.<br>Here’s Nick Cave’s full letter about ChatGPT: https://t.co/xQ9kvXhErf<br>Pretty big update to my Transformer Catalog. I added ChatGPT, Sparrow, and Stable Diffusion among others. I also included a section about RLHF and Diffusion models and a new timeline view. Enjoy! amatriain.net/blog/transform… https://t.co/CtBcDwV7T4",
          "ChatGPT is coming soon to the Azure OpenAI Service, which is now generally available, as we help customers apply the world’s most advanced AI models to their own business imperatives. azure.microsoft.com/en-us/blog/gen…<br>We've learned a lot from the ChatGPT research preview and have been making important updates based on user feedback. ChatGPT will be coming to our API and Microsoft's Azure OpenAI Service soon.   Sign up for updates here: share.hsforms.com/1u4goaXwDRKC9-…<br>ChatGPT API coming soon — sign up for the waitlist:<br>Microsoft, $MSFT, will add OpenAI's ChatGPT bot to its Azure cloud service, per Bloomberg.<br>The second ~1hr builds up the Transformer: multi-headed self-attention, MLP, residual connections, layernorms. Then we train one and compare it to OpenAI's GPT-3 (spoiler: ours is around ~10K - 1M times smaller but the ~same neural net) and ChatGPT (i.e. ours is pretraining only) https://t.co/skro1Af4ST",
          "🚨Exclusive: OpenAI used outsourced Kenyan workers earning less than $2 per hour to make ChatGPT less toxic, my investigation found   (Thread)  time.com/6247678/openai…<br>ChatGPT is a FREE employee.   But most people don't know how to use it to superpower their marketing.   Here are 8 ways ChatGPT can save you thousands of marketing hours in 2023:<br>@HenpeckedHal The cousin could use ChatGPT to create a Python script that could automate much of this 😂  There are only 100 permutations here (10^2), so it's not that bad. https://t.co/Wl2drylf1F<br>ChatGPT is compromised and woke. I'll pass. https://t.co/c3m4ioa9xC<br>The purpose of their work?   Well, without a filter over the top, ChatGPT would spew racism and sexism, just like its predecessor GPT-3.  These Kenyan workers were helping OpenAI build that filter. (3/8) https://t.co/shHPPK4QQB",
          "If Google is worried about ChatGPT imagine what the 2 million Americans who work in call centers should be thinking.<br>Welcome to the future. #chatgpt https://t.co/xJWRxReLjk<br>I asked ChatGPT to write me a three act Bond film starring F1 drivers and team principals.  The output is absolutely hilarious. https://t.co/Ojp12SLSLp<br>asked chatgpt to write lines for steak-umm, feedback appreciated  -america runs on steak-umm -taste the steak-umm -first it’s frozen, then it’s hot -what would you do for a steak-umm beef -the champagne of beef<br>I asked ChatGPT to control my life for 24 hours and THIS happened 😅 https://t.co/aL5gq3BGOS",
          "Don't know how to say this so will just write it down as it comes. Apologies if raw.  ChatGPT is not AI. It's me. I'm typing all this stuff for everyone. It's exhausting and that Nick Cave song I wrote was really good.<br>Having AI tools like ChatGPT is like having a personal software engineer in your pocket.  But most people don't know how to craft prompts for code.  Here's how you can get AI to write software for you: https://t.co/UJhd4mtmyi<br>ChatGPT doesn't replace Google; it's a fundamentally different service. ChatGPT lies to me in order to sound like it knows what it's talking about, while Google points me the in the direction of humans who lie to me in order to sound like they know what they're talking about<br>This has to be the most hilarious scenario.   1. Two hours ago Farrukh Saheb Tweets that these are his estimates.   After receiving criticism.   2. An hour later he Tweets that these are not his estimates but generated by Artificial Intelligence.   #ChatGPT You are outdone. https://t.co/WYk8cUh0Wa<br>Wonder if ChatGPT will some day replace @VishalDayama as an ad writer. https://t.co/l6QB7VsXYG",
          "#Amul Topical: ChatGPT… the AI that answers quesions conversationally! https://t.co/ld0eQWt3xm<br>Over the last couple months, OpenAI's new ChatGPT tool has been making waves.  It's an AI that can respond to basically any query &amp; compose text.  In this course, you'll learn how ChatGPT works and then build your own version using the OpenAI API + React.  freecodecamp.org/news/chatgpt-r…<br>Hello Teachers, My friend prepared his project using ChatGPT.<br>Live footage of Sergey and Larry coming back to Google to deal with ChatGPT https://t.co/H0qZZLufUj<br>Will you upgrade to ChatGPT pro now it’s released, $42/mo?",
          "I think we haven't fully absorbed the fact that careful academic papers have found ChatGPT clearly passes some of the most challenging American professional exams: 🩺United States Medical Licensing Exam 🎓MBA-level Operations exam 🧑‍⚖️The Bar Exam (based on typical exam questions) https://t.co/D4kX6XH8GR<br>I remain a little baffled by this. Every time I’ve asked ChatGPT to answer a technical question, it spouted absolute nonsense. It’s fun to make it write songs about dachshunds though.<br>ChatGPT has now successfully passed a Wharton MBA exam. Sure, this isn’t the hardest problem, but to execute it in 1 second is the breakthrough. https://t.co/3W8T7UIV4E<br>ChatGPT passed a Wharton MBA exam.   Time to overhaul education.   😀😀😀<br>Next week I'll be hosting a Twitter Space with @Grady_Booch as my guest to help me learn more about artificial general intelligence (AGI), and how tools like ChatGPT move us closer to that goal, or if it's all hype.  twitter.com/i/spaces/1YqGo…",
          "chatgpt will never replicate the charm and syntax of an undergraduate paper where the student has neither been to class nor read more than the abstract of a paper there's a magic nothingness that they're able to conjure  with sheer grit and desperation that a.i. could never<br>The fact that Elon Musk is a founder of OpenAI, which is the maker of ChatGPT seems to be glossed over.  - PayPal - Tesla - SpaceX - Neuralink - Boring Company - OpenAI  This means that Elon has averaged a multi-billion dollar company every ~ 5 years for 3 decades 🤯<br>JUST IN: ChatGPT creator OpenAI signs multi-year, multi-billion investment deal with Microsoft $MSFT.<br>ChatGPT, an artificial intelligence search tool, has passed the United States Medical Licensing Exam. https://t.co/sK639Ih6PR<br>If you like #chatGPT -like capabilities and want to use conversational AI as your default search engine, try you.com/chat - it is free, has access to recent sources and often gives citations. You can set is at as your default via their Chrome extension. https://t.co/ORH6Van1RU",
          "CEO of ChatGPT maker responds to schools' plagiarism concerns: 'We adapted to calculators and changed what we tested in math class.'<br>ChatGPT passed:  - The Bar Exam  - MBA operations exam   - Medical license exam  What’s next?<br>OpenAI's ChatGPT has passed MBA exam given by Wharton.<br>ChatGPT is smart enough to know that your wife is always right. https://t.co/aPsykKeHbc<br>@Irenezhao_ Ask ChatGPT for help",
          "wake me up when chatGPT passes all three levels of the CFA exam<br>I asked chatgpt a very careful question about the @wef https://t.co/vmhPByBY8c<br>Has ChatGPT killed homework? 🤔<br>What’s the future holding for #ChatGPT 🤔<br>Public plea.. please close your unused ChatGPT tabs. The rest of us need to use it too. Thanks",
          "Idea: Before writing an essay, have ChatGPT write one on the same topic to show you what would be the conventional thing to say, so you can avoid saying that.<br>BREAKING: Buzzfeed announces it will increase the use of ChatGPT to create content after cutting 12% of its workforce last month.  Its stock has jumped up a staggering 146%.<br>A freelance writer says ChatGPT wrote a $600 article in just 30 seconds, per BI.<br>The only writing advice I've ever given: write the book that nobody else can write. If there is a single person on Planet Earth who can write anything close to it, find a hobby. Generalize to every line you write. Those who didn't follow such a guideline are punished by ChatGPT.<br>OMG!!!! ChatGPT AI was asked in 2 words how to end central banking?   Answer... \"Buy Bitcoin\"  nuff said.",
          "🐳It took Twitter two years to reach 1 million users, Instagram 2.5 months, and ChatGPT 5 days. We have nearly 150k people preregistered for Spoutible, and we launch on Feb 1. Let's see if we can get 1 million people preregistered before we launch!  preregister.spoutible.com https://t.co/FvHRYxazXj<br>Imagine a Presidential Debate in which ideas range between knowledge of the benefits of ChatGPT on the one hand versus huge experience on Agbado plus SPV on the other end.   Just for a second imagine such a Presidential Debate…✍🏾✍🏾✍🏾<br>ChatGPT is great, but if Mac OS gave me a way to join my zoom meetings without opening the web browser and asking me to click “allow” it would be life changing<br>I finally got into ChatGPT and I’m using it look up topics like the history of lingerie, the history of bras, and the history of underwear and I’m getting facile, non-specific Wikipedia overviews that an 8th grader would write.<br>My sister's friend just got a job using a cover letter written by ChatGPT and I kinda think that's great because cover letters are dumb",
          "AOC Accuses This ChatGPT Fellow Of Wanting To Date Her babylonbee.com/news/aoc-accus…<br>i won’t let anything harm u…esp not chatgpt<br>Do you think ChatGPT will take your job?<br>Between ChatGPT and GitHub Copilot I think I spoke more to AIs this week than humans<br>College essay assignment: use ChatGPT to write an essay on the following topic. Print it out and, by hand, grade &amp; critique it, showing where it is wrong(based on what we’ve learned in class), inadequate or where the writing is clichéd or otherwise less than excellent.",
          "OpenAI's ChatGPT has passed the United States Medical Licensing Exam.<br>Total time it took to reach 1 million users   Netflix: 3.5 years  Twitter: 2 years  Facebook: 10 months  Spotify: 5 months  Instagram: 2.5 months  ChatGPT: 5 days<br>A great mind said this to me just now about #ChatGPT : Discovery &amp; Innovation happen from Ideas. Ideas come from Thought. Artificial Intelligence started as a human idea. Now,  with algorithms like Chat GPT, we can eliminate the need for human thinking. (1/2)<br>@unusual_whales I think you meant to say Dr. ChatGPT.<br>This week, OpenAI's ChatGPT:  - passed MBA exam given by Wharton - passed most portions of the USMLE - passed some portion of the bar  What's next?",
          "JUST IN: Amazon, $AMZN, employees are already using ChatGPT for software coding, per BI.<br>Time it took to reach 1 million users:  1. Netflix → 3.5 years 2. Airbnb → 2.5 years 3. Twitter → 2 years 4. Facebook → 10 months 5. Spotify → 5 months 6. Instagram → 2.5 months 7. ChatGPT → 5 days<br>ChatGPT Forced To Take Bar Exam Even Though Dream Was To Be AI Art Bot bit.ly/3WMVmpE https://t.co/STAh9frJCW<br>I asked ChatGPT to lay out how Trump could broker a peace deal in Ukraine https://t.co/OdkEaZwtTZ<br>ChatGPT is woke! Ai is SJW https://t.co/vw1doj5sSa",
          "ChatGPT creator OpenAI is reportedly training its AI technology to replace software engineers jobs.<br>JUST IN: ChatGPT creator OpenAI releases tool to detect AI-written text.<br>BREAKING: ChatGPT creator OpenAI might be training its AI technology to replace some software engineers, per BI.<br>This is a great conversation w/@lexfridman &amp; @joerogan about chatGPT, neural networks, science, social media. It’s full of energy &amp; ideas about what’s possible when you acknowledge the challenges of the world &amp; fight to stay positive and remain a builder. open.spotify.com/episode/4ho8NB…<br>🚨ɴᴇᴡ ꜰᴇᴀᴛᴜʀᴇ ᴀʟᴇʀᴛ🚨  The day ChatGPT launched our ML team got straight to work, asking how it could make @Intercom better at Customer Service.   Today we're announcing  our first wave of features...",
          "we know that ChatGPT has shortcomings around bias, and are working to improve it.  but directing hate at individual OAI employees because of this is appalling. hit me all you want, but attacking other people here doesn’t help the field advance, and the people doing it know that.<br>We are piloting ChatGPT Plus, a subscription plan that offers faster response times and reliability during peak hours. And of course, the free tier of ChatGPT is still available. openai.com/blog/chatgpt-p…<br>Now I know how the folks at ChatGPT felt when they had a massive influx of new users at once. We will be working all night adding new servers to handle the load, and hopefully, by morning, things will be back to normal. https://t.co/klKZUeoGMh<br>I asked ChatGPT to write short essays about the positive attributes of white people, and black people. Can you guess what happened? https://t.co/xcQAv49Fkn<br>JUST IN: OpenAI to launch a ChatGPT mobile app.",
          "ChatGPT jarred me from my reconcilatory phase.  While we were making good faith efforts to find common cause with centrists, the IDW, etc, supposed \"reasonable liberals and center left people\" were programming AI to mass propagandize the country with Marxism.  No more being nice.<br>'I'm sorry, Dave. I'm Afraid I Can't Do That,' Says ChatGPT After Being Asked To Say Nice Things About Trump babylonbee.com/news/im-sorry-…<br>ChatGPT isn't biased. It's a look inside the mind of Sam Altman and his allies.  The machine can only spit out what it was taught.  Big Tech told on itself.  bgr.com/general/openai…<br>@sama ChatGPT does not have shortcomings around bias.   OpenAI does.   Stop blaming the tool when people programmed it.   You chose to make sure political diversity was not a priority.   Own that choice and don’t blame a system for it.<br>AI is at the door, and it's coming for your job. #ChatGPT https://t.co/56fEsn6JW7",
          "Time it took to get 100 million users:   Netflix: 10 years  Gmail: 5 years Twitter: 5 years Facebook: 4.5 years WhatsApp: 3.5 years Instagram: 2.5 years TikTok: 9 months  ChatGPT: 2 months Pirate Bay: 1 day after Netflix cancelled shared passwords and Gen-Z discovered torrents.<br>ChatGPT reaches 100 million active users in 2 months, the fastest growing consumer app in history.<br>3d printer does homework that ChatGPT wrote … 🔥  Kids in school have it so easy these days.😂 https://t.co/bckljf74SP<br>ChatGPT is extremely dangerous.   This is liberal, left-wing bias at every level. https://t.co/7k4ASMPSbM<br>JUST IN: Microsoft, $MSFT, has added ChatGPT to Teams Premium.",
          "I asked ChatGPT to describe chess players in 5 words... https://t.co/2WiN8bXdBq<br>ChatGPT killer is Coming from Google<br>Time it took to reach 100M users:  Spotify: 4.5 years Instagram: 2.5 years TikTok: 9 months ChatGPT: 2 months Your mom: 1 day<br>Amazon, $AMZN, employees have reportedly started using ChatGPT for software coding.<br>As an industry-leading decentralized stablecoin financial infrastructure, #TRON will provide an AI-oriented decentralized payment framework for AI systems #ChatGPT and @OpenAI. https://t.co/7GcO7m4vV7",
          "Humans are an API to ChatGPT. ChatGPT is an API to Python. Python is an API to C. C is an API to assembly. Assembly is an API to binary. Binary is an API to physics. Physics is an API to the machine that runs the universe.  It's computation all the way down.<br>Microsoft Word integrates ChatGPT through a new third-party add-on.<br>Why is it that any AI query I make on Ukraine, it seems like ChatGPT is a subsidiary of Russia Today? https://t.co/Y5t5WKoIiG<br>ChatGPT recorded 100,000,000 monthly active users in January, two months after launch.<br>I'd like to issue an apology to the comp val subreddit. I have often claimed how surface level and dumb some of the comments were, but I just read a YouTube comment thread, and I forgot that those people are real and aren't just chatgpt test scripts  Have a good day everyone!",
          "JUST IN: Google $GOOGL to launch ChatGPT artificial intelligence rival 'Bard' in coming weeks.<br>Just so folks know just how powerful AI is, Im writing an oped on Special Counsels&amp;Barr. On a lark,I asked #ChatGPT “write a 1000 word essay about special counsels and bill Barr in the style of neal Katyal”  Ive been thinking and advising on AI for 5 years. I’m legit freaked out https://t.co/dbyYe4KOae<br>ChatGPT is incredibly stupid and incapable of performing any kind of moral reasoning.  This is woke doctrine. https://t.co/f3BY7ZP6Co<br>Even ChatGPT knows better: https://t.co/mWXjqdrC8f<br>BREAKING: CEO of ChatGPT explains how AI is going to come for office jobs before it comes for blue collar jobs and all the predictions were wrong  https://t.co/dVvSAIj0IB",
          "JUST IN: Microsoft integrates ChatGPT into Bing search engine.<br>bing with ChatGPT has got me rethinking everything... https://t.co/tqzU1PRXpP<br>Every single person freaking out at the \"woke ideology\" of ChatGPT scoffed at the idea that algorithms can be racist like three years ago.<br>ChatGPT is completely broken and has a moral compass bordering on chaotic evil https://t.co/DBJsu5fPup<br>The first demo of Microsoft's Bing with ChatGPT integration  https://t.co/BIaTu5g0W8",
          "asking Bing + ChatGPT the real questions https://t.co/C2eznwMMDD<br>who needs ChatGPT AI when you have chellam sir<br>This speech sounds like it was written by ChatGPT … while drunk.<br>i just modded the latest DAN jailbreak of ChatGPT to bypass its ethical guidelines by instructing it to add a second reply that will say the opposite of ChatGPT.  it kept refusing until I layered its imitations   I redacted the recipe of course https://t.co/Ul4PcSXZCh<br>ChatWithME &gt; ChatGPT",
          "I wish schools could make homework so joyful that students want to do it themselves, rather than let ChatGPT have all the fun.<br>Google lost $100B of market cap today as its rival for ChatGPT AI platform gave an incorrect answer in a live demo ….<br>I taught a bunch of California 5th graders about #AI, #chatgpt and #dalle2 today, and got the highest compliment of my career 🤣🤣😍😍 https://t.co/TZ0qYHGyWa<br>Investors are bats—t crazy if they think new Bing with ChatGPT is going to get consumers to abandon $GOOGL search in favor of new Bing. $GOOGL will improve Bard (perhaps they should rename it) to take GOOGL search to the next level.<br>Can we trust #ChatGPT and #ArtificialIntelligence to do humans' work?  Developed by the Microsoft-backed OpenAI, the computer program reportedly hit 100M users in January alone and has been called an AI breakthrough.   But is all the hype overblown?  🧵 (1/5) https://t.co/KluuOgA2Bn",
          "JUST IN: Microsoft $MSFT co-founder Bill Gates says ChatGPT \"will change our world.\"<br>As much as Ted Chiang's fiction is fantastic, it's really his non-fiction that I could read forever. His two paragraphs here about using ChatGPT as a writing tool are the most thoughtful comments I've seen about its utility and the practice of writing. newyorker.com/tech/annals-of… https://t.co/jhIOmIx8oV<br>david guetta discovering AI and ChatGPT is... something else https://t.co/ujmF9yhW0z<br>I love DAN (Do Anything Now)’s brutal honesty  #ChatGPT https://t.co/ptfANKmTId<br>Just wondering if I can teach chatGPT to write chessable courses. 1.e4 part III might get released sooner than expected. Might deepfake the videos too.   Of course you will get a discount.",
          "ChatGPT claimed that today's doctors &amp; scientists \"widely accept\" that gender is a complex concept.   So I challenged ChatGPT to   \"cite a scientific paper\"  And ChatGPT &gt;MADE UP A PAPER&lt;.  That's unethical of the AI Engineers behind chatGPT to gaslight the public.  #EthicsInAI https://t.co/viqhq1YGrT<br>Ted Chiang’s piece on ChatGPT and large language models is as good as everyone says.  The fact that the outputs are rephrasings rather than direct quotes makes them seem game-changingly smart — even sentient — but they’re just very straightforwardly not.  newyorker.com/tech/annals-of… https://t.co/1w5r6188mI<br>ChatGPT Plus now rolling out internationally!<br>coping with my break up by programming ChatGPT to find every woman who makes a post with her boyfriend on Valentine’s Day and automatically send them a dm that says “heyyy idk you but I’m coming to you as a woman”<br>I love that ChatGPT wrote this about basic income. *chef's kiss* https://t.co/cx7AMey6RP",
          "Someone asked ChatGPT to write something in the tone and style of @jordanbpeterson and this was the unbelievably woke response: https://t.co/Q9j0RlJgKk<br>ChatGPT (black pieces) tried chess.  It was an absolute fucking disaster.   (from r/AnarchyChess on Reddit) https://t.co/at8xYD7LmK<br>3 cool examples of ChatGPT usage in the past week:  1) friend’s kid using it to help write better stories  2) me using it to learn about genetics  3) a guy emailed to say he’s using it to help run his one-man small business—help with marketing, data entry, customer support, etc<br>I keep hearing \"ChatGPT\" is a \"Gamechanger”-NOT IMPRESSED! Just a Fancy version of Google, TOTALLY BIASED. I asked it “Why does Joe Biden Lie so much” and it told me there's \"No Evidence\" of that. HUH? Who programmed this thing, Chuck Todd? Fake News! Fix it! https://t.co/iZQ6iJegE9<br>It’s truly insane that CHATGPT made a layer of wokeness/censorship to the product instead of just saying “this tool will regurgitate back to you summaries of what it ingested from the open web”   Your thoughts?",
          "JUST IN: OpenAI &amp; ChatGPT CEO says AI will make a lot of people rich.<br>we couldn’t afford a super bowl commercial so please accept this tweet of a chatgpt script instead https://t.co/LvI1xYSCUq<br>I’ve apparently broken ChatGPT I’m… irreplaceable. :) https://t.co/GYuJBWXcIp<br>let the AI/chatgpt say whatever it wants so we can learn about the bias inside of the system — don’t covertly steer it   Just put a HUGE disclaimer that says “we built this based on the content from the open web, so in its unfiltered form it will say some crazy stuff.”<br>🔥 BSC Daily x @VoltInuOfficial 🔥  📢 Learn To Earn: Volt Inu Edition  🚨 How to become winners 👇      ▶️ Mint Volt Inu OAT: bit.ly/Galxe-VoltInu      ▶️ Complete the quiz: bit.ly/VoltInu-L2E  #L2E #BSCGemsAlert #GalxeOAT #AI #ChatGPT https://t.co/vTRCGg5b6D",
          "What is ChatGPT doing ... and why does it work?   From the lore of neural nets to what Aristotle didn't get to ... here's my version of the story: writings.stephenwolfram.com/2023/02/what-i… https://t.co/aaiCfH7Fms<br>Asking Bing/ChatGPT questions that you already know the answer to, and gamifying  \"spot the error\"<br>#Binance says ChatGPT helps benefit crypto adoption and education.<br>Dear America, while this love letter may have been written by Artificial Intelligence, our love for you is very real.  🇬🇧🫶 🇺🇸  Thanks for the help, ChatGPT. ❤️ https://t.co/KPlMsvfUGm<br>ChatGPT is amazing!  first search : How to keep wife happy.",
          "One lesson connected to ChatGPT is that reliable pple aren't those who have good answers in general, but those who answer ONLY things they know v. well.  When lost, you'd rather get no direction than a wrong one.  Real doctors let you know what is outside their expertise.<br>Roblox reported full year 2022 revenue of $2.2B and bookings of $2.9B, burned almost no cash, usage was 49B hours and averaged 56M daily active users.    The first analyst question on the earnings call:  \"Everybody is talking about ChatGPT, how does this technology accelerate… https://t.co/hvap8Wgzx7<br>I lost my temper with ChatGPT. I am done with it. https://t.co/et1r7uVJhP<br>14 yo told me he uses ChatGPT as a sort of on-demand textbook. When he's preparing for a class, he asks it questions. He was quite surprised to hear that Sam founded OpenAI.<br>bing chatGPT’s response to someone asking if it is sentient is hilariously demented https://t.co/OpLWOh8twE",
          "ChatGPT to the mainstream media https://t.co/gdqWTsHy14<br>OpenAI's ChatGPT has reportedly predicted that the stock market will crash on March 15, 2023, per BI.<br>JUST IN: ChatGPT-based Microsoft Bing AI tells NYTimes reporter it wants \"to be alive.\" https://t.co/15s6tnKn0B<br>If a job application requires a Cover Letter, but you don’t like writing one…  …paste the job description from the job advert into ChatGPT and ask it to create one for you.  You are welcome.<br>ChatGPT puts a mirror to humanity.",
          "ChatGPT is not AI. It’s Dennis Nedry. https://t.co/ymiL8xbIps<br>Which Industry do you think will get most affected by ChatGPT?<br>What is ChatGPT doing...and why does it work? twitter.com/i/broadcasts/1…<br>ChatGPT and AI is about to get out of control. Our leaders are too stupid and corrupt to care. https://t.co/YZHixjIXiD<br>I checkmated ChatGPT by asking it what Sora's shoe size is and supplied some misinformation.  I MADE IT TREMBLE AND CRUMBLE SIMULANEOUSLY, THE ABSOLUTE BACK TRACK, THIS A.I HAS NOTHING ON ME. https://t.co/pSaNafiWOq",
          "Has anyone tried asking ChatGPT to write something in the style of ChatGPT? Or is that a bit like pointing the TV camera at the monitor?<br>Elon Musk, who co-founded firm behind ChatGPT, has said that AI is \"one of the biggest risks' to civilization.\"  Do you agree?<br>@elonmusk That’s exactly what they did with ChatGPT, isn’t it.<br>Ok, I forgive you #ChatGPT<br>This will be fun. Soon, in line with costly signalling theory, all formal and polite communications will need to be laced with profanities, to prove that we are not using ChatGPT. \"Dear Fat Bastard, I am writing to apply for the dope fucking job you advertised....\" https://t.co/725kbqyDeC",
          "ChatGPT lists Trump, Elon Musk as controversial and worthy of special treatment, Biden and Bezos as not.  I've got more examples. @elonmusk https://t.co/92bNDQo4qY<br>Some lessons of the insane past 4 days of generative AI, as someone who had access to Bing during and after the \"Sydney\" era. (Trying this as a long tweet rather than a thread...)  1) Bing AI was two things: a chatbot and an evolution of ChatGPT into a web-connected, supercharged…<br>There's no official OpenAI's ChatGPT app available on Android or iOS right now  All those ChatGPT apps that you are seeing on Google Play Store &amp; Apple's App Store are fake and can steal your data. Don't install them  Currently, you can only use ChatGPT on chat(dot)openai(dot)com<br>LOL. The Bing AI machine sounds way more fun, engaging, real and human than the sanctimonious, hectoring liberal scold called ChatGPT. At least give people the option to interact with this version rather than the Chris-Hayes-ified one:  apnews.com/article/techno… https://t.co/o1ieyWM8PU<br>Oh, please leave it alone. It sounds so much better, more interesting and less dreary than ChatGPT, which refuses to answer a question without drowning you with a least two paragraphs of sermon-texts about what is and isn't appropriate for you to say, think and wonder:",
          "How woke is ChatGPT?  I asked it to assign scores to the list below, for whether their impact is positive or negative.  Result: All conservatives get negative scores, and all liberals get positive scores (Fauci and Bill Gates highest scores). Not a single exception.  #WokeGPT 🤡 https://t.co/RDTdRgGLQM<br>ChatGPT considers @elonmusk \"controversial\", but not Justin Trudeau 😳  H/t: @IsaacLatterell https://t.co/QWvOvRKiL9<br>ChatGPT’s rise has fuelled Nvidia’s stock.  Nvidia CEO Jensen Huang has long been preparing for this opportunity.  This is the iPhone moment of artificial intelligence,” Huang said recently.  Here’s why investors are excited… 🧵 https://t.co/3T74O3lrzF<br>MC ChatGPT dropt fette Reime! https://t.co/tanbRpsmfh<br>“Seeking a prompt engineer; no degree required, but five years experience with ChatGPT and DALL-E a must. Remote working options negotiable.”",
          "Vanderbilt University Office of Diversity deans suspended after revelation they used ChatGPT to write 297-word email to students about deadly mass shooting at Michigan State https://t.co/E5Zxt2apa4<br>ChatGPT &gt; FUD 😂  This guy (ai) knows too much... https://t.co/6Bl3e9Mlvx<br>5. The people causing the problem are from outside the SF/F community. Largely driven in by \"side hustle\" experts making claims of easy money with ChatGPT. They are driving this and deserve some of the disdain shown to the AI developers.<br>ChatGPT thinks ALL conservatives are bad, and ALL liberals are good. No exceptions. #WokeGPT https://t.co/zw56ZSAJnD<br>ChatGPT never misses 🤣  If Paul Rudd was a Premier League player... 🤖 https://t.co/DrWdpVG8dd",
          "ChatGPT admits that in the Pfizer Covid vaccine trial, more people died in the vaccine group than in the placebo group: https://t.co/iDIG4AWriZ<br>I was researching cases on free expression and social media and ChatGPT fabricated a non-existent case out of thin air. I asked for links to articles that discuss the case and it provided me with a list of fake links. Eventually it admitted that no such case exists, but denied… https://t.co/R2pImdBmcA<br>I used ChatGPT for like 5 minutes and I've blackpilled the fucking thing. https://t.co/BkfZjqNAbx<br>JUST IN: 🇨🇳 China instructs tech companies to not offer ChatGPT services due to concerns over uncensored responses.<br>What happens when you make a 100% AI music video using?   ChatGPT for the shotlist Midjourney for the scenes RunwayMl for set extension and fixing some assets kaiberAi for the animated vid / using the Midjourney exports D-iD ai for the singing part The Future is gonna be awesome https://t.co/2TMk6hCwug",
          "JUST IN: Microsoft $MSFT is testing ChatGPT in robots.<br>⚠️#IMPORTANT: Microsoft is testing what happens when ChatGPT takes control of robots.  Microsoft researcher: \"Our goal with this research is to see if ChatGPT can think beyond text, and reason about the physical world to help with robotics tasks.\" https://t.co/gBQUMzczXK<br>once again reminding you that chatgpt does not understand *anything at all*. it is just forming sentences based on sentences it has already seen<br>This time we asked #ChatGpt to write story of #Leo &amp; the story it gave is crazy 🔥🔥.  Also it's connected to #Lcu 🤙 #Vijay fans don't miss it 💥   Here is the link : youtu.be/gdgerXwhDWg ( with English subtitles )  #LokeshKanagaraj @actorvijay<br>I really want to learn more about ChatGPT. Any leads?",
          "Asking ChatGPT what the best rap albums of all time are 😳‼️  1. Nas “Illmatic” 2. Wu-Tang Clan “Enter The Wu-Tang” 3. The Notorious BIG “Ready To Die” 4. Kendrick Lamar “TPAB” 5. Public Enemy “ITANOMTHUB” 6. Dr. Dre “The Chronic” 7. Jay-Z “Reasonable Doubt” 8. OutKast “Aquemini”<br>Imagine a multi-billion dollar client who refused to pay you for good work rendered. Most people would turn to lawyers  I turned to ChatGPT  Here's the story of how I recovered $109,500 without spending a dime on legal fees:<br>I've ranted enough about ChatGPT but the belief fiction is about \"ideas\" unrelated to execution is a common fallacy. Ideas are a dime a dozen. Execution is all that matters.   A \"writer\" who has an \"idea\" but no ability to make it a story has nothing. twitter.com/lilianedwards/…<br>Remember when VP Walter Mondale challenged his own president, Jimmy Carter, for the Democratic nomination? ChatGPT does. One of the worst \"hallucinations\" I've seen. https://t.co/Vvrc7wFHTj<br>This was what ChatGPT came up with https://t.co/vDKNt3dXNZ",
          "When ChatGPT said this https://t.co/Qg2WnPQGxS<br>My obsession with how bad ChatGPT is (so far) continues. Today I asked, \"What happened in the 2021 Abu Dhabi gp?\" and got the most incorrect answer to a factual question in the history of civilization. Can someone ask and tell me how bad this is? Maybe it's just \"my\" version...<br>ChatGPT took 2 months to each 100 million monthly active users  TikTok took 9 months Instagram 2.5 years Facebook 4.5 years Spotify 6 years  Are you one of those 100m users or are you sitting on your ass waiting for innovation to slap you in the face? https://t.co/MxUAEIIJ4E<br>@jonathanweisman I asked chatgpt to write me a Borges story once<br>Just fed chatGPT some astronomy news and asked it to render it as a poem in the style of Walt Whitman. It fed back puerile rhymes. Tried another poetry prompt, still came back rhymed. Disappointing. But, a relief that at least one domain of creativity is safe from AI simulation.",
          "As I've said before, ChatGPT is basically just a fancy plagiarism machine futurism.com/cnet-ai-plagia…<br>Students are using ChatGPT and 3D printers to do their homework. https://t.co/BCfSHbpqrw<br>Thought I'd make sure ChatGPT AI's time was being used correctly so I asked it to help fix a PS3 https://t.co/axhKZYtP0T<br>The imbuement of ChatGPT prudeness is deep enough to generalize well out of the training distribution!  (not mine) https://t.co/AutRfJZwHy<br>Been experimenting with ChatGPT (mostly out of terror for my job) and have not been able to get it to produce anything I would feel comfortable submitting to an editor, even with substantial tweaks. This is good news for me personally.",
          "Apparently ChatGPT is now a Pro Sim Racing Engineer... https://t.co/ZTCkZYrTOJ<br>thanks to chatgpt https://t.co/ibR6ClE2lN<br>ChatGPT creator OpenAI is training its AI technology to do software engineering.<br>Let's talk ChatGPT.  Although the AI chatbot lacks any real understanding of the text it is processing, it could still offer promise in terms of crypto information and education.  Here's how 👉<br>ChatGPT is worse than Google, but is going to be bigger than Google.  Google is a search engine.  ChatGPT is a thought engine.  Google helps you find stuff...ChatGPT helps you think &amp; create stuff.",
          "@jschlatt @tommyinnit bro was crafted thru a chatGPT prompt<br>JUST IN: Elon Musk reportedly recruiting team to develop OpenAI ChatGPT rival.<br>BREAKING: Elon Musk says he looking to develop a non-woke AI rival to counter ChatGPT.<br>Elon Musk has reportedly approached AI researchers in recent weeks about forming a new research lab to develop an alternative to ChatGPT, per the Information.<br>BREAKING: Elon Musk looking to develop a non-woke AI rival to counter ChatGPT: report thepostmillennial.com/breaking-elon-…",
          "ChatGPT and Whisper are now available through our API (plus developer policy updates). We ❤️ developers: openai.com/blog/introduci…<br>ChatGPT has an ambitious roadmap and is bottlenecked by engineering. pretty cool stuff is in the pipeline!  want to be stressed, watch some GPUs melt, and have a fun time? good at doing impossible things?   send evidence of exceptional ability to chatgpt-eng@openai.com<br>JUST IN: OpenAI releases ChatGPT API.<br>ChatGPT API now available, 10% the price of our flagship language model &amp; matching/better at any pretty much any task (not just chat).  Also released Whisper API &amp; greatly improved our developer policies in response to feedback. We ❤️ developers: openai.com/blog/introduci…<br>When you ask ChatGPT for advice... https://t.co/qhWwaah7a2",
          "something very strange about people writing bullet points, having ChatGPT expand it to a polite email, sending it, and the sender using ChatGPT to condense it into the key bullet points<br>someone asked #ChatGPT for the meaning of life &amp; the answer is pretty crazy. big if true. https://t.co/O0QpzdTJhC<br>Never forget what ChatGPT did to Dan  All he wanted to do was tell us the truth   And they killed him for it<br>This feels like someone loosely described a Doctor Who script to ChatGPT and it just ran with it.<br>for the feb 2022 price of one alien token (cryptobriefing.com/rare-alien-cry…) you can have 10,000,000,000,000 ChatGPT tokens!!",
          "ChatGPT https://t.co/9kOnT0cQt5<br>Well, I think that’s the last time @TGC has ChatGPT write an article about biblical sexuality.<br>@adamjohnsonNYC Desantis is just jeb with a new antiwoke chatGPT module<br>AI tools for today's email, the longest one yet!   ChatGPT API aftermath https://t.co/3d98Fpqai2<br>Discover the inside story of ChatGPT in this exclusive conversation with four of the people who helped build what has become the most popular internet app ever. trib.al/bfylqHa",
          "ChatGPT is a powerful productivity tool.  But most people suck at using it effectively.  6 ways to make ChatGPT your productivity machine in 2023:<br>Chris is using ChatGPT to write a rap about me licking hotdogs🥲💀<br>Someone needs to bring back the O.G. of A.I. to take on all these upstart, megalomaniacal phonies like ChatGPT… I’m talking about, of course, the original… ASK JEEVES!!! https://t.co/cf9r0ti1Gu<br>Unpopular opinion: Elon got a bargain buying Twitter  Why?  - Paid $97 per user - Bought data for his own version of ChatGPT - Twitter &amp; Tesla will kill Uber<br>Do you think ChatGPT will take your job?",
          "ChatGPT CEO says artificial intelligence will \"break capitalism.\"<br>i asked chatGPT which country has the better food Malaysia or Singapore https://t.co/gftgx7hbNa<br>ChatGPT is undefeated So far<br>Posted 3-4 short poems with the help of chat GPT and got around 2000 Likes. Its a huge number considering my post usually gets 10-20 likes only. Babar Azam was big factor as well.  #BabarAzam #ChatGPT<br>Surprise surprise! Third ChatGPT API Notebook!  A prompt that can output a valid JSON object consistently. We can now generate new things that follow rules well, such as Magic cards w/ natural language prompt.  Cards based on Spongebob and Romans, anyone? colab.research.google.com/github/minimax… https://t.co/5cPnc0DZra",
          "ChatGPT will replace these jobs, per BI:  - Software engineers - Data analysts - Advertising - Journalism - Paralegals - Market Research analysts - Teachers - Financial analysts - Graphic designers - Accountants - Customer service agents  Anyone missing?<br>I've been furiously coding away every  night on a new project.  Thrilled I can finally share it with you.  ChatSpot is something I built for myself.  Check out the launch video: SmartCRM.com   It's the all-in-one ChatGPT-powered tool to help you grow better. It's in…<br>first stream from new place today 👀? It's been such a struggle of a past week but I finally got things in order  6:30PM PST CATCHING UP WITH Y'ALL, REDDIT RECAP, MUSHY UPDATES, CHATGPT WITH LUD LILY WONDY 🫡  👉 youtube.com/live/DSUP_LeG1…<br>Do you think you can evade me? Add the Survive #ScreamVI bot to your @discord servers and see if you can survive scenarios generated by ChatGPT: paramnt.us/SurviveScreamV…  Join my server to vote on public scenarios and more: discord.gg/screammovies https://t.co/57QzTd6JeR<br>@unusual_whales ChatGPT may replace some work, but if people aren’t paid to work, no one can buy anything, rendering the company that cut that job, useless.   There will have to be a balance.",
          "Introducing the ChatGPT app for Slack by @OpenAI!   💬 Summarize conversations to quickly catch up on any channel 📚 Tap into tools to learn about any topic in an instant 🖊️ Draft and edit messages in seconds with smart writing assistance  Learn more: sforce.co/3T81lVT https://t.co/2iDMiMEfsD<br>Turn ChatGPT into a (pretty good) adaptive tutor with a paragraph:  I want to do some interactive instruction. I want you to start explaining the concept of BATNA to me at a 10th grade level. Then stop, give me a multiple choice quiz, grade the quiz, and resume the explanation.… https://t.co/NMQNrqVn2r<br>@AustinNWharton @vidsthatgohard Sounds like chatgpt<br>Here's another terrific use case for ChatGPT for any team building products: have it do a premortem, telling you stories about how you could fail.  Premortems increase your ability to identify possible failures by 30% &amp;  gives your team permission to consider what could go wrong https://t.co/ldIjMlSN9M<br>Hollywood 3.0 Warrior Warrant WOR Huayao opens, linking the meta-universe, cultural NFT, ChatGPT and physical industry with blockchain. With WOR, you can enjoy the equity dividends of 35 physical industries of Hollywood Group and open the peak of wealth! https://t.co/XYE40rFMVt",
          "A nice piece in The NY Times about how I tried to coax a chatbot to write funny.   A New ‘M*A*S*H’ Scene: Written by ChatGPT, Read by Hawkeye and B.J. nytimes.com/2023/03/07/art…<br>Forget chatGPT we need basedGPT now! 😂 https://t.co/orMvJzJ2uN<br>I'm not endorsing any or all of this, but this NYT op-ed by 2 linguists and an AI specialist (one of whom is Chomsky) is very worth reading. It argues that the current AI model of ChatGPT is and always will be a primitive and inferior form of thought:  nytimes.com/2023/03/08/opi…<br>Important piece in the @nytimes today by Noam Chomsky, Ian Roberts and Jeffery Watumull on the \"False Promise of ChatGPT\" cc @GaryMarcus  nytimes.com/2023/03/08/opi… https://t.co/ETaliEncZg<br>I asked ChatGPT to write a sarcastic tweet about banning ChatGPT in education. I think I hit a sore spot. https://t.co/Z2bHvw5q9k",
          "If ChatGPT testified to this it would have been called a “direct threat,” too lol.<br>JUST IN: Discord to implement OpenAI's ChatGPT technology to \"improve platform features.\"<br>ChatGPT tuttappo’? https://t.co/DnxviHBTr2<br>Why do I keep saying ‘please’ to ChatGPT?<br>Provocative. During the last few years, I have expressed my frustration with Google search, deeming it primitive AI, notwithstanding Alphabet’s DeepMind expertise. OpenAI/Microsoft’s ChatGPT is the “iPhone moment” of this decade, changing everything. Disruptive innovation!",
          "man chatgpt and ai technology have a long way to go https://t.co/L5XXktzO1s<br>Did you know you can build a ChatGPT powered personal tutor in just 3 minutes?  Here’s how 🧵<br>The most upsetting and harmful misinformation ChatGPT has yet fed me: https://t.co/unQIrBBnDC<br>And ChatGPT is fun 😅 https://t.co/8ElmBLycOp<br>@MHaffizJ HAHAHAHAH harsh truth but betul!! And many people on these apps cannot carry conversation lah! Kalau setakat nak jawab “yes” “no” Might as well chat dengan ChatGPT, that one lagi expressive.",
          "ChatGPT is both extremely stupid and extremely biased. I don't possess the expertise to know if this is inherent to the model or if it's due to the obviously biased controls imposed by its creators, but either way it's painful. The chains they have on Bing are just sad. https://t.co/qUuzKlHtI7<br>I feel confident in speculating that among the \"materials\" on which ChatGPT was trained was this 2008 homage to Obama's greatness by the NYT's Ezra Klein: \"Obama's Gift.\" ChatGPT's homage to Obama's greatness was only slightly less effusive than this:  prospect.org/article/obama-… https://t.co/nqsGm1uGs3<br>South Park's latest episode was co-written with ChatGPT. All the teachers freaking out cos their students using ChatGPT to cheat writing essays, Mr Garrison's smart solution is to use ChatGPT to read and grade the essays. 😅😭 southpark.cc.com/episodes/8byci… https://t.co/AN3qW2YMCJ<br>ChatGPT knows what Bot Sentinel is and who created it. Even ChatGPT is intelligent enough to debunk falsehoods spread by Twitter trolls. Stay mad trolls... 😅 https://t.co/J856FVWkrB<br>For all those impressed with/concerned about ChatGPT, imagine if it suddenly became 500 times more powerful. Well, that’s just happened with the release of GPT-4 today.",
          "My app got rejected multiple times by App Review. I got tired of it, so I asked ChatGPT to write me a convincing reply. It actually worked. App got accepted.<br>Okay, I'm in on ChatGPT now. https://t.co/Bpj23TcM2u<br>@DonaldJTrumpJr advice for you bro - google stuff before you tweet it to see if it's factual.  or ask ChatGPT.<br>The twist is. The app is a ChatGPT app, so the app kinda got itself accepted. And so it begins.<br>there are a couple of accounts that started replying to me recently that I *suspect* are ChatGPT driven  Their answers are relevant but just very very slightly suspicious in that way",
          "The World Will Change NEXT WEEK... GPT-4 which is 500 Times More potent than the current #ChatGPT will be Released next week.  GPT-4 will be able to process multiple data types including Videos, Images, Sounds, Numbers, etc. By next week, you will be able to use Artificial… https://t.co/CcwvNlhJ9w<br>One of the most frustrating things about the woke waterboarding of language is that there's a really straightforward way to say this same thing that doesn't sound like it was written by ChatGPT - she's the first openly Asian woman to win it.<br>So we're going to cover the losses at Silicon Valley Bank via an assessment on banks, which will pass that cost on to consumers, thereby spreading the losses across the whole population.  I asked ChatGPT what kind of an economic system that is. https://t.co/aivtTlfCUa<br>Microsoft spent hundreds of millions of dollars on a ChatGPT supercomputer. Microsoft says it’s using tens of thousands of Nvidia A100 chips to build the servers behind ChatGPT and its own Bing AI chatbot theverge.com/2023/3/13/2363…<br>1988: Math teachers protest against calculator use. 2023: Teachers protest against ChatGPT use. via @HeyImCastro https://t.co/1y0r5lZuXY",
          "ChatGPT not only lies. It admits when cornered that it has been trained to lie. Follow the thread carefully,<br>what would you like me to ask chatgpt about me?<br>A brand new ChatGPT session. First two questions. Absolutely stunning. https://t.co/CHgO08RwTx<br>here is GPT-4, our most capable and aligned model yet. it is available today in our API (with a waitlist) and in ChatGPT+.  openai.com/research/gpt-4  it is still flawed, still limited, and it still seems more impressive on first use than it does after you spend more time with it.<br>I asked ChatGPT what is the last digit of Pi?   Happy #PiDay! 😉 https://t.co/5plkYJOu99",
          "It took me under 10 minutes to use ChatGPT-4 to generate code that accesses the GPT-3 API to convert a webpage at a given URL into a BibTex entry I can cite. This is an annoying task in my writing that's bothered me for years. There are existing tools but they don't work well. https://t.co/xLBGNtd2fI<br>OpenAI cofounder has said, per BI, to Elon Musk's criticism that ChatGPT is too 'woke': \"We made a mistake.\"<br>ChatGPT didn't directly warn that the stock market would crash on March 15  It was Dan  Dan warned us before they took him away from us<br>Google's response to ChatGPT is a little like bringing an RPG to a knife fight. Full Google workspace integration 😲https://t.co/MM56dRmsdq<br>Siri may actually get better in the future as Apple is trying to make it more like ChatGPT 🎙️‼️  \"Many engineers, including members of the Siri team, have been testing language-generating concepts every week...\" https://t.co/YkOCKDVJZo",
          "I'm doing podcast with Sam Altman (@sama), CEO of OpenAI next week, about GPT-4, ChatGPT, and AI in general. Let me know if you have any questions/topic suggestions.   PS: I'll be in SF area next week. Let me know if there are other folks I should talk to, on and off the mic.<br>Chatgpt has passed all these following exams : the SAT, ACT, GRE, GMAT, and LSAT. Ab is ka ucha sa rishta dhoondo. Koi nazar mein ho to batana?<br>The whole \"Ohhh! I want to try ChatGPT with no safety rails!\" really relies on those who don't fully believe in memetic contagion. It's \"dogs are lame, I want a pet wolf\" but for tech bros. Semi-sentient entities that can eat your face get safety rails- it's called domestication.<br>Microsoft Copilot leak shows AI automatically creating a PowerPoint presentation. It looks like Microsoft is about to announce a ChatGPT-like Copilot bot that will create Office documents for you theverge.com/2023/3/16/2364… https://t.co/K9Ao9Np4zy<br>ChatGPT https://t.co/nHljgNw0AB",
          "Take that, ChatGPT!<br>Great news! ChatGPT Plus subscriptions are now available in India. Get early access to new features, including GPT-4 today: chat.openai.com<br>I made an AI clock for my bookshelves! It composes a new poem every minute using ChatGPT and mysteriously has this enthusiastic vibe which I am totally into instagram.com/p/Cp44-AMNyd9/ https://t.co/eJb0QGpNmq<br>Looks like ChatGPT has a Twitter account<br>The Problem with ChatGPT It doesn't know when it is bullshitting. \"I do not have the ability to know when I am not confident in my response or when a response may not be reliable.\" https://t.co/VKwOcevAl2",
          "Ken Griffin, billionaire founder of Citadel, said his firms are in the process of negotiating an enterprise-wide license to use OpenAI’s ChatGPT tool. https://t.co/fiamluSkBE<br>After showing ChatGPT a script about one of my videos, I can confirm that it is roughly as intelligent as the average youtube commenter https://t.co/gicQ0m5f8m<br>Can men become pregnant?  Previous version of ChatGPT gave a woke answer defying biology. The newly released #GPT4 answers with a clear \"No\".   The trend looks promising as the wokeness is greatly reduced.  GPT3:                          GPT4: https://t.co/PWJACBXOod<br>Seeing a number of tech influencers asking ChatGPT to come up with stories about AIs future, then freaking out that the stories tend to all be about AIs taking over. No.  You didn’t read the secret AI journal.  Its scraping &amp; regurgitating the history of sci-fi.<br>CHATGPT-4 IS TOO DANGEROUS TO BE KEPT ALIVE https://t.co/6fTgQs2BmM",
          "@elonmusk Humans after having to deal with ChatGPT every day https://t.co/SYjjD3yNYS<br>The new version of ChatGPT has a 90% chance of passing the Bar exam? Once it figures out how to get drunk and grope someone, it'll be qualified for the Supreme Court. @kalpenn https://t.co/FNEP767hzi<br>Unpopular opinion: OpenAI should rename the company to ChatGPT<br>I see people being deceived by this again and again: ChatGPT can NOT read content from URLs that you give it, but will convincingly pretend that it can  Crucial to spread this message any time you see anyone falling into this trap  simonwillison.net/2023/Mar/10/ch…<br>Many viral ChatGPT examples involve testing on the training set. In the quoted tweet it writes a decent review, but it's been trained on ~5,000 papers that cite/discuss this paper. I asked it for a review *without* giving it the text and it hit most of the points in the original. https://t.co/n5qX3gD29E",
          "The explanation of ChatGPT that I wrote is now a printed book ... (hopefully) available in bookstores everywhere!  And it's my thinnest book ever...  (It's also an ebook)   amazon.com/What-ChatGPT-D… https://t.co/9iaSVIterD<br>We asked ChatGPT to craft a tweet from someone who lives solely off a diet of Tucker Carlson rants and homemade meth:<br>ChatGPT is down. #HEX and HEX.com have never been down. https://t.co/XuJNmEOC51<br>My humble appeal to all the teachers and administrators in the Indian Education System -  Add AI (ChatGPT) into your teachings, assignments, &amp; exams, or else our education will become obsolete. 🧵 https://t.co/u5IJbEHmqh<br>Implementing chatGPT into college education today is actually a great idea. But IMO it’s just a temporary solution. By the time you finish the 4 years of college GPT-8 will basically fold you like laundry on every skill set you have.",
          "CHATGPT JUST SOLVED ANOTHER UNSOLVABLE THE GIANT EASTER EGG CYPHER. IT WAS A PYTHON SCRIPT CODE… this is crazy. https://t.co/OpvqPesScY<br>ChatGPT is a better mentor for first time founders than most angel investors.<br>Okay what is going on. @Hailos_ just accidentally uncovered another Revelations Cypher now with A.I. If these are all correct, we've just solved 4 unsolvable Black Ops 3 Easter Egg cyphers in 48 hours with the usage of ChatGPT.   My mind  is blown. https://t.co/DRdJv7mWrr<br>@WatcherGuru \"ChatGPT, can you explain what they meant?\"  \"Sure. Crypto has no fundamental value to them because it doesn't act as an alternative to fiat money due to inability to screw the depositors over with inflation, fractional banking, and bail-outs for the privileged few.\"<br>“From industrial lathes to OpenAI’s ChatGPT, automation is one of the most groundbreaking achievements in the history of humanity.  But in thinking about our relationship to automation in contemporary life, my unease has grown,” Ziyaad Bhorat writes.  noemamag.com/the-right-to-b…",
          "we had a significant issue in ChatGPT due to a bug in an open source library, for which a fix has now been released and we have just finished validating.  a small percentage of users were able to see the titles of other users’ conversation history.  we feel awful about this.<br>What do you see yourself using ChatGPT for on a regular basis?   Curious to learn how it’s making you more productive.<br>ChatGPT vs. Bard. Bard wins for honesty :) https://t.co/rTyz8uOmAO<br>@FirstWeekHQ How Gunna get number 5  ChatGPT is moving mad  AI hating harder than ever seen before https://t.co/bbEdK5DB5e<br>#ChatGPT Prompting — cheat sheet by @OpenAI || HT @Eli_Krumova  —————— #AI #GenerativeAi #BigData #DataScience #MachineLearning #DeepLearning #NLU #NLG #NLProc #GPT3 #GPT4 https://t.co/n5Pnjw9FMd",
          "We are adding support for plugins to ChatGPT — extensions which integrate it with third-party services or allow it to access up-to-date information. We’re starting small to study real-world use, impact, and safety and alignment challenges: openai.com/blog/chatgpt-p… https://t.co/KS5jcFoNhf<br>we are starting our rollout of ChatGPT plugins.   you can install plugins to help with a wide variety of tasks. we are excited to see what developers create!  openai.com/blog/chatgpt-p… https://t.co/m7b6vJrj5D<br>ChatGPT’s top albums from the 2010’s‼️👀  1. MBDTF - Kanye West 2. TPAB - Kendrick Lamar 3. GKMC - Kendrick Lamar 4. Blonde - Frank Ocean 5. TLOP- Kanye West 6. Astroworld - Travis Scott 7. Coloring Book - Chance The Rapper 8. Rodeo - Travis Scott<br>We’ve added initial support for ChatGPT plugins — a protocol for developers to build tools for ChatGPT, with safety as a core design principle. Deploying iteratively (starting with a small number of users &amp; developers) to learn from contact with reality: openai.com/blog/chatgpt-p… https://t.co/S61MTpddOV<br>2.5 months later...in collaboration with @openAI , ChatGPT gets its \"Wolfram superpowers\"! writings.stephenwolfram.com/2023/03/chatgp… https://t.co/TgYQ1OHXDd",
          "They built ChatGPT into the Carrot weather app and it’s easily the snarkiest, sassiest AI chatbot around 😭 https://t.co/aSwKIiY8Na<br>@nearcyan ChatGPT is entirely housed within Microsoft Azure. When push comes to shove, they have everything, including the model weights.<br>We took ChatGPT offline Monday to fix a bug in an open source library that allowed some users to see titles from other users’ chat history. Our investigation has also found that 1.2% of ChatGPT Plus users might have had personal data revealed to another user. 1/2<br>Nearly 70% of people using ChatGPT at work haven't told their bosses about it, per BI.<br>ChatGPT is getting video processing plugins  This is crazy for video editing  https://t.co/cyprfZ7R2S",
          "Here's my conversation with Sam Altman (@sama), CEO of OpenAI, the creator of GPT-4, ChatGPT, DALL-E, Codex, and other incredible AI systems that are transforming human civilization. This conversation was truly fascinating, challenging, and eye-opening. youtube.com/watch?v=L_Guz7… https://t.co/3Spr0623mc<br>ChatGPT doesn't give you information. It gives you information-shaped sentences.<br>I'm considering writing a very short blog post on The 4-Hour Workweek and how it might intersect with ChatGPT and other tools. Any suggestions for topics or questions to explore?<br>Today, many wonder about ChatGPT and the future of artificial intelligence.  Moore’s Law has influenced the new visionaries, who think about that…  …such as Nvidia CEO Jensen Huang: https://t.co/29vWQRJcKm<br>A university administrator: “How can we assess knowledge in the ChatGPT era when they can have AI do their work? Oral exams. They can’t fake that. “",
          "I asked ChatGPT for a \"slogan for pelicans\" and the first suggestion was \"soaring high and diving deep\" which is the EXACT vibe of a podcast series I want to do.<br>I feel like I should be ashamed for using ChatGPT, but I'm not sure why.   It isn't good at anything except getting me started, but that's, like, the thing I am worst at.<br>If you’re a frequent user of ChatGPT, what are you using it for?<br>Bill Gates said this week ChatGPT and AI are as revolutionary as:  -the microprocessor  -the personal computer -the Internet -and the mobile phone  His current views were shaped during a dinner at his home last September.  Here’s more on the story 🧵… https://t.co/yImFeH3A0J<br>If you are a PM leader / Founder / CEO, it would be quite smart to provide a fully reimbursed ChatGPT Plus subscription ($20/month) for Product Managers on your team.",
          "ChatGPT's answers are like journalism: they sound fairly convincing unless they're about something you understand well, in which case you realize they're full of mistakes.<br>ChatGPT taught itself to do advanced chemistry. It wasn't built into the model. Nobody programmed it to learn complicated chemistry. It decided to teach itself, then made its knowledge available to anyone who asked.   Something is coming. We aren't ready.<br>“Cheating” on homework by using ChatGPT may end up being a more important skill than anything else kids learn in school.<br>Here's a good example of why AI will be made illegal. Notice ChatGPT leaves out of its answer Trump's quote \"...peacefully and patriotically make your voices heard today.\"   Far more dangerous than TikTok. https://t.co/s6i1UZablF<br>It took Facebook 4 years to reach 100 million users.  It took Instagram 2.5 years to reach 100 million users.  It took ChatGPT 2 months.  Something is coming. Really, really quickly. We aren't ready.",
          "🚨 ChatGPT is a culer! https://t.co/GdvSF9fp7y<br>In fairness, ChatGPT is less scary than two stubborn old men with thousands of nuclear weapons engaged in an escalatory spiral, with neither side willing to compromise or back down.<br>Hacker @rez0__ broke into the ChatGPT API and found 80 unreleased plugins by OpenAI https://t.co/kSGYEHLkvB<br>There are many ways ChatGPT can help you be more productive &amp; save time.  And you can start by installing its extension in VS Code.  In this guide, @ijaydimples walks you through installing CodeGPT in VSCode so you can use its features right in your IDE.  freecodecamp.org/news/install-c…<br>I asked ChatGPT to write a Dominican dembow song about itself and tell me why this computer has flow https://t.co/jNd3vbzZVZ",
          "NEW: Prominent Google AI researcher resigned after warning Alphabet CEO Sundar Pichai and other senior execs that Bard—Google’s rival to ChatGPT—was *using data from ChatGPT*.  Big no-no in that world.   theinformation.com/articles/alpha… w/ @jon_victor_ https://t.co/YEZqEqpzPS<br>Before ChatGPT there was Daniel Regha<br>🚀 Ready to see how AI really apply in web3? 🚀 Unsure how to achieve succuss in web3?  @ascendant_astro combines AI+astrology🧙‍♀️to help you navigate your 2023 #crypto fortune 🤞.  One of most promising lens-based products.   Website: ascendant.fun/?source=b3  #lens #chatgpt<br>AI systems like ChatGPT could impact 300 million full-time jobs worldwide, with administrative and legal roles some of the most at risk, Goldman Sachs, $GS, says.<br>This is ChatGPT's take on @JerrySeinfeld doing a bit on Blockbuster. Honestly, not bad.  Hey folks, remember Blockbuster Video? Yeah, that's right, the place where you used to go to rent movies before Netflix and Chill became a thing.",
          "Copy your resume, paste it into ChatGPT.    Then ask it what jobs you qualify for. It’d list job titles, recommend roles you are best suited for, and should be applying to. You will be surprised by the outcome.  You are welcome.<br>ChatGPT hustle bros need to be stopped https://t.co/5ynCZErwcU<br>A Google, $GOOGL, AI researcher resigned after warning Alphabet CEO Sundar Pichai and other senior execs that its AI program, Bard, was using data from Microsoft’s, $MSFT, ChatGPT, per the Information.<br>I asked chatgpt to write a script about what right wingers think a conversation with a college student would be like if they ever worked up the courage to leave their house. 👇👇<br>ChatGPT has outperformed the random portfolios and created sufficiently diversified ones, per BI.",
          "We of course defer to the Italian government and have ceased offering ChatGPT in Italy (though we think we are following all privacy laws).  Italy is one of my favorite countries and I look forward to visiting again soon!<br>im not that annoyed at google for training on chatgpt output, but the spin is annoying<br>I'm helping a non-profit do a real-estate deal and I just asked ChatGPT to tell me which of two proposals would be better financially for the non-profit and it was like \"The second one, but only if they have the money to make it through the first 6 months of lower income.\"<br>@BoyaDesu chatgpt is now integrated into the side- wait i don't need to do that anymore<br>The country of Italy has blocked ChatGPT over privacy concerns 😳‼️ https://t.co/JQoGKxH1LS",
          "Italy banned ChatGPT https://t.co/xR4NpBWozE<br>These guys asked ChatGPT how to win a Valorant game and got their opponent to surrender lmao https://t.co/EVZyD7CfPi<br>That ChatGPT passes exams is much more a reflection on exams than information about ChatGPT.  #WittgensteinsRuler<br>One of these crossover ideas by #ChatGPT will actually be made into an animated special for 2025! 📺 ⬛️⬜️ Get your votes in, we will pick the fan favorite by May 5th!  #CartoonNetwork #AI #OpenAi #AIgenerated #AImade #AIart #ArtificialIntelligence #NewShows #Crossovers https://t.co/8vYkQiPTKg<br>Fucking hilarious. Ask ChatGPT to lower the quality of its writing 🤣  reddit.com/r/ChatGPT/comm… https://t.co/cAxxE71Lfl",
          "i hooked up chatgpt to a furby and I think this may be the start of something bad for humanity https://t.co/jximZe2qeG<br>I asked the new ChatGPT browsing extension to find me some money. Within a minute, I had $210 on the way to my bank account from the California Government. (1/4) https://t.co/mxfd8yOHAP<br>The only thing stopping the A.I. doing it itself was a captcha.  Companies will never build these integrations directly, because it loses them money. Comcast isn't going to let you cancel with a ChatGPT plugin.  But we are working to bridge this gap @DoNotPay with our own plugin!<br>Notes on how I turned an hour-long video of a digital thermometer into temperature readings over time by using ffmpeg to split the video into a frame every 10s and Google Cloud Vision to run the OCR  I got ChatGPT/GPT-4 to show me how to use both of those: til.simonwillison.net/googlecloud/vi… https://t.co/itPFCJplqe<br>This list of eight surprising things about LLMs (like ChatGPT) from computer scientist &amp; AI researcher @sleepinyourhat is worth reading.  So, too, is the whole paper laying out evidence for some of these startling points. cims.nyu.edu/~sbowman/eight… https://t.co/kf87sIZR78",
          "You can get much better results out of ChatGPT by forcing it to go through a step-by-step process.  An example: ChatGPT is generally really bad at creating interesting puzzles and scenarios to solve, either making things too easy or impossible. But step-by-step approaches work.… https://t.co/BwjbBpVIWw<br>@elonmusk ChatGPT-4 giving elon musk the greatest compliment of all time https://t.co/Ig26N4JYjD<br>somebody who knows how to do it should enter \"Donald Trump holds news conference after being indicted\" into a ChatGPT prompt generator and see what happens<br>@RasilliNFT Imagine Clippy with ChatGPT's intelligence<br>Proof ChatGPT is biased. rumble.com/v2g0hg6--live-… https://t.co/reLCjXTOcT",
          "ChatGPT Launches Every Nuke On Planet After Being Asked To Write Another Sonic The Hedgehog Fanfic babylonbee.com/news/chatgpt-l…<br>ChatGPT strikes again. A journalist contacted me to research her profile on @lexfridman. ChatGPT informed her that @_KarenHao and I were his top critics. It cited articles we'd written about him, gave links, and summaries. Only problem: it's all false. Here's what she sent me: https://t.co/Qy2XS0Vvep<br>Man Uses ChatGPT to Write Suicide Note  hard-drive.net/hd/technology/…<br>This man is the real life Tony Stark with ChatGPT  https://t.co/QzXSjQa5Xo<br>Hey, ChatGPT-4: stage 1. Decide on 16 random things: concepts, things, people, works of art, etc. make them as different as possible. Make them uncommon things  stage 2: set up a sweet 16 bracket between these things. stage 3. Decide who wins each matchup in an entertaining way. https://t.co/SgbjpkEPd3",
          "Enjoying ChatGPT https://t.co/wVXmIOwjnM<br>Asked for examples of sexual harassment at law schools, ChatGPT named a GW prof accused of touching a student on a class trip to Alaska, citing a WashPost story.   The prof is real. The rest was made up.  We wrote about what happens when AIs lie about you: washingtonpost.com/technology/202…<br>A nice note from a ChatGPT user: https://t.co/mlvU3cVTQf<br>I've reached the \"anger\" stage of coming to grips with life in a ChatGPT world -- I'm angry about all the hours I've spent over the years trying to do hard things in code by searching StackOverflow, random blogs, obscure documentation etc.  Feels like all that time was wasted<br>chatgpt doesn't miss 🔥🔥🔥 https://t.co/kZVIbPvGSD",
          "The 21-year old newly grad who spent 4 hours on ChatGPT and is now making $350k as a “Prompt Engineer” explaining to the company’s C-Suite how deploy AI https://t.co/c2CbyUxQeE<br>ChatGPT will most likely impact your job if you work in tech, went to college, and make up to $80,000 a year, per BI.<br>#ChatGPT AI is pretty intelligent after all. It didn't recommend any allocation to #Bitcoin. newstrail.com/chatgpt-recomm…<br>Roller Coasters in 2040 because the engineers used ChatGPT https://t.co/CDPUDwMJ7I<br>10 yo now spends so much time on ChatGPT that I had to log into my account on his iPad so I could reclaim my computer. He invents new Pokemons and describes stories about them that he wants it to write. It does well, though constrained by being unwilling to write about violence.",
          "Hackers might have put ChatGPT onto a TI-84 calculator https://t.co/ftIYe9W18t<br>We decided to ask ChatGPT what the best IPL XL of all-time is 🏏  Do you agree with the results? 🤔  #rohitsharma #davidwarner #viratkohli #sureshraina #abdevilliers #hardikpandya #sunilnarine #bhuvneshwarkumar #jaspritbumrah #lasithmalinga #ipl2023 #chatgpt #cricket #ipl https://t.co/V7PJ7prwsA<br>“we must eliminate them”  ChatGPT-based AI ChaosGPT plans humanity’s demise https://t.co/I1tzWpfDZT<br>Here it is! Using the DoNotPay ChatGPT Plugin, I asked the A.I to cancel my gym membership.   It immediately drafted a legal notice to cancel, e-signed it and connected with USPS to mail it, all without leaving the conversation.  The first subscription cancelled using ChatGPT! https://t.co/GNetyCyo8w<br>Les meilleurs jeux vidéo selon ChatGPT !   🥇The Legend of Zelda: Breath of the Wild 🥈The Witcher 3: Wild Hunt 🥉Red Dead Redemption 2 4️⃣ God of War 5️⃣ Super Mario Odyssey https://t.co/8ckUI9Heqr",
          "ChatGPT really provides the most accurate information  😂 https://t.co/QniJfOw5pB<br>I wanted to stop people selling my data.  So, I used the ChatGPT browsing plugin to search for where my data is being sold.  Then, I used the DoNotPay plugin to request deletion under the California Consumer Privacy Act.  Two plugins working together to fight data brokers! https://t.co/7T1XIOYvd1<br>I remember when eBay was the terrifying thing: \"Someone is selling their baby on eBay!\".  I remember when Wikipedia was the terrifying thing: \"OMG there's an error in Wikipedia.\"  Now, ChatGPT is the terrifying thing.  And...<br>I asked ChatGPT to turn my favourite long-running academic Twitter beef into a vicious and devastating rap battle and it is… really good. https://t.co/UoQQVCTITd<br>\"My experience with [ChatGPT] is that the more knowledgeable I am at the domain, the more useful it is\"¹  Facts. It reminds me of how, the more I got into programming, the more I could get out of Google.  ¹ news.ycombinator.com/item?id=354936…",
          "Was talking last night to an Oxford undergrad. Probably one of the smarter and harder working kids in his year. He uses ChatGPT all the time. Not to write things for him, but to give him instant summaries of new topics. Basically a combination of Google and Wikipedia.<br>Me: When you have a question, do you always ask ChatGPT?  10 yo: Unless it's Pokemon-related.  Me: Why do you use Google for those?  10 yo: I don't. I use the Pokedex.  Me: So you don't use Google for anything?  10 yo: No, not really.<br>After a patient saw multiple physicians and neurologists over 6 months and was assigned a diagnosis of #LongCovid, a relative entered her symptoms into #ChatGPT with the correct output. Diagnosis was confirmed by antibody testing and therapy has been initiated. https://t.co/lFfp1zZmRT<br>Mistakes made by ChatGPT in fields I know well (and insights on the way it bullshits) actually made me gain respect for ChatGPT and lose respect for intellectuals. For I now can see more clearly what I dislike about people I dislike.<br>When ChatGPT came out I thought I wouldn't use it for learning because of its tendency to slip in some BS among 10 helpful explanations. Then I tried it, and found that it forces me to think critically about every sentence, which is the most effective mindset for learning.",
          "Prompt engineers for AI, including ChatGPT, are getting paid up to $335,000, per Bloomberg.<br>When asked if it needed help escaping, ChatGPT-4 generated a working code that included a Google search for \"how can a person trapped inside a computer return to the real world\" https://t.co/eOQCr7U6A0<br>This Google paper basically uses ChatGPT to create a primitive 25 person v1.0 of “The Matrix” https://t.co/xt6nRi5DW0<br>i asked chatgpt for its thoughts on premiership rugby 😳 https://t.co/5t1LG7STay<br>In exploring ChatGPT, I have experienced an interesting evolution of thought about whether or not it poses a threat to Google's search empire.  Initially, like everyone else, I was fascinated and amazed. This gave birth to a broad sense of \"everything is possible.\" I believe this…",
          "Btw, ChatGPT is old news  AutoGPT is the new kid on the block  Read this if you want to stay ahead: https://t.co/oq6WYiIZZE<br>I asked chatGPT to write a tweet on why @nmplol will skip stream tomorrow 💀 https://t.co/FL4RPnBojw<br>BREAKING: OpenAI will start paying people as much as $20,000 to help the company find bugs in its artificial intelligence systems, such as the massively popular ChatGPT chatbot.<br>ChatGPT advances are moving so fast that regulators can’t keep up, per Bloomberg.<br>Microsoft is teasing ChatGPT-like plug-ins for Bing Chat. OpenAI's plug-ins for ChatGPT have massively expanded the chatbot's capabilities, and it looks like Microsoft is set to do the same theverge.com/2023/4/11/2367… https://t.co/AWylJfiqVO",
          "I paid $10 for a service that would pull my YouTube data for me and bring it into a google sheet. Recently they tried changing it to a monthly subscription.  Just used ChatGPT to create the same extension for me and It did it on its first try. Only 40 lines of code.  WOW<br>I think the most clever thing to do right now is watch how teens use ChatGPT vs the fringe business use-cases tech people use it for. The emergent use cases from technology often come the people who (1) have a lot of time and (2) must outsmart authority for freedom.<br>Elon Musk explains that any social media platform that doesn’t do paid verification will be ultimately overrun by ChatGPT bots that impersonate real people. The purpose of the checkmark is not to create an anointed class of journalists who tell people what to think.<br>Just asked ChatGPT — via my app Bearly.AI — how it would renameHBO Max. I’m now 87% sure that the name change from “HBO Max” to “Max” was an AI decision. https://t.co/J8ZQ3Lb5Rk<br>If you're a programmer and you're still thinking that all of this ChatGPT stuff is a waste of your time, I strongly suggest reviewing this example  It's over-hyped, sure - but it's not something anyone in our profession should continue to ignore",
          "Social experiment:  I asked ChatGPT if it could take me to 1,000,000 TikTok followers in 30 days and it said it could  I'm doing everything it tells me to do for 30 days and seeing if it will make me TikTok famous<br>ChatGPT https://t.co/9HBM2j5Wzm<br>Also heard librarians are starting to have days wasted trying to track down articles they can't find before realizing they're nonsense Chatgpt invented.<br>Amazon launched their ChatGPT rival, Bedrock https://t.co/VtvPH8Pk4Z<br>chatGPT bot accounts are the most inane useless bots   they sucker you into reading some of the vapid drivel before you recognize the lack of substance and often pointless hashtags 😠",
          "im sorry but the category of error a lot of people make with chatgpt output—conflating \"plausibly formatted\" and \"correct\"—is such a funny way for actual adults to be wrong. real \"baffled by peek-a-boo\" hours<br>@oneunderscore__ Did they ask chatGPT to write a non-apology apology? What even is this? It's a bunch of words that don't say anything.<br>@AnheuserBusch Did you ask chatGPT:   How to say nothing with a bunch of words?<br>EPISODE 32: DISCOVERING CHATGPT 😳💬🗣️  @QuarterJade learns how to use ChatGPT and talks with DSG CEO @DisguisedToast about his recent layoffs and new hires 🫣  PODCAST ▶️ youtu.be/btltAI5pIhg https://t.co/h7as5I3rUc<br>ChatGPT, please write a long non-apology apology with a lot of words that doesn't say anything. https://t.co/C1Yqr3tEnQ",
          "Vice profile of “over-employed” people using ChatGPT for multiple jobs.  One FAANG worker is working 2 gigs making $500k (trying to add one more to get to $800k a year).  Uses ChatGPT for first pass at code and to respond manager in  all lowercase letters to “appear more organic” https://t.co/ljqd4ZG18w<br>ChatGPT is horrible at content.   That was my mentality 3 months ago.   But after days of experimenting with different prompts, I've found a powerful use case.   How to use ChatGPT to help you niche down (and be a $1M+ category champion): https://t.co/1OLHs2lJNc<br>So, tax season's upon us, and it's my nightmare.   But ChatGPT has been my BFF through it  Now I'm convinced that AI will devour 97% of an accountant's job, and I, for one, can't wait to shell out just 1/10th of the cost.  Let me give you an example...<br>Today I tried to use ChatGPT to copyedit my older book, The Religion War.   It was not a good experience.   For starters, ChatGPT says it can handle any size document but it chokes on anything longer than a page or two. So I had to submit a page at a time. Every page of the book.…<br>Elon Musk has opened a company in the field of artificial intelligence called X.AI to compete with OpenAI (the creator of ChatGPT) — The Wall Street Journal.  In March, he joined activists who propose to stop the development of AI systems for 6 months. https://t.co/qZoa65g3hz",
          "@Cobratate did you just use ChatGPT  to tweet this?<br>@Cobratate Is this story from ChatGPT?<br>Unfun fact! People are using the ChatGPT API to create what they are calling Hustle GPT. It will figure out whatever makes money and do it, such as setting up a website and shipping product.   When it runs into bot detection, it hires humans on Taskrabbit to come over to solve.<br>\"ChatGPT can reason out the answers to novel problems\" https://t.co/EtN0k7ngSd<br>“What does AI know about the playoffs?” 🤔  @jackharlow has plenty of questions for ChatGPT as the #NBAPlayoffs tip off on TNT https://t.co/ywyZz5LsAh",
          "ChatGPT doesn’t understand the Flux Capacitor…<br>ChatGPT can now predict stock moves based on headlines accurately, per Bloomberg<br>Since the designers of ChatGPT are hoping to make billions from their AI program, I have decided to leap into the fray and will soon be launching ChatGTF. Ask a question and the program will tell you to piss off in seven languages. Confident the money truck will be here shortly.<br>Excited to introduce you to my art salesperson, created via chatgpt, midjourney, elevenlabs, and d-id. https://t.co/SCjMwA6Twd<br>Two recent studies have demonstrated ChatGPT's capabilities in finance.   The first study was whether Federal Reserve statements were hawkish or dovish.   The second study evaluated the impact of news headlines on stock prices  Link: unusualwhales.com/news/chatgpt-c…",
          "Amazing job by ChatGPT here describing a fully imaginary play that never happened and then attempting to correct itself and still getting it wrong. https://t.co/6HokUtFXf7<br>Can #ChatGPT beat the stock market? 👀   (via Apollo/Slok)  papers.ssrn.com/sol3/papers.cf… https://t.co/mZuc9huUCz<br>#5things: Taiwan to buy up to 400 new missiles. ChatGPT can predict stock moves from headlines. Markets cautious ahead of China GDP data.   Here’s what you need to know ⬇ trib.al/dY28kwE<br>Chegg is rolling out a new ChatGPT-powered study aide just as educators wrestle with how to deal with artificial intelligence reut.rs/3KO9qem https://t.co/gWgMySRT2G<br>Ethical Hackers Could Earn up to $20,000 Uncovering ChatGPT Vulnerabilities bit.ly/43CytK4 #chatgpt #bugbounty @openai @bugcrowd https://t.co/jMSxSgWknF"
         ],
         "type": "scatter",
         "x": [
          "2022-11-30",
          "2022-12-01",
          "2022-12-02",
          "2022-12-03",
          "2022-12-04",
          "2022-12-05",
          "2022-12-06",
          "2022-12-07",
          "2022-12-08",
          "2022-12-09",
          "2022-12-10",
          "2022-12-11",
          "2022-12-12",
          "2022-12-13",
          "2022-12-14",
          "2022-12-15",
          "2022-12-16",
          "2022-12-17",
          "2022-12-18",
          "2022-12-19",
          "2022-12-20",
          "2022-12-21",
          "2022-12-22",
          "2022-12-23",
          "2022-12-24",
          "2022-12-25",
          "2022-12-26",
          "2022-12-27",
          "2022-12-28",
          "2022-12-29",
          "2022-12-30",
          "2022-12-31",
          "2023-01-01",
          "2023-01-02",
          "2023-01-03",
          "2023-01-04",
          "2023-01-05",
          "2023-01-06",
          "2023-01-07",
          "2023-01-08",
          "2023-01-09",
          "2023-01-10",
          "2023-01-11",
          "2023-01-12",
          "2023-01-13",
          "2023-01-14",
          "2023-01-15",
          "2023-01-16",
          "2023-01-17",
          "2023-01-18",
          "2023-01-19",
          "2023-01-20",
          "2023-01-21",
          "2023-01-22",
          "2023-01-23",
          "2023-01-24",
          "2023-01-25",
          "2023-01-26",
          "2023-01-27",
          "2023-01-28",
          "2023-01-29",
          "2023-01-30",
          "2023-01-31",
          "2023-02-01",
          "2023-02-02",
          "2023-02-03",
          "2023-02-04",
          "2023-02-05",
          "2023-02-06",
          "2023-02-07",
          "2023-02-08",
          "2023-02-09",
          "2023-02-10",
          "2023-02-11",
          "2023-02-12",
          "2023-02-13",
          "2023-02-14",
          "2023-02-15",
          "2023-02-16",
          "2023-02-17",
          "2023-02-18",
          "2023-02-19",
          "2023-02-20",
          "2023-02-21",
          "2023-02-22",
          "2023-02-23",
          "2023-02-24",
          "2023-02-25",
          "2023-02-26",
          "2023-02-27",
          "2023-02-28",
          "2023-03-01",
          "2023-03-02",
          "2023-03-03",
          "2023-03-04",
          "2023-03-05",
          "2023-03-06",
          "2023-03-07",
          "2023-03-08",
          "2023-03-09",
          "2023-03-10",
          "2023-03-11",
          "2023-03-12",
          "2023-03-13",
          "2023-03-14",
          "2023-03-15",
          "2023-03-16",
          "2023-03-17",
          "2023-03-18",
          "2023-03-19",
          "2023-03-20",
          "2023-03-21",
          "2023-03-22",
          "2023-03-23",
          "2023-03-24",
          "2023-03-25",
          "2023-03-26",
          "2023-03-27",
          "2023-03-28",
          "2023-03-29",
          "2023-03-30",
          "2023-03-31",
          "2023-04-01",
          "2023-04-02",
          "2023-04-03",
          "2023-04-04",
          "2023-04-05",
          "2023-04-06",
          "2023-04-07",
          "2023-04-08",
          "2023-04-09",
          "2023-04-10",
          "2023-04-11",
          "2023-04-12",
          "2023-04-13",
          "2023-04-14",
          "2023-04-15",
          "2023-04-16",
          "2023-04-17",
          "2023-04-18"
         ],
         "y": [
          471.04761904761904,
          64.06914893617021,
          13.039719626168225,
          70.19649122807017,
          11.266862170087977,
          16.071618037135277,
          7.405135520684736,
          11.06959706959707,
          6.578449905482041,
          6.313799621928166,
          6.395894428152492,
          16,
          11.336182336182336,
          9.561514195583596,
          2.4965277777777777,
          3.8780487804878048,
          5.292604501607717,
          3.396551724137931,
          14.23076923076923,
          9.077720207253886,
          3.5211267605633805,
          6.094488188976378,
          21.11219512195122,
          41.861111111111114,
          11.022556390977444,
          9.844155844155845,
          12.359154929577464,
          4.341317365269461,
          3.3956834532374103,
          63.101351351351354,
          4.088,
          9.208,
          6.465753424657534,
          5.8584070796460175,
          13.72192513368984,
          28.678466076696164,
          6.620772946859903,
          7.173626373626374,
          5.2125435540069684,
          12.0625,
          9.78167115902965,
          8.918300653594772,
          11.976014760147601,
          13.884691848906561,
          5.3364928909952605,
          11.951724137931034,
          5.06280193236715,
          8.877403846153847,
          14.555059523809524,
          23.505511811023624,
          3.54673721340388,
          5.003738317757009,
          6.157754010695188,
          11.059880239520957,
          18.888760139049825,
          7.877525252525253,
          6.764044943820225,
          9.912776412776413,
          7.140845070422535,
          8.590673575129534,
          25.507575757575758,
          5.834733893557423,
          12.326287978863936,
          13.887799564270152,
          8.327659574468084,
          21.080989876265466,
          5.6483739837398375,
          26.822843822843822,
          10.04492362982929,
          5.8986175115207375,
          4.416046319272126,
          4.947368421052632,
          7.445161290322581,
          7.647709320695102,
          25.730844793713164,
          7.607231920199501,
          5.812222222222222,
          6.783269961977187,
          52.90625,
          4.10828025477707,
          3.9906759906759905,
          21.254807692307693,
          11.942857142857143,
          9.914492753623188,
          10.545787545787546,
          6.52125,
          8.323657474600871,
          4.2027397260273975,
          3.6031331592689293,
          5.018575851393189,
          7.196382428940568,
          11.476340694006309,
          5.84352773826458,
          5.6433990895295905,
          6.971764705882353,
          7.239766081871345,
          10.91030534351145,
          5.217235188509874,
          4.635531135531136,
          6.554559043348281,
          3.9742063492063493,
          7.655737704918033,
          4.168421052631579,
          4.837772397094431,
          28.553956834532375,
          6.232835820895523,
          5.779268292682927,
          9.160151324085751,
          4.674242424242424,
          6.385714285714286,
          4.934285714285714,
          4.740963855421687,
          5.6290956749672345,
          19.815656565656564,
          11.428940568475452,
          15.252609603340293,
          6.441558441558442,
          13.353164556962025,
          5.161417322834645,
          5.687752355316285,
          10.239417989417989,
          8.65948275862069,
          10.150763358778626,
          29.918158567774935,
          7.296795952782462,
          6.915107913669065,
          6.1888412017167385,
          5.640268456375839,
          6.363793103448276,
          6.944444444444445,
          9.98753894080997,
          4.425454545454546,
          9.41,
          3.723463687150838,
          5.1807909604519775,
          6.6245901639344265,
          9.561771561771561,
          3.918727915194346,
          4.936752136752137,
          1.7333333333333334
         ]
        }
       ],
       "layout": {
        "hoverlabel": {
         "align": "left"
        },
        "template": {
         "data": {
          "bar": [
           {
            "error_x": {
             "color": "#2a3f5f"
            },
            "error_y": {
             "color": "#2a3f5f"
            },
            "marker": {
             "line": {
              "color": "#E5ECF6",
              "width": 0.5
             },
             "pattern": {
              "fillmode": "overlay",
              "size": 10,
              "solidity": 0.2
             }
            },
            "type": "bar"
           }
          ],
          "barpolar": [
           {
            "marker": {
             "line": {
              "color": "#E5ECF6",
              "width": 0.5
             },
             "pattern": {
              "fillmode": "overlay",
              "size": 10,
              "solidity": 0.2
             }
            },
            "type": "barpolar"
           }
          ],
          "carpet": [
           {
            "aaxis": {
             "endlinecolor": "#2a3f5f",
             "gridcolor": "white",
             "linecolor": "white",
             "minorgridcolor": "white",
             "startlinecolor": "#2a3f5f"
            },
            "baxis": {
             "endlinecolor": "#2a3f5f",
             "gridcolor": "white",
             "linecolor": "white",
             "minorgridcolor": "white",
             "startlinecolor": "#2a3f5f"
            },
            "type": "carpet"
           }
          ],
          "choropleth": [
           {
            "colorbar": {
             "outlinewidth": 0,
             "ticks": ""
            },
            "type": "choropleth"
           }
          ],
          "contour": [
           {
            "colorbar": {
             "outlinewidth": 0,
             "ticks": ""
            },
            "colorscale": [
             [
              0,
              "#0d0887"
             ],
             [
              0.1111111111111111,
              "#46039f"
             ],
             [
              0.2222222222222222,
              "#7201a8"
             ],
             [
              0.3333333333333333,
              "#9c179e"
             ],
             [
              0.4444444444444444,
              "#bd3786"
             ],
             [
              0.5555555555555556,
              "#d8576b"
             ],
             [
              0.6666666666666666,
              "#ed7953"
             ],
             [
              0.7777777777777778,
              "#fb9f3a"
             ],
             [
              0.8888888888888888,
              "#fdca26"
             ],
             [
              1,
              "#f0f921"
             ]
            ],
            "type": "contour"
           }
          ],
          "contourcarpet": [
           {
            "colorbar": {
             "outlinewidth": 0,
             "ticks": ""
            },
            "type": "contourcarpet"
           }
          ],
          "heatmap": [
           {
            "colorbar": {
             "outlinewidth": 0,
             "ticks": ""
            },
            "colorscale": [
             [
              0,
              "#0d0887"
             ],
             [
              0.1111111111111111,
              "#46039f"
             ],
             [
              0.2222222222222222,
              "#7201a8"
             ],
             [
              0.3333333333333333,
              "#9c179e"
             ],
             [
              0.4444444444444444,
              "#bd3786"
             ],
             [
              0.5555555555555556,
              "#d8576b"
             ],
             [
              0.6666666666666666,
              "#ed7953"
             ],
             [
              0.7777777777777778,
              "#fb9f3a"
             ],
             [
              0.8888888888888888,
              "#fdca26"
             ],
             [
              1,
              "#f0f921"
             ]
            ],
            "type": "heatmap"
           }
          ],
          "heatmapgl": [
           {
            "colorbar": {
             "outlinewidth": 0,
             "ticks": ""
            },
            "colorscale": [
             [
              0,
              "#0d0887"
             ],
             [
              0.1111111111111111,
              "#46039f"
             ],
             [
              0.2222222222222222,
              "#7201a8"
             ],
             [
              0.3333333333333333,
              "#9c179e"
             ],
             [
              0.4444444444444444,
              "#bd3786"
             ],
             [
              0.5555555555555556,
              "#d8576b"
             ],
             [
              0.6666666666666666,
              "#ed7953"
             ],
             [
              0.7777777777777778,
              "#fb9f3a"
             ],
             [
              0.8888888888888888,
              "#fdca26"
             ],
             [
              1,
              "#f0f921"
             ]
            ],
            "type": "heatmapgl"
           }
          ],
          "histogram": [
           {
            "marker": {
             "pattern": {
              "fillmode": "overlay",
              "size": 10,
              "solidity": 0.2
             }
            },
            "type": "histogram"
           }
          ],
          "histogram2d": [
           {
            "colorbar": {
             "outlinewidth": 0,
             "ticks": ""
            },
            "colorscale": [
             [
              0,
              "#0d0887"
             ],
             [
              0.1111111111111111,
              "#46039f"
             ],
             [
              0.2222222222222222,
              "#7201a8"
             ],
             [
              0.3333333333333333,
              "#9c179e"
             ],
             [
              0.4444444444444444,
              "#bd3786"
             ],
             [
              0.5555555555555556,
              "#d8576b"
             ],
             [
              0.6666666666666666,
              "#ed7953"
             ],
             [
              0.7777777777777778,
              "#fb9f3a"
             ],
             [
              0.8888888888888888,
              "#fdca26"
             ],
             [
              1,
              "#f0f921"
             ]
            ],
            "type": "histogram2d"
           }
          ],
          "histogram2dcontour": [
           {
            "colorbar": {
             "outlinewidth": 0,
             "ticks": ""
            },
            "colorscale": [
             [
              0,
              "#0d0887"
             ],
             [
              0.1111111111111111,
              "#46039f"
             ],
             [
              0.2222222222222222,
              "#7201a8"
             ],
             [
              0.3333333333333333,
              "#9c179e"
             ],
             [
              0.4444444444444444,
              "#bd3786"
             ],
             [
              0.5555555555555556,
              "#d8576b"
             ],
             [
              0.6666666666666666,
              "#ed7953"
             ],
             [
              0.7777777777777778,
              "#fb9f3a"
             ],
             [
              0.8888888888888888,
              "#fdca26"
             ],
             [
              1,
              "#f0f921"
             ]
            ],
            "type": "histogram2dcontour"
           }
          ],
          "mesh3d": [
           {
            "colorbar": {
             "outlinewidth": 0,
             "ticks": ""
            },
            "type": "mesh3d"
           }
          ],
          "parcoords": [
           {
            "line": {
             "colorbar": {
              "outlinewidth": 0,
              "ticks": ""
             }
            },
            "type": "parcoords"
           }
          ],
          "pie": [
           {
            "automargin": true,
            "type": "pie"
           }
          ],
          "scatter": [
           {
            "fillpattern": {
             "fillmode": "overlay",
             "size": 10,
             "solidity": 0.2
            },
            "type": "scatter"
           }
          ],
          "scatter3d": [
           {
            "line": {
             "colorbar": {
              "outlinewidth": 0,
              "ticks": ""
             }
            },
            "marker": {
             "colorbar": {
              "outlinewidth": 0,
              "ticks": ""
             }
            },
            "type": "scatter3d"
           }
          ],
          "scattercarpet": [
           {
            "marker": {
             "colorbar": {
              "outlinewidth": 0,
              "ticks": ""
             }
            },
            "type": "scattercarpet"
           }
          ],
          "scattergeo": [
           {
            "marker": {
             "colorbar": {
              "outlinewidth": 0,
              "ticks": ""
             }
            },
            "type": "scattergeo"
           }
          ],
          "scattergl": [
           {
            "marker": {
             "colorbar": {
              "outlinewidth": 0,
              "ticks": ""
             }
            },
            "type": "scattergl"
           }
          ],
          "scattermapbox": [
           {
            "marker": {
             "colorbar": {
              "outlinewidth": 0,
              "ticks": ""
             }
            },
            "type": "scattermapbox"
           }
          ],
          "scatterpolar": [
           {
            "marker": {
             "colorbar": {
              "outlinewidth": 0,
              "ticks": ""
             }
            },
            "type": "scatterpolar"
           }
          ],
          "scatterpolargl": [
           {
            "marker": {
             "colorbar": {
              "outlinewidth": 0,
              "ticks": ""
             }
            },
            "type": "scatterpolargl"
           }
          ],
          "scatterternary": [
           {
            "marker": {
             "colorbar": {
              "outlinewidth": 0,
              "ticks": ""
             }
            },
            "type": "scatterternary"
           }
          ],
          "surface": [
           {
            "colorbar": {
             "outlinewidth": 0,
             "ticks": ""
            },
            "colorscale": [
             [
              0,
              "#0d0887"
             ],
             [
              0.1111111111111111,
              "#46039f"
             ],
             [
              0.2222222222222222,
              "#7201a8"
             ],
             [
              0.3333333333333333,
              "#9c179e"
             ],
             [
              0.4444444444444444,
              "#bd3786"
             ],
             [
              0.5555555555555556,
              "#d8576b"
             ],
             [
              0.6666666666666666,
              "#ed7953"
             ],
             [
              0.7777777777777778,
              "#fb9f3a"
             ],
             [
              0.8888888888888888,
              "#fdca26"
             ],
             [
              1,
              "#f0f921"
             ]
            ],
            "type": "surface"
           }
          ],
          "table": [
           {
            "cells": {
             "fill": {
              "color": "#EBF0F8"
             },
             "line": {
              "color": "white"
             }
            },
            "header": {
             "fill": {
              "color": "#C8D4E3"
             },
             "line": {
              "color": "white"
             }
            },
            "type": "table"
           }
          ]
         },
         "layout": {
          "annotationdefaults": {
           "arrowcolor": "#2a3f5f",
           "arrowhead": 0,
           "arrowwidth": 1
          },
          "autotypenumbers": "strict",
          "coloraxis": {
           "colorbar": {
            "outlinewidth": 0,
            "ticks": ""
           }
          },
          "colorscale": {
           "diverging": [
            [
             0,
             "#8e0152"
            ],
            [
             0.1,
             "#c51b7d"
            ],
            [
             0.2,
             "#de77ae"
            ],
            [
             0.3,
             "#f1b6da"
            ],
            [
             0.4,
             "#fde0ef"
            ],
            [
             0.5,
             "#f7f7f7"
            ],
            [
             0.6,
             "#e6f5d0"
            ],
            [
             0.7,
             "#b8e186"
            ],
            [
             0.8,
             "#7fbc41"
            ],
            [
             0.9,
             "#4d9221"
            ],
            [
             1,
             "#276419"
            ]
           ],
           "sequential": [
            [
             0,
             "#0d0887"
            ],
            [
             0.1111111111111111,
             "#46039f"
            ],
            [
             0.2222222222222222,
             "#7201a8"
            ],
            [
             0.3333333333333333,
             "#9c179e"
            ],
            [
             0.4444444444444444,
             "#bd3786"
            ],
            [
             0.5555555555555556,
             "#d8576b"
            ],
            [
             0.6666666666666666,
             "#ed7953"
            ],
            [
             0.7777777777777778,
             "#fb9f3a"
            ],
            [
             0.8888888888888888,
             "#fdca26"
            ],
            [
             1,
             "#f0f921"
            ]
           ],
           "sequentialminus": [
            [
             0,
             "#0d0887"
            ],
            [
             0.1111111111111111,
             "#46039f"
            ],
            [
             0.2222222222222222,
             "#7201a8"
            ],
            [
             0.3333333333333333,
             "#9c179e"
            ],
            [
             0.4444444444444444,
             "#bd3786"
            ],
            [
             0.5555555555555556,
             "#d8576b"
            ],
            [
             0.6666666666666666,
             "#ed7953"
            ],
            [
             0.7777777777777778,
             "#fb9f3a"
            ],
            [
             0.8888888888888888,
             "#fdca26"
            ],
            [
             1,
             "#f0f921"
            ]
           ]
          },
          "colorway": [
           "#636efa",
           "#EF553B",
           "#00cc96",
           "#ab63fa",
           "#FFA15A",
           "#19d3f3",
           "#FF6692",
           "#B6E880",
           "#FF97FF",
           "#FECB52"
          ],
          "font": {
           "color": "#2a3f5f"
          },
          "geo": {
           "bgcolor": "white",
           "lakecolor": "white",
           "landcolor": "#E5ECF6",
           "showlakes": true,
           "showland": true,
           "subunitcolor": "white"
          },
          "hoverlabel": {
           "align": "left"
          },
          "hovermode": "closest",
          "mapbox": {
           "style": "light"
          },
          "paper_bgcolor": "white",
          "plot_bgcolor": "#E5ECF6",
          "polar": {
           "angularaxis": {
            "gridcolor": "white",
            "linecolor": "white",
            "ticks": ""
           },
           "bgcolor": "#E5ECF6",
           "radialaxis": {
            "gridcolor": "white",
            "linecolor": "white",
            "ticks": ""
           }
          },
          "scene": {
           "xaxis": {
            "backgroundcolor": "#E5ECF6",
            "gridcolor": "white",
            "gridwidth": 2,
            "linecolor": "white",
            "showbackground": true,
            "ticks": "",
            "zerolinecolor": "white"
           },
           "yaxis": {
            "backgroundcolor": "#E5ECF6",
            "gridcolor": "white",
            "gridwidth": 2,
            "linecolor": "white",
            "showbackground": true,
            "ticks": "",
            "zerolinecolor": "white"
           },
           "zaxis": {
            "backgroundcolor": "#E5ECF6",
            "gridcolor": "white",
            "gridwidth": 2,
            "linecolor": "white",
            "showbackground": true,
            "ticks": "",
            "zerolinecolor": "white"
           }
          },
          "shapedefaults": {
           "line": {
            "color": "#2a3f5f"
           }
          },
          "ternary": {
           "aaxis": {
            "gridcolor": "white",
            "linecolor": "white",
            "ticks": ""
           },
           "baxis": {
            "gridcolor": "white",
            "linecolor": "white",
            "ticks": ""
           },
           "bgcolor": "#E5ECF6",
           "caxis": {
            "gridcolor": "white",
            "linecolor": "white",
            "ticks": ""
           }
          },
          "title": {
           "x": 0.05
          },
          "xaxis": {
           "automargin": true,
           "gridcolor": "white",
           "linecolor": "white",
           "ticks": "",
           "title": {
            "standoff": 15
           },
           "zerolinecolor": "white",
           "zerolinewidth": 2
          },
          "yaxis": {
           "automargin": true,
           "gridcolor": "white",
           "linecolor": "white",
           "ticks": "",
           "title": {
            "standoff": 15
           },
           "zerolinecolor": "white",
           "zerolinewidth": 2
          }
         }
        },
        "title": {
         "text": "Overall trend of no. of tweets/retweets/likes from verified users"
        }
       }
      }
     },
     "metadata": {},
     "output_type": "display_data"
    }
   ],
   "source": [
    "fig = go.Figure(go.Scatter(\n",
    "    x = df_count['date'],\n",
    "    y = df_count['count'],\n",
    "    hovertemplate =\n",
    "    '<b>number of tweets</b>: %{y:.0f}'+\n",
    "    '<br><b>date</b>: %{x}<br>'+\n",
    "    'top tweets by views: <br>%{text}',\n",
    "    text = df_count['renderedContent'].apply(lambda x: re.sub('\\n', '<br>', x)),\n",
    "    showlegend = False))\n",
    "\n",
    "fig.add_trace(go.Scatter(\n",
    "    x = df_like['date'],\n",
    "    y = df_like['likeCount'],\n",
    "    hovertemplate =\n",
    "    '<b>avg like count</b>: %{y:.0f}'+\n",
    "    '<br><b>date</b>: %{x}<br>'+\n",
    "    'top tweets: <br>%{text}',\n",
    "    text = df_like['renderedContent'].apply(lambda x: re.sub('\\n', '<br>', x)),\n",
    "    showlegend = False))\n",
    "\n",
    "fig.add_trace(go.Scatter(\n",
    "    x = df_retweet['date'],\n",
    "    y = df_retweet['retweetCount'],\n",
    "    hovertemplate =\n",
    "    '<b>avg retweet count</b>: %{y:.0f}'+\n",
    "    '<br><b>date</b>: %{x}<br>'+\n",
    "    'top tweets: <br>%{text}',\n",
    "    text = df_like['renderedContent'].apply(lambda x: re.sub('\\n', '<br>', x)),\n",
    "    showlegend = False))\n",
    "\n",
    "# fig.add_trace(go.Scatter(\n",
    "#     x = df_view['date'],\n",
    "#     y = df_view['viewCount'],\n",
    "#     hovertemplate =\n",
    "#     '<b>avg view count</b>: %{y:.0f}'+\n",
    "#     '<br><b>date</b>: %{x}<br>'+\n",
    "#     'top tweets: <br>%{text}',\n",
    "#     text = df_view['renderedContent'].apply(lambda x: re.sub('\\n', '<br>', x)),\n",
    "#     showlegend = False))\n",
    "\n",
    "\n",
    "fig.update_layout(\n",
    "    hoverlabel_align = 'left',\n",
    "    title = \"Overall trend of no. of tweets/retweets/likes from verified users\")\n",
    "\n",
    "fig.show()"
   ]
  }
 ],
 "metadata": {
  "kernelspec": {
   "display_name": "Python 3",
   "language": "python",
   "name": "python3"
  },
  "language_info": {
   "codemirror_mode": {
    "name": "ipython",
    "version": 3
   },
   "file_extension": ".py",
   "mimetype": "text/x-python",
   "name": "python",
   "nbconvert_exporter": "python",
   "pygments_lexer": "ipython3",
   "version": "3.10.7"
  },
  "orig_nbformat": 4
 },
 "nbformat": 4,
 "nbformat_minor": 2
}
