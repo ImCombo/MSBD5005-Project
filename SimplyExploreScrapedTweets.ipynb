{
  "nbformat": 4,
  "nbformat_minor": 0,
  "metadata": {
    "colab": {
      "provenance": [],
      "toc_visible": true
    },
    "kernelspec": {
      "name": "python3",
      "display_name": "Python 3"
    },
    "language_info": {
      "name": "python"
    }
  },
  "cells": [
    {
      "cell_type": "code",
      "source": [
        "!pip3 install git+https://github.com/JustAnotherArchivist/snscrape.git\n",
        "!pip install snscrape"
      ],
      "metadata": {
        "id": "YrkyPcIy3qVq"
      },
      "execution_count": null,
      "outputs": []
    },
    {
      "cell_type": "code",
      "source": [
        "# save\n",
        "import pickle\n",
        "\n",
        "# data processing\n",
        "import pandas as pd\n",
        "import snscrape.modules.twitter as sntwitter\n",
        "import numpy as np\n",
        "\n",
        "# visualization\n",
        "import matplotlib.pyplot as plt\n",
        "import matplotlib.dates as mdates\n",
        "\n",
        "# utils\n",
        "from random import sample\n",
        "import datetime as dt\n",
        "from collections import Counter"
      ],
      "metadata": {
        "id": "W3jtOpEw1_kb"
      },
      "execution_count": 48,
      "outputs": []
    },
    {
      "cell_type": "markdown",
      "source": [
        "## global varn & load the data"
      ],
      "metadata": {
        "id": "br0kWdUyLB_Y"
      }
    },
    {
      "cell_type": "code",
      "execution_count": 26,
      "metadata": {
        "id": "1iZaYJ271bYm"
      },
      "outputs": [],
      "source": [
        "root = '/content/drive/MyDrive/BDT SEM2/5005/'\n",
        "path = root + 'tweet_221130_221231.pkl'"
      ]
    },
    {
      "cell_type": "code",
      "source": [
        "with open(path, 'rb') as f:\n",
        "  tweets_dict = pickle.load(f)"
      ],
      "metadata": {
        "id": "7C2rRxnQ19NT"
      },
      "execution_count": 27,
      "outputs": []
    },
    {
      "cell_type": "markdown",
      "source": [
        "## Check the date range of scraped tweets"
      ],
      "metadata": {
        "id": "OvzmiDrxLWBF"
      }
    },
    {
      "cell_type": "markdown",
      "source": [
        "You can use the cells below to check date range.\n",
        "\n",
        "I just found 2022-11-30 to 2022-12-15 are missing for some reasons."
      ],
      "metadata": {
        "id": "bGFCNwrqLyN_"
      }
    },
    {
      "cell_type": "code",
      "source": [
        "\"\"\"\n",
        "My query: '(chatgpt OR #chatgpt) AND lang:en AND since:2022-11-30 AND until:2022-12-31'\n",
        "\"\"\"\n",
        "l = []\n",
        "for tid,tweet in tweets_dict.items():\n",
        "  # convert Y-M-D H:M:S to Y-M-D\n",
        "  l.append(tweet.date.strftime('%Y-%m-%d'))\n",
        "\n",
        "counter = Counter(l)\n",
        "total=0\n",
        "for d,c in counter.items():\n",
        "  total += c\n",
        "  print(d,'\\t',c)\n",
        "print(f'total:{total}')"
      ],
      "metadata": {
        "colab": {
          "base_uri": "https://localhost:8080/"
        },
        "id": "UHLOFKwI3HwV",
        "outputId": "6f0d9855-4a20-467a-b6e3-0b4c5407ebf0"
      },
      "execution_count": 76,
      "outputs": [
        {
          "output_type": "stream",
          "name": "stdout",
          "text": [
            "2022-12-30 \t 6171\n",
            "2022-12-29 \t 6570\n",
            "2022-12-28 \t 6748\n",
            "2022-12-27 \t 7452\n",
            "2022-12-26 \t 5821\n",
            "2022-12-25 \t 4203\n",
            "2022-12-24 \t 5673\n",
            "2022-12-23 \t 6978\n",
            "2022-12-22 \t 7767\n",
            "2022-12-21 \t 7859\n",
            "2022-12-20 \t 7414\n",
            "2022-12-19 \t 7275\n",
            "2022-12-18 \t 5722\n",
            "2022-12-17 \t 6592\n",
            "2022-12-16 \t 7755\n",
            "total:100000\n"
          ]
        }
      ]
    },
    {
      "cell_type": "code",
      "source": [
        "x,y = list(counter.keys()), list(counter.values())\n",
        "x.reverse()\n",
        "y.reverse()\n",
        "plt.plot(x,y,'ro-')\n",
        "plt.gcf().autofmt_xdate()\n",
        "plt.show()"
      ],
      "metadata": {
        "colab": {
          "base_uri": "https://localhost:8080/",
          "height": 273
        },
        "id": "nOzgZSPk9YQp",
        "outputId": "5e569637-9e80-4d2b-a266-a9bf22fbbd55"
      },
      "execution_count": 77,
      "outputs": [
        {
          "output_type": "display_data",
          "data": {
            "text/plain": [
              "<Figure size 432x288 with 1 Axes>"
            ],
            "image/png": "[encoded data removed]"
          },
          "metadata": {
            "needs_background": "light"
          }
        }
      ]
    },
    {
      "cell_type": "markdown",
      "source": [
        "## Sample some tweets to expore its features"
      ],
      "metadata": {
        "id": "3MYuRunGMR5J"
      }
    },
    {
      "cell_type": "code",
      "source": [
        "ids = sample(list(tweets_dict.keys()),3)\n",
        "\n",
        "print(f\"samples:{ids}\")\n",
        "\n",
        "for id in ids:\n",
        "  tweet = tweets_dict[id]\n",
        "  print(\\\n",
        "        'id\\t',tweet.id,'\\n',\\\n",
        "        'username\\t',tweet.username,'\\n',\\\n",
        "        'usr_description\\t',tweet.user.description,'\\n',\\\n",
        "        'label\\t',tweet.user.label,'\\n',\\\n",
        "        'followersCount\\t',tweet.user.followersCount,'\\n',\\\n",
        "        'friendsCount\\t',tweet.user.friendsCount,'\\n',\\\n",
        "        'statusesCount\\t',tweet.user.statusesCount,'\\n',\\\n",
        "        'favouritesCount\\t',tweet.user.favouritesCount,'\\n',\\\n",
        "        'location\\t',tweet.user.location,'\\n',\\\n",
        "        'replyCount\\t',tweet.replyCount,'\\n',\\\n",
        "        'retweetCount\\t',tweet.retweetCount,'\\n',\\\n",
        "        'likeCount\\t',tweet.likeCount,'\\n',\\\n",
        "        'quoteCount\\t',tweet.quoteCount,'\\n',\\\n",
        "        'coordinates\\t',tweet.coordinates,'\\n',\\\n",
        "        'country\\t',(tweet.place.country if tweet.place else 'None'),'\\n',\\\n",
        "        'countryCode\\t',(tweet.place.countryCode if tweet.place else 'None'),'\\n',\\\n",
        "        'hashtags\\t',tweet.hashtags,'\\n',\\\n",
        "        'cashtags\\t',tweet.cashtags,'\\n',\\\n",
        "        'viewCount\\t',tweet.viewCount,'\\n'\n",
        "        )"
      ],
      "metadata": {
        "id": "LdkLcIckAtaA"
      },
      "execution_count": null,
      "outputs": []
    },
    {
      "cell_type": "markdown",
      "source": [
        "## Num of users post tweets vs Num of tweets about chatGPT of each usr"
      ],
      "metadata": {
        "id": "SpJhYBQUMZNh"
      }
    },
    {
      "cell_type": "markdown",
      "source": [
        "only a few users post more than 100 tweets about chatGPT(during...)"
      ],
      "metadata": {
        "id": "dByQ3af2M_En"
      }
    },
    {
      "cell_type": "code",
      "source": [
        "usr = []\n",
        "for tid,tweet in tweets_dict.items():\n",
        "  usr.append(tweet.username)\n",
        "usr_counter = Counter(usr)\n",
        "ccounter = Counter(usr_counter.values())\n",
        "\n",
        "# visualize\n",
        "x,y = list(ccounter.keys()), list(ccounter.values())\n",
        "plt.loglog(x,y,'ro')\n",
        "# plt.plot(x,y,'ro')\n",
        "plt.xlabel('LogNum of tweets about chatGPT')\n",
        "plt.ylabel('LogNum of users')\n",
        "plt.show()"
      ],
      "metadata": {
        "colab": {
          "base_uri": "https://localhost:8080/",
          "height": 319
        },
        "id": "eNdPlRy6IWsD",
        "outputId": "5104d4dd-8a39-4eec-947e-144daf25dd89"
      },
      "execution_count": 72,
      "outputs": [
        {
          "output_type": "stream",
          "name": "stderr",
          "text": [
            "<ipython-input-72-9b1332fca414>:3: DeprecatedFeatureWarning: username is deprecated, use user.username instead\n",
            "  usr.append(tweet.username)\n"
          ]
        },
        {
          "output_type": "display_data",
          "data": {
            "text/plain": [
              "<Figure size 432x288 with 1 Axes>"
            ],
            "image/png": "[encoded data removed]"
          },
          "metadata": {
            "needs_background": "light"
          }
        }
      ]
    },
    {
      "cell_type": "markdown",
      "source": [
        "## Num of followers of users who talk about chatGPT vs their followerCount"
      ],
      "metadata": {
        "id": "Xz40apziM1sq"
      }
    },
    {
      "cell_type": "code",
      "source": [
        "followers = []\n",
        "for tid,tweet in tweets_dict.items():\n",
        "  followers.append(tweet.user.followersCount)\n",
        "fcounter = Counter(followers)\n",
        "ccounter = Counter(fcounter.values())\n",
        "x,y = list(ccounter.keys()), list(ccounter.values())\n",
        "plt.loglog(x,y,'ro')\n",
        "plt.xlabel('LogNum of followers of users who talk about chatGPT')\n",
        "plt.ylabel('LogNum of users')\n",
        "plt.show()"
      ],
      "metadata": {
        "colab": {
          "base_uri": "https://localhost:8080/",
          "height": 283
        },
        "id": "SdErOcs7KEME",
        "outputId": "1a5029cc-7e14-4c93-fc7e-66938f013d6c"
      },
      "execution_count": 75,
      "outputs": [
        {
          "output_type": "display_data",
          "data": {
            "text/plain": [
              "<Figure size 432x288 with 1 Axes>"
            ],
            "image/png": "[encoded data removed]"
          },
          "metadata": {
            "needs_background": "light"
          }
        }
      ]
    }
  ]
}